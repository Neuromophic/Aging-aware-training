{
 "cells": [
  {
   "cell_type": "markdown",
   "id": "e0f1319a",
   "metadata": {},
   "source": [
    "# Aging Aware with Model Variation\n",
    "Previously, we optimize the following functional:\n",
    "$$ \\min_\\theta \\, \\int_{t=0}^{1} \\; L(\\theta(t)) \\, {\\rm d}t. $$\n",
    "The optimum is for a specific aging model $\\omega$, i.e., we minimized the \n",
    "$$ \\min_\\theta \\, \\int_{t=0}^{1} \\; L(\\theta(t,\\omega)) \\, {\\rm d}t. $$\n",
    "However, we dont know how will the resistance decay, i.e., we should also minimize the loss function w.r.t. aging models with different parameters. That means we need to optimized\n",
    "$$ \\min_\\theta \\, \\int_{\\omega}\\int_{t=0}^{1} \\; L(\\theta(t,\\omega)) \\, {\\rm d}t\\, p(\\omega){\\rm d}\\omega. $$\n",
    "The Mento Carlo Approximation is then\n",
    "$$\n",
    "\\min_{\\theta_{\\rm init}} \\frac{1}{\\Omega}\\frac{1}{K}\\sum_{\\omega\\in\\mathfrak{M}}\\sum_{k\\in \\mathfrak{K} } L \\left(\\theta[k, \\omega]\\right),\n",
    "$$\n",
    "where $\\mathfrak{M}$ is the set of $\\Omega$ elements following the distribution $p(\\omega)$. $p(\\omega)$ is the distributions of parameters of the aging model. We have already obtained these distributions as we modeled the aging decay.\n",
    "\n",
    "That means we should optimize this problem by\n",
    "$$\n",
    "\\begin{align}\n",
    "\\theta_{\\rm init}&:=\\theta_{\\rm init} - \\alpha\\cdot\\nabla_{\\theta_{\\rm init}}\\left(\\frac{1}{\\Omega}\\frac{1}{K}\\sum_{\\omega\\in\\mathfrak{M}}\\sum_{k\\in \\mathfrak{K} } L \\left(\\theta[k, \\omega]\\right)\\right)\\\\\n",
    "&=\\theta_{\\rm init} - \\frac{\\alpha}{\\Omega K}\\cdot\\nabla_{\\theta_{\\rm init}}\\left(\\sum_{\\omega\\in\\mathfrak{M}}\\sum_{k\\in \\mathfrak{K} } L \\left(\\theta[k, \\omega]\\right)\\right)\\\\\n",
    "&=\\theta_{\\rm init} - \\frac{\\alpha}{\\Omega K}\\left(\\sum_{\\omega\\in\\mathfrak{M}}\\sum_{k\\in \\mathfrak{K} }\\nabla_{\\theta_{\\rm init}} L \\left(\\theta[k, \\omega]\\right)\\right)\n",
    "\\end{align}\n",
    "$$"
   ]
  },
  {
   "cell_type": "markdown",
   "id": "eab183f8",
   "metadata": {},
   "source": [
    "# Get aging model"
   ]
  },
  {
   "cell_type": "code",
   "execution_count": 1,
   "id": "0bc40b33",
   "metadata": {},
   "outputs": [],
   "source": [
    "import importlib\n",
    "import training\n",
    "from torch.autograd import Variable\n",
    "import torch\n",
    "import pickle\n",
    "import pNN_aging_aware as pnn\n",
    "import os\n",
    "import sys\n",
    "import matplotlib.pyplot as plt\n",
    "import numpy as np\n",
    "sys.path.append(os.path.join(os.getcwd(), 'Aging_Model'))\n",
    "\n",
    "with open(os.path.join(os.getcwd(), 'Aging_Model', 'exp_aging_model.p'), 'rb') as f:\n",
    "    age_generator = pickle.load(f)"
   ]
  },
  {
   "cell_type": "markdown",
   "id": "15519567",
   "metadata": {},
   "source": [
    "# Prepare data"
   ]
  },
  {
   "cell_type": "markdown",
   "id": "3f9b925b",
   "metadata": {},
   "source": [
    "## Load data"
   ]
  },
  {
   "cell_type": "code",
   "execution_count": 2,
   "id": "fd3f8c31",
   "metadata": {},
   "outputs": [
    {
     "data": {
      "text/plain": [
       "(torch.Size([10992, 16]), torch.Size([10992]), 10992, 16, 10)"
      ]
     },
     "execution_count": 2,
     "metadata": {},
     "output_type": "execute_result"
    }
   ],
   "source": [
    "datapath = os.path.join(os.getcwd(), 'Datasets', 'PMLC',\n",
    "                        'data_processed', 'Dataset_Pendigits.p')\n",
    "with open(datapath, 'rb') as f:\n",
    "    dataset = pickle.load(f)\n",
    "X = dataset['X'].float()\n",
    "y = dataset['y']\n",
    "M, N_features, N_class = X.shape[0], X.shape[1], torch.max(\n",
    "    torch.unique(y)).item()+1\n",
    "X.shape, y.shape, M, N_features, N_class"
   ]
  },
  {
   "cell_type": "markdown",
   "id": "35adbc19",
   "metadata": {},
   "source": [
    "## data preprocessing"
   ]
  },
  {
   "cell_type": "code",
   "execution_count": 3,
   "id": "ea0969cc",
   "metadata": {},
   "outputs": [
    {
     "data": {
      "text/plain": [
       "(tensor(0.), tensor(6.1658))"
      ]
     },
     "execution_count": 3,
     "metadata": {},
     "output_type": "execute_result"
    }
   ],
   "source": [
    "# normalization\n",
    "X = X / torch.std(X, axis=0)\n",
    "X = X - torch.min(X, axis=0)[0]\n",
    "torch.min(X), torch.max(X)"
   ]
  },
  {
   "cell_type": "code",
   "execution_count": 4,
   "id": "6d30ecfc",
   "metadata": {},
   "outputs": [
    {
     "data": {
      "text/plain": [
       "(6595, 2198, 2199)"
      ]
     },
     "execution_count": 4,
     "metadata": {},
     "output_type": "execute_result"
    }
   ],
   "source": [
    "from torch.utils.data import TensorDataset\n",
    "from torch.utils.data import DataLoader\n",
    "from torch.utils.data import random_split\n",
    "\n",
    "# generate tensordataset\n",
    "dataset = TensorDataset(X, y)\n",
    "\n",
    "# split\n",
    "train_rate = 0.6\n",
    "test_rate = 0.2\n",
    "M_train = int(M*train_rate)\n",
    "M_test = int(M*test_rate)\n",
    "train_data, rest_data = random_split(dataset, [M_train, M-M_train])\n",
    "test_data, valid_data = random_split(rest_data, [M_test, M-M_train-M_test])\n",
    "len(train_data), len(test_data), len(valid_data)"
   ]
  },
  {
   "cell_type": "code",
   "execution_count": 5,
   "id": "4f8988b7",
   "metadata": {},
   "outputs": [],
   "source": [
    "# batch\n",
    "train_loader = DataLoader(train_data, batch_size=32)\n",
    "test_loader = DataLoader(test_data, batch_size=len(test_data))\n",
    "valid_loader = DataLoader(valid_data, batch_size=len(valid_data))"
   ]
  },
  {
   "cell_type": "markdown",
   "id": "4ff7c1f0",
   "metadata": {},
   "source": [
    "# Definite PNN and AgingAwarePNN"
   ]
  },
  {
   "cell_type": "code",
   "execution_count": 6,
   "id": "b474bd81",
   "metadata": {},
   "outputs": [
    {
     "data": {
      "text/plain": [
       "Sequential(\n",
       "  (0): PNNLayer()\n",
       "  (1): PNNLayer()\n",
       "  (2): PNNLayer()\n",
       "  (3): PNNLayer()\n",
       ")"
      ]
     },
     "execution_count": 6,
     "metadata": {},
     "output_type": "execute_result"
    }
   ],
   "source": [
    "N_Hidden = 15\n",
    "MyAgedPNN = torch.nn.Sequential(pnn.PNNLayer(N_features, N_Hidden, age_generator),\n",
    "                                pnn.PNNLayer(N_Hidden, N_Hidden,\n",
    "                                             age_generator),\n",
    "                                pnn.PNNLayer(N_Hidden, N_Hidden,\n",
    "                                             age_generator),\n",
    "                                pnn.PNNLayer(N_Hidden, N_class, age_generator))\n",
    "K = 5  # number of time sampling\n",
    "M = 5  # number of model sampling\n",
    "optimizer_aged = torch.optim.Adam(MyAgedPNN.parameters(), lr=0.1 / M / K)\n",
    "MyAgedPNN"
   ]
  },
  {
   "cell_type": "code",
   "execution_count": 7,
   "id": "54fb68f5",
   "metadata": {},
   "outputs": [
    {
     "data": {
      "text/plain": [
       "Sequential(\n",
       "  (0): PNNLayer()\n",
       "  (1): PNNLayer()\n",
       "  (2): PNNLayer()\n",
       "  (3): PNNLayer()\n",
       ")"
      ]
     },
     "execution_count": 7,
     "metadata": {},
     "output_type": "execute_result"
    }
   ],
   "source": [
    "MyPNN = torch.nn.Sequential(pnn.PNNLayer(N_features, N_Hidden, age_generator),\n",
    "                            pnn.PNNLayer(N_Hidden, N_Hidden, age_generator),\n",
    "                            pnn.PNNLayer(N_Hidden, N_Hidden, age_generator),\n",
    "                            pnn.PNNLayer(N_Hidden, N_class, age_generator))\n",
    "optimizer = torch.optim.Adam(MyPNN.parameters(), lr=0.01)\n",
    "MyPNN"
   ]
  },
  {
   "cell_type": "code",
   "execution_count": 8,
   "id": "dad7a335",
   "metadata": {},
   "outputs": [
    {
     "data": {
      "text/plain": [
       "Sequential(\n",
       "  (0): Linear(in_features=16, out_features=15, bias=True)\n",
       "  (1): Tanh()\n",
       "  (2): Linear(in_features=15, out_features=15, bias=True)\n",
       "  (3): Tanh()\n",
       "  (4): Linear(in_features=15, out_features=15, bias=True)\n",
       "  (5): Tanh()\n",
       "  (6): Linear(in_features=15, out_features=10, bias=True)\n",
       ")"
      ]
     },
     "execution_count": 8,
     "metadata": {},
     "output_type": "execute_result"
    }
   ],
   "source": [
    "NN = torch.nn.Sequential(torch.nn.Linear(N_features, N_Hidden), torch.nn.Tanh(),\n",
    "                         torch.nn.Linear(N_Hidden, N_Hidden), torch.nn.Tanh(),\n",
    "                         torch.nn.Linear(N_Hidden, N_Hidden), torch.nn.Tanh(),\n",
    "                         torch.nn.Linear(N_Hidden, N_class))\n",
    "\n",
    "optimizer_NN = torch.optim.Adam(NN.parameters(), lr=0.005)\n",
    "celoss = torch.nn.CrossEntropyLoss()\n",
    "NN"
   ]
  },
  {
   "cell_type": "markdown",
   "id": "aab39a6e",
   "metadata": {},
   "source": [
    "# Normal NN"
   ]
  },
  {
   "cell_type": "code",
   "execution_count": 9,
   "id": "67c5909d",
   "metadata": {},
   "outputs": [
    {
     "data": {
      "application/vnd.jupyter.widget-view+json": {
       "model_id": "454b22a297ea4b07987623091da82450",
       "version_major": 2,
       "version_minor": 0
      },
      "text/plain": [
       "  0%|          | 0/200 [00:00<?, ?it/s]"
      ]
     },
     "metadata": {},
     "output_type": "display_data"
    },
    {
     "name": "stdout",
     "output_type": "stream",
     "text": [
      "| Epoch:     0 | Accuracy: 0.86852 | Loss: 0.10623 |\n",
      "| Epoch:    10 | Accuracy: 0.97634 | Loss: 0.01202 |\n",
      "| Epoch:    20 | Accuracy: 0.97998 | Loss: 0.00168 |\n",
      "| Epoch:    30 | Accuracy: 0.98180 | Loss: 0.00067 |\n",
      "| Epoch:    40 | Accuracy: 0.98772 | Loss: 0.00157 |\n",
      "| Epoch:    50 | Accuracy: 0.98726 | Loss: 0.00223 |\n",
      "| Epoch:    60 | Accuracy: 0.98681 | Loss: 0.00056 |\n",
      "| Epoch:    70 | Accuracy: 0.98408 | Loss: 0.00042 |\n",
      "| Epoch:    80 | Accuracy: 0.98453 | Loss: 0.00017 |\n",
      "| Epoch:    90 | Accuracy: 0.98408 | Loss: 0.00058 |\n",
      "| Epoch:   100 | Accuracy: 0.97270 | Loss: 0.00107 |\n",
      "| Epoch:   110 | Accuracy: 0.97771 | Loss: 0.00144 |\n",
      "| Epoch:   120 | Accuracy: 0.98362 | Loss: 0.00022 |\n",
      "| Epoch:   130 | Accuracy: 0.98772 | Loss: 0.00009 |\n",
      "| Epoch:   140 | Accuracy: 0.98408 | Loss: 0.00115 |\n",
      "| Epoch:   150 | Accuracy: 0.98453 | Loss: 0.00516 |\n",
      "| Epoch:   160 | Accuracy: 0.98135 | Loss: 0.00006 |\n",
      "| Epoch:   170 | Accuracy: 0.98044 | Loss: 0.00046 |\n",
      "| Epoch:   180 | Accuracy: 0.98590 | Loss: 0.00090 |\n",
      "| Epoch:   190 | Accuracy: 0.98408 | Loss: 0.00007 |\n"
     ]
    }
   ],
   "source": [
    "from tqdm.notebook import tqdm\n",
    "for epoch in tqdm(range(200)):\n",
    "    for x_temp, y_temp in train_loader:\n",
    "        optimizer_NN.zero_grad()\n",
    "        prediction = NN(x_temp)\n",
    "        loss = celoss(prediction, y_temp)\n",
    "        loss.backward()\n",
    "        optimizer_NN.step()\n",
    "\n",
    "    for x_valid, y_valid in test_loader:\n",
    "        prediction_valid = NN(x_valid)\n",
    "        p = torch.argmax(prediction_valid, 1)\n",
    "        pred_y = p.data.numpy().squeeze()\n",
    "        acc_valid = sum(pred_y == y_valid.numpy()) / y_valid.shape[0]\n",
    "        loss_valid = celoss(prediction, y_temp)\n",
    "    if epoch % 10 == 0:\n",
    "        print(f'| Epoch: {epoch:-5d} | Accuracy: {acc_valid:.5f} | Loss: {loss_valid.data:.5f} |')"
   ]
  },
  {
   "cell_type": "markdown",
   "id": "4d346973",
   "metadata": {},
   "source": [
    "# Normal PNN"
   ]
  },
  {
   "cell_type": "markdown",
   "id": "4cb1a1db",
   "metadata": {},
   "source": [
    "## Train"
   ]
  },
  {
   "cell_type": "code",
   "execution_count": 10,
   "id": "e46c715e",
   "metadata": {},
   "outputs": [
    {
     "name": "stdout",
     "output_type": "stream",
     "text": [
      "| Epoch:     0 | Accuracy: 0.62466 | Loss: 0.60312 |\n",
      "| Epoch:     1 | Accuracy: 0.79436 | Loss: 0.42603 |\n",
      "| Epoch:     2 | Accuracy: 0.83712 | Loss: 0.31235 |\n",
      "| Epoch:     3 | Accuracy: 0.86988 | Loss: 0.22320 |\n",
      "| Epoch:     4 | Accuracy: 0.88990 | Loss: 0.18869 |\n",
      "| Epoch:     5 | Accuracy: 0.89900 | Loss: 0.16659 |\n",
      "| Epoch:     6 | Accuracy: 0.90127 | Loss: 0.16105 |\n",
      "| Epoch:     7 | Accuracy: 0.90992 | Loss: 0.13897 |\n",
      "| Epoch:     8 | Accuracy: 0.92630 | Loss: 0.13000 |\n",
      "| Epoch:     9 | Accuracy: 0.93676 | Loss: 0.11078 |\n",
      "| Epoch:    10 | Accuracy: 0.93358 | Loss: 0.11329 |\n",
      "| Epoch:    11 | Accuracy: 0.94040 | Loss: 0.10215 |\n",
      "| Epoch:    12 | Accuracy: 0.94177 | Loss: 0.10160 |\n",
      "| Epoch:    13 | Accuracy: 0.94586 | Loss: 0.09772 |\n",
      "| Epoch:    14 | Accuracy: 0.93631 | Loss: 0.11033 |\n",
      "| Epoch:    15 | Accuracy: 0.94040 | Loss: 0.10346 |\n",
      "| Epoch:    16 | Accuracy: 0.94359 | Loss: 0.09646 |\n",
      "| Epoch:    17 | Accuracy: 0.94995 | Loss: 0.08816 |\n",
      "| Epoch:    18 | Accuracy: 0.94040 | Loss: 0.09689 |\n",
      "| Epoch:    19 | Accuracy: 0.94631 | Loss: 0.09049 |\n",
      "| Epoch:    20 | Accuracy: 0.94768 | Loss: 0.08855 |\n",
      "| Epoch:    21 | Accuracy: 0.94722 | Loss: 0.09213 |\n",
      "| Epoch:    22 | Accuracy: 0.94404 | Loss: 0.09259 |\n",
      "| Epoch:    23 | Accuracy: 0.93995 | Loss: 0.09462 |\n",
      "| Epoch:    24 | Accuracy: 0.95177 | Loss: 0.08074 |\n",
      "| Epoch:    25 | Accuracy: 0.94813 | Loss: 0.08272 |\n",
      "| Epoch:    26 | Accuracy: 0.94950 | Loss: 0.08216 |\n",
      "| Epoch:    27 | Accuracy: 0.95132 | Loss: 0.07882 |\n",
      "| Epoch:    28 | Accuracy: 0.95086 | Loss: 0.08086 |\n",
      "| Epoch:    29 | Accuracy: 0.94904 | Loss: 0.08390 |\n",
      "| Epoch:    30 | Accuracy: 0.95132 | Loss: 0.08280 |\n",
      "| Epoch:    31 | Accuracy: 0.95086 | Loss: 0.08025 |\n",
      "| Epoch:    32 | Accuracy: 0.95541 | Loss: 0.07748 |\n",
      "| Epoch:    33 | Accuracy: 0.95132 | Loss: 0.07931 |\n",
      "| Epoch:    34 | Accuracy: 0.95086 | Loss: 0.07981 |\n",
      "| Epoch:    35 | Accuracy: 0.94404 | Loss: 0.08959 |\n",
      "| Epoch:    36 | Accuracy: 0.95541 | Loss: 0.07130 |\n",
      "| Epoch:    37 | Accuracy: 0.95405 | Loss: 0.07778 |\n",
      "| Epoch:    38 | Accuracy: 0.95223 | Loss: 0.07983 |\n",
      "| Epoch:    39 | Accuracy: 0.95405 | Loss: 0.07787 |\n",
      "| Epoch:    40 | Accuracy: 0.95405 | Loss: 0.07743 |\n",
      "| Epoch:    41 | Accuracy: 0.94813 | Loss: 0.08859 |\n",
      "| Epoch:    42 | Accuracy: 0.95405 | Loss: 0.07573 |\n",
      "| Epoch:    43 | Accuracy: 0.95496 | Loss: 0.07294 |\n",
      "| Epoch:    44 | Accuracy: 0.95860 | Loss: 0.07040 |\n",
      "| Epoch:    45 | Accuracy: 0.95314 | Loss: 0.07397 |\n",
      "| Epoch:    46 | Accuracy: 0.95723 | Loss: 0.07511 |\n",
      "| Epoch:    47 | Accuracy: 0.95223 | Loss: 0.08160 |\n",
      "| Epoch:    48 | Accuracy: 0.95086 | Loss: 0.08438 |\n",
      "| Epoch:    49 | Accuracy: 0.95359 | Loss: 0.08070 |\n",
      "| Epoch:    50 | Accuracy: 0.93858 | Loss: 0.09848 |\n",
      "| Epoch:    51 | Accuracy: 0.95723 | Loss: 0.07901 |\n",
      "| Epoch:    52 | Accuracy: 0.95860 | Loss: 0.07784 |\n",
      "| Epoch:    53 | Accuracy: 0.95132 | Loss: 0.08035 |\n",
      "| Epoch:    54 | Accuracy: 0.96224 | Loss: 0.07393 |\n",
      "| Epoch:    55 | Accuracy: 0.95177 | Loss: 0.08312 |\n",
      "| Epoch:    56 | Accuracy: 0.95769 | Loss: 0.07916 |\n",
      "| Epoch:    57 | Accuracy: 0.95541 | Loss: 0.08314 |\n",
      "| Epoch:    58 | Accuracy: 0.95541 | Loss: 0.08253 |\n",
      "| Epoch:    59 | Accuracy: 0.95314 | Loss: 0.09015 |\n",
      "| Epoch:    60 | Accuracy: 0.96178 | Loss: 0.06970 |\n",
      "| Epoch:    61 | Accuracy: 0.95860 | Loss: 0.07517 |\n",
      "| Epoch:    62 | Accuracy: 0.95587 | Loss: 0.07606 |\n",
      "| Epoch:    63 | Accuracy: 0.95541 | Loss: 0.08097 |\n",
      "| Epoch:    64 | Accuracy: 0.94904 | Loss: 0.09440 |\n",
      "| Epoch:    65 | Accuracy: 0.95314 | Loss: 0.07985 |\n",
      "| Epoch:    66 | Accuracy: 0.95541 | Loss: 0.07996 |\n",
      "| Epoch:    67 | Accuracy: 0.95541 | Loss: 0.07879 |\n",
      "| Epoch:    68 | Accuracy: 0.95450 | Loss: 0.08293 |\n",
      "| Epoch:    69 | Accuracy: 0.96042 | Loss: 0.07401 |\n",
      "| Epoch:    70 | Accuracy: 0.95678 | Loss: 0.08174 |\n",
      "| Epoch:    71 | Accuracy: 0.95405 | Loss: 0.07960 |\n",
      "| Epoch:    72 | Accuracy: 0.96133 | Loss: 0.07271 |\n",
      "| Epoch:    73 | Accuracy: 0.95996 | Loss: 0.07449 |\n",
      "| Epoch:    74 | Accuracy: 0.95860 | Loss: 0.07571 |\n",
      "| Epoch:    75 | Accuracy: 0.95951 | Loss: 0.07627 |\n",
      "| Epoch:    76 | Accuracy: 0.95951 | Loss: 0.07535 |\n",
      "| Epoch:    77 | Accuracy: 0.95814 | Loss: 0.07616 |\n",
      "| Epoch:    78 | Accuracy: 0.96542 | Loss: 0.06530 |\n",
      "| Epoch:    79 | Accuracy: 0.94586 | Loss: 0.09696 |\n",
      "Finished.\n"
     ]
    }
   ],
   "source": [
    "m = 0.3\n",
    "T = 0.1\n",
    "myloss, myparameter = training.train_normal_pnn(\n",
    "    MyPNN, train_loader, test_loader, m, T, optimizer, 500)"
   ]
  },
  {
   "cell_type": "markdown",
   "id": "61e79569",
   "metadata": {},
   "source": [
    "## Early Stop"
   ]
  },
  {
   "cell_type": "code",
   "execution_count": 11,
   "id": "c9678c3e",
   "metadata": {},
   "outputs": [
    {
     "data": {
      "text/plain": [
       "tensor(0.0653)"
      ]
     },
     "execution_count": 11,
     "metadata": {},
     "output_type": "execute_result"
    },
    {
     "data": {
      "image/png": "[encoded data removed]",
      "text/plain": [
       "<Figure size 432x288 with 1 Axes>"
      ]
     },
     "metadata": {
      "needs_background": "light"
     },
     "output_type": "display_data"
    }
   ],
   "source": [
    "plt.plot(myloss)\n",
    "best = np.argmin(myloss)\n",
    "MyPNN.load_state_dict(myparameter[best])\n",
    "prediction_valid = MyPNN(x_valid)\n",
    "loss_valid = pnn.LossFunction(prediction_valid, y_valid, m, T)\n",
    "loss_valid.data"
   ]
  },
  {
   "cell_type": "markdown",
   "id": "406d739d",
   "metadata": {},
   "source": [
    "# Aging Aware PNN with Model Variation"
   ]
  },
  {
   "cell_type": "markdown",
   "id": "385e791c",
   "metadata": {},
   "source": [
    "## Train"
   ]
  },
  {
   "cell_type": "code",
   "execution_count": null,
   "id": "dca70484",
   "metadata": {
    "scrolled": true
   },
   "outputs": [
    {
     "name": "stdout",
     "output_type": "stream",
     "text": [
      "| Epoch:     0 | Accuracy: 0.09600 | Loss: 1.39444 |\n",
      "| Epoch:     1 | Accuracy: 0.09600 | Loss: 1.39737 |\n",
      "| Epoch:     2 | Accuracy: 0.09015 | Loss: 1.36158 |\n",
      "| Epoch:     3 | Accuracy: 0.19642 | Loss: 1.07451 |\n",
      "| Epoch:     4 | Accuracy: 0.23938 | Loss: 1.08105 |\n",
      "| Epoch:     5 | Accuracy: 0.27794 | Loss: 0.97450 |\n",
      "| Epoch:     6 | Accuracy: 0.29800 | Loss: 0.92573 |\n",
      "| Epoch:     7 | Accuracy: 0.30286 | Loss: 0.96673 |\n",
      "| Epoch:     8 | Accuracy: 0.33991 | Loss: 0.92250 |\n",
      "| Epoch:     9 | Accuracy: 0.35538 | Loss: 0.90445 |\n",
      "| Epoch:    10 | Accuracy: 0.39639 | Loss: 0.83407 |\n",
      "| Epoch:    11 | Accuracy: 0.40027 | Loss: 0.83334 |\n",
      "| Epoch:    12 | Accuracy: 0.41621 | Loss: 0.83228 |\n",
      "| Epoch:    13 | Accuracy: 0.42902 | Loss: 0.85090 |\n",
      "| Epoch:    14 | Accuracy: 0.44571 | Loss: 0.80123 |\n",
      "| Epoch:    15 | Accuracy: 0.46187 | Loss: 0.78661 |\n",
      "| Epoch:    16 | Accuracy: 0.48664 | Loss: 0.75086 |\n",
      "| Epoch:    17 | Accuracy: 0.46960 | Loss: 0.79217 |\n",
      "| Epoch:    18 | Accuracy: 0.48543 | Loss: 0.74230 |\n",
      "| Epoch:    19 | Accuracy: 0.51531 | Loss: 0.72262 |\n",
      "| Epoch:    20 | Accuracy: 0.47808 | Loss: 0.79171 |\n",
      "| Epoch:    21 | Accuracy: 0.52099 | Loss: 0.74036 |\n",
      "| Epoch:    22 | Accuracy: 0.54482 | Loss: 0.73515 |\n",
      "| Epoch:    23 | Accuracy: 0.54605 | Loss: 0.69014 |\n",
      "| Epoch:    24 | Accuracy: 0.54713 | Loss: 0.69397 |\n",
      "| Epoch:    25 | Accuracy: 0.55187 | Loss: 0.72377 |\n",
      "| Epoch:    26 | Accuracy: 0.56631 | Loss: 0.68572 |\n",
      "| Epoch:    27 | Accuracy: 0.62389 | Loss: 0.61538 |\n",
      "| Epoch:    28 | Accuracy: 0.63626 | Loss: 0.59918 |\n",
      "| Epoch:    29 | Accuracy: 0.69646 | Loss: 0.56728 |\n",
      "| Epoch:    30 | Accuracy: 0.69704 | Loss: 0.54550 |\n",
      "| Epoch:    31 | Accuracy: 0.71239 | Loss: 0.52731 |\n",
      "| Epoch:    32 | Accuracy: 0.70213 | Loss: 0.52863 |\n",
      "| Epoch:    33 | Accuracy: 0.73032 | Loss: 0.49151 |\n",
      "| Epoch:    34 | Accuracy: 0.71712 | Loss: 0.51734 |\n",
      "| Epoch:    35 | Accuracy: 0.70668 | Loss: 0.54513 |\n",
      "| Epoch:    36 | Accuracy: 0.72049 | Loss: 0.51925 |\n",
      "| Epoch:    37 | Accuracy: 0.74233 | Loss: 0.47685 |\n",
      "| Epoch:    38 | Accuracy: 0.72405 | Loss: 0.50540 |\n",
      "| Epoch:    39 | Accuracy: 0.71615 | Loss: 0.49575 |\n",
      "| Epoch:    40 | Accuracy: 0.74156 | Loss: 0.49321 |\n",
      "| Epoch:    41 | Accuracy: 0.72130 | Loss: 0.49959 |\n",
      "| Epoch:    42 | Accuracy: 0.74254 | Loss: 0.47709 |\n",
      "| Epoch:    43 | Accuracy: 0.76488 | Loss: 0.43745 |\n",
      "| Epoch:    44 | Accuracy: 0.73816 | Loss: 0.48315 |\n"
     ]
    }
   ],
   "source": [
    "m = 0.3\n",
    "T = 0.1\n",
    "myloss_aged, myparameter_aged = training.train_aged_pnn(MyAgedPNN,\n",
    "                                                        train_loader, test_loader,\n",
    "                                                        m, T, M, K, optimizer_aged, 500)"
   ]
  },
  {
   "cell_type": "markdown",
   "id": "9bb9444d",
   "metadata": {},
   "source": [
    "## Early Stop"
   ]
  },
  {
   "cell_type": "code",
   "execution_count": null,
   "id": "32e9e157",
   "metadata": {},
   "outputs": [],
   "source": [
    "plt.plot(myloss_aged)\n",
    "best_aged = np.argmin(myloss_aged)\n",
    "MyAgedPNN.load_state_dict(myparameter_aged[best_aged])\n",
    "best_aged"
   ]
  },
  {
   "cell_type": "markdown",
   "id": "8058c682",
   "metadata": {},
   "source": [
    "# Save and Read"
   ]
  },
  {
   "cell_type": "code",
   "execution_count": null,
   "id": "4593d69e",
   "metadata": {},
   "outputs": [],
   "source": [
    "# torch.save(MyPNN, f'./simpleclassification/MyPNN_{N_Layer}_{N_Hidden}.pkl')\n",
    "# torch.save(MyAgedPNN, f'./simpleclassification/MyAgedPNN_{N_Layer}_{N_Hidden}.pkl')"
   ]
  },
  {
   "cell_type": "code",
   "execution_count": null,
   "id": "37ab99f3",
   "metadata": {},
   "outputs": [],
   "source": [
    "# MyPNN = torch.load('/simpleclassification/MyPNN.pkl')\n",
    "# MyAgedPNN = torch.load('/simpleclassification/MyAgedPNN.pkl')"
   ]
  },
  {
   "cell_type": "markdown",
   "id": "c63b2d08",
   "metadata": {},
   "source": [
    "# Evaluation\n",
    "Evaluate two NNs with 1000 different aging models and over time."
   ]
  },
  {
   "cell_type": "markdown",
   "id": "8a5ef1e4",
   "metadata": {},
   "source": [
    "## Test"
   ]
  },
  {
   "cell_type": "code",
   "execution_count": null,
   "id": "c7fdc2c8",
   "metadata": {},
   "outputs": [],
   "source": [
    "import evaluation\n",
    "import importlib\n",
    "importlib.reload(evaluation)\n",
    "\n",
    "test_time = np.linspace(0, 1, 100)\n",
    "my_aged_acc = []\n",
    "my_acc = []\n",
    "my_aged_maa = []\n",
    "my_maa = []\n",
    "\n",
    "for omega in range(1000):\n",
    "    for l in MyAgedPNN:\n",
    "        l.generate_aging_model()\n",
    "    for l in MyPNN:\n",
    "        l.generate_aging_model()\n",
    "    for test_t in test_time:\n",
    "        for i in MyAgedPNN:\n",
    "            i.t = test_t\n",
    "        for i in MyPNN:\n",
    "            i.t = test_t\n",
    "\n",
    "        my_aged_acc.append(evaluation.basic(MyAgedPNN, x_valid, y_valid))\n",
    "        my_acc.append(evaluation.basic(MyPNN, x_valid, y_valid))\n",
    "\n",
    "        my_aged_maa.append(evaluation.maa(MyAgedPNN, x_valid, y_valid))\n",
    "        my_maa.append(evaluation.maa(MyPNN, x_valid, y_valid))\n",
    "    if omega % 10 == 0:\n",
    "        print(f'evaluating on the {omega}-th model.')"
   ]
  },
  {
   "cell_type": "code",
   "execution_count": null,
   "id": "a667c119",
   "metadata": {},
   "outputs": [],
   "source": [
    "my_acc = np.array(my_acc).reshape([1000, 100])\n",
    "my_aged_acc = np.array(my_aged_acc).reshape([1000, 100])\n",
    "\n",
    "mean_acc = np.mean(my_acc, axis=0).flatten()\n",
    "mean_aged_acc = np.mean(my_aged_acc, axis=0).flatten()\n",
    "\n",
    "std_acc = np.std(my_acc, axis=0).flatten()\n",
    "std_aged_acc = np.std(my_aged_acc, axis=0).flatten()"
   ]
  },
  {
   "cell_type": "markdown",
   "id": "cbd6e055",
   "metadata": {},
   "source": [
    "## Visualization"
   ]
  },
  {
   "cell_type": "code",
   "execution_count": null,
   "id": "5705dca2",
   "metadata": {},
   "outputs": [],
   "source": [
    "plt.fill_between(test_time, mean_aged_acc-std_aged_acc,\n",
    "                 mean_aged_acc+std_aged_acc, alpha=0.3, color='red')\n",
    "plt.fill_between(test_time, mean_acc-std_acc, mean_acc +\n",
    "                 std_acc, alpha=0.3, color='blue')\n",
    "plt.plot(test_time, mean_aged_acc, label='aging aware', color='red')\n",
    "plt.plot(test_time, mean_acc, label='previous', color='blue')\n",
    "plt.xlabel('normalized time')\n",
    "plt.ylabel('basic accuracy')\n",
    "plt.xlim([0, 1])\n",
    "plt.legend()"
   ]
  },
  {
   "cell_type": "code",
   "execution_count": null,
   "id": "5b2d318b",
   "metadata": {},
   "outputs": [],
   "source": [
    "my_maa = np.array(my_maa).reshape([1000, 100])\n",
    "my_aged_maa = np.array(my_aged_maa).reshape([1000, 100])\n",
    "\n",
    "mean_maa = np.mean(my_maa, axis=0).flatten()\n",
    "mean_aged_maa = np.mean(my_aged_maa, axis=0).flatten()\n",
    "\n",
    "std_maa = np.std(my_maa, axis=0).flatten()\n",
    "std_aged_maa = np.std(my_aged_maa, axis=0).flatten()"
   ]
  },
  {
   "cell_type": "code",
   "execution_count": null,
   "id": "8514e368",
   "metadata": {},
   "outputs": [],
   "source": [
    "plt.fill_between(test_time, mean_aged_maa-std_aged_maa,\n",
    "                 mean_aged_maa+std_aged_maa, alpha=0.3, color='red')\n",
    "plt.fill_between(test_time, mean_maa-std_maa, mean_acc +\n",
    "                 std_maa, alpha=0.3, color='blue')\n",
    "plt.plot(test_time, mean_aged_maa, label='aging aware', color='red')\n",
    "plt.plot(test_time, mean_maa, label='previous', color='blue')\n",
    "plt.xlabel('normalized time')\n",
    "plt.ylabel('measure aware accuracy')\n",
    "plt.xlim([0, 1])\n",
    "plt.legend()"
   ]
  }
 ],
 "metadata": {
  "kernelspec": {
   "display_name": "Python 3",
   "language": "python",
   "name": "python3"
  },
  "language_info": {
   "codemirror_mode": {
    "name": "ipython",
    "version": 3
   },
   "file_extension": ".py",
   "mimetype": "text/x-python",
   "name": "python",
   "nbconvert_exporter": "python",
   "pygments_lexer": "ipython3",
   "version": "3.8.9"
  },
  "toc": {
   "base_numbering": 1,
   "nav_menu": {},
   "number_sections": true,
   "sideBar": true,
   "skip_h1_title": false,
   "title_cell": "Table of Contents",
   "title_sidebar": "Contents",
   "toc_cell": false,
   "toc_position": {},
   "toc_section_display": true,
   "toc_window_display": true
  }
 },
 "nbformat": 4,
 "nbformat_minor": 5
}
