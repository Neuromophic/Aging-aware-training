{
 "cells": [
  {
   "cell_type": "markdown",
   "id": "e0f1319a",
   "metadata": {},
   "source": [
    "# Aging Aware with Model Variation\n",
    "Previously, we optimize the following functional:\n",
    "$$ \\min_\\theta \\, \\int_{t=0}^{1} \\; L(\\theta(t)) \\, {\\rm d}t. $$\n",
    "The optimum is for a specific aging model $\\omega$, i.e., we minimized the \n",
    "$$ \\min_\\theta \\, \\int_{t=0}^{1} \\; L(\\theta(t,\\omega)) \\, {\\rm d}t. $$\n",
    "However, we dont know how will the resistance decay, i.e., we should also minimize the loss function w.r.t. aging models with different parameters. That means we need to optimized\n",
    "$$ \\min_\\theta \\, \\int_{\\omega}\\int_{t=0}^{1} \\; L(\\theta(t,\\omega)) \\, {\\rm d}t\\, p(\\omega){\\rm d}\\omega. $$\n",
    "The Mento Carlo Approximation is then\n",
    "$$\n",
    "\\min_{\\theta_{\\rm init}} \\frac{1}{\\Omega}\\frac{1}{K}\\sum_{\\omega\\in\\mathfrak{M}}\\sum_{k\\in \\mathfrak{K} } L \\left(\\theta[k, \\omega]\\right),\n",
    "$$\n",
    "where $\\mathfrak{M}$ is the set of $\\Omega$ elements following the distribution $p(\\omega)$. $p(\\omega)$ is the distributions of parameters of the aging model. We have already obtained these distributions as we modeled the aging decay.\n",
    "\n",
    "That means we should optimize this problem by\n",
    "$$\n",
    "\\begin{align}\n",
    "\\theta_{\\rm init}&:=\\theta_{\\rm init} - \\alpha\\cdot\\nabla_{\\theta_{\\rm init}}\\left(\\frac{1}{\\Omega}\\frac{1}{K}\\sum_{\\omega\\in\\mathfrak{M}}\\sum_{k\\in \\mathfrak{K} } L \\left(\\theta[k, \\omega]\\right)\\right)\\\\\n",
    "&=\\theta_{\\rm init} - \\frac{\\alpha}{\\Omega K}\\cdot\\nabla_{\\theta_{\\rm init}}\\left(\\sum_{\\omega\\in\\mathfrak{M}}\\sum_{k\\in \\mathfrak{K} } L \\left(\\theta[k, \\omega]\\right)\\right)\\\\\n",
    "&=\\theta_{\\rm init} - \\frac{\\alpha}{\\Omega K}\\left(\\sum_{\\omega\\in\\mathfrak{M}}\\sum_{k\\in \\mathfrak{K} }\\nabla_{\\theta_{\\rm init}} L \\left(\\theta[k, \\omega]\\right)\\right)\n",
    "\\end{align}\n",
    "$$"
   ]
  },
  {
   "cell_type": "markdown",
   "id": "eab183f8",
   "metadata": {},
   "source": [
    "# Get aging model"
   ]
  },
  {
   "cell_type": "code",
   "execution_count": 1,
   "id": "0bc40b33",
   "metadata": {},
   "outputs": [],
   "source": [
    "import importlib\n",
    "import training\n",
    "from torch.autograd import Variable\n",
    "import torch\n",
    "import pickle\n",
    "import pNN_aging_aware as pnn\n",
    "import os\n",
    "import random\n",
    "import sys\n",
    "import matplotlib.pyplot as plt\n",
    "import numpy as np\n",
    "import config\n",
    "import PNN_Setting as ps\n",
    "sys.path.append(os.path.join(os.getcwd(), 'Aging_Model'))\n",
    "\n",
    "with open(os.path.join(os.getcwd(), 'Aging_Model', 'exp_aging_model.p'), 'rb') as f:\n",
    "    age_generator = pickle.load(f)"
   ]
  },
  {
   "cell_type": "markdown",
   "id": "15519567",
   "metadata": {},
   "source": [
    "# Prepare data"
   ]
  },
  {
   "cell_type": "markdown",
   "id": "3f9b925b",
   "metadata": {},
   "source": [
    "## Load data"
   ]
  },
  {
   "cell_type": "code",
   "execution_count": 2,
   "id": "fd3f8c31",
   "metadata": {},
   "outputs": [
    {
     "data": {
      "text/plain": [
       "(torch.Size([210, 7]), torch.Size([210]), 210, 7, 3)"
      ]
     },
     "execution_count": 2,
     "metadata": {},
     "output_type": "execute_result"
    }
   ],
   "source": [
    "datapath = os.path.join(os.getcwd(), 'Datasets',\n",
    "                        'dataset_processed', f'Dataset_Seeds.p')\n",
    "with open(datapath, 'rb') as f:\n",
    "    dataset = pickle.load(f)\n",
    "X = dataset['X'].float()\n",
    "y = dataset['y']\n",
    "\n",
    "E, N_features, N_class = X.shape[0], X.shape[1], torch.max(torch.unique(y)).item()+1\n",
    "X.shape, y.shape, E, N_features, N_class"
   ]
  },
  {
   "cell_type": "markdown",
   "id": "35adbc19",
   "metadata": {},
   "source": [
    "## data preprocessing"
   ]
  },
  {
   "cell_type": "code",
   "execution_count": 3,
   "id": "ea0969cc",
   "metadata": {},
   "outputs": [
    {
     "data": {
      "text/plain": [
       "(tensor(0.), tensor(1.))"
      ]
     },
     "execution_count": 3,
     "metadata": {},
     "output_type": "execute_result"
    }
   ],
   "source": [
    "# normalization\n",
    "X = X / (torch.max(X, axis=0)[0] - torch.min(X, axis=0)[0])\n",
    "X = X - torch.min(X, axis=0)[0]\n",
    "torch.min(X), torch.max(X)"
   ]
  },
  {
   "cell_type": "code",
   "execution_count": 4,
   "id": "6d30ecfc",
   "metadata": {},
   "outputs": [
    {
     "data": {
      "text/plain": [
       "(126, 42, 42)"
      ]
     },
     "execution_count": 4,
     "metadata": {},
     "output_type": "execute_result"
    }
   ],
   "source": [
    "from torch.utils.data import TensorDataset\n",
    "from torch.utils.data import DataLoader\n",
    "from torch.utils.data import random_split\n",
    "\n",
    "# generate tensordataset\n",
    "dataset = TensorDataset(X, y)\n",
    "\n",
    "# split\n",
    "train_rate = 0.6\n",
    "valid_rate = 0.2\n",
    "test_rate = 0.2\n",
    "E_train = min(8192, int(E*train_rate))\n",
    "E_valid = min(2048, int(E*valid_rate))\n",
    "E_test = min(2048, int(E*test_rate))\n",
    "\n",
    "random.seed(config.data_split_seed);\n",
    "np.random.seed(config.data_split_seed);\n",
    "torch.manual_seed(config.data_split_seed);\n",
    "\n",
    "train_data, rest_data = random_split(dataset, [E_train, E-E_train])\n",
    "valid_data, rest_data = random_split(rest_data, [E_valid, E-E_train-E_test])\n",
    "test_data, rest_data = random_split(rest_data, [E_test, E-E_train-E_test-E_valid])\n",
    "\n",
    "len(train_data), len(valid_data), len(test_data)"
   ]
  },
  {
   "cell_type": "code",
   "execution_count": 5,
   "id": "4f8988b7",
   "metadata": {},
   "outputs": [],
   "source": [
    "# batch\n",
    "train_loader = DataLoader(train_data, batch_size=len(train_data))\n",
    "valid_loader = DataLoader(valid_data, batch_size=len(valid_data))\n",
    "test_loader = DataLoader(test_data, batch_size=len(test_data))"
   ]
  },
  {
   "cell_type": "markdown",
   "id": "4ff7c1f0",
   "metadata": {},
   "source": [
    "# Definite PNN and AgingAwarePNN"
   ]
  },
  {
   "cell_type": "code",
   "execution_count": 6,
   "id": "b474bd81",
   "metadata": {},
   "outputs": [
    {
     "ename": "AttributeError",
     "evalue": "module 'torch' has no attribute 'theta'",
     "output_type": "error",
     "traceback": [
      "\u001b[0;31m---------------------------------------------------------------------------\u001b[0m",
      "\u001b[0;31mAttributeError\u001b[0m                            Traceback (most recent call last)",
      "Input \u001b[0;32mIn [6]\u001b[0m, in \u001b[0;36m<cell line: 2>\u001b[0;34m()\u001b[0m\n\u001b[1;32m      1\u001b[0m N_Hidden \u001b[38;5;241m=\u001b[39m \u001b[38;5;241m4\u001b[39m\n\u001b[0;32m----> 2\u001b[0m AAPNN \u001b[38;5;241m=\u001b[39m torch\u001b[38;5;241m.\u001b[39mnn\u001b[38;5;241m.\u001b[39mSequential(\u001b[43mpnn\u001b[49m\u001b[38;5;241;43m.\u001b[39;49m\u001b[43mPNNLayer\u001b[49m\u001b[43m(\u001b[49m\u001b[43mN_features\u001b[49m\u001b[43m,\u001b[49m\u001b[43m \u001b[49m\u001b[43mN_Hidden\u001b[49m\u001b[43m,\u001b[49m\u001b[43m \u001b[49m\u001b[43mage_generator\u001b[49m\u001b[43m)\u001b[49m,\n\u001b[1;32m      3\u001b[0m                                 pnn\u001b[38;5;241m.\u001b[39mPNNLayer(N_Hidden, N_class, age_generator))\n\u001b[1;32m      4\u001b[0m M_train \u001b[38;5;241m=\u001b[39m \u001b[38;5;241m10\u001b[39m\n\u001b[1;32m      5\u001b[0m K_train \u001b[38;5;241m=\u001b[39m \u001b[38;5;241m5\u001b[39m\n",
      "File \u001b[0;32m~/Desktop/TECO/0_Archiv/Finished/7_AgingAware/Aging-aware-training/pNN_aging_aware.py:21\u001b[0m, in \u001b[0;36mPNNLayer.__init__\u001b[0;34m(self, n_in, n_out, aging_generator)\u001b[0m\n\u001b[1;32m     19\u001b[0m theta \u001b[38;5;241m=\u001b[39m torch\u001b[38;5;241m.\u001b[39mrand([n_out, n_in \u001b[38;5;241m+\u001b[39m \u001b[38;5;241m2\u001b[39m])\n\u001b[1;32m     20\u001b[0m theta[:, \u001b[38;5;241m-\u001b[39m\u001b[38;5;241m1\u001b[39m] \u001b[38;5;241m=\u001b[39m theta[:, \u001b[38;5;241m-\u001b[39m\u001b[38;5;241m1\u001b[39m] \u001b[38;5;241m*\u001b[39m \u001b[38;5;241m100\u001b[39m\n\u001b[0;32m---> 21\u001b[0m theta[:, \u001b[38;5;241m-\u001b[39m\u001b[38;5;241m2\u001b[39m] \u001b[38;5;241m=\u001b[39m \u001b[38;5;241m0.1788\u001b[39m \u001b[38;5;241m/\u001b[39m (\u001b[38;5;241m1\u001b[39m \u001b[38;5;241m-\u001b[39m \u001b[38;5;241m0.1788\u001b[39m) \u001b[38;5;241m*\u001b[39m (torch\u001b[38;5;241m.\u001b[39msum(theta[:, :\u001b[38;5;241m-\u001b[39m\u001b[38;5;241m2\u001b[39m], axis\u001b[38;5;241m=\u001b[39m\u001b[38;5;241m1\u001b[39m) \u001b[38;5;241m+\u001b[39m \u001b[43mtorch\u001b[49m\u001b[38;5;241;43m.\u001b[39;49m\u001b[43mtheta\u001b[49m[:, \u001b[38;5;241m-\u001b[39m\u001b[38;5;241m1\u001b[39m])\n\u001b[1;32m     22\u001b[0m \u001b[38;5;28mself\u001b[39m\u001b[38;5;241m.\u001b[39mtheta_ \u001b[38;5;241m=\u001b[39m torch\u001b[38;5;241m.\u001b[39mnn\u001b[38;5;241m.\u001b[39mParameter(theta, requires_grad\u001b[38;5;241m=\u001b[39m\u001b[38;5;28;01mTrue\u001b[39;00m)\n\u001b[1;32m     24\u001b[0m \u001b[38;5;66;03m# initialize aging model\u001b[39;00m\n",
      "\u001b[0;31mAttributeError\u001b[0m: module 'torch' has no attribute 'theta'"
     ]
    }
   ],
   "source": [
    "N_Hidden = 4\n",
    "AAPNN = torch.nn.Sequential(pnn.PNNLayer(N_features, N_Hidden, age_generator),\n",
    "                                pnn.PNNLayer(N_Hidden, N_class, age_generator))\n",
    "M_train = 10\n",
    "K_train = 5\n",
    "optimizer_AAPNN = torch.optim.Adam(AAPNN.parameters(), lr=0.5 / M_train / K_train)\n",
    "AAPNN"
   ]
  },
  {
   "cell_type": "code",
   "execution_count": null,
   "id": "54fb68f5",
   "metadata": {},
   "outputs": [],
   "source": [
    "PNN = torch.nn.Sequential(pnn.PNNLayer(N_features, N_Hidden, age_generator),\n",
    "                            pnn.PNNLayer(N_Hidden, N_class, age_generator))\n",
    "optimizer_PNN = torch.optim.Adam(PNN.parameters(), lr=0.01)\n",
    "PNN"
   ]
  },
  {
   "cell_type": "code",
   "execution_count": null,
   "id": "dad7a335",
   "metadata": {},
   "outputs": [],
   "source": [
    "NN = torch.nn.Sequential(torch.nn.Linear(N_features, N_Hidden), torch.nn.Tanh(),\n",
    "                         torch.nn.Linear(N_Hidden, N_class))\n",
    "\n",
    "optimizer_NN = torch.optim.Adam(NN.parameters(), lr=0.005)\n",
    "celoss = torch.nn.CrossEntropyLoss()\n",
    "NN"
   ]
  },
  {
   "cell_type": "markdown",
   "id": "aab39a6e",
   "metadata": {},
   "source": [
    "# Normal NN"
   ]
  },
  {
   "cell_type": "code",
   "execution_count": 9,
   "id": "67c5909d",
   "metadata": {},
   "outputs": [
    {
     "data": {
      "application/vnd.jupyter.widget-view+json": {
       "model_id": "79b9ecdf07ce4801886576118b3750a0",
       "version_major": 2,
       "version_minor": 0
      },
      "text/plain": [
       "  0%|          | 0/200 [00:00<?, ?it/s]"
      ]
     },
     "metadata": {},
     "output_type": "display_data"
    },
    {
     "name": "stdout",
     "output_type": "stream",
     "text": [
      "| Epoch:     0 | Accuracy: 0.23810 | Loss: 1.12948 |\n",
      "| Epoch:    10 | Accuracy: 0.47619 | Loss: 1.08755 |\n",
      "| Epoch:    20 | Accuracy: 0.64286 | Loss: 1.04019 |\n",
      "| Epoch:    30 | Accuracy: 0.71429 | Loss: 0.98173 |\n",
      "| Epoch:    40 | Accuracy: 0.71429 | Loss: 0.91402 |\n",
      "| Epoch:    50 | Accuracy: 0.76190 | Loss: 0.84079 |\n",
      "| Epoch:    60 | Accuracy: 0.85714 | Loss: 0.76649 |\n",
      "| Epoch:    70 | Accuracy: 0.88095 | Loss: 0.69544 |\n",
      "| Epoch:    80 | Accuracy: 0.88095 | Loss: 0.63061 |\n",
      "| Epoch:    90 | Accuracy: 0.88095 | Loss: 0.57338 |\n",
      "| Epoch:   100 | Accuracy: 0.88095 | Loss: 0.52388 |\n",
      "| Epoch:   110 | Accuracy: 0.88095 | Loss: 0.48145 |\n",
      "| Epoch:   120 | Accuracy: 0.88095 | Loss: 0.44523 |\n",
      "| Epoch:   130 | Accuracy: 0.90476 | Loss: 0.41437 |\n",
      "| Epoch:   140 | Accuracy: 0.90476 | Loss: 0.38808 |\n",
      "| Epoch:   150 | Accuracy: 0.90476 | Loss: 0.36568 |\n",
      "| Epoch:   160 | Accuracy: 0.90476 | Loss: 0.34659 |\n",
      "| Epoch:   170 | Accuracy: 0.90476 | Loss: 0.33030 |\n",
      "| Epoch:   180 | Accuracy: 0.90476 | Loss: 0.31637 |\n",
      "| Epoch:   190 | Accuracy: 0.90476 | Loss: 0.30442 |\n"
     ]
    }
   ],
   "source": [
    "from tqdm.notebook import tqdm\n",
    "for epoch in tqdm(range(200)):\n",
    "    for x_train, y_train in train_loader:\n",
    "        optimizer_NN.zero_grad()\n",
    "        prediction = NN(x_train)\n",
    "        loss = celoss(prediction, y_train)\n",
    "        loss.backward()\n",
    "        optimizer_NN.step()\n",
    "\n",
    "    for x_valid, y_valid in valid_loader:\n",
    "        prediction_valid = NN(x_valid)\n",
    "        y_hat = torch.argmax(prediction_valid, 1).data.numpy().squeeze()\n",
    "        acc_valid = sum(y_hat == y_valid.numpy()) / y_valid.shape[0]\n",
    "        loss_valid = celoss(prediction_valid, y_valid)\n",
    "    if epoch % 10 == 0:\n",
    "        print(f'| Epoch: {epoch:-5d} | Accuracy: {acc_valid:.5f} | Loss: {loss_valid.data:.5f} |')"
   ]
  },
  {
   "cell_type": "markdown",
   "id": "4d346973",
   "metadata": {},
   "source": [
    "# Normal PNN"
   ]
  },
  {
   "cell_type": "markdown",
   "id": "4cb1a1db",
   "metadata": {},
   "source": [
    "## Train"
   ]
  },
  {
   "cell_type": "code",
   "execution_count": 10,
   "id": "e46c715e",
   "metadata": {},
   "outputs": [
    {
     "data": {
      "application/vnd.jupyter.widget-view+json": {
       "model_id": "c9d969eed6964e17a388f1df372d795a",
       "version_major": 2,
       "version_minor": 0
      },
      "text/plain": [
       "  0%|          | 0/1000 [00:00<?, ?it/s]"
      ]
     },
     "metadata": {},
     "output_type": "display_data"
    },
    {
     "name": "stdout",
     "output_type": "stream",
     "text": [
      "| Epoch:     0 | Accuracy: 0.33333 | Loss: 1.202274692 |\n",
      "| Epoch:   100 | Accuracy: 0.83333 | Loss: 0.310381655 |\n",
      "| Epoch:   200 | Accuracy: 0.88095 | Loss: 0.198934301 |\n",
      "| Epoch:   300 | Accuracy: 0.88095 | Loss: 0.168868869 |\n",
      "| Epoch:   400 | Accuracy: 0.92857 | Loss: 0.156342488 |\n",
      "| Epoch:   500 | Accuracy: 0.92857 | Loss: 0.152900302 |\n",
      "| Epoch:   600 | Accuracy: 0.95238 | Loss: 0.146881861 |\n",
      "| Epoch:   700 | Accuracy: 0.95238 | Loss: 0.136278826 |\n",
      "| Epoch:   800 | Accuracy: 0.95238 | Loss: 0.125974052 |\n",
      "| Epoch:   900 | Accuracy: 0.95238 | Loss: 0.115519491 |\n",
      "Finished.\n"
     ]
    }
   ],
   "source": [
    "m = 0.3\n",
    "T = 0.1\n",
    "train_loss_PNN, valid_loss_PNN, parameter_PNN = training.train_normal_pnn(PNN,\n",
    "                                                                         train_loader, valid_loader,\n",
    "                                                                         m, T, optimizer_PNN, pnn.LossFunction,\n",
    "                                                                         Epoch=1000)"
   ]
  },
  {
   "cell_type": "markdown",
   "id": "61e79569",
   "metadata": {},
   "source": [
    "## Early Stop"
   ]
  },
  {
   "cell_type": "code",
   "execution_count": 11,
   "id": "c9678c3e",
   "metadata": {},
   "outputs": [
    {
     "data": {
      "text/plain": [
       "tensor(0.0918, dtype=torch.float64)"
      ]
     },
     "execution_count": 11,
     "metadata": {},
     "output_type": "execute_result"
    },
    {
     "data": {
      "image/png": "[encoded data removed]",
      "text/plain": [
       "<Figure size 432x288 with 1 Axes>"
      ]
     },
     "metadata": {
      "needs_background": "light"
     },
     "output_type": "display_data"
    }
   ],
   "source": [
    "plt.plot(train_loss_PNN, label='train')\n",
    "plt.plot(valid_loss_PNN, label='valid')\n",
    "\n",
    "PNN.load_state_dict(parameter_PNN)\n",
    "\n",
    "for x_test, y_test in test_loader:\n",
    "    prediction_test = PNN(x_test)\n",
    "    loss_test = pnn.LossFunction(prediction_test, y_test, m, T)\n",
    "loss_test.data"
   ]
  },
  {
   "cell_type": "markdown",
   "id": "406d739d",
   "metadata": {},
   "source": [
    "# Aging Aware PNN with Model Variation"
   ]
  },
  {
   "cell_type": "markdown",
   "id": "385e791c",
   "metadata": {},
   "source": [
    "## Train"
   ]
  },
  {
   "cell_type": "code",
   "execution_count": 12,
   "id": "dca70484",
   "metadata": {
    "scrolled": true
   },
   "outputs": [
    {
     "data": {
      "application/vnd.jupyter.widget-view+json": {
       "model_id": "fa5abe040fe04f9398afed71018d31bd",
       "version_major": 2,
       "version_minor": 0
      },
      "text/plain": [
       "  0%|          | 0/500 [00:00<?, ?it/s]"
      ]
     },
     "metadata": {},
     "output_type": "display_data"
    },
    {
     "name": "stdout",
     "output_type": "stream",
     "text": [
      "| Epoch:     0 | Accuracy: 0.33107 | Loss: 1.284101314 |\n",
      "| Epoch:    10 | Accuracy: 0.32488 | Loss: 1.242642413 |\n",
      "| Epoch:    20 | Accuracy: 0.34917 | Loss: 1.184421815 |\n",
      "| Epoch:    30 | Accuracy: 0.34429 | Loss: 1.123549101 |\n",
      "| Epoch:    40 | Accuracy: 0.44143 | Loss: 1.042151830 |\n",
      "| Epoch:    50 | Accuracy: 0.53476 | Loss: 0.896185856 |\n",
      "| Epoch:    60 | Accuracy: 0.58107 | Loss: 0.836451434 |\n",
      "| Epoch:    70 | Accuracy: 0.61429 | Loss: 0.787120346 |\n",
      "| Epoch:    80 | Accuracy: 0.59024 | Loss: 0.757618704 |\n",
      "| Epoch:    90 | Accuracy: 0.68774 | Loss: 0.702396919 |\n",
      "| Epoch:   100 | Accuracy: 0.67500 | Loss: 0.651545073 |\n",
      "| Epoch:   110 | Accuracy: 0.73548 | Loss: 0.580583736 |\n",
      "| Epoch:   120 | Accuracy: 0.77821 | Loss: 0.463969726 |\n",
      "| Epoch:   130 | Accuracy: 0.76869 | Loss: 0.469025833 |\n",
      "| Epoch:   140 | Accuracy: 0.80762 | Loss: 0.423233223 |\n",
      "| Epoch:   150 | Accuracy: 0.81202 | Loss: 0.397058345 |\n",
      "| Epoch:   160 | Accuracy: 0.83726 | Loss: 0.361731750 |\n",
      "| Epoch:   170 | Accuracy: 0.83131 | Loss: 0.346316145 |\n",
      "| Epoch:   180 | Accuracy: 0.82667 | Loss: 0.347583516 |\n",
      "| Epoch:   190 | Accuracy: 0.84786 | Loss: 0.313621487 |\n",
      "| Epoch:   200 | Accuracy: 0.85262 | Loss: 0.322280134 |\n",
      "| Epoch:   210 | Accuracy: 0.84512 | Loss: 0.339001798 |\n",
      "| Epoch:   220 | Accuracy: 0.82952 | Loss: 0.346736548 |\n",
      "| Epoch:   230 | Accuracy: 0.86643 | Loss: 0.279987348 |\n",
      "| Epoch:   240 | Accuracy: 0.87226 | Loss: 0.264271959 |\n",
      "| Epoch:   250 | Accuracy: 0.88060 | Loss: 0.260876621 |\n",
      "| Epoch:   260 | Accuracy: 0.87143 | Loss: 0.280095738 |\n",
      "| Epoch:   270 | Accuracy: 0.85548 | Loss: 0.284018755 |\n",
      "| Epoch:   280 | Accuracy: 0.86440 | Loss: 0.267959415 |\n",
      "| Epoch:   290 | Accuracy: 0.87131 | Loss: 0.257458256 |\n",
      "| Epoch:   300 | Accuracy: 0.86310 | Loss: 0.297129057 |\n",
      "| Epoch:   310 | Accuracy: 0.87571 | Loss: 0.250371384 |\n",
      "| Epoch:   320 | Accuracy: 0.87940 | Loss: 0.249122106 |\n",
      "| Epoch:   330 | Accuracy: 0.87321 | Loss: 0.263516636 |\n",
      "| Epoch:   340 | Accuracy: 0.86750 | Loss: 0.255318876 |\n",
      "| Epoch:   350 | Accuracy: 0.87690 | Loss: 0.242438765 |\n",
      "| Epoch:   360 | Accuracy: 0.87821 | Loss: 0.249639790 |\n",
      "| Epoch:   370 | Accuracy: 0.88690 | Loss: 0.209776200 |\n",
      "| Epoch:   380 | Accuracy: 0.87298 | Loss: 0.252475701 |\n",
      "| Epoch:   390 | Accuracy: 0.87929 | Loss: 0.239496201 |\n",
      "| Epoch:   400 | Accuracy: 0.88083 | Loss: 0.240940460 |\n",
      "| Epoch:   410 | Accuracy: 0.88202 | Loss: 0.222672301 |\n",
      "| Epoch:   420 | Accuracy: 0.88964 | Loss: 0.226975387 |\n",
      "| Epoch:   430 | Accuracy: 0.88226 | Loss: 0.220186925 |\n",
      "| Epoch:   440 | Accuracy: 0.90619 | Loss: 0.199042533 |\n",
      "| Epoch:   450 | Accuracy: 0.90060 | Loss: 0.195967059 |\n",
      "| Epoch:   460 | Accuracy: 0.90095 | Loss: 0.216485235 |\n",
      "| Epoch:   470 | Accuracy: 0.89631 | Loss: 0.220948331 |\n",
      "| Epoch:   480 | Accuracy: 0.89952 | Loss: 0.201876909 |\n",
      "| Epoch:   490 | Accuracy: 0.89429 | Loss: 0.206226498 |\n",
      "Finished.\n"
     ]
    }
   ],
   "source": [
    "importlib.reload(training)\n",
    "\n",
    "valid_loss_AAPNN, parameter_AAPNN = training.train_aged_pnn(AAPNN,\n",
    "                                                           train_loader, valid_loader,\n",
    "                                                           config.m, config.T, M_train, K_train,\n",
    "                                                            20, 10, optimizer_AAPNN,\n",
    "                                                           pnn.LossFunction, Epoch=500)"
   ]
  },
  {
   "cell_type": "markdown",
   "id": "9bb9444d",
   "metadata": {},
   "source": [
    "## Early Stop"
   ]
  },
  {
   "cell_type": "code",
   "execution_count": 13,
   "id": "32e9e157",
   "metadata": {},
   "outputs": [
    {
     "data": {
      "text/plain": [
       "<All keys matched successfully>"
      ]
     },
     "execution_count": 13,
     "metadata": {},
     "output_type": "execute_result"
    },
    {
     "data": {
      "image/png": "[encoded data removed]",
      "text/plain": [
       "<Figure size 432x288 with 1 Axes>"
      ]
     },
     "metadata": {
      "needs_background": "light"
     },
     "output_type": "display_data"
    }
   ],
   "source": [
    "plt.plot(valid_loss_AAPNN)\n",
    "AAPNN.load_state_dict(parameter_AAPNN)"
   ]
  },
  {
   "cell_type": "markdown",
   "id": "8058c682",
   "metadata": {},
   "source": [
    "# Save and Read"
   ]
  },
  {
   "cell_type": "code",
   "execution_count": 14,
   "id": "4593d69e",
   "metadata": {},
   "outputs": [],
   "source": [
    "# torch.save(MyPNN, f'./simpleclassification/MyPNN_{N_Layer}_{N_Hidden}.pkl')\n",
    "# torch.save(MyAgedPNN, f'./simpleclassification/MyAgedPNN_{N_Layer}_{N_Hidden}.pkl')"
   ]
  },
  {
   "cell_type": "code",
   "execution_count": 15,
   "id": "37ab99f3",
   "metadata": {},
   "outputs": [],
   "source": [
    "# MyPNN = torch.load('/simpleclassification/MyPNN.pkl')\n",
    "# MyAgedPNN = torch.load('/simpleclassification/MyAgedPNN.pkl')"
   ]
  },
  {
   "cell_type": "markdown",
   "id": "c63b2d08",
   "metadata": {},
   "source": [
    "# Evaluation\n",
    "Evaluate two pNNs with $M_{test}$ different aging models and $K_{test}$ timings."
   ]
  },
  {
   "cell_type": "markdown",
   "id": "8a5ef1e4",
   "metadata": {},
   "source": [
    "## Test"
   ]
  },
  {
   "cell_type": "code",
   "execution_count": 16,
   "id": "c7fdc2c8",
   "metadata": {},
   "outputs": [
    {
     "name": "stdout",
     "output_type": "stream",
     "text": [
      "evaluating on the 0-th model.\n",
      "evaluating on the 10-th model.\n",
      "evaluating on the 20-th model.\n",
      "evaluating on the 30-th model.\n",
      "evaluating on the 40-th model.\n",
      "evaluating on the 50-th model.\n",
      "evaluating on the 60-th model.\n",
      "evaluating on the 70-th model.\n",
      "evaluating on the 80-th model.\n",
      "evaluating on the 90-th model.\n",
      "evaluating on the 100-th model.\n",
      "evaluating on the 110-th model.\n",
      "evaluating on the 120-th model.\n",
      "evaluating on the 130-th model.\n",
      "evaluating on the 140-th model.\n",
      "evaluating on the 150-th model.\n",
      "evaluating on the 160-th model.\n",
      "evaluating on the 170-th model.\n",
      "evaluating on the 180-th model.\n",
      "evaluating on the 190-th model.\n",
      "evaluating on the 200-th model.\n",
      "evaluating on the 210-th model.\n",
      "evaluating on the 220-th model.\n",
      "evaluating on the 230-th model.\n",
      "evaluating on the 240-th model.\n",
      "evaluating on the 250-th model.\n",
      "evaluating on the 260-th model.\n",
      "evaluating on the 270-th model.\n",
      "evaluating on the 280-th model.\n",
      "evaluating on the 290-th model.\n",
      "evaluating on the 300-th model.\n",
      "evaluating on the 310-th model.\n",
      "evaluating on the 320-th model.\n",
      "evaluating on the 330-th model.\n",
      "evaluating on the 340-th model.\n",
      "evaluating on the 350-th model.\n",
      "evaluating on the 360-th model.\n",
      "evaluating on the 370-th model.\n",
      "evaluating on the 380-th model.\n",
      "evaluating on the 390-th model.\n",
      "evaluating on the 400-th model.\n",
      "evaluating on the 410-th model.\n",
      "evaluating on the 420-th model.\n",
      "evaluating on the 430-th model.\n",
      "evaluating on the 440-th model.\n",
      "evaluating on the 450-th model.\n",
      "evaluating on the 460-th model.\n",
      "evaluating on the 470-th model.\n",
      "evaluating on the 480-th model.\n",
      "evaluating on the 490-th model.\n"
     ]
    }
   ],
   "source": [
    "import evaluation\n",
    "import importlib\n",
    "importlib.reload(evaluation)\n",
    "\n",
    "test_time = np.linspace(0, 1, config.K_test)\n",
    "my_aged_acc = []\n",
    "my_acc = []\n",
    "my_aged_maa = []\n",
    "my_maa = []\n",
    "\n",
    "for omega in range(config.M_test):\n",
    "    AAPNN.apply(ps.makemodel)\n",
    "    PNN.apply(ps.makemodel)\n",
    "    for test_t in test_time:\n",
    "        AAPNN.apply(lambda z: ps.settime(z, test_t))\n",
    "        PNN.apply(lambda z: ps.settime(z, test_t))\n",
    "\n",
    "        my_aged_acc.append(evaluation.BASIC(AAPNN, x_test, y_test))\n",
    "        my_acc.append(evaluation.BASIC(PNN, x_test, y_test))\n",
    "\n",
    "        my_aged_maa.append(evaluation.MAA(AAPNN, x_test, y_test))\n",
    "        my_maa.append(evaluation.MAA(PNN, x_test, y_test))\n",
    "    if omega % 10 == 0:\n",
    "        print(f'evaluating on the {omega}-th model.')"
   ]
  },
  {
   "cell_type": "code",
   "execution_count": 17,
   "id": "a667c119",
   "metadata": {},
   "outputs": [],
   "source": [
    "my_acc = np.array(my_acc).reshape([config.M_test, config.K_test])\n",
    "my_aged_acc = np.array(my_aged_acc).reshape([config.M_test, config.K_test])\n",
    "\n",
    "mean_acc = np.mean(my_acc, axis=0).flatten()\n",
    "mean_aged_acc = np.mean(my_aged_acc, axis=0).flatten()\n",
    "\n",
    "std_acc = np.std(my_acc, axis=0).flatten()\n",
    "std_aged_acc = np.std(my_aged_acc, axis=0).flatten()"
   ]
  },
  {
   "cell_type": "markdown",
   "id": "cbd6e055",
   "metadata": {},
   "source": [
    "## Visualization"
   ]
  },
  {
   "cell_type": "code",
   "execution_count": 18,
   "id": "5705dca2",
   "metadata": {},
   "outputs": [
    {
     "data": {
      "text/plain": [
       "<matplotlib.legend.Legend at 0x149abc8a8dc0>"
      ]
     },
     "execution_count": 18,
     "metadata": {},
     "output_type": "execute_result"
    },
    {
     "data": {
      "image/png": "[encoded data removed]",
      "text/plain": [
       "<Figure size 432x288 with 1 Axes>"
      ]
     },
     "metadata": {
      "needs_background": "light"
     },
     "output_type": "display_data"
    }
   ],
   "source": [
    "plt.fill_between(test_time, mean_aged_acc-std_aged_acc,\n",
    "                 mean_aged_acc+std_aged_acc, alpha=0.3, color='red')\n",
    "plt.fill_between(test_time, mean_acc-std_acc, mean_acc +\n",
    "                 std_acc, alpha=0.3, color='blue')\n",
    "plt.plot(test_time, mean_aged_acc, label='aging aware', color='red')\n",
    "plt.plot(test_time, mean_acc, label='nominal', color='blue')\n",
    "plt.xlabel('normalized time')\n",
    "plt.ylabel('basic accuracy')\n",
    "plt.xlim([0, 1])\n",
    "plt.legend()"
   ]
  },
  {
   "cell_type": "code",
   "execution_count": 19,
   "id": "5b2d318b",
   "metadata": {},
   "outputs": [],
   "source": [
    "my_maa = np.array(my_maa).reshape([config.M_test, config.K_test])\n",
    "my_aged_maa = np.array(my_aged_maa).reshape([config.M_test, config.K_test])\n",
    "\n",
    "mean_maa = np.mean(my_maa, axis=0).flatten()\n",
    "mean_aged_maa = np.mean(my_aged_maa, axis=0).flatten()\n",
    "\n",
    "std_maa = np.std(my_maa, axis=0).flatten()\n",
    "std_aged_maa = np.std(my_aged_maa, axis=0).flatten()"
   ]
  },
  {
   "cell_type": "code",
   "execution_count": 20,
   "id": "8514e368",
   "metadata": {},
   "outputs": [
    {
     "data": {
      "text/plain": [
       "<matplotlib.legend.Legend at 0x149abc892a60>"
      ]
     },
     "execution_count": 20,
     "metadata": {},
     "output_type": "execute_result"
    },
    {
     "data": {
      "image/png": "[encoded data removed]",
      "text/plain": [
       "<Figure size 432x288 with 1 Axes>"
      ]
     },
     "metadata": {
      "needs_background": "light"
     },
     "output_type": "display_data"
    }
   ],
   "source": [
    "plt.fill_between(test_time, mean_aged_maa-std_aged_maa,\n",
    "                 mean_aged_maa+std_aged_maa, alpha=0.3, color='red')\n",
    "plt.fill_between(test_time, mean_maa-std_maa, mean_acc +\n",
    "                 std_maa, alpha=0.3, color='blue')\n",
    "plt.plot(test_time, mean_aged_maa, label='aging aware', color='red')\n",
    "plt.plot(test_time, mean_maa, label='nominal', color='blue')\n",
    "plt.xlabel('normalized time')\n",
    "plt.ylabel('measure aware accuracy')\n",
    "plt.xlim([0, 1])\n",
    "plt.legend()"
   ]
  },
  {
   "cell_type": "code",
   "execution_count": null,
   "id": "0de8ba5c-c01d-4d12-bbe7-e3703fd06641",
   "metadata": {},
   "outputs": [],
   "source": []
  }
 ],
 "metadata": {
  "kernelspec": {
   "display_name": "ML",
   "language": "python",
   "name": "ml"
  },
  "language_info": {
   "codemirror_mode": {
    "name": "ipython",
    "version": 3
   },
   "file_extension": ".py",
   "mimetype": "text/x-python",
   "name": "python",
   "nbconvert_exporter": "python",
   "pygments_lexer": "ipython3",
   "version": "3.8.13"
  },
  "toc": {
   "base_numbering": 1,
   "nav_menu": {},
   "number_sections": true,
   "sideBar": true,
   "skip_h1_title": false,
   "title_cell": "Table of Contents",
   "title_sidebar": "Contents",
   "toc_cell": false,
   "toc_position": {},
   "toc_section_display": true,
   "toc_window_display": true
  }
 },
 "nbformat": 4,
 "nbformat_minor": 5
}
