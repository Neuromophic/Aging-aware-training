{
 "cells": [
  {
   "cell_type": "markdown",
   "id": "e0f1319a",
   "metadata": {},
   "source": [
    "# Aging Aware with Model Variation\n",
    "Previously, we optimize the following functional:\n",
    "$$ \\min_\\theta \\, \\int_{t=0}^{1} \\; L(\\theta(t)) \\, {\\rm d}t. $$\n",
    "The optimum is for a specific aging model $\\omega$, i.e., we minimized the \n",
    "$$ \\min_\\theta \\, \\int_{t=0}^{1} \\; L(\\theta(t,\\omega)) \\, {\\rm d}t. $$\n",
    "However, we dont know how will the resistance decay, i.e., we should also minimize the loss function w.r.t. aging models with different parameters. That means we need to optimized\n",
    "$$ \\min_\\theta \\, \\int_{\\omega}\\int_{t=0}^{1} \\; L(\\theta(t,\\omega)) \\, {\\rm d}t\\, p(\\omega){\\rm d}\\omega. $$\n",
    "The Mento Carlo Approximation is then\n",
    "$$\n",
    "\\min_{\\theta_{\\rm init}} \\frac{1}{\\Omega}\\frac{1}{K}\\sum_{\\omega\\in\\mathfrak{M}}\\sum_{k\\in \\mathfrak{K} } L \\left(\\theta[k, \\omega]\\right),\n",
    "$$\n",
    "where $\\mathfrak{M}$ is the set of $\\Omega$ elements following the distribution $p(\\omega)$. $p(\\omega)$ is the distributions of parameters of the aging model. We have already obtained these distributions as we modeled the aging decay.\n",
    "\n",
    "That means we should optimize this problem by\n",
    "$$\n",
    "\\begin{align}\n",
    "\\theta_{\\rm init}&:=\\theta_{\\rm init} - \\alpha\\cdot\\nabla_{\\theta_{\\rm init}}\\left(\\frac{1}{\\Omega}\\frac{1}{K}\\sum_{\\omega\\in\\mathfrak{M}}\\sum_{k\\in \\mathfrak{K} } L \\left(\\theta[k, \\omega]\\right)\\right)\\\\\n",
    "&=\\theta_{\\rm init} - \\frac{\\alpha}{\\Omega K}\\cdot\\nabla_{\\theta_{\\rm init}}\\left(\\sum_{\\omega\\in\\mathfrak{M}}\\sum_{k\\in \\mathfrak{K} } L \\left(\\theta[k, \\omega]\\right)\\right)\\\\\n",
    "&=\\theta_{\\rm init} - \\frac{\\alpha}{\\Omega K}\\left(\\sum_{\\omega\\in\\mathfrak{M}}\\sum_{k\\in \\mathfrak{K} }\\nabla_{\\theta_{\\rm init}} L \\left(\\theta[k, \\omega]\\right)\\right)\n",
    "\\end{align}\n",
    "$$"
   ]
  },
  {
   "cell_type": "markdown",
   "id": "eab183f8",
   "metadata": {},
   "source": [
    "# Get aging model"
   ]
  },
  {
   "cell_type": "code",
   "execution_count": 1,
   "id": "0bc40b33",
   "metadata": {},
   "outputs": [],
   "source": [
    "import importlib\n",
    "import training\n",
    "from torch.autograd import Variable\n",
    "import torch\n",
    "import pickle\n",
    "import pNN_aging_aware as pnn\n",
    "import os\n",
    "import sys\n",
    "import matplotlib.pyplot as plt\n",
    "import numpy as np\n",
    "sys.path.append(os.path.join(os.getcwd(), 'Aging_Model'))\n",
    "\n",
    "with open(os.path.join(os.getcwd(), 'Aging_Model', 'exp_aging_model.p'), 'rb') as f:\n",
    "    age_generator = pickle.load(f)"
   ]
  },
  {
   "cell_type": "markdown",
   "id": "15519567",
   "metadata": {},
   "source": [
    "# Prepare data"
   ]
  },
  {
   "cell_type": "markdown",
   "id": "3f9b925b",
   "metadata": {},
   "source": [
    "## Load data"
   ]
  },
  {
   "cell_type": "code",
   "execution_count": 2,
   "id": "fd3f8c31",
   "metadata": {},
   "outputs": [
    {
     "data": {
      "text/plain": [
       "(torch.Size([10992, 16]), torch.Size([10992]), 10992, 16, 10)"
      ]
     },
     "execution_count": 2,
     "metadata": {},
     "output_type": "execute_result"
    }
   ],
   "source": [
    "datapath = os.path.join(os.getcwd(), 'Datasets', 'PMLC',\n",
    "                        'data_processed', 'Dataset_Pendigits.p')\n",
    "with open(datapath, 'rb') as f:\n",
    "    dataset = pickle.load(f)\n",
    "X = dataset['X'].float()\n",
    "y = dataset['y']\n",
    "M, N_features, N_class = X.shape[0], X.shape[1], torch.max(\n",
    "    torch.unique(y)).item()+1\n",
    "X.shape, y.shape, M, N_features, N_class"
   ]
  },
  {
   "cell_type": "markdown",
   "id": "35adbc19",
   "metadata": {},
   "source": [
    "## data preprocessing"
   ]
  },
  {
   "cell_type": "code",
   "execution_count": 3,
   "id": "ea0969cc",
   "metadata": {},
   "outputs": [
    {
     "data": {
      "text/plain": [
       "(tensor(0.), tensor(6.1658))"
      ]
     },
     "execution_count": 3,
     "metadata": {},
     "output_type": "execute_result"
    }
   ],
   "source": [
    "# normalization\n",
    "X = X / (torch.max(X, axis=0)[0] - torch.min(X, axis=0)[0])\n",
    "X = X - torch.min(X, axis=0)[0]\n",
    "torch.min(X), torch.max(X)"
   ]
  },
  {
   "cell_type": "code",
   "execution_count": 4,
   "id": "6d30ecfc",
   "metadata": {},
   "outputs": [
    {
     "data": {
      "text/plain": [
       "(6595, 2198, 2199)"
      ]
     },
     "execution_count": 4,
     "metadata": {},
     "output_type": "execute_result"
    }
   ],
   "source": [
    "from torch.utils.data import TensorDataset\n",
    "from torch.utils.data import DataLoader\n",
    "from torch.utils.data import random_split\n",
    "\n",
    "# generate tensordataset\n",
    "dataset = TensorDataset(X, y)\n",
    "\n",
    "# split\n",
    "train_rate = 0.6\n",
    "test_rate = 0.2\n",
    "M_train = int(M*train_rate)\n",
    "M_test = int(M*test_rate)\n",
    "train_data, rest_data = random_split(dataset, [M_train, M-M_train])\n",
    "test_data, valid_data = random_split(rest_data, [M_test, M-M_train-M_test])\n",
    "len(train_data), len(test_data), len(valid_data)"
   ]
  },
  {
   "cell_type": "code",
   "execution_count": 5,
   "id": "4f8988b7",
   "metadata": {},
   "outputs": [],
   "source": [
    "# batch\n",
    "train_loader = DataLoader(train_data, batch_size=len(train_data))\n",
    "test_loader = DataLoader(test_data, batch_size=len(test_data))\n",
    "valid_loader = DataLoader(valid_data, batch_size=len(valid_data))"
   ]
  },
  {
   "cell_type": "markdown",
   "id": "4ff7c1f0",
   "metadata": {},
   "source": [
    "# Definite PNN and AgingAwarePNN"
   ]
  },
  {
   "cell_type": "code",
   "execution_count": 31,
   "id": "b474bd81",
   "metadata": {},
   "outputs": [
    {
     "data": {
      "text/plain": [
       "Sequential(\n",
       "  (0): PNNLayer()\n",
       "  (1): PNNLayer()\n",
       "  (2): PNNLayer()\n",
       "  (3): PNNLayer()\n",
       ")"
      ]
     },
     "execution_count": 31,
     "metadata": {},
     "output_type": "execute_result"
    }
   ],
   "source": [
    "N_Hidden = 15\n",
    "AAPNN = torch.nn.Sequential(pnn.PNNLayer(N_features, N_Hidden, age_generator),\n",
    "                                pnn.PNNLayer(N_Hidden, N_Hidden,\n",
    "                                             age_generator),\n",
    "                                pnn.PNNLayer(N_Hidden, N_Hidden,\n",
    "                                             age_generator),\n",
    "                                pnn.PNNLayer(N_Hidden, N_class, age_generator))\n",
    "K = 5  # number of time sampling\n",
    "M = 20  # number of model sampling\n",
    "optimizer_AAPNN = torch.optim.Adam(AAPNN.parameters(), lr=0.001 / M / K)\n",
    "AAPNN"
   ]
  },
  {
   "cell_type": "code",
   "execution_count": 7,
   "id": "54fb68f5",
   "metadata": {},
   "outputs": [
    {
     "data": {
      "text/plain": [
       "Sequential(\n",
       "  (0): PNNLayer()\n",
       "  (1): PNNLayer()\n",
       "  (2): PNNLayer()\n",
       "  (3): PNNLayer()\n",
       ")"
      ]
     },
     "execution_count": 7,
     "metadata": {},
     "output_type": "execute_result"
    }
   ],
   "source": [
    "PNN = torch.nn.Sequential(pnn.PNNLayer(N_features, N_Hidden, age_generator),\n",
    "                            pnn.PNNLayer(N_Hidden, N_Hidden, age_generator),\n",
    "                            pnn.PNNLayer(N_Hidden, N_Hidden, age_generator),\n",
    "                            pnn.PNNLayer(N_Hidden, N_class, age_generator))\n",
    "optimizer_PNN = torch.optim.Adam(PNN.parameters(), lr=0.01)\n",
    "PNN"
   ]
  },
  {
   "cell_type": "code",
   "execution_count": 8,
   "id": "dad7a335",
   "metadata": {},
   "outputs": [
    {
     "data": {
      "text/plain": [
       "Sequential(\n",
       "  (0): Linear(in_features=16, out_features=15, bias=True)\n",
       "  (1): Tanh()\n",
       "  (2): Linear(in_features=15, out_features=15, bias=True)\n",
       "  (3): Tanh()\n",
       "  (4): Linear(in_features=15, out_features=15, bias=True)\n",
       "  (5): Tanh()\n",
       "  (6): Linear(in_features=15, out_features=10, bias=True)\n",
       ")"
      ]
     },
     "execution_count": 8,
     "metadata": {},
     "output_type": "execute_result"
    }
   ],
   "source": [
    "NN = torch.nn.Sequential(torch.nn.Linear(N_features, N_Hidden), torch.nn.Tanh(),\n",
    "                         torch.nn.Linear(N_Hidden, N_Hidden), torch.nn.Tanh(),\n",
    "                         torch.nn.Linear(N_Hidden, N_Hidden), torch.nn.Tanh(),\n",
    "                         torch.nn.Linear(N_Hidden, N_class))\n",
    "\n",
    "optimizer_NN = torch.optim.Adam(NN.parameters(), lr=0.005)\n",
    "celoss = torch.nn.CrossEntropyLoss()\n",
    "NN"
   ]
  },
  {
   "cell_type": "markdown",
   "id": "aab39a6e",
   "metadata": {},
   "source": [
    "# Normal NN"
   ]
  },
  {
   "cell_type": "code",
   "execution_count": 10,
   "id": "67c5909d",
   "metadata": {},
   "outputs": [
    {
     "data": {
      "application/vnd.jupyter.widget-view+json": {
       "model_id": "3e2041762a0249b3a0485a2edd87f8c5",
       "version_major": 2,
       "version_minor": 0
      },
      "text/plain": [
       "  0%|          | 0/200 [00:00<?, ?it/s]"
      ]
     },
     "metadata": {},
     "output_type": "display_data"
    },
    {
     "name": "stdout",
     "output_type": "stream",
     "text": [
      "| Epoch:     0 | Accuracy: 0.24932 | Loss: 2.26049 |\n",
      "| Epoch:    10 | Accuracy: 0.47816 | Loss: 1.96212 |\n",
      "| Epoch:    20 | Accuracy: 0.54186 | Loss: 1.61803 |\n",
      "| Epoch:    30 | Accuracy: 0.71019 | Loss: 1.32719 |\n",
      "| Epoch:    40 | Accuracy: 0.75250 | Loss: 1.07422 |\n",
      "| Epoch:    50 | Accuracy: 0.76843 | Loss: 0.86840 |\n",
      "| Epoch:    60 | Accuracy: 0.79117 | Loss: 0.71625 |\n",
      "| Epoch:    70 | Accuracy: 0.82348 | Loss: 0.58925 |\n",
      "| Epoch:    80 | Accuracy: 0.88535 | Loss: 0.48065 |\n",
      "| Epoch:    90 | Accuracy: 0.90673 | Loss: 0.39779 |\n",
      "| Epoch:   100 | Accuracy: 0.92175 | Loss: 0.33663 |\n",
      "| Epoch:   110 | Accuracy: 0.92721 | Loss: 0.28897 |\n",
      "| Epoch:   120 | Accuracy: 0.93631 | Loss: 0.24973 |\n",
      "| Epoch:   130 | Accuracy: 0.94404 | Loss: 0.21805 |\n",
      "| Epoch:   140 | Accuracy: 0.95086 | Loss: 0.19289 |\n",
      "| Epoch:   150 | Accuracy: 0.95632 | Loss: 0.17182 |\n",
      "| Epoch:   160 | Accuracy: 0.95996 | Loss: 0.15397 |\n",
      "| Epoch:   170 | Accuracy: 0.96451 | Loss: 0.13869 |\n",
      "| Epoch:   180 | Accuracy: 0.96906 | Loss: 0.12561 |\n",
      "| Epoch:   190 | Accuracy: 0.97088 | Loss: 0.11484 |\n"
     ]
    }
   ],
   "source": [
    "from tqdm.notebook import tqdm\n",
    "for epoch in tqdm(range(200)):\n",
    "    for x_train, y_train in train_loader:\n",
    "        optimizer_NN.zero_grad()\n",
    "        prediction = NN(x_train)\n",
    "        loss = celoss(prediction, y_train)\n",
    "        loss.backward()\n",
    "        optimizer_NN.step()\n",
    "\n",
    "    for x_test, y_test in test_loader:\n",
    "        prediction_test = NN(x_test)\n",
    "        y_hat = torch.argmax(prediction_test, 1).data.numpy().squeeze()\n",
    "        acc_test = sum(y_hat == y_test.numpy()) / y_test.shape[0]\n",
    "        loss_test = celoss(prediction_test, y_test)\n",
    "    if epoch % 10 == 0:\n",
    "        print(f'| Epoch: {epoch:-5d} | Accuracy: {acc_test:.5f} | Loss: {loss_test.data:.5f} |')"
   ]
  },
  {
   "cell_type": "markdown",
   "id": "4d346973",
   "metadata": {},
   "source": [
    "# Normal PNN"
   ]
  },
  {
   "cell_type": "markdown",
   "id": "4cb1a1db",
   "metadata": {},
   "source": [
    "## Train"
   ]
  },
  {
   "cell_type": "code",
   "execution_count": 27,
   "id": "e46c715e",
   "metadata": {},
   "outputs": [
    {
     "data": {
      "application/vnd.jupyter.widget-view+json": {
       "model_id": "55d20b368b034320971786b7d9ccd091",
       "version_major": 2,
       "version_minor": 0
      },
      "text/plain": [
       "  0%|          | 0/500 [00:00<?, ?it/s]"
      ]
     },
     "metadata": {},
     "output_type": "display_data"
    },
    {
     "name": "stdout",
     "output_type": "stream",
     "text": [
      "| Epoch:     0 | Accuracy: 0.94404 | Loss: 0.11766 |\n",
      "| Epoch:    10 | Accuracy: 0.94449 | Loss: 0.11445 |\n",
      "| Epoch:    20 | Accuracy: 0.94859 | Loss: 0.11107 |\n",
      "| Epoch:    30 | Accuracy: 0.94950 | Loss: 0.10834 |\n",
      "| Epoch:    40 | Accuracy: 0.95132 | Loss: 0.10497 |\n",
      "| Epoch:    50 | Accuracy: 0.95177 | Loss: 0.10085 |\n",
      "| Epoch:    60 | Accuracy: 0.95405 | Loss: 0.09772 |\n",
      "| Epoch:    70 | Accuracy: 0.95496 | Loss: 0.09447 |\n",
      "| Epoch:    80 | Accuracy: 0.95541 | Loss: 0.09261 |\n",
      "| Epoch:    90 | Accuracy: 0.95632 | Loss: 0.09061 |\n",
      "| Epoch:   100 | Accuracy: 0.95769 | Loss: 0.08995 |\n",
      "| Epoch:   110 | Accuracy: 0.95678 | Loss: 0.08827 |\n",
      "| Epoch:   120 | Accuracy: 0.95723 | Loss: 0.08678 |\n",
      "| Epoch:   130 | Accuracy: 0.95723 | Loss: 0.08498 |\n",
      "| Epoch:   140 | Accuracy: 0.95723 | Loss: 0.08348 |\n",
      "| Epoch:   150 | Accuracy: 0.95769 | Loss: 0.08262 |\n",
      "| Epoch:   160 | Accuracy: 0.95860 | Loss: 0.08138 |\n",
      "| Epoch:   170 | Accuracy: 0.95860 | Loss: 0.08062 |\n",
      "| Epoch:   180 | Accuracy: 0.95951 | Loss: 0.08002 |\n",
      "| Epoch:   190 | Accuracy: 0.95951 | Loss: 0.07920 |\n",
      "| Epoch:   200 | Accuracy: 0.95951 | Loss: 0.07845 |\n",
      "| Epoch:   210 | Accuracy: 0.95996 | Loss: 0.07794 |\n",
      "| Epoch:   220 | Accuracy: 0.95905 | Loss: 0.07754 |\n",
      "| Epoch:   230 | Accuracy: 0.95905 | Loss: 0.07724 |\n",
      "| Epoch:   240 | Accuracy: 0.95951 | Loss: 0.07607 |\n",
      "| Epoch:   250 | Accuracy: 0.96042 | Loss: 0.07574 |\n",
      "| Epoch:   260 | Accuracy: 0.96042 | Loss: 0.07556 |\n",
      "| Epoch:   270 | Accuracy: 0.96042 | Loss: 0.07506 |\n",
      "| Epoch:   280 | Accuracy: 0.96133 | Loss: 0.07480 |\n",
      "| Epoch:   290 | Accuracy: 0.96178 | Loss: 0.07418 |\n",
      "| Epoch:   300 | Accuracy: 0.96042 | Loss: 0.07386 |\n",
      "| Epoch:   310 | Accuracy: 0.96178 | Loss: 0.07408 |\n",
      "| Epoch:   320 | Accuracy: 0.96224 | Loss: 0.07382 |\n",
      "| Epoch:   330 | Accuracy: 0.96269 | Loss: 0.07329 |\n",
      "| Epoch:   340 | Accuracy: 0.96178 | Loss: 0.07294 |\n",
      "| Epoch:   350 | Accuracy: 0.96269 | Loss: 0.07252 |\n",
      "| Epoch:   360 | Accuracy: 0.96178 | Loss: 0.07275 |\n",
      "| Epoch:   370 | Accuracy: 0.96360 | Loss: 0.07230 |\n",
      "| Epoch:   380 | Accuracy: 0.96315 | Loss: 0.07221 |\n",
      "| Epoch:   390 | Accuracy: 0.96360 | Loss: 0.07152 |\n",
      "| Epoch:   400 | Accuracy: 0.96360 | Loss: 0.07169 |\n",
      "| Epoch:   410 | Accuracy: 0.96360 | Loss: 0.07117 |\n",
      "| Epoch:   420 | Accuracy: 0.96360 | Loss: 0.07087 |\n",
      "| Epoch:   430 | Accuracy: 0.96360 | Loss: 0.07052 |\n",
      "| Epoch:   440 | Accuracy: 0.96315 | Loss: 0.07144 |\n",
      "| Epoch:   450 | Accuracy: 0.96451 | Loss: 0.07030 |\n",
      "| Epoch:   460 | Accuracy: 0.96406 | Loss: 0.07027 |\n",
      "| Epoch:   470 | Accuracy: 0.96451 | Loss: 0.06984 |\n",
      "| Epoch:   480 | Accuracy: 0.96406 | Loss: 0.06951 |\n",
      "| Epoch:   490 | Accuracy: 0.96406 | Loss: 0.06984 |\n",
      "Finished.\n"
     ]
    }
   ],
   "source": [
    "m = 0.3\n",
    "T = 0.1\n",
    "train_loss_PNN, test_loss_PNN, parameter_PNN = training.train_normal_pnn(PNN,\n",
    "                                                                         train_loader, test_loader,\n",
    "                                                                         m, T, optimizer_PNN, pnn.LossFunction,\n",
    "                                                                         Epoch=500)"
   ]
  },
  {
   "cell_type": "markdown",
   "id": "61e79569",
   "metadata": {},
   "source": [
    "## Early Stop"
   ]
  },
  {
   "cell_type": "code",
   "execution_count": 28,
   "id": "c9678c3e",
   "metadata": {},
   "outputs": [
    {
     "data": {
      "text/plain": [
       "tensor(0.0692, dtype=torch.float64)"
      ]
     },
     "execution_count": 28,
     "metadata": {},
     "output_type": "execute_result"
    },
    {
     "data": {
      "image/png": "[encoded data removed]",
      "text/plain": [
       "<Figure size 432x288 with 1 Axes>"
      ]
     },
     "metadata": {
      "needs_background": "light"
     },
     "output_type": "display_data"
    }
   ],
   "source": [
    "plt.plot(train_loss_PNN, label='train')\n",
    "plt.plot(test_loss_PNN, label='test')\n",
    "\n",
    "PNN.load_state_dict(parameter_PNN)\n",
    "\n",
    "for x_valid, y_valid in valid_loader:\n",
    "    prediction_valid = PNN(x_valid)\n",
    "    loss_valid = pnn.LossFunction(prediction_valid, y_valid, m, T)\n",
    "loss_valid.data"
   ]
  },
  {
   "cell_type": "markdown",
   "id": "406d739d",
   "metadata": {},
   "source": [
    "# Aging Aware PNN with Model Variation"
   ]
  },
  {
   "cell_type": "markdown",
   "id": "385e791c",
   "metadata": {},
   "source": [
    "## Train"
   ]
  },
  {
   "cell_type": "code",
   "execution_count": null,
   "id": "dca70484",
   "metadata": {
    "scrolled": true
   },
   "outputs": [
    {
     "data": {
      "application/vnd.jupyter.widget-view+json": {
       "model_id": "16b45ebb680341fc8e3dc64d9c6b02a2",
       "version_major": 2,
       "version_minor": 0
      },
      "text/plain": [
       "  0%|          | 0/5000 [00:00<?, ?it/s]"
      ]
     },
     "metadata": {},
     "output_type": "display_data"
    },
    {
     "name": "stdout",
     "output_type": "stream",
     "text": [
      "| Epoch:     0 | Accuracy: 0.11101 | Loss: 1.395999429 |\n",
      "| Epoch:     1 | Accuracy: 0.11101 | Loss: 1.395998412 |\n",
      "| Epoch:     2 | Accuracy: 0.11101 | Loss: 1.395998732 |\n",
      "| Epoch:     3 | Accuracy: 0.11101 | Loss: 1.395997389 |\n",
      "| Epoch:     4 | Accuracy: 0.11101 | Loss: 1.395999352 |\n",
      "| Epoch:     5 | Accuracy: 0.10747 | Loss: 1.395997939 |\n"
     ]
    }
   ],
   "source": [
    "importlib.reload(training)\n",
    "\n",
    "m = 0.3\n",
    "T = 0.1\n",
    "test_loss_AAPNN, parameter_AAPNN = training.train_aged_pnn(AAPNN,\n",
    "                                                           train_loader, test_loader,\n",
    "                                                           m, T, M, K, optimizer_AAPNN,\n",
    "                                                           pnn.LossFunction, Epoch=5000)"
   ]
  },
  {
   "cell_type": "markdown",
   "id": "9bb9444d",
   "metadata": {},
   "source": [
    "## Early Stop"
   ]
  },
  {
   "cell_type": "code",
   "execution_count": null,
   "id": "32e9e157",
   "metadata": {},
   "outputs": [],
   "source": [
    "plt.plot(test_loss_AAPNN)\n",
    "AAPNN.load_state_dict(parameter_AAPNN)"
   ]
  },
  {
   "cell_type": "markdown",
   "id": "8058c682",
   "metadata": {},
   "source": [
    "# Save and Read"
   ]
  },
  {
   "cell_type": "code",
   "execution_count": null,
   "id": "4593d69e",
   "metadata": {},
   "outputs": [],
   "source": [
    "# torch.save(MyPNN, f'./simpleclassification/MyPNN_{N_Layer}_{N_Hidden}.pkl')\n",
    "# torch.save(MyAgedPNN, f'./simpleclassification/MyAgedPNN_{N_Layer}_{N_Hidden}.pkl')"
   ]
  },
  {
   "cell_type": "code",
   "execution_count": null,
   "id": "37ab99f3",
   "metadata": {},
   "outputs": [],
   "source": [
    "# MyPNN = torch.load('/simpleclassification/MyPNN.pkl')\n",
    "# MyAgedPNN = torch.load('/simpleclassification/MyAgedPNN.pkl')"
   ]
  },
  {
   "cell_type": "markdown",
   "id": "c63b2d08",
   "metadata": {},
   "source": [
    "# Evaluation\n",
    "Evaluate two NNs with 1000 different aging models and over time."
   ]
  },
  {
   "cell_type": "markdown",
   "id": "8a5ef1e4",
   "metadata": {},
   "source": [
    "## Test"
   ]
  },
  {
   "cell_type": "code",
   "execution_count": null,
   "id": "c7fdc2c8",
   "metadata": {},
   "outputs": [],
   "source": [
    "import evaluation\n",
    "import importlib\n",
    "importlib.reload(evaluation)\n",
    "\n",
    "test_time = np.linspace(0, 1, 100)\n",
    "my_aged_acc = []\n",
    "my_acc = []\n",
    "my_aged_maa = []\n",
    "my_maa = []\n",
    "\n",
    "for omega in range(1000):\n",
    "    AAPNN.apply(ps.makemodel)\n",
    "    PNN.apply(ps.makemodel)\n",
    "    for test_t in test_time:\n",
    "        AAPNN.apply(lambda z: ps.settime(z, test_t))\n",
    "        PNN.apply(lambda z: ps.settime(z, test_t))\n",
    "\n",
    "        my_aged_acc.append(evaluation.basic(AAPNN, x_valid, y_valid))\n",
    "        my_acc.append(evaluation.basic(PNN, x_valid, y_valid))\n",
    "\n",
    "        my_aged_maa.append(evaluation.maa(MyAgedPNN, x_valid, y_valid))\n",
    "        my_maa.append(evaluation.maa(MyPNN, x_valid, y_valid))\n",
    "    if omega % 10 == 0:\n",
    "        print(f'evaluating on the {omega}-th model.')"
   ]
  },
  {
   "cell_type": "code",
   "execution_count": null,
   "id": "a667c119",
   "metadata": {},
   "outputs": [],
   "source": [
    "my_acc = np.array(my_acc).reshape([1000, 100])\n",
    "my_aged_acc = np.array(my_aged_acc).reshape([1000, 100])\n",
    "\n",
    "mean_acc = np.mean(my_acc, axis=0).flatten()\n",
    "mean_aged_acc = np.mean(my_aged_acc, axis=0).flatten()\n",
    "\n",
    "std_acc = np.std(my_acc, axis=0).flatten()\n",
    "std_aged_acc = np.std(my_aged_acc, axis=0).flatten()"
   ]
  },
  {
   "cell_type": "markdown",
   "id": "cbd6e055",
   "metadata": {},
   "source": [
    "## Visualization"
   ]
  },
  {
   "cell_type": "code",
   "execution_count": null,
   "id": "5705dca2",
   "metadata": {},
   "outputs": [],
   "source": [
    "plt.fill_between(test_time, mean_aged_acc-std_aged_acc,\n",
    "                 mean_aged_acc+std_aged_acc, alpha=0.3, color='red')\n",
    "plt.fill_between(test_time, mean_acc-std_acc, mean_acc +\n",
    "                 std_acc, alpha=0.3, color='blue')\n",
    "plt.plot(test_time, mean_aged_acc, label='aging aware', color='red')\n",
    "plt.plot(test_time, mean_acc, label='previous', color='blue')\n",
    "plt.xlabel('normalized time')\n",
    "plt.ylabel('basic accuracy')\n",
    "plt.xlim([0, 1])\n",
    "plt.legend()"
   ]
  },
  {
   "cell_type": "code",
   "execution_count": null,
   "id": "5b2d318b",
   "metadata": {},
   "outputs": [],
   "source": [
    "my_maa = np.array(my_maa).reshape([1000, 100])\n",
    "my_aged_maa = np.array(my_aged_maa).reshape([1000, 100])\n",
    "\n",
    "mean_maa = np.mean(my_maa, axis=0).flatten()\n",
    "mean_aged_maa = np.mean(my_aged_maa, axis=0).flatten()\n",
    "\n",
    "std_maa = np.std(my_maa, axis=0).flatten()\n",
    "std_aged_maa = np.std(my_aged_maa, axis=0).flatten()"
   ]
  },
  {
   "cell_type": "code",
   "execution_count": null,
   "id": "8514e368",
   "metadata": {},
   "outputs": [],
   "source": [
    "plt.fill_between(test_time, mean_aged_maa-std_aged_maa,\n",
    "                 mean_aged_maa+std_aged_maa, alpha=0.3, color='red')\n",
    "plt.fill_between(test_time, mean_maa-std_maa, mean_acc +\n",
    "                 std_maa, alpha=0.3, color='blue')\n",
    "plt.plot(test_time, mean_aged_maa, label='aging aware', color='red')\n",
    "plt.plot(test_time, mean_maa, label='previous', color='blue')\n",
    "plt.xlabel('normalized time')\n",
    "plt.ylabel('measure aware accuracy')\n",
    "plt.xlim([0, 1])\n",
    "plt.legend()"
   ]
  }
 ],
 "metadata": {
  "kernelspec": {
   "display_name": "Python 3 (ipykernel)",
   "language": "python",
   "name": "python3"
  },
  "language_info": {
   "codemirror_mode": {
    "name": "ipython",
    "version": 3
   },
   "file_extension": ".py",
   "mimetype": "text/x-python",
   "name": "python",
   "nbconvert_exporter": "python",
   "pygments_lexer": "ipython3",
   "version": "3.8.0"
  },
  "toc": {
   "base_numbering": 1,
   "nav_menu": {},
   "number_sections": true,
   "sideBar": true,
   "skip_h1_title": false,
   "title_cell": "Table of Contents",
   "title_sidebar": "Contents",
   "toc_cell": false,
   "toc_position": {},
   "toc_section_display": true,
   "toc_window_display": true
  }
 },
 "nbformat": 4,
 "nbformat_minor": 5
}
