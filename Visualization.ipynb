{
 "cells": [
  {
   "cell_type": "code",
   "execution_count": 1,
   "id": "db15e4b3",
   "metadata": {},
   "outputs": [],
   "source": [
    "import os\n",
    "import matplotlib.pyplot as plt\n",
    "import numpy as np\n",
    "import config\n",
    "import sys\n",
    "sys.path.append(os.path.join(os.getcwd(), 'Aging_Model'))\n",
    "import FigureConfig as FC"
   ]
  },
  {
   "cell_type": "markdown",
   "id": "ee6997e0-dc56-4a5d-8d5e-fae1243e9f77",
   "metadata": {},
   "source": [
    "# Dataset"
   ]
  },
  {
   "cell_type": "code",
   "execution_count": 2,
   "id": "63ddb1ed-59cf-4fe1-ae3f-48be2a3e908d",
   "metadata": {},
   "outputs": [
    {
     "data": {
      "text/plain": [
       "'MammographicMass'"
      ]
     },
     "execution_count": 2,
     "metadata": {},
     "output_type": "execute_result"
    }
   ],
   "source": [
    "if config.current_dataset is not None:\n",
    "    ds = config.datasets[config.current_dataset]\n",
    "else:\n",
    "    ds = config.datasets[0]\n",
    "\n",
    "ds"
   ]
  },
  {
   "cell_type": "markdown",
   "id": "d97c8bce-f98d-4d98-b398-70715304902b",
   "metadata": {},
   "source": [
    "# Read results"
   ]
  },
  {
   "cell_type": "code",
   "execution_count": 3,
   "id": "0688f4d8-263a-4187-8d34-8b413ba39e17",
   "metadata": {},
   "outputs": [
    {
     "data": {
      "text/plain": [
       "['MammographicMass_AAPNN_ACC_7_766.txt',\n",
       " 'MammographicMass_AAPNN_MAA_7_723.txt',\n",
       " 'MammographicMass_AAPNN_loss.txt',\n",
       " 'MammographicMass_PNN_ACC_1_618.txt',\n",
       " 'MammographicMass_PNN_MAA_1_514.txt',\n",
       " 'MammographicMass_PNN_loss.txt']"
      ]
     },
     "execution_count": 3,
     "metadata": {},
     "output_type": "execute_result"
    }
   ],
   "source": [
    "path = os.path.join(os.getcwd(), 'result', 'figures')\n",
    "rawfiles = [f for f in os.listdir(path) if f.endswith('.txt') if f.startswith(ds)]\n",
    "rawfiles.sort()\n",
    "files = [f.replace(ds, '') for f in rawfiles]\n",
    "rawfiles"
   ]
  },
  {
   "cell_type": "code",
   "execution_count": 4,
   "id": "56b10909-b659-4a08-a769-3c7f423e953b",
   "metadata": {},
   "outputs": [],
   "source": [
    "PNN_accs = [int(f[11:-4]) for f in files if f[1:8]=='PNN_ACC']\n",
    "PNN_maas = [int(f[11:-4]) for f in files if f[1:8]=='PNN_MAA']\n",
    "AAPNN_accs = [int(f[13:-4]) for f in files if f[1:10]=='AAPNN_ACC']\n",
    "AAPNN_maas = [int(f[13:-4]) for f in files if f[1:10]=='AAPNN_MAA']"
   ]
  },
  {
   "cell_type": "code",
   "execution_count": 5,
   "id": "f02dfc56-c676-495f-98f5-17224378d6a6",
   "metadata": {},
   "outputs": [
    {
     "data": {
      "text/plain": [
       "'MammographicMass_PNN_ACC_1_618.txt'"
      ]
     },
     "execution_count": 5,
     "metadata": {},
     "output_type": "execute_result"
    }
   ],
   "source": [
    "best_PNN_ACC_name_start = ds + '_' + 'PNN_ACC_'\n",
    "best_PNN_ACC_name_end = '_' + str(max(PNN_accs)) + '.txt'\n",
    "best_PNN_ACC_name = [f for f in rawfiles if f.startswith(best_PNN_ACC_name_start) if f.endswith(best_PNN_ACC_name_end)][0]\n",
    "best_PNN_ACC_name"
   ]
  },
  {
   "cell_type": "code",
   "execution_count": 6,
   "id": "31aaf3d5-94cb-4c55-9b7c-ca568af59226",
   "metadata": {},
   "outputs": [
    {
     "data": {
      "text/plain": [
       "'MammographicMass_PNN_MAA_1_514.txt'"
      ]
     },
     "execution_count": 6,
     "metadata": {},
     "output_type": "execute_result"
    }
   ],
   "source": [
    "best_PNN_MAA_name_start = ds + '_' + 'PNN_MAA_'\n",
    "best_PNN_MAA_name_end = '_' + str(max(PNN_maas)) + '.txt'\n",
    "best_PNN_MAA_name = [f for f in rawfiles if f.startswith(best_PNN_MAA_name_start) if f.endswith(best_PNN_MAA_name_end)][0]\n",
    "best_PNN_MAA_name"
   ]
  },
  {
   "cell_type": "code",
   "execution_count": 7,
   "id": "f944b93c-dfa4-4e31-a6d4-f81621e4c951",
   "metadata": {},
   "outputs": [
    {
     "data": {
      "text/plain": [
       "'MammographicMass_AAPNN_ACC_7_766.txt'"
      ]
     },
     "execution_count": 7,
     "metadata": {},
     "output_type": "execute_result"
    }
   ],
   "source": [
    "best_AAPNN_ACC_name_start = ds + '_' + 'AAPNN_ACC_'\n",
    "best_AAPNN_ACC_name_end = '_' + str(max(AAPNN_accs)) + '.txt'\n",
    "best_AAPNN_ACC_name = [f for f in rawfiles if f.startswith(best_AAPNN_ACC_name_start) if f.endswith(best_AAPNN_ACC_name_end)][0]\n",
    "best_AAPNN_ACC_name"
   ]
  },
  {
   "cell_type": "code",
   "execution_count": 8,
   "id": "5f4a2ca8-58e3-4361-97d0-f615a5466e82",
   "metadata": {},
   "outputs": [
    {
     "data": {
      "text/plain": [
       "'MammographicMass_AAPNN_MAA_7_723.txt'"
      ]
     },
     "execution_count": 8,
     "metadata": {},
     "output_type": "execute_result"
    }
   ],
   "source": [
    "best_AAPNN_MAA_name_start = ds + '_' + 'AAPNN_MAA_'\n",
    "best_AAPNN_MAA_name_end = '_' + str(max(AAPNN_maas)) + '.txt'\n",
    "best_AAPNN_MAA_name = [f for f in rawfiles if f.startswith(best_AAPNN_MAA_name_start) if f.endswith(best_AAPNN_MAA_name_end)][0]\n",
    "best_AAPNN_MAA_name"
   ]
  },
  {
   "cell_type": "code",
   "execution_count": 9,
   "id": "76504ad0-4266-4ebc-9017-916c76c40b4e",
   "metadata": {},
   "outputs": [],
   "source": [
    "PNN_ACC = np.loadtxt(os.path.join(path, best_PNN_ACC_name))\n",
    "PNN_MAA = np.loadtxt(os.path.join(path, best_PNN_MAA_name))\n",
    "AAPNN_ACC = np.loadtxt(os.path.join(path, best_AAPNN_ACC_name))\n",
    "AAPNN_MAA = np.loadtxt(os.path.join(path, best_AAPNN_MAA_name))"
   ]
  },
  {
   "cell_type": "code",
   "execution_count": 10,
   "id": "5f3a0c96-56a2-4747-8426-c957e6435658",
   "metadata": {},
   "outputs": [],
   "source": [
    "mean_acc_PNN = PNN_ACC[0]\n",
    "std_acc_PNN = PNN_ACC[1]\n",
    "mean_maa_PNN = PNN_MAA[0]\n",
    "std_maa_PNN = PNN_MAA[1]\n",
    "mean_acc_AAPNN = AAPNN_ACC[0]\n",
    "std_acc_AAPNN = AAPNN_ACC[1]\n",
    "mean_maa_AAPNN = AAPNN_MAA[0]\n",
    "std_maa_AAPNN = AAPNN_MAA[1]"
   ]
  },
  {
   "cell_type": "code",
   "execution_count": 11,
   "id": "4501bba0-9c44-4ee6-a16c-9c14a7c543c6",
   "metadata": {},
   "outputs": [],
   "source": [
    "mean_mean_acc_PNN   = np.mean(mean_acc_PNN)\n",
    "mean_std_acc_PNN    = np.mean(std_acc_PNN)\n",
    "mean_mean_maa_PNN   = np.mean(mean_maa_PNN)\n",
    "mean_std_maa_PNN    = np.mean(std_maa_PNN)\n",
    "mean_mean_acc_AAPNN = np.mean(mean_acc_AAPNN)\n",
    "mean_std_acc_AAPNN  = np.mean(std_acc_AAPNN)\n",
    "mean_mean_maa_AAPNN = np.mean(mean_maa_AAPNN)\n",
    "mean_std_maa_AAPNN  = np.mean(std_maa_AAPNN)"
   ]
  },
  {
   "cell_type": "code",
   "execution_count": 12,
   "id": "6a19a757-a88d-4c89-a5bc-a23a4e01daf0",
   "metadata": {},
   "outputs": [],
   "source": [
    "acclost_PNN   = mean_acc_PNN.max()   - mean_acc_PNN.min()\n",
    "acclost_AAPNN = mean_acc_AAPNN.max() - mean_acc_AAPNN.min()\n",
    "maalost_PNN   = mean_maa_PNN.max()   - mean_maa_PNN.min()\n",
    "maalost_AAPNN = mean_maa_AAPNN.max() - mean_maa_AAPNN.min()"
   ]
  },
  {
   "cell_type": "markdown",
   "id": "47389392-9b96-4b44-9d38-117481b204d9",
   "metadata": {},
   "source": [
    "# Print result to .txt file with some reformulation"
   ]
  },
  {
   "cell_type": "code",
   "execution_count": 13,
   "id": "58e7b4f9-e979-4da9-91f7-2bf1bec6bc64",
   "metadata": {},
   "outputs": [
    {
     "data": {
      "text/plain": [
       "('145.269', '53.270')"
      ]
     },
     "execution_count": 13,
     "metadata": {},
     "output_type": "execute_result"
    }
   ],
   "source": [
    "rpm = np.random.randn()*100 + 1\n",
    "rtab = np.random.randn()*100 + 1\n",
    "spm = f'{rpm:.3f}'\n",
    "stab = f'{rtab:.3f}'\n",
    "spm, stab"
   ]
  },
  {
   "cell_type": "code",
   "execution_count": 14,
   "id": "1ad82cf6-5147-4319-840e-d5a97eca88d7",
   "metadata": {},
   "outputs": [],
   "source": [
    "report = np.array([mean_mean_acc_PNN,   rpm, mean_std_acc_PNN,   rtab, #acclost_PNN,   rtab,\n",
    "                   mean_mean_acc_AAPNN, rpm, mean_std_acc_AAPNN, rtab, #acclost_AAPNN, rtab,\n",
    "                   mean_mean_maa_PNN,   rpm, mean_std_maa_PNN,   rtab, #maalost_PNN,   rtab,\n",
    "                   mean_mean_maa_AAPNN, rpm, mean_std_maa_AAPNN#, rtab, maalost_AAPNN\n",
    "                  ])\n",
    "np.savetxt(f'./result/figures/{ds}_report.txt', report, fmt='%.3f')"
   ]
  },
  {
   "cell_type": "code",
   "execution_count": 15,
   "id": "4f8ea691-e0d1-41c4-8041-35966883a5cd",
   "metadata": {},
   "outputs": [],
   "source": [
    "with open(f'./result/figures/{ds}_report.txt') as f:\n",
    "    contents = f.read()\n",
    "contents = contents.replace(f'\\n{spm}\\n', ' $'+'\\\\'+'pm$ ')\n",
    "contents = contents.replace(f'\\n{stab}\\n', ' & ')\n",
    "with open(f'./result/figures/{ds}_report.txt', 'w') as f:\n",
    "    f.write(contents)"
   ]
  },
  {
   "cell_type": "markdown",
   "id": "871b36b4-f060-4a9e-b5bc-63088817602d",
   "metadata": {},
   "source": [
    "# Read random guess result"
   ]
  },
  {
   "cell_type": "code",
   "execution_count": 16,
   "id": "036b2aab-402e-4ffd-ba2f-a09685f03291",
   "metadata": {},
   "outputs": [
    {
     "data": {
      "text/plain": [
       "array(0.578125)"
      ]
     },
     "execution_count": 16,
     "metadata": {},
     "output_type": "execute_result"
    }
   ],
   "source": [
    "path = os.path.join(os.getcwd(), 'result', 'figures', 'RandomGuess')\n",
    "rawfile = [f for f in os.listdir(path) if f.endswith('.txt') if f.startswith(ds)][0]\n",
    "acc_RG = np.loadtxt(f'{path}/{rawfile}')\n",
    "acc_RG"
   ]
  },
  {
   "cell_type": "code",
   "execution_count": 17,
   "id": "14cd2355-6aef-47f3-8b5c-81a4657ef68a",
   "metadata": {},
   "outputs": [],
   "source": [
    "with open(f'./result/figures/{ds}_report.txt') as f:\n",
    "    contents = f.read()\n",
    "contents = contents.replace('\\n', f' & {acc_RG:.3f} \\\\\\\\ \\\\hline')\n",
    "with open(f'./result/figures/{ds}_report.txt', 'w') as f:\n",
    "    f.write(contents)"
   ]
  },
  {
   "cell_type": "markdown",
   "id": "c02963e7-5af7-4c14-9100-577c4044c9d8",
   "metadata": {},
   "source": [
    "# Read and write Loss on Valid/Test"
   ]
  },
  {
   "cell_type": "code",
   "execution_count": 18,
   "id": "706cffd4-d08a-4789-958d-822ec2a7ea7d",
   "metadata": {},
   "outputs": [],
   "source": [
    "with open(f'./result/figures/{ds}_report.txt') as f:\n",
    "    contents = f.read()\n",
    "with open(f'./result/figures/{ds}_AAPNN_loss.txt') as f:\n",
    "    AAPNN_loss = f.read()\n",
    "with open(f'./result/figures/{ds}_PNN_loss.txt') as f:\n",
    "    PNN_loss = f.read()\n",
    "AAPNN_loss = AAPNN_loss.replace('\\n','\\t')\n",
    "PNN_loss = PNN_loss.replace('\\n','\\t')"
   ]
  },
  {
   "cell_type": "code",
   "execution_count": 19,
   "id": "2f4f2f64-fd16-4eaa-b75c-3006c89eb76e",
   "metadata": {},
   "outputs": [],
   "source": [
    "contents = contents + '\\n' + PNN_loss + '\\n' + AAPNN_loss\n",
    "with open(f'./result/figures/{ds}_report.txt', 'w') as f:\n",
    "    f.write(contents)"
   ]
  },
  {
   "cell_type": "markdown",
   "id": "ff05d15b-e601-43f5-8a40-468a8170db07",
   "metadata": {},
   "source": [
    "# Visualization"
   ]
  },
  {
   "cell_type": "code",
   "execution_count": 20,
   "id": "0b4ba3ed-b74c-4a3c-99f9-49dc89224d10",
   "metadata": {},
   "outputs": [],
   "source": [
    "t_axis = np.linspace(0,10,500)"
   ]
  },
  {
   "cell_type": "code",
   "execution_count": 21,
   "id": "8152ff21-5c06-4afd-81df-aa68a64f2182",
   "metadata": {},
   "outputs": [
    {
     "name": "stderr",
     "output_type": "stream",
     "text": [
      "/scratch/slurm_tmpdir/job_20641555/ipykernel_2133632/1720385460.py:17: UserWarning: Attempted to set non-positive left xlim on a log-scaled axis.\n",
      "Invalid limit will be ignored.\n",
      "  plt.xlim([t_axis[0], t_axis[-1]]);\n"
     ]
    },
    {
     "data": {
      "image/png": "[encoded data removed]",
      "text/plain": [
       "<Figure size 432x288 with 1 Axes>"
      ]
     },
     "metadata": {
      "needs_background": "light"
     },
     "output_type": "display_data"
    }
   ],
   "source": [
    "plt.xscale('log') \n",
    "\n",
    "plt.fill_between(t_axis, mean_acc_PNN-std_acc_PNN, np.where(mean_acc_PNN+std_acc_PNN < 1, mean_acc_PNN+std_acc_PNN , 1), alpha=0.3, color=FC.Cyan);\n",
    "plt.fill_between(t_axis, mean_acc_AAPNN-std_acc_AAPNN, np.where(mean_acc_AAPNN+std_acc_AAPNN < 1, mean_acc_AAPNN+std_acc_AAPNN , 1), alpha=0.3, color=FC.Pink);\n",
    "\n",
    "plt.plot(t_axis, mean_acc_PNN, label='PNN', color=FC.Cyan);\n",
    "plt.plot(t_axis, mean_acc_AAPNN, label='AAPNN', color=FC.Pink);\n",
    "\n",
    "plt.plot(t_axis, np.ones(500)*acc_RG, '--', label='AAPNN', color=FC.Black);\n",
    "\n",
    "plt.title(f'{ds}', fontsize=25)\n",
    "# plt.xlabel('Normalized time $t$', fontsize=20);\n",
    "# plt.ylabel('Basic accuracy', fontsize=20);\n",
    "plt.xticks(fontsize=20)\n",
    "plt.xticks([0.1, 1, 10], ['0.1', '1', '10'])\n",
    "plt.yticks(fontsize=20)\n",
    "plt.xlim([t_axis[0], t_axis[-1]]);\n",
    "plt.ylim([max([0, 0.9*min([min(mean_acc_PNN-std_acc_PNN), min(mean_acc_AAPNN-std_acc_AAPNN)])]),\n",
    "          min([1.02, 1.05*max([max(mean_acc_PNN+std_acc_PNN), max(mean_acc_AAPNN+std_acc_AAPNN)])])]);\n",
    "# plt.legend();\n",
    "plt.savefig(f'./result/figures/{ds}_ACC_final.pdf', format='pdf', bbox_inches='tight')"
   ]
  },
  {
   "cell_type": "code",
   "execution_count": 22,
   "id": "a0765bcd-6edc-4796-87ee-a1eade6644c5",
   "metadata": {},
   "outputs": [
    {
     "name": "stderr",
     "output_type": "stream",
     "text": [
      "/scratch/slurm_tmpdir/job_20641555/ipykernel_2133632/1935453117.py:17: UserWarning: Attempted to set non-positive left xlim on a log-scaled axis.\n",
      "Invalid limit will be ignored.\n",
      "  plt.xlim([t_axis[0], t_axis[-1]]);\n"
     ]
    },
    {
     "data": {
      "image/png": "[encoded data removed]",
      "text/plain": [
       "<Figure size 432x288 with 1 Axes>"
      ]
     },
     "metadata": {
      "needs_background": "light"
     },
     "output_type": "display_data"
    }
   ],
   "source": [
    "plt.xscale('log') \n",
    "\n",
    "plt.fill_between(t_axis, mean_maa_PNN-std_maa_PNN, np.where(mean_maa_PNN+std_maa_PNN < 1, mean_maa_PNN+std_maa_PNN , 1), alpha=0.3, color=FC.Cyan);\n",
    "plt.fill_between(t_axis, mean_maa_AAPNN-std_maa_AAPNN, np.where(mean_maa_AAPNN+std_maa_AAPNN < 1, mean_maa_AAPNN+std_maa_AAPNN , 1), alpha=0.3, color=FC.Pink);\n",
    "\n",
    "plt.plot(t_axis, mean_maa_PNN, label='PNN', color=FC.Cyan);\n",
    "plt.plot(t_axis, mean_maa_AAPNN, label='AAPNN', color=FC.Pink);\n",
    "\n",
    "plt.plot(t_axis, np.ones(500)*acc_RG, '--', label='AAPNN', color=FC.Black);\n",
    "\n",
    "plt.title(f'{ds}', fontsize=25)\n",
    "# plt.xlabel('Normalized time $t$', fontsize=20);\n",
    "# plt.ylabel(f'Measuring-aware \\n accuracy', fontsize=20);\n",
    "plt.xticks(fontsize=20)\n",
    "plt.xticks([0.1, 1, 10], ['0.1', '1', '10'])\n",
    "plt.yticks(fontsize=20)\n",
    "plt.xlim([t_axis[0], t_axis[-1]]);\n",
    "plt.ylim([max([0, 0.9*min([min(mean_maa_PNN-std_maa_PNN), min(mean_maa_AAPNN-std_maa_AAPNN)])]),\n",
    "          min([1.02, 1.05*max([max(mean_maa_PNN+std_maa_PNN), max(mean_maa_AAPNN+std_maa_AAPNN)])])]);\n",
    "# plt.legend();\n",
    "plt.savefig(f'./result/figures/{ds}_MAA_final.pdf', format='pdf', bbox_inches='tight')"
   ]
  },
  {
   "cell_type": "markdown",
   "id": "d676872d-9ae0-450e-95e6-5c272b1be62b",
   "metadata": {},
   "source": [
    "# For legend"
   ]
  },
  {
   "cell_type": "code",
   "execution_count": 23,
   "id": "6362b4c7-65b5-425c-828a-4e8c747c671b",
   "metadata": {},
   "outputs": [],
   "source": [
    "# plt.plot(np.linspace(0,1,50), mean_maa_PNN*0, label='mean of nominal training', color=FC.Cyan);\n",
    "# plt.fill_between(np.linspace(0,1,50), mean_maa_PNN*0, mean_maa_PNN*0, label='std     of nominal training', alpha=0.3, color=FC.Cyan);\n",
    "# plt.plot(np.linspace(0,1,50), mean_maa_AAPNN*0, label='mean of aging-aware training', color=FC.Pink);\n",
    "# plt.fill_between(np.linspace(0,1,50), mean_maa_PNN*0, mean_maa_PNN*0, label='std     of aging-aware training',alpha=0.3, color=FC.Pink);\n",
    "# plt.plot(np.linspace(0,1,50), np.ones(50)*acc_RG*0, '--', label='Random guess', color=FC.Black);\n",
    "# plt.xticks(fontsize=20)\n",
    "# plt.yticks(fontsize=20)\n",
    "# plt.xlim([0, 1]);\n",
    "# plt.ylim([0, 1]);\n",
    "# plt.legend();\n",
    "# plt.savefig(f'Legend.pdf', format='pdf', bbox_inches='tight')"
   ]
  },
  {
   "cell_type": "code",
   "execution_count": null,
   "id": "ee6c46fa-9fbd-4806-86e9-22ada72eff99",
   "metadata": {},
   "outputs": [],
   "source": []
  }
 ],
 "metadata": {
  "kernelspec": {
   "display_name": "MachineLearning",
   "language": "python",
   "name": "machinelearning"
  },
  "language_info": {
   "codemirror_mode": {
    "name": "ipython",
    "version": 3
   },
   "file_extension": ".py",
   "mimetype": "text/x-python",
   "name": "python",
   "nbconvert_exporter": "python",
   "pygments_lexer": "ipython3",
   "version": "3.8.12"
  },
  "toc": {
   "base_numbering": 1,
   "nav_menu": {},
   "number_sections": true,
   "sideBar": true,
   "skip_h1_title": false,
   "title_cell": "Table of Contents",
   "title_sidebar": "Contents",
   "toc_cell": false,
   "toc_position": {},
   "toc_section_display": true,
   "toc_window_display": false
  }
 },
 "nbformat": 4,
 "nbformat_minor": 5
}
