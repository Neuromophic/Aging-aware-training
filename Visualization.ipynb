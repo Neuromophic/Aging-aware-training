{
 "cells": [
  {
   "cell_type": "code",
   "execution_count": 1,
   "id": "db15e4b3",
   "metadata": {},
   "outputs": [],
   "source": [
    "import os\n",
    "import matplotlib.pyplot as plt\n",
    "import numpy as np\n",
    "import config\n",
    "import sys\n",
    "sys.path.append(os.path.join(os.getcwd(), 'Aging_Model'))\n",
    "import FigureConfig as FC"
   ]
  },
  {
   "cell_type": "markdown",
   "id": "ee6997e0-dc56-4a5d-8d5e-fae1243e9f77",
   "metadata": {},
   "source": [
    "# Dataset"
   ]
  },
  {
   "cell_type": "code",
   "execution_count": 2,
   "id": "63ddb1ed-59cf-4fe1-ae3f-48be2a3e908d",
   "metadata": {},
   "outputs": [
    {
     "data": {
      "text/plain": [
       "'VertebralColumn_c3'"
      ]
     },
     "execution_count": 2,
     "metadata": {},
     "output_type": "execute_result"
    }
   ],
   "source": [
    "if config.current_dataset is not None:\n",
    "    ds = config.datasets[config.current_dataset]\n",
    "else:\n",
    "    ds = config.datasets[0]\n",
    "\n",
    "ds"
   ]
  },
  {
   "cell_type": "code",
   "execution_count": 3,
   "id": "0688f4d8-263a-4187-8d34-8b413ba39e17",
   "metadata": {},
   "outputs": [
    {
     "data": {
      "text/plain": [
       "['VertebralColumn_c3_AAPNN_ACC_2_746.txt',\n",
       " 'VertebralColumn_c3_AAPNN_MAA_2_646.txt',\n",
       " 'VertebralColumn_c3_PNN_ACC_2_747.txt',\n",
       " 'VertebralColumn_c3_PNN_MAA_2_654.txt',\n",
       " 'VertebralColumn_c3_report.txt']"
      ]
     },
     "execution_count": 3,
     "metadata": {},
     "output_type": "execute_result"
    }
   ],
   "source": [
    "path = os.path.join(os.getcwd(), 'result', 'figures')\n",
    "rawfiles = [f for f in os.listdir(path) if f.endswith('.txt') if f.startswith(ds)]\n",
    "rawfiles.sort()\n",
    "files = [f.replace(ds, '') for f in rawfiles]\n",
    "rawfiles"
   ]
  },
  {
   "cell_type": "code",
   "execution_count": 4,
   "id": "56b10909-b659-4a08-a769-3c7f423e953b",
   "metadata": {},
   "outputs": [],
   "source": [
    "PNN_accs = [int(f[11:-4]) for f in files if f[1:8]=='PNN_ACC']\n",
    "PNN_maas = [int(f[11:-4]) for f in files if f[1:8]=='PNN_MAA']\n",
    "AAPNN_accs = [int(f[13:-4]) for f in files if f[1:10]=='AAPNN_ACC']\n",
    "AAPNN_maas = [int(f[13:-4]) for f in files if f[1:10]=='AAPNN_MAA']"
   ]
  },
  {
   "cell_type": "code",
   "execution_count": 5,
   "id": "f02dfc56-c676-495f-98f5-17224378d6a6",
   "metadata": {},
   "outputs": [
    {
     "data": {
      "text/plain": [
       "'VertebralColumn_c3_PNN_ACC_2_747.txt'"
      ]
     },
     "execution_count": 5,
     "metadata": {},
     "output_type": "execute_result"
    }
   ],
   "source": [
    "best_PNN_ACC_name_start = ds + '_' + 'PNN_ACC_'\n",
    "best_PNN_ACC_name_end = '_' + str(max(PNN_accs)) + '.txt'\n",
    "best_PNN_ACC_name = [f for f in rawfiles if f.startswith(best_PNN_ACC_name_start) if f.endswith(best_PNN_ACC_name_end)][0]\n",
    "best_PNN_ACC_name"
   ]
  },
  {
   "cell_type": "code",
   "execution_count": 6,
   "id": "31aaf3d5-94cb-4c55-9b7c-ca568af59226",
   "metadata": {},
   "outputs": [
    {
     "data": {
      "text/plain": [
       "'VertebralColumn_c3_PNN_MAA_2_654.txt'"
      ]
     },
     "execution_count": 6,
     "metadata": {},
     "output_type": "execute_result"
    }
   ],
   "source": [
    "best_PNN_MAA_name_start = ds + '_' + 'PNN_MAA_'\n",
    "best_PNN_MAA_name_end = '_' + str(max(PNN_maas)) + '.txt'\n",
    "best_PNN_MAA_name = [f for f in rawfiles if f.startswith(best_PNN_MAA_name_start) if f.endswith(best_PNN_MAA_name_end)][0]\n",
    "best_PNN_MAA_name"
   ]
  },
  {
   "cell_type": "code",
   "execution_count": 7,
   "id": "f944b93c-dfa4-4e31-a6d4-f81621e4c951",
   "metadata": {},
   "outputs": [
    {
     "data": {
      "text/plain": [
       "'VertebralColumn_c3_AAPNN_ACC_2_746.txt'"
      ]
     },
     "execution_count": 7,
     "metadata": {},
     "output_type": "execute_result"
    }
   ],
   "source": [
    "best_AAPNN_ACC_name_start = ds + '_' + 'AAPNN_ACC_'\n",
    "best_AAPNN_ACC_name_end = '_' + str(max(AAPNN_accs)) + '.txt'\n",
    "best_AAPNN_ACC_name = [f for f in rawfiles if f.startswith(best_AAPNN_ACC_name_start) if f.endswith(best_AAPNN_ACC_name_end)][0]\n",
    "best_AAPNN_ACC_name"
   ]
  },
  {
   "cell_type": "code",
   "execution_count": 8,
   "id": "5f4a2ca8-58e3-4361-97d0-f615a5466e82",
   "metadata": {},
   "outputs": [
    {
     "data": {
      "text/plain": [
       "'VertebralColumn_c3_AAPNN_MAA_2_646.txt'"
      ]
     },
     "execution_count": 8,
     "metadata": {},
     "output_type": "execute_result"
    }
   ],
   "source": [
    "best_AAPNN_MAA_name_start = ds + '_' + 'AAPNN_MAA_'\n",
    "best_AAPNN_MAA_name_end = '_' + str(max(AAPNN_maas)) + '.txt'\n",
    "best_AAPNN_MAA_name = [f for f in rawfiles if f.startswith(best_AAPNN_MAA_name_start) if f.endswith(best_AAPNN_MAA_name_end)][0]\n",
    "best_AAPNN_MAA_name"
   ]
  },
  {
   "cell_type": "code",
   "execution_count": 9,
   "id": "76504ad0-4266-4ebc-9017-916c76c40b4e",
   "metadata": {},
   "outputs": [],
   "source": [
    "PNN_ACC = np.loadtxt(os.path.join(path, best_PNN_ACC_name))\n",
    "PNN_MAA = np.loadtxt(os.path.join(path, best_PNN_MAA_name))\n",
    "AAPNN_ACC = np.loadtxt(os.path.join(path, best_AAPNN_ACC_name))\n",
    "AAPNN_MAA = np.loadtxt(os.path.join(path, best_AAPNN_MAA_name))"
   ]
  },
  {
   "cell_type": "code",
   "execution_count": 10,
   "id": "5f3a0c96-56a2-4747-8426-c957e6435658",
   "metadata": {},
   "outputs": [],
   "source": [
    "mean_acc_PNN = PNN_ACC[0]\n",
    "std_acc_PNN = PNN_ACC[1]\n",
    "mean_maa_PNN = PNN_MAA[0]\n",
    "std_maa_PNN = PNN_MAA[1]\n",
    "mean_acc_AAPNN = AAPNN_ACC[0]\n",
    "std_acc_AAPNN = AAPNN_ACC[1]\n",
    "mean_maa_AAPNN = AAPNN_MAA[0]\n",
    "std_maa_AAPNN = AAPNN_MAA[1]"
   ]
  },
  {
   "cell_type": "code",
   "execution_count": 11,
   "id": "4501bba0-9c44-4ee6-a16c-9c14a7c543c6",
   "metadata": {},
   "outputs": [],
   "source": [
    "mean_mean_acc_PNN   = np.mean(mean_acc_PNN)\n",
    "mean_std_acc_PNN    = np.mean(std_acc_PNN)\n",
    "mean_mean_maa_PNN   = np.mean(mean_maa_PNN)\n",
    "mean_std_maa_PNN    = np.mean(std_maa_PNN)\n",
    "mean_mean_acc_AAPNN = np.mean(mean_acc_AAPNN)\n",
    "mean_std_acc_AAPNN  = np.mean(std_acc_AAPNN)\n",
    "mean_mean_maa_AAPNN = np.mean(mean_maa_AAPNN)\n",
    "mean_std_maa_AAPNN  = np.mean(std_maa_AAPNN)\n",
    "\n",
    "report = np.array([mean_mean_acc_PNN,   mean_std_acc_PNN,   mean_mean_maa_PNN,   mean_std_maa_PNN,\n",
    "                   mean_mean_acc_AAPNN, mean_std_acc_AAPNN, mean_mean_maa_AAPNN, mean_std_maa_AAPNN])\n",
    "np.savetxt(f'./result/figures/{ds}_report.txt', report, fmt='%.3f')"
   ]
  },
  {
   "cell_type": "markdown",
   "id": "ff05d15b-e601-43f5-8a40-468a8170db07",
   "metadata": {},
   "source": [
    "# Visualization"
   ]
  },
  {
   "cell_type": "code",
   "execution_count": 12,
   "id": "8152ff21-5c06-4afd-81df-aa68a64f2182",
   "metadata": {},
   "outputs": [
    {
     "data": {
      "image/png": "[encoded data removed]",
      "text/plain": [
       "<Figure size 432x288 with 1 Axes>"
      ]
     },
     "metadata": {
      "needs_background": "light"
     },
     "output_type": "display_data"
    }
   ],
   "source": [
    "plt.fill_between(np.linspace(0,1,50), mean_acc_PNN-std_acc_PNN, np.where(mean_acc_PNN+std_acc_PNN < 1, mean_acc_PNN+std_acc_PNN , 1), alpha=0.3, color=FC.Cyan);\n",
    "plt.fill_between(np.linspace(0,1,50), mean_acc_AAPNN-std_acc_AAPNN, np.where(mean_acc_AAPNN+std_acc_AAPNN < 1, mean_acc_AAPNN+std_acc_AAPNN , 1), alpha=0.3, color=FC.Pink);\n",
    "\n",
    "plt.plot(np.linspace(0,1,50), mean_acc_PNN, label='PNN', color=FC.Cyan);\n",
    "plt.plot(np.linspace(0,1,50), mean_acc_AAPNN, label='AAPNN', color=FC.Pink);\n",
    "\n",
    "plt.title(f'{ds}', fontsize=20)\n",
    "# plt.xlabel('Normalized time $t$', fontsize=20);\n",
    "# plt.ylabel('Basic accuracy', fontsize=20);\n",
    "plt.xticks(fontsize=15)\n",
    "plt.yticks(fontsize=15)\n",
    "plt.xlim([0, 1]);\n",
    "plt.ylim([max([0, 0.9*min([min(mean_acc_PNN-std_acc_PNN), min(mean_acc_AAPNN-std_acc_AAPNN)])]),\n",
    "          min([1.02, 1.05*max([max(mean_acc_PNN+std_acc_PNN), max(mean_acc_AAPNN+std_acc_AAPNN)])])]);\n",
    "\n",
    "# plt.legend();\n",
    "plt.savefig(f'./result/figures/{ds}_ACC_final.pdf', format='pdf', bbox_inches='tight')"
   ]
  },
  {
   "cell_type": "code",
   "execution_count": 13,
   "id": "a0765bcd-6edc-4796-87ee-a1eade6644c5",
   "metadata": {},
   "outputs": [
    {
     "data": {
      "image/png": "[encoded data removed]",
      "text/plain": [
       "<Figure size 432x288 with 1 Axes>"
      ]
     },
     "metadata": {
      "needs_background": "light"
     },
     "output_type": "display_data"
    }
   ],
   "source": [
    "plt.fill_between(np.linspace(0,1,50), mean_maa_PNN-std_maa_PNN, np.where(mean_maa_PNN+std_maa_PNN < 1, mean_maa_PNN+std_maa_PNN , 1), alpha=0.3, color=FC.Cyan);\n",
    "plt.fill_between(np.linspace(0,1,50), mean_maa_AAPNN-std_maa_AAPNN, np.where(mean_maa_AAPNN+std_maa_AAPNN < 1, mean_maa_AAPNN+std_maa_AAPNN , 1), alpha=0.3, color=FC.Pink);\n",
    "\n",
    "plt.plot(np.linspace(0,1,50), mean_maa_PNN, label='PNN', color=FC.Cyan);\n",
    "plt.plot(np.linspace(0,1,50), mean_maa_AAPNN, label='AAPNN', color=FC.Pink);\n",
    "\n",
    "plt.title(f'{ds}', fontsize=20)\n",
    "# plt.xlabel('Normalized time $t$', fontsize=20);\n",
    "# plt.ylabel(f'Measuring-aware \\n accuracy', fontsize=20);\n",
    "plt.xticks(fontsize=15)\n",
    "plt.yticks(fontsize=15)\n",
    "plt.xlim([0, 1]);\n",
    "plt.ylim([max([0, 0.9*min([min(mean_maa_PNN-std_maa_PNN), min(mean_maa_AAPNN-std_maa_AAPNN)])]),\n",
    "          min([1.02, 1.05*max([max(mean_maa_PNN+std_maa_PNN), max(mean_maa_AAPNN+std_maa_AAPNN)])])]);\n",
    "# plt.legend();\n",
    "plt.savefig(f'./result/figures/{ds}_MAA_final.pdf', format='pdf', bbox_inches='tight')"
   ]
  }
 ],
 "metadata": {
  "kernelspec": {
   "display_name": "MachineLearning",
   "language": "python",
   "name": "machinelearning"
  },
  "language_info": {
   "codemirror_mode": {
    "name": "ipython",
    "version": 3
   },
   "file_extension": ".py",
   "mimetype": "text/x-python",
   "name": "python",
   "nbconvert_exporter": "python",
   "pygments_lexer": "ipython3",
   "version": "3.8.12"
  },
  "toc": {
   "base_numbering": 1,
   "nav_menu": {},
   "number_sections": true,
   "sideBar": true,
   "skip_h1_title": false,
   "title_cell": "Table of Contents",
   "title_sidebar": "Contents",
   "toc_cell": false,
   "toc_position": {},
   "toc_section_display": true,
   "toc_window_display": false
  }
 },
 "nbformat": 4,
 "nbformat_minor": 5
}
