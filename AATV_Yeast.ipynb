{
 "cells": [
  {
   "cell_type": "markdown",
   "id": "e0f1319a",
   "metadata": {},
   "source": [
    "# Aging Aware with Model Variation\n",
    "Previously, we optimize the following functional:\n",
    "$$ \\min_\\theta \\, \\int_{t=0}^{1} \\; L(\\theta(t)) \\, {\\rm d}t. $$\n",
    "The optimum is for a specific aging model $\\omega$, i.e., we minimized the \n",
    "$$ \\min_\\theta \\, \\int_{t=0}^{1} \\; L(\\theta(t,\\omega)) \\, {\\rm d}t. $$\n",
    "However, we dont know how will the resistance decay, i.e., we should also minimize the loss function w.r.t. aging models with different parameters. That means we need to optimized\n",
    "$$ \\min_\\theta \\, \\int_{\\omega}\\int_{t=0}^{1} \\; L(\\theta(t,\\omega)) \\, {\\rm d}t\\, p(\\omega){\\rm d}\\omega. $$\n",
    "The Mento Carlo Approximation is then\n",
    "$$\n",
    "\\min_{\\theta_{\\rm init}} \\frac{1}{\\Omega}\\frac{1}{K}\\sum_{\\omega\\in\\mathfrak{M}}\\sum_{k\\in \\mathfrak{K} } L \\left(\\theta[k, \\omega]\\right),\n",
    "$$\n",
    "where $\\mathfrak{M}$ is the set of $\\Omega$ elements following the distribution $p(\\omega)$. $p(\\omega)$ is the distributions of parameters of the aging model. We have already obtained these distributions as we modeled the aging decay.\n",
    "\n",
    "That means we should optimize this problem by\n",
    "$$\n",
    "\\begin{align}\n",
    "\\theta_{\\rm init}&:=\\theta_{\\rm init} - \\alpha\\cdot\\nabla_{\\theta_{\\rm init}}\\left(\\frac{1}{\\Omega}\\frac{1}{K}\\sum_{\\omega\\in\\mathfrak{M}}\\sum_{k\\in \\mathfrak{K} } L \\left(\\theta[k, \\omega]\\right)\\right)\\\\\n",
    "&=\\theta_{\\rm init} - \\frac{\\alpha}{\\Omega K}\\cdot\\nabla_{\\theta_{\\rm init}}\\left(\\sum_{\\omega\\in\\mathfrak{M}}\\sum_{k\\in \\mathfrak{K} } L \\left(\\theta[k, \\omega]\\right)\\right)\\\\\n",
    "&=\\theta_{\\rm init} - \\frac{\\alpha}{\\Omega K}\\left(\\sum_{\\omega\\in\\mathfrak{M}}\\sum_{k\\in \\mathfrak{K} }\\nabla_{\\theta_{\\rm init}} L \\left(\\theta[k, \\omega]\\right)\\right)\n",
    "\\end{align}\n",
    "$$"
   ]
  },
  {
   "cell_type": "markdown",
   "id": "eab183f8",
   "metadata": {},
   "source": [
    "# Import library"
   ]
  },
  {
   "cell_type": "code",
   "execution_count": 1,
   "id": "0bc40b33",
   "metadata": {},
   "outputs": [],
   "source": [
    "import importlib\n",
    "from torch.autograd import Variable\n",
    "import torch\n",
    "import pickle\n",
    "import os\n",
    "import sys\n",
    "import matplotlib.pyplot as plt\n",
    "import numpy as np\n",
    "import pNN_aging_aware_vectorization as pnnv\n",
    "import training_vectorization as tv\n",
    "import random\n",
    "sys.path.append(os.path.join(os.getcwd(), 'Aging_Model'))"
   ]
  },
  {
   "cell_type": "markdown",
   "id": "af93c27e-7559-466e-9a0f-084e03f0c576",
   "metadata": {},
   "source": [
    "# Random Seed"
   ]
  },
  {
   "cell_type": "code",
   "execution_count": 2,
   "id": "66785455-86c3-4e9a-a35e-4bd3c3f465eb",
   "metadata": {},
   "outputs": [],
   "source": [
    "seed = 1\n",
    "\n",
    "random.seed(seed);\n",
    "np.random.seed(seed);\n",
    "torch.manual_seed(seed);"
   ]
  },
  {
   "cell_type": "markdown",
   "id": "9b31036f-1808-460e-a011-acd675130bb5",
   "metadata": {},
   "source": [
    "# Get Aging Model"
   ]
  },
  {
   "cell_type": "code",
   "execution_count": 3,
   "id": "ba549dc5-0e02-4b8d-aefa-05764dfcfde6",
   "metadata": {},
   "outputs": [],
   "source": [
    "with open(os.path.join(os.getcwd(), 'Aging_Model', 'exp_aging_model.p'), 'rb') as f:\n",
    "    age_generator = pickle.load(f)"
   ]
  },
  {
   "cell_type": "markdown",
   "id": "1026bd3c",
   "metadata": {},
   "source": [
    "# Device"
   ]
  },
  {
   "cell_type": "code",
   "execution_count": 4,
   "id": "b0e91163",
   "metadata": {},
   "outputs": [
    {
     "data": {
      "text/plain": [
       "device(type='cuda', index=0)"
      ]
     },
     "execution_count": 4,
     "metadata": {},
     "output_type": "execute_result"
    }
   ],
   "source": [
    "device = torch.device('cuda' if torch.cuda.is_available() else 'cpu')\n",
    "# device = torch.device('cuda:0')\n",
    "device"
   ]
  },
  {
   "cell_type": "markdown",
   "id": "15519567",
   "metadata": {},
   "source": [
    "# Prepare data"
   ]
  },
  {
   "cell_type": "markdown",
   "id": "f224be26-e399-42a8-9c96-e285490e8916",
   "metadata": {},
   "source": [
    "## Dataset"
   ]
  },
  {
   "cell_type": "code",
   "execution_count": 5,
   "id": "92014c65-5b5c-4b61-93ef-30f044282eb3",
   "metadata": {},
   "outputs": [],
   "source": [
    "ds = 'Yeast'"
   ]
  },
  {
   "cell_type": "markdown",
   "id": "3f9b925b",
   "metadata": {},
   "source": [
    "## Load data"
   ]
  },
  {
   "cell_type": "code",
   "execution_count": 6,
   "id": "fd3f8c31",
   "metadata": {},
   "outputs": [
    {
     "data": {
      "text/plain": [
       "(torch.Size([1484, 8]), torch.Size([1484]), 1484, 8, 10)"
      ]
     },
     "execution_count": 6,
     "metadata": {},
     "output_type": "execute_result"
    }
   ],
   "source": [
    "datapath = os.path.join(os.getcwd(), 'Datasets', 'Haibin',\n",
    "                        'data_processed', f'Dataset_{ds}.p')\n",
    "with open(datapath, 'rb') as f:\n",
    "    dataset = pickle.load(f)\n",
    "X = dataset['X'].float()\n",
    "y = dataset['y']\n",
    "\n",
    "E, N_features, N_class = X.shape[0], X.shape[1], torch.max(\n",
    "    torch.unique(y)).item()+1\n",
    "X.shape, y.shape, E, N_features, N_class"
   ]
  },
  {
   "cell_type": "markdown",
   "id": "35adbc19",
   "metadata": {},
   "source": [
    "## Pseudo-electrical Signal"
   ]
  },
  {
   "cell_type": "code",
   "execution_count": 7,
   "id": "ea0969cc",
   "metadata": {},
   "outputs": [
    {
     "data": {
      "text/plain": [
       "(tensor(0.), tensor(1.))"
      ]
     },
     "execution_count": 7,
     "metadata": {},
     "output_type": "execute_result"
    }
   ],
   "source": [
    "X = X / (torch.max(X, axis=0)[0] - torch.min(X, axis=0)[0])\n",
    "X = X - torch.min(X, axis=0)[0]\n",
    "torch.min(X), torch.max(X)"
   ]
  },
  {
   "cell_type": "code",
   "execution_count": 8,
   "id": "9d04d54b",
   "metadata": {},
   "outputs": [
    {
     "data": {
      "text/plain": [
       "tensor([[0.5281, 0.5517, 0.3291, 0.1300, 0.0000, 0.0000, 0.6575, 0.2200],\n",
       "        [0.3596, 0.6207, 0.3418, 0.2700, 0.0000, 0.0000, 0.7260, 0.2200],\n",
       "        [0.5955, 0.5632, 0.3544, 0.1500, 0.0000, 0.0000, 0.7260, 0.2200],\n",
       "        [0.5281, 0.3563, 0.4557, 0.1300, 0.0000, 0.0000, 0.7397, 0.2200],\n",
       "        [0.3483, 0.3563, 0.3418, 0.5400, 0.0000, 0.0000, 0.6575, 0.2200],\n",
       "        [0.4494, 0.3103, 0.4430, 0.1700, 0.0000, 0.6024, 0.6712, 0.2200],\n",
       "        [0.4382, 0.4713, 0.3418, 0.6500, 0.0000, 0.0000, 0.7260, 0.2200],\n",
       "        [0.4157, 0.3678, 0.4810, 0.2000, 0.0000, 0.0000, 0.7945, 0.3400],\n",
       "        [0.4944, 0.4253, 0.5696, 0.3600, 0.0000, 0.0000, 0.6712, 0.2200],\n",
       "        [0.3258, 0.2989, 0.4937, 0.1500, 0.0000, 0.0000, 0.7945, 0.3000]])"
      ]
     },
     "execution_count": 8,
     "metadata": {},
     "output_type": "execute_result"
    }
   ],
   "source": [
    "X[:10, :9]"
   ]
  },
  {
   "cell_type": "code",
   "execution_count": 9,
   "id": "6d30ecfc",
   "metadata": {},
   "outputs": [
    {
     "data": {
      "text/plain": [
       "(890, 296, 296)"
      ]
     },
     "execution_count": 9,
     "metadata": {},
     "output_type": "execute_result"
    }
   ],
   "source": [
    "from torch.utils.data import TensorDataset\n",
    "from torch.utils.data import DataLoader\n",
    "from torch.utils.data import random_split\n",
    "\n",
    "# generate tensordataset\n",
    "dataset = TensorDataset(X.to(device), y.to(device))\n",
    "\n",
    "# split\n",
    "train_rate = 0.6\n",
    "test_rate = 0.2\n",
    "valid_rate = 0.2\n",
    "E_train = min(4096, int(E*train_rate))\n",
    "E_test = min(1024, int(E*test_rate))\n",
    "E_valid = min(1024, int(E*valid_rate))\n",
    "\n",
    "train_data, rest_data = random_split(dataset, [E_train, E-E_train])\n",
    "test_data, rest_data = random_split(rest_data, [E_test, E-E_train-E_test])\n",
    "valid_data, rest_data = random_split(rest_data, [E_valid, E-E_train-E_test-E_valid])\n",
    "\n",
    "len(train_data), len(test_data), len(valid_data)"
   ]
  },
  {
   "cell_type": "code",
   "execution_count": 10,
   "id": "4f8988b7",
   "metadata": {},
   "outputs": [],
   "source": [
    "# batch\n",
    "train_loader = DataLoader(train_data, batch_size=len(train_data))\n",
    "test_loader = DataLoader(test_data, batch_size=len(test_data))\n",
    "valid_loader = DataLoader(valid_data, batch_size=len(valid_data))"
   ]
  },
  {
   "cell_type": "markdown",
   "id": "bb0f57e2",
   "metadata": {},
   "source": [
    "# Hyperparameter"
   ]
  },
  {
   "cell_type": "code",
   "execution_count": 11,
   "id": "608550a4",
   "metadata": {},
   "outputs": [],
   "source": [
    "N_Hidden = 5\n",
    "m = 0.3\n",
    "T = 0.1\n",
    "M_train = 100\n",
    "K_train = 20\n",
    "M_test = 20\n",
    "K_test = 10"
   ]
  },
  {
   "cell_type": "markdown",
   "id": "98cf49ee-2bf2-4d63-8073-71feab7d7cff",
   "metadata": {},
   "source": [
    "# Normal NN"
   ]
  },
  {
   "cell_type": "markdown",
   "id": "f3030cec-d9a3-4baa-8fdf-778491a9e5b7",
   "metadata": {},
   "source": [
    "## Define"
   ]
  },
  {
   "cell_type": "code",
   "execution_count": 12,
   "id": "d8578200-6be0-46b8-81be-2d0726a9d4a0",
   "metadata": {},
   "outputs": [
    {
     "data": {
      "text/plain": [
       "Sequential(\n",
       "  (0): Linear(in_features=8, out_features=5, bias=True)\n",
       "  (1): Tanh()\n",
       "  (2): Linear(in_features=5, out_features=10, bias=True)\n",
       "  (3): Tanh()\n",
       ")"
      ]
     },
     "execution_count": 12,
     "metadata": {},
     "output_type": "execute_result"
    }
   ],
   "source": [
    "NN = torch.nn.Sequential(torch.nn.Linear(N_features, N_Hidden), torch.nn.Tanh(),\n",
    "                        torch.nn.Linear(N_Hidden, N_class), torch.nn.Tanh())\n",
    "\n",
    "\n",
    "def weights_init(m):\n",
    "    if isinstance(m, torch.nn.Linear):\n",
    "        torch.nn.init.xavier_uniform_(m.weight)\n",
    "        m.bias.data.fill_(0.01)\n",
    "\n",
    "NN.apply(weights_init)\n",
    "\n",
    "celoss = torch.nn.CrossEntropyLoss()\n",
    "NN.to(device)"
   ]
  },
  {
   "cell_type": "markdown",
   "id": "f3ad2024-6626-423b-b707-09c8d33e2dc2",
   "metadata": {},
   "source": [
    "## Training"
   ]
  },
  {
   "cell_type": "code",
   "execution_count": 13,
   "id": "22ff31fc-c84e-4a1f-a656-7807a6238aa2",
   "metadata": {},
   "outputs": [
    {
     "data": {
      "application/vnd.jupyter.widget-view+json": {
       "model_id": "e07217f7733344e0af12fbb5a6f29579",
       "version_major": 2,
       "version_minor": 0
      },
      "text/plain": [
       "  0%|          | 0/50000 [00:00<?, ?it/s]"
      ]
     },
     "metadata": {},
     "output_type": "display_data"
    },
    {
     "name": "stdout",
     "output_type": "stream",
     "text": [
      "| Epoch:     0 | Accuracy: 0.19257 | Loss: 2.150249720\n",
      "| Epoch:   500 | Accuracy: 0.51351 | Loss: 1.551343441\n",
      "| Epoch:  1000 | Accuracy: 0.50000 | Loss: 1.560261369\n",
      "| Epoch:  1500 | Accuracy: 0.49324 | Loss: 1.577465773\n",
      "| Epoch:  2000 | Accuracy: 0.49662 | Loss: 1.591911554\n",
      "| Epoch:  2500 | Accuracy: 0.50676 | Loss: 1.599231005\n",
      "| Epoch:  3000 | Accuracy: 0.48649 | Loss: 1.604980111\n",
      "| Epoch:  3500 | Accuracy: 0.47635 | Loss: 1.550764680\n",
      "| Epoch:  4000 | Accuracy: 0.47973 | Loss: 1.551471353\n",
      "| Epoch:  4500 | Accuracy: 0.47297 | Loss: 1.521981597\n",
      "| Epoch:  5000 | Accuracy: 0.46959 | Loss: 1.518361092\n",
      "| Epoch:  5500 | Accuracy: 0.47635 | Loss: 1.514379263\n",
      "| Epoch:  6000 | Accuracy: 0.47297 | Loss: 1.512659431\n",
      "| Epoch:  6500 | Accuracy: 0.47973 | Loss: 1.515134692\n",
      "| Epoch:  7000 | Accuracy: 0.47635 | Loss: 1.513172269\n",
      "| Epoch:  7500 | Accuracy: 0.47635 | Loss: 1.520194650\n",
      "| Epoch:  8000 | Accuracy: 0.47635 | Loss: 1.515115023\n",
      "| Epoch:  8500 | Accuracy: 0.46622 | Loss: 1.521162033\n",
      "| Epoch:  9000 | Accuracy: 0.47635 | Loss: 1.517438412\n",
      "| Epoch:  9500 | Accuracy: 0.47635 | Loss: 1.510201693\n",
      "| Epoch: 10000 | Accuracy: 0.48311 | Loss: 1.511324167\n",
      "Early stop.\n",
      "Finished.\n"
     ]
    }
   ],
   "source": [
    "optimizer_NN = torch.optim.Adam(NN.parameters(), lr=0.1)\n",
    "train_loader = DataLoader(train_data, batch_size=min(len(train_data),1024))\n",
    "train_loss_NN, test_loss_NN, parameter_NN = tv.train_normal_nn(NN,\n",
    "                                                                     train_loader,\n",
    "                                                                     test_loader,\n",
    "                                                                     optimizer=optimizer_NN,\n",
    "                                                                     lossfunction=celoss,\n",
    "                                                                     Epoch=50000)"
   ]
  },
  {
   "cell_type": "code",
   "execution_count": 14,
   "id": "2b482bd5-babe-4185-ac37-c6c15f27c16e",
   "metadata": {},
   "outputs": [
    {
     "data": {
      "text/plain": [
       "(5565, 1.5000112056732178)"
      ]
     },
     "execution_count": 14,
     "metadata": {},
     "output_type": "execute_result"
    },
    {
     "data": {
      "image/png": "[encoded data removed]",
      "text/plain": [
       "<Figure size 432x288 with 1 Axes>"
      ]
     },
     "metadata": {
      "needs_background": "light"
     },
     "output_type": "display_data"
    }
   ],
   "source": [
    "plt.plot(train_loss_NN, '-', label='train')\n",
    "plt.plot(test_loss_NN, '--', label='test')\n",
    "plt.legend()\n",
    "NN.load_state_dict(parameter_NN)\n",
    "best = np.argmin(test_loss_NN)\n",
    "best, test_loss_NN[best]"
   ]
  },
  {
   "cell_type": "code",
   "execution_count": 15,
   "id": "c7f1d27f-e30d-430d-ae9e-673e3fcacbea",
   "metadata": {},
   "outputs": [
    {
     "data": {
      "application/vnd.jupyter.widget-view+json": {
       "model_id": "b9b91aad59a949aa9ba495f7ed31bef5",
       "version_major": 2,
       "version_minor": 0
      },
      "text/plain": [
       "  0%|          | 0/50000 [00:00<?, ?it/s]"
      ]
     },
     "metadata": {},
     "output_type": "display_data"
    },
    {
     "name": "stdout",
     "output_type": "stream",
     "text": [
      "| Epoch:     0 | Accuracy: 0.47297 | Loss: 1.507454395\n",
      "| Epoch:   500 | Accuracy: 0.47297 | Loss: 1.518766642\n",
      "| Epoch:  1000 | Accuracy: 0.47297 | Loss: 1.520737886\n",
      "| Epoch:  1500 | Accuracy: 0.47297 | Loss: 1.521703124\n",
      "| Epoch:  2000 | Accuracy: 0.46959 | Loss: 1.522517562\n",
      "| Epoch:  2500 | Accuracy: 0.47973 | Loss: 1.522857308\n",
      "| Epoch:  3000 | Accuracy: 0.47973 | Loss: 1.522143960\n",
      "| Epoch:  3500 | Accuracy: 0.48311 | Loss: 1.523296237\n",
      "| Epoch:  4000 | Accuracy: 0.47635 | Loss: 1.524397969\n",
      "| Epoch:  4500 | Accuracy: 0.47973 | Loss: 1.526035905\n",
      "| Epoch:  5000 | Accuracy: 0.47635 | Loss: 1.524387717\n",
      "| Epoch:  5500 | Accuracy: 0.47635 | Loss: 1.524852633\n",
      "| Epoch:  6000 | Accuracy: 0.47973 | Loss: 1.524999619\n",
      "| Epoch:  6500 | Accuracy: 0.48649 | Loss: 1.525354624\n",
      "| Epoch:  7000 | Accuracy: 0.48649 | Loss: 1.525616288\n",
      "| Epoch:  7500 | Accuracy: 0.48649 | Loss: 1.526608348\n",
      "| Epoch:  8000 | Accuracy: 0.48649 | Loss: 1.526778817\n",
      "| Epoch:  8500 | Accuracy: 0.48311 | Loss: 1.527304173\n",
      "| Epoch:  9000 | Accuracy: 0.48311 | Loss: 1.527186275\n",
      "| Epoch:  9500 | Accuracy: 0.48311 | Loss: 1.528380275\n",
      "| Epoch: 10000 | Accuracy: 0.48311 | Loss: 1.528053641\n",
      "Early stop.\n",
      "Finished.\n"
     ]
    }
   ],
   "source": [
    "optimizer_NN = torch.optim.Adam(NN.parameters(), lr=0.01)\n",
    "train_loader = DataLoader(train_data, batch_size=len(train_data))\n",
    "train_loss_NN, test_loss_NN, parameter_NN = tv.train_normal_nn(NN,\n",
    "                                                                     train_loader,\n",
    "                                                                     test_loader,\n",
    "                                                                     optimizer=optimizer_NN,\n",
    "                                                                     lossfunction=celoss,\n",
    "                                                                     Epoch=50000)"
   ]
  },
  {
   "cell_type": "code",
   "execution_count": 16,
   "id": "126f5a62-ec48-466b-bb09-a9ab513d2054",
   "metadata": {},
   "outputs": [
    {
     "data": {
      "text/plain": [
       "(3, 1.501798391342163)"
      ]
     },
     "execution_count": 16,
     "metadata": {},
     "output_type": "execute_result"
    },
    {
     "data": {
      "image/png": "[encoded data removed]",
      "text/plain": [
       "<Figure size 432x288 with 1 Axes>"
      ]
     },
     "metadata": {
      "needs_background": "light"
     },
     "output_type": "display_data"
    }
   ],
   "source": [
    "plt.plot(train_loss_NN, '-', label='train')\n",
    "plt.plot(test_loss_NN, '--', label='test')\n",
    "plt.legend()\n",
    "NN.load_state_dict(parameter_NN)\n",
    "best = np.argmin(test_loss_NN)\n",
    "best, test_loss_NN[best]"
   ]
  },
  {
   "cell_type": "code",
   "execution_count": 17,
   "id": "56955489-a421-4d80-b4ba-de6871871670",
   "metadata": {},
   "outputs": [
    {
     "data": {
      "application/vnd.jupyter.widget-view+json": {
       "model_id": "0fa477f23f364572af5e6a8209a0aa1f",
       "version_major": 2,
       "version_minor": 0
      },
      "text/plain": [
       "  0%|          | 0/50000 [00:00<?, ?it/s]"
      ]
     },
     "metadata": {},
     "output_type": "display_data"
    },
    {
     "name": "stdout",
     "output_type": "stream",
     "text": [
      "| Epoch:     0 | Accuracy: 0.47297 | Loss: 1.502423882\n",
      "| Epoch:   500 | Accuracy: 0.46959 | Loss: 1.513819456\n",
      "| Epoch:  1000 | Accuracy: 0.46959 | Loss: 1.514999747\n",
      "| Epoch:  1500 | Accuracy: 0.47297 | Loss: 1.516426325\n",
      "| Epoch:  2000 | Accuracy: 0.47297 | Loss: 1.518017292\n",
      "| Epoch:  2500 | Accuracy: 0.47297 | Loss: 1.519400716\n",
      "| Epoch:  3000 | Accuracy: 0.47297 | Loss: 1.520405173\n",
      "| Epoch:  3500 | Accuracy: 0.47297 | Loss: 1.521617889\n",
      "| Epoch:  4000 | Accuracy: 0.47297 | Loss: 1.522254109\n",
      "| Epoch:  4500 | Accuracy: 0.47297 | Loss: 1.522446036\n",
      "| Epoch:  5000 | Accuracy: 0.47297 | Loss: 1.522619486\n",
      "| Epoch:  5500 | Accuracy: 0.47297 | Loss: 1.522757530\n",
      "| Epoch:  6000 | Accuracy: 0.47297 | Loss: 1.522907495\n",
      "| Epoch:  6500 | Accuracy: 0.47297 | Loss: 1.523024321\n",
      "| Epoch:  7000 | Accuracy: 0.47297 | Loss: 1.523157239\n",
      "| Epoch:  7500 | Accuracy: 0.47297 | Loss: 1.523248076\n",
      "| Epoch:  8000 | Accuracy: 0.47297 | Loss: 1.523387551\n",
      "| Epoch:  8500 | Accuracy: 0.47635 | Loss: 1.523480296\n",
      "| Epoch:  9000 | Accuracy: 0.47635 | Loss: 1.523626685\n",
      "| Epoch:  9500 | Accuracy: 0.47973 | Loss: 1.523798227\n",
      "| Epoch: 10000 | Accuracy: 0.47973 | Loss: 1.523885727\n",
      "Early stop.\n",
      "Finished.\n"
     ]
    }
   ],
   "source": [
    "optimizer_NN = torch.optim.Adam(NN.parameters(), lr=0.001)\n",
    "train_loader = DataLoader(train_data, batch_size=len(train_data))\n",
    "train_loss_NN, test_loss_NN, parameter_NN = tv.train_normal_nn(NN,\n",
    "                                                                     train_loader,\n",
    "                                                                     test_loader,\n",
    "                                                                     optimizer=optimizer_NN,\n",
    "                                                                     lossfunction=celoss,\n",
    "                                                                     Epoch=50000)"
   ]
  },
  {
   "cell_type": "code",
   "execution_count": 18,
   "id": "202233c8-206f-4cb4-8c47-d5277bce5b39",
   "metadata": {},
   "outputs": [
    {
     "data": {
      "text/plain": [
       "(0, 1.502423882484436)"
      ]
     },
     "execution_count": 18,
     "metadata": {},
     "output_type": "execute_result"
    },
    {
     "data": {
      "image/png": "[encoded data removed]",
      "text/plain": [
       "<Figure size 432x288 with 1 Axes>"
      ]
     },
     "metadata": {
      "needs_background": "light"
     },
     "output_type": "display_data"
    }
   ],
   "source": [
    "plt.plot(train_loss_NN, '-', label='train')\n",
    "plt.plot(test_loss_NN, '--', label='test')\n",
    "plt.legend()\n",
    "NN.load_state_dict(parameter_NN)\n",
    "best = np.argmin(test_loss_NN)\n",
    "best, test_loss_NN[best]"
   ]
  },
  {
   "cell_type": "markdown",
   "id": "6568b4fd-62c9-4891-8cba-0b289bbf1e67",
   "metadata": {},
   "source": [
    "## Save Model"
   ]
  },
  {
   "cell_type": "code",
   "execution_count": 19,
   "id": "3f076686-a233-4434-b21f-486c95c9a78b",
   "metadata": {},
   "outputs": [],
   "source": [
    "with open(f'./result/{ds}_NN_{seed}.p', 'wb') as f:\n",
    "    pickle.dump(NN, f)"
   ]
  },
  {
   "cell_type": "markdown",
   "id": "38d0bfe4-d2ea-45fb-827b-3ba9f5a37618",
   "metadata": {},
   "source": [
    "## Evaluation"
   ]
  },
  {
   "cell_type": "code",
   "execution_count": 20,
   "id": "63f6d5f0-5245-4325-b384-58b4d79999a1",
   "metadata": {},
   "outputs": [
    {
     "name": "stdout",
     "output_type": "stream",
     "text": [
      "0.527027027027027\n"
     ]
    }
   ],
   "source": [
    "for x_valid, y_valid in valid_loader:\n",
    "    prediction_valid = NN(x_valid)\n",
    "    p = torch.argmax(prediction_valid, 1)\n",
    "    pred_y = p.cpu().data.numpy().squeeze()\n",
    "    acc_valid = sum(pred_y == y_valid.cpu().numpy()) / y_valid.shape[0]\n",
    "print(acc_valid)"
   ]
  },
  {
   "cell_type": "code",
   "execution_count": 21,
   "id": "2ec00e50-62f8-4ca1-98bc-e9db2eacefd7",
   "metadata": {},
   "outputs": [
    {
     "data": {
      "text/plain": [
       "Sequential(\n",
       "  (0): Linear(in_features=8, out_features=5, bias=True)\n",
       "  (1): Tanh()\n",
       "  (2): Linear(in_features=5, out_features=10, bias=True)\n",
       "  (3): Tanh()\n",
       ")"
      ]
     },
     "execution_count": 21,
     "metadata": {},
     "output_type": "execute_result"
    }
   ],
   "source": [
    "NN.to('cpu')"
   ]
  },
  {
   "cell_type": "markdown",
   "id": "5c65c580",
   "metadata": {},
   "source": [
    "# Normal PNN"
   ]
  },
  {
   "cell_type": "markdown",
   "id": "11fcb7de",
   "metadata": {},
   "source": [
    "## Define"
   ]
  },
  {
   "cell_type": "code",
   "execution_count": 22,
   "id": "098714b2",
   "metadata": {},
   "outputs": [
    {
     "data": {
      "text/plain": [
       "Sequential(\n",
       "  (0): PNNLayer()\n",
       "  (1): PNNLayer()\n",
       ")"
      ]
     },
     "execution_count": 22,
     "metadata": {},
     "output_type": "execute_result"
    }
   ],
   "source": [
    "PNN = torch.nn.Sequential(pnnv.PNNLayer(N_features, N_Hidden, age_generator, xpu=device),\n",
    "                         pnnv.PNNLayer(N_Hidden, N_class, age_generator, xpu=device))\n",
    "\n",
    "PNN.apply(lambda z: pnnv.MakeModel(z, M=1))\n",
    "PNN.apply(lambda z: pnnv.SetTime(z, t=[0]))\n",
    "\n",
    "PNN.to(device)"
   ]
  },
  {
   "cell_type": "markdown",
   "id": "8eb6a0c4-b427-4278-b855-0c6f78ba5b8d",
   "metadata": {},
   "source": [
    "## Training"
   ]
  },
  {
   "cell_type": "code",
   "execution_count": 23,
   "id": "b248e211",
   "metadata": {},
   "outputs": [
    {
     "data": {
      "application/vnd.jupyter.widget-view+json": {
       "model_id": "ebfc3c40247d447299fb064a44ba8656",
       "version_major": 2,
       "version_minor": 0
      },
      "text/plain": [
       "  0%|          | 0/50000 [00:00<?, ?it/s]"
      ]
     },
     "metadata": {},
     "output_type": "display_data"
    },
    {
     "name": "stdout",
     "output_type": "stream",
     "text": [
      "| Epoch:     0 | Accuracy: 0.13851 | Loss: 1.391388297 |\n",
      "| Epoch:   500 | Accuracy: 0.56081 | Loss: 0.630789518 |\n",
      "| Epoch:  1000 | Accuracy: 0.56081 | Loss: 0.626028597 |\n",
      "| Epoch:  1500 | Accuracy: 0.53041 | Loss: 0.631323159 |\n",
      "| Epoch:  2000 | Accuracy: 0.56081 | Loss: 0.626255393 |\n",
      "| Epoch:  2500 | Accuracy: 0.56081 | Loss: 0.622252107 |\n",
      "| Epoch:  3000 | Accuracy: 0.56419 | Loss: 0.619910300 |\n",
      "| Epoch:  3500 | Accuracy: 0.55405 | Loss: 0.618958712 |\n",
      "| Epoch:  4000 | Accuracy: 0.56757 | Loss: 0.616529047 |\n",
      "| Epoch:  4500 | Accuracy: 0.56757 | Loss: 0.617592514 |\n",
      "| Epoch:  5000 | Accuracy: 0.57095 | Loss: 0.616495430 |\n",
      "| Epoch:  5500 | Accuracy: 0.57770 | Loss: 0.610824347 |\n",
      "| Epoch:  6000 | Accuracy: 0.56419 | Loss: 0.605431139 |\n",
      "| Epoch:  6500 | Accuracy: 0.58108 | Loss: 0.607675612 |\n",
      "| Epoch:  7000 | Accuracy: 0.57095 | Loss: 0.606440246 |\n",
      "| Epoch:  7500 | Accuracy: 0.54392 | Loss: 0.610637724 |\n",
      "| Epoch:  8000 | Accuracy: 0.57095 | Loss: 0.608605087 |\n",
      "| Epoch:  8500 | Accuracy: 0.59122 | Loss: 0.606616139 |\n",
      "| Epoch:  9000 | Accuracy: 0.57095 | Loss: 0.603785634 |\n",
      "| Epoch:  9500 | Accuracy: 0.57770 | Loss: 0.607708097 |\n",
      "| Epoch: 10000 | Accuracy: 0.54730 | Loss: 0.607215047 |\n",
      "Early stop.\n",
      "Finished.\n"
     ]
    }
   ],
   "source": [
    "optimizer_PNN = torch.optim.Adam(PNN.parameters(), lr=0.1)\n",
    "train_loader = DataLoader(train_data, batch_size=min(len(train_data),1024))\n",
    "train_loss_PNN, test_loss_PNN, parameter_PNN = tv.train_normal_pnn(PNN, train_loader, test_loader,\n",
    "                                                                   m, T, optimizer_PNN,\n",
    "                                                                   pnnv.LossFunction, Epoch=50000, cache=ds)"
   ]
  },
  {
   "cell_type": "code",
   "execution_count": 24,
   "id": "9c2022fb-151b-40de-8e57-5d56e24460e3",
   "metadata": {},
   "outputs": [
    {
     "data": {
      "text/plain": [
       "(7534, 0.5991972088813782)"
      ]
     },
     "execution_count": 24,
     "metadata": {},
     "output_type": "execute_result"
    },
    {
     "data": {
      "image/png": "[encoded data removed]",
      "text/plain": [
       "<Figure size 432x288 with 1 Axes>"
      ]
     },
     "metadata": {
      "needs_background": "light"
     },
     "output_type": "display_data"
    }
   ],
   "source": [
    "plt.plot(train_loss_PNN, '-', label='train')\n",
    "plt.plot(test_loss_PNN, '--', label='test')\n",
    "plt.legend()\n",
    "best = np.argmin(test_loss_PNN)\n",
    "PNN.load_state_dict(parameter_PNN)\n",
    "best, test_loss_PNN[best]"
   ]
  },
  {
   "cell_type": "code",
   "execution_count": 25,
   "id": "f4c56418-565f-4857-9e75-07ba504b4dec",
   "metadata": {},
   "outputs": [
    {
     "data": {
      "application/vnd.jupyter.widget-view+json": {
       "model_id": "95ca6b58cc224cf1a25506de83886918",
       "version_major": 2,
       "version_minor": 0
      },
      "text/plain": [
       "  0%|          | 0/50000 [00:00<?, ?it/s]"
      ]
     },
     "metadata": {},
     "output_type": "display_data"
    },
    {
     "name": "stdout",
     "output_type": "stream",
     "text": [
      "| Epoch:     0 | Accuracy: 0.58108 | Loss: 0.603224397 |\n",
      "| Epoch:   500 | Accuracy: 0.58108 | Loss: 0.601583838 |\n",
      "| Epoch:  1000 | Accuracy: 0.57770 | Loss: 0.603733361 |\n",
      "| Epoch:  1500 | Accuracy: 0.57432 | Loss: 0.605963647 |\n",
      "| Epoch:  2000 | Accuracy: 0.53041 | Loss: 0.607315183 |\n",
      "| Epoch:  2500 | Accuracy: 0.54730 | Loss: 0.606997848 |\n",
      "| Epoch:  3000 | Accuracy: 0.55068 | Loss: 0.606827736 |\n",
      "| Epoch:  3500 | Accuracy: 0.56757 | Loss: 0.606103301 |\n",
      "| Epoch:  4000 | Accuracy: 0.54730 | Loss: 0.605941594 |\n",
      "| Epoch:  4500 | Accuracy: 0.56757 | Loss: 0.605746269 |\n",
      "| Epoch:  5000 | Accuracy: 0.56757 | Loss: 0.605487347 |\n",
      "| Epoch:  5500 | Accuracy: 0.55743 | Loss: 0.605568171 |\n",
      "| Epoch:  6000 | Accuracy: 0.56081 | Loss: 0.605217695 |\n",
      "| Epoch:  6500 | Accuracy: 0.55405 | Loss: 0.605603576 |\n",
      "| Epoch:  7000 | Accuracy: 0.52703 | Loss: 0.604967535 |\n",
      "| Epoch:  7500 | Accuracy: 0.56757 | Loss: 0.604534805 |\n",
      "| Epoch:  8000 | Accuracy: 0.54730 | Loss: 0.604492009 |\n",
      "| Epoch:  8500 | Accuracy: 0.56757 | Loss: 0.604273677 |\n",
      "| Epoch:  9000 | Accuracy: 0.55405 | Loss: 0.604138553 |\n",
      "| Epoch:  9500 | Accuracy: 0.55743 | Loss: 0.603764594 |\n",
      "| Epoch: 10000 | Accuracy: 0.56081 | Loss: 0.603529334 |\n",
      "| Epoch: 10500 | Accuracy: 0.55743 | Loss: 0.604119003 |\n",
      "| Epoch: 11000 | Accuracy: 0.55743 | Loss: 0.603945911 |\n",
      "| Epoch: 11500 | Accuracy: 0.55405 | Loss: 0.604305685 |\n",
      "Early stop.\n",
      "Finished.\n"
     ]
    }
   ],
   "source": [
    "optimizer_PNN = torch.optim.Adam(PNN.parameters(), lr=0.01)\n",
    "train_loader = DataLoader(train_data, batch_size=len(train_data))\n",
    "train_loss_PNN, test_loss_PNN, parameter_PNN = tv.train_normal_pnn(PNN, train_loader, test_loader,\n",
    "                                                                   m, T, optimizer_PNN,\n",
    "                                                                   pnnv.LossFunction, Epoch=50000, cache=ds)"
   ]
  },
  {
   "cell_type": "code",
   "execution_count": 26,
   "id": "b2298f06-db39-45c5-a1bd-d6210d45ef85",
   "metadata": {},
   "outputs": [
    {
     "data": {
      "text/plain": [
       "(3, 0.5995039939880371)"
      ]
     },
     "execution_count": 26,
     "metadata": {},
     "output_type": "execute_result"
    },
    {
     "data": {
      "image/png": "[encoded data removed]",
      "text/plain": [
       "<Figure size 432x288 with 1 Axes>"
      ]
     },
     "metadata": {
      "needs_background": "light"
     },
     "output_type": "display_data"
    }
   ],
   "source": [
    "plt.plot(train_loss_PNN, '-', label='train')\n",
    "plt.plot(test_loss_PNN, '--', label='test')\n",
    "plt.legend()\n",
    "best = np.argmin(test_loss_PNN)\n",
    "PNN.load_state_dict(parameter_PNN)\n",
    "best, test_loss_PNN[best]"
   ]
  },
  {
   "cell_type": "code",
   "execution_count": 27,
   "id": "44a3adbc-7414-49e5-89da-34d52ee29806",
   "metadata": {},
   "outputs": [
    {
     "data": {
      "application/vnd.jupyter.widget-view+json": {
       "model_id": "20d4d379beb044da81a2bb644f7bc3d5",
       "version_major": 2,
       "version_minor": 0
      },
      "text/plain": [
       "  0%|          | 0/50000 [00:00<?, ?it/s]"
      ]
     },
     "metadata": {},
     "output_type": "display_data"
    },
    {
     "name": "stdout",
     "output_type": "stream",
     "text": [
      "| Epoch:     0 | Accuracy: 0.57095 | Loss: 0.599412084 |\n",
      "| Epoch:   500 | Accuracy: 0.58784 | Loss: 0.600308597 |\n",
      "| Epoch:  1000 | Accuracy: 0.58784 | Loss: 0.601174951 |\n",
      "| Epoch:  1500 | Accuracy: 0.56419 | Loss: 0.601356745 |\n",
      "| Epoch:  2000 | Accuracy: 0.55743 | Loss: 0.601342082 |\n",
      "| Epoch:  2500 | Accuracy: 0.55743 | Loss: 0.601260543 |\n",
      "| Epoch:  3000 | Accuracy: 0.55743 | Loss: 0.601279259 |\n",
      "| Epoch:  3500 | Accuracy: 0.54054 | Loss: 0.601289213 |\n",
      "| Epoch:  4000 | Accuracy: 0.55743 | Loss: 0.601506829 |\n",
      "| Epoch:  4500 | Accuracy: 0.58108 | Loss: 0.601680338 |\n",
      "| Epoch:  5000 | Accuracy: 0.58108 | Loss: 0.602073967 |\n",
      "| Epoch:  5500 | Accuracy: 0.58108 | Loss: 0.602460027 |\n",
      "| Epoch:  6000 | Accuracy: 0.57770 | Loss: 0.602736056 |\n",
      "| Epoch:  6500 | Accuracy: 0.58108 | Loss: 0.602879226 |\n",
      "| Epoch:  7000 | Accuracy: 0.58108 | Loss: 0.603102386 |\n",
      "| Epoch:  7500 | Accuracy: 0.57432 | Loss: 0.603760004 |\n",
      "| Epoch:  8000 | Accuracy: 0.55743 | Loss: 0.604138076 |\n",
      "| Epoch:  8500 | Accuracy: 0.57432 | Loss: 0.604718685 |\n",
      "| Epoch:  9000 | Accuracy: 0.55068 | Loss: 0.605211914 |\n",
      "| Epoch:  9500 | Accuracy: 0.55068 | Loss: 0.605412066 |\n",
      "| Epoch: 10000 | Accuracy: 0.57432 | Loss: 0.605521619 |\n",
      "Early stop.\n",
      "Finished.\n"
     ]
    }
   ],
   "source": [
    "optimizer_PNN = torch.optim.Adam(PNN.parameters(), lr=0.001)\n",
    "train_loader = DataLoader(train_data, batch_size=len(train_data))\n",
    "train_loss_PNN, test_loss_PNN, parameter_PNN = tv.train_normal_pnn(PNN, train_loader, test_loader,\n",
    "                                                                   m, T, optimizer_PNN,\n",
    "                                                                   pnnv.LossFunction, Epoch=50000, cache=ds)"
   ]
  },
  {
   "cell_type": "code",
   "execution_count": 28,
   "id": "d612d550-ac09-4551-bc7b-b0fa7479a26f",
   "metadata": {},
   "outputs": [
    {
     "data": {
      "text/plain": [
       "(0, 0.5994120836257935)"
      ]
     },
     "execution_count": 28,
     "metadata": {},
     "output_type": "execute_result"
    },
    {
     "data": {
      "image/png": "[encoded data removed]",
      "text/plain": [
       "<Figure size 432x288 with 1 Axes>"
      ]
     },
     "metadata": {
      "needs_background": "light"
     },
     "output_type": "display_data"
    }
   ],
   "source": [
    "plt.plot(train_loss_PNN, '-', label='train')\n",
    "plt.plot(test_loss_PNN, '--', label='test')\n",
    "plt.legend()\n",
    "best = np.argmin(test_loss_PNN)\n",
    "PNN.load_state_dict(parameter_PNN)\n",
    "best, test_loss_PNN[best]"
   ]
  },
  {
   "cell_type": "markdown",
   "id": "bbef757b-0f2d-4e54-93dd-8f60121ca948",
   "metadata": {},
   "source": [
    "## Save Model"
   ]
  },
  {
   "cell_type": "code",
   "execution_count": 29,
   "id": "13a6ddc5-4d1c-4371-9b7d-b78844405e87",
   "metadata": {},
   "outputs": [],
   "source": [
    "with open(f'./result/{ds}_PNN_{seed}.p', 'wb') as f:\n",
    "    pickle.dump(PNN, f)"
   ]
  },
  {
   "cell_type": "code",
   "execution_count": 30,
   "id": "607f912d-7361-42ba-a915-41ad83b814a2",
   "metadata": {},
   "outputs": [
    {
     "data": {
      "text/plain": [
       "Sequential(\n",
       "  (0): PNNLayer()\n",
       "  (1): PNNLayer()\n",
       ")"
      ]
     },
     "execution_count": 30,
     "metadata": {},
     "output_type": "execute_result"
    }
   ],
   "source": [
    "PNN.to('cpu')"
   ]
  },
  {
   "cell_type": "markdown",
   "id": "59ebe567-61eb-4cb0-bbe1-71d8aff12aac",
   "metadata": {},
   "source": [
    "# Aging Aware PNN"
   ]
  },
  {
   "cell_type": "code",
   "execution_count": 31,
   "id": "19abcaae",
   "metadata": {},
   "outputs": [
    {
     "data": {
      "text/plain": [
       "Sequential(\n",
       "  (0): PNNLayer()\n",
       "  (1): PNNLayer()\n",
       ")"
      ]
     },
     "execution_count": 31,
     "metadata": {},
     "output_type": "execute_result"
    }
   ],
   "source": [
    "AAPNN = torch.nn.Sequential(pnnv.PNNLayer(N_features, N_Hidden, age_generator, xpu=device),\n",
    "                           pnnv.PNNLayer(N_Hidden, N_class, age_generator, xpu=device))\n",
    "\n",
    "AAPNN.apply(lambda z: pnnv.MakeModel(z, M_train))\n",
    "AAPNN.apply(lambda z: pnnv.SetTime(z, np.random.rand(K_train).tolist()))\n",
    "\n",
    "AAPNN.to(device)"
   ]
  },
  {
   "cell_type": "markdown",
   "id": "8b03e98a-fcdf-42a1-8f2b-582657cc47a0",
   "metadata": {},
   "source": [
    "## Reload AAPNN if crash"
   ]
  },
  {
   "cell_type": "code",
   "execution_count": 32,
   "id": "feaf2602-3633-4814-9b13-42c407dba269",
   "metadata": {},
   "outputs": [],
   "source": [
    "# if os.path.exists(f'./temp/{ds}_AAPNN.p'): \n",
    "#     with open(f'./temp/{ds}_AAPNN.p', 'rb') as f:\n",
    "#         AAPNN = pickle.load(f)"
   ]
  },
  {
   "cell_type": "markdown",
   "id": "e65740a1-a29a-48ca-b332-5cc4b0556ca9",
   "metadata": {},
   "source": [
    "## Training"
   ]
  },
  {
   "cell_type": "code",
   "execution_count": 33,
   "id": "183e27bb-8d0a-4448-be67-78927eaf8e1b",
   "metadata": {},
   "outputs": [
    {
     "data": {
      "application/vnd.jupyter.widget-view+json": {
       "model_id": "b7a2976e01994a3ea1977fa8cdfee4ee",
       "version_major": 2,
       "version_minor": 0
      },
      "text/plain": [
       "  0%|          | 0/500 [00:00<?, ?it/s]"
      ]
     },
     "metadata": {},
     "output_type": "display_data"
    },
    {
     "name": "stdout",
     "output_type": "stream",
     "text": [
      "| Epoch:     0 | Accuracy: 0.08144 | Loss: 1.314469337 |\n",
      "| Epoch:    25 | Accuracy: 0.28380 | Loss: 1.007588983 |\n",
      "| Epoch:    50 | Accuracy: 0.30003 | Loss: 0.992299139 |\n",
      "| Epoch:    75 | Accuracy: 0.32669 | Loss: 0.957732022 |\n",
      "| Epoch:   100 | Accuracy: 0.36233 | Loss: 0.909777701 |\n",
      "| Epoch:   125 | Accuracy: 0.36909 | Loss: 0.913924336 |\n",
      "| Epoch:   150 | Accuracy: 0.40973 | Loss: 0.890766501 |\n",
      "| Epoch:   175 | Accuracy: 0.39314 | Loss: 0.887536108 |\n",
      "| Epoch:   200 | Accuracy: 0.41956 | Loss: 0.860584855 |\n",
      "| Epoch:   225 | Accuracy: 0.41399 | Loss: 0.893221080 |\n",
      "| Epoch:   250 | Accuracy: 0.42608 | Loss: 0.882182121 |\n",
      "| Epoch:   275 | Accuracy: 0.42812 | Loss: 0.859642923 |\n",
      "| Epoch:   300 | Accuracy: 0.43275 | Loss: 0.847679257 |\n",
      "| Epoch:   325 | Accuracy: 0.43975 | Loss: 0.832834184 |\n",
      "| Epoch:   350 | Accuracy: 0.46620 | Loss: 0.819265664 |\n",
      "| Epoch:   375 | Accuracy: 0.45816 | Loss: 0.827507019 |\n",
      "| Epoch:   400 | Accuracy: 0.46750 | Loss: 0.845120788 |\n",
      "| Epoch:   425 | Accuracy: 0.47865 | Loss: 0.814826667 |\n",
      "| Epoch:   450 | Accuracy: 0.46698 | Loss: 0.828500748 |\n",
      "| Epoch:   475 | Accuracy: 0.50272 | Loss: 0.781990409 |\n",
      "Finished.\n"
     ]
    }
   ],
   "source": [
    "optimizer_AAPNN = torch.optim.Adam(AAPNN.parameters(), lr=0.1)\n",
    "train_loader = DataLoader(train_data, batch_size=min(len(train_data),1024))\n",
    "train_loss_AAPNN, test_loss_AAPNN, parameter_AAPNN = tv.train_aged_pnn(AAPNN, train_loader, test_loader,\n",
    "                                        m, T, M_train, K_train, M_test, K_test,\n",
    "                                        optimizer_AAPNN, pnnv.LossFunction,\n",
    "                                        Epoch=500, cache=ds)"
   ]
  },
  {
   "cell_type": "code",
   "execution_count": 34,
   "id": "ea0cb974",
   "metadata": {},
   "outputs": [
    {
     "data": {
      "text/plain": [
       "(445, 0.7810419201850891)"
      ]
     },
     "execution_count": 34,
     "metadata": {},
     "output_type": "execute_result"
    },
    {
     "data": {
      "image/png": "[encoded data removed]",
      "text/plain": [
       "<Figure size 432x288 with 1 Axes>"
      ]
     },
     "metadata": {
      "needs_background": "light"
     },
     "output_type": "display_data"
    }
   ],
   "source": [
    "plt.plot(train_loss_AAPNN, '-', label='train')\n",
    "plt.plot(test_loss_AAPNN, '--', label='test')\n",
    "plt.legend()\n",
    "best = np.argmin(test_loss_AAPNN)\n",
    "AAPNN.load_state_dict(parameter_AAPNN)\n",
    "best, test_loss_AAPNN[best]"
   ]
  },
  {
   "cell_type": "code",
   "execution_count": 35,
   "id": "eac79592-ecb0-4ba0-93a9-ee82f9050e2c",
   "metadata": {},
   "outputs": [
    {
     "data": {
      "application/vnd.jupyter.widget-view+json": {
       "model_id": "3f548737f68b41d1a68a21db5c8d4297",
       "version_major": 2,
       "version_minor": 0
      },
      "text/plain": [
       "  0%|          | 0/500 [00:00<?, ?it/s]"
      ]
     },
     "metadata": {},
     "output_type": "display_data"
    },
    {
     "name": "stdout",
     "output_type": "stream",
     "text": [
      "| Epoch:     0 | Accuracy: 0.46662 | Loss: 0.805898070 |\n",
      "| Epoch:    25 | Accuracy: 0.48708 | Loss: 0.799534917 |\n",
      "| Epoch:    50 | Accuracy: 0.45365 | Loss: 0.822545767 |\n",
      "| Epoch:    75 | Accuracy: 0.48299 | Loss: 0.809578538 |\n",
      "| Epoch:   100 | Accuracy: 0.46552 | Loss: 0.811177433 |\n",
      "| Epoch:   125 | Accuracy: 0.47061 | Loss: 0.809200168 |\n",
      "| Epoch:   150 | Accuracy: 0.47137 | Loss: 0.839747965 |\n",
      "| Epoch:   175 | Accuracy: 0.48309 | Loss: 0.830113769 |\n",
      "| Epoch:   200 | Accuracy: 0.47495 | Loss: 0.807211578 |\n",
      "| Epoch:   225 | Accuracy: 0.50098 | Loss: 0.785942852 |\n",
      "| Epoch:   250 | Accuracy: 0.50211 | Loss: 0.777321577 |\n",
      "| Epoch:   275 | Accuracy: 0.47598 | Loss: 0.808482409 |\n",
      "| Epoch:   300 | Accuracy: 0.50916 | Loss: 0.774270356 |\n",
      "| Epoch:   325 | Accuracy: 0.46122 | Loss: 0.816139996 |\n",
      "| Epoch:   350 | Accuracy: 0.46463 | Loss: 0.819466352 |\n",
      "| Epoch:   375 | Accuracy: 0.51735 | Loss: 0.770798087 |\n",
      "| Epoch:   400 | Accuracy: 0.50976 | Loss: 0.797932863 |\n",
      "| Epoch:   425 | Accuracy: 0.49660 | Loss: 0.785620689 |\n",
      "| Epoch:   450 | Accuracy: 0.49206 | Loss: 0.808828950 |\n",
      "| Epoch:   475 | Accuracy: 0.46617 | Loss: 0.811331511 |\n",
      "Finished.\n"
     ]
    }
   ],
   "source": [
    "optimizer_AAPNN = torch.optim.Adam(AAPNN.parameters(), lr=0.01)\n",
    "train_loader = DataLoader(train_data, batch_size=len(train_data))\n",
    "train_loss_AAPNN, test_loss_AAPNN, parameter_AAPNN = tv.train_aged_pnn(AAPNN, train_loader, test_loader,\n",
    "                                        m, T, M_train, K_train, M_test, K_test,\n",
    "                                        optimizer_AAPNN, pnnv.LossFunction,\n",
    "                                        Epoch=500, cache=ds)"
   ]
  },
  {
   "cell_type": "code",
   "execution_count": 36,
   "id": "1239230b-9748-48c4-9823-50c54dab9f5c",
   "metadata": {},
   "outputs": [
    {
     "data": {
      "text/plain": [
       "(420, 0.7670140266418457)"
      ]
     },
     "execution_count": 36,
     "metadata": {},
     "output_type": "execute_result"
    },
    {
     "data": {
      "image/png": "[encoded data removed]",
      "text/plain": [
       "<Figure size 432x288 with 1 Axes>"
      ]
     },
     "metadata": {
      "needs_background": "light"
     },
     "output_type": "display_data"
    }
   ],
   "source": [
    "plt.plot(train_loss_AAPNN, '-', label='train')\n",
    "plt.plot(test_loss_AAPNN, '--', label='test')\n",
    "plt.legend()\n",
    "best = np.argmin(test_loss_AAPNN)\n",
    "AAPNN.load_state_dict(parameter_AAPNN)\n",
    "best, test_loss_AAPNN[best]"
   ]
  },
  {
   "cell_type": "code",
   "execution_count": 37,
   "id": "6ae4605b-0cb9-4394-afef-d515bebd8a3b",
   "metadata": {},
   "outputs": [
    {
     "data": {
      "application/vnd.jupyter.widget-view+json": {
       "model_id": "4e83177c472748fc89d830817d7a0c58",
       "version_major": 2,
       "version_minor": 0
      },
      "text/plain": [
       "  0%|          | 0/500 [00:00<?, ?it/s]"
      ]
     },
     "metadata": {},
     "output_type": "display_data"
    },
    {
     "name": "stdout",
     "output_type": "stream",
     "text": [
      "| Epoch:     0 | Accuracy: 0.48840 | Loss: 0.798744857 |\n",
      "| Epoch:    25 | Accuracy: 0.47537 | Loss: 0.825519562 |\n",
      "| Epoch:    50 | Accuracy: 0.48324 | Loss: 0.813384056 |\n",
      "| Epoch:    75 | Accuracy: 0.48801 | Loss: 0.816335440 |\n",
      "| Epoch:   100 | Accuracy: 0.50404 | Loss: 0.786440432 |\n",
      "| Epoch:   125 | Accuracy: 0.50127 | Loss: 0.782135367 |\n",
      "| Epoch:   150 | Accuracy: 0.48122 | Loss: 0.811451733 |\n",
      "| Epoch:   175 | Accuracy: 0.48253 | Loss: 0.802157640 |\n",
      "| Epoch:   200 | Accuracy: 0.46861 | Loss: 0.810095847 |\n",
      "| Epoch:   225 | Accuracy: 0.47887 | Loss: 0.803617299 |\n",
      "| Epoch:   250 | Accuracy: 0.49610 | Loss: 0.782632768 |\n",
      "| Epoch:   275 | Accuracy: 0.48296 | Loss: 0.810189605 |\n",
      "| Epoch:   300 | Accuracy: 0.49731 | Loss: 0.789664567 |\n",
      "| Epoch:   325 | Accuracy: 0.48331 | Loss: 0.820006788 |\n",
      "| Epoch:   350 | Accuracy: 0.49267 | Loss: 0.787811875 |\n",
      "| Epoch:   375 | Accuracy: 0.48042 | Loss: 0.819066107 |\n",
      "| Epoch:   400 | Accuracy: 0.48686 | Loss: 0.815625608 |\n",
      "| Epoch:   425 | Accuracy: 0.48356 | Loss: 0.798862278 |\n",
      "| Epoch:   450 | Accuracy: 0.49397 | Loss: 0.782099783 |\n",
      "| Epoch:   475 | Accuracy: 0.48356 | Loss: 0.803554296 |\n",
      "Finished.\n"
     ]
    }
   ],
   "source": [
    "optimizer_AAPNN = torch.optim.Adam(AAPNN.parameters(), lr=0.001)\n",
    "train_loader = DataLoader(train_data, batch_size=len(train_data))\n",
    "train_loss_AAPNN, test_loss_AAPNN, parameter_AAPNN = tv.train_aged_pnn(AAPNN, train_loader, test_loader,\n",
    "                                        m, T, M_train, K_train, M_test, K_test,\n",
    "                                        optimizer_AAPNN, pnnv.LossFunction,\n",
    "                                        Epoch=500, cache=ds)"
   ]
  },
  {
   "cell_type": "code",
   "execution_count": 38,
   "id": "b8d3302e-4f94-46cc-b31c-4af71c8ab76e",
   "metadata": {},
   "outputs": [
    {
     "data": {
      "text/plain": [
       "(214, 0.7629551887512207)"
      ]
     },
     "execution_count": 38,
     "metadata": {},
     "output_type": "execute_result"
    },
    {
     "data": {
      "image/png": "[encoded data removed]",
      "text/plain": [
       "<Figure size 432x288 with 1 Axes>"
      ]
     },
     "metadata": {
      "needs_background": "light"
     },
     "output_type": "display_data"
    }
   ],
   "source": [
    "plt.plot(train_loss_AAPNN, '-', label='train')\n",
    "plt.plot(test_loss_AAPNN, '--', label='test')\n",
    "plt.legend()\n",
    "best = np.argmin(test_loss_AAPNN)\n",
    "AAPNN.load_state_dict(parameter_AAPNN)\n",
    "best, test_loss_AAPNN[best]"
   ]
  },
  {
   "cell_type": "markdown",
   "id": "19ad1ac6-b8ec-427c-9b71-a3631c478096",
   "metadata": {},
   "source": [
    "## Save Model"
   ]
  },
  {
   "cell_type": "code",
   "execution_count": 39,
   "id": "0d491031",
   "metadata": {},
   "outputs": [],
   "source": [
    "with open(f'./result/{ds}_AAPNN_{seed}.p', 'wb') as f:\n",
    "    pickle.dump(AAPNN, f)"
   ]
  },
  {
   "cell_type": "code",
   "execution_count": null,
   "id": "c322f096-d8ef-4841-8265-b43ce5ee271e",
   "metadata": {},
   "outputs": [],
   "source": []
  }
 ],
 "metadata": {
  "kernelspec": {
   "display_name": "MachineLearning",
   "language": "python",
   "name": "machinelearning"
  },
  "language_info": {
   "codemirror_mode": {
    "name": "ipython",
    "version": 3
   },
   "file_extension": ".py",
   "mimetype": "text/x-python",
   "name": "python",
   "nbconvert_exporter": "python",
   "pygments_lexer": "ipython3",
   "version": "3.8.12"
  },
  "toc": {
   "base_numbering": 1,
   "nav_menu": {},
   "number_sections": true,
   "sideBar": true,
   "skip_h1_title": false,
   "title_cell": "Table of Contents",
   "title_sidebar": "Contents",
   "toc_cell": false,
   "toc_position": {},
   "toc_section_display": true,
   "toc_window_display": true
  }
 },
 "nbformat": 4,
 "nbformat_minor": 5
}
