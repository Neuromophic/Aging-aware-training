{
 "cells": [
  {
   "cell_type": "markdown",
   "id": "e0f1319a",
   "metadata": {},
   "source": [
    "# Aging Aware with Model Variation\n",
    "Previously, we optimize the following functional:\n",
    "$$ \\min_\\theta \\, \\int_{t=0}^{1} \\; L(\\theta(t)) \\, {\\rm d}t. $$\n",
    "The optimum is for a specific aging model $\\omega$, i.e., we minimized the \n",
    "$$ \\min_\\theta \\, \\int_{t=0}^{1} \\; L(\\theta(t,\\omega)) \\, {\\rm d}t. $$\n",
    "However, we dont know how will the resistance decay, i.e., we should also minimize the loss function w.r.t. aging models with different parameters. That means we need to optimized\n",
    "$$ \\min_\\theta \\, \\int_{\\omega}\\int_{t=0}^{1} \\; L(\\theta(t,\\omega)) \\, {\\rm d}t\\, p(\\omega){\\rm d}\\omega. $$\n",
    "The Mento Carlo Approximation is then\n",
    "$$\n",
    "\\min_{\\theta_{\\rm init}} \\frac{1}{\\Omega}\\frac{1}{K}\\sum_{\\omega\\in\\mathfrak{M}}\\sum_{k\\in \\mathfrak{K} } L \\left(\\theta[k, \\omega]\\right),\n",
    "$$\n",
    "where $\\mathfrak{M}$ is the set of $\\Omega$ elements following the distribution $p(\\omega)$. $p(\\omega)$ is the distributions of parameters of the aging model. We have already obtained these distributions as we modeled the aging decay.\n",
    "\n",
    "That means we should optimize this problem by\n",
    "$$\n",
    "\\begin{align}\n",
    "\\theta_{\\rm init}&:=\\theta_{\\rm init} - \\alpha\\cdot\\nabla_{\\theta_{\\rm init}}\\left(\\frac{1}{\\Omega}\\frac{1}{K}\\sum_{\\omega\\in\\mathfrak{M}}\\sum_{k\\in \\mathfrak{K} } L \\left(\\theta[k, \\omega]\\right)\\right)\\\\\n",
    "&=\\theta_{\\rm init} - \\frac{\\alpha}{\\Omega K}\\cdot\\nabla_{\\theta_{\\rm init}}\\left(\\sum_{\\omega\\in\\mathfrak{M}}\\sum_{k\\in \\mathfrak{K} } L \\left(\\theta[k, \\omega]\\right)\\right)\\\\\n",
    "&=\\theta_{\\rm init} - \\frac{\\alpha}{\\Omega K}\\left(\\sum_{\\omega\\in\\mathfrak{M}}\\sum_{k\\in \\mathfrak{K} }\\nabla_{\\theta_{\\rm init}} L \\left(\\theta[k, \\omega]\\right)\\right)\n",
    "\\end{align}\n",
    "$$"
   ]
  },
  {
   "cell_type": "markdown",
   "id": "eab183f8",
   "metadata": {},
   "source": [
    "# Get aging model"
   ]
  },
  {
   "cell_type": "code",
   "execution_count": 1,
   "id": "0bc40b33",
   "metadata": {},
   "outputs": [],
   "source": [
    "import importlib\n",
    "from torch.autograd import Variable\n",
    "import torch\n",
    "import pickle\n",
    "import pNN_aging_aware as pnn\n",
    "import os\n",
    "import sys\n",
    "import matplotlib.pyplot as plt\n",
    "import numpy as np\n",
    "import training\n",
    "import PNN_Setting as ps\n",
    "sys.path.append(os.path.join(os.getcwd(), 'Aging_Model'))\n",
    "\n",
    "with open(os.path.join(os.getcwd(), 'Aging_Model', 'exp_aging_model.p'), 'rb') as f:\n",
    "    age_generator = pickle.load(f)"
   ]
  },
  {
   "cell_type": "markdown",
   "id": "15519567",
   "metadata": {},
   "source": [
    "# Prepare data"
   ]
  },
  {
   "cell_type": "markdown",
   "id": "3f9b925b",
   "metadata": {},
   "source": [
    "## Load data"
   ]
  },
  {
   "cell_type": "code",
   "execution_count": 2,
   "id": "fd3f8c31",
   "metadata": {},
   "outputs": [
    {
     "data": {
      "text/plain": [
       "(torch.Size([10992, 16]), torch.Size([10992]), 10992, 16, 10)"
      ]
     },
     "execution_count": 2,
     "metadata": {},
     "output_type": "execute_result"
    }
   ],
   "source": [
    "datapath = os.path.join(os.getcwd(), 'Datasets', 'PMLC',\n",
    "                        'data_processed', 'Dataset_Pendigits.p')\n",
    "with open(datapath, 'rb') as f:\n",
    "    dataset = pickle.load(f)\n",
    "X = dataset['X'].float()\n",
    "y = dataset['y']\n",
    "M, N_features, N_class = X.shape[0], X.shape[1], torch.max(\n",
    "    torch.unique(y)).item()+1\n",
    "X.shape, y.shape, M, N_features, N_class"
   ]
  },
  {
   "cell_type": "markdown",
   "id": "35adbc19",
   "metadata": {},
   "source": [
    "## data preprocessing"
   ]
  },
  {
   "cell_type": "code",
   "execution_count": 3,
   "id": "ea0969cc",
   "metadata": {},
   "outputs": [
    {
     "data": {
      "text/plain": [
       "(tensor(0.), tensor(1.))"
      ]
     },
     "execution_count": 3,
     "metadata": {},
     "output_type": "execute_result"
    }
   ],
   "source": [
    "# normalization\n",
    "X = X / (torch.max(X, axis=0)[0] - torch.min(X, axis=0)[0])\n",
    "X = X - torch.min(X, axis=0)[0]\n",
    "torch.min(X), torch.max(X)"
   ]
  },
  {
   "cell_type": "code",
   "execution_count": 4,
   "id": "9d04d54b",
   "metadata": {},
   "outputs": [
    {
     "data": {
      "text/plain": [
       "tensor([[0.4700, 1.0000, 0.2700, 0.8100, 0.5700, 0.3700, 0.2600, 0.0000, 0.0000],\n",
       "        [0.0000, 0.8900, 0.2700, 1.0000, 0.4200, 0.7500, 0.2900, 0.4500, 0.1500],\n",
       "        [0.0000, 0.5700, 0.3100, 0.6800, 0.7200, 0.9000, 1.0000, 1.0000, 0.7600],\n",
       "        [0.0000, 1.0000, 0.0700, 0.9200, 0.0500, 0.6800, 0.1900, 0.4500, 0.8600],\n",
       "        [0.0000, 0.6700, 0.4900, 0.8300, 1.0000, 1.0000, 0.8100, 0.8000, 0.6000],\n",
       "        [1.0000, 1.0000, 0.8800, 0.9900, 0.4900, 0.7400, 0.1700, 0.4700, 0.0000],\n",
       "        [0.0000, 1.0000, 0.0300, 0.7200, 0.2600, 0.3500, 0.8500, 0.3500, 1.0000],\n",
       "        [0.0000, 0.3900, 0.0200, 0.6200, 0.1100, 0.0500, 0.6300, 0.0000, 1.0000],\n",
       "        [0.1300, 0.8900, 0.1200, 0.5000, 0.7200, 0.3800, 0.5600, 0.0000, 0.0400],\n",
       "        [0.5700, 1.0000, 0.2200, 0.7200, 0.0000, 0.3100, 0.2500, 0.0000, 0.7500]])"
      ]
     },
     "execution_count": 4,
     "metadata": {},
     "output_type": "execute_result"
    }
   ],
   "source": [
    "X[:10, :9]"
   ]
  },
  {
   "cell_type": "code",
   "execution_count": 5,
   "id": "6d30ecfc",
   "metadata": {},
   "outputs": [
    {
     "data": {
      "text/plain": [
       "(6595, 2198, 2199)"
      ]
     },
     "execution_count": 5,
     "metadata": {},
     "output_type": "execute_result"
    }
   ],
   "source": [
    "from torch.utils.data import TensorDataset\n",
    "from torch.utils.data import DataLoader\n",
    "from torch.utils.data import random_split\n",
    "\n",
    "# generate tensordataset\n",
    "dataset = TensorDataset(X, y)\n",
    "\n",
    "# split\n",
    "train_rate = 0.6\n",
    "test_rate = 0.2\n",
    "M_train = int(M*train_rate)\n",
    "M_test = int(M*test_rate)\n",
    "train_data, rest_data = random_split(dataset, [M_train, M-M_train], generator=torch.Generator().manual_seed(19950102))\n",
    "test_data, valid_data = random_split(rest_data, [M_test, M-M_train-M_test], generator=torch.Generator().manual_seed(19950102))\n",
    "len(train_data), len(test_data), len(valid_data)"
   ]
  },
  {
   "cell_type": "code",
   "execution_count": 6,
   "id": "4f8988b7",
   "metadata": {},
   "outputs": [],
   "source": [
    "# batch\n",
    "train_loader = DataLoader(train_data, batch_size=len(train_data))\n",
    "test_loader = DataLoader(test_data, batch_size=len(test_data))\n",
    "valid_loader = DataLoader(valid_data, batch_size=len(valid_data))"
   ]
  },
  {
   "cell_type": "markdown",
   "id": "bb0f57e2",
   "metadata": {},
   "source": [
    "# Hyperparameter"
   ]
  },
  {
   "cell_type": "code",
   "execution_count": 7,
   "id": "608550a4",
   "metadata": {},
   "outputs": [],
   "source": [
    "N_Hidden = 16\n",
    "m = 0.3\n",
    "T = 0.1\n",
    "K = 5  # number of time sampling\n",
    "M = 40  # number of model sampling\n",
    "K_test = 5\n",
    "M_test = 10"
   ]
  },
  {
   "cell_type": "markdown",
   "id": "17b3bda2",
   "metadata": {},
   "source": [
    "# Normal NN\n",
    "## Training"
   ]
  },
  {
   "cell_type": "code",
   "execution_count": 8,
   "id": "4874b4d1",
   "metadata": {},
   "outputs": [
    {
     "data": {
      "text/plain": [
       "Sequential(\n",
       "  (0): Linear(in_features=16, out_features=16, bias=True)\n",
       "  (1): Tanh()\n",
       "  (2): Linear(in_features=16, out_features=10, bias=True)\n",
       "  (3): Tanh()\n",
       ")"
      ]
     },
     "execution_count": 8,
     "metadata": {},
     "output_type": "execute_result"
    }
   ],
   "source": [
    "NN = torch.nn.Sequential(torch.nn.Linear(N_features, N_Hidden), torch.nn.Tanh(),\n",
    "                         torch.nn.Linear(N_Hidden, N_class), torch.nn.Tanh())\n",
    "\n",
    "\n",
    "def weights_init(m):\n",
    "    if isinstance(m, torch.nn.Linear):\n",
    "        torch.nn.init.xavier_uniform_(m.weight)\n",
    "        m.bias.data.fill_(0.01)\n",
    "\n",
    "\n",
    "NN.apply(weights_init)\n",
    "\n",
    "optimizer_NN = torch.optim.Adam(NN.parameters(), lr=0.01)\n",
    "celoss = torch.nn.CrossEntropyLoss()\n",
    "NN"
   ]
  },
  {
   "cell_type": "code",
   "execution_count": 9,
   "id": "f244a366",
   "metadata": {},
   "outputs": [
    {
     "data": {
      "application/vnd.jupyter.widget-view+json": {
       "model_id": "7d8b75d515e142cea8c09abc1b014462",
       "version_major": 2,
       "version_minor": 0
      },
      "text/plain": [
       "  0%|          | 0/5000 [00:00<?, ?it/s]"
      ]
     },
     "metadata": {},
     "output_type": "display_data"
    },
    {
     "name": "stdout",
     "output_type": "stream",
     "text": [
      "| Epoch:     0 | Accuracy: 0.07188 | Loss: 2.379674673 |\n",
      "| Epoch:   100 | Accuracy: 0.81210 | Loss: 1.142799139 |\n",
      "| Epoch:   200 | Accuracy: 0.84713 | Loss: 1.017530799 |\n",
      "| Epoch:   300 | Accuracy: 0.90537 | Loss: 0.965335011 |\n",
      "| Epoch:   400 | Accuracy: 0.93949 | Loss: 0.917653263 |\n",
      "| Epoch:   500 | Accuracy: 0.94950 | Loss: 0.895352542 |\n",
      "| Epoch:   600 | Accuracy: 0.95541 | Loss: 0.882164061 |\n",
      "| Epoch:   700 | Accuracy: 0.95905 | Loss: 0.872920096 |\n",
      "| Epoch:   800 | Accuracy: 0.96451 | Loss: 0.865280330 |\n",
      "| Epoch:   900 | Accuracy: 0.96952 | Loss: 0.860008776 |\n",
      "| Epoch:  1000 | Accuracy: 0.97179 | Loss: 0.855922818 |\n",
      "| Epoch:  1100 | Accuracy: 0.97452 | Loss: 0.851984978 |\n",
      "| Epoch:  1200 | Accuracy: 0.97589 | Loss: 0.848673999 |\n",
      "| Epoch:  1300 | Accuracy: 0.97543 | Loss: 0.846331418 |\n",
      "| Epoch:  1400 | Accuracy: 0.97634 | Loss: 0.844464719 |\n",
      "| Epoch:  1500 | Accuracy: 0.97634 | Loss: 0.843116581 |\n",
      "| Epoch:  1600 | Accuracy: 0.97634 | Loss: 0.842296600 |\n",
      "| Epoch:  1700 | Accuracy: 0.97498 | Loss: 0.841778100 |\n",
      "| Epoch:  1800 | Accuracy: 0.97498 | Loss: 0.840967894 |\n",
      "| Epoch:  1900 | Accuracy: 0.97634 | Loss: 0.840258479 |\n",
      "| Epoch:  2000 | Accuracy: 0.97680 | Loss: 0.839656413 |\n",
      "| Epoch:  2100 | Accuracy: 0.97771 | Loss: 0.839103043 |\n",
      "| Epoch:  2200 | Accuracy: 0.97771 | Loss: 0.838588834 |\n",
      "| Epoch:  2300 | Accuracy: 0.97816 | Loss: 0.838116884 |\n",
      "| Epoch:  2400 | Accuracy: 0.97816 | Loss: 0.837740839 |\n",
      "| Epoch:  2500 | Accuracy: 0.97771 | Loss: 0.837469161 |\n",
      "| Epoch:  2600 | Accuracy: 0.97771 | Loss: 0.837198853 |\n",
      "| Epoch:  2700 | Accuracy: 0.97907 | Loss: 0.836939394 |\n",
      "| Epoch:  2800 | Accuracy: 0.97907 | Loss: 0.836716950 |\n",
      "| Epoch:  2900 | Accuracy: 0.97953 | Loss: 0.836534560 |\n",
      "| Epoch:  3000 | Accuracy: 0.97953 | Loss: 0.836382508 |\n",
      "| Epoch:  3100 | Accuracy: 0.97953 | Loss: 0.836250722 |\n",
      "| Epoch:  3200 | Accuracy: 0.97953 | Loss: 0.836119831 |\n",
      "| Epoch:  3300 | Accuracy: 0.97907 | Loss: 0.835910976 |\n",
      "| Epoch:  3400 | Accuracy: 0.97998 | Loss: 0.835326374 |\n",
      "| Epoch:  3500 | Accuracy: 0.98135 | Loss: 0.835169673 |\n",
      "| Epoch:  3600 | Accuracy: 0.98180 | Loss: 0.835024238 |\n",
      "| Epoch:  3700 | Accuracy: 0.98180 | Loss: 0.835166276 |\n",
      "| Epoch:  3800 | Accuracy: 0.98089 | Loss: 0.835361540 |\n",
      "| Epoch:  3900 | Accuracy: 0.98089 | Loss: 0.835578203 |\n",
      "| Epoch:  4000 | Accuracy: 0.98044 | Loss: 0.835801482 |\n",
      "| Epoch:  4100 | Accuracy: 0.98044 | Loss: 0.836019695 |\n",
      "| Epoch:  4200 | Accuracy: 0.98044 | Loss: 0.836227000 |\n",
      "| Epoch:  4300 | Accuracy: 0.98044 | Loss: 0.836419761 |\n",
      "| Epoch:  4400 | Accuracy: 0.98044 | Loss: 0.836597919 |\n",
      "| Epoch:  4500 | Accuracy: 0.98044 | Loss: 0.836766958 |\n",
      "| Epoch:  4600 | Accuracy: 0.98044 | Loss: 0.836975753 |\n",
      "| Epoch:  4700 | Accuracy: 0.98044 | Loss: 0.836977363 |\n",
      "| Epoch:  4800 | Accuracy: 0.98135 | Loss: 0.837324679 |\n",
      "| Epoch:  4900 | Accuracy: 0.98089 | Loss: 0.837734580 |\n",
      "Finished.\n"
     ]
    }
   ],
   "source": [
    "train_loss_NN, test_loss_NN, parameter_NN = training.train_normal_nn(NN,\n",
    "                                                                     train_loader,\n",
    "                                                                     test_loader,\n",
    "                                                                     optimizer=optimizer_NN,\n",
    "                                                                     lossfunction=celoss,\n",
    "                                                                     Epoch=5000)"
   ]
  },
  {
   "cell_type": "code",
   "execution_count": 10,
   "id": "6f23e9b4",
   "metadata": {},
   "outputs": [
    {
     "data": {
      "text/plain": [
       "(3591, tensor(0.8350))"
      ]
     },
     "execution_count": 10,
     "metadata": {},
     "output_type": "execute_result"
    },
    {
     "data": {
      "image/png": "[encoded data removed]",
      "text/plain": [
       "<Figure size 432x288 with 1 Axes>"
      ]
     },
     "metadata": {
      "needs_background": "light"
     },
     "output_type": "display_data"
    }
   ],
   "source": [
    "plt.plot(train_loss_NN, '-', label='train')\n",
    "plt.plot(test_loss_NN, '--', label='test')\n",
    "plt.legend()\n",
    "best = np.argmin(test_loss_NN)\n",
    "best, test_loss_NN[best]"
   ]
  },
  {
   "cell_type": "markdown",
   "id": "3366f4b5",
   "metadata": {},
   "source": [
    "## save model"
   ]
  },
  {
   "cell_type": "code",
   "execution_count": 11,
   "id": "f68d2337",
   "metadata": {},
   "outputs": [],
   "source": [
    "torch.save(NN, f'./pendigitresult/NN_16.pkl')"
   ]
  },
  {
   "cell_type": "markdown",
   "id": "9192ad68",
   "metadata": {},
   "source": [
    "## load model"
   ]
  },
  {
   "cell_type": "code",
   "execution_count": 12,
   "id": "dcfe8799",
   "metadata": {},
   "outputs": [],
   "source": [
    "NN = torch.load(f'./pendigitresult/NN_16.pkl')"
   ]
  },
  {
   "cell_type": "markdown",
   "id": "0c45f3e6",
   "metadata": {},
   "source": [
    "## evalutation"
   ]
  },
  {
   "cell_type": "code",
   "execution_count": 13,
   "id": "ebe6060d",
   "metadata": {},
   "outputs": [
    {
     "name": "stdout",
     "output_type": "stream",
     "text": [
      "0.98681218735789\n"
     ]
    }
   ],
   "source": [
    "for x_valid, y_valid in valid_loader:\n",
    "    prediction_valid = NN(x_valid)\n",
    "    p = torch.argmax(prediction_valid, 1)\n",
    "    pred_y = p.data.numpy().squeeze()\n",
    "    acc_valid = sum(pred_y == y_valid.numpy()) / y_valid.shape[0]\n",
    "print(acc_valid)"
   ]
  },
  {
   "cell_type": "markdown",
   "id": "00492b19",
   "metadata": {},
   "source": [
    "# PNN\n",
    "## Training"
   ]
  },
  {
   "cell_type": "code",
   "execution_count": 14,
   "id": "ef8515ec",
   "metadata": {},
   "outputs": [
    {
     "data": {
      "text/plain": [
       "Sequential(\n",
       "  (0): PNNLayer()\n",
       "  (1): PNNLayer()\n",
       ")"
      ]
     },
     "execution_count": 14,
     "metadata": {},
     "output_type": "execute_result"
    }
   ],
   "source": [
    "PNN = torch.nn.Sequential(pnn.PNNLayer(N_features, N_Hidden, age_generator),\n",
    "                          pnn.PNNLayer(N_Hidden, N_class, age_generator))\n",
    "optimizer_PNN = torch.optim.Adam(PNN.parameters(), lr=0.01)\n",
    "PNN"
   ]
  },
  {
   "cell_type": "code",
   "execution_count": 15,
   "id": "430b5fea",
   "metadata": {},
   "outputs": [
    {
     "data": {
      "application/vnd.jupyter.widget-view+json": {
       "model_id": "b09ca86c69484c67a1db821eb7e2401d",
       "version_major": 2,
       "version_minor": 0
      },
      "text/plain": [
       "  0%|          | 0/15000 [00:00<?, ?it/s]"
      ]
     },
     "metadata": {},
     "output_type": "display_data"
    },
    {
     "name": "stdout",
     "output_type": "stream",
     "text": [
      "| Epoch:     0 | Accuracy: 0.09736 | Loss: 1.395999962 |\n",
      "| Epoch:   100 | Accuracy: 0.09736 | Loss: 1.286594062 |\n",
      "| Epoch:   200 | Accuracy: 0.71247 | Loss: 0.548701108 |\n",
      "| Epoch:   300 | Accuracy: 0.80710 | Loss: 0.344741243 |\n",
      "| Epoch:   400 | Accuracy: 0.87125 | Loss: 0.245195877 |\n",
      "| Epoch:   500 | Accuracy: 0.90355 | Loss: 0.202007473 |\n",
      "| Epoch:   600 | Accuracy: 0.92038 | Loss: 0.176154780 |\n",
      "| Epoch:   700 | Accuracy: 0.93267 | Loss: 0.160624584 |\n",
      "| Epoch:   800 | Accuracy: 0.94040 | Loss: 0.149430897 |\n",
      "| Epoch:   900 | Accuracy: 0.94495 | Loss: 0.140401894 |\n",
      "| Epoch:  1000 | Accuracy: 0.94677 | Loss: 0.134133630 |\n",
      "| Epoch:  1100 | Accuracy: 0.94904 | Loss: 0.128810101 |\n",
      "| Epoch:  1200 | Accuracy: 0.95041 | Loss: 0.124364490 |\n",
      "| Epoch:  1300 | Accuracy: 0.95041 | Loss: 0.121059781 |\n",
      "| Epoch:  1400 | Accuracy: 0.95086 | Loss: 0.118143039 |\n",
      "| Epoch:  1500 | Accuracy: 0.95177 | Loss: 0.115529849 |\n",
      "| Epoch:  1600 | Accuracy: 0.95177 | Loss: 0.112966574 |\n",
      "| Epoch:  1700 | Accuracy: 0.95405 | Loss: 0.110931812 |\n",
      "| Epoch:  1800 | Accuracy: 0.95405 | Loss: 0.109060112 |\n",
      "| Epoch:  1900 | Accuracy: 0.95314 | Loss: 0.107632368 |\n",
      "| Epoch:  2000 | Accuracy: 0.95541 | Loss: 0.106235339 |\n",
      "| Epoch:  2100 | Accuracy: 0.95632 | Loss: 0.104784262 |\n",
      "| Epoch:  2200 | Accuracy: 0.95769 | Loss: 0.103327125 |\n",
      "| Epoch:  2300 | Accuracy: 0.96042 | Loss: 0.101063147 |\n",
      "| Epoch:  2400 | Accuracy: 0.96178 | Loss: 0.097592604 |\n",
      "| Epoch:  2500 | Accuracy: 0.96315 | Loss: 0.095249948 |\n",
      "| Epoch:  2600 | Accuracy: 0.96315 | Loss: 0.093155641 |\n",
      "| Epoch:  2700 | Accuracy: 0.96451 | Loss: 0.091417990 |\n",
      "| Epoch:  2800 | Accuracy: 0.96178 | Loss: 0.089629765 |\n",
      "| Epoch:  2900 | Accuracy: 0.96224 | Loss: 0.087901161 |\n",
      "| Epoch:  3000 | Accuracy: 0.96315 | Loss: 0.086954009 |\n",
      "| Epoch:  3100 | Accuracy: 0.96360 | Loss: 0.086058411 |\n",
      "| Epoch:  3200 | Accuracy: 0.96360 | Loss: 0.085532535 |\n",
      "| Epoch:  3300 | Accuracy: 0.96360 | Loss: 0.085029656 |\n",
      "| Epoch:  3400 | Accuracy: 0.96315 | Loss: 0.084603582 |\n",
      "| Epoch:  3500 | Accuracy: 0.96360 | Loss: 0.084123217 |\n",
      "| Epoch:  3600 | Accuracy: 0.96406 | Loss: 0.083316568 |\n",
      "| Epoch:  3700 | Accuracy: 0.96451 | Loss: 0.082947066 |\n",
      "| Epoch:  3800 | Accuracy: 0.96451 | Loss: 0.082259381 |\n",
      "| Epoch:  3900 | Accuracy: 0.96542 | Loss: 0.082327530 |\n",
      "| Epoch:  4000 | Accuracy: 0.96542 | Loss: 0.081813249 |\n",
      "| Epoch:  4100 | Accuracy: 0.96588 | Loss: 0.081438809 |\n",
      "| Epoch:  4200 | Accuracy: 0.96542 | Loss: 0.080865692 |\n",
      "| Epoch:  4300 | Accuracy: 0.96724 | Loss: 0.080736093 |\n",
      "| Epoch:  4400 | Accuracy: 0.96815 | Loss: 0.080419838 |\n",
      "| Epoch:  4500 | Accuracy: 0.96815 | Loss: 0.080031137 |\n",
      "| Epoch:  4600 | Accuracy: 0.96861 | Loss: 0.079961897 |\n",
      "| Epoch:  4700 | Accuracy: 0.96861 | Loss: 0.079775687 |\n",
      "| Epoch:  4800 | Accuracy: 0.96861 | Loss: 0.079831433 |\n",
      "| Epoch:  4900 | Accuracy: 0.96815 | Loss: 0.079245675 |\n",
      "| Epoch:  5000 | Accuracy: 0.96952 | Loss: 0.079195912 |\n",
      "| Epoch:  5100 | Accuracy: 0.97043 | Loss: 0.077385494 |\n",
      "| Epoch:  5200 | Accuracy: 0.97134 | Loss: 0.076113076 |\n",
      "| Epoch:  5300 | Accuracy: 0.97134 | Loss: 0.075859252 |\n",
      "| Epoch:  5400 | Accuracy: 0.97088 | Loss: 0.075418300 |\n",
      "| Epoch:  5500 | Accuracy: 0.97043 | Loss: 0.074624018 |\n",
      "| Epoch:  5600 | Accuracy: 0.96997 | Loss: 0.074152327 |\n",
      "| Epoch:  5700 | Accuracy: 0.97088 | Loss: 0.074096699 |\n",
      "| Epoch:  5800 | Accuracy: 0.97134 | Loss: 0.073536570 |\n",
      "| Epoch:  5900 | Accuracy: 0.97088 | Loss: 0.073160229 |\n",
      "| Epoch:  6000 | Accuracy: 0.97043 | Loss: 0.072941160 |\n",
      "| Epoch:  6100 | Accuracy: 0.97088 | Loss: 0.072542364 |\n",
      "| Epoch:  6200 | Accuracy: 0.97088 | Loss: 0.072245291 |\n",
      "| Epoch:  6300 | Accuracy: 0.97134 | Loss: 0.072412486 |\n",
      "| Epoch:  6400 | Accuracy: 0.97134 | Loss: 0.072048260 |\n",
      "| Epoch:  6500 | Accuracy: 0.97134 | Loss: 0.071583918 |\n",
      "| Epoch:  6600 | Accuracy: 0.97043 | Loss: 0.071652449 |\n",
      "| Epoch:  6700 | Accuracy: 0.97043 | Loss: 0.070798687 |\n",
      "| Epoch:  6800 | Accuracy: 0.96997 | Loss: 0.071046997 |\n",
      "| Epoch:  6900 | Accuracy: 0.97043 | Loss: 0.070621246 |\n",
      "| Epoch:  7000 | Accuracy: 0.96952 | Loss: 0.069974883 |\n",
      "| Epoch:  7100 | Accuracy: 0.96997 | Loss: 0.070023824 |\n",
      "| Epoch:  7200 | Accuracy: 0.96997 | Loss: 0.069646848 |\n",
      "| Epoch:  7300 | Accuracy: 0.97088 | Loss: 0.069478169 |\n",
      "| Epoch:  7400 | Accuracy: 0.97043 | Loss: 0.068959283 |\n",
      "| Epoch:  7500 | Accuracy: 0.97088 | Loss: 0.069011341 |\n",
      "| Epoch:  7600 | Accuracy: 0.97088 | Loss: 0.068561006 |\n",
      "| Epoch:  7700 | Accuracy: 0.96997 | Loss: 0.068228213 |\n",
      "| Epoch:  7800 | Accuracy: 0.96997 | Loss: 0.068169730 |\n",
      "| Epoch:  7900 | Accuracy: 0.97134 | Loss: 0.067968859 |\n",
      "| Epoch:  8000 | Accuracy: 0.97134 | Loss: 0.067816020 |\n",
      "| Epoch:  8100 | Accuracy: 0.97134 | Loss: 0.067818959 |\n",
      "| Epoch:  8200 | Accuracy: 0.97043 | Loss: 0.067740968 |\n",
      "| Epoch:  8300 | Accuracy: 0.97043 | Loss: 0.067504123 |\n",
      "| Epoch:  8400 | Accuracy: 0.97179 | Loss: 0.067592072 |\n",
      "| Epoch:  8500 | Accuracy: 0.97088 | Loss: 0.067247059 |\n",
      "| Epoch:  8600 | Accuracy: 0.96997 | Loss: 0.067252604 |\n",
      "| Epoch:  8700 | Accuracy: 0.97134 | Loss: 0.067097573 |\n",
      "| Epoch:  8800 | Accuracy: 0.97088 | Loss: 0.067140338 |\n",
      "| Epoch:  8900 | Accuracy: 0.97088 | Loss: 0.066892926 |\n",
      "| Epoch:  9000 | Accuracy: 0.97043 | Loss: 0.066997566 |\n",
      "| Epoch:  9100 | Accuracy: 0.97043 | Loss: 0.067065878 |\n",
      "| Epoch:  9200 | Accuracy: 0.97043 | Loss: 0.067174833 |\n",
      "| Epoch:  9300 | Accuracy: 0.97134 | Loss: 0.067026434 |\n",
      "| Epoch:  9400 | Accuracy: 0.97179 | Loss: 0.066871346 |\n",
      "| Epoch:  9500 | Accuracy: 0.97179 | Loss: 0.066778041 |\n",
      "| Epoch:  9600 | Accuracy: 0.97134 | Loss: 0.066742686 |\n",
      "| Epoch:  9700 | Accuracy: 0.97088 | Loss: 0.066878684 |\n",
      "| Epoch:  9800 | Accuracy: 0.97088 | Loss: 0.067023461 |\n",
      "| Epoch:  9900 | Accuracy: 0.97088 | Loss: 0.066834597 |\n",
      "| Epoch: 10000 | Accuracy: 0.97088 | Loss: 0.066670545 |\n",
      "| Epoch: 10100 | Accuracy: 0.97088 | Loss: 0.066546448 |\n",
      "| Epoch: 10200 | Accuracy: 0.97134 | Loss: 0.066571143 |\n",
      "| Epoch: 10300 | Accuracy: 0.97088 | Loss: 0.066711467 |\n",
      "| Epoch: 10400 | Accuracy: 0.97134 | Loss: 0.066234531 |\n",
      "| Epoch: 10500 | Accuracy: 0.97179 | Loss: 0.066456744 |\n",
      "| Epoch: 10600 | Accuracy: 0.97179 | Loss: 0.066345642 |\n",
      "| Epoch: 10700 | Accuracy: 0.97179 | Loss: 0.066191228 |\n",
      "| Epoch: 10800 | Accuracy: 0.97134 | Loss: 0.066633011 |\n",
      "| Epoch: 10900 | Accuracy: 0.97043 | Loss: 0.066919980 |\n",
      "| Epoch: 11000 | Accuracy: 0.97134 | Loss: 0.066396489 |\n",
      "| Epoch: 11100 | Accuracy: 0.96997 | Loss: 0.066828769 |\n",
      "| Epoch: 11200 | Accuracy: 0.97134 | Loss: 0.066321852 |\n",
      "| Epoch: 11300 | Accuracy: 0.97134 | Loss: 0.066053204 |\n",
      "| Epoch: 11400 | Accuracy: 0.97134 | Loss: 0.065924126 |\n",
      "| Epoch: 11500 | Accuracy: 0.97134 | Loss: 0.066018633 |\n",
      "| Epoch: 11600 | Accuracy: 0.97179 | Loss: 0.065903122 |\n",
      "| Epoch: 11700 | Accuracy: 0.97134 | Loss: 0.066006610 |\n",
      "| Epoch: 11800 | Accuracy: 0.97225 | Loss: 0.066277711 |\n",
      "| Epoch: 11900 | Accuracy: 0.97179 | Loss: 0.066175572 |\n",
      "| Epoch: 12000 | Accuracy: 0.97088 | Loss: 0.065902579 |\n",
      "| Epoch: 12100 | Accuracy: 0.97179 | Loss: 0.065617861 |\n",
      "| Epoch: 12200 | Accuracy: 0.97134 | Loss: 0.066231299 |\n",
      "| Epoch: 12300 | Accuracy: 0.97179 | Loss: 0.065821338 |\n",
      "| Epoch: 12400 | Accuracy: 0.97225 | Loss: 0.066076220 |\n",
      "| Epoch: 12500 | Accuracy: 0.97179 | Loss: 0.066136168 |\n",
      "| Epoch: 12600 | Accuracy: 0.97134 | Loss: 0.065620066 |\n",
      "| Epoch: 12700 | Accuracy: 0.97088 | Loss: 0.065837255 |\n",
      "| Epoch: 12800 | Accuracy: 0.97134 | Loss: 0.065808503 |\n",
      "| Epoch: 12900 | Accuracy: 0.97134 | Loss: 0.065534081 |\n",
      "| Epoch: 13000 | Accuracy: 0.97088 | Loss: 0.066228959 |\n",
      "| Epoch: 13100 | Accuracy: 0.97134 | Loss: 0.065901542 |\n",
      "| Epoch: 13200 | Accuracy: 0.97134 | Loss: 0.066151265 |\n",
      "| Epoch: 13300 | Accuracy: 0.97134 | Loss: 0.065949130 |\n",
      "| Epoch: 13400 | Accuracy: 0.97179 | Loss: 0.065670757 |\n",
      "| Epoch: 13500 | Accuracy: 0.97134 | Loss: 0.066051841 |\n",
      "| Epoch: 13600 | Accuracy: 0.97179 | Loss: 0.065828094 |\n",
      "| Epoch: 13700 | Accuracy: 0.97225 | Loss: 0.066070849 |\n",
      "| Epoch: 13800 | Accuracy: 0.97179 | Loss: 0.066139385 |\n",
      "| Epoch: 13900 | Accuracy: 0.97225 | Loss: 0.066189816 |\n",
      "| Epoch: 14000 | Accuracy: 0.97270 | Loss: 0.066185507 |\n",
      "| Epoch: 14100 | Accuracy: 0.97179 | Loss: 0.066002180 |\n",
      "| Epoch: 14200 | Accuracy: 0.97179 | Loss: 0.066107817 |\n",
      "| Epoch: 14300 | Accuracy: 0.97179 | Loss: 0.066168587 |\n",
      "| Epoch: 14400 | Accuracy: 0.97179 | Loss: 0.066472586 |\n",
      "| Epoch: 14500 | Accuracy: 0.97225 | Loss: 0.066427090 |\n",
      "| Epoch: 14600 | Accuracy: 0.97179 | Loss: 0.066429380 |\n",
      "| Epoch: 14700 | Accuracy: 0.97179 | Loss: 0.066161252 |\n",
      "| Epoch: 14800 | Accuracy: 0.97270 | Loss: 0.065979387 |\n",
      "| Epoch: 14900 | Accuracy: 0.97225 | Loss: 0.066583236 |\n",
      "Finished.\n"
     ]
    }
   ],
   "source": [
    "train_loss_PNN, test_loss_PNN, parameter_PNN = training.train_normal_pnn(\n",
    "    PNN, train_loader, test_loader, m, T, optimizer_PNN, pnn.LossFunction, 15000)"
   ]
  },
  {
   "cell_type": "code",
   "execution_count": 16,
   "id": "811173a7",
   "metadata": {},
   "outputs": [
    {
     "data": {
      "text/plain": [
       "(11367, tensor(0.0654, dtype=torch.float64))"
      ]
     },
     "execution_count": 16,
     "metadata": {},
     "output_type": "execute_result"
    },
    {
     "data": {
      "image/png": "[encoded data removed]",
      "text/plain": [
       "<Figure size 432x288 with 1 Axes>"
      ]
     },
     "metadata": {
      "needs_background": "light"
     },
     "output_type": "display_data"
    }
   ],
   "source": [
    "plt.plot(train_loss_PNN, '-', label='train')\n",
    "plt.plot(test_loss_PNN, '--', label='test')\n",
    "plt.legend()\n",
    "best = np.argmin(test_loss_PNN)\n",
    "PNN.load_state_dict(parameter_PNN)\n",
    "best, test_loss_PNN[best]"
   ]
  },
  {
   "cell_type": "markdown",
   "id": "9dd94766",
   "metadata": {},
   "source": [
    "## save PNN"
   ]
  },
  {
   "cell_type": "code",
   "execution_count": 17,
   "id": "ab12e33b",
   "metadata": {},
   "outputs": [],
   "source": [
    "torch.save(PNN, f'./pendigitresult/PNN_16.pkl')"
   ]
  },
  {
   "cell_type": "markdown",
   "id": "c0196479",
   "metadata": {},
   "source": [
    "## load PNN"
   ]
  },
  {
   "cell_type": "code",
   "execution_count": 18,
   "id": "53d4cca5",
   "metadata": {},
   "outputs": [],
   "source": [
    "PNN = torch.load(f'./pendigitresult/PNN_16.pkl')"
   ]
  },
  {
   "cell_type": "markdown",
   "id": "e17febee",
   "metadata": {},
   "source": [
    "## Functions for setting times and models"
   ]
  },
  {
   "cell_type": "code",
   "execution_count": 19,
   "id": "05b93c0a",
   "metadata": {},
   "outputs": [],
   "source": [
    "import PNN_Setting as ps\n",
    "# ps.makemodel\n",
    "# ps.settime\n",
    "# ps.zerogradient"
   ]
  },
  {
   "cell_type": "markdown",
   "id": "72cf0a93",
   "metadata": {},
   "source": [
    "Usage of functions: \n",
    "\n",
    "`pnn.apply(lambda z: settime(z, time))`\n",
    "\n",
    "`pnn.apply(makemodel)`\n",
    "\n",
    "`pnn.apply(zerogradient)`"
   ]
  },
  {
   "cell_type": "markdown",
   "id": "02a1d3d4",
   "metadata": {},
   "source": [
    "## evaluation"
   ]
  },
  {
   "cell_type": "code",
   "execution_count": 24,
   "id": "4e5e2086",
   "metadata": {},
   "outputs": [
    {
     "data": {
      "application/vnd.jupyter.widget-view+json": {
       "model_id": "bbdb10c1af4f43aa8d2cc772f53dd49e",
       "version_major": 2,
       "version_minor": 0
      },
      "text/plain": [
       "  0%|          | 0/500 [00:00<?, ?it/s]"
      ]
     },
     "metadata": {},
     "output_type": "display_data"
    },
    {
     "name": "stdout",
     "output_type": "stream",
     "text": [
      "evaluating on the 0-th model.\n",
      "evaluating on the 10-th model.\n",
      "evaluating on the 20-th model.\n",
      "evaluating on the 30-th model.\n",
      "evaluating on the 40-th model.\n",
      "evaluating on the 50-th model.\n",
      "evaluating on the 60-th model.\n",
      "evaluating on the 70-th model.\n",
      "evaluating on the 80-th model.\n",
      "evaluating on the 90-th model.\n",
      "evaluating on the 100-th model.\n",
      "evaluating on the 110-th model.\n",
      "evaluating on the 120-th model.\n",
      "evaluating on the 130-th model.\n",
      "evaluating on the 140-th model.\n",
      "evaluating on the 150-th model.\n",
      "evaluating on the 160-th model.\n",
      "evaluating on the 170-th model.\n",
      "evaluating on the 180-th model.\n",
      "evaluating on the 190-th model.\n",
      "evaluating on the 200-th model.\n",
      "evaluating on the 210-th model.\n",
      "evaluating on the 220-th model.\n",
      "evaluating on the 230-th model.\n",
      "evaluating on the 240-th model.\n",
      "evaluating on the 250-th model.\n",
      "evaluating on the 260-th model.\n",
      "evaluating on the 270-th model.\n",
      "evaluating on the 280-th model.\n",
      "evaluating on the 290-th model.\n",
      "evaluating on the 300-th model.\n",
      "evaluating on the 310-th model.\n",
      "evaluating on the 320-th model.\n",
      "evaluating on the 330-th model.\n",
      "evaluating on the 340-th model.\n",
      "evaluating on the 350-th model.\n",
      "evaluating on the 360-th model.\n",
      "evaluating on the 370-th model.\n",
      "evaluating on the 380-th model.\n",
      "evaluating on the 390-th model.\n",
      "evaluating on the 400-th model.\n",
      "evaluating on the 410-th model.\n",
      "evaluating on the 420-th model.\n",
      "evaluating on the 430-th model.\n",
      "evaluating on the 440-th model.\n",
      "evaluating on the 450-th model.\n",
      "evaluating on the 460-th model.\n",
      "evaluating on the 470-th model.\n",
      "evaluating on the 480-th model.\n",
      "evaluating on the 490-th model.\n"
     ]
    }
   ],
   "source": [
    "import evaluation\n",
    "importlib.reload(evaluation)\n",
    "mean_acc_PNN, std_acc_PNN, mean_maa_PNN, std_maa_PNN = evaluation.FullEvaluation(PNN, valid_loader)"
   ]
  },
  {
   "cell_type": "code",
   "execution_count": 27,
   "id": "b9d9508d",
   "metadata": {},
   "outputs": [
    {
     "data": {
      "image/png": "[encoded data removed]",
      "text/plain": [
       "<Figure size 432x288 with 1 Axes>"
      ]
     },
     "metadata": {
      "needs_background": "light"
     },
     "output_type": "display_data"
    }
   ],
   "source": [
    "plt.fill_between(np.linspace(0,1,50), mean_acc_PNN-std_acc_PNN, mean_acc_PNN+std_acc_PNN, alpha=0.3, color='blue');\n",
    "plt.plot(np.linspace(0,1,50), mean_acc_PNN, label='PNN', color='blue');\n",
    "\n",
    "plt.xlabel('normalized time');\n",
    "plt.ylabel('basic accuracy');\n",
    "plt.xlim([0, 1]);\n",
    "plt.legend();"
   ]
  },
  {
   "cell_type": "code",
   "execution_count": 29,
   "id": "45766c5f-ca2e-4bff-9e13-25f1e8406fe9",
   "metadata": {},
   "outputs": [
    {
     "data": {
      "image/png": "[encoded data removed]",
      "text/plain": [
       "<Figure size 432x288 with 1 Axes>"
      ]
     },
     "metadata": {
      "needs_background": "light"
     },
     "output_type": "display_data"
    }
   ],
   "source": [
    "plt.fill_between(np.linspace(0,1,50), mean_maa_PNN-std_maa_PNN, mean_maa_PNN+std_maa_PNN, alpha=0.3, color='blue');\n",
    "plt.plot(np.linspace(0,1,50), mean_maa_PNN, label='PNN', color='blue');\n",
    "\n",
    "plt.xlabel('normalized time');\n",
    "plt.ylabel('measureing aware accuracy');\n",
    "plt.xlim([0, 1]);\n",
    "plt.ylim([0, 1]);\n",
    "plt.legend();"
   ]
  },
  {
   "cell_type": "markdown",
   "id": "4ff7c1f0",
   "metadata": {},
   "source": [
    "# Aging Aware PNN\n",
    "## Training"
   ]
  },
  {
   "cell_type": "code",
   "execution_count": 8,
   "id": "b474bd81",
   "metadata": {},
   "outputs": [
    {
     "data": {
      "text/plain": [
       "Sequential(\n",
       "  (0): PNNLayer()\n",
       "  (1): PNNLayer()\n",
       ")"
      ]
     },
     "execution_count": 8,
     "metadata": {},
     "output_type": "execute_result"
    }
   ],
   "source": [
    "AAPNN = torch.nn.Sequential(pnn.PNNLayer(N_features, N_Hidden, age_generator),\n",
    "                            pnn.PNNLayer(N_Hidden, N_class, age_generator))\n",
    "\n",
    "optimizer_AAPNN = torch.optim.Adam(AAPNN.parameters(), lr=0.01)\n",
    "AAPNN"
   ]
  },
  {
   "cell_type": "markdown",
   "id": "3f5e8432",
   "metadata": {},
   "source": [
    "### Functions for generating parallel AAPNNs"
   ]
  },
  {
   "cell_type": "code",
   "execution_count": 9,
   "id": "159ff692",
   "metadata": {},
   "outputs": [],
   "source": [
    "# ps.MakeParallelPNNs\n",
    "# ps.MakeParallelModels"
   ]
  },
  {
   "cell_type": "markdown",
   "id": "4b40f37b",
   "metadata": {},
   "source": [
    "Usage:\n",
    "\n",
    "`Parallel_PNNs = ps.MakeParallelPNNs(pnn, M, K)`, generating different models & different time stamps\n",
    "\n",
    "`Parallel_PNNs = ps.MakeParallelPNNs(pnn, M)`, generating only different models"
   ]
  },
  {
   "cell_type": "markdown",
   "id": "fe5b1f11-88d5-4057-a090-a2748af6bdb3",
   "metadata": {},
   "source": [
    "# Load temp parameter when corrupt"
   ]
  },
  {
   "cell_type": "code",
   "execution_count": 10,
   "id": "93161d57-aef1-4417-812c-539600f09f88",
   "metadata": {},
   "outputs": [],
   "source": [
    "with open('./temp/parameter_AAPNN.p', 'rb') as f:\n",
    "    parameter_AAPNN = pickle.load(f)\n",
    "AAPNN.load_state_dict(parameter_AAPNN);"
   ]
  },
  {
   "cell_type": "markdown",
   "id": "ca0df146-6c60-415d-8769-29c3474578e0",
   "metadata": {},
   "source": [
    "## Parallel Training"
   ]
  },
  {
   "cell_type": "code",
   "execution_count": 11,
   "id": "d5b541a5",
   "metadata": {},
   "outputs": [
    {
     "data": {
      "application/vnd.jupyter.widget-view+json": {
       "model_id": "2cff7fb1039741128bc339ef13fabf5b",
       "version_major": 2,
       "version_minor": 0
      },
      "text/plain": [
       "  0%|          | 0/700 [00:00<?, ?it/s]"
      ]
     },
     "metadata": {},
     "output_type": "display_data"
    },
    {
     "name": "stdout",
     "output_type": "stream",
     "text": [
      "| Epoch:     0 | Accuracy: 0.93060 | Loss: 0.144012074 |\n",
      "| Epoch:    10 | Accuracy: 0.93690 | Loss: 0.135350587 |\n",
      "| Epoch:    20 | Accuracy: 0.92900 | Loss: 0.150063929 |\n",
      "| Epoch:    30 | Accuracy: 0.93027 | Loss: 0.146176892 |\n",
      "| Epoch:    40 | Accuracy: 0.92916 | Loss: 0.147258416 |\n",
      "| Epoch:    50 | Accuracy: 0.93267 | Loss: 0.148882762 |\n",
      "| Epoch:    60 | Accuracy: 0.93868 | Loss: 0.134949610 |\n",
      "| Epoch:    70 | Accuracy: 0.93609 | Loss: 0.136089281 |\n",
      "| Epoch:    80 | Accuracy: 0.93252 | Loss: 0.145323319 |\n",
      "| Epoch:    90 | Accuracy: 0.93429 | Loss: 0.145050781 |\n",
      "| Epoch:   100 | Accuracy: 0.93034 | Loss: 0.147486480 |\n",
      "| Epoch:   110 | Accuracy: 0.92935 | Loss: 0.151449990 |\n",
      "| Epoch:   120 | Accuracy: 0.93204 | Loss: 0.152766331 |\n",
      "| Epoch:   130 | Accuracy: 0.93702 | Loss: 0.131805488 |\n",
      "| Epoch:   140 | Accuracy: 0.93770 | Loss: 0.131506104 |\n",
      "| Epoch:   150 | Accuracy: 0.93017 | Loss: 0.149085277 |\n",
      "| Epoch:   160 | Accuracy: 0.93746 | Loss: 0.133122974 |\n",
      "| Epoch:   170 | Accuracy: 0.93572 | Loss: 0.134373000 |\n",
      "| Epoch:   180 | Accuracy: 0.93682 | Loss: 0.133721442 |\n",
      "| Epoch:   190 | Accuracy: 0.93155 | Loss: 0.144200089 |\n",
      "| Epoch:   200 | Accuracy: 0.93940 | Loss: 0.129935422 |\n",
      "| Epoch:   210 | Accuracy: 0.94015 | Loss: 0.131345552 |\n",
      "| Epoch:   220 | Accuracy: 0.93790 | Loss: 0.131763299 |\n",
      "| Epoch:   230 | Accuracy: 0.93378 | Loss: 0.146186753 |\n",
      "| Epoch:   240 | Accuracy: 0.93446 | Loss: 0.143550545 |\n",
      "| Epoch:   250 | Accuracy: 0.93957 | Loss: 0.132513712 |\n",
      "| Epoch:   260 | Accuracy: 0.93844 | Loss: 0.134994121 |\n",
      "| Epoch:   270 | Accuracy: 0.93922 | Loss: 0.127779316 |\n",
      "| Epoch:   280 | Accuracy: 0.93371 | Loss: 0.140547158 |\n",
      "| Epoch:   290 | Accuracy: 0.93546 | Loss: 0.136712215 |\n",
      "| Epoch:   300 | Accuracy: 0.93411 | Loss: 0.141192724 |\n",
      "| Epoch:   310 | Accuracy: 0.93152 | Loss: 0.149174089 |\n",
      "| Epoch:   320 | Accuracy: 0.93738 | Loss: 0.137698506 |\n",
      "| Epoch:   330 | Accuracy: 0.93955 | Loss: 0.137412979 |\n",
      "| Epoch:   340 | Accuracy: 0.93903 | Loss: 0.135022213 |\n",
      "| Epoch:   350 | Accuracy: 0.93880 | Loss: 0.132656505 |\n",
      "| Epoch:   360 | Accuracy: 0.93860 | Loss: 0.132300501 |\n",
      "| Epoch:   370 | Accuracy: 0.93617 | Loss: 0.134218928 |\n",
      "| Epoch:   380 | Accuracy: 0.93918 | Loss: 0.132707461 |\n",
      "| Epoch:   390 | Accuracy: 0.93461 | Loss: 0.137941980 |\n",
      "| Epoch:   400 | Accuracy: 0.93709 | Loss: 0.132441644 |\n",
      "| Epoch:   410 | Accuracy: 0.93985 | Loss: 0.129967926 |\n",
      "| Epoch:   420 | Accuracy: 0.93415 | Loss: 0.144270786 |\n",
      "| Epoch:   430 | Accuracy: 0.94093 | Loss: 0.129915048 |\n",
      "| Epoch:   440 | Accuracy: 0.93892 | Loss: 0.132736120 |\n",
      "| Epoch:   450 | Accuracy: 0.93725 | Loss: 0.137269509 |\n",
      "| Epoch:   460 | Accuracy: 0.93382 | Loss: 0.145307094 |\n",
      "| Epoch:   470 | Accuracy: 0.93309 | Loss: 0.144072677 |\n",
      "| Epoch:   480 | Accuracy: 0.94034 | Loss: 0.125737536 |\n",
      "| Epoch:   490 | Accuracy: 0.93779 | Loss: 0.136499843 |\n",
      "| Epoch:   500 | Accuracy: 0.93602 | Loss: 0.136721464 |\n",
      "| Epoch:   510 | Accuracy: 0.93996 | Loss: 0.129286662 |\n",
      "| Epoch:   520 | Accuracy: 0.93949 | Loss: 0.131790532 |\n",
      "| Epoch:   530 | Accuracy: 0.94230 | Loss: 0.128153908 |\n",
      "| Epoch:   540 | Accuracy: 0.93872 | Loss: 0.131928954 |\n",
      "| Epoch:   550 | Accuracy: 0.93534 | Loss: 0.135881928 |\n",
      "| Epoch:   560 | Accuracy: 0.94141 | Loss: 0.126647478 |\n",
      "| Epoch:   570 | Accuracy: 0.93975 | Loss: 0.133793799 |\n",
      "| Epoch:   580 | Accuracy: 0.94252 | Loss: 0.126061525 |\n",
      "| Epoch:   590 | Accuracy: 0.94264 | Loss: 0.123514862 |\n",
      "| Epoch:   600 | Accuracy: 0.94376 | Loss: 0.124850650 |\n",
      "| Epoch:   610 | Accuracy: 0.94282 | Loss: 0.125136414 |\n",
      "| Epoch:   620 | Accuracy: 0.93913 | Loss: 0.131416195 |\n",
      "| Epoch:   630 | Accuracy: 0.93921 | Loss: 0.132034090 |\n",
      "| Epoch:   640 | Accuracy: 0.93906 | Loss: 0.135252306 |\n",
      "| Epoch:   650 | Accuracy: 0.93830 | Loss: 0.132600482 |\n",
      "| Epoch:   660 | Accuracy: 0.93286 | Loss: 0.149124155 |\n",
      "| Epoch:   670 | Accuracy: 0.94204 | Loss: 0.130805034 |\n",
      "| Epoch:   680 | Accuracy: 0.94540 | Loss: 0.120929896 |\n",
      "| Epoch:   690 | Accuracy: 0.94630 | Loss: 0.118639235 |\n"
     ]
    }
   ],
   "source": [
    "importlib.reload(training)\n",
    "test_loss_AAPNN, parameter_AAPNN = training.ParallelTrainingAAPNN(AAPNN,\n",
    "                                                                  train_loader, test_loader,\n",
    "                                                                  optimizer_AAPNN,\n",
    "                                                                  pnn.LossFunction, m, T,\n",
    "                                                                  M, K, M_test, K_test, Epoch=700)"
   ]
  },
  {
   "cell_type": "code",
   "execution_count": 12,
   "id": "9da97f43",
   "metadata": {},
   "outputs": [
    {
     "data": {
      "image/png": "[encoded data removed]",
      "text/plain": [
       "<Figure size 432x288 with 1 Axes>"
      ]
     },
     "metadata": {
      "needs_background": "light"
     },
     "output_type": "display_data"
    }
   ],
   "source": [
    "plt.plot(test_loss_AAPNN);\n",
    "AAPNN.load_state_dict(parameter_AAPNN);"
   ]
  },
  {
   "cell_type": "markdown",
   "id": "88aae576-7040-4c99-8aab-c2d611acb10c",
   "metadata": {},
   "source": [
    "## save AAPNN"
   ]
  },
  {
   "cell_type": "code",
   "execution_count": 13,
   "id": "c9678c3e",
   "metadata": {},
   "outputs": [],
   "source": [
    "torch.save(AAPNN, f'./pendigitresult/AAPNN_16.pkl')"
   ]
  },
  {
   "cell_type": "markdown",
   "id": "406d739d",
   "metadata": {},
   "source": [
    "## read AAPNN"
   ]
  },
  {
   "cell_type": "code",
   "execution_count": 14,
   "id": "a1dbe07b-0c37-4eaf-8342-b2d16b2f2c9a",
   "metadata": {},
   "outputs": [],
   "source": [
    "AAPNN = torch.load(f'./pendigitresult/AAPNN_16.pkl')"
   ]
  },
  {
   "cell_type": "markdown",
   "id": "8058c682",
   "metadata": {},
   "source": [
    "## Evaluation"
   ]
  },
  {
   "cell_type": "code",
   "execution_count": null,
   "id": "c7fdc2c8",
   "metadata": {},
   "outputs": [
    {
     "data": {
      "application/vnd.jupyter.widget-view+json": {
       "model_id": "c68bd500ea344074a491a3af659a7106",
       "version_major": 2,
       "version_minor": 0
      },
      "text/plain": [
       "  0%|          | 0/500 [00:00<?, ?it/s]"
      ]
     },
     "metadata": {},
     "output_type": "display_data"
    },
    {
     "name": "stdout",
     "output_type": "stream",
     "text": [
      "evaluating on the 0-th model.\n",
      "evaluating on the 10-th model.\n",
      "evaluating on the 20-th model.\n",
      "evaluating on the 30-th model.\n",
      "evaluating on the 40-th model.\n",
      "evaluating on the 50-th model.\n",
      "evaluating on the 60-th model.\n",
      "evaluating on the 70-th model.\n",
      "evaluating on the 80-th model.\n",
      "evaluating on the 90-th model.\n",
      "evaluating on the 100-th model.\n",
      "evaluating on the 110-th model.\n",
      "evaluating on the 120-th model.\n",
      "evaluating on the 130-th model.\n",
      "evaluating on the 140-th model.\n",
      "evaluating on the 150-th model.\n",
      "evaluating on the 160-th model.\n",
      "evaluating on the 170-th model.\n",
      "evaluating on the 180-th model.\n",
      "evaluating on the 190-th model.\n"
     ]
    }
   ],
   "source": [
    "import evaluation\n",
    "mean_acc_AAPNN, std_acc_AAPNN, mean_maa_AAPNN, std_maa_AAPNN = evaluation.FullEvaluation(AAPNN, valid_loader)"
   ]
  },
  {
   "cell_type": "code",
   "execution_count": null,
   "id": "c5a6579d-bf1e-4e0a-b409-1aa3ca378945",
   "metadata": {},
   "outputs": [],
   "source": [
    "plt.fill_between(np.linspace(0,1,50), mean_acc_AAPNN-std_acc_AAPNN, mean_acc_AAPNN+std_acc_AAPNN, alpha=0.3, color='red');\n",
    "plt.plot(np.linspace(0,1,50), mean_acc_AAPNN, label='AAPNN', color='red');\n",
    "\n",
    "plt.xlabel('normalized time');\n",
    "plt.ylabel('basic accuracy');\n",
    "plt.xlim([0, 1]);\n",
    "plt.legend();"
   ]
  },
  {
   "cell_type": "code",
   "execution_count": null,
   "id": "fabae09a-3b1b-4d63-871d-b8a8e7dfb920",
   "metadata": {},
   "outputs": [],
   "source": [
    "plt.fill_between(np.linspace(0,1,50), mean_maa_AAPNN-std_maa_AAPNN, mean_maa_AAPNN+std_maa_AAPNN, alpha=0.3, color='red');\n",
    "plt.plot(np.linspace(0,1,50), mean_maa_AAPNN, label='AAPNN', color='red');\n",
    "\n",
    "plt.xlabel('normalized time');\n",
    "plt.ylabel('measureing aware accuracy');\n",
    "plt.xlim([0, 1]);\n",
    "plt.ylim([0, 1]);\n",
    "plt.legend();"
   ]
  },
  {
   "cell_type": "markdown",
   "id": "cbd6e055",
   "metadata": {},
   "source": [
    "# Comparison"
   ]
  },
  {
   "cell_type": "code",
   "execution_count": null,
   "id": "5705dca2",
   "metadata": {},
   "outputs": [],
   "source": [
    "plt.fill_between(test_time, mean_acc_PNN-std_acc_PNN, mean_acc_PNN+std_acc_PNN, alpha=0.3, color='blue');\n",
    "plt.fill_between(test_time, mean_acc_AAPNN-std_acc_AAPNN, mean_acc_AAPNN+std_acc_AAPNN, alpha=0.3, color='red');\n",
    "\n",
    "plt.plot(test_time, mean_acc_PNN, label='PNN', color='blue');\n",
    "plt.plot(test_time, mean_acc_AAPNN, label='AAPNN', color='red');\n",
    "\n",
    "plt.xlabel('normalized time');\n",
    "plt.ylabel('basic accuracy');\n",
    "plt.xlim([0, 1]);\n",
    "plt.ylim([0, 1]);\n",
    "plt.legend();"
   ]
  },
  {
   "cell_type": "code",
   "execution_count": null,
   "id": "8514e368",
   "metadata": {},
   "outputs": [],
   "source": [
    "plt.fill_between(test_time, mean_maa_PNN-std_maa_PNN, mean_maa_PNN+std_maa_PNN, alpha=0.3, color='blue');\n",
    "plt.fill_between(test_time, mean_maa_AAPNN-std_maa_AAPNN, mean_maa_AAPNN+std_maa_AAPNN, alpha=0.3, color='red');\n",
    "\n",
    "plt.plot(test_time, mean_maa_PNN, label='PNN', color='blue');\n",
    "plt.plot(test_time, mean_maa_AAPNN, label='AAPNN', color='red');\n",
    "\n",
    "plt.xlabel('normalized time');\n",
    "plt.ylabel('measureing aware accuracy');\n",
    "plt.xlim([0, 1]);\n",
    "plt.ylim([0, 1]);\n",
    "plt.legend();"
   ]
  }
 ],
 "metadata": {
  "kernelspec": {
   "display_name": "MachineLearning",
   "language": "python",
   "name": "machinelearning"
  },
  "language_info": {
   "codemirror_mode": {
    "name": "ipython",
    "version": 3
   },
   "file_extension": ".py",
   "mimetype": "text/x-python",
   "name": "python",
   "nbconvert_exporter": "python",
   "pygments_lexer": "ipython3",
   "version": "3.8.12"
  },
  "toc": {
   "base_numbering": 1,
   "nav_menu": {},
   "number_sections": true,
   "sideBar": true,
   "skip_h1_title": false,
   "title_cell": "Table of Contents",
   "title_sidebar": "Contents",
   "toc_cell": false,
   "toc_position": {},
   "toc_section_display": true,
   "toc_window_display": true
  }
 },
 "nbformat": 4,
 "nbformat_minor": 5
}
