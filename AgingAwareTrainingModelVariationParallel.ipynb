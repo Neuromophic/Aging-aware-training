{
 "cells": [
  {
   "cell_type": "markdown",
   "id": "e0f1319a",
   "metadata": {},
   "source": [
    "# Aging Aware with Model Variation\n",
    "Previously, we optimize the following functional:\n",
    "$$ \\min_\\theta \\, \\int_{t=0}^{1} \\; L(\\theta(t)) \\, {\\rm d}t. $$\n",
    "The optimum is for a specific aging model $\\omega$, i.e., we minimized the \n",
    "$$ \\min_\\theta \\, \\int_{t=0}^{1} \\; L(\\theta(t,\\omega)) \\, {\\rm d}t. $$\n",
    "However, we dont know how will the resistance decay, i.e., we should also minimize the loss function w.r.t. aging models with different parameters. That means we need to optimized\n",
    "$$ \\min_\\theta \\, \\int_{\\omega}\\int_{t=0}^{1} \\; L(\\theta(t,\\omega)) \\, {\\rm d}t\\, p(\\omega){\\rm d}\\omega. $$\n",
    "The Mento Carlo Approximation is then\n",
    "$$\n",
    "\\min_{\\theta_{\\rm init}} \\frac{1}{\\Omega}\\frac{1}{K}\\sum_{\\omega\\in\\mathfrak{M}}\\sum_{k\\in \\mathfrak{K} } L \\left(\\theta[k, \\omega]\\right),\n",
    "$$\n",
    "where $\\mathfrak{M}$ is the set of $\\Omega$ elements following the distribution $p(\\omega)$. $p(\\omega)$ is the distributions of parameters of the aging model. We have already obtained these distributions as we modeled the aging decay.\n",
    "\n",
    "That means we should optimize this problem by\n",
    "$$\n",
    "\\begin{align}\n",
    "\\theta_{\\rm init}&:=\\theta_{\\rm init} - \\alpha\\cdot\\nabla_{\\theta_{\\rm init}}\\left(\\frac{1}{\\Omega}\\frac{1}{K}\\sum_{\\omega\\in\\mathfrak{M}}\\sum_{k\\in \\mathfrak{K} } L \\left(\\theta[k, \\omega]\\right)\\right)\\\\\n",
    "&=\\theta_{\\rm init} - \\frac{\\alpha}{\\Omega K}\\cdot\\nabla_{\\theta_{\\rm init}}\\left(\\sum_{\\omega\\in\\mathfrak{M}}\\sum_{k\\in \\mathfrak{K} } L \\left(\\theta[k, \\omega]\\right)\\right)\\\\\n",
    "&=\\theta_{\\rm init} - \\frac{\\alpha}{\\Omega K}\\left(\\sum_{\\omega\\in\\mathfrak{M}}\\sum_{k\\in \\mathfrak{K} }\\nabla_{\\theta_{\\rm init}} L \\left(\\theta[k, \\omega]\\right)\\right)\n",
    "\\end{align}\n",
    "$$"
   ]
  },
  {
   "cell_type": "markdown",
   "id": "eab183f8",
   "metadata": {},
   "source": [
    "# Get aging model"
   ]
  },
  {
   "cell_type": "code",
   "execution_count": 9,
   "id": "0bc40b33",
   "metadata": {},
   "outputs": [],
   "source": [
    "import importlib\n",
    "from torch.autograd import Variable\n",
    "import torch\n",
    "import pickle\n",
    "import pNN_aging_aware as pnn\n",
    "import os\n",
    "import sys\n",
    "import matplotlib.pyplot as plt\n",
    "import numpy as np\n",
    "import training\n",
    "import random\n",
    "import PNN_Setting as ps\n",
    "import config\n",
    "sys.path.append(os.path.join(os.getcwd(), 'Aging_Model'))\n",
    "\n",
    "with open(os.path.join(os.getcwd(), 'Aging_Model', 'exp_aging_model.p'), 'rb') as f:\n",
    "    age_generator = pickle.load(f)"
   ]
  },
  {
   "cell_type": "markdown",
   "id": "15519567",
   "metadata": {},
   "source": [
    "# Prepare data"
   ]
  },
  {
   "cell_type": "markdown",
   "id": "3f9b925b",
   "metadata": {},
   "source": [
    "## Load data"
   ]
  },
  {
   "cell_type": "code",
   "execution_count": 10,
   "id": "fd3f8c31",
   "metadata": {},
   "outputs": [
    {
     "data": {
      "text/plain": [
       "(torch.Size([210, 7]), torch.Size([210]), 210, 7, 3)"
      ]
     },
     "execution_count": 10,
     "metadata": {},
     "output_type": "execute_result"
    }
   ],
   "source": [
    "datapath = os.path.join(os.getcwd(), 'Datasets',\n",
    "                        'dataset_processed', f'Dataset_Seeds.p')\n",
    "with open(datapath, 'rb') as f:\n",
    "    dataset = pickle.load(f)\n",
    "X = dataset['X'].float()\n",
    "y = dataset['y']\n",
    "\n",
    "E, N_features, N_class = X.shape[0], X.shape[1], torch.max(\n",
    "    torch.unique(y)).item()+1\n",
    "X.shape, y.shape, E, N_features, N_class"
   ]
  },
  {
   "cell_type": "markdown",
   "id": "35adbc19",
   "metadata": {},
   "source": [
    "## data preprocessing"
   ]
  },
  {
   "cell_type": "code",
   "execution_count": 11,
   "id": "ea0969cc",
   "metadata": {},
   "outputs": [
    {
     "data": {
      "text/plain": [
       "(tensor(0.), tensor(1.))"
      ]
     },
     "execution_count": 11,
     "metadata": {},
     "output_type": "execute_result"
    }
   ],
   "source": [
    "# normalization\n",
    "X = X / (torch.max(X, axis=0)[0] - torch.min(X, axis=0)[0])\n",
    "X = X - torch.min(X, axis=0)[0]\n",
    "torch.min(X), torch.max(X)"
   ]
  },
  {
   "cell_type": "code",
   "execution_count": 12,
   "id": "9d04d54b",
   "metadata": {},
   "outputs": [
    {
     "data": {
      "text/plain": [
       "tensor([[0.4410, 0.5021, 0.5708, 0.4865, 0.4861, 0.1893, 0.3452],\n",
       "        [0.4051, 0.4463, 0.6624, 0.3688, 0.5011, 0.0329, 0.2152],\n",
       "        [0.3494, 0.3471, 0.8793, 0.2207, 0.5039, 0.2515, 0.1507],\n",
       "        [0.3069, 0.3161, 0.7931, 0.2393, 0.5339, 0.1942, 0.1408],\n",
       "        [0.5241, 0.5331, 0.8648, 0.4274, 0.6643, 0.0767, 0.3230],\n",
       "        [0.3579, 0.3719, 0.7895, 0.2742, 0.4861, 0.2206, 0.2152],\n",
       "        [0.3872, 0.4298, 0.6515, 0.3739, 0.4483, 0.3668, 0.3447],\n",
       "        [0.3324, 0.3492, 0.7532, 0.2934, 0.4790, 0.2516, 0.2368],\n",
       "        [0.5704, 0.6302, 0.6044, 0.6498, 0.5952, 0.1658, 0.6686],\n",
       "        [0.5524, 0.5868, 0.7250, 0.5546, 0.6237, 0.1565, 0.4993]])"
      ]
     },
     "execution_count": 12,
     "metadata": {},
     "output_type": "execute_result"
    }
   ],
   "source": [
    "X[:10, :9]"
   ]
  },
  {
   "cell_type": "code",
   "execution_count": 13,
   "id": "6d30ecfc",
   "metadata": {},
   "outputs": [
    {
     "data": {
      "text/plain": [
       "(126, 42, 42)"
      ]
     },
     "execution_count": 13,
     "metadata": {},
     "output_type": "execute_result"
    }
   ],
   "source": [
    "from torch.utils.data import TensorDataset\n",
    "from torch.utils.data import DataLoader\n",
    "from torch.utils.data import random_split\n",
    "\n",
    "# generate tensordataset\n",
    "dataset = TensorDataset(X, y)\n",
    "\n",
    "# split\n",
    "train_rate = 0.6\n",
    "valid_rate = 0.2\n",
    "test_rate = 0.2\n",
    "E_train = min(8192, int(E*train_rate))\n",
    "E_valid = min(2048, int(E*valid_rate))\n",
    "E_test = min(2048, int(E*test_rate))\n",
    "\n",
    "random.seed(config.data_split_seed);\n",
    "np.random.seed(config.data_split_seed);\n",
    "torch.manual_seed(config.data_split_seed);\n",
    "\n",
    "train_data, rest_data = random_split(dataset, [E_train, E-E_train])\n",
    "valid_data, rest_data = random_split(rest_data, [E_valid, E-E_train-E_valid])\n",
    "test_data, rest_data = random_split(rest_data, [E_test, E-E_train-E_valid-E_test])\n",
    "\n",
    "len(train_data), len(valid_data), len(test_data)"
   ]
  },
  {
   "cell_type": "code",
   "execution_count": 14,
   "id": "4f8988b7",
   "metadata": {},
   "outputs": [],
   "source": [
    "# batch\n",
    "train_loader = DataLoader(train_data, batch_size=len(train_data))\n",
    "valid_loader = DataLoader(valid_data, batch_size=len(valid_data))\n",
    "test_loader = DataLoader(test_data, batch_size=len(test_data))"
   ]
  },
  {
   "cell_type": "markdown",
   "id": "bb0f57e2",
   "metadata": {},
   "source": [
    "# Hyperparameter"
   ]
  },
  {
   "cell_type": "code",
   "execution_count": 17,
   "id": "608550a4",
   "metadata": {},
   "outputs": [],
   "source": [
    "N_Hidden = 4\n",
    "K = 5   # number of time sampling\n",
    "M = 40  # number of model sampling\n",
    "K_valid = 5\n",
    "M_valid = 10"
   ]
  },
  {
   "cell_type": "markdown",
   "id": "17b3bda2",
   "metadata": {},
   "source": [
    "# Normal NN\n",
    "## Training"
   ]
  },
  {
   "cell_type": "code",
   "execution_count": 18,
   "id": "4874b4d1",
   "metadata": {},
   "outputs": [
    {
     "data": {
      "text/plain": [
       "Sequential(\n",
       "  (0): Linear(in_features=7, out_features=4, bias=True)\n",
       "  (1): Tanh()\n",
       "  (2): Linear(in_features=4, out_features=3, bias=True)\n",
       "  (3): Tanh()\n",
       ")"
      ]
     },
     "execution_count": 18,
     "metadata": {},
     "output_type": "execute_result"
    }
   ],
   "source": [
    "NN = torch.nn.Sequential(torch.nn.Linear(N_features, N_Hidden), torch.nn.Tanh(),\n",
    "                         torch.nn.Linear(N_Hidden, N_class), torch.nn.Tanh())\n",
    "\n",
    "\n",
    "def weights_init(m):\n",
    "    if isinstance(m, torch.nn.Linear):\n",
    "        torch.nn.init.xavier_uniform_(m.weight)\n",
    "        m.bias.data.fill_(0.01)\n",
    "\n",
    "\n",
    "NN.apply(weights_init)\n",
    "\n",
    "optimizer_NN = torch.optim.Adam(NN.parameters(), lr=0.01)\n",
    "celoss = torch.nn.CrossEntropyLoss()\n",
    "NN"
   ]
  },
  {
   "cell_type": "code",
   "execution_count": 19,
   "id": "f244a366",
   "metadata": {},
   "outputs": [
    {
     "data": {
      "application/vnd.jupyter.widget-view+json": {
       "model_id": "b2f00098c40a40cb8f26f28745f7014f",
       "version_major": 2,
       "version_minor": 0
      },
      "text/plain": [
       "  0%|          | 0/15000 [00:00<?, ?it/s]"
      ]
     },
     "metadata": {},
     "output_type": "display_data"
    },
    {
     "name": "stdout",
     "output_type": "stream",
     "text": [
      "| Epoch:     0 | Accuracy: 0.47619 | Loss: 1.066063404 |\n",
      "| Epoch:   100 | Accuracy: 0.90476 | Loss: 0.474944025 |\n",
      "| Epoch:   200 | Accuracy: 0.92857 | Loss: 0.405940861 |\n",
      "| Epoch:   300 | Accuracy: 0.92857 | Loss: 0.369035780 |\n",
      "| Epoch:   400 | Accuracy: 0.92857 | Loss: 0.346163601 |\n",
      "| Epoch:   500 | Accuracy: 0.92857 | Loss: 0.333522260 |\n",
      "| Epoch:   600 | Accuracy: 0.92857 | Loss: 0.326266676 |\n",
      "| Epoch:   700 | Accuracy: 0.95238 | Loss: 0.321692020 |\n",
      "| Epoch:   800 | Accuracy: 0.95238 | Loss: 0.318589747 |\n",
      "| Epoch:   900 | Accuracy: 0.95238 | Loss: 0.316427201 |\n",
      "| Epoch:  1000 | Accuracy: 0.95238 | Loss: 0.314910054 |\n",
      "| Epoch:  1100 | Accuracy: 0.95238 | Loss: 0.313833296 |\n",
      "| Epoch:  1200 | Accuracy: 0.95238 | Loss: 0.313046992 |\n",
      "| Epoch:  1300 | Accuracy: 0.95238 | Loss: 0.312445194 |\n",
      "| Epoch:  1400 | Accuracy: 0.95238 | Loss: 0.311955124 |\n",
      "| Epoch:  1500 | Accuracy: 0.95238 | Loss: 0.311527163 |\n",
      "| Epoch:  1600 | Accuracy: 0.95238 | Loss: 0.311126620 |\n",
      "| Epoch:  1700 | Accuracy: 0.95238 | Loss: 0.310726851 |\n",
      "| Epoch:  1800 | Accuracy: 0.95238 | Loss: 0.310304224 |\n",
      "| Epoch:  1900 | Accuracy: 0.95238 | Loss: 0.309832513 |\n",
      "| Epoch:  2000 | Accuracy: 0.95238 | Loss: 0.309276581 |\n",
      "| Epoch:  2100 | Accuracy: 0.95238 | Loss: 0.308582872 |\n",
      "| Epoch:  2200 | Accuracy: 0.95238 | Loss: 0.307663500 |\n",
      "| Epoch:  2300 | Accuracy: 0.95238 | Loss: 0.306376994 |\n",
      "| Epoch:  2400 | Accuracy: 0.95238 | Loss: 0.304586262 |\n",
      "| Epoch:  2500 | Accuracy: 0.95238 | Loss: 0.302819818 |\n",
      "| Epoch:  2600 | Accuracy: 0.95238 | Loss: 0.302507490 |\n",
      "| Epoch:  2700 | Accuracy: 0.95238 | Loss: 0.303022712 |\n",
      "| Epoch:  2800 | Accuracy: 0.95238 | Loss: 0.303500324 |\n",
      "| Epoch:  2900 | Accuracy: 0.95238 | Loss: 0.303845972 |\n",
      "| Epoch:  3000 | Accuracy: 0.95238 | Loss: 0.304149508 |\n",
      "| Epoch:  3100 | Accuracy: 0.95238 | Loss: 0.304464906 |\n",
      "| Epoch:  3200 | Accuracy: 0.95238 | Loss: 0.304815024 |\n",
      "| Epoch:  3300 | Accuracy: 0.95238 | Loss: 0.305207878 |\n",
      "| Epoch:  3400 | Accuracy: 0.95238 | Loss: 0.305644333 |\n",
      "| Epoch:  3500 | Accuracy: 0.95238 | Loss: 0.306121528 |\n",
      "| Epoch:  3600 | Accuracy: 0.95238 | Loss: 0.306634575 |\n",
      "| Epoch:  3700 | Accuracy: 0.95238 | Loss: 0.307177424 |\n",
      "| Epoch:  3800 | Accuracy: 0.95238 | Loss: 0.307743132 |\n",
      "| Epoch:  3900 | Accuracy: 0.95238 | Loss: 0.308324665 |\n",
      "| Epoch:  4000 | Accuracy: 0.95238 | Loss: 0.308914870 |\n",
      "| Epoch:  4100 | Accuracy: 0.95238 | Loss: 0.309506804 |\n",
      "| Epoch:  4200 | Accuracy: 0.95238 | Loss: 0.310094327 |\n",
      "| Epoch:  4300 | Accuracy: 0.95238 | Loss: 0.310671866 |\n",
      "| Epoch:  4400 | Accuracy: 0.95238 | Loss: 0.311234534 |\n",
      "| Epoch:  4500 | Accuracy: 0.95238 | Loss: 0.311778367 |\n",
      "| Epoch:  4600 | Accuracy: 0.95238 | Loss: 0.312300533 |\n",
      "| Epoch:  4700 | Accuracy: 0.95238 | Loss: 0.312798768 |\n",
      "| Epoch:  4800 | Accuracy: 0.95238 | Loss: 0.313271642 |\n",
      "| Epoch:  4900 | Accuracy: 0.95238 | Loss: 0.313718259 |\n",
      "| Epoch:  5000 | Accuracy: 0.95238 | Loss: 0.314138442 |\n",
      "| Epoch:  5100 | Accuracy: 0.95238 | Loss: 0.314532518 |\n",
      "| Epoch:  5200 | Accuracy: 0.95238 | Loss: 0.314900964 |\n",
      "| Epoch:  5300 | Accuracy: 0.95238 | Loss: 0.315244734 |\n",
      "| Epoch:  5400 | Accuracy: 0.95238 | Loss: 0.315564811 |\n",
      "| Epoch:  5500 | Accuracy: 0.95238 | Loss: 0.315862447 |\n",
      "| Epoch:  5600 | Accuracy: 0.95238 | Loss: 0.316138774 |\n",
      "| Epoch:  5700 | Accuracy: 0.95238 | Loss: 0.316395104 |\n",
      "| Epoch:  5800 | Accuracy: 0.95238 | Loss: 0.316632897 |\n",
      "| Epoch:  5900 | Accuracy: 0.95238 | Loss: 0.316853344 |\n",
      "| Epoch:  6000 | Accuracy: 0.95238 | Loss: 0.317057639 |\n",
      "| Epoch:  6100 | Accuracy: 0.95238 | Loss: 0.317247003 |\n",
      "| Epoch:  6200 | Accuracy: 0.95238 | Loss: 0.317422539 |\n",
      "| Epoch:  6300 | Accuracy: 0.95238 | Loss: 0.317585289 |\n",
      "| Epoch:  6400 | Accuracy: 0.95238 | Loss: 0.317736238 |\n",
      "| Epoch:  6500 | Accuracy: 0.95238 | Loss: 0.317876488 |\n",
      "| Epoch:  6600 | Accuracy: 0.95238 | Loss: 0.318006635 |\n",
      "| Epoch:  6700 | Accuracy: 0.95238 | Loss: 0.318127692 |\n",
      "| Epoch:  6800 | Accuracy: 0.95238 | Loss: 0.318240225 |\n",
      "| Epoch:  6900 | Accuracy: 0.95238 | Loss: 0.318344951 |\n",
      "| Epoch:  7000 | Accuracy: 0.95238 | Loss: 0.318442553 |\n",
      "| Epoch:  7100 | Accuracy: 0.95238 | Loss: 0.318533510 |\n",
      "| Epoch:  7200 | Accuracy: 0.95238 | Loss: 0.318618387 |\n",
      "| Epoch:  7300 | Accuracy: 0.95238 | Loss: 0.318697780 |\n",
      "| Epoch:  7400 | Accuracy: 0.95238 | Loss: 0.318771899 |\n",
      "| Epoch:  7500 | Accuracy: 0.95238 | Loss: 0.318841308 |\n",
      "| Epoch:  7600 | Accuracy: 0.95238 | Loss: 0.318906277 |\n",
      "| Epoch:  7700 | Accuracy: 0.95238 | Loss: 0.318967223 |\n",
      "| Epoch:  7800 | Accuracy: 0.95238 | Loss: 0.319024414 |\n",
      "| Epoch:  7900 | Accuracy: 0.95238 | Loss: 0.319078088 |\n",
      "| Epoch:  8000 | Accuracy: 0.95238 | Loss: 0.319128513 |\n",
      "| Epoch:  8100 | Accuracy: 0.95238 | Loss: 0.319176048 |\n",
      "| Epoch:  8200 | Accuracy: 0.95238 | Loss: 0.319220781 |\n",
      "| Epoch:  8300 | Accuracy: 0.95238 | Loss: 0.319262952 |\n",
      "| Epoch:  8400 | Accuracy: 0.95238 | Loss: 0.319302797 |\n",
      "| Epoch:  8500 | Accuracy: 0.95238 | Loss: 0.319340378 |\n",
      "| Epoch:  8600 | Accuracy: 0.95238 | Loss: 0.319375873 |\n",
      "| Epoch:  8700 | Accuracy: 0.95238 | Loss: 0.319409519 |\n",
      "| Epoch:  8800 | Accuracy: 0.95238 | Loss: 0.319441319 |\n",
      "| Epoch:  8900 | Accuracy: 0.95238 | Loss: 0.319471478 |\n",
      "| Epoch:  9000 | Accuracy: 0.95238 | Loss: 0.319500118 |\n",
      "| Epoch:  9100 | Accuracy: 0.95238 | Loss: 0.319527268 |\n",
      "| Epoch:  9200 | Accuracy: 0.95238 | Loss: 0.319553077 |\n",
      "| Epoch:  9300 | Accuracy: 0.95238 | Loss: 0.319577634 |\n",
      "| Epoch:  9400 | Accuracy: 0.95238 | Loss: 0.319600999 |\n",
      "| Epoch:  9500 | Accuracy: 0.95238 | Loss: 0.319623202 |\n",
      "| Epoch:  9600 | Accuracy: 0.95238 | Loss: 0.319644332 |\n",
      "| Epoch:  9700 | Accuracy: 0.95238 | Loss: 0.319664568 |\n",
      "| Epoch:  9800 | Accuracy: 0.95238 | Loss: 0.319683880 |\n",
      "| Epoch:  9900 | Accuracy: 0.95238 | Loss: 0.319702297 |\n",
      "| Epoch: 10000 | Accuracy: 0.95238 | Loss: 0.319719851 |\n",
      "| Epoch: 10100 | Accuracy: 0.95238 | Loss: 0.319736689 |\n",
      "| Epoch: 10200 | Accuracy: 0.95238 | Loss: 0.319752753 |\n",
      "| Epoch: 10300 | Accuracy: 0.95238 | Loss: 0.319768190 |\n",
      "| Epoch: 10400 | Accuracy: 0.95238 | Loss: 0.319783062 |\n",
      "| Epoch: 10500 | Accuracy: 0.95238 | Loss: 0.319797188 |\n",
      "| Epoch: 10600 | Accuracy: 0.95238 | Loss: 0.319810778 |\n",
      "| Epoch: 10700 | Accuracy: 0.92857 | Loss: 0.319823831 |\n",
      "| Epoch: 10800 | Accuracy: 0.92857 | Loss: 0.319836318 |\n",
      "| Epoch: 10900 | Accuracy: 0.92857 | Loss: 0.319848388 |\n",
      "| Epoch: 11000 | Accuracy: 0.92857 | Loss: 0.319859922 |\n",
      "| Epoch: 11100 | Accuracy: 0.92857 | Loss: 0.319871008 |\n",
      "| Epoch: 11200 | Accuracy: 0.92857 | Loss: 0.319881767 |\n",
      "| Epoch: 11300 | Accuracy: 0.92857 | Loss: 0.319892108 |\n",
      "| Epoch: 11400 | Accuracy: 0.92857 | Loss: 0.319902033 |\n",
      "| Epoch: 11500 | Accuracy: 0.92857 | Loss: 0.319911629 |\n",
      "| Epoch: 11600 | Accuracy: 0.92857 | Loss: 0.319920927 |\n",
      "| Epoch: 11700 | Accuracy: 0.92857 | Loss: 0.319929838 |\n",
      "| Epoch: 11800 | Accuracy: 0.92857 | Loss: 0.319938451 |\n",
      "| Epoch: 11900 | Accuracy: 0.92857 | Loss: 0.319946766 |\n",
      "| Epoch: 12000 | Accuracy: 0.92857 | Loss: 0.319954813 |\n",
      "| Epoch: 12100 | Accuracy: 0.92857 | Loss: 0.319962621 |\n",
      "| Epoch: 12200 | Accuracy: 0.92857 | Loss: 0.319970191 |\n",
      "| Epoch: 12300 | Accuracy: 0.92857 | Loss: 0.319977343 |\n",
      "| Epoch: 12400 | Accuracy: 0.92857 | Loss: 0.319984496 |\n",
      "| Epoch: 12500 | Accuracy: 0.92857 | Loss: 0.319991201 |\n",
      "| Epoch: 12600 | Accuracy: 0.92857 | Loss: 0.319997907 |\n",
      "| Epoch: 12700 | Accuracy: 0.92857 | Loss: 0.320004225 |\n",
      "| Epoch: 12800 | Accuracy: 0.92857 | Loss: 0.320010394 |\n",
      "| Epoch: 12900 | Accuracy: 0.92857 | Loss: 0.320016563 |\n",
      "| Epoch: 13000 | Accuracy: 0.92857 | Loss: 0.320022315 |\n",
      "| Epoch: 13100 | Accuracy: 0.92857 | Loss: 0.320027888 |\n",
      "| Epoch: 13200 | Accuracy: 0.92857 | Loss: 0.320033371 |\n",
      "| Epoch: 13300 | Accuracy: 0.92857 | Loss: 0.320038825 |\n",
      "| Epoch: 13400 | Accuracy: 0.92857 | Loss: 0.320043981 |\n",
      "| Epoch: 13500 | Accuracy: 0.92857 | Loss: 0.320048958 |\n",
      "| Epoch: 13600 | Accuracy: 0.92857 | Loss: 0.320053935 |\n",
      "| Epoch: 13700 | Accuracy: 0.92857 | Loss: 0.320058614 |\n",
      "| Epoch: 13800 | Accuracy: 0.92857 | Loss: 0.320063204 |\n",
      "| Epoch: 13900 | Accuracy: 0.92857 | Loss: 0.320067704 |\n",
      "| Epoch: 14000 | Accuracy: 0.92857 | Loss: 0.320072025 |\n",
      "| Epoch: 14100 | Accuracy: 0.92857 | Loss: 0.320076197 |\n",
      "| Epoch: 14200 | Accuracy: 0.92857 | Loss: 0.320080519 |\n",
      "| Epoch: 14300 | Accuracy: 0.92857 | Loss: 0.320084721 |\n",
      "| Epoch: 14400 | Accuracy: 0.92857 | Loss: 0.320088565 |\n",
      "| Epoch: 14500 | Accuracy: 0.92857 | Loss: 0.320092350 |\n",
      "| Epoch: 14600 | Accuracy: 0.92857 | Loss: 0.320096284 |\n",
      "| Epoch: 14700 | Accuracy: 0.92857 | Loss: 0.320099920 |\n",
      "| Epoch: 14800 | Accuracy: 0.92857 | Loss: 0.320103317 |\n",
      "| Epoch: 14900 | Accuracy: 0.92857 | Loss: 0.320106715 |\n",
      "Finished.\n"
     ]
    }
   ],
   "source": [
    "train_loss_NN, valid_loss_NN, parameter_NN = training.train_normal_nn(NN,\n",
    "                                                                     train_loader,\n",
    "                                                                     valid_loader,\n",
    "                                                                     optimizer=optimizer_NN,\n",
    "                                                                     lossfunction=celoss,\n",
    "                                                                     Epoch=15000)"
   ]
  },
  {
   "cell_type": "code",
   "execution_count": 20,
   "id": "6f23e9b4",
   "metadata": {},
   "outputs": [
    {
     "data": {
      "text/plain": [
       "(2568, tensor(0.3025))"
      ]
     },
     "execution_count": 20,
     "metadata": {},
     "output_type": "execute_result"
    },
    {
     "data": {
      "image/png": "[encoded data removed]",
      "text/plain": [
       "<Figure size 432x288 with 1 Axes>"
      ]
     },
     "metadata": {
      "needs_background": "light"
     },
     "output_type": "display_data"
    }
   ],
   "source": [
    "plt.plot(train_loss_NN, '-', label='train')\n",
    "plt.plot(valid_loss_NN, '--', label='valid')\n",
    "plt.legend()\n",
    "best = np.argmin(valid_loss_NN)\n",
    "best, valid_loss_NN[best]"
   ]
  },
  {
   "cell_type": "markdown",
   "id": "3366f4b5",
   "metadata": {},
   "source": [
    "## save model"
   ]
  },
  {
   "cell_type": "code",
   "execution_count": 24,
   "id": "f68d2337",
   "metadata": {},
   "outputs": [],
   "source": [
    "# with open('./pendigitresult/NN_16.p', 'wb') as f:\n",
    "#     pickle.dump(NN, f)"
   ]
  },
  {
   "cell_type": "markdown",
   "id": "9192ad68",
   "metadata": {},
   "source": [
    "## load model"
   ]
  },
  {
   "cell_type": "code",
   "execution_count": 25,
   "id": "dcfe8799",
   "metadata": {},
   "outputs": [],
   "source": [
    "# with open('./pendigitresult/NN_16.p', 'rb') as f:\n",
    "#     NN = pickle.load(f)"
   ]
  },
  {
   "cell_type": "markdown",
   "id": "0c45f3e6",
   "metadata": {},
   "source": [
    "## evalutation"
   ]
  },
  {
   "cell_type": "code",
   "execution_count": 21,
   "id": "ebe6060d",
   "metadata": {},
   "outputs": [
    {
     "name": "stdout",
     "output_type": "stream",
     "text": [
      "0.9523809523809523\n"
     ]
    }
   ],
   "source": [
    "for x_test, y_test in test_loader:\n",
    "    prediction_test = NN(x_test)\n",
    "    p = torch.argmax(prediction_test, 1)\n",
    "    pred_y = p.data.numpy().squeeze()\n",
    "    acc_test = sum(pred_y == y_test.numpy()) / y_test.shape[0]\n",
    "print(acc_test)"
   ]
  },
  {
   "cell_type": "markdown",
   "id": "00492b19",
   "metadata": {},
   "source": [
    "# PNN\n",
    "## Training"
   ]
  },
  {
   "cell_type": "code",
   "execution_count": 22,
   "id": "ef8515ec",
   "metadata": {},
   "outputs": [
    {
     "data": {
      "text/plain": [
       "Sequential(\n",
       "  (0): PNNLayer()\n",
       "  (1): PNNLayer()\n",
       ")"
      ]
     },
     "execution_count": 22,
     "metadata": {},
     "output_type": "execute_result"
    }
   ],
   "source": [
    "PNN = torch.nn.Sequential(pnn.PNNLayer(N_features, N_Hidden, age_generator),\n",
    "                          pnn.PNNLayer(N_Hidden, N_class, age_generator))\n",
    "optimizer_PNN = torch.optim.Adam(PNN.parameters(), lr=0.01)\n",
    "PNN"
   ]
  },
  {
   "cell_type": "code",
   "execution_count": 23,
   "id": "430b5fea",
   "metadata": {},
   "outputs": [
    {
     "data": {
      "application/vnd.jupyter.widget-view+json": {
       "model_id": "2065e6c76032438ab3045ced5dddb6e2",
       "version_major": 2,
       "version_minor": 0
      },
      "text/plain": [
       "  0%|          | 0/15000 [00:00<?, ?it/s]"
      ]
     },
     "metadata": {},
     "output_type": "display_data"
    },
    {
     "name": "stdout",
     "output_type": "stream",
     "text": [
      "| Epoch:     0 | Accuracy: 0.33333 | Loss: 1.192396433 |\n",
      "| Epoch:   100 | Accuracy: 0.88095 | Loss: 0.261180320 |\n",
      "| Epoch:   200 | Accuracy: 0.88095 | Loss: 0.159867128 |\n",
      "| Epoch:   300 | Accuracy: 0.92857 | Loss: 0.140305372 |\n",
      "| Epoch:   400 | Accuracy: 0.95238 | Loss: 0.128043109 |\n",
      "| Epoch:   500 | Accuracy: 0.95238 | Loss: 0.118733983 |\n",
      "| Epoch:   600 | Accuracy: 0.95238 | Loss: 0.114248050 |\n",
      "| Epoch:   700 | Accuracy: 0.95238 | Loss: 0.112576655 |\n",
      "| Epoch:   800 | Accuracy: 0.95238 | Loss: 0.109077277 |\n",
      "| Epoch:   900 | Accuracy: 0.95238 | Loss: 0.104235057 |\n",
      "| Epoch:  1000 | Accuracy: 0.95238 | Loss: 0.101752212 |\n",
      "| Epoch:  1100 | Accuracy: 0.95238 | Loss: 0.103371457 |\n",
      "| Epoch:  1200 | Accuracy: 0.95238 | Loss: 0.104335853 |\n",
      "| Epoch:  1300 | Accuracy: 0.95238 | Loss: 0.106039298 |\n",
      "| Epoch:  1400 | Accuracy: 0.95238 | Loss: 0.107889915 |\n",
      "| Epoch:  1500 | Accuracy: 0.95238 | Loss: 0.108985582 |\n",
      "| Epoch:  1600 | Accuracy: 0.95238 | Loss: 0.110562002 |\n",
      "| Epoch:  1700 | Accuracy: 0.95238 | Loss: 0.110948899 |\n",
      "| Epoch:  1800 | Accuracy: 0.95238 | Loss: 0.110007616 |\n",
      "| Epoch:  1900 | Accuracy: 0.95238 | Loss: 0.109353905 |\n",
      "| Epoch:  2000 | Accuracy: 0.95238 | Loss: 0.108959082 |\n",
      "| Epoch:  2100 | Accuracy: 0.95238 | Loss: 0.108614946 |\n",
      "| Epoch:  2200 | Accuracy: 0.95238 | Loss: 0.107607502 |\n",
      "| Epoch:  2300 | Accuracy: 0.95238 | Loss: 0.106197759 |\n",
      "| Epoch:  2400 | Accuracy: 0.95238 | Loss: 0.105807536 |\n",
      "| Epoch:  2500 | Accuracy: 0.95238 | Loss: 0.105614946 |\n",
      "| Epoch:  2600 | Accuracy: 0.95238 | Loss: 0.104403151 |\n",
      "| Epoch:  2700 | Accuracy: 0.95238 | Loss: 0.104749459 |\n",
      "| Epoch:  2800 | Accuracy: 0.95238 | Loss: 0.103618370 |\n",
      "| Epoch:  2900 | Accuracy: 0.95238 | Loss: 0.102115808 |\n",
      "| Epoch:  3000 | Accuracy: 0.95238 | Loss: 0.100804924 |\n",
      "| Epoch:  3100 | Accuracy: 0.95238 | Loss: 0.098873431 |\n",
      "| Epoch:  3200 | Accuracy: 0.95238 | Loss: 0.097324060 |\n",
      "| Epoch:  3300 | Accuracy: 0.95238 | Loss: 0.096761668 |\n",
      "| Epoch:  3400 | Accuracy: 0.95238 | Loss: 0.093399682 |\n",
      "| Epoch:  3500 | Accuracy: 0.95238 | Loss: 0.091574858 |\n",
      "| Epoch:  3600 | Accuracy: 0.95238 | Loss: 0.089534107 |\n",
      "| Epoch:  3700 | Accuracy: 0.95238 | Loss: 0.089136436 |\n",
      "| Epoch:  3800 | Accuracy: 0.95238 | Loss: 0.088797183 |\n",
      "| Epoch:  3900 | Accuracy: 0.95238 | Loss: 0.089006286 |\n",
      "| Epoch:  4000 | Accuracy: 0.97619 | Loss: 0.089004551 |\n",
      "| Epoch:  4100 | Accuracy: 0.97619 | Loss: 0.089393693 |\n",
      "| Epoch:  4200 | Accuracy: 0.97619 | Loss: 0.088148058 |\n",
      "| Epoch:  4300 | Accuracy: 0.97619 | Loss: 0.089239283 |\n",
      "| Epoch:  4400 | Accuracy: 0.95238 | Loss: 0.090124957 |\n",
      "| Epoch:  4500 | Accuracy: 0.95238 | Loss: 0.090259774 |\n",
      "| Epoch:  4600 | Accuracy: 0.95238 | Loss: 0.091756627 |\n",
      "| Epoch:  4700 | Accuracy: 0.95238 | Loss: 0.090075182 |\n",
      "| Epoch:  4800 | Accuracy: 0.97619 | Loss: 0.087729943 |\n",
      "| Epoch:  4900 | Accuracy: 0.97619 | Loss: 0.087826826 |\n",
      "| Epoch:  5000 | Accuracy: 0.97619 | Loss: 0.088106584 |\n",
      "| Epoch:  5100 | Accuracy: 0.97619 | Loss: 0.088092929 |\n",
      "| Epoch:  5200 | Accuracy: 0.97619 | Loss: 0.087425476 |\n",
      "| Epoch:  5300 | Accuracy: 0.97619 | Loss: 0.089323550 |\n",
      "| Epoch:  5400 | Accuracy: 0.97619 | Loss: 0.088491882 |\n",
      "| Epoch:  5500 | Accuracy: 0.97619 | Loss: 0.089079185 |\n",
      "| Epoch:  5600 | Accuracy: 0.97619 | Loss: 0.088742499 |\n",
      "| Epoch:  5700 | Accuracy: 0.97619 | Loss: 0.090615073 |\n",
      "| Epoch:  5800 | Accuracy: 0.97619 | Loss: 0.089289724 |\n",
      "| Epoch:  5900 | Accuracy: 0.97619 | Loss: 0.090019608 |\n",
      "| Epoch:  6000 | Accuracy: 0.95238 | Loss: 0.091963180 |\n",
      "| Epoch:  6100 | Accuracy: 0.97619 | Loss: 0.090509484 |\n",
      "| Epoch:  6200 | Accuracy: 0.95238 | Loss: 0.092147884 |\n",
      "| Epoch:  6300 | Accuracy: 0.95238 | Loss: 0.091381348 |\n",
      "| Epoch:  6400 | Accuracy: 0.97619 | Loss: 0.090948682 |\n",
      "| Epoch:  6500 | Accuracy: 0.95238 | Loss: 0.091043403 |\n",
      "| Epoch:  6600 | Accuracy: 0.97619 | Loss: 0.091481417 |\n",
      "| Epoch:  6700 | Accuracy: 0.95238 | Loss: 0.092322887 |\n",
      "| Epoch:  6800 | Accuracy: 0.95238 | Loss: 0.092249326 |\n",
      "| Epoch:  6900 | Accuracy: 0.95238 | Loss: 0.092856065 |\n",
      "| Epoch:  7000 | Accuracy: 0.95238 | Loss: 0.091312894 |\n",
      "| Epoch:  7100 | Accuracy: 0.95238 | Loss: 0.092099151 |\n",
      "| Epoch:  7200 | Accuracy: 0.95238 | Loss: 0.092681504 |\n",
      "| Epoch:  7300 | Accuracy: 0.95238 | Loss: 0.090856867 |\n",
      "| Epoch:  7400 | Accuracy: 0.95238 | Loss: 0.089622789 |\n",
      "| Epoch:  7500 | Accuracy: 0.95238 | Loss: 0.092289421 |\n",
      "| Epoch:  7600 | Accuracy: 0.95238 | Loss: 0.092005912 |\n",
      "| Epoch:  7700 | Accuracy: 0.95238 | Loss: 0.091674656 |\n",
      "| Epoch:  7800 | Accuracy: 0.95238 | Loss: 0.091511617 |\n",
      "| Epoch:  7900 | Accuracy: 0.95238 | Loss: 0.092664745 |\n",
      "| Epoch:  8000 | Accuracy: 0.95238 | Loss: 0.091767877 |\n",
      "| Epoch:  8100 | Accuracy: 0.95238 | Loss: 0.091442848 |\n",
      "| Epoch:  8200 | Accuracy: 0.95238 | Loss: 0.092344184 |\n",
      "| Epoch:  8300 | Accuracy: 0.95238 | Loss: 0.091172842 |\n",
      "| Epoch:  8400 | Accuracy: 0.95238 | Loss: 0.092384547 |\n",
      "| Epoch:  8500 | Accuracy: 0.95238 | Loss: 0.089968707 |\n",
      "| Epoch:  8600 | Accuracy: 0.95238 | Loss: 0.090332740 |\n",
      "| Epoch:  8700 | Accuracy: 0.95238 | Loss: 0.093006118 |\n",
      "| Epoch:  8800 | Accuracy: 0.95238 | Loss: 0.093807742 |\n",
      "| Epoch:  8900 | Accuracy: 0.95238 | Loss: 0.091076612 |\n",
      "| Epoch:  9000 | Accuracy: 0.95238 | Loss: 0.092125832 |\n",
      "| Epoch:  9100 | Accuracy: 0.95238 | Loss: 0.089154392 |\n",
      "| Epoch:  9200 | Accuracy: 0.95238 | Loss: 0.090280233 |\n",
      "| Epoch:  9300 | Accuracy: 0.95238 | Loss: 0.092466429 |\n",
      "| Epoch:  9400 | Accuracy: 0.95238 | Loss: 0.089969607 |\n",
      "| Epoch:  9500 | Accuracy: 0.95238 | Loss: 0.093797198 |\n",
      "| Epoch:  9600 | Accuracy: 0.95238 | Loss: 0.091957958 |\n",
      "| Epoch:  9700 | Accuracy: 0.95238 | Loss: 0.092663978 |\n",
      "| Epoch:  9800 | Accuracy: 0.95238 | Loss: 0.090432103 |\n",
      "| Epoch:  9900 | Accuracy: 0.95238 | Loss: 0.092306904 |\n",
      "| Epoch: 10000 | Accuracy: 0.95238 | Loss: 0.092566612 |\n",
      "| Epoch: 10100 | Accuracy: 0.95238 | Loss: 0.091836685 |\n",
      "| Epoch: 10200 | Accuracy: 0.95238 | Loss: 0.094031411 |\n",
      "| Epoch: 10300 | Accuracy: 0.95238 | Loss: 0.093035826 |\n",
      "| Epoch: 10400 | Accuracy: 0.95238 | Loss: 0.090736184 |\n",
      "| Epoch: 10500 | Accuracy: 0.95238 | Loss: 0.089725072 |\n",
      "| Epoch: 10600 | Accuracy: 0.95238 | Loss: 0.089649353 |\n",
      "| Epoch: 10700 | Accuracy: 0.95238 | Loss: 0.090202810 |\n",
      "| Epoch: 10800 | Accuracy: 0.95238 | Loss: 0.089551979 |\n",
      "| Epoch: 10900 | Accuracy: 0.95238 | Loss: 0.093126891 |\n",
      "| Epoch: 11000 | Accuracy: 0.95238 | Loss: 0.093202432 |\n",
      "| Epoch: 11100 | Accuracy: 0.95238 | Loss: 0.090052322 |\n",
      "| Epoch: 11200 | Accuracy: 0.95238 | Loss: 0.089999396 |\n",
      "| Epoch: 11300 | Accuracy: 0.95238 | Loss: 0.090546333 |\n",
      "| Epoch: 11400 | Accuracy: 0.95238 | Loss: 0.088557735 |\n",
      "| Epoch: 11500 | Accuracy: 0.95238 | Loss: 0.089751824 |\n",
      "| Epoch: 11600 | Accuracy: 0.95238 | Loss: 0.088967367 |\n",
      "| Epoch: 11700 | Accuracy: 0.95238 | Loss: 0.090393628 |\n",
      "| Epoch: 11800 | Accuracy: 0.95238 | Loss: 0.087197222 |\n",
      "| Epoch: 11900 | Accuracy: 0.95238 | Loss: 0.086605008 |\n",
      "| Epoch: 12000 | Accuracy: 0.95238 | Loss: 0.090199383 |\n",
      "| Epoch: 12100 | Accuracy: 0.95238 | Loss: 0.089619564 |\n",
      "| Epoch: 12200 | Accuracy: 0.95238 | Loss: 0.094470119 |\n",
      "| Epoch: 12300 | Accuracy: 0.95238 | Loss: 0.088180449 |\n",
      "| Epoch: 12400 | Accuracy: 0.95238 | Loss: 0.089729143 |\n",
      "| Epoch: 12500 | Accuracy: 0.95238 | Loss: 0.089646956 |\n",
      "| Epoch: 12600 | Accuracy: 0.95238 | Loss: 0.089387500 |\n",
      "| Epoch: 12700 | Accuracy: 0.95238 | Loss: 0.091191765 |\n",
      "| Epoch: 12800 | Accuracy: 0.95238 | Loss: 0.091856467 |\n",
      "| Epoch: 12900 | Accuracy: 0.95238 | Loss: 0.092079329 |\n",
      "| Epoch: 13000 | Accuracy: 0.95238 | Loss: 0.091821303 |\n",
      "| Epoch: 13100 | Accuracy: 0.95238 | Loss: 0.092826145 |\n",
      "| Epoch: 13200 | Accuracy: 0.95238 | Loss: 0.092385409 |\n",
      "| Epoch: 13300 | Accuracy: 0.95238 | Loss: 0.092598808 |\n",
      "| Epoch: 13400 | Accuracy: 0.95238 | Loss: 0.092858385 |\n",
      "| Epoch: 13500 | Accuracy: 0.95238 | Loss: 0.092884947 |\n",
      "| Epoch: 13600 | Accuracy: 0.95238 | Loss: 0.092889574 |\n",
      "| Epoch: 13700 | Accuracy: 0.95238 | Loss: 0.093146459 |\n",
      "| Epoch: 13800 | Accuracy: 0.95238 | Loss: 0.093034030 |\n",
      "| Epoch: 13900 | Accuracy: 0.95238 | Loss: 0.094138933 |\n",
      "| Epoch: 14000 | Accuracy: 0.95238 | Loss: 0.092835616 |\n",
      "| Epoch: 14100 | Accuracy: 0.95238 | Loss: 0.092418991 |\n",
      "| Epoch: 14200 | Accuracy: 0.95238 | Loss: 0.093890485 |\n",
      "| Epoch: 14300 | Accuracy: 0.95238 | Loss: 0.093301256 |\n",
      "| Epoch: 14400 | Accuracy: 0.95238 | Loss: 0.094268048 |\n",
      "| Epoch: 14500 | Accuracy: 0.95238 | Loss: 0.094302980 |\n",
      "| Epoch: 14600 | Accuracy: 0.95238 | Loss: 0.092992779 |\n",
      "| Epoch: 14700 | Accuracy: 0.95238 | Loss: 0.092306051 |\n",
      "| Epoch: 14800 | Accuracy: 0.95238 | Loss: 0.093204961 |\n",
      "| Epoch: 14900 | Accuracy: 0.95238 | Loss: 0.092013578 |\n",
      "Finished.\n"
     ]
    }
   ],
   "source": [
    "train_loss_PNN, valid_loss_PNN, parameter_PNN = training.train_normal_pnn(\n",
    "    PNN, train_loader, valid_loader, m, T, optimizer_PNN, pnn.LossFunction, 15000)"
   ]
  },
  {
   "cell_type": "code",
   "execution_count": 11,
   "id": "811173a7",
   "metadata": {},
   "outputs": [
    {
     "data": {
      "text/plain": [
       "(6783, tensor(0.0670, dtype=torch.float64))"
      ]
     },
     "execution_count": 11,
     "metadata": {},
     "output_type": "execute_result"
    },
    {
     "data": {
      "image/png": "[encoded data removed]",
      "text/plain": [
       "<Figure size 432x288 with 1 Axes>"
      ]
     },
     "metadata": {
      "needs_background": "light"
     },
     "output_type": "display_data"
    }
   ],
   "source": [
    "plt.plot(train_loss_PNN, '-', label='train')\n",
    "plt.plot(valid_loss_PNN, '--', label='valid')\n",
    "plt.legend()\n",
    "best = np.argmin(valid_loss_PNN)\n",
    "PNN.load_state_dict(parameter_PNN)\n",
    "best, valid_loss_PNN[best]"
   ]
  },
  {
   "cell_type": "markdown",
   "id": "9dd94766",
   "metadata": {},
   "source": [
    "## save PNN"
   ]
  },
  {
   "cell_type": "code",
   "execution_count": 12,
   "id": "ab12e33b",
   "metadata": {},
   "outputs": [],
   "source": [
    "# with open('./pendigitresult/PNN_16.p', 'wb') as f:\n",
    "#     pickle.dump(PNN, f)"
   ]
  },
  {
   "cell_type": "markdown",
   "id": "c0196479",
   "metadata": {},
   "source": [
    "## load PNN"
   ]
  },
  {
   "cell_type": "code",
   "execution_count": 13,
   "id": "53d4cca5",
   "metadata": {},
   "outputs": [],
   "source": [
    "# with open('./pendigitresult/PNN_16.p', 'rb') as f:\n",
    "#     PNN = pickle.load(f)"
   ]
  },
  {
   "cell_type": "markdown",
   "id": "e17febee",
   "metadata": {},
   "source": [
    "## Functions for setting times and models"
   ]
  },
  {
   "cell_type": "code",
   "execution_count": 24,
   "id": "05b93c0a",
   "metadata": {},
   "outputs": [],
   "source": [
    "import PNN_Setting as ps\n",
    "# ps.makemodel\n",
    "# ps.settime\n",
    "# ps.zerogradient"
   ]
  },
  {
   "cell_type": "markdown",
   "id": "72cf0a93",
   "metadata": {},
   "source": [
    "Usage of functions: \n",
    "\n",
    "`pnn.apply(lambda z: settime(z, time))`\n",
    "\n",
    "`pnn.apply(makemodel)`\n",
    "\n",
    "`pnn.apply(zerogradient)`"
   ]
  },
  {
   "cell_type": "markdown",
   "id": "02a1d3d4",
   "metadata": {},
   "source": [
    "## evaluation"
   ]
  },
  {
   "cell_type": "code",
   "execution_count": 25,
   "id": "4e5e2086",
   "metadata": {},
   "outputs": [
    {
     "data": {
      "application/vnd.jupyter.widget-view+json": {
       "model_id": "c35f886ae99a4204b66d71d72a66648e",
       "version_major": 2,
       "version_minor": 0
      },
      "text/plain": [
       "  0%|          | 0/500 [00:00<?, ?it/s]"
      ]
     },
     "metadata": {},
     "output_type": "display_data"
    },
    {
     "name": "stdout",
     "output_type": "stream",
     "text": [
      "evaluating on the 0-th model.\n",
      "evaluating on the 10-th model.\n",
      "evaluating on the 20-th model.\n",
      "evaluating on the 30-th model.\n",
      "evaluating on the 40-th model.\n",
      "evaluating on the 50-th model.\n",
      "evaluating on the 60-th model.\n",
      "evaluating on the 70-th model.\n",
      "evaluating on the 80-th model.\n",
      "evaluating on the 90-th model.\n",
      "evaluating on the 100-th model.\n",
      "evaluating on the 110-th model.\n",
      "evaluating on the 120-th model.\n",
      "evaluating on the 130-th model.\n",
      "evaluating on the 140-th model.\n",
      "evaluating on the 150-th model.\n",
      "evaluating on the 160-th model.\n",
      "evaluating on the 170-th model.\n",
      "evaluating on the 180-th model.\n",
      "evaluating on the 190-th model.\n",
      "evaluating on the 200-th model.\n",
      "evaluating on the 210-th model.\n",
      "evaluating on the 220-th model.\n",
      "evaluating on the 230-th model.\n",
      "evaluating on the 240-th model.\n",
      "evaluating on the 250-th model.\n",
      "evaluating on the 260-th model.\n",
      "evaluating on the 270-th model.\n",
      "evaluating on the 280-th model.\n",
      "evaluating on the 290-th model.\n",
      "evaluating on the 300-th model.\n",
      "evaluating on the 310-th model.\n",
      "evaluating on the 320-th model.\n",
      "evaluating on the 330-th model.\n",
      "evaluating on the 340-th model.\n",
      "evaluating on the 350-th model.\n",
      "evaluating on the 360-th model.\n",
      "evaluating on the 370-th model.\n",
      "evaluating on the 380-th model.\n",
      "evaluating on the 390-th model.\n",
      "evaluating on the 400-th model.\n",
      "evaluating on the 410-th model.\n",
      "evaluating on the 420-th model.\n",
      "evaluating on the 430-th model.\n",
      "evaluating on the 440-th model.\n",
      "evaluating on the 450-th model.\n",
      "evaluating on the 460-th model.\n",
      "evaluating on the 470-th model.\n",
      "evaluating on the 480-th model.\n",
      "evaluating on the 490-th model.\n"
     ]
    }
   ],
   "source": [
    "import evaluation\n",
    "importlib.reload(evaluation)\n",
    "mean_acc_PNN, std_acc_PNN, mean_maa_PNN, std_maa_PNN = evaluation.FullEvaluation(PNN, test_loader)"
   ]
  },
  {
   "cell_type": "code",
   "execution_count": 26,
   "id": "b9d9508d",
   "metadata": {},
   "outputs": [
    {
     "data": {
      "image/png": "[encoded data removed]",
      "text/plain": [
       "<Figure size 432x288 with 1 Axes>"
      ]
     },
     "metadata": {
      "needs_background": "light"
     },
     "output_type": "display_data"
    }
   ],
   "source": [
    "plt.fill_between(np.linspace(0,1,50), mean_acc_PNN-std_acc_PNN, mean_acc_PNN+std_acc_PNN, alpha=0.3, color='blue');\n",
    "plt.plot(np.linspace(0,1,50), mean_acc_PNN, label='PNN', color='blue');\n",
    "\n",
    "plt.xlabel('normalized time');\n",
    "plt.ylabel('basic accuracy');\n",
    "plt.xlim([0, 1]);\n",
    "plt.legend();"
   ]
  },
  {
   "cell_type": "code",
   "execution_count": 27,
   "id": "45766c5f-ca2e-4bff-9e13-25f1e8406fe9",
   "metadata": {},
   "outputs": [
    {
     "data": {
      "image/png": "[encoded data removed]",
      "text/plain": [
       "<Figure size 432x288 with 1 Axes>"
      ]
     },
     "metadata": {
      "needs_background": "light"
     },
     "output_type": "display_data"
    }
   ],
   "source": [
    "plt.fill_between(np.linspace(0,1,50), mean_maa_PNN-std_maa_PNN, mean_maa_PNN+std_maa_PNN, alpha=0.3, color='blue');\n",
    "plt.plot(np.linspace(0,1,50), mean_maa_PNN, label='PNN', color='blue');\n",
    "\n",
    "plt.xlabel('normalized time');\n",
    "plt.ylabel('measureing aware accuracy');\n",
    "plt.xlim([0, 1]);\n",
    "plt.ylim([0, 1]);\n",
    "plt.legend();"
   ]
  },
  {
   "cell_type": "markdown",
   "id": "4ff7c1f0",
   "metadata": {},
   "source": [
    "# Aging Aware PNN\n",
    "## Training"
   ]
  },
  {
   "cell_type": "code",
   "execution_count": 28,
   "id": "b474bd81",
   "metadata": {},
   "outputs": [
    {
     "data": {
      "text/plain": [
       "Sequential(\n",
       "  (0): PNNLayer()\n",
       "  (1): PNNLayer()\n",
       ")"
      ]
     },
     "execution_count": 28,
     "metadata": {},
     "output_type": "execute_result"
    }
   ],
   "source": [
    "AAPNN = torch.nn.Sequential(pnn.PNNLayer(N_features, N_Hidden, age_generator),\n",
    "                            pnn.PNNLayer(N_Hidden, N_class, age_generator))\n",
    "\n",
    "optimizer_AAPNN = torch.optim.Adam(AAPNN.parameters(), lr=0.5)\n",
    "AAPNN"
   ]
  },
  {
   "cell_type": "markdown",
   "id": "3f5e8432",
   "metadata": {},
   "source": [
    "### Functions for generating parallel AAPNNs"
   ]
  },
  {
   "cell_type": "code",
   "execution_count": 9,
   "id": "159ff692",
   "metadata": {},
   "outputs": [],
   "source": [
    "# ps.MakeParallelPNNs\n",
    "# ps.MakeParallelModels"
   ]
  },
  {
   "cell_type": "markdown",
   "id": "4b40f37b",
   "metadata": {},
   "source": [
    "Usage:\n",
    "\n",
    "`Parallel_PNNs = ps.MakeParallelPNNs(pnn, M, K)`, generating different models & different time stamps\n",
    "\n",
    "`Parallel_PNNs = ps.MakeParallelPNNs(pnn, M)`, generating only different models"
   ]
  },
  {
   "cell_type": "markdown",
   "id": "fe5b1f11-88d5-4057-a090-a2748af6bdb3",
   "metadata": {},
   "source": [
    "# Load temp parameter when corrupt"
   ]
  },
  {
   "cell_type": "code",
   "execution_count": 10,
   "id": "93161d57-aef1-4417-812c-539600f09f88",
   "metadata": {},
   "outputs": [],
   "source": [
    "# with open('./temp/AAPNN.p', 'rb') as f:\n",
    "    # AAPNN = pickle.load(f)"
   ]
  },
  {
   "cell_type": "markdown",
   "id": "ca0df146-6c60-415d-8769-29c3474578e0",
   "metadata": {},
   "source": [
    "## Parallel Training"
   ]
  },
  {
   "cell_type": "code",
   "execution_count": 29,
   "id": "d5b541a5",
   "metadata": {},
   "outputs": [
    {
     "data": {
      "application/vnd.jupyter.widget-view+json": {
       "model_id": "26acb527f0314d7ca1999c23631f6bd5",
       "version_major": 2,
       "version_minor": 0
      },
      "text/plain": [
       "  0%|          | 0/700 [00:00<?, ?it/s]"
      ]
     },
     "metadata": {},
     "output_type": "display_data"
    },
    {
     "name": "stdout",
     "output_type": "stream",
     "text": [
      "| Epoch:     0 | Accuracy: 0.33333 | Loss: 0.893213504 |\n",
      "| Epoch:    10 | Accuracy: 0.74714 | Loss: 0.489570548 |\n",
      "| Epoch:    20 | Accuracy: 0.85905 | Loss: 0.287268056 |\n",
      "| Epoch:    30 | Accuracy: 0.86381 | Loss: 0.268375703 |\n",
      "| Epoch:    40 | Accuracy: 0.87000 | Loss: 0.244245548 |\n",
      "| Epoch:    50 | Accuracy: 0.86667 | Loss: 0.246072586 |\n",
      "| Epoch:    60 | Accuracy: 0.86381 | Loss: 0.274838193 |\n",
      "| Epoch:    70 | Accuracy: 0.87667 | Loss: 0.239578016 |\n",
      "| Epoch:    80 | Accuracy: 0.87714 | Loss: 0.235440141 |\n",
      "| Epoch:    90 | Accuracy: 0.87143 | Loss: 0.254232472 |\n",
      "| Epoch:   100 | Accuracy: 0.88857 | Loss: 0.208252482 |\n",
      "| Epoch:   110 | Accuracy: 0.87857 | Loss: 0.221013627 |\n",
      "| Epoch:   120 | Accuracy: 0.89619 | Loss: 0.205273342 |\n",
      "| Epoch:   130 | Accuracy: 0.90000 | Loss: 0.193638848 |\n",
      "| Epoch:   140 | Accuracy: 0.88762 | Loss: 0.207528532 |\n",
      "| Epoch:   150 | Accuracy: 0.88190 | Loss: 0.227364999 |\n",
      "| Epoch:   160 | Accuracy: 0.88286 | Loss: 0.199187963 |\n",
      "| Epoch:   170 | Accuracy: 0.90190 | Loss: 0.199619110 |\n",
      "| Epoch:   180 | Accuracy: 0.91190 | Loss: 0.179666101 |\n",
      "| Epoch:   190 | Accuracy: 0.91143 | Loss: 0.181294312 |\n",
      "| Epoch:   200 | Accuracy: 0.90286 | Loss: 0.193132283 |\n",
      "| Epoch:   210 | Accuracy: 0.92095 | Loss: 0.170393550 |\n",
      "| Epoch:   220 | Accuracy: 0.88429 | Loss: 0.202400928 |\n",
      "| Epoch:   230 | Accuracy: 0.89619 | Loss: 0.196833240 |\n",
      "| Epoch:   240 | Accuracy: 0.90857 | Loss: 0.178387005 |\n",
      "| Epoch:   250 | Accuracy: 0.91952 | Loss: 0.173704087 |\n",
      "| Epoch:   260 | Accuracy: 0.90476 | Loss: 0.186608085 |\n",
      "| Epoch:   270 | Accuracy: 0.90714 | Loss: 0.187727296 |\n",
      "| Epoch:   280 | Accuracy: 0.92286 | Loss: 0.176922053 |\n",
      "| Epoch:   290 | Accuracy: 0.91524 | Loss: 0.168698828 |\n",
      "| Epoch:   300 | Accuracy: 0.91190 | Loss: 0.173551249 |\n",
      "| Epoch:   310 | Accuracy: 0.90952 | Loss: 0.170231887 |\n",
      "| Epoch:   320 | Accuracy: 0.92524 | Loss: 0.166371984 |\n",
      "| Epoch:   330 | Accuracy: 0.91381 | Loss: 0.170648663 |\n",
      "| Epoch:   340 | Accuracy: 0.91857 | Loss: 0.183799411 |\n",
      "| Epoch:   350 | Accuracy: 0.90524 | Loss: 0.172043630 |\n",
      "| Epoch:   360 | Accuracy: 0.89000 | Loss: 0.212189036 |\n",
      "| Epoch:   370 | Accuracy: 0.92143 | Loss: 0.167015779 |\n",
      "| Epoch:   380 | Accuracy: 0.91143 | Loss: 0.169277567 |\n",
      "| Epoch:   390 | Accuracy: 0.90476 | Loss: 0.179808960 |\n",
      "| Epoch:   400 | Accuracy: 0.91190 | Loss: 0.165383203 |\n",
      "| Epoch:   410 | Accuracy: 0.88524 | Loss: 0.210136613 |\n",
      "| Epoch:   420 | Accuracy: 0.89714 | Loss: 0.181705527 |\n",
      "| Epoch:   430 | Accuracy: 0.90571 | Loss: 0.173100230 |\n",
      "| Epoch:   440 | Accuracy: 0.90571 | Loss: 0.184159701 |\n",
      "| Epoch:   450 | Accuracy: 0.91095 | Loss: 0.180082607 |\n",
      "| Epoch:   460 | Accuracy: 0.91619 | Loss: 0.171874551 |\n",
      "| Epoch:   470 | Accuracy: 0.91143 | Loss: 0.180877126 |\n",
      "| Epoch:   480 | Accuracy: 0.92048 | Loss: 0.162317018 |\n",
      "| Epoch:   490 | Accuracy: 0.91190 | Loss: 0.171035661 |\n",
      "| Epoch:   500 | Accuracy: 0.90000 | Loss: 0.189523138 |\n",
      "| Epoch:   510 | Accuracy: 0.90905 | Loss: 0.172336114 |\n",
      "| Epoch:   520 | Accuracy: 0.90286 | Loss: 0.183103425 |\n",
      "| Epoch:   530 | Accuracy: 0.93143 | Loss: 0.154136184 |\n",
      "| Epoch:   540 | Accuracy: 0.90857 | Loss: 0.164551119 |\n",
      "| Epoch:   550 | Accuracy: 0.90095 | Loss: 0.193324548 |\n",
      "| Epoch:   560 | Accuracy: 0.90476 | Loss: 0.188972377 |\n",
      "| Epoch:   570 | Accuracy: 0.90524 | Loss: 0.180021965 |\n",
      "| Epoch:   580 | Accuracy: 0.91333 | Loss: 0.185497415 |\n",
      "| Epoch:   590 | Accuracy: 0.92048 | Loss: 0.159279596 |\n",
      "| Epoch:   600 | Accuracy: 0.90524 | Loss: 0.183547084 |\n",
      "| Epoch:   610 | Accuracy: 0.91095 | Loss: 0.173104179 |\n",
      "| Epoch:   620 | Accuracy: 0.92333 | Loss: 0.156494113 |\n",
      "| Epoch:   630 | Accuracy: 0.91476 | Loss: 0.170546902 |\n",
      "| Epoch:   640 | Accuracy: 0.89619 | Loss: 0.183609270 |\n",
      "| Epoch:   650 | Accuracy: 0.90333 | Loss: 0.180583245 |\n",
      "| Epoch:   660 | Accuracy: 0.91095 | Loss: 0.168940978 |\n",
      "| Epoch:   670 | Accuracy: 0.90286 | Loss: 0.189247163 |\n",
      "| Epoch:   680 | Accuracy: 0.91286 | Loss: 0.165999628 |\n",
      "| Epoch:   690 | Accuracy: 0.91667 | Loss: 0.155013082 |\n"
     ]
    }
   ],
   "source": [
    "importlib.reload(training)\n",
    "valid_loss_AAPNN, parameter_AAPNN = training.ParallelTrainingAAPNN(AAPNN,\n",
    "                                                                  train_loader, valid_loader,\n",
    "                                                                  optimizer_AAPNN,\n",
    "                                                                  pnn.LossFunction, m, T,\n",
    "                                                                  M, K, M_valid, K_valid, Epoch=700)"
   ]
  },
  {
   "cell_type": "code",
   "execution_count": 30,
   "id": "9da97f43",
   "metadata": {},
   "outputs": [
    {
     "data": {
      "image/png": "[encoded data removed]",
      "text/plain": [
       "<Figure size 432x288 with 1 Axes>"
      ]
     },
     "metadata": {
      "needs_background": "light"
     },
     "output_type": "display_data"
    }
   ],
   "source": [
    "plt.plot(valid_loss_AAPNN);\n",
    "AAPNN.load_state_dict(parameter_AAPNN);"
   ]
  },
  {
   "cell_type": "markdown",
   "id": "88aae576-7040-4c99-8aab-c2d611acb10c",
   "metadata": {},
   "source": [
    "## save AAPNN"
   ]
  },
  {
   "cell_type": "code",
   "execution_count": 12,
   "id": "c9678c3e",
   "metadata": {},
   "outputs": [],
   "source": [
    "# with open('./pendigitresult/AAPNN_16.p', 'wb') as f:\n",
    "#     pickle.dump(AAPNN, f)"
   ]
  },
  {
   "cell_type": "markdown",
   "id": "406d739d",
   "metadata": {},
   "source": [
    "## read AAPNN"
   ]
  },
  {
   "cell_type": "code",
   "execution_count": 13,
   "id": "a1dbe07b-0c37-4eaf-8342-b2d16b2f2c9a",
   "metadata": {},
   "outputs": [],
   "source": [
    "# with open('./pendigitresult/AAPNN_16.p', 'rb') as f:\n",
    "#     AAPNN = pickle.load(f)"
   ]
  },
  {
   "cell_type": "markdown",
   "id": "8058c682",
   "metadata": {},
   "source": [
    "## Evaluation"
   ]
  },
  {
   "cell_type": "code",
   "execution_count": 31,
   "id": "c7fdc2c8",
   "metadata": {},
   "outputs": [
    {
     "data": {
      "application/vnd.jupyter.widget-view+json": {
       "model_id": "d7fa0e39fb0f4454b700da0218a81ebf",
       "version_major": 2,
       "version_minor": 0
      },
      "text/plain": [
       "  0%|          | 0/500 [00:00<?, ?it/s]"
      ]
     },
     "metadata": {},
     "output_type": "display_data"
    },
    {
     "name": "stdout",
     "output_type": "stream",
     "text": [
      "evaluating on the 0-th model.\n",
      "evaluating on the 10-th model.\n",
      "evaluating on the 20-th model.\n",
      "evaluating on the 30-th model.\n",
      "evaluating on the 40-th model.\n",
      "evaluating on the 50-th model.\n",
      "evaluating on the 60-th model.\n",
      "evaluating on the 70-th model.\n",
      "evaluating on the 80-th model.\n",
      "evaluating on the 90-th model.\n",
      "evaluating on the 100-th model.\n",
      "evaluating on the 110-th model.\n",
      "evaluating on the 120-th model.\n",
      "evaluating on the 130-th model.\n",
      "evaluating on the 140-th model.\n",
      "evaluating on the 150-th model.\n",
      "evaluating on the 160-th model.\n",
      "evaluating on the 170-th model.\n",
      "evaluating on the 180-th model.\n",
      "evaluating on the 190-th model.\n",
      "evaluating on the 200-th model.\n",
      "evaluating on the 210-th model.\n",
      "evaluating on the 220-th model.\n",
      "evaluating on the 230-th model.\n",
      "evaluating on the 240-th model.\n",
      "evaluating on the 250-th model.\n",
      "evaluating on the 260-th model.\n",
      "evaluating on the 270-th model.\n",
      "evaluating on the 280-th model.\n",
      "evaluating on the 290-th model.\n",
      "evaluating on the 300-th model.\n",
      "evaluating on the 310-th model.\n",
      "evaluating on the 320-th model.\n",
      "evaluating on the 330-th model.\n",
      "evaluating on the 340-th model.\n",
      "evaluating on the 350-th model.\n",
      "evaluating on the 360-th model.\n",
      "evaluating on the 370-th model.\n",
      "evaluating on the 380-th model.\n",
      "evaluating on the 390-th model.\n",
      "evaluating on the 400-th model.\n",
      "evaluating on the 410-th model.\n",
      "evaluating on the 420-th model.\n",
      "evaluating on the 430-th model.\n",
      "evaluating on the 440-th model.\n",
      "evaluating on the 450-th model.\n",
      "evaluating on the 460-th model.\n",
      "evaluating on the 470-th model.\n",
      "evaluating on the 480-th model.\n",
      "evaluating on the 490-th model.\n"
     ]
    }
   ],
   "source": [
    "import evaluation\n",
    "mean_acc_AAPNN, std_acc_AAPNN, mean_maa_AAPNN, std_maa_AAPNN = evaluation.FullEvaluation(AAPNN, test_loader)"
   ]
  },
  {
   "cell_type": "code",
   "execution_count": 32,
   "id": "c5a6579d-bf1e-4e0a-b409-1aa3ca378945",
   "metadata": {},
   "outputs": [
    {
     "data": {
      "image/png": "[encoded data removed]",
      "text/plain": [
       "<Figure size 432x288 with 1 Axes>"
      ]
     },
     "metadata": {
      "needs_background": "light"
     },
     "output_type": "display_data"
    }
   ],
   "source": [
    "plt.fill_between(np.linspace(0,1,50), mean_acc_AAPNN-std_acc_AAPNN, mean_acc_AAPNN+std_acc_AAPNN, alpha=0.3, color='red');\n",
    "plt.plot(np.linspace(0,1,50), mean_acc_AAPNN, label='AAPNN', color='red');\n",
    "\n",
    "plt.xlabel('normalized time');\n",
    "plt.ylabel('basic accuracy');\n",
    "plt.xlim([0, 1]);\n",
    "plt.legend();"
   ]
  },
  {
   "cell_type": "code",
   "execution_count": 34,
   "id": "fabae09a-3b1b-4d63-871d-b8a8e7dfb920",
   "metadata": {},
   "outputs": [
    {
     "data": {
      "image/png": "[encoded data removed]",
      "text/plain": [
       "<Figure size 432x288 with 1 Axes>"
      ]
     },
     "metadata": {
      "needs_background": "light"
     },
     "output_type": "display_data"
    }
   ],
   "source": [
    "plt.fill_between(np.linspace(0,1,50), mean_maa_AAPNN-std_maa_AAPNN, mean_maa_AAPNN+std_maa_AAPNN, alpha=0.3, color='red');\n",
    "plt.plot(np.linspace(0,1,50), mean_maa_AAPNN, label='AAPNN', color='red');\n",
    "\n",
    "plt.xlabel('normalized time');\n",
    "plt.ylabel('measureing aware accuracy');\n",
    "plt.xlim([0, 1]);\n",
    "plt.legend();"
   ]
  },
  {
   "cell_type": "code",
   "execution_count": null,
   "id": "c3b89103-68b9-4907-919e-8cd836c13245",
   "metadata": {},
   "outputs": [],
   "source": []
  }
 ],
 "metadata": {
  "kernelspec": {
   "display_name": "MachineLearning",
   "language": "python",
   "name": "machinelearning"
  },
  "language_info": {
   "codemirror_mode": {
    "name": "ipython",
    "version": 3
   },
   "file_extension": ".py",
   "mimetype": "text/x-python",
   "name": "python",
   "nbconvert_exporter": "python",
   "pygments_lexer": "ipython3",
   "version": "3.8.12"
  },
  "toc": {
   "base_numbering": 1,
   "nav_menu": {},
   "number_sections": true,
   "sideBar": true,
   "skip_h1_title": false,
   "title_cell": "Table of Contents",
   "title_sidebar": "Contents",
   "toc_cell": false,
   "toc_position": {},
   "toc_section_display": true,
   "toc_window_display": true
  }
 },
 "nbformat": 4,
 "nbformat_minor": 5
}
