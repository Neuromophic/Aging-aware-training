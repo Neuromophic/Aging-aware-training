{
 "cells": [
  {
   "cell_type": "markdown",
   "id": "e0f1319a",
   "metadata": {},
   "source": [
    "# Aging Aware with Model Variation\n",
    "Previously, we optimize the following functional:\n",
    "$$ \\min_\\theta \\, \\int_{t=0}^{1} \\; L(\\theta(t)) \\, {\\rm d}t. $$\n",
    "The optimum is for a specific aging model $\\omega$, i.e., we minimized the \n",
    "$$ \\min_\\theta \\, \\int_{t=0}^{1} \\; L(\\theta(t,\\omega)) \\, {\\rm d}t. $$\n",
    "However, we dont know how will the resistance decay, i.e., we should also minimize the loss function w.r.t. aging models with different parameters. That means we need to optimized\n",
    "$$ \\min_\\theta \\, \\int_{\\omega}\\int_{t=0}^{1} \\; L(\\theta(t,\\omega)) \\, {\\rm d}t\\, p(\\omega){\\rm d}\\omega. $$\n",
    "The Mento Carlo Approximation is then\n",
    "$$\n",
    "\\min_{\\theta_{\\rm init}} \\frac{1}{\\Omega}\\frac{1}{K}\\sum_{\\omega\\in\\mathfrak{M}}\\sum_{k\\in \\mathfrak{K} } L \\left(\\theta[k, \\omega]\\right),\n",
    "$$\n",
    "where $\\mathfrak{M}$ is the set of $\\Omega$ elements following the distribution $p(\\omega)$. $p(\\omega)$ is the distributions of parameters of the aging model. We have already obtained these distributions as we modeled the aging decay.\n",
    "\n",
    "That means we should optimize this problem by\n",
    "$$\n",
    "\\begin{align}\n",
    "\\theta_{\\rm init}&:=\\theta_{\\rm init} - \\alpha\\cdot\\nabla_{\\theta_{\\rm init}}\\left(\\frac{1}{\\Omega}\\frac{1}{K}\\sum_{\\omega\\in\\mathfrak{M}}\\sum_{k\\in \\mathfrak{K} } L \\left(\\theta[k, \\omega]\\right)\\right)\\\\\n",
    "&=\\theta_{\\rm init} - \\frac{\\alpha}{\\Omega K}\\cdot\\nabla_{\\theta_{\\rm init}}\\left(\\sum_{\\omega\\in\\mathfrak{M}}\\sum_{k\\in \\mathfrak{K} } L \\left(\\theta[k, \\omega]\\right)\\right)\\\\\n",
    "&=\\theta_{\\rm init} - \\frac{\\alpha}{\\Omega K}\\left(\\sum_{\\omega\\in\\mathfrak{M}}\\sum_{k\\in \\mathfrak{K} }\\nabla_{\\theta_{\\rm init}} L \\left(\\theta[k, \\omega]\\right)\\right)\n",
    "\\end{align}\n",
    "$$"
   ]
  },
  {
   "cell_type": "markdown",
   "id": "eab183f8",
   "metadata": {},
   "source": [
    "# Get aging model"
   ]
  },
  {
   "cell_type": "code",
   "execution_count": 1,
   "id": "0bc40b33",
   "metadata": {},
   "outputs": [],
   "source": [
    "import importlib\n",
    "from torch.autograd import Variable\n",
    "import torch\n",
    "import pickle\n",
    "import pNN_aging_aware as pnn\n",
    "import os\n",
    "import sys\n",
    "import matplotlib.pyplot as plt\n",
    "import numpy as np\n",
    "import training\n",
    "import PNN_Setting as ps\n",
    "sys.path.append(os.path.join(os.getcwd(), 'Aging_Model'))\n",
    "\n",
    "with open(os.path.join(os.getcwd(), 'Aging_Model', 'exp_aging_model.p'), 'rb') as f:\n",
    "    age_generator = pickle.load(f)"
   ]
  },
  {
   "cell_type": "markdown",
   "id": "15519567",
   "metadata": {},
   "source": [
    "# Prepare data"
   ]
  },
  {
   "cell_type": "markdown",
   "id": "3f9b925b",
   "metadata": {},
   "source": [
    "## Load data"
   ]
  },
  {
   "cell_type": "code",
   "execution_count": 2,
   "id": "fd3f8c31",
   "metadata": {},
   "outputs": [
    {
     "data": {
      "text/plain": [
       "(torch.Size([10992, 16]), torch.Size([10992]), 10992, 16, 10)"
      ]
     },
     "execution_count": 2,
     "metadata": {},
     "output_type": "execute_result"
    }
   ],
   "source": [
    "datapath = os.path.join(os.getcwd(), 'Datasets', 'PMLC',\n",
    "                        'data_processed', 'Dataset_Pendigits.p')\n",
    "with open(datapath, 'rb') as f:\n",
    "    dataset = pickle.load(f)\n",
    "X = dataset['X'].float()\n",
    "y = dataset['y']\n",
    "M, N_features, N_class = X.shape[0], X.shape[1], torch.max(\n",
    "    torch.unique(y)).item()+1\n",
    "X.shape, y.shape, M, N_features, N_class"
   ]
  },
  {
   "cell_type": "markdown",
   "id": "35adbc19",
   "metadata": {},
   "source": [
    "## data preprocessing"
   ]
  },
  {
   "cell_type": "code",
   "execution_count": 3,
   "id": "ea0969cc",
   "metadata": {},
   "outputs": [
    {
     "data": {
      "text/plain": [
       "(tensor(0.), tensor(1.))"
      ]
     },
     "execution_count": 3,
     "metadata": {},
     "output_type": "execute_result"
    }
   ],
   "source": [
    "# normalization\n",
    "X = X / (torch.max(X, axis=0)[0] - torch.min(X, axis=0)[0])\n",
    "X = X - torch.min(X, axis=0)[0]\n",
    "torch.min(X), torch.max(X)"
   ]
  },
  {
   "cell_type": "code",
   "execution_count": 4,
   "id": "9d04d54b",
   "metadata": {},
   "outputs": [
    {
     "data": {
      "text/plain": [
       "tensor([[0.4700, 1.0000, 0.2700, 0.8100, 0.5700, 0.3700, 0.2600, 0.0000, 0.0000],\n",
       "        [0.0000, 0.8900, 0.2700, 1.0000, 0.4200, 0.7500, 0.2900, 0.4500, 0.1500],\n",
       "        [0.0000, 0.5700, 0.3100, 0.6800, 0.7200, 0.9000, 1.0000, 1.0000, 0.7600],\n",
       "        [0.0000, 1.0000, 0.0700, 0.9200, 0.0500, 0.6800, 0.1900, 0.4500, 0.8600],\n",
       "        [0.0000, 0.6700, 0.4900, 0.8300, 1.0000, 1.0000, 0.8100, 0.8000, 0.6000],\n",
       "        [1.0000, 1.0000, 0.8800, 0.9900, 0.4900, 0.7400, 0.1700, 0.4700, 0.0000],\n",
       "        [0.0000, 1.0000, 0.0300, 0.7200, 0.2600, 0.3500, 0.8500, 0.3500, 1.0000],\n",
       "        [0.0000, 0.3900, 0.0200, 0.6200, 0.1100, 0.0500, 0.6300, 0.0000, 1.0000],\n",
       "        [0.1300, 0.8900, 0.1200, 0.5000, 0.7200, 0.3800, 0.5600, 0.0000, 0.0400],\n",
       "        [0.5700, 1.0000, 0.2200, 0.7200, 0.0000, 0.3100, 0.2500, 0.0000, 0.7500]])"
      ]
     },
     "execution_count": 4,
     "metadata": {},
     "output_type": "execute_result"
    }
   ],
   "source": [
    "X[:10, :9]"
   ]
  },
  {
   "cell_type": "code",
   "execution_count": 5,
   "id": "6d30ecfc",
   "metadata": {},
   "outputs": [
    {
     "data": {
      "text/plain": [
       "(6595, 2198, 2199)"
      ]
     },
     "execution_count": 5,
     "metadata": {},
     "output_type": "execute_result"
    }
   ],
   "source": [
    "from torch.utils.data import TensorDataset\n",
    "from torch.utils.data import DataLoader\n",
    "from torch.utils.data import random_split\n",
    "\n",
    "# generate tensordataset\n",
    "dataset = TensorDataset(X, y)\n",
    "\n",
    "# split\n",
    "train_rate = 0.6\n",
    "test_rate = 0.2\n",
    "M_train = int(M*train_rate)\n",
    "M_test = int(M*test_rate)\n",
    "train_data, rest_data = random_split(dataset, [M_train, M-M_train], generator=torch.Generator().manual_seed(19950102))\n",
    "test_data, valid_data = random_split(rest_data, [M_test, M-M_train-M_test], generator=torch.Generator().manual_seed(19950102))\n",
    "len(train_data), len(test_data), len(valid_data)"
   ]
  },
  {
   "cell_type": "code",
   "execution_count": 6,
   "id": "4f8988b7",
   "metadata": {},
   "outputs": [],
   "source": [
    "# batch\n",
    "train_loader = DataLoader(train_data, batch_size=len(train_data))\n",
    "test_loader = DataLoader(test_data, batch_size=len(test_data))\n",
    "valid_loader = DataLoader(valid_data, batch_size=len(valid_data))"
   ]
  },
  {
   "cell_type": "markdown",
   "id": "bb0f57e2",
   "metadata": {},
   "source": [
    "# Hyperparameter"
   ]
  },
  {
   "cell_type": "code",
   "execution_count": 7,
   "id": "608550a4",
   "metadata": {},
   "outputs": [],
   "source": [
    "N_Hidden = 16\n",
    "m = 0.3\n",
    "T = 0.1\n",
    "K = 5  # number of time sampling\n",
    "M = 40  # number of model sampling\n",
    "K_test = 5\n",
    "M_test = 10"
   ]
  },
  {
   "cell_type": "markdown",
   "id": "17b3bda2",
   "metadata": {},
   "source": [
    "# Normal NN\n",
    "## Training"
   ]
  },
  {
   "cell_type": "code",
   "execution_count": 21,
   "id": "4874b4d1",
   "metadata": {},
   "outputs": [
    {
     "data": {
      "text/plain": [
       "Sequential(\n",
       "  (0): Linear(in_features=16, out_features=16, bias=True)\n",
       "  (1): Tanh()\n",
       "  (2): Linear(in_features=16, out_features=10, bias=True)\n",
       "  (3): Tanh()\n",
       ")"
      ]
     },
     "execution_count": 21,
     "metadata": {},
     "output_type": "execute_result"
    }
   ],
   "source": [
    "NN = torch.nn.Sequential(torch.nn.Linear(N_features, N_Hidden), torch.nn.Tanh(),\n",
    "                         torch.nn.Linear(N_Hidden, N_class), torch.nn.Tanh())\n",
    "\n",
    "\n",
    "def weights_init(m):\n",
    "    if isinstance(m, torch.nn.Linear):\n",
    "        torch.nn.init.xavier_uniform_(m.weight)\n",
    "        m.bias.data.fill_(0.01)\n",
    "\n",
    "\n",
    "NN.apply(weights_init)\n",
    "\n",
    "optimizer_NN = torch.optim.Adam(NN.parameters(), lr=0.01)\n",
    "celoss = torch.nn.CrossEntropyLoss()\n",
    "NN"
   ]
  },
  {
   "cell_type": "code",
   "execution_count": 22,
   "id": "f244a366",
   "metadata": {},
   "outputs": [
    {
     "data": {
      "application/vnd.jupyter.widget-view+json": {
       "model_id": "04d77da4ceb843b7918ec20bcefd1e4e",
       "version_major": 2,
       "version_minor": 0
      },
      "text/plain": [
       "  0%|          | 0/15000 [00:00<?, ?it/s]"
      ]
     },
     "metadata": {},
     "output_type": "display_data"
    },
    {
     "name": "stdout",
     "output_type": "stream",
     "text": [
      "| Epoch:     0 | Accuracy: 0.09782 | Loss: 2.433520555 |\n",
      "| Epoch:   100 | Accuracy: 0.76661 | Loss: 1.177825809 |\n",
      "| Epoch:   200 | Accuracy: 0.85851 | Loss: 1.015358686 |\n",
      "| Epoch:   300 | Accuracy: 0.87352 | Loss: 0.953737378 |\n",
      "| Epoch:   400 | Accuracy: 0.88171 | Loss: 0.922604620 |\n",
      "| Epoch:   500 | Accuracy: 0.89263 | Loss: 0.905694723 |\n",
      "| Epoch:   600 | Accuracy: 0.89718 | Loss: 0.893669248 |\n",
      "| Epoch:   700 | Accuracy: 0.90628 | Loss: 0.884059668 |\n",
      "| Epoch:   800 | Accuracy: 0.91174 | Loss: 0.876420736 |\n",
      "| Epoch:   900 | Accuracy: 0.91583 | Loss: 0.871099234 |\n",
      "| Epoch:  1000 | Accuracy: 0.91856 | Loss: 0.867481709 |\n",
      "| Epoch:  1100 | Accuracy: 0.92175 | Loss: 0.864668489 |\n",
      "| Epoch:  1200 | Accuracy: 0.92175 | Loss: 0.862232566 |\n",
      "| Epoch:  1300 | Accuracy: 0.92584 | Loss: 0.860176206 |\n",
      "| Epoch:  1400 | Accuracy: 0.93267 | Loss: 0.858444810 |\n",
      "| Epoch:  1500 | Accuracy: 0.94177 | Loss: 0.856602967 |\n",
      "| Epoch:  1600 | Accuracy: 0.97361 | Loss: 0.850466549 |\n",
      "| Epoch:  1700 | Accuracy: 0.98044 | Loss: 0.837755680 |\n",
      "| Epoch:  1800 | Accuracy: 0.98089 | Loss: 0.836298406 |\n",
      "| Epoch:  1900 | Accuracy: 0.98226 | Loss: 0.835092366 |\n",
      "| Epoch:  2000 | Accuracy: 0.98317 | Loss: 0.834028721 |\n",
      "| Epoch:  2100 | Accuracy: 0.98317 | Loss: 0.833054721 |\n",
      "| Epoch:  2200 | Accuracy: 0.98408 | Loss: 0.832149088 |\n",
      "| Epoch:  2300 | Accuracy: 0.98408 | Loss: 0.831332922 |\n",
      "| Epoch:  2400 | Accuracy: 0.98408 | Loss: 0.830601394 |\n",
      "| Epoch:  2500 | Accuracy: 0.98362 | Loss: 0.829982936 |\n",
      "| Epoch:  2600 | Accuracy: 0.98362 | Loss: 0.829439223 |\n",
      "| Epoch:  2700 | Accuracy: 0.98362 | Loss: 0.828974903 |\n",
      "| Epoch:  2800 | Accuracy: 0.98408 | Loss: 0.828548789 |\n",
      "| Epoch:  2900 | Accuracy: 0.98408 | Loss: 0.828218877 |\n",
      "| Epoch:  3000 | Accuracy: 0.98362 | Loss: 0.828072309 |\n",
      "| Epoch:  3100 | Accuracy: 0.98271 | Loss: 0.827967584 |\n",
      "| Epoch:  3200 | Accuracy: 0.98226 | Loss: 0.827992439 |\n",
      "| Epoch:  3300 | Accuracy: 0.98226 | Loss: 0.828067541 |\n",
      "| Epoch:  3400 | Accuracy: 0.98226 | Loss: 0.827796876 |\n",
      "| Epoch:  3500 | Accuracy: 0.98226 | Loss: 0.827719033 |\n",
      "| Epoch:  3600 | Accuracy: 0.98226 | Loss: 0.827794909 |\n",
      "| Epoch:  3700 | Accuracy: 0.98271 | Loss: 0.827743709 |\n",
      "| Epoch:  3800 | Accuracy: 0.98271 | Loss: 0.827799082 |\n",
      "| Epoch:  3900 | Accuracy: 0.98317 | Loss: 0.827997386 |\n",
      "| Epoch:  4000 | Accuracy: 0.98362 | Loss: 0.828149199 |\n",
      "| Epoch:  4100 | Accuracy: 0.98317 | Loss: 0.828049541 |\n",
      "| Epoch:  4200 | Accuracy: 0.98362 | Loss: 0.827974856 |\n",
      "| Epoch:  4300 | Accuracy: 0.98362 | Loss: 0.827909410 |\n",
      "| Epoch:  4400 | Accuracy: 0.98362 | Loss: 0.827962458 |\n",
      "| Epoch:  4500 | Accuracy: 0.98362 | Loss: 0.827937245 |\n",
      "| Epoch:  4600 | Accuracy: 0.98362 | Loss: 0.827944279 |\n",
      "| Epoch:  4700 | Accuracy: 0.98408 | Loss: 0.827993929 |\n",
      "| Epoch:  4800 | Accuracy: 0.98408 | Loss: 0.828046381 |\n",
      "| Epoch:  4900 | Accuracy: 0.98453 | Loss: 0.828082621 |\n",
      "| Epoch:  5000 | Accuracy: 0.98453 | Loss: 0.828089178 |\n",
      "| Epoch:  5100 | Accuracy: 0.98499 | Loss: 0.828076422 |\n",
      "| Epoch:  5200 | Accuracy: 0.98499 | Loss: 0.828093469 |\n",
      "| Epoch:  5300 | Accuracy: 0.98499 | Loss: 0.828137994 |\n",
      "| Epoch:  5400 | Accuracy: 0.98499 | Loss: 0.828182995 |\n",
      "| Epoch:  5500 | Accuracy: 0.98499 | Loss: 0.828214407 |\n",
      "| Epoch:  5600 | Accuracy: 0.98499 | Loss: 0.828227103 |\n",
      "| Epoch:  5700 | Accuracy: 0.98499 | Loss: 0.828220010 |\n",
      "| Epoch:  5800 | Accuracy: 0.98453 | Loss: 0.828194082 |\n",
      "| Epoch:  5900 | Accuracy: 0.98453 | Loss: 0.828151345 |\n",
      "| Epoch:  6000 | Accuracy: 0.98499 | Loss: 0.828095376 |\n",
      "| Epoch:  6100 | Accuracy: 0.98453 | Loss: 0.828031600 |\n",
      "| Epoch:  6200 | Accuracy: 0.98499 | Loss: 0.827966630 |\n",
      "| Epoch:  6300 | Accuracy: 0.98499 | Loss: 0.827915430 |\n",
      "| Epoch:  6400 | Accuracy: 0.98544 | Loss: 0.827896953 |\n",
      "| Epoch:  6500 | Accuracy: 0.98544 | Loss: 0.827834964 |\n",
      "| Epoch:  6600 | Accuracy: 0.98544 | Loss: 0.827819884 |\n",
      "| Epoch:  6700 | Accuracy: 0.98544 | Loss: 0.827825487 |\n",
      "| Epoch:  6800 | Accuracy: 0.98499 | Loss: 0.827845454 |\n",
      "| Epoch:  6900 | Accuracy: 0.98499 | Loss: 0.827877283 |\n",
      "| Epoch:  7000 | Accuracy: 0.98499 | Loss: 0.827918172 |\n",
      "| Epoch:  7100 | Accuracy: 0.98453 | Loss: 0.827963710 |\n",
      "| Epoch:  7200 | Accuracy: 0.98499 | Loss: 0.828001618 |\n",
      "| Epoch:  7300 | Accuracy: 0.98499 | Loss: 0.827967286 |\n",
      "| Epoch:  7400 | Accuracy: 0.98499 | Loss: 0.827726245 |\n",
      "| Epoch:  7500 | Accuracy: 0.98499 | Loss: 0.827818274 |\n",
      "| Epoch:  7600 | Accuracy: 0.98544 | Loss: 0.828159094 |\n",
      "| Epoch:  7700 | Accuracy: 0.98590 | Loss: 0.828716993 |\n",
      "| Epoch:  7800 | Accuracy: 0.98499 | Loss: 0.829250932 |\n",
      "| Epoch:  7900 | Accuracy: 0.98499 | Loss: 0.829277158 |\n",
      "| Epoch:  8000 | Accuracy: 0.98499 | Loss: 0.829318583 |\n",
      "| Epoch:  8100 | Accuracy: 0.98499 | Loss: 0.829365790 |\n",
      "| Epoch:  8200 | Accuracy: 0.98499 | Loss: 0.829403520 |\n",
      "| Epoch:  8300 | Accuracy: 0.98499 | Loss: 0.829432189 |\n",
      "| Epoch:  8400 | Accuracy: 0.98499 | Loss: 0.829451025 |\n",
      "| Epoch:  8500 | Accuracy: 0.98499 | Loss: 0.829460621 |\n",
      "| Epoch:  8600 | Accuracy: 0.98499 | Loss: 0.829462469 |\n",
      "| Epoch:  8700 | Accuracy: 0.98453 | Loss: 0.829458535 |\n",
      "| Epoch:  8800 | Accuracy: 0.98453 | Loss: 0.829451621 |\n",
      "| Epoch:  8900 | Accuracy: 0.98408 | Loss: 0.829445124 |\n",
      "| Epoch:  9000 | Accuracy: 0.98408 | Loss: 0.829443634 |\n",
      "| Epoch:  9100 | Accuracy: 0.98408 | Loss: 0.829460025 |\n",
      "| Epoch:  9200 | Accuracy: 0.98408 | Loss: 0.830132365 |\n",
      "| Epoch:  9300 | Accuracy: 0.98408 | Loss: 0.829808354 |\n",
      "| Epoch:  9400 | Accuracy: 0.98408 | Loss: 0.829754829 |\n",
      "| Epoch:  9500 | Accuracy: 0.98408 | Loss: 0.829710722 |\n",
      "| Epoch:  9600 | Accuracy: 0.98408 | Loss: 0.829666853 |\n",
      "| Epoch:  9700 | Accuracy: 0.98453 | Loss: 0.829622209 |\n",
      "| Epoch:  9800 | Accuracy: 0.98453 | Loss: 0.829579055 |\n",
      "| Epoch:  9900 | Accuracy: 0.98453 | Loss: 0.829540730 |\n",
      "| Epoch: 10000 | Accuracy: 0.98453 | Loss: 0.829510272 |\n",
      "| Epoch: 10100 | Accuracy: 0.98453 | Loss: 0.829488516 |\n",
      "| Epoch: 10200 | Accuracy: 0.98453 | Loss: 0.829476595 |\n",
      "| Epoch: 10300 | Accuracy: 0.98499 | Loss: 0.829477787 |\n",
      "| Epoch: 10400 | Accuracy: 0.98408 | Loss: 0.829495847 |\n",
      "| Epoch: 10500 | Accuracy: 0.98408 | Loss: 0.829532027 |\n",
      "| Epoch: 10600 | Accuracy: 0.98408 | Loss: 0.829581559 |\n",
      "| Epoch: 10700 | Accuracy: 0.98408 | Loss: 0.829636335 |\n",
      "| Epoch: 10800 | Accuracy: 0.98408 | Loss: 0.829691172 |\n",
      "| Epoch: 10900 | Accuracy: 0.98362 | Loss: 0.829745173 |\n",
      "| Epoch: 11000 | Accuracy: 0.98362 | Loss: 0.829799294 |\n",
      "| Epoch: 11100 | Accuracy: 0.98362 | Loss: 0.829853415 |\n",
      "| Epoch: 11200 | Accuracy: 0.98317 | Loss: 0.829907656 |\n",
      "| Epoch: 11300 | Accuracy: 0.98317 | Loss: 0.829961658 |\n",
      "| Epoch: 11400 | Accuracy: 0.98317 | Loss: 0.830014586 |\n",
      "| Epoch: 11500 | Accuracy: 0.98317 | Loss: 0.830066085 |\n",
      "| Epoch: 11600 | Accuracy: 0.98362 | Loss: 0.830115557 |\n",
      "| Epoch: 11700 | Accuracy: 0.98362 | Loss: 0.830162883 |\n",
      "| Epoch: 11800 | Accuracy: 0.98362 | Loss: 0.830207825 |\n",
      "| Epoch: 11900 | Accuracy: 0.98362 | Loss: 0.830250442 |\n",
      "| Epoch: 12000 | Accuracy: 0.98362 | Loss: 0.830291033 |\n",
      "| Epoch: 12100 | Accuracy: 0.98362 | Loss: 0.830329955 |\n",
      "| Epoch: 12200 | Accuracy: 0.98362 | Loss: 0.830367327 |\n",
      "| Epoch: 12300 | Accuracy: 0.98362 | Loss: 0.830403507 |\n",
      "| Epoch: 12400 | Accuracy: 0.98362 | Loss: 0.830438793 |\n",
      "| Epoch: 12500 | Accuracy: 0.98362 | Loss: 0.830473483 |\n",
      "| Epoch: 12600 | Accuracy: 0.98362 | Loss: 0.830507755 |\n",
      "| Epoch: 12700 | Accuracy: 0.98362 | Loss: 0.830541730 |\n",
      "| Epoch: 12800 | Accuracy: 0.98362 | Loss: 0.830575764 |\n",
      "| Epoch: 12900 | Accuracy: 0.98362 | Loss: 0.830609858 |\n",
      "| Epoch: 13000 | Accuracy: 0.98408 | Loss: 0.830643952 |\n",
      "| Epoch: 13100 | Accuracy: 0.98408 | Loss: 0.830677986 |\n",
      "| Epoch: 13200 | Accuracy: 0.98408 | Loss: 0.830712378 |\n",
      "| Epoch: 13300 | Accuracy: 0.98408 | Loss: 0.830746531 |\n",
      "| Epoch: 13400 | Accuracy: 0.98408 | Loss: 0.830780506 |\n",
      "| Epoch: 13500 | Accuracy: 0.98453 | Loss: 0.830814242 |\n",
      "| Epoch: 13600 | Accuracy: 0.98453 | Loss: 0.830847502 |\n",
      "| Epoch: 13700 | Accuracy: 0.98453 | Loss: 0.830880225 |\n",
      "| Epoch: 13800 | Accuracy: 0.98499 | Loss: 0.830912232 |\n",
      "| Epoch: 13900 | Accuracy: 0.98499 | Loss: 0.830943227 |\n",
      "| Epoch: 14000 | Accuracy: 0.98499 | Loss: 0.830973148 |\n",
      "| Epoch: 14100 | Accuracy: 0.98499 | Loss: 0.831001818 |\n",
      "| Epoch: 14200 | Accuracy: 0.98499 | Loss: 0.831029177 |\n",
      "| Epoch: 14300 | Accuracy: 0.98499 | Loss: 0.831055343 |\n",
      "| Epoch: 14400 | Accuracy: 0.98499 | Loss: 0.831080198 |\n",
      "| Epoch: 14500 | Accuracy: 0.98499 | Loss: 0.831104100 |\n",
      "| Epoch: 14600 | Accuracy: 0.98499 | Loss: 0.831127226 |\n",
      "| Epoch: 14700 | Accuracy: 0.98499 | Loss: 0.831150293 |\n",
      "| Epoch: 14800 | Accuracy: 0.98499 | Loss: 0.831174314 |\n",
      "| Epoch: 14900 | Accuracy: 0.98499 | Loss: 0.831201375 |\n",
      "Finished.\n"
     ]
    }
   ],
   "source": [
    "train_loss_NN, test_loss_NN, parameter_NN = training.train_normal_nn(NN,\n",
    "                                                                     train_loader,\n",
    "                                                                     test_loader,\n",
    "                                                                     optimizer=optimizer_NN,\n",
    "                                                                     lossfunction=celoss,\n",
    "                                                                     Epoch=15000)"
   ]
  },
  {
   "cell_type": "code",
   "execution_count": 23,
   "id": "6f23e9b4",
   "metadata": {},
   "outputs": [
    {
     "data": {
      "text/plain": [
       "(7809, tensor(0.8263))"
      ]
     },
     "execution_count": 23,
     "metadata": {},
     "output_type": "execute_result"
    },
    {
     "data": {
      "image/png": "[encoded data removed]",
      "text/plain": [
       "<Figure size 432x288 with 1 Axes>"
      ]
     },
     "metadata": {
      "needs_background": "light"
     },
     "output_type": "display_data"
    }
   ],
   "source": [
    "plt.plot(train_loss_NN, '-', label='train')\n",
    "plt.plot(test_loss_NN, '--', label='test')\n",
    "plt.legend()\n",
    "best = np.argmin(test_loss_NN)\n",
    "best, test_loss_NN[best]"
   ]
  },
  {
   "cell_type": "markdown",
   "id": "3366f4b5",
   "metadata": {},
   "source": [
    "## save model"
   ]
  },
  {
   "cell_type": "code",
   "execution_count": 24,
   "id": "f68d2337",
   "metadata": {},
   "outputs": [],
   "source": [
    "with open('./pendigitresult/NN_16.p', 'wb') as f:\n",
    "    pickle.dump(NN, f)"
   ]
  },
  {
   "cell_type": "markdown",
   "id": "9192ad68",
   "metadata": {},
   "source": [
    "## load model"
   ]
  },
  {
   "cell_type": "code",
   "execution_count": 25,
   "id": "dcfe8799",
   "metadata": {},
   "outputs": [],
   "source": [
    "with open('./pendigitresult/NN_16.p', 'rb') as f:\n",
    "    NN = pickle.load(f)"
   ]
  },
  {
   "cell_type": "markdown",
   "id": "0c45f3e6",
   "metadata": {},
   "source": [
    "## evalutation"
   ]
  },
  {
   "cell_type": "code",
   "execution_count": 26,
   "id": "ebe6060d",
   "metadata": {},
   "outputs": [
    {
     "name": "stdout",
     "output_type": "stream",
     "text": [
      "0.9854479308776717\n"
     ]
    }
   ],
   "source": [
    "for x_valid, y_valid in valid_loader:\n",
    "    prediction_valid = NN(x_valid)\n",
    "    p = torch.argmax(prediction_valid, 1)\n",
    "    pred_y = p.data.numpy().squeeze()\n",
    "    acc_valid = sum(pred_y == y_valid.numpy()) / y_valid.shape[0]\n",
    "print(acc_valid)"
   ]
  },
  {
   "cell_type": "markdown",
   "id": "00492b19",
   "metadata": {},
   "source": [
    "# PNN\n",
    "## Training"
   ]
  },
  {
   "cell_type": "code",
   "execution_count": 9,
   "id": "ef8515ec",
   "metadata": {},
   "outputs": [
    {
     "data": {
      "text/plain": [
       "Sequential(\n",
       "  (0): PNNLayer()\n",
       "  (1): PNNLayer()\n",
       ")"
      ]
     },
     "execution_count": 9,
     "metadata": {},
     "output_type": "execute_result"
    }
   ],
   "source": [
    "PNN = torch.nn.Sequential(pnn.PNNLayer(N_features, N_Hidden, age_generator),\n",
    "                          pnn.PNNLayer(N_Hidden, N_class, age_generator))\n",
    "optimizer_PNN = torch.optim.Adam(PNN.parameters(), lr=0.01)\n",
    "PNN"
   ]
  },
  {
   "cell_type": "code",
   "execution_count": 10,
   "id": "430b5fea",
   "metadata": {},
   "outputs": [
    {
     "data": {
      "application/vnd.jupyter.widget-view+json": {
       "model_id": "3df8bbc76e704d7ab39cebbb773831dc",
       "version_major": 2,
       "version_minor": 0
      },
      "text/plain": [
       "  0%|          | 0/15000 [00:00<?, ?it/s]"
      ]
     },
     "metadata": {},
     "output_type": "display_data"
    },
    {
     "name": "stdout",
     "output_type": "stream",
     "text": [
      "| Epoch:     0 | Accuracy: 0.10328 | Loss: 1.395962777 |\n",
      "| Epoch:   100 | Accuracy: 0.74886 | Loss: 0.602397839 |\n",
      "| Epoch:   200 | Accuracy: 0.77070 | Loss: 0.416422436 |\n",
      "| Epoch:   300 | Accuracy: 0.86442 | Loss: 0.261196786 |\n",
      "| Epoch:   400 | Accuracy: 0.89354 | Loss: 0.192623468 |\n",
      "| Epoch:   500 | Accuracy: 0.92630 | Loss: 0.161237013 |\n",
      "| Epoch:   600 | Accuracy: 0.93949 | Loss: 0.143261454 |\n",
      "| Epoch:   700 | Accuracy: 0.94359 | Loss: 0.131893629 |\n",
      "| Epoch:   800 | Accuracy: 0.94859 | Loss: 0.123251981 |\n",
      "| Epoch:   900 | Accuracy: 0.95132 | Loss: 0.116093401 |\n",
      "| Epoch:  1000 | Accuracy: 0.95314 | Loss: 0.111037101 |\n",
      "| Epoch:  1100 | Accuracy: 0.95314 | Loss: 0.107315043 |\n",
      "| Epoch:  1200 | Accuracy: 0.95450 | Loss: 0.104318707 |\n",
      "| Epoch:  1300 | Accuracy: 0.95359 | Loss: 0.101704803 |\n",
      "| Epoch:  1400 | Accuracy: 0.95405 | Loss: 0.099584756 |\n",
      "| Epoch:  1500 | Accuracy: 0.95678 | Loss: 0.097210446 |\n",
      "| Epoch:  1600 | Accuracy: 0.95632 | Loss: 0.094913234 |\n",
      "| Epoch:  1700 | Accuracy: 0.95769 | Loss: 0.093027085 |\n",
      "| Epoch:  1800 | Accuracy: 0.95769 | Loss: 0.091574521 |\n",
      "| Epoch:  1900 | Accuracy: 0.95723 | Loss: 0.090563535 |\n",
      "| Epoch:  2000 | Accuracy: 0.95678 | Loss: 0.089374064 |\n",
      "| Epoch:  2100 | Accuracy: 0.95723 | Loss: 0.088358371 |\n",
      "| Epoch:  2200 | Accuracy: 0.95769 | Loss: 0.087601126 |\n",
      "| Epoch:  2300 | Accuracy: 0.95905 | Loss: 0.086541868 |\n",
      "| Epoch:  2400 | Accuracy: 0.95814 | Loss: 0.085700533 |\n",
      "| Epoch:  2500 | Accuracy: 0.95951 | Loss: 0.084699469 |\n",
      "| Epoch:  2600 | Accuracy: 0.95951 | Loss: 0.083761732 |\n",
      "| Epoch:  2700 | Accuracy: 0.95996 | Loss: 0.082838354 |\n",
      "| Epoch:  2800 | Accuracy: 0.96178 | Loss: 0.081793943 |\n",
      "| Epoch:  2900 | Accuracy: 0.96178 | Loss: 0.080995197 |\n",
      "| Epoch:  3000 | Accuracy: 0.96224 | Loss: 0.080249571 |\n",
      "| Epoch:  3100 | Accuracy: 0.96269 | Loss: 0.079446444 |\n",
      "| Epoch:  3200 | Accuracy: 0.96497 | Loss: 0.078563228 |\n",
      "| Epoch:  3300 | Accuracy: 0.96588 | Loss: 0.077875117 |\n",
      "| Epoch:  3400 | Accuracy: 0.96724 | Loss: 0.077326126 |\n",
      "| Epoch:  3500 | Accuracy: 0.96770 | Loss: 0.076507104 |\n",
      "| Epoch:  3600 | Accuracy: 0.96861 | Loss: 0.075871875 |\n",
      "| Epoch:  3700 | Accuracy: 0.96861 | Loss: 0.074844843 |\n",
      "| Epoch:  3800 | Accuracy: 0.96952 | Loss: 0.074090654 |\n",
      "| Epoch:  3900 | Accuracy: 0.96906 | Loss: 0.073487211 |\n",
      "| Epoch:  4000 | Accuracy: 0.96997 | Loss: 0.073049051 |\n",
      "| Epoch:  4100 | Accuracy: 0.96997 | Loss: 0.072314240 |\n",
      "| Epoch:  4200 | Accuracy: 0.96952 | Loss: 0.071768178 |\n",
      "| Epoch:  4300 | Accuracy: 0.96997 | Loss: 0.071393630 |\n",
      "| Epoch:  4400 | Accuracy: 0.96997 | Loss: 0.070930540 |\n",
      "| Epoch:  4500 | Accuracy: 0.96952 | Loss: 0.070674166 |\n",
      "| Epoch:  4600 | Accuracy: 0.96906 | Loss: 0.070471129 |\n",
      "| Epoch:  4700 | Accuracy: 0.96997 | Loss: 0.070284169 |\n",
      "| Epoch:  4800 | Accuracy: 0.96952 | Loss: 0.070058410 |\n",
      "| Epoch:  4900 | Accuracy: 0.96952 | Loss: 0.069929815 |\n",
      "| Epoch:  5000 | Accuracy: 0.97043 | Loss: 0.069731148 |\n",
      "| Epoch:  5100 | Accuracy: 0.97043 | Loss: 0.069589059 |\n",
      "| Epoch:  5200 | Accuracy: 0.96997 | Loss: 0.069457487 |\n",
      "| Epoch:  5300 | Accuracy: 0.96997 | Loss: 0.069491335 |\n",
      "| Epoch:  5400 | Accuracy: 0.96997 | Loss: 0.069325927 |\n",
      "| Epoch:  5500 | Accuracy: 0.97043 | Loss: 0.069078319 |\n",
      "| Epoch:  5600 | Accuracy: 0.96997 | Loss: 0.069075220 |\n",
      "| Epoch:  5700 | Accuracy: 0.97043 | Loss: 0.069011351 |\n",
      "| Epoch:  5800 | Accuracy: 0.97043 | Loss: 0.068763118 |\n",
      "| Epoch:  5900 | Accuracy: 0.97043 | Loss: 0.068720619 |\n",
      "| Epoch:  6000 | Accuracy: 0.97134 | Loss: 0.068535234 |\n",
      "| Epoch:  6100 | Accuracy: 0.97134 | Loss: 0.068270580 |\n",
      "| Epoch:  6200 | Accuracy: 0.97134 | Loss: 0.068183957 |\n",
      "| Epoch:  6300 | Accuracy: 0.97134 | Loss: 0.067931434 |\n",
      "| Epoch:  6400 | Accuracy: 0.97225 | Loss: 0.067788208 |\n",
      "| Epoch:  6500 | Accuracy: 0.97179 | Loss: 0.067645604 |\n",
      "| Epoch:  6600 | Accuracy: 0.97179 | Loss: 0.067385217 |\n",
      "| Epoch:  6700 | Accuracy: 0.97134 | Loss: 0.067216080 |\n",
      "| Epoch:  6800 | Accuracy: 0.97134 | Loss: 0.067136433 |\n",
      "| Epoch:  6900 | Accuracy: 0.97179 | Loss: 0.067141581 |\n",
      "| Epoch:  7000 | Accuracy: 0.97179 | Loss: 0.067199877 |\n",
      "| Epoch:  7100 | Accuracy: 0.97225 | Loss: 0.067172089 |\n",
      "| Epoch:  7200 | Accuracy: 0.97179 | Loss: 0.067392770 |\n",
      "| Epoch:  7300 | Accuracy: 0.97179 | Loss: 0.067419990 |\n",
      "| Epoch:  7400 | Accuracy: 0.97179 | Loss: 0.067447969 |\n",
      "| Epoch:  7500 | Accuracy: 0.97134 | Loss: 0.067538019 |\n",
      "| Epoch:  7600 | Accuracy: 0.97134 | Loss: 0.067454401 |\n",
      "| Epoch:  7700 | Accuracy: 0.97088 | Loss: 0.067497260 |\n",
      "| Epoch:  7800 | Accuracy: 0.97134 | Loss: 0.067586937 |\n",
      "| Epoch:  7900 | Accuracy: 0.97134 | Loss: 0.067611656 |\n",
      "| Epoch:  8000 | Accuracy: 0.97134 | Loss: 0.067688367 |\n",
      "| Epoch:  8100 | Accuracy: 0.97134 | Loss: 0.067612501 |\n",
      "| Epoch:  8200 | Accuracy: 0.97134 | Loss: 0.067710094 |\n",
      "| Epoch:  8300 | Accuracy: 0.97088 | Loss: 0.067611580 |\n",
      "| Epoch:  8400 | Accuracy: 0.97134 | Loss: 0.067593236 |\n",
      "| Epoch:  8500 | Accuracy: 0.97088 | Loss: 0.067673581 |\n",
      "| Epoch:  8600 | Accuracy: 0.97043 | Loss: 0.067783995 |\n",
      "| Epoch:  8700 | Accuracy: 0.97088 | Loss: 0.067796819 |\n",
      "| Epoch:  8800 | Accuracy: 0.97088 | Loss: 0.067857562 |\n",
      "| Epoch:  8900 | Accuracy: 0.96997 | Loss: 0.067794164 |\n",
      "| Epoch:  9000 | Accuracy: 0.97043 | Loss: 0.067814819 |\n",
      "| Epoch:  9100 | Accuracy: 0.96997 | Loss: 0.067973038 |\n",
      "| Epoch:  9200 | Accuracy: 0.97043 | Loss: 0.067946162 |\n",
      "| Epoch:  9300 | Accuracy: 0.97043 | Loss: 0.068056205 |\n",
      "| Epoch:  9400 | Accuracy: 0.97088 | Loss: 0.068084618 |\n",
      "| Epoch:  9500 | Accuracy: 0.96952 | Loss: 0.068063070 |\n",
      "| Epoch:  9600 | Accuracy: 0.97088 | Loss: 0.068361750 |\n",
      "| Epoch:  9700 | Accuracy: 0.97043 | Loss: 0.068236030 |\n",
      "| Epoch:  9800 | Accuracy: 0.96997 | Loss: 0.068322606 |\n",
      "| Epoch:  9900 | Accuracy: 0.97134 | Loss: 0.068455148 |\n",
      "| Epoch: 10000 | Accuracy: 0.97088 | Loss: 0.068473923 |\n",
      "| Epoch: 10100 | Accuracy: 0.97134 | Loss: 0.068575083 |\n",
      "| Epoch: 10200 | Accuracy: 0.97088 | Loss: 0.068728105 |\n",
      "| Epoch: 10300 | Accuracy: 0.97043 | Loss: 0.068724709 |\n",
      "| Epoch: 10400 | Accuracy: 0.97043 | Loss: 0.068756696 |\n",
      "| Epoch: 10500 | Accuracy: 0.96997 | Loss: 0.068746806 |\n",
      "| Epoch: 10600 | Accuracy: 0.97043 | Loss: 0.068979789 |\n",
      "| Epoch: 10700 | Accuracy: 0.97043 | Loss: 0.068954027 |\n",
      "| Epoch: 10800 | Accuracy: 0.96906 | Loss: 0.068820507 |\n",
      "| Epoch: 10900 | Accuracy: 0.97043 | Loss: 0.068814462 |\n",
      "| Epoch: 11000 | Accuracy: 0.97043 | Loss: 0.068878786 |\n",
      "| Epoch: 11100 | Accuracy: 0.97043 | Loss: 0.068906228 |\n",
      "| Epoch: 11200 | Accuracy: 0.96997 | Loss: 0.068871368 |\n",
      "| Epoch: 11300 | Accuracy: 0.96997 | Loss: 0.068911281 |\n",
      "| Epoch: 11400 | Accuracy: 0.96997 | Loss: 0.069000706 |\n",
      "| Epoch: 11500 | Accuracy: 0.96997 | Loss: 0.068930412 |\n",
      "| Epoch: 11600 | Accuracy: 0.96997 | Loss: 0.068988059 |\n",
      "| Epoch: 11700 | Accuracy: 0.96997 | Loss: 0.068913504 |\n",
      "| Epoch: 11800 | Accuracy: 0.96997 | Loss: 0.068867309 |\n",
      "| Epoch: 11900 | Accuracy: 0.96997 | Loss: 0.068855245 |\n",
      "| Epoch: 12000 | Accuracy: 0.96997 | Loss: 0.068746454 |\n",
      "| Epoch: 12100 | Accuracy: 0.96997 | Loss: 0.068704117 |\n",
      "| Epoch: 12200 | Accuracy: 0.97043 | Loss: 0.068666994 |\n",
      "| Epoch: 12300 | Accuracy: 0.97043 | Loss: 0.068549459 |\n",
      "| Epoch: 12400 | Accuracy: 0.97043 | Loss: 0.068535903 |\n",
      "| Epoch: 12500 | Accuracy: 0.97043 | Loss: 0.068300301 |\n",
      "| Epoch: 12600 | Accuracy: 0.97043 | Loss: 0.068330753 |\n",
      "| Epoch: 12700 | Accuracy: 0.96997 | Loss: 0.068303263 |\n",
      "| Epoch: 12800 | Accuracy: 0.97043 | Loss: 0.068326917 |\n",
      "| Epoch: 12900 | Accuracy: 0.97043 | Loss: 0.068114719 |\n",
      "| Epoch: 13000 | Accuracy: 0.96997 | Loss: 0.068005631 |\n",
      "| Epoch: 13100 | Accuracy: 0.97043 | Loss: 0.067894469 |\n",
      "| Epoch: 13200 | Accuracy: 0.97088 | Loss: 0.067845255 |\n",
      "| Epoch: 13300 | Accuracy: 0.97088 | Loss: 0.067880918 |\n",
      "| Epoch: 13400 | Accuracy: 0.97088 | Loss: 0.067976515 |\n",
      "| Epoch: 13500 | Accuracy: 0.97134 | Loss: 0.067795376 |\n",
      "| Epoch: 13600 | Accuracy: 0.97088 | Loss: 0.067740371 |\n",
      "| Epoch: 13700 | Accuracy: 0.97134 | Loss: 0.067822302 |\n",
      "| Epoch: 13800 | Accuracy: 0.97134 | Loss: 0.067711133 |\n",
      "| Epoch: 13900 | Accuracy: 0.97134 | Loss: 0.067666771 |\n",
      "| Epoch: 14000 | Accuracy: 0.97134 | Loss: 0.067620678 |\n",
      "| Epoch: 14100 | Accuracy: 0.97088 | Loss: 0.067707926 |\n",
      "| Epoch: 14200 | Accuracy: 0.97043 | Loss: 0.067589835 |\n",
      "| Epoch: 14300 | Accuracy: 0.97134 | Loss: 0.067595759 |\n",
      "| Epoch: 14400 | Accuracy: 0.97179 | Loss: 0.067470627 |\n",
      "| Epoch: 14500 | Accuracy: 0.97088 | Loss: 0.067638753 |\n",
      "| Epoch: 14600 | Accuracy: 0.97088 | Loss: 0.067538760 |\n",
      "| Epoch: 14700 | Accuracy: 0.97179 | Loss: 0.067588821 |\n",
      "| Epoch: 14800 | Accuracy: 0.97088 | Loss: 0.067603264 |\n",
      "| Epoch: 14900 | Accuracy: 0.97134 | Loss: 0.067591783 |\n",
      "Finished.\n"
     ]
    }
   ],
   "source": [
    "train_loss_PNN, test_loss_PNN, parameter_PNN = training.train_normal_pnn(\n",
    "    PNN, train_loader, test_loader, m, T, optimizer_PNN, pnn.LossFunction, 15000)"
   ]
  },
  {
   "cell_type": "code",
   "execution_count": 11,
   "id": "811173a7",
   "metadata": {},
   "outputs": [
    {
     "data": {
      "text/plain": [
       "(6783, tensor(0.0670, dtype=torch.float64))"
      ]
     },
     "execution_count": 11,
     "metadata": {},
     "output_type": "execute_result"
    },
    {
     "data": {
      "image/png": "[encoded data removed]",
      "text/plain": [
       "<Figure size 432x288 with 1 Axes>"
      ]
     },
     "metadata": {
      "needs_background": "light"
     },
     "output_type": "display_data"
    }
   ],
   "source": [
    "plt.plot(train_loss_PNN, '-', label='train')\n",
    "plt.plot(test_loss_PNN, '--', label='test')\n",
    "plt.legend()\n",
    "best = np.argmin(test_loss_PNN)\n",
    "PNN.load_state_dict(parameter_PNN)\n",
    "best, test_loss_PNN[best]"
   ]
  },
  {
   "cell_type": "markdown",
   "id": "9dd94766",
   "metadata": {},
   "source": [
    "## save PNN"
   ]
  },
  {
   "cell_type": "code",
   "execution_count": 12,
   "id": "ab12e33b",
   "metadata": {},
   "outputs": [],
   "source": [
    "with open('./pendigitresult/PNN_16.p', 'wb') as f:\n",
    "    pickle.dump(PNN, f)"
   ]
  },
  {
   "cell_type": "markdown",
   "id": "c0196479",
   "metadata": {},
   "source": [
    "## load PNN"
   ]
  },
  {
   "cell_type": "code",
   "execution_count": 13,
   "id": "53d4cca5",
   "metadata": {},
   "outputs": [],
   "source": [
    "with open('./pendigitresult/PNN_16.p', 'rb') as f:\n",
    "    PNN = pickle.load(f)"
   ]
  },
  {
   "cell_type": "markdown",
   "id": "e17febee",
   "metadata": {},
   "source": [
    "## Functions for setting times and models"
   ]
  },
  {
   "cell_type": "code",
   "execution_count": null,
   "id": "05b93c0a",
   "metadata": {},
   "outputs": [],
   "source": [
    "import PNN_Setting as ps\n",
    "# ps.makemodel\n",
    "# ps.settime\n",
    "# ps.zerogradient"
   ]
  },
  {
   "cell_type": "markdown",
   "id": "72cf0a93",
   "metadata": {},
   "source": [
    "Usage of functions: \n",
    "\n",
    "`pnn.apply(lambda z: settime(z, time))`\n",
    "\n",
    "`pnn.apply(makemodel)`\n",
    "\n",
    "`pnn.apply(zerogradient)`"
   ]
  },
  {
   "cell_type": "markdown",
   "id": "02a1d3d4",
   "metadata": {},
   "source": [
    "## evaluation"
   ]
  },
  {
   "cell_type": "code",
   "execution_count": null,
   "id": "4e5e2086",
   "metadata": {},
   "outputs": [],
   "source": [
    "import evaluation\n",
    "importlib.reload(evaluation)\n",
    "mean_acc_PNN, std_acc_PNN, mean_maa_PNN, std_maa_PNN = evaluation.FullEvaluation(PNN, valid_loader)"
   ]
  },
  {
   "cell_type": "code",
   "execution_count": null,
   "id": "b9d9508d",
   "metadata": {},
   "outputs": [],
   "source": [
    "plt.fill_between(np.linspace(0,1,50), mean_acc_PNN-std_acc_PNN, mean_acc_PNN+std_acc_PNN, alpha=0.3, color='blue');\n",
    "plt.plot(np.linspace(0,1,50), mean_acc_PNN, label='PNN', color='blue');\n",
    "\n",
    "plt.xlabel('normalized time');\n",
    "plt.ylabel('basic accuracy');\n",
    "plt.xlim([0, 1]);\n",
    "plt.legend();"
   ]
  },
  {
   "cell_type": "code",
   "execution_count": null,
   "id": "45766c5f-ca2e-4bff-9e13-25f1e8406fe9",
   "metadata": {},
   "outputs": [],
   "source": [
    "plt.fill_between(np.linspace(0,1,50), mean_maa_PNN-std_maa_PNN, mean_maa_PNN+std_maa_PNN, alpha=0.3, color='blue');\n",
    "plt.plot(np.linspace(0,1,50), mean_maa_PNN, label='PNN', color='blue');\n",
    "\n",
    "plt.xlabel('normalized time');\n",
    "plt.ylabel('measureing aware accuracy');\n",
    "plt.xlim([0, 1]);\n",
    "plt.ylim([0, 1]);\n",
    "plt.legend();"
   ]
  },
  {
   "cell_type": "markdown",
   "id": "4ff7c1f0",
   "metadata": {},
   "source": [
    "# Aging Aware PNN\n",
    "## Training"
   ]
  },
  {
   "cell_type": "code",
   "execution_count": 8,
   "id": "b474bd81",
   "metadata": {},
   "outputs": [
    {
     "data": {
      "text/plain": [
       "Sequential(\n",
       "  (0): PNNLayer()\n",
       "  (1): PNNLayer()\n",
       ")"
      ]
     },
     "execution_count": 8,
     "metadata": {},
     "output_type": "execute_result"
    }
   ],
   "source": [
    "AAPNN = torch.nn.Sequential(pnn.PNNLayer(N_features, N_Hidden, age_generator),\n",
    "                            pnn.PNNLayer(N_Hidden, N_class, age_generator))\n",
    "\n",
    "optimizer_AAPNN = torch.optim.Adam(AAPNN.parameters(), lr=0.01)\n",
    "AAPNN"
   ]
  },
  {
   "cell_type": "markdown",
   "id": "3f5e8432",
   "metadata": {},
   "source": [
    "### Functions for generating parallel AAPNNs"
   ]
  },
  {
   "cell_type": "code",
   "execution_count": 9,
   "id": "159ff692",
   "metadata": {},
   "outputs": [],
   "source": [
    "# ps.MakeParallelPNNs\n",
    "# ps.MakeParallelModels"
   ]
  },
  {
   "cell_type": "markdown",
   "id": "4b40f37b",
   "metadata": {},
   "source": [
    "Usage:\n",
    "\n",
    "`Parallel_PNNs = ps.MakeParallelPNNs(pnn, M, K)`, generating different models & different time stamps\n",
    "\n",
    "`Parallel_PNNs = ps.MakeParallelPNNs(pnn, M)`, generating only different models"
   ]
  },
  {
   "cell_type": "markdown",
   "id": "fe5b1f11-88d5-4057-a090-a2748af6bdb3",
   "metadata": {},
   "source": [
    "# Load temp parameter when corrupt"
   ]
  },
  {
   "cell_type": "code",
   "execution_count": 10,
   "id": "93161d57-aef1-4417-812c-539600f09f88",
   "metadata": {},
   "outputs": [],
   "source": [
    "with open('./temp/AAPNN.p', 'rb') as f:\n",
    "    AAPNN = pickle.load(f)"
   ]
  },
  {
   "cell_type": "markdown",
   "id": "ca0df146-6c60-415d-8769-29c3474578e0",
   "metadata": {},
   "source": [
    "## Parallel Training"
   ]
  },
  {
   "cell_type": "code",
   "execution_count": 11,
   "id": "d5b541a5",
   "metadata": {},
   "outputs": [
    {
     "data": {
      "application/vnd.jupyter.widget-view+json": {
       "model_id": "0702789c7bc7430cb4f2f1a33f09c909",
       "version_major": 2,
       "version_minor": 0
      },
      "text/plain": [
       "  0%|          | 0/700 [00:00<?, ?it/s]"
      ]
     },
     "metadata": {},
     "output_type": "display_data"
    },
    {
     "name": "stdout",
     "output_type": "stream",
     "text": [
      "| Epoch:     0 | Accuracy: 0.94731 | Loss: 0.119449699 |\n",
      "| Epoch:    10 | Accuracy: 0.94712 | Loss: 0.118456288 |\n",
      "| Epoch:    20 | Accuracy: 0.94414 | Loss: 0.122467509 |\n",
      "| Epoch:    30 | Accuracy: 0.94460 | Loss: 0.123668528 |\n",
      "| Epoch:    40 | Accuracy: 0.94835 | Loss: 0.120239478 |\n",
      "| Epoch:    50 | Accuracy: 0.94629 | Loss: 0.120257280 |\n",
      "| Epoch:    60 | Accuracy: 0.94148 | Loss: 0.129778863 |\n",
      "| Epoch:    70 | Accuracy: 0.94413 | Loss: 0.124345367 |\n",
      "| Epoch:    80 | Accuracy: 0.94520 | Loss: 0.119336491 |\n",
      "| Epoch:    90 | Accuracy: 0.94426 | Loss: 0.124273807 |\n",
      "| Epoch:   100 | Accuracy: 0.94723 | Loss: 0.116826617 |\n",
      "| Epoch:   110 | Accuracy: 0.94564 | Loss: 0.125007846 |\n",
      "| Epoch:   120 | Accuracy: 0.94247 | Loss: 0.127981235 |\n",
      "| Epoch:   130 | Accuracy: 0.94385 | Loss: 0.124011203 |\n",
      "| Epoch:   140 | Accuracy: 0.94864 | Loss: 0.115404072 |\n",
      "| Epoch:   150 | Accuracy: 0.94321 | Loss: 0.126193432 |\n",
      "| Epoch:   160 | Accuracy: 0.94813 | Loss: 0.116995077 |\n",
      "| Epoch:   170 | Accuracy: 0.94290 | Loss: 0.124834786 |\n",
      "| Epoch:   180 | Accuracy: 0.94548 | Loss: 0.121918932 |\n",
      "| Epoch:   190 | Accuracy: 0.94567 | Loss: 0.122529363 |\n",
      "| Epoch:   200 | Accuracy: 0.94366 | Loss: 0.125771152 |\n",
      "| Epoch:   210 | Accuracy: 0.94124 | Loss: 0.130905923 |\n",
      "| Epoch:   220 | Accuracy: 0.94508 | Loss: 0.121530213 |\n",
      "| Epoch:   230 | Accuracy: 0.94436 | Loss: 0.125182464 |\n",
      "| Epoch:   240 | Accuracy: 0.94216 | Loss: 0.125754452 |\n",
      "| Epoch:   250 | Accuracy: 0.94063 | Loss: 0.127815565 |\n",
      "| Epoch:   260 | Accuracy: 0.94468 | Loss: 0.125246886 |\n",
      "| Epoch:   270 | Accuracy: 0.94637 | Loss: 0.122195179 |\n",
      "| Epoch:   280 | Accuracy: 0.94510 | Loss: 0.121936321 |\n",
      "| Epoch:   290 | Accuracy: 0.94832 | Loss: 0.117690629 |\n",
      "| Epoch:   300 | Accuracy: 0.94278 | Loss: 0.130842278 |\n",
      "| Epoch:   310 | Accuracy: 0.94658 | Loss: 0.118407142 |\n",
      "| Epoch:   320 | Accuracy: 0.94617 | Loss: 0.119965557 |\n",
      "| Epoch:   330 | Accuracy: 0.94661 | Loss: 0.122635292 |\n",
      "| Epoch:   340 | Accuracy: 0.94126 | Loss: 0.131640769 |\n",
      "| Epoch:   350 | Accuracy: 0.94497 | Loss: 0.123811084 |\n",
      "| Epoch:   360 | Accuracy: 0.94357 | Loss: 0.123797481 |\n",
      "| Epoch:   370 | Accuracy: 0.94285 | Loss: 0.127234520 |\n",
      "| Epoch:   380 | Accuracy: 0.94010 | Loss: 0.130594269 |\n",
      "| Epoch:   390 | Accuracy: 0.94198 | Loss: 0.129199070 |\n",
      "| Epoch:   400 | Accuracy: 0.94331 | Loss: 0.128155885 |\n",
      "| Epoch:   410 | Accuracy: 0.94347 | Loss: 0.124584174 |\n",
      "| Epoch:   420 | Accuracy: 0.94753 | Loss: 0.121681590 |\n",
      "| Epoch:   430 | Accuracy: 0.94527 | Loss: 0.123020492 |\n",
      "| Epoch:   440 | Accuracy: 0.94523 | Loss: 0.122455986 |\n",
      "| Epoch:   450 | Accuracy: 0.94198 | Loss: 0.127088843 |\n",
      "| Epoch:   460 | Accuracy: 0.94378 | Loss: 0.125922480 |\n",
      "| Epoch:   470 | Accuracy: 0.94317 | Loss: 0.125040733 |\n",
      "| Epoch:   480 | Accuracy: 0.94532 | Loss: 0.124832017 |\n"
     ]
    },
    {
     "ename": "KeyboardInterrupt",
     "evalue": "",
     "output_type": "error",
     "traceback": [
      "\u001b[0;31m---------------------------------------------------------------------------\u001b[0m",
      "\u001b[0;31mKeyboardInterrupt\u001b[0m                         Traceback (most recent call last)",
      "\u001b[0;32m/scratch/slurm_tmpdir/job_20257366/ipykernel_1226855/3468963419.py\u001b[0m in \u001b[0;36m<module>\u001b[0;34m\u001b[0m\n\u001b[1;32m      1\u001b[0m \u001b[0mimportlib\u001b[0m\u001b[0;34m.\u001b[0m\u001b[0mreload\u001b[0m\u001b[0;34m(\u001b[0m\u001b[0mtraining\u001b[0m\u001b[0;34m)\u001b[0m\u001b[0;34m\u001b[0m\u001b[0;34m\u001b[0m\u001b[0m\n\u001b[0;32m----> 2\u001b[0;31m test_loss_AAPNN, parameter_AAPNN = training.ParallelTrainingAAPNN(AAPNN,\n\u001b[0m\u001b[1;32m      3\u001b[0m                                                                   \u001b[0mtrain_loader\u001b[0m\u001b[0;34m,\u001b[0m \u001b[0mtest_loader\u001b[0m\u001b[0;34m,\u001b[0m\u001b[0;34m\u001b[0m\u001b[0;34m\u001b[0m\u001b[0m\n\u001b[1;32m      4\u001b[0m                                                                   \u001b[0moptimizer_AAPNN\u001b[0m\u001b[0;34m,\u001b[0m\u001b[0;34m\u001b[0m\u001b[0;34m\u001b[0m\u001b[0m\n\u001b[1;32m      5\u001b[0m                                                                   \u001b[0mpnn\u001b[0m\u001b[0;34m.\u001b[0m\u001b[0mLossFunction\u001b[0m\u001b[0;34m,\u001b[0m \u001b[0mm\u001b[0m\u001b[0;34m,\u001b[0m \u001b[0mT\u001b[0m\u001b[0;34m,\u001b[0m\u001b[0;34m\u001b[0m\u001b[0;34m\u001b[0m\u001b[0m\n",
      "\u001b[0;32m/pfs/data5/home/kit/tm/px3192/Aging-aware-training/training.py\u001b[0m in \u001b[0;36mParallelTrainingAAPNN\u001b[0;34m(AAPNN, train_loader, test_loader, optimizer, lossfunction, m, T, M, K, M_test, K_test, Epoch)\u001b[0m\n\u001b[1;32m    223\u001b[0m \u001b[0;34m\u001b[0m\u001b[0m\n\u001b[1;32m    224\u001b[0m     \u001b[0;32mfor\u001b[0m \u001b[0mepoch\u001b[0m \u001b[0;32min\u001b[0m \u001b[0mtqdm\u001b[0m\u001b[0;34m(\u001b[0m\u001b[0mrange\u001b[0m\u001b[0;34m(\u001b[0m\u001b[0mEpoch\u001b[0m\u001b[0;34m)\u001b[0m\u001b[0;34m)\u001b[0m\u001b[0;34m:\u001b[0m\u001b[0;34m\u001b[0m\u001b[0;34m\u001b[0m\u001b[0m\n\u001b[0;32m--> 225\u001b[0;31m         \u001b[0mParallel_Models\u001b[0m \u001b[0;34m=\u001b[0m \u001b[0mps\u001b[0m\u001b[0;34m.\u001b[0m\u001b[0mMakeParallelModels\u001b[0m\u001b[0;34m(\u001b[0m\u001b[0mAAPNN\u001b[0m\u001b[0;34m,\u001b[0m \u001b[0mM\u001b[0m\u001b[0;34m)\u001b[0m\u001b[0;34m\u001b[0m\u001b[0;34m\u001b[0m\u001b[0m\n\u001b[0m\u001b[1;32m    226\u001b[0m \u001b[0;34m\u001b[0m\u001b[0m\n\u001b[1;32m    227\u001b[0m         gradients = Parallel(n_jobs=M)(delayed(GetGradientFor)(aapnn,\n",
      "\u001b[0;32m/pfs/data5/home/kit/tm/px3192/Aging-aware-training/PNN_Setting.py\u001b[0m in \u001b[0;36mMakeParallelModels\u001b[0;34m(pnn, M)\u001b[0m\n\u001b[1;32m     47\u001b[0m     \u001b[0;31m# change aging model for each pnn\u001b[0m\u001b[0;34m\u001b[0m\u001b[0;34m\u001b[0m\u001b[0;34m\u001b[0m\u001b[0m\n\u001b[1;32m     48\u001b[0m     \u001b[0;32mfor\u001b[0m \u001b[0mn\u001b[0m \u001b[0;32min\u001b[0m \u001b[0mpnn_with_different_models\u001b[0m\u001b[0;34m:\u001b[0m\u001b[0;34m\u001b[0m\u001b[0;34m\u001b[0m\u001b[0m\n\u001b[0;32m---> 49\u001b[0;31m         \u001b[0mn\u001b[0m\u001b[0;34m.\u001b[0m\u001b[0mapply\u001b[0m\u001b[0;34m(\u001b[0m\u001b[0mmakemodel\u001b[0m\u001b[0;34m)\u001b[0m\u001b[0;34m\u001b[0m\u001b[0;34m\u001b[0m\u001b[0m\n\u001b[0m\u001b[1;32m     50\u001b[0m     \u001b[0;32mreturn\u001b[0m \u001b[0mpnn_with_different_models\u001b[0m\u001b[0;34m\u001b[0m\u001b[0;34m\u001b[0m\u001b[0m\n",
      "\u001b[0;32m~/.local/lib/python3.8/site-packages/torch/nn/modules/module.py\u001b[0m in \u001b[0;36mapply\u001b[0;34m(self, fn)\u001b[0m\n\u001b[1;32m    657\u001b[0m         \"\"\"\n\u001b[1;32m    658\u001b[0m         \u001b[0;32mfor\u001b[0m \u001b[0mmodule\u001b[0m \u001b[0;32min\u001b[0m \u001b[0mself\u001b[0m\u001b[0;34m.\u001b[0m\u001b[0mchildren\u001b[0m\u001b[0;34m(\u001b[0m\u001b[0;34m)\u001b[0m\u001b[0;34m:\u001b[0m\u001b[0;34m\u001b[0m\u001b[0;34m\u001b[0m\u001b[0m\n\u001b[0;32m--> 659\u001b[0;31m             \u001b[0mmodule\u001b[0m\u001b[0;34m.\u001b[0m\u001b[0mapply\u001b[0m\u001b[0;34m(\u001b[0m\u001b[0mfn\u001b[0m\u001b[0;34m)\u001b[0m\u001b[0;34m\u001b[0m\u001b[0;34m\u001b[0m\u001b[0m\n\u001b[0m\u001b[1;32m    660\u001b[0m         \u001b[0mfn\u001b[0m\u001b[0;34m(\u001b[0m\u001b[0mself\u001b[0m\u001b[0;34m)\u001b[0m\u001b[0;34m\u001b[0m\u001b[0;34m\u001b[0m\u001b[0m\n\u001b[1;32m    661\u001b[0m         \u001b[0;32mreturn\u001b[0m \u001b[0mself\u001b[0m\u001b[0;34m\u001b[0m\u001b[0;34m\u001b[0m\u001b[0m\n",
      "\u001b[0;32m~/.local/lib/python3.8/site-packages/torch/nn/modules/module.py\u001b[0m in \u001b[0;36mapply\u001b[0;34m(self, fn)\u001b[0m\n\u001b[1;32m    658\u001b[0m         \u001b[0;32mfor\u001b[0m \u001b[0mmodule\u001b[0m \u001b[0;32min\u001b[0m \u001b[0mself\u001b[0m\u001b[0;34m.\u001b[0m\u001b[0mchildren\u001b[0m\u001b[0;34m(\u001b[0m\u001b[0;34m)\u001b[0m\u001b[0;34m:\u001b[0m\u001b[0;34m\u001b[0m\u001b[0;34m\u001b[0m\u001b[0m\n\u001b[1;32m    659\u001b[0m             \u001b[0mmodule\u001b[0m\u001b[0;34m.\u001b[0m\u001b[0mapply\u001b[0m\u001b[0;34m(\u001b[0m\u001b[0mfn\u001b[0m\u001b[0;34m)\u001b[0m\u001b[0;34m\u001b[0m\u001b[0;34m\u001b[0m\u001b[0m\n\u001b[0;32m--> 660\u001b[0;31m         \u001b[0mfn\u001b[0m\u001b[0;34m(\u001b[0m\u001b[0mself\u001b[0m\u001b[0;34m)\u001b[0m\u001b[0;34m\u001b[0m\u001b[0;34m\u001b[0m\u001b[0m\n\u001b[0m\u001b[1;32m    661\u001b[0m         \u001b[0;32mreturn\u001b[0m \u001b[0mself\u001b[0m\u001b[0;34m\u001b[0m\u001b[0;34m\u001b[0m\u001b[0m\n\u001b[1;32m    662\u001b[0m \u001b[0;34m\u001b[0m\u001b[0m\n",
      "\u001b[0;32m/pfs/data5/home/kit/tm/px3192/Aging-aware-training/PNN_Setting.py\u001b[0m in \u001b[0;36mmakemodel\u001b[0;34m(m)\u001b[0m\n\u001b[1;32m     20\u001b[0m \u001b[0;32mdef\u001b[0m \u001b[0mmakemodel\u001b[0m\u001b[0;34m(\u001b[0m\u001b[0mm\u001b[0m\u001b[0;34m)\u001b[0m\u001b[0;34m:\u001b[0m\u001b[0;34m\u001b[0m\u001b[0;34m\u001b[0m\u001b[0m\n\u001b[1;32m     21\u001b[0m     \u001b[0;32mif\u001b[0m \u001b[0misinstance\u001b[0m\u001b[0;34m(\u001b[0m\u001b[0mm\u001b[0m\u001b[0;34m,\u001b[0m \u001b[0mpnn\u001b[0m\u001b[0;34m.\u001b[0m\u001b[0mPNNLayer\u001b[0m\u001b[0;34m)\u001b[0m\u001b[0;34m:\u001b[0m\u001b[0;34m\u001b[0m\u001b[0;34m\u001b[0m\u001b[0m\n\u001b[0;32m---> 22\u001b[0;31m         \u001b[0mm\u001b[0m\u001b[0;34m.\u001b[0m\u001b[0mgenerate_aging_model\u001b[0m\u001b[0;34m(\u001b[0m\u001b[0;34m)\u001b[0m\u001b[0;34m\u001b[0m\u001b[0;34m\u001b[0m\u001b[0m\n\u001b[0m\u001b[1;32m     23\u001b[0m \u001b[0;34m\u001b[0m\u001b[0m\n\u001b[1;32m     24\u001b[0m \u001b[0;32mdef\u001b[0m \u001b[0mzerogradient\u001b[0m\u001b[0;34m(\u001b[0m\u001b[0mm\u001b[0m\u001b[0;34m)\u001b[0m\u001b[0;34m:\u001b[0m\u001b[0;34m\u001b[0m\u001b[0;34m\u001b[0m\u001b[0m\n",
      "\u001b[0;32m/pfs/data5/home/kit/tm/px3192/Aging-aware-training/pNN_aging_aware.py\u001b[0m in \u001b[0;36mgenerate_aging_model\u001b[0;34m(self)\u001b[0m\n\u001b[1;32m     33\u001b[0m \u001b[0;34m\u001b[0m\u001b[0m\n\u001b[1;32m     34\u001b[0m     \u001b[0;32mdef\u001b[0m \u001b[0mgenerate_aging_model\u001b[0m\u001b[0;34m(\u001b[0m\u001b[0mself\u001b[0m\u001b[0;34m)\u001b[0m\u001b[0;34m:\u001b[0m\u001b[0;34m\u001b[0m\u001b[0;34m\u001b[0m\u001b[0m\n\u001b[0;32m---> 35\u001b[0;31m         \u001b[0mself\u001b[0m\u001b[0;34m.\u001b[0m\u001b[0mmodel\u001b[0m \u001b[0;34m=\u001b[0m \u001b[0mself\u001b[0m\u001b[0;34m.\u001b[0m\u001b[0maging_generator\u001b[0m\u001b[0;34m.\u001b[0m\u001b[0mget_models\u001b[0m\u001b[0;34m(\u001b[0m\u001b[0mself\u001b[0m\u001b[0;34m.\u001b[0m\u001b[0mtotalnum\u001b[0m\u001b[0;34m)\u001b[0m\u001b[0;34m\u001b[0m\u001b[0;34m\u001b[0m\u001b[0m\n\u001b[0m\u001b[1;32m     36\u001b[0m \u001b[0;34m\u001b[0m\u001b[0m\n\u001b[1;32m     37\u001b[0m     \u001b[0;34m@\u001b[0m\u001b[0mproperty\u001b[0m\u001b[0;34m\u001b[0m\u001b[0;34m\u001b[0m\u001b[0m\n",
      "\u001b[0;32m/pfs/data5/home/kit/tm/px3192/Aging-aware-training/Aging_Model/aging_model_generator.py\u001b[0m in \u001b[0;36mget_models\u001b[0;34m(self, number_of_models)\u001b[0m\n\u001b[1;32m     34\u001b[0m \u001b[0;32mclass\u001b[0m \u001b[0mExp_aging_model_sampler\u001b[0m\u001b[0;34m(\u001b[0m\u001b[0mAging_model_generator\u001b[0m\u001b[0;34m)\u001b[0m\u001b[0;34m:\u001b[0m\u001b[0;34m\u001b[0m\u001b[0;34m\u001b[0m\u001b[0m\n\u001b[1;32m     35\u001b[0m     \u001b[0;32mdef\u001b[0m \u001b[0mget_models\u001b[0m\u001b[0;34m(\u001b[0m\u001b[0mself\u001b[0m\u001b[0;34m,\u001b[0m \u001b[0mnumber_of_models\u001b[0m\u001b[0;34m=\u001b[0m\u001b[0;36m1\u001b[0m\u001b[0;34m)\u001b[0m\u001b[0;34m:\u001b[0m\u001b[0;34m\u001b[0m\u001b[0;34m\u001b[0m\u001b[0m\n\u001b[0;32m---> 36\u001b[0;31m         \u001b[0;32mreturn\u001b[0m \u001b[0;34m[\u001b[0m\u001b[0mExponentialFunction\u001b[0m\u001b[0;34m(\u001b[0m\u001b[0mparams\u001b[0m\u001b[0;34m=\u001b[0m\u001b[0mself\u001b[0m\u001b[0;34m.\u001b[0m\u001b[0mtransform_sample\u001b[0m\u001b[0;34m(\u001b[0m\u001b[0mself\u001b[0m\u001b[0;34m.\u001b[0m\u001b[0m_get_param_sample\u001b[0m\u001b[0;34m(\u001b[0m\u001b[0;34m)\u001b[0m\u001b[0;34m)\u001b[0m\u001b[0;34m)\u001b[0m \u001b[0;32mfor\u001b[0m \u001b[0mi\u001b[0m \u001b[0;32min\u001b[0m \u001b[0mrange\u001b[0m\u001b[0;34m(\u001b[0m\u001b[0mnumber_of_models\u001b[0m\u001b[0;34m)\u001b[0m\u001b[0;34m]\u001b[0m\u001b[0;34m\u001b[0m\u001b[0;34m\u001b[0m\u001b[0m\n\u001b[0m\u001b[1;32m     37\u001b[0m \u001b[0;34m\u001b[0m\u001b[0m\n\u001b[1;32m     38\u001b[0m     \u001b[0;34m@\u001b[0m\u001b[0mstaticmethod\u001b[0m\u001b[0;34m\u001b[0m\u001b[0;34m\u001b[0m\u001b[0m\n",
      "\u001b[0;32m/pfs/data5/home/kit/tm/px3192/Aging-aware-training/Aging_Model/aging_model_generator.py\u001b[0m in \u001b[0;36m<listcomp>\u001b[0;34m(.0)\u001b[0m\n\u001b[1;32m     34\u001b[0m \u001b[0;32mclass\u001b[0m \u001b[0mExp_aging_model_sampler\u001b[0m\u001b[0;34m(\u001b[0m\u001b[0mAging_model_generator\u001b[0m\u001b[0;34m)\u001b[0m\u001b[0;34m:\u001b[0m\u001b[0;34m\u001b[0m\u001b[0;34m\u001b[0m\u001b[0m\n\u001b[1;32m     35\u001b[0m     \u001b[0;32mdef\u001b[0m \u001b[0mget_models\u001b[0m\u001b[0;34m(\u001b[0m\u001b[0mself\u001b[0m\u001b[0;34m,\u001b[0m \u001b[0mnumber_of_models\u001b[0m\u001b[0;34m=\u001b[0m\u001b[0;36m1\u001b[0m\u001b[0;34m)\u001b[0m\u001b[0;34m:\u001b[0m\u001b[0;34m\u001b[0m\u001b[0;34m\u001b[0m\u001b[0m\n\u001b[0;32m---> 36\u001b[0;31m         \u001b[0;32mreturn\u001b[0m \u001b[0;34m[\u001b[0m\u001b[0mExponentialFunction\u001b[0m\u001b[0;34m(\u001b[0m\u001b[0mparams\u001b[0m\u001b[0;34m=\u001b[0m\u001b[0mself\u001b[0m\u001b[0;34m.\u001b[0m\u001b[0mtransform_sample\u001b[0m\u001b[0;34m(\u001b[0m\u001b[0mself\u001b[0m\u001b[0;34m.\u001b[0m\u001b[0m_get_param_sample\u001b[0m\u001b[0;34m(\u001b[0m\u001b[0;34m)\u001b[0m\u001b[0;34m)\u001b[0m\u001b[0;34m)\u001b[0m \u001b[0;32mfor\u001b[0m \u001b[0mi\u001b[0m \u001b[0;32min\u001b[0m \u001b[0mrange\u001b[0m\u001b[0;34m(\u001b[0m\u001b[0mnumber_of_models\u001b[0m\u001b[0;34m)\u001b[0m\u001b[0;34m]\u001b[0m\u001b[0;34m\u001b[0m\u001b[0;34m\u001b[0m\u001b[0m\n\u001b[0m\u001b[1;32m     37\u001b[0m \u001b[0;34m\u001b[0m\u001b[0m\n\u001b[1;32m     38\u001b[0m     \u001b[0;34m@\u001b[0m\u001b[0mstaticmethod\u001b[0m\u001b[0;34m\u001b[0m\u001b[0;34m\u001b[0m\u001b[0m\n",
      "\u001b[0;32m/pfs/data5/home/kit/tm/px3192/Aging-aware-training/Aging_Model/aging_model_generator.py\u001b[0m in \u001b[0;36m_get_param_sample\u001b[0;34m(self)\u001b[0m\n\u001b[1;32m      8\u001b[0m     \u001b[0;32mdef\u001b[0m \u001b[0m_get_param_sample\u001b[0m\u001b[0;34m(\u001b[0m\u001b[0mself\u001b[0m\u001b[0;34m)\u001b[0m\u001b[0;34m:\u001b[0m\u001b[0;34m\u001b[0m\u001b[0;34m\u001b[0m\u001b[0m\n\u001b[1;32m      9\u001b[0m         \u001b[0;34m''' samples from the param distributions '''\u001b[0m\u001b[0;34m\u001b[0m\u001b[0;34m\u001b[0m\u001b[0m\n\u001b[0;32m---> 10\u001b[0;31m         \u001b[0;32mreturn\u001b[0m \u001b[0mnp\u001b[0m\u001b[0;34m.\u001b[0m\u001b[0marray\u001b[0m\u001b[0;34m(\u001b[0m\u001b[0;34m[\u001b[0m\u001b[0mself\u001b[0m\u001b[0;34m.\u001b[0m\u001b[0mdist\u001b[0m\u001b[0;34m[\u001b[0m\u001b[0mc\u001b[0m\u001b[0;34m]\u001b[0m\u001b[0;34m.\u001b[0m\u001b[0mrvs\u001b[0m\u001b[0;34m(\u001b[0m\u001b[0;36m1\u001b[0m\u001b[0;34m,\u001b[0m \u001b[0mnp\u001b[0m\u001b[0;34m.\u001b[0m\u001b[0mrandom\u001b[0m\u001b[0;34m.\u001b[0m\u001b[0mrandint\u001b[0m\u001b[0;34m(\u001b[0m\u001b[0;36m0\u001b[0m\u001b[0;34m,\u001b[0m\u001b[0;36m10000\u001b[0m\u001b[0;34m)\u001b[0m\u001b[0;34m)\u001b[0m\u001b[0;34m*\u001b[0m\u001b[0mself\u001b[0m\u001b[0;34m.\u001b[0m\u001b[0mparam_data\u001b[0m\u001b[0;34m[\u001b[0m\u001b[0mc\u001b[0m\u001b[0;34m]\u001b[0m\u001b[0;34m.\u001b[0m\u001b[0mstd\u001b[0m\u001b[0;34m(\u001b[0m\u001b[0;34m)\u001b[0m \u001b[0;32mfor\u001b[0m \u001b[0mc\u001b[0m \u001b[0;32min\u001b[0m \u001b[0mself\u001b[0m\u001b[0;34m.\u001b[0m\u001b[0mparam_data\u001b[0m\u001b[0;34m.\u001b[0m\u001b[0mcolumns\u001b[0m\u001b[0;34m]\u001b[0m\u001b[0;34m)\u001b[0m\u001b[0;34m.\u001b[0m\u001b[0mravel\u001b[0m\u001b[0;34m(\u001b[0m\u001b[0;34m)\u001b[0m\u001b[0;34m\u001b[0m\u001b[0;34m\u001b[0m\u001b[0m\n\u001b[0m\u001b[1;32m     11\u001b[0m \u001b[0;34m\u001b[0m\u001b[0m\n\u001b[1;32m     12\u001b[0m     \u001b[0;34m@\u001b[0m\u001b[0mstaticmethod\u001b[0m\u001b[0;34m\u001b[0m\u001b[0;34m\u001b[0m\u001b[0m\n",
      "\u001b[0;32m/pfs/data5/home/kit/tm/px3192/Aging-aware-training/Aging_Model/aging_model_generator.py\u001b[0m in \u001b[0;36m<listcomp>\u001b[0;34m(.0)\u001b[0m\n\u001b[1;32m      8\u001b[0m     \u001b[0;32mdef\u001b[0m \u001b[0m_get_param_sample\u001b[0m\u001b[0;34m(\u001b[0m\u001b[0mself\u001b[0m\u001b[0;34m)\u001b[0m\u001b[0;34m:\u001b[0m\u001b[0;34m\u001b[0m\u001b[0;34m\u001b[0m\u001b[0m\n\u001b[1;32m      9\u001b[0m         \u001b[0;34m''' samples from the param distributions '''\u001b[0m\u001b[0;34m\u001b[0m\u001b[0;34m\u001b[0m\u001b[0m\n\u001b[0;32m---> 10\u001b[0;31m         \u001b[0;32mreturn\u001b[0m \u001b[0mnp\u001b[0m\u001b[0;34m.\u001b[0m\u001b[0marray\u001b[0m\u001b[0;34m(\u001b[0m\u001b[0;34m[\u001b[0m\u001b[0mself\u001b[0m\u001b[0;34m.\u001b[0m\u001b[0mdist\u001b[0m\u001b[0;34m[\u001b[0m\u001b[0mc\u001b[0m\u001b[0;34m]\u001b[0m\u001b[0;34m.\u001b[0m\u001b[0mrvs\u001b[0m\u001b[0;34m(\u001b[0m\u001b[0;36m1\u001b[0m\u001b[0;34m,\u001b[0m \u001b[0mnp\u001b[0m\u001b[0;34m.\u001b[0m\u001b[0mrandom\u001b[0m\u001b[0;34m.\u001b[0m\u001b[0mrandint\u001b[0m\u001b[0;34m(\u001b[0m\u001b[0;36m0\u001b[0m\u001b[0;34m,\u001b[0m\u001b[0;36m10000\u001b[0m\u001b[0;34m)\u001b[0m\u001b[0;34m)\u001b[0m\u001b[0;34m*\u001b[0m\u001b[0mself\u001b[0m\u001b[0;34m.\u001b[0m\u001b[0mparam_data\u001b[0m\u001b[0;34m[\u001b[0m\u001b[0mc\u001b[0m\u001b[0;34m]\u001b[0m\u001b[0;34m.\u001b[0m\u001b[0mstd\u001b[0m\u001b[0;34m(\u001b[0m\u001b[0;34m)\u001b[0m \u001b[0;32mfor\u001b[0m \u001b[0mc\u001b[0m \u001b[0;32min\u001b[0m \u001b[0mself\u001b[0m\u001b[0;34m.\u001b[0m\u001b[0mparam_data\u001b[0m\u001b[0;34m.\u001b[0m\u001b[0mcolumns\u001b[0m\u001b[0;34m]\u001b[0m\u001b[0;34m)\u001b[0m\u001b[0;34m.\u001b[0m\u001b[0mravel\u001b[0m\u001b[0;34m(\u001b[0m\u001b[0;34m)\u001b[0m\u001b[0;34m\u001b[0m\u001b[0;34m\u001b[0m\u001b[0m\n\u001b[0m\u001b[1;32m     11\u001b[0m \u001b[0;34m\u001b[0m\u001b[0m\n\u001b[1;32m     12\u001b[0m     \u001b[0;34m@\u001b[0m\u001b[0mstaticmethod\u001b[0m\u001b[0;34m\u001b[0m\u001b[0;34m\u001b[0m\u001b[0m\n",
      "\u001b[0;32m/opt/bwhpc/common/jupyter/base/2021-09-30/lib/python3.8/site-packages/scipy/stats/_distn_infrastructure.py\u001b[0m in \u001b[0;36mrvs\u001b[0;34m(self, size, random_state)\u001b[0m\n\u001b[1;32m    471\u001b[0m         \u001b[0mkwds\u001b[0m \u001b[0;34m=\u001b[0m \u001b[0mself\u001b[0m\u001b[0;34m.\u001b[0m\u001b[0mkwds\u001b[0m\u001b[0;34m.\u001b[0m\u001b[0mcopy\u001b[0m\u001b[0;34m(\u001b[0m\u001b[0;34m)\u001b[0m\u001b[0;34m\u001b[0m\u001b[0;34m\u001b[0m\u001b[0m\n\u001b[1;32m    472\u001b[0m         \u001b[0mkwds\u001b[0m\u001b[0;34m.\u001b[0m\u001b[0mupdate\u001b[0m\u001b[0;34m(\u001b[0m\u001b[0;34m{\u001b[0m\u001b[0;34m'size'\u001b[0m\u001b[0;34m:\u001b[0m \u001b[0msize\u001b[0m\u001b[0;34m,\u001b[0m \u001b[0;34m'random_state'\u001b[0m\u001b[0;34m:\u001b[0m \u001b[0mrandom_state\u001b[0m\u001b[0;34m}\u001b[0m\u001b[0;34m)\u001b[0m\u001b[0;34m\u001b[0m\u001b[0;34m\u001b[0m\u001b[0m\n\u001b[0;32m--> 473\u001b[0;31m         \u001b[0;32mreturn\u001b[0m \u001b[0mself\u001b[0m\u001b[0;34m.\u001b[0m\u001b[0mdist\u001b[0m\u001b[0;34m.\u001b[0m\u001b[0mrvs\u001b[0m\u001b[0;34m(\u001b[0m\u001b[0;34m*\u001b[0m\u001b[0mself\u001b[0m\u001b[0;34m.\u001b[0m\u001b[0margs\u001b[0m\u001b[0;34m,\u001b[0m \u001b[0;34m**\u001b[0m\u001b[0mkwds\u001b[0m\u001b[0;34m)\u001b[0m\u001b[0;34m\u001b[0m\u001b[0;34m\u001b[0m\u001b[0m\n\u001b[0m\u001b[1;32m    474\u001b[0m \u001b[0;34m\u001b[0m\u001b[0m\n\u001b[1;32m    475\u001b[0m     \u001b[0;32mdef\u001b[0m \u001b[0msf\u001b[0m\u001b[0;34m(\u001b[0m\u001b[0mself\u001b[0m\u001b[0;34m,\u001b[0m \u001b[0mx\u001b[0m\u001b[0;34m)\u001b[0m\u001b[0;34m:\u001b[0m\u001b[0;34m\u001b[0m\u001b[0;34m\u001b[0m\u001b[0m\n",
      "\u001b[0;32m/opt/bwhpc/common/jupyter/base/2021-09-30/lib/python3.8/site-packages/scipy/stats/_distn_infrastructure.py\u001b[0m in \u001b[0;36mrvs\u001b[0;34m(self, *args, **kwds)\u001b[0m\n\u001b[1;32m   1073\u001b[0m         \u001b[0;32mif\u001b[0m \u001b[0mrndm\u001b[0m \u001b[0;32mis\u001b[0m \u001b[0;32mnot\u001b[0m \u001b[0;32mNone\u001b[0m\u001b[0;34m:\u001b[0m\u001b[0;34m\u001b[0m\u001b[0;34m\u001b[0m\u001b[0m\n\u001b[1;32m   1074\u001b[0m             \u001b[0mrandom_state_saved\u001b[0m \u001b[0;34m=\u001b[0m \u001b[0mself\u001b[0m\u001b[0;34m.\u001b[0m\u001b[0m_random_state\u001b[0m\u001b[0;34m\u001b[0m\u001b[0;34m\u001b[0m\u001b[0m\n\u001b[0;32m-> 1075\u001b[0;31m             \u001b[0mrandom_state\u001b[0m \u001b[0;34m=\u001b[0m \u001b[0mcheck_random_state\u001b[0m\u001b[0;34m(\u001b[0m\u001b[0mrndm\u001b[0m\u001b[0;34m)\u001b[0m\u001b[0;34m\u001b[0m\u001b[0;34m\u001b[0m\u001b[0m\n\u001b[0m\u001b[1;32m   1076\u001b[0m         \u001b[0;32melse\u001b[0m\u001b[0;34m:\u001b[0m\u001b[0;34m\u001b[0m\u001b[0;34m\u001b[0m\u001b[0m\n\u001b[1;32m   1077\u001b[0m             \u001b[0mrandom_state\u001b[0m \u001b[0;34m=\u001b[0m \u001b[0mself\u001b[0m\u001b[0;34m.\u001b[0m\u001b[0m_random_state\u001b[0m\u001b[0;34m\u001b[0m\u001b[0;34m\u001b[0m\u001b[0m\n",
      "\u001b[0;32m/opt/bwhpc/common/jupyter/base/2021-09-30/lib/python3.8/site-packages/scipy/_lib/_util.py\u001b[0m in \u001b[0;36mcheck_random_state\u001b[0;34m(seed)\u001b[0m\n\u001b[1;32m    232\u001b[0m         \u001b[0;32mreturn\u001b[0m \u001b[0mnp\u001b[0m\u001b[0;34m.\u001b[0m\u001b[0mrandom\u001b[0m\u001b[0;34m.\u001b[0m\u001b[0mmtrand\u001b[0m\u001b[0;34m.\u001b[0m\u001b[0m_rand\u001b[0m\u001b[0;34m\u001b[0m\u001b[0;34m\u001b[0m\u001b[0m\n\u001b[1;32m    233\u001b[0m     \u001b[0;32mif\u001b[0m \u001b[0misinstance\u001b[0m\u001b[0;34m(\u001b[0m\u001b[0mseed\u001b[0m\u001b[0;34m,\u001b[0m \u001b[0;34m(\u001b[0m\u001b[0mnumbers\u001b[0m\u001b[0;34m.\u001b[0m\u001b[0mIntegral\u001b[0m\u001b[0;34m,\u001b[0m \u001b[0mnp\u001b[0m\u001b[0;34m.\u001b[0m\u001b[0minteger\u001b[0m\u001b[0;34m)\u001b[0m\u001b[0;34m)\u001b[0m\u001b[0;34m:\u001b[0m\u001b[0;34m\u001b[0m\u001b[0;34m\u001b[0m\u001b[0m\n\u001b[0;32m--> 234\u001b[0;31m         \u001b[0;32mreturn\u001b[0m \u001b[0mnp\u001b[0m\u001b[0;34m.\u001b[0m\u001b[0mrandom\u001b[0m\u001b[0;34m.\u001b[0m\u001b[0mRandomState\u001b[0m\u001b[0;34m(\u001b[0m\u001b[0mseed\u001b[0m\u001b[0;34m)\u001b[0m\u001b[0;34m\u001b[0m\u001b[0;34m\u001b[0m\u001b[0m\n\u001b[0m\u001b[1;32m    235\u001b[0m     \u001b[0;32mif\u001b[0m \u001b[0misinstance\u001b[0m\u001b[0;34m(\u001b[0m\u001b[0mseed\u001b[0m\u001b[0;34m,\u001b[0m \u001b[0mnp\u001b[0m\u001b[0;34m.\u001b[0m\u001b[0mrandom\u001b[0m\u001b[0;34m.\u001b[0m\u001b[0mRandomState\u001b[0m\u001b[0;34m)\u001b[0m\u001b[0;34m:\u001b[0m\u001b[0;34m\u001b[0m\u001b[0;34m\u001b[0m\u001b[0m\n\u001b[1;32m    236\u001b[0m         \u001b[0;32mreturn\u001b[0m \u001b[0mseed\u001b[0m\u001b[0;34m\u001b[0m\u001b[0;34m\u001b[0m\u001b[0m\n",
      "\u001b[0;32mmtrand.pyx\u001b[0m in \u001b[0;36mnumpy.random.mtrand.RandomState.__init__\u001b[0;34m()\u001b[0m\n",
      "\u001b[0;32m_mt19937.pyx\u001b[0m in \u001b[0;36mnumpy.random._mt19937.MT19937.__init__\u001b[0;34m()\u001b[0m\n",
      "\u001b[0;32m~/miniconda3/envs/MachineLearning/lib/python3.8/contextlib.py\u001b[0m in \u001b[0;36minner\u001b[0;34m(*args, **kwds)\u001b[0m\n\u001b[1;32m     73\u001b[0m         \u001b[0;32mdef\u001b[0m \u001b[0minner\u001b[0m\u001b[0;34m(\u001b[0m\u001b[0;34m*\u001b[0m\u001b[0margs\u001b[0m\u001b[0;34m,\u001b[0m \u001b[0;34m**\u001b[0m\u001b[0mkwds\u001b[0m\u001b[0;34m)\u001b[0m\u001b[0;34m:\u001b[0m\u001b[0;34m\u001b[0m\u001b[0;34m\u001b[0m\u001b[0m\n\u001b[1;32m     74\u001b[0m             \u001b[0;32mwith\u001b[0m \u001b[0mself\u001b[0m\u001b[0;34m.\u001b[0m\u001b[0m_recreate_cm\u001b[0m\u001b[0;34m(\u001b[0m\u001b[0;34m)\u001b[0m\u001b[0;34m:\u001b[0m\u001b[0;34m\u001b[0m\u001b[0;34m\u001b[0m\u001b[0m\n\u001b[0;32m---> 75\u001b[0;31m                 \u001b[0;32mreturn\u001b[0m \u001b[0mfunc\u001b[0m\u001b[0;34m(\u001b[0m\u001b[0;34m*\u001b[0m\u001b[0margs\u001b[0m\u001b[0;34m,\u001b[0m \u001b[0;34m**\u001b[0m\u001b[0mkwds\u001b[0m\u001b[0;34m)\u001b[0m\u001b[0;34m\u001b[0m\u001b[0;34m\u001b[0m\u001b[0m\n\u001b[0m\u001b[1;32m     76\u001b[0m         \u001b[0;32mreturn\u001b[0m \u001b[0minner\u001b[0m\u001b[0;34m\u001b[0m\u001b[0;34m\u001b[0m\u001b[0m\n\u001b[1;32m     77\u001b[0m \u001b[0;34m\u001b[0m\u001b[0m\n",
      "\u001b[0;31mKeyboardInterrupt\u001b[0m: "
     ]
    }
   ],
   "source": [
    "importlib.reload(training)\n",
    "test_loss_AAPNN, parameter_AAPNN = training.ParallelTrainingAAPNN(AAPNN,\n",
    "                                                                  train_loader, test_loader,\n",
    "                                                                  optimizer_AAPNN,\n",
    "                                                                  pnn.LossFunction, m, T,\n",
    "                                                                  M, K, M_test, K_test, Epoch=700)"
   ]
  },
  {
   "cell_type": "code",
   "execution_count": null,
   "id": "9da97f43",
   "metadata": {},
   "outputs": [],
   "source": [
    "plt.plot(test_loss_AAPNN);\n",
    "AAPNN.load_state_dict(parameter_AAPNN);"
   ]
  },
  {
   "cell_type": "markdown",
   "id": "88aae576-7040-4c99-8aab-c2d611acb10c",
   "metadata": {},
   "source": [
    "## save AAPNN"
   ]
  },
  {
   "cell_type": "code",
   "execution_count": 12,
   "id": "c9678c3e",
   "metadata": {},
   "outputs": [],
   "source": [
    "with open('./pendigitresult/AAPNN_16.p', 'wb') as f:\n",
    "    pickle.dump(AAPNN, f)"
   ]
  },
  {
   "cell_type": "markdown",
   "id": "406d739d",
   "metadata": {},
   "source": [
    "## read AAPNN"
   ]
  },
  {
   "cell_type": "code",
   "execution_count": 13,
   "id": "a1dbe07b-0c37-4eaf-8342-b2d16b2f2c9a",
   "metadata": {},
   "outputs": [],
   "source": [
    "with open('./pendigitresult/AAPNN_16.p', 'rb') as f:\n",
    "    AAPNN = pickle.load(f)"
   ]
  },
  {
   "cell_type": "markdown",
   "id": "8058c682",
   "metadata": {},
   "source": [
    "## Evaluation"
   ]
  },
  {
   "cell_type": "code",
   "execution_count": null,
   "id": "c7fdc2c8",
   "metadata": {},
   "outputs": [],
   "source": [
    "import evaluation\n",
    "mean_acc_AAPNN, std_acc_AAPNN, mean_maa_AAPNN, std_maa_AAPNN = evaluation.FullEvaluation(AAPNN, valid_loader)"
   ]
  },
  {
   "cell_type": "code",
   "execution_count": null,
   "id": "c5a6579d-bf1e-4e0a-b409-1aa3ca378945",
   "metadata": {},
   "outputs": [],
   "source": [
    "plt.fill_between(np.linspace(0,1,50), mean_acc_AAPNN-std_acc_AAPNN, mean_acc_AAPNN+std_acc_AAPNN, alpha=0.3, color='red');\n",
    "plt.plot(np.linspace(0,1,50), mean_acc_AAPNN, label='AAPNN', color='red');\n",
    "\n",
    "plt.xlabel('normalized time');\n",
    "plt.ylabel('basic accuracy');\n",
    "plt.xlim([0, 1]);\n",
    "plt.legend();"
   ]
  },
  {
   "cell_type": "code",
   "execution_count": null,
   "id": "fabae09a-3b1b-4d63-871d-b8a8e7dfb920",
   "metadata": {},
   "outputs": [],
   "source": [
    "plt.fill_between(np.linspace(0,1,50), mean_maa_AAPNN-std_maa_AAPNN, mean_maa_AAPNN+std_maa_AAPNN, alpha=0.3, color='red');\n",
    "plt.plot(np.linspace(0,1,50), mean_maa_AAPNN, label='AAPNN', color='red');\n",
    "\n",
    "plt.xlabel('normalized time');\n",
    "plt.ylabel('measureing aware accuracy');\n",
    "plt.xlim([0, 1]);\n",
    "plt.ylim([0, 1]);\n",
    "plt.legend();"
   ]
  },
  {
   "cell_type": "code",
   "execution_count": null,
   "id": "c3b89103-68b9-4907-919e-8cd836c13245",
   "metadata": {},
   "outputs": [],
   "source": []
  }
 ],
 "metadata": {
  "kernelspec": {
   "display_name": "MachineLearning",
   "language": "python",
   "name": "machinelearning"
  },
  "language_info": {
   "codemirror_mode": {
    "name": "ipython",
    "version": 3
   },
   "file_extension": ".py",
   "mimetype": "text/x-python",
   "name": "python",
   "nbconvert_exporter": "python",
   "pygments_lexer": "ipython3",
   "version": "3.8.12"
  },
  "toc": {
   "base_numbering": 1,
   "nav_menu": {},
   "number_sections": true,
   "sideBar": true,
   "skip_h1_title": false,
   "title_cell": "Table of Contents",
   "title_sidebar": "Contents",
   "toc_cell": false,
   "toc_position": {},
   "toc_section_display": true,
   "toc_window_display": true
  }
 },
 "nbformat": 4,
 "nbformat_minor": 5
}
