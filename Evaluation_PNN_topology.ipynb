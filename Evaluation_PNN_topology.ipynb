{
 "cells": [
  {
   "cell_type": "code",
   "execution_count": 1,
   "id": "db15e4b3",
   "metadata": {},
   "outputs": [],
   "source": [
    "from torch.autograd import Variable\n",
    "import torch\n",
    "import pickle\n",
    "import os\n",
    "import sys\n",
    "import matplotlib.pyplot as plt\n",
    "import numpy as np\n",
    "import evaluation_vectorization as ev\n",
    "import random\n",
    "import config\n",
    "\n",
    "sys.path.append(os.path.join(os.getcwd(), 'Aging_Model'))\n",
    "import FigureConfig as FC"
   ]
  },
  {
   "cell_type": "markdown",
   "id": "6ee1997d-b1eb-473b-9ade-ebcc8cc39364",
   "metadata": {},
   "source": [
    "# Device"
   ]
  },
  {
   "cell_type": "code",
   "execution_count": 2,
   "id": "736bb529-3d35-484b-b44c-6810ec362bd2",
   "metadata": {},
   "outputs": [
    {
     "data": {
      "text/plain": [
       "'cpu'"
      ]
     },
     "execution_count": 2,
     "metadata": {},
     "output_type": "execute_result"
    }
   ],
   "source": [
    "# device = torch.device('cuda' if torch.cuda.is_available() else 'cpu')\n",
    "# device = torch.device('cuda:0')\n",
    "device = 'cpu'\n",
    "device"
   ]
  },
  {
   "cell_type": "markdown",
   "id": "ee6997e0-dc56-4a5d-8d5e-fae1243e9f77",
   "metadata": {},
   "source": [
    "# Dataset"
   ]
  },
  {
   "cell_type": "code",
   "execution_count": 3,
   "id": "63ddb1ed-59cf-4fe1-ae3f-48be2a3e908d",
   "metadata": {},
   "outputs": [
    {
     "data": {
      "text/plain": [
       "'Seeds'"
      ]
     },
     "execution_count": 3,
     "metadata": {},
     "output_type": "execute_result"
    }
   ],
   "source": [
    "if config.current_dataset is not None:\n",
    "    ds = config.datasets[config.current_dataset]\n",
    "else:\n",
    "    ds = config.datasets[0]\n",
    "\n",
    "ds"
   ]
  },
  {
   "cell_type": "code",
   "execution_count": 4,
   "id": "ee64d8d7",
   "metadata": {},
   "outputs": [
    {
     "data": {
      "text/plain": [
       "(torch.Size([210, 7]), torch.Size([210]), 210, 7, 3)"
      ]
     },
     "execution_count": 4,
     "metadata": {},
     "output_type": "execute_result"
    }
   ],
   "source": [
    "datapath = os.path.join(config.path, f'Dataset_{ds}.p')\n",
    "with open(datapath, 'rb') as f:\n",
    "    dataset = pickle.load(f)\n",
    "X = dataset['X'].float()\n",
    "y = dataset['y']\n",
    "E, N_features, N_class = X.shape[0], X.shape[1], torch.max(\n",
    "    torch.unique(y)).item()+1\n",
    "X.shape, y.shape, E, N_features, N_class"
   ]
  },
  {
   "cell_type": "markdown",
   "id": "bddc925e-6683-4136-b459-29eda4e3544c",
   "metadata": {},
   "source": [
    "## Pseudo-electrical Signal"
   ]
  },
  {
   "cell_type": "code",
   "execution_count": 5,
   "id": "dd09c7a5",
   "metadata": {},
   "outputs": [
    {
     "data": {
      "text/plain": [
       "(tensor(0.), tensor(1.))"
      ]
     },
     "execution_count": 5,
     "metadata": {},
     "output_type": "execute_result"
    }
   ],
   "source": [
    "# normalization\n",
    "X = X - torch.min(X, axis=0)[0]\n",
    "X = X / torch.max(X, axis=0)[0]\n",
    "torch.min(X), torch.max(X)"
   ]
  },
  {
   "cell_type": "code",
   "execution_count": 6,
   "id": "bad80729",
   "metadata": {},
   "outputs": [
    {
     "data": {
      "text/plain": [
       "(126, 42, 42)"
      ]
     },
     "execution_count": 6,
     "metadata": {},
     "output_type": "execute_result"
    }
   ],
   "source": [
    "from torch.utils.data import TensorDataset\n",
    "from torch.utils.data import DataLoader\n",
    "from torch.utils.data import random_split\n",
    "\n",
    "# generate tensordataset\n",
    "dataset = TensorDataset(X.to(device), y.to(device))\n",
    "\n",
    "# split\n",
    "train_rate = 0.6\n",
    "valid_rate = 0.2\n",
    "test_rate = 0.2\n",
    "E_train = min(8096, int(E*train_rate))\n",
    "E_valid = min(2048, int(E*valid_rate))\n",
    "E_test = min(2048, int(E*test_rate))\n",
    "\n",
    "random.seed(config.data_split_seed);\n",
    "np.random.seed(config.data_split_seed);\n",
    "torch.manual_seed(config.data_split_seed);\n",
    "\n",
    "train_data, rest_data = random_split(dataset, [E_train, E-E_train])\n",
    "valid_data, rest_data = random_split(rest_data, [E_valid, E-E_train-E_valid])\n",
    "test_data, rest_data = random_split(rest_data, [E_test, E-E_train-E_valid-E_test])\n",
    "\n",
    "len(train_data), len(valid_data), len(test_data)"
   ]
  },
  {
   "cell_type": "code",
   "execution_count": 7,
   "id": "dbe0bdeb",
   "metadata": {},
   "outputs": [],
   "source": [
    "# batch\n",
    "train_loader = DataLoader(train_data, batch_size=len(train_data))\n",
    "valid_loader = DataLoader(valid_data, batch_size=len(valid_data))\n",
    "test_loader = DataLoader(test_data, batch_size=len(test_data))"
   ]
  },
  {
   "cell_type": "markdown",
   "id": "e0d84ed3",
   "metadata": {},
   "source": [
    "# Evaluation"
   ]
  },
  {
   "cell_type": "markdown",
   "id": "ba9299f5-ed31-46e2-991f-e69004f47608",
   "metadata": {},
   "source": [
    "## Load Models"
   ]
  },
  {
   "cell_type": "code",
   "execution_count": 8,
   "id": "391d962c-56b7-4e21-9b95-06a234564425",
   "metadata": {},
   "outputs": [
    {
     "data": {
      "application/vnd.jupyter.widget-view+json": {
       "model_id": "d4cca31b45ac4b0b8a5dd0b0861c7c7b",
       "version_major": 2,
       "version_minor": 0
      },
      "text/plain": [
       "  0%|          | 0/10 [00:00<?, ?it/s]"
      ]
     },
     "metadata": {},
     "output_type": "display_data"
    },
    {
     "name": "stdout",
     "output_type": "stream",
     "text": [
      "0.0651492103934288\n"
     ]
    },
    {
     "data": {
      "application/vnd.jupyter.widget-view+json": {
       "model_id": "67a4217e8d0c4ddfac19979bf89b6e39",
       "version_major": 2,
       "version_minor": 0
      },
      "text/plain": [
       "  0%|          | 0/10 [00:00<?, ?it/s]"
      ]
     },
     "metadata": {},
     "output_type": "display_data"
    },
    {
     "name": "stdout",
     "output_type": "stream",
     "text": [
      "0.06682627648115158\n"
     ]
    },
    {
     "data": {
      "application/vnd.jupyter.widget-view+json": {
       "model_id": "340539a5d0794270b0a19f666def7582",
       "version_major": 2,
       "version_minor": 0
      },
      "text/plain": [
       "  0%|          | 0/10 [00:00<?, ?it/s]"
      ]
     },
     "metadata": {},
     "output_type": "display_data"
    },
    {
     "name": "stdout",
     "output_type": "stream",
     "text": [
      "0.06542879343032837\n"
     ]
    },
    {
     "data": {
      "application/vnd.jupyter.widget-view+json": {
       "model_id": "86cb35ab45a244d3be23083bdd07ba61",
       "version_major": 2,
       "version_minor": 0
      },
      "text/plain": [
       "  0%|          | 0/10 [00:00<?, ?it/s]"
      ]
     },
     "metadata": {},
     "output_type": "display_data"
    },
    {
     "name": "stdout",
     "output_type": "stream",
     "text": [
      "0.11569533497095108\n"
     ]
    },
    {
     "data": {
      "application/vnd.jupyter.widget-view+json": {
       "model_id": "1442b58eb3fb40d69407a6c20255c26f",
       "version_major": 2,
       "version_minor": 0
      },
      "text/plain": [
       "  0%|          | 0/10 [00:00<?, ?it/s]"
      ]
     },
     "metadata": {},
     "output_type": "display_data"
    },
    {
     "name": "stdout",
     "output_type": "stream",
     "text": [
      "0.05586424842476845\n"
     ]
    },
    {
     "data": {
      "application/vnd.jupyter.widget-view+json": {
       "model_id": "b5c3d65e64914a668ec75f993a3672e8",
       "version_major": 2,
       "version_minor": 0
      },
      "text/plain": [
       "  0%|          | 0/10 [00:00<?, ?it/s]"
      ]
     },
     "metadata": {},
     "output_type": "display_data"
    },
    {
     "name": "stdout",
     "output_type": "stream",
     "text": [
      "0.10081654787063599\n"
     ]
    },
    {
     "data": {
      "application/vnd.jupyter.widget-view+json": {
       "model_id": "921aac85c9f941238edaaa79a64683d9",
       "version_major": 2,
       "version_minor": 0
      },
      "text/plain": [
       "  0%|          | 0/10 [00:00<?, ?it/s]"
      ]
     },
     "metadata": {},
     "output_type": "display_data"
    },
    {
     "name": "stdout",
     "output_type": "stream",
     "text": [
      "0.058473363518714905\n"
     ]
    },
    {
     "data": {
      "application/vnd.jupyter.widget-view+json": {
       "model_id": "11deb551dbb7491daa81ada78f14313b",
       "version_major": 2,
       "version_minor": 0
      },
      "text/plain": [
       "  0%|          | 0/10 [00:00<?, ?it/s]"
      ]
     },
     "metadata": {},
     "output_type": "display_data"
    },
    {
     "name": "stdout",
     "output_type": "stream",
     "text": [
      "0.0780029371380806\n"
     ]
    },
    {
     "data": {
      "application/vnd.jupyter.widget-view+json": {
       "model_id": "95129301fae04a8c9327a41e564a4e23",
       "version_major": 2,
       "version_minor": 0
      },
      "text/plain": [
       "  0%|          | 0/10 [00:00<?, ?it/s]"
      ]
     },
     "metadata": {},
     "output_type": "display_data"
    },
    {
     "name": "stdout",
     "output_type": "stream",
     "text": [
      "0.053644631057977676\n"
     ]
    },
    {
     "data": {
      "application/vnd.jupyter.widget-view+json": {
       "model_id": "adc2a2a7a6534c38b3ae5efa96911018",
       "version_major": 2,
       "version_minor": 0
      },
      "text/plain": [
       "  0%|          | 0/10 [00:00<?, ?it/s]"
      ]
     },
     "metadata": {},
     "output_type": "display_data"
    },
    {
     "name": "stdout",
     "output_type": "stream",
     "text": [
      "0.09367106854915619\n"
     ]
    }
   ],
   "source": [
    "accs = []\n",
    "losses = []\n",
    "\n",
    "for seed in range(10):\n",
    "    with open(f'./result/topology/6{config.Topology}3/{ds}_PNN_{seed}.p', 'rb') as f:\n",
    "        PNN = pickle.load(f)\n",
    "    PNN.to(device)\n",
    "    \n",
    "    random.seed(0);\n",
    "    np.random.seed(0);\n",
    "    torch.manual_seed(0);\n",
    "\n",
    "    structure = ev.GetStructure(PNN)\n",
    "    \n",
    "    mean_acc_PNN, std_acc_PNN, mean_maa_PNN, std_maa_PNN, loss = ev.Evaluation(PNN, valid_loader, config.M_test, int(config.M_test/10), config.K_test, device)\n",
    "    accs.append(np.mean(mean_acc_PNN))\n",
    "    losses.append(loss)\n",
    "    print(loss)"
   ]
  },
  {
   "cell_type": "code",
   "execution_count": 9,
   "id": "02c40172-f714-4e1f-922f-4fcfc86f1cd7",
   "metadata": {},
   "outputs": [
    {
     "data": {
      "text/plain": [
       "8"
      ]
     },
     "execution_count": 9,
     "metadata": {},
     "output_type": "execute_result"
    }
   ],
   "source": [
    "best_seed = np.argmin(losses)\n",
    "best_seed"
   ]
  },
  {
   "cell_type": "code",
   "execution_count": 10,
   "id": "9fea1316-6d8e-485c-98d6-821dfbcc10a2",
   "metadata": {},
   "outputs": [
    {
     "data": {
      "text/plain": [
       "0.053644631057977676"
      ]
     },
     "execution_count": 10,
     "metadata": {},
     "output_type": "execute_result"
    }
   ],
   "source": [
    "losses[best_seed]"
   ]
  },
  {
   "cell_type": "code",
   "execution_count": 11,
   "id": "2d0fdf2e-359a-4590-acbd-2eabca6c90f7",
   "metadata": {},
   "outputs": [
    {
     "data": {
      "text/plain": [
       "Sequential(\n",
       "  (0): PNNLayer()\n",
       "  (1): PNNLayer()\n",
       ")"
      ]
     },
     "execution_count": 11,
     "metadata": {},
     "output_type": "execute_result"
    }
   ],
   "source": [
    "with open(f'./result/topology/6{config.Topology}3/{ds}_PNN_{best_seed}.p', 'rb') as f:\n",
    "    PNN = pickle.load(f)\n",
    "PNN.to(device)"
   ]
  },
  {
   "cell_type": "code",
   "execution_count": 12,
   "id": "6ab18cd0-bbd8-4fbb-b90e-81fd90a52eb1",
   "metadata": {},
   "outputs": [
    {
     "data": {
      "application/vnd.jupyter.widget-view+json": {
       "model_id": "f42091e4cc674081a679c4241462c826",
       "version_major": 2,
       "version_minor": 0
      },
      "text/plain": [
       "  0%|          | 0/10 [00:00<?, ?it/s]"
      ]
     },
     "metadata": {},
     "output_type": "display_data"
    }
   ],
   "source": [
    "mean_acc_PNN, std_acc_PNN, mean_maa_PNN, std_maa_PNN, loss = ev.Evaluation(PNN, test_loader, config.M_test, int(config.M_test/10), config.K_test, device)"
   ]
  },
  {
   "cell_type": "code",
   "execution_count": 13,
   "id": "4f3040bd-1712-46e6-981b-ada6c398baaa",
   "metadata": {},
   "outputs": [
    {
     "data": {
      "text/plain": [
       "0.0988769605755806"
      ]
     },
     "execution_count": 13,
     "metadata": {},
     "output_type": "execute_result"
    }
   ],
   "source": [
    "loss"
   ]
  },
  {
   "cell_type": "code",
   "execution_count": 14,
   "id": "9540fac0-790a-45dd-acd4-8cb003c81ed2",
   "metadata": {},
   "outputs": [],
   "source": [
    "np.savetxt(f'./result/topology/6{config.Topology}3/{ds}_PNN_ACC_{best_seed}_{int(np.mean(mean_acc_PNN)*1000)}.txt', np.vstack((mean_acc_PNN, std_acc_PNN)))\n",
    "np.savetxt(f'./result/topology/6{config.Topology}3/{ds}_PNN_MAA_{best_seed}_{int(np.mean(mean_maa_PNN)*1000)}.txt', np.vstack((mean_maa_PNN, std_maa_PNN)))"
   ]
  },
  {
   "cell_type": "code",
   "execution_count": 15,
   "id": "0d55f702-8e0b-4943-8cc4-c9ce1cbb213c",
   "metadata": {},
   "outputs": [
    {
     "data": {
      "text/plain": [
       "(array([0.9523849 , 0.9278556 , 0.88771284, 0.8385706 , 0.791952  ,\n",
       "        0.75295234, 0.72161883, 0.699857  , 0.6835715 , 0.6721429 ,\n",
       "        0.66333336, 0.6582378 , 0.65623784, 0.65433335, 0.65476227,\n",
       "        0.65566695, 0.6571432 , 0.6595717 , 0.6615237 , 0.66338074,\n",
       "        0.66590494, 0.66790503, 0.6696668 , 0.6712855 , 0.67414284,\n",
       "        0.675524  , 0.676762  , 0.67780954, 0.6782382 , 0.67819065,\n",
       "        0.678143  , 0.6785241 , 0.6787142 , 0.67919016, 0.68004715,\n",
       "        0.68080926, 0.6814759 , 0.6816187 , 0.6821902 , 0.6829997 ,\n",
       "        0.6830948 , 0.6831902 , 0.68366617, 0.6843806 , 0.6851899 ,\n",
       "        0.6849517 , 0.68518984, 0.6848565 , 0.6852848 , 0.685761  ],\n",
       "       dtype=float32),\n",
       " array([3.9339066e-06, 2.4059355e-02, 6.3296288e-02, 1.0067675e-01,\n",
       "        1.2958466e-01, 1.5043893e-01, 1.6330130e-01, 1.7116177e-01,\n",
       "        1.7614204e-01, 1.7842372e-01, 1.7924704e-01, 1.7987885e-01,\n",
       "        1.7970443e-01, 1.8106157e-01, 1.8083017e-01, 1.8071501e-01,\n",
       "        1.8094613e-01, 1.7973462e-01, 1.7906490e-01, 1.7852210e-01,\n",
       "        1.7734329e-01, 1.7785145e-01, 1.7713091e-01, 1.7695516e-01,\n",
       "        1.7710745e-01, 1.7654020e-01, 1.7735800e-01, 1.7741692e-01,\n",
       "        1.7806248e-01, 1.7804310e-01, 1.7774999e-01, 1.7730346e-01,\n",
       "        1.7756522e-01, 1.7732783e-01, 1.7737404e-01, 1.7774916e-01,\n",
       "        1.7766295e-01, 1.7729633e-01, 1.7689505e-01, 1.7690243e-01,\n",
       "        1.7703447e-01, 1.7738399e-01, 1.7728136e-01, 1.7684959e-01,\n",
       "        1.7667370e-01, 1.7674014e-01, 1.7704551e-01, 1.7746688e-01,\n",
       "        1.7789151e-01, 1.7790470e-01], dtype=float32))"
      ]
     },
     "execution_count": 15,
     "metadata": {},
     "output_type": "execute_result"
    }
   ],
   "source": [
    "mean_maa_PNN, std_maa_PNN"
   ]
  },
  {
   "cell_type": "code",
   "execution_count": 16,
   "id": "68dc9c70-569e-410c-b4af-5758e6b82384",
   "metadata": {},
   "outputs": [],
   "source": [
    "if losses[best_seed]==0:\n",
    "    if loss==0:\n",
    "        overfitting = 1\n",
    "    else:\n",
    "        overfitting = 10000\n",
    "else:\n",
    "    overfitting = loss/losses[best_seed]\n",
    "np.savetxt(f'./result/topology/6{config.Topology}3/{ds}_PNN_loss.txt', np.array([losses[best_seed], loss, overfitting]), fmt='%.10f')"
   ]
  },
  {
   "cell_type": "code",
   "execution_count": 17,
   "id": "d2c8d38e-a040-415c-a739-3a77d032bcb1",
   "metadata": {},
   "outputs": [
    {
     "data": {
      "text/plain": [
       "1.8431846510178629"
      ]
     },
     "execution_count": 17,
     "metadata": {},
     "output_type": "execute_result"
    }
   ],
   "source": [
    "overfitting"
   ]
  },
  {
   "cell_type": "code",
   "execution_count": null,
   "id": "4bf7d7b7-af5e-44d2-97c5-54e577413752",
   "metadata": {},
   "outputs": [],
   "source": []
  }
 ],
 "metadata": {
  "kernelspec": {
   "display_name": "MachineLearning",
   "language": "python",
   "name": "machinelearning"
  },
  "language_info": {
   "codemirror_mode": {
    "name": "ipython",
    "version": 3
   },
   "file_extension": ".py",
   "mimetype": "text/x-python",
   "name": "python",
   "nbconvert_exporter": "python",
   "pygments_lexer": "ipython3",
   "version": "3.8.12"
  },
  "toc": {
   "base_numbering": 1,
   "nav_menu": {},
   "number_sections": true,
   "sideBar": true,
   "skip_h1_title": false,
   "title_cell": "Table of Contents",
   "title_sidebar": "Contents",
   "toc_cell": false,
   "toc_position": {},
   "toc_section_display": true,
   "toc_window_display": false
  }
 },
 "nbformat": 4,
 "nbformat_minor": 5
}
