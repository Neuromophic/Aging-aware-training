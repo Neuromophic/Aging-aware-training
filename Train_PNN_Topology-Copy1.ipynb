{
 "cells": [
  {
   "cell_type": "markdown",
   "id": "e0f1319a",
   "metadata": {},
   "source": [
    "# Aging Aware with Model Variation\n",
    "Previously, we optimize the following functional:\n",
    "$$ \\min_\\theta \\, \\int_{t=0}^{1} \\; L(\\theta(t)) \\, {\\rm d}t. $$\n",
    "The optimum is for a specific aging model $\\omega$, i.e., we minimized the \n",
    "$$ \\min_\\theta \\, \\int_{t=0}^{1} \\; L(\\theta(t,\\omega)) \\, {\\rm d}t. $$\n",
    "However, we dont know how will the resistance decay, i.e., we should also minimize the loss function w.r.t. aging models with different parameters. That means we need to optimized\n",
    "$$ \\min_\\theta \\, \\int_{\\omega}\\int_{t=0}^{1} \\; L(\\theta(t,\\omega)) \\, {\\rm d}t\\, p(\\omega){\\rm d}\\omega. $$\n",
    "The Mento Carlo Approximation is then\n",
    "$$\n",
    "\\min_{\\theta_{\\rm init}} \\frac{1}{\\Omega}\\frac{1}{K}\\sum_{\\omega\\in\\mathfrak{M}}\\sum_{k\\in \\mathfrak{K} } L \\left(\\theta[k, \\omega]\\right),\n",
    "$$\n",
    "where $\\mathfrak{M}$ is the set of $\\Omega$ elements following the distribution $p(\\omega)$. $p(\\omega)$ is the distributions of parameters of the aging model. We have already obtained these distributions as we modeled the aging decay.\n",
    "\n",
    "That means we should optimize this problem by\n",
    "$$\n",
    "\\begin{align}\n",
    "\\theta_{\\rm init}&:=\\theta_{\\rm init} - \\alpha\\cdot\\nabla_{\\theta_{\\rm init}}\\left(\\frac{1}{\\Omega}\\frac{1}{K}\\sum_{\\omega\\in\\mathfrak{M}}\\sum_{k\\in \\mathfrak{K} } L \\left(\\theta[k, \\omega]\\right)\\right)\\\\\n",
    "&=\\theta_{\\rm init} - \\frac{\\alpha}{\\Omega K}\\cdot\\nabla_{\\theta_{\\rm init}}\\left(\\sum_{\\omega\\in\\mathfrak{M}}\\sum_{k\\in \\mathfrak{K} } L \\left(\\theta[k, \\omega]\\right)\\right)\\\\\n",
    "&=\\theta_{\\rm init} - \\frac{\\alpha}{\\Omega K}\\left(\\sum_{\\omega\\in\\mathfrak{M}}\\sum_{k\\in \\mathfrak{K} }\\nabla_{\\theta_{\\rm init}} L \\left(\\theta[k, \\omega]\\right)\\right)\n",
    "\\end{align}\n",
    "$$"
   ]
  },
  {
   "cell_type": "markdown",
   "id": "eab183f8",
   "metadata": {},
   "source": [
    "# Import library"
   ]
  },
  {
   "cell_type": "code",
   "execution_count": 1,
   "id": "0bc40b33",
   "metadata": {},
   "outputs": [],
   "source": [
    "import importlib\n",
    "from torch.autograd import Variable\n",
    "import torch\n",
    "import pickle\n",
    "import os\n",
    "import sys\n",
    "import matplotlib.pyplot as plt\n",
    "import numpy as np\n",
    "import pNN_aging_aware_vectorization as pnnv\n",
    "import training_vectorization as tv\n",
    "import random\n",
    "import config\n",
    "import evaluation_vectorization as ev\n",
    "sys.path.append(os.path.join(os.getcwd(), 'Aging_Model'))"
   ]
  },
  {
   "cell_type": "markdown",
   "id": "af93c27e-7559-466e-9a0f-084e03f0c576",
   "metadata": {},
   "source": [
    "# Random Seed"
   ]
  },
  {
   "cell_type": "code",
   "execution_count": 2,
   "id": "66785455-86c3-4e9a-a35e-4bd3c3f465eb",
   "metadata": {},
   "outputs": [],
   "source": [
    "seed = 1"
   ]
  },
  {
   "cell_type": "markdown",
   "id": "9b31036f-1808-460e-a011-acd675130bb5",
   "metadata": {},
   "source": [
    "# Get Aging Model"
   ]
  },
  {
   "cell_type": "code",
   "execution_count": 3,
   "id": "ba549dc5-0e02-4b8d-aefa-05764dfcfde6",
   "metadata": {},
   "outputs": [],
   "source": [
    "with open(os.path.join(os.getcwd(), 'Aging_Model', 'exp_aging_model.p'), 'rb') as f:\n",
    "    age_generator = pickle.load(f)"
   ]
  },
  {
   "cell_type": "markdown",
   "id": "1026bd3c",
   "metadata": {},
   "source": [
    "# Device"
   ]
  },
  {
   "cell_type": "code",
   "execution_count": 4,
   "id": "b0e91163",
   "metadata": {},
   "outputs": [
    {
     "data": {
      "text/plain": [
       "'cpu'"
      ]
     },
     "execution_count": 4,
     "metadata": {},
     "output_type": "execute_result"
    }
   ],
   "source": [
    "# device = torch.device('cuda' if torch.cuda.is_available() else 'cpu')\n",
    "# device = torch.device('cuda:0')\n",
    "device = 'cpu'\n",
    "device"
   ]
  },
  {
   "cell_type": "markdown",
   "id": "15519567",
   "metadata": {},
   "source": [
    "# Prepare data"
   ]
  },
  {
   "cell_type": "markdown",
   "id": "f224be26-e399-42a8-9c96-e285490e8916",
   "metadata": {},
   "source": [
    "## Dataset"
   ]
  },
  {
   "cell_type": "code",
   "execution_count": 5,
   "id": "92014c65-5b5c-4b61-93ef-30f044282eb3",
   "metadata": {},
   "outputs": [
    {
     "data": {
      "text/plain": [
       "'Seeds'"
      ]
     },
     "execution_count": 5,
     "metadata": {},
     "output_type": "execute_result"
    }
   ],
   "source": [
    "if config.current_dataset is not None:\n",
    "    ds = config.datasets[config.current_dataset]\n",
    "else:\n",
    "    ds = config.datasets[0]\n",
    "\n",
    "ds"
   ]
  },
  {
   "cell_type": "markdown",
   "id": "3f9b925b",
   "metadata": {},
   "source": [
    "## Load data"
   ]
  },
  {
   "cell_type": "code",
   "execution_count": 6,
   "id": "fd3f8c31",
   "metadata": {},
   "outputs": [
    {
     "data": {
      "text/plain": [
       "(torch.Size([210, 7]), torch.Size([210]), 210, 7, 3)"
      ]
     },
     "execution_count": 6,
     "metadata": {},
     "output_type": "execute_result"
    }
   ],
   "source": [
    "datapath = os.path.join(os.getcwd(), 'Datasets',\n",
    "                        'dataset_processed', f'Dataset_{ds}.p')\n",
    "with open(datapath, 'rb') as f:\n",
    "    dataset = pickle.load(f)\n",
    "X = dataset['X'].float()\n",
    "y = dataset['y']\n",
    "\n",
    "E, N_features, N_class = X.shape[0], X.shape[1], torch.max(\n",
    "    torch.unique(y)).item()+1\n",
    "X.shape, y.shape, E, N_features, N_class"
   ]
  },
  {
   "cell_type": "markdown",
   "id": "35adbc19",
   "metadata": {},
   "source": [
    "## Pseudo-electrical Signal"
   ]
  },
  {
   "cell_type": "code",
   "execution_count": 7,
   "id": "ea0969cc",
   "metadata": {},
   "outputs": [
    {
     "data": {
      "text/plain": [
       "(tensor(0.), tensor(1.))"
      ]
     },
     "execution_count": 7,
     "metadata": {},
     "output_type": "execute_result"
    }
   ],
   "source": [
    "X = X - torch.min(X, axis=0)[0]\n",
    "X = X / (torch.max(X, axis=0)[0])\n",
    "torch.min(X), torch.max(X)"
   ]
  },
  {
   "cell_type": "code",
   "execution_count": 8,
   "id": "9d04d54b",
   "metadata": {},
   "outputs": [
    {
     "data": {
      "text/plain": [
       "tensor([[0.4410, 0.5021, 0.5708, 0.4865, 0.4861, 0.1893, 0.3452],\n",
       "        [0.4051, 0.4463, 0.6624, 0.3688, 0.5011, 0.0329, 0.2152],\n",
       "        [0.3494, 0.3471, 0.8793, 0.2207, 0.5039, 0.2515, 0.1507],\n",
       "        [0.3069, 0.3161, 0.7931, 0.2393, 0.5339, 0.1942, 0.1408],\n",
       "        [0.5241, 0.5331, 0.8648, 0.4274, 0.6643, 0.0767, 0.3230],\n",
       "        [0.3579, 0.3719, 0.7895, 0.2742, 0.4861, 0.2206, 0.2152],\n",
       "        [0.3872, 0.4298, 0.6515, 0.3739, 0.4483, 0.3668, 0.3447],\n",
       "        [0.3324, 0.3492, 0.7532, 0.2934, 0.4790, 0.2516, 0.2368],\n",
       "        [0.5704, 0.6302, 0.6044, 0.6498, 0.5952, 0.1658, 0.6686],\n",
       "        [0.5524, 0.5868, 0.7250, 0.5546, 0.6237, 0.1565, 0.4993]])"
      ]
     },
     "execution_count": 8,
     "metadata": {},
     "output_type": "execute_result"
    }
   ],
   "source": [
    "X[:10, :9]"
   ]
  },
  {
   "cell_type": "code",
   "execution_count": 9,
   "id": "6d30ecfc",
   "metadata": {},
   "outputs": [
    {
     "data": {
      "text/plain": [
       "(126, 42, 42)"
      ]
     },
     "execution_count": 9,
     "metadata": {},
     "output_type": "execute_result"
    }
   ],
   "source": [
    "from torch.utils.data import TensorDataset\n",
    "from torch.utils.data import DataLoader\n",
    "from torch.utils.data import random_split\n",
    "\n",
    "# generate tensordataset\n",
    "dataset = TensorDataset(X.to(device), y.to(device))\n",
    "\n",
    "# split\n",
    "train_rate = 0.6\n",
    "valid_rate = 0.2\n",
    "test_rate = 0.2\n",
    "E_train = min(8192, int(E*train_rate))\n",
    "E_valid = min(2048, int(E*valid_rate))\n",
    "E_test = min(2048, int(E*test_rate))\n",
    "\n",
    "random.seed(config.data_split_seed);\n",
    "np.random.seed(config.data_split_seed);\n",
    "torch.manual_seed(config.data_split_seed);\n",
    "\n",
    "train_data, rest_data = random_split(dataset, [E_train, E-E_train])\n",
    "valid_data, rest_data = random_split(rest_data, [E_valid, E-E_train-E_valid])\n",
    "test_data, rest_data = random_split(rest_data, [E_test, E-E_train-E_valid-E_test])\n",
    "\n",
    "len(train_data), len(valid_data), len(test_data)"
   ]
  },
  {
   "cell_type": "code",
   "execution_count": 10,
   "id": "4f8988b7",
   "metadata": {},
   "outputs": [],
   "source": [
    "# batch\n",
    "train_loader = DataLoader(train_data, batch_size=len(train_data))\n",
    "valid_loader = DataLoader(valid_data, batch_size=len(valid_data))\n",
    "test_loader = DataLoader(test_data, batch_size=len(test_data))"
   ]
  },
  {
   "cell_type": "markdown",
   "id": "5c65c580",
   "metadata": {},
   "source": [
    "# Normal PNN"
   ]
  },
  {
   "cell_type": "code",
   "execution_count": 11,
   "id": "97e02e26-c3e0-437b-85ed-85a4e56dfeac",
   "metadata": {},
   "outputs": [],
   "source": [
    "random.seed(seed);\n",
    "np.random.seed(seed);\n",
    "torch.manual_seed(seed);"
   ]
  },
  {
   "cell_type": "markdown",
   "id": "11fcb7de",
   "metadata": {},
   "source": [
    "## Define"
   ]
  },
  {
   "cell_type": "code",
   "execution_count": 12,
   "id": "098714b2",
   "metadata": {},
   "outputs": [
    {
     "data": {
      "text/plain": [
       "Sequential(\n",
       "  (0): PNNLayer()\n",
       "  (1): PNNLayer()\n",
       ")"
      ]
     },
     "execution_count": 12,
     "metadata": {},
     "output_type": "execute_result"
    }
   ],
   "source": [
    "PNN = torch.nn.Sequential(pnnv.PNNLayer(N_features, config.Topology, age_generator, xpu=device),\n",
    "                         pnnv.PNNLayer(config.Topology, N_class, age_generator, xpu=device))\n",
    "\n",
    "PNN.apply(lambda z: pnnv.MakeModel(z, M=1))\n",
    "PNN.apply(lambda z: pnnv.SetTime(z, t=[0]))\n",
    "\n",
    "PNN.to(device)"
   ]
  },
  {
   "cell_type": "markdown",
   "id": "8eb6a0c4-b427-4278-b855-0c6f78ba5b8d",
   "metadata": {},
   "source": [
    "## Training"
   ]
  },
  {
   "cell_type": "code",
   "execution_count": 13,
   "id": "b248e211",
   "metadata": {},
   "outputs": [
    {
     "data": {
      "application/vnd.jupyter.widget-view+json": {
       "model_id": "b023333dc877482183cfb56d570909f7",
       "version_major": 2,
       "version_minor": 0
      },
      "text/plain": [
       "  0%|          | 0/50000 [00:00<?, ?it/s]"
      ]
     },
     "metadata": {},
     "output_type": "display_data"
    },
    {
     "name": "stdout",
     "output_type": "stream",
     "text": [
      "| Epoch:     0 | Accuracy: 0.33333 | Loss: 1.026253343 |\n",
      "| Epoch:   500 | Accuracy: 0.95238 | Loss: 0.100909986 |\n",
      "| Epoch:  1000 | Accuracy: 0.97619 | Loss: 0.079863086 |\n",
      "| Epoch:  1500 | Accuracy: 0.97619 | Loss: 0.075504482 |\n",
      "| Epoch:  2000 | Accuracy: 0.97619 | Loss: 0.074477695 |\n",
      "| Epoch:  2500 | Accuracy: 0.97619 | Loss: 0.080929771 |\n",
      "| Epoch:  3000 | Accuracy: 0.97619 | Loss: 0.080929771 |\n",
      "| Epoch:  3500 | Accuracy: 0.97619 | Loss: 0.080929771 |\n",
      "| Epoch:  4000 | Accuracy: 0.97619 | Loss: 0.080929771 |\n",
      "| Epoch:  4500 | Accuracy: 0.97619 | Loss: 0.080929771 |\n",
      "| Epoch:  5000 | Accuracy: 0.97619 | Loss: 0.080929771 |\n",
      "| Epoch:  5500 | Accuracy: 0.97619 | Loss: 0.080929771 |\n",
      "| Epoch:  6000 | Accuracy: 0.97619 | Loss: 0.080929771 |\n",
      "| Epoch:  6500 | Accuracy: 0.97619 | Loss: 0.080929771 |\n",
      "| Epoch:  7000 | Accuracy: 0.97619 | Loss: 0.080929771 |\n",
      "| Epoch:  7500 | Accuracy: 0.97619 | Loss: 0.080929771 |\n",
      "| Epoch:  8000 | Accuracy: 0.97619 | Loss: 0.080929771 |\n",
      "| Epoch:  8500 | Accuracy: 0.97619 | Loss: 0.080929771 |\n",
      "| Epoch:  9000 | Accuracy: 0.97619 | Loss: 0.080929771 |\n",
      "| Epoch:  9500 | Accuracy: 0.97619 | Loss: 0.080929771 |\n",
      "| Epoch: 10000 | Accuracy: 0.97619 | Loss: 0.080929771 |\n",
      "| Epoch: 10500 | Accuracy: 0.97619 | Loss: 0.080929771 |\n",
      "| Epoch: 11000 | Accuracy: 0.97619 | Loss: 0.080929771 |\n",
      "| Epoch: 11500 | Accuracy: 0.97619 | Loss: 0.080929771 |\n",
      "| Epoch: 12000 | Accuracy: 0.97619 | Loss: 0.080929771 |\n",
      "| Epoch: 12500 | Accuracy: 0.97619 | Loss: 0.080929771 |\n",
      "| Epoch: 13000 | Accuracy: 0.97619 | Loss: 0.080929771 |\n",
      "| Epoch: 13500 | Accuracy: 0.97619 | Loss: 0.080929771 |\n",
      "| Epoch: 14000 | Accuracy: 0.97619 | Loss: 0.080929771 |\n",
      "| Epoch: 14500 | Accuracy: 0.97619 | Loss: 0.080929771 |\n",
      "| Epoch: 15000 | Accuracy: 0.97619 | Loss: 0.080929771 |\n",
      "| Epoch: 15500 | Accuracy: 0.97619 | Loss: 0.080929771 |\n",
      "| Epoch: 16000 | Accuracy: 0.97619 | Loss: 0.080929771 |\n",
      "| Epoch: 16500 | Accuracy: 0.97619 | Loss: 0.080929771 |\n",
      "| Epoch: 17000 | Accuracy: 0.97619 | Loss: 0.080929771 |\n",
      "| Epoch: 17500 | Accuracy: 0.97619 | Loss: 0.080929771 |\n",
      "| Epoch: 18000 | Accuracy: 0.97619 | Loss: 0.080929771 |\n",
      "| Epoch: 18500 | Accuracy: 0.97619 | Loss: 0.080929771 |\n",
      "| Epoch: 19000 | Accuracy: 0.97619 | Loss: 0.080929771 |\n",
      "| Epoch: 19500 | Accuracy: 0.97619 | Loss: 0.080929771 |\n",
      "| Epoch: 20000 | Accuracy: 0.97619 | Loss: 0.080929771 |\n",
      "Early stop.\n",
      "Finished.\n"
     ]
    }
   ],
   "source": [
    "optimizer_PNN = torch.optim.Adam(PNN.parameters(), lr=config.lr)\n",
    "train_loader = DataLoader(train_data, batch_size=len(train_data))\n",
    "train_loss_PNN, valid_loss_PNN, parameter_PNN = tv.train_normal_pnn(PNN, train_loader, valid_loader,\n",
    "                                                                   config.m, config.T, optimizer_PNN,\n",
    "                                                                   pnnv.LossFunction, Epoch=50000, cache=ds)"
   ]
  },
  {
   "cell_type": "code",
   "execution_count": 14,
   "id": "9c2022fb-151b-40de-8e57-5d56e24460e3",
   "metadata": {},
   "outputs": [
    {
     "data": {
      "text/plain": [
       "(1821, 0.06682631373405457)"
      ]
     },
     "execution_count": 14,
     "metadata": {},
     "output_type": "execute_result"
    },
    {
     "data": {
      "image/png": "[encoded data removed]",
      "text/plain": [
       "<Figure size 432x288 with 1 Axes>"
      ]
     },
     "metadata": {
      "needs_background": "light"
     },
     "output_type": "display_data"
    }
   ],
   "source": [
    "plt.plot(train_loss_PNN, '-', label='train')\n",
    "plt.plot(valid_loss_PNN, '--', label='valid')\n",
    "plt.legend()\n",
    "best = np.argmin(valid_loss_PNN)\n",
    "PNN.load_state_dict(parameter_PNN)\n",
    "best, valid_loss_PNN[best]"
   ]
  },
  {
   "cell_type": "markdown",
   "id": "bbef757b-0f2d-4e54-93dd-8f60121ca948",
   "metadata": {},
   "source": [
    "## Save Model"
   ]
  },
  {
   "cell_type": "code",
   "execution_count": 15,
   "id": "13a6ddc5-4d1c-4371-9b7d-b78844405e87",
   "metadata": {},
   "outputs": [],
   "source": [
    "with open(f'./result/topology/6{config.Topology}3/{ds}_PNN_{seed}.p', 'wb') as f:\n",
    "    pickle.dump(PNN, f)"
   ]
  },
  {
   "cell_type": "code",
   "execution_count": null,
   "id": "7302236f-5266-4148-8990-d68efabaae87",
   "metadata": {},
   "outputs": [],
   "source": []
  }
 ],
 "metadata": {
  "kernelspec": {
   "display_name": "MachineLearning",
   "language": "python",
   "name": "machinelearning"
  },
  "language_info": {
   "codemirror_mode": {
    "name": "ipython",
    "version": 3
   },
   "file_extension": ".py",
   "mimetype": "text/x-python",
   "name": "python",
   "nbconvert_exporter": "python",
   "pygments_lexer": "ipython3",
   "version": "3.8.12"
  },
  "toc": {
   "base_numbering": 1,
   "nav_menu": {},
   "number_sections": true,
   "sideBar": true,
   "skip_h1_title": false,
   "title_cell": "Table of Contents",
   "title_sidebar": "Contents",
   "toc_cell": false,
   "toc_position": {},
   "toc_section_display": true,
   "toc_window_display": true
  }
 },
 "nbformat": 4,
 "nbformat_minor": 5
}
