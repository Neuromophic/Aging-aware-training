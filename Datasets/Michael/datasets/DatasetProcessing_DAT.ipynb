{
 "cells": [
  {
   "cell_type": "code",
   "execution_count": 16,
   "id": "9176f3ae",
   "metadata": {},
   "outputs": [],
   "source": [
    "import pandas as pd\n",
    "import numpy as np"
   ]
  },
  {
   "cell_type": "code",
   "execution_count": 17,
   "id": "48e17f23",
   "metadata": {},
   "outputs": [],
   "source": [
    "ds = 'cardiotocography-3clases_R.dat'"
   ]
  },
  {
   "cell_type": "code",
   "execution_count": 26,
   "id": "138568d7",
   "metadata": {},
   "outputs": [
    {
     "data": {
      "text/plain": [
       "array([(   2, -0.132494 ,  0.729961 , -0.203162, 0.554496,  0.375155, -0.0574621, -0.268691, -1.74434,  0.868636, -0.535235,  0.393083,  1.52876  , -0.865335, 1.89335 , 0.654983,  0.957976,  0.216587 ,  0.0891048,  0.132007  , -0.234943, -0.524402, 0),\n",
       "       (   3, -0.0308771, -0.0461169, -0.203162, 1.23337 ,  0.375155, -0.0574621, -0.268691, -1.8025 ,  0.868636, -0.535235,  0.926109,  1.52876  , -0.865335, 1.89335 , 0.315929,  0.957976,  0.216587 ,  0.0249759, -0.00624269, -0.200434, -0.524402, 0),\n",
       "       (   4,  0.0707402, -0.0461169, -0.203162, 1.23337 ,  0.375155, -0.0574621, -0.268691, -1.8025 ,  1.20829 , -0.535235,  2.63179 ,  1.19505  , -1.37277 , 0.332955, 2.35025 , -0.458336, -0.0275938, -0.039153 , -0.0753675 , -0.200434,  1.11272 , 0),\n",
       "       ...,\n",
       "       (2123,  0.680444 , -0.563502 , -0.203162, 0.893932, -0.638287, -0.0574621, -0.268691,  1.80365, -1.05609 ,  0.66062 , -0.193245, -0.114127 ,  0.318689, 0.277226, 0.654983, -0.458336,  0.888085 ,  0.858651 ,  0.89238   , -0.545527,  1.11272 , 1),\n",
       "       (2124,  0.680444 , -0.563502 , -0.203162, 0.893932, -0.638287, -0.0574621, -0.268691,  1.86182, -1.05609 ,  0.551906, -0.37092 , -0.0884571,  0.318689, 0.332955, 0.315929, -0.458336,  0.94913  ,  0.858651 ,  0.961504  , -0.511018,  1.11272 , 1),\n",
       "       (2125,  0.680444 , -0.563502 , -0.203162, 0.554496, -0.638287, -0.0574621, -0.268691,  1.80365, -1.05609 ,  0.932405, -0.211012, -0.114127 ,  0.318689, 0.277226, 0.654983, -0.458336,  0.888085 ,  0.794523 ,  0.89238   , -0.511018,  1.11272 , 1)],\n",
       "      dtype=[('1', '<i8'), ('13519', '<f8'), ('0822195', '<f8'), ('0203162', '<f8'), ('148212', '<f8'), ('0638287', '<f8'), ('00574621', '<f8'), ('0268691', '<f8'), ('151283', '<f8'), ('0942873', '<f8'), ('180212', '<f8'), ('102832', '<f8'), ('0165468', '<f8'), ('106831', '<f8'), ('211909', '<f8'), ('0701232', '<f8'), ('0458336', '<f8'), ('106536', '<f8'), ('0153234', '<f8'), ('118136', '<f8'), ('187013', '<f8'), ('111272', '<f8'), ('1_1', '<i8')])"
      ]
     },
     "execution_count": 26,
     "metadata": {},
     "output_type": "execute_result"
    }
   ],
   "source": [
    "data = np.genfromtxt(ds,\n",
    "                     skip_header=1,\n",
    "                     skip_footer=1,\n",
    "                     names=True,\n",
    "                     dtype=None,\n",
    "                     delimiter='\\t')\n",
    "data"
   ]
  },
  {
   "cell_type": "code",
   "execution_count": 27,
   "id": "c296638b",
   "metadata": {},
   "outputs": [
    {
     "data": {
      "text/plain": [
       "((2124, 21), (2124,))"
      ]
     },
     "execution_count": 27,
     "metadata": {},
     "output_type": "execute_result"
    }
   ],
   "source": [
    "a = []\n",
    "for k in data:\n",
    "    for m in k:\n",
    "        a.append(m)\n",
    "a = np.array(a).reshape(-1, len(data[0]))\n",
    "x = a[:, 1:-1]\n",
    "y = a[:, -1]\n",
    "x.shape, y.shape"
   ]
  },
  {
   "cell_type": "code",
   "execution_count": 28,
   "id": "1f98b112",
   "metadata": {},
   "outputs": [
    {
     "data": {
      "text/plain": [
       "(torch.Size([2124, 21]), torch.Size([2124]))"
      ]
     },
     "execution_count": 28,
     "metadata": {},
     "output_type": "execute_result"
    }
   ],
   "source": [
    "import torch\n",
    "X, y = torch.from_numpy(x), torch.from_numpy(y).long()\n",
    "X.shape, y.shape"
   ]
  },
  {
   "cell_type": "code",
   "execution_count": 29,
   "id": "81ae60e8",
   "metadata": {},
   "outputs": [],
   "source": [
    "import pickle\n",
    "filename = 'Dataset_' + ds.replace(' ', '')\n",
    "filename = filename.replace('.dat', '')\n",
    "filename = filename.replace('-', '')\n",
    "Data = {'X': X, 'y': y}\n",
    "with open(f'{filename}.p', 'wb') as f:\n",
    "    pickle.dump(Data, f)"
   ]
  },
  {
   "cell_type": "code",
   "execution_count": 30,
   "id": "93c9662c",
   "metadata": {},
   "outputs": [
    {
     "data": {
      "text/plain": [
       "{'X': tensor([[-0.1325,  0.7300, -0.2032,  ...,  0.1320, -0.2349, -0.5244],\n",
       "         [-0.0309, -0.0461, -0.2032,  ..., -0.0062, -0.2004, -0.5244],\n",
       "         [ 0.0707, -0.0461, -0.2032,  ..., -0.0754, -0.2004,  1.1127],\n",
       "         ...,\n",
       "         [ 0.6804, -0.5635, -0.2032,  ...,  0.8924, -0.5455,  1.1127],\n",
       "         [ 0.6804, -0.5635, -0.2032,  ...,  0.9615, -0.5110,  1.1127],\n",
       "         [ 0.6804, -0.5635, -0.2032,  ...,  0.8924, -0.5110,  1.1127]],\n",
       "        dtype=torch.float64),\n",
       " 'y': tensor([0, 0, 0,  ..., 1, 1, 1])}"
      ]
     },
     "execution_count": 30,
     "metadata": {},
     "output_type": "execute_result"
    }
   ],
   "source": [
    "with open(f'{filename}.p', 'rb') as f:\n",
    "    Data_read = pickle.load(f)\n",
    "Data_read"
   ]
  },
  {
   "cell_type": "code",
   "execution_count": 33,
   "id": "71a02d83",
   "metadata": {},
   "outputs": [
    {
     "data": {
      "text/plain": [
       "tensor(2)"
      ]
     },
     "execution_count": 33,
     "metadata": {},
     "output_type": "execute_result"
    }
   ],
   "source": [
    "torch.max(y)"
   ]
  },
  {
   "cell_type": "code",
   "execution_count": null,
   "id": "9068897a",
   "metadata": {},
   "outputs": [],
   "source": []
  }
 ],
 "metadata": {
  "kernelspec": {
   "display_name": "Python 3",
   "language": "python",
   "name": "python3"
  },
  "language_info": {
   "codemirror_mode": {
    "name": "ipython",
    "version": 3
   },
   "file_extension": ".py",
   "mimetype": "text/x-python",
   "name": "python",
   "nbconvert_exporter": "python",
   "pygments_lexer": "ipython3",
   "version": "3.8.9"
  },
  "toc": {
   "base_numbering": 1,
   "nav_menu": {},
   "number_sections": true,
   "sideBar": true,
   "skip_h1_title": false,
   "title_cell": "Table of Contents",
   "title_sidebar": "Contents",
   "toc_cell": false,
   "toc_position": {},
   "toc_section_display": true,
   "toc_window_display": false
  }
 },
 "nbformat": 4,
 "nbformat_minor": 5
}
