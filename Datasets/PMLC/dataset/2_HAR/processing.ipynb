{
 "cells": [
  {
   "cell_type": "code",
   "execution_count": 1,
   "id": "9a6a22a5",
   "metadata": {},
   "outputs": [],
   "source": [
    "import os\n",
    "import numpy as np\n",
    "import torch"
   ]
  },
  {
   "cell_type": "code",
   "execution_count": 2,
   "id": "003c12ce",
   "metadata": {},
   "outputs": [],
   "source": [
    "X_train_path = os.path.join(os.getcwd(), 'train', 'X_train.txt')\n",
    "y_train_path = os.path.join(os.getcwd(), 'train', 'y_train.txt')\n",
    "X_test_path = os.path.join(os.getcwd(), 'test', 'X_test.txt')\n",
    "y_test_path = os.path.join(os.getcwd(), 'test', 'y_test.txt')"
   ]
  },
  {
   "cell_type": "code",
   "execution_count": 3,
   "id": "ec1185d3",
   "metadata": {},
   "outputs": [
    {
     "data": {
      "text/plain": [
       "((7352, 561), (7352,), (2947, 561), (7352,))"
      ]
     },
     "execution_count": 3,
     "metadata": {},
     "output_type": "execute_result"
    }
   ],
   "source": [
    "X_train = np.loadtxt(X_train_path)\n",
    "y_train = np.loadtxt(y_train_path)\n",
    "X_test = np.loadtxt(X_test_path)\n",
    "y_test = np.loadtxt(y_test_path)\n",
    "X_train.shape, y_train.shape, X_test.shape, y_train.shape"
   ]
  },
  {
   "cell_type": "code",
   "execution_count": 4,
   "id": "227c6ed9",
   "metadata": {},
   "outputs": [
    {
     "data": {
      "text/plain": [
       "((10299, 561), (10299,))"
      ]
     },
     "execution_count": 4,
     "metadata": {},
     "output_type": "execute_result"
    }
   ],
   "source": [
    "X_full = np.vstack((X_train, X_test))\n",
    "y = np.hstack((y_train, y_test))\n",
    "X_full.shape, y.shape"
   ]
  },
  {
   "cell_type": "code",
   "execution_count": 5,
   "id": "7747ffbe",
   "metadata": {},
   "outputs": [
    {
     "data": {
      "text/plain": [
       "(10299, 10)"
      ]
     },
     "execution_count": 5,
     "metadata": {},
     "output_type": "execute_result"
    }
   ],
   "source": [
    "from sklearn.decomposition import PCA\n",
    "pca = PCA(n_components=10)\n",
    "X = pca.fit_transform(X_full)\n",
    "X.shape"
   ]
  },
  {
   "cell_type": "code",
   "execution_count": 6,
   "id": "e2aeb812",
   "metadata": {},
   "outputs": [
    {
     "data": {
      "text/plain": [
       "(torch.Size([10299, 10]), torch.Size([10299]))"
      ]
     },
     "execution_count": 6,
     "metadata": {},
     "output_type": "execute_result"
    }
   ],
   "source": [
    "X, y = torch.from_numpy(X), torch.from_numpy(y).long()\n",
    "X.shape, y.shape"
   ]
  },
  {
   "cell_type": "code",
   "execution_count": 9,
   "id": "f8dfc9eb",
   "metadata": {},
   "outputs": [],
   "source": [
    "import pickle\n",
    "Data = {'X': X, 'y': y}\n",
    "with open('Dataset_HAR.p', 'wb') as f:\n",
    "    pickle.dump(Data, f)"
   ]
  },
  {
   "cell_type": "code",
   "execution_count": 10,
   "id": "63866ee2",
   "metadata": {},
   "outputs": [
    {
     "data": {
      "text/plain": [
       "{'X': tensor([[-5.5379, -0.7163, -1.4125,  ...,  0.8444, -1.3214, -0.1729],\n",
       "         [-5.5642, -0.5795, -1.8279,  ..., -0.7589, -0.9435,  0.5712],\n",
       "         [-5.4993, -0.2977, -2.1482,  ...,  0.0842, -0.2173,  0.2188],\n",
       "         ...,\n",
       "         [ 4.5366, -0.9940,  0.4800,  ...,  0.2916,  0.5192, -0.7024],\n",
       "         [ 3.7446, -1.2770,  0.3674,  ...,  0.1011,  1.0099, -1.0526],\n",
       "         [ 3.9693, -1.0488,  0.2397,  ...,  0.1289,  0.9741, -0.7370]],\n",
       "        dtype=torch.float64),\n",
       " 'y': tensor([5, 5, 5,  ..., 2, 2, 2])}"
      ]
     },
     "execution_count": 10,
     "metadata": {},
     "output_type": "execute_result"
    }
   ],
   "source": [
    "with open('Dataset_HAR.p', 'rb') as f:\n",
    "    Data_read = pickle.load(f)\n",
    "Data_read"
   ]
  },
  {
   "cell_type": "code",
   "execution_count": null,
   "id": "5d99dca1",
   "metadata": {},
   "outputs": [],
   "source": []
  }
 ],
 "metadata": {
  "kernelspec": {
   "display_name": "Python 3",
   "language": "python",
   "name": "python3"
  },
  "language_info": {
   "codemirror_mode": {
    "name": "ipython",
    "version": 3
   },
   "file_extension": ".py",
   "mimetype": "text/x-python",
   "name": "python",
   "nbconvert_exporter": "python",
   "pygments_lexer": "ipython3",
   "version": "3.8.9"
  },
  "toc": {
   "base_numbering": 1,
   "nav_menu": {},
   "number_sections": true,
   "sideBar": true,
   "skip_h1_title": false,
   "title_cell": "Table of Contents",
   "title_sidebar": "Contents",
   "toc_cell": false,
   "toc_position": {},
   "toc_section_display": true,
   "toc_window_display": false
  }
 },
 "nbformat": 4,
 "nbformat_minor": 5
}
