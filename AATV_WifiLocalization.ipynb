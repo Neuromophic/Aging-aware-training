{
 "cells": [
  {
   "cell_type": "markdown",
   "id": "e0f1319a",
   "metadata": {},
   "source": [
    "# Aging Aware with Model Variation\n",
    "Previously, we optimize the following functional:\n",
    "$$ \\min_\\theta \\, \\int_{t=0}^{1} \\; L(\\theta(t)) \\, {\\rm d}t. $$\n",
    "The optimum is for a specific aging model $\\omega$, i.e., we minimized the \n",
    "$$ \\min_\\theta \\, \\int_{t=0}^{1} \\; L(\\theta(t,\\omega)) \\, {\\rm d}t. $$\n",
    "However, we dont know how will the resistance decay, i.e., we should also minimize the loss function w.r.t. aging models with different parameters. That means we need to optimized\n",
    "$$ \\min_\\theta \\, \\int_{\\omega}\\int_{t=0}^{1} \\; L(\\theta(t,\\omega)) \\, {\\rm d}t\\, p(\\omega){\\rm d}\\omega. $$\n",
    "The Mento Carlo Approximation is then\n",
    "$$\n",
    "\\min_{\\theta_{\\rm init}} \\frac{1}{\\Omega}\\frac{1}{K}\\sum_{\\omega\\in\\mathfrak{M}}\\sum_{k\\in \\mathfrak{K} } L \\left(\\theta[k, \\omega]\\right),\n",
    "$$\n",
    "where $\\mathfrak{M}$ is the set of $\\Omega$ elements following the distribution $p(\\omega)$. $p(\\omega)$ is the distributions of parameters of the aging model. We have already obtained these distributions as we modeled the aging decay.\n",
    "\n",
    "That means we should optimize this problem by\n",
    "$$\n",
    "\\begin{align}\n",
    "\\theta_{\\rm init}&:=\\theta_{\\rm init} - \\alpha\\cdot\\nabla_{\\theta_{\\rm init}}\\left(\\frac{1}{\\Omega}\\frac{1}{K}\\sum_{\\omega\\in\\mathfrak{M}}\\sum_{k\\in \\mathfrak{K} } L \\left(\\theta[k, \\omega]\\right)\\right)\\\\\n",
    "&=\\theta_{\\rm init} - \\frac{\\alpha}{\\Omega K}\\cdot\\nabla_{\\theta_{\\rm init}}\\left(\\sum_{\\omega\\in\\mathfrak{M}}\\sum_{k\\in \\mathfrak{K} } L \\left(\\theta[k, \\omega]\\right)\\right)\\\\\n",
    "&=\\theta_{\\rm init} - \\frac{\\alpha}{\\Omega K}\\left(\\sum_{\\omega\\in\\mathfrak{M}}\\sum_{k\\in \\mathfrak{K} }\\nabla_{\\theta_{\\rm init}} L \\left(\\theta[k, \\omega]\\right)\\right)\n",
    "\\end{align}\n",
    "$$"
   ]
  },
  {
   "cell_type": "markdown",
   "id": "eab183f8",
   "metadata": {},
   "source": [
    "# Import library"
   ]
  },
  {
   "cell_type": "code",
   "execution_count": 1,
   "id": "0bc40b33",
   "metadata": {},
   "outputs": [],
   "source": [
    "import importlib\n",
    "from torch.autograd import Variable\n",
    "import torch\n",
    "import pickle\n",
    "import os\n",
    "import sys\n",
    "import matplotlib.pyplot as plt\n",
    "import numpy as np\n",
    "import pNN_aging_aware_vectorization as pnnv\n",
    "import training_vectorization as tv\n",
    "import random\n",
    "sys.path.append(os.path.join(os.getcwd(), 'Aging_Model'))"
   ]
  },
  {
   "cell_type": "markdown",
   "id": "af93c27e-7559-466e-9a0f-084e03f0c576",
   "metadata": {},
   "source": [
    "# Random Seed"
   ]
  },
  {
   "cell_type": "code",
   "execution_count": 2,
   "id": "66785455-86c3-4e9a-a35e-4bd3c3f465eb",
   "metadata": {},
   "outputs": [],
   "source": [
    "seed = 1\n",
    "\n",
    "random.seed(seed);\n",
    "np.random.seed(seed);\n",
    "torch.manual_seed(seed);"
   ]
  },
  {
   "cell_type": "markdown",
   "id": "9b31036f-1808-460e-a011-acd675130bb5",
   "metadata": {},
   "source": [
    "# Get Aging Model"
   ]
  },
  {
   "cell_type": "code",
   "execution_count": 3,
   "id": "ba549dc5-0e02-4b8d-aefa-05764dfcfde6",
   "metadata": {},
   "outputs": [],
   "source": [
    "with open(os.path.join(os.getcwd(), 'Aging_Model', 'exp_aging_model.p'), 'rb') as f:\n",
    "    age_generator = pickle.load(f)"
   ]
  },
  {
   "cell_type": "markdown",
   "id": "1026bd3c",
   "metadata": {},
   "source": [
    "# Device"
   ]
  },
  {
   "cell_type": "code",
   "execution_count": 4,
   "id": "b0e91163",
   "metadata": {},
   "outputs": [
    {
     "data": {
      "text/plain": [
       "device(type='cuda')"
      ]
     },
     "execution_count": 4,
     "metadata": {},
     "output_type": "execute_result"
    }
   ],
   "source": [
    "device = torch.device('cuda' if torch.cuda.is_available() else 'cpu')\n",
    "# device = torch.device('cuda:0')\n",
    "device"
   ]
  },
  {
   "cell_type": "markdown",
   "id": "15519567",
   "metadata": {},
   "source": [
    "# Prepare data"
   ]
  },
  {
   "cell_type": "markdown",
   "id": "f224be26-e399-42a8-9c96-e285490e8916",
   "metadata": {},
   "source": [
    "## Dataset"
   ]
  },
  {
   "cell_type": "code",
   "execution_count": 5,
   "id": "92014c65-5b5c-4b61-93ef-30f044282eb3",
   "metadata": {},
   "outputs": [],
   "source": [
    "ds = 'WifiLocalization'"
   ]
  },
  {
   "cell_type": "markdown",
   "id": "3f9b925b",
   "metadata": {},
   "source": [
    "## Load data"
   ]
  },
  {
   "cell_type": "code",
   "execution_count": 6,
   "id": "fd3f8c31",
   "metadata": {},
   "outputs": [
    {
     "data": {
      "text/plain": [
       "(torch.Size([2000, 7]), torch.Size([2000]), 2000, 7, 4)"
      ]
     },
     "execution_count": 6,
     "metadata": {},
     "output_type": "execute_result"
    }
   ],
   "source": [
    "datapath = os.path.join(os.getcwd(), 'Datasets', 'Haibin',\n",
    "                        'data_processed', f'Dataset_{ds}.p')\n",
    "with open(datapath, 'rb') as f:\n",
    "    dataset = pickle.load(f)\n",
    "X = dataset['X'].float()\n",
    "y = dataset['y']\n",
    "\n",
    "E, N_features, N_class = X.shape[0], X.shape[1], torch.max(\n",
    "    torch.unique(y)).item()+1\n",
    "X.shape, y.shape, E, N_features, N_class"
   ]
  },
  {
   "cell_type": "markdown",
   "id": "35adbc19",
   "metadata": {},
   "source": [
    "## Pseudo-electrical Signal"
   ]
  },
  {
   "cell_type": "code",
   "execution_count": 7,
   "id": "ea0969cc",
   "metadata": {},
   "outputs": [
    {
     "data": {
      "text/plain": [
       "(tensor(0.), tensor(1.))"
      ]
     },
     "execution_count": 7,
     "metadata": {},
     "output_type": "execute_result"
    }
   ],
   "source": [
    "X = X / (torch.max(X, axis=0)[0] - torch.min(X, axis=0)[0])\n",
    "X = X - torch.min(X, axis=0)[0]\n",
    "torch.min(X), torch.max(X)"
   ]
  },
  {
   "cell_type": "code",
   "execution_count": 8,
   "id": "9d04d54b",
   "metadata": {},
   "outputs": [
    {
     "data": {
      "text/plain": [
       "tensor([[0.1562, 0.6207, 0.3636, 0.1667, 0.3396, 0.4167, 0.4857],\n",
       "        [0.0938, 0.5862, 0.3636, 0.1818, 0.3396, 0.3333, 0.3714],\n",
       "        [0.1719, 0.4828, 0.3939, 0.1515, 0.2453, 0.3333, 0.4000],\n",
       "        [0.2031, 0.4828, 0.1515, 0.2273, 0.2264, 0.1944, 0.5143],\n",
       "        [0.1719, 0.3103, 0.3939, 0.2121, 0.2264, 0.4444, 0.3143],\n",
       "        [0.1562, 0.6552, 0.3030, 0.1667, 0.2453, 0.2500, 0.4286],\n",
       "        [0.1406, 0.4483, 0.2424, 0.1515, 0.3774, 0.2778, 0.4000],\n",
       "        [0.2031, 0.3793, 0.4545, 0.1667, 0.2830, 0.2778, 0.4571],\n",
       "        [0.1406, 0.4828, 0.4242, 0.2121, 0.2453, 0.3056, 0.4571],\n",
       "        [0.1875, 0.4828, 0.2121, 0.1364, 0.1698, 0.3056, 0.2000]])"
      ]
     },
     "execution_count": 8,
     "metadata": {},
     "output_type": "execute_result"
    }
   ],
   "source": [
    "X[:10, :9]"
   ]
  },
  {
   "cell_type": "code",
   "execution_count": 9,
   "id": "6d30ecfc",
   "metadata": {},
   "outputs": [
    {
     "data": {
      "text/plain": [
       "(1200, 400, 400)"
      ]
     },
     "execution_count": 9,
     "metadata": {},
     "output_type": "execute_result"
    }
   ],
   "source": [
    "from torch.utils.data import TensorDataset\n",
    "from torch.utils.data import DataLoader\n",
    "from torch.utils.data import random_split\n",
    "\n",
    "# generate tensordataset\n",
    "dataset = TensorDataset(X.to(device), y.to(device))\n",
    "\n",
    "# split\n",
    "train_rate = 0.6\n",
    "test_rate = 0.2\n",
    "valid_rate = 0.2\n",
    "E_train = min(4096, int(E*train_rate))\n",
    "E_test = min(1024, int(E*test_rate))\n",
    "E_valid = min(1024, int(E*valid_rate))\n",
    "\n",
    "train_data, rest_data = random_split(dataset, [E_train, E-E_train])\n",
    "test_data, rest_data = random_split(rest_data, [E_test, E-E_train-E_test])\n",
    "valid_data, rest_data = random_split(rest_data, [E_valid, E-E_train-E_test-E_valid])\n",
    "\n",
    "len(train_data), len(test_data), len(valid_data)"
   ]
  },
  {
   "cell_type": "code",
   "execution_count": 10,
   "id": "4f8988b7",
   "metadata": {},
   "outputs": [],
   "source": [
    "# batch\n",
    "train_loader = DataLoader(train_data, batch_size=len(train_data))\n",
    "test_loader = DataLoader(test_data, batch_size=len(test_data))\n",
    "valid_loader = DataLoader(valid_data, batch_size=len(valid_data))"
   ]
  },
  {
   "cell_type": "markdown",
   "id": "bb0f57e2",
   "metadata": {},
   "source": [
    "# Hyperparameter"
   ]
  },
  {
   "cell_type": "code",
   "execution_count": 11,
   "id": "608550a4",
   "metadata": {},
   "outputs": [],
   "source": [
    "N_Hidden = 2\n",
    "m = 0.3\n",
    "T = 0.1\n",
    "M_train = 100\n",
    "K_train = 20\n",
    "M_test = 20\n",
    "K_test = 10"
   ]
  },
  {
   "cell_type": "markdown",
   "id": "98cf49ee-2bf2-4d63-8073-71feab7d7cff",
   "metadata": {},
   "source": [
    "# Normal NN"
   ]
  },
  {
   "cell_type": "markdown",
   "id": "f3030cec-d9a3-4baa-8fdf-778491a9e5b7",
   "metadata": {},
   "source": [
    "## Define"
   ]
  },
  {
   "cell_type": "code",
   "execution_count": 12,
   "id": "d8578200-6be0-46b8-81be-2d0726a9d4a0",
   "metadata": {},
   "outputs": [
    {
     "data": {
      "text/plain": [
       "Sequential(\n",
       "  (0): Linear(in_features=7, out_features=2, bias=True)\n",
       "  (1): Tanh()\n",
       "  (2): Linear(in_features=2, out_features=4, bias=True)\n",
       "  (3): Tanh()\n",
       ")"
      ]
     },
     "execution_count": 12,
     "metadata": {},
     "output_type": "execute_result"
    }
   ],
   "source": [
    "NN = torch.nn.Sequential(torch.nn.Linear(N_features, N_Hidden), torch.nn.Tanh(),\n",
    "                        torch.nn.Linear(N_Hidden, N_class), torch.nn.Tanh())\n",
    "\n",
    "\n",
    "def weights_init(m):\n",
    "    if isinstance(m, torch.nn.Linear):\n",
    "        torch.nn.init.xavier_uniform_(m.weight)\n",
    "        m.bias.data.fill_(0.01)\n",
    "\n",
    "NN.apply(weights_init)\n",
    "\n",
    "celoss = torch.nn.CrossEntropyLoss()\n",
    "NN.to(device)"
   ]
  },
  {
   "cell_type": "markdown",
   "id": "f3ad2024-6626-423b-b707-09c8d33e2dc2",
   "metadata": {},
   "source": [
    "## Training"
   ]
  },
  {
   "cell_type": "code",
   "execution_count": 13,
   "id": "22ff31fc-c84e-4a1f-a656-7807a6238aa2",
   "metadata": {},
   "outputs": [
    {
     "data": {
      "application/vnd.jupyter.widget-view+json": {
       "model_id": "720b6f44f659431cb93d349cfe044cd6",
       "version_major": 2,
       "version_minor": 0
      },
      "text/plain": [
       "  0%|          | 0/50000 [00:00<?, ?it/s]"
      ]
     },
     "metadata": {},
     "output_type": "display_data"
    },
    {
     "name": "stdout",
     "output_type": "stream",
     "text": [
      "| Epoch:     0 | Accuracy: 0.46250 | Loss: 1.298303485\n",
      "| Epoch:   500 | Accuracy: 0.97750 | Loss: 0.382109344\n",
      "| Epoch:  1000 | Accuracy: 0.97750 | Loss: 0.379391491\n",
      "| Epoch:  1500 | Accuracy: 0.97250 | Loss: 0.385902762\n",
      "| Epoch:  2000 | Accuracy: 0.97500 | Loss: 0.382142097\n",
      "| Epoch:  2500 | Accuracy: 0.97750 | Loss: 0.379388899\n",
      "| Epoch:  3000 | Accuracy: 0.97750 | Loss: 0.379077226\n",
      "| Epoch:  3500 | Accuracy: 0.97750 | Loss: 0.379533619\n",
      "| Epoch:  4000 | Accuracy: 0.97250 | Loss: 0.378887266\n",
      "| Epoch:  4500 | Accuracy: 0.97250 | Loss: 0.380263358\n",
      "| Epoch:  5000 | Accuracy: 0.97750 | Loss: 0.379619032\n",
      "| Epoch:  5500 | Accuracy: 0.97500 | Loss: 0.379103005\n",
      "| Epoch:  6000 | Accuracy: 0.97750 | Loss: 0.381179541\n",
      "| Epoch:  6500 | Accuracy: 0.97750 | Loss: 0.379095852\n",
      "| Epoch:  7000 | Accuracy: 0.97750 | Loss: 0.378998190\n",
      "| Epoch:  7500 | Accuracy: 0.97750 | Loss: 0.378817588\n",
      "| Epoch:  8000 | Accuracy: 0.97250 | Loss: 0.378563166\n",
      "| Epoch:  8500 | Accuracy: 0.97750 | Loss: 0.378852457\n",
      "| Epoch:  9000 | Accuracy: 0.97250 | Loss: 0.378847241\n",
      "| Epoch:  9500 | Accuracy: 0.97750 | Loss: 0.378736675\n",
      "| Epoch: 10000 | Accuracy: 0.97500 | Loss: 0.380819827\n",
      "Early stop.\n",
      "Finished.\n"
     ]
    }
   ],
   "source": [
    "optimizer_NN = torch.optim.Adam(NN.parameters(), lr=0.2)\n",
    "train_loader = DataLoader(train_data, batch_size=min(len(train_data),1024))\n",
    "train_loss_NN, test_loss_NN, parameter_NN = tv.train_normal_nn(NN,\n",
    "                                                                     train_loader,\n",
    "                                                                     test_loader,\n",
    "                                                                     optimizer=optimizer_NN,\n",
    "                                                                     lossfunction=celoss,\n",
    "                                                                     Epoch=50000)"
   ]
  },
  {
   "cell_type": "code",
   "execution_count": 14,
   "id": "2b482bd5-babe-4185-ac37-c6c15f27c16e",
   "metadata": {},
   "outputs": [
    {
     "data": {
      "text/plain": [
       "(4928, 0.37791478633880615)"
      ]
     },
     "execution_count": 14,
     "metadata": {},
     "output_type": "execute_result"
    },
    {
     "data": {
      "image/png": "[encoded data removed]",
      "text/plain": [
       "<Figure size 432x288 with 1 Axes>"
      ]
     },
     "metadata": {
      "needs_background": "light"
     },
     "output_type": "display_data"
    }
   ],
   "source": [
    "plt.plot(train_loss_NN, '-', label='train')\n",
    "plt.plot(test_loss_NN, '--', label='test')\n",
    "plt.legend()\n",
    "NN.load_state_dict(parameter_NN)\n",
    "best = np.argmin(test_loss_NN)\n",
    "best, test_loss_NN[best]"
   ]
  },
  {
   "cell_type": "code",
   "execution_count": 15,
   "id": "c7f1d27f-e30d-430d-ae9e-673e3fcacbea",
   "metadata": {},
   "outputs": [
    {
     "data": {
      "application/vnd.jupyter.widget-view+json": {
       "model_id": "5a7eb797c93f43e2b413e74eb904d7ae",
       "version_major": 2,
       "version_minor": 0
      },
      "text/plain": [
       "  0%|          | 0/50000 [00:00<?, ?it/s]"
      ]
     },
     "metadata": {},
     "output_type": "display_data"
    },
    {
     "name": "stdout",
     "output_type": "stream",
     "text": [
      "| Epoch:     0 | Accuracy: 0.97500 | Loss: 0.380162209\n",
      "| Epoch:   500 | Accuracy: 0.97500 | Loss: 0.378638148\n",
      "| Epoch:  1000 | Accuracy: 0.97750 | Loss: 0.378512114\n",
      "| Epoch:  1500 | Accuracy: 0.97750 | Loss: 0.378620982\n",
      "| Epoch:  2000 | Accuracy: 0.97750 | Loss: 0.378745168\n",
      "| Epoch:  2500 | Accuracy: 0.97750 | Loss: 0.378825605\n",
      "| Epoch:  3000 | Accuracy: 0.97750 | Loss: 0.378941536\n",
      "| Epoch:  3500 | Accuracy: 0.98000 | Loss: 0.378915340\n",
      "| Epoch:  4000 | Accuracy: 0.98250 | Loss: 0.378523916\n",
      "| Epoch:  4500 | Accuracy: 0.98250 | Loss: 0.377870113\n",
      "| Epoch:  5000 | Accuracy: 0.98250 | Loss: 0.377676398\n",
      "| Epoch:  5500 | Accuracy: 0.98250 | Loss: 0.377514750\n",
      "| Epoch:  6000 | Accuracy: 0.98250 | Loss: 0.377389073\n",
      "| Epoch:  6500 | Accuracy: 0.98250 | Loss: 0.377444237\n",
      "| Epoch:  7000 | Accuracy: 0.98000 | Loss: 0.377461016\n",
      "| Epoch:  7500 | Accuracy: 0.98000 | Loss: 0.377479434\n",
      "| Epoch:  8000 | Accuracy: 0.98000 | Loss: 0.377499849\n",
      "| Epoch:  8500 | Accuracy: 0.98000 | Loss: 0.377514750\n",
      "| Epoch:  9000 | Accuracy: 0.98000 | Loss: 0.377523810\n",
      "| Epoch:  9500 | Accuracy: 0.98000 | Loss: 0.377472162\n",
      "| Epoch: 10000 | Accuracy: 0.98000 | Loss: 0.377509683\n",
      "Early stop.\n",
      "Finished.\n"
     ]
    }
   ],
   "source": [
    "optimizer_NN = torch.optim.Adam(NN.parameters(), lr=0.01)\n",
    "train_loader = DataLoader(train_data, batch_size=len(train_data))\n",
    "train_loss_NN, test_loss_NN, parameter_NN = tv.train_normal_nn(NN,\n",
    "                                                                     train_loader,\n",
    "                                                                     test_loader,\n",
    "                                                                     optimizer=optimizer_NN,\n",
    "                                                                     lossfunction=celoss,\n",
    "                                                                     Epoch=50000)"
   ]
  },
  {
   "cell_type": "code",
   "execution_count": 16,
   "id": "126f5a62-ec48-466b-bb09-a9ab513d2054",
   "metadata": {},
   "outputs": [
    {
     "data": {
      "text/plain": [
       "(5801, 0.37579062581062317)"
      ]
     },
     "execution_count": 16,
     "metadata": {},
     "output_type": "execute_result"
    },
    {
     "data": {
      "image/png": "[encoded data removed]",
      "text/plain": [
       "<Figure size 432x288 with 1 Axes>"
      ]
     },
     "metadata": {
      "needs_background": "light"
     },
     "output_type": "display_data"
    }
   ],
   "source": [
    "plt.plot(train_loss_NN, '-', label='train')\n",
    "plt.plot(test_loss_NN, '--', label='test')\n",
    "plt.legend()\n",
    "NN.load_state_dict(parameter_NN)\n",
    "best = np.argmin(test_loss_NN)\n",
    "best, test_loss_NN[best]"
   ]
  },
  {
   "cell_type": "code",
   "execution_count": 17,
   "id": "56955489-a421-4d80-b4ba-de6871871670",
   "metadata": {},
   "outputs": [
    {
     "data": {
      "application/vnd.jupyter.widget-view+json": {
       "model_id": "45d8bb177a3947769eb98971bb65d7c9",
       "version_major": 2,
       "version_minor": 0
      },
      "text/plain": [
       "  0%|          | 0/50000 [00:00<?, ?it/s]"
      ]
     },
     "metadata": {},
     "output_type": "display_data"
    },
    {
     "name": "stdout",
     "output_type": "stream",
     "text": [
      "| Epoch:     0 | Accuracy: 0.98000 | Loss: 0.375832945\n",
      "| Epoch:   500 | Accuracy: 0.98250 | Loss: 0.377381355\n",
      "| Epoch:  1000 | Accuracy: 0.98250 | Loss: 0.377396941\n",
      "| Epoch:  1500 | Accuracy: 0.98250 | Loss: 0.377392471\n",
      "| Epoch:  2000 | Accuracy: 0.98250 | Loss: 0.377381355\n",
      "| Epoch:  2500 | Accuracy: 0.98250 | Loss: 0.377363324\n",
      "| Epoch:  3000 | Accuracy: 0.98250 | Loss: 0.377339482\n",
      "| Epoch:  3500 | Accuracy: 0.98250 | Loss: 0.377311587\n",
      "| Epoch:  4000 | Accuracy: 0.98250 | Loss: 0.377281338\n",
      "| Epoch:  4500 | Accuracy: 0.98250 | Loss: 0.377250701\n",
      "| Epoch:  5000 | Accuracy: 0.98250 | Loss: 0.377221376\n",
      "| Epoch:  5500 | Accuracy: 0.98250 | Loss: 0.377194822\n",
      "| Epoch:  6000 | Accuracy: 0.98250 | Loss: 0.377176940\n",
      "| Epoch:  6500 | Accuracy: 0.98250 | Loss: 0.377171546\n",
      "| Epoch:  7000 | Accuracy: 0.98250 | Loss: 0.377176017\n",
      "| Epoch:  7500 | Accuracy: 0.98250 | Loss: 0.377177775\n",
      "| Epoch:  8000 | Accuracy: 0.98250 | Loss: 0.377177477\n",
      "| Epoch:  8500 | Accuracy: 0.98250 | Loss: 0.377194166\n",
      "| Epoch:  9000 | Accuracy: 0.98250 | Loss: 0.377211422\n",
      "| Epoch:  9500 | Accuracy: 0.98250 | Loss: 0.377214819\n",
      "| Epoch: 10000 | Accuracy: 0.98250 | Loss: 0.377225161\n",
      "Early stop.\n",
      "Finished.\n"
     ]
    }
   ],
   "source": [
    "optimizer_NN = torch.optim.Adam(NN.parameters(), lr=0.001)\n",
    "train_loader = DataLoader(train_data, batch_size=len(train_data))\n",
    "train_loss_NN, test_loss_NN, parameter_NN = tv.train_normal_nn(NN,\n",
    "                                                                     train_loader,\n",
    "                                                                     test_loader,\n",
    "                                                                     optimizer=optimizer_NN,\n",
    "                                                                     lossfunction=celoss,\n",
    "                                                                     Epoch=50000)"
   ]
  },
  {
   "cell_type": "code",
   "execution_count": 18,
   "id": "202233c8-206f-4cb4-8c47-d5277bce5b39",
   "metadata": {},
   "outputs": [
    {
     "data": {
      "text/plain": [
       "(0, 0.3758329451084137)"
      ]
     },
     "execution_count": 18,
     "metadata": {},
     "output_type": "execute_result"
    },
    {
     "data": {
      "image/png": "[encoded data removed]",
      "text/plain": [
       "<Figure size 432x288 with 1 Axes>"
      ]
     },
     "metadata": {
      "needs_background": "light"
     },
     "output_type": "display_data"
    }
   ],
   "source": [
    "plt.plot(train_loss_NN, '-', label='train')\n",
    "plt.plot(test_loss_NN, '--', label='test')\n",
    "plt.legend()\n",
    "NN.load_state_dict(parameter_NN)\n",
    "best = np.argmin(test_loss_NN)\n",
    "best, test_loss_NN[best]"
   ]
  },
  {
   "cell_type": "markdown",
   "id": "6568b4fd-62c9-4891-8cba-0b289bbf1e67",
   "metadata": {},
   "source": [
    "## Save Model"
   ]
  },
  {
   "cell_type": "code",
   "execution_count": 19,
   "id": "3f076686-a233-4434-b21f-486c95c9a78b",
   "metadata": {},
   "outputs": [],
   "source": [
    "with open(f'./result/{ds}_NN_{seed}.p', 'wb') as f:\n",
    "    pickle.dump(NN, f)"
   ]
  },
  {
   "cell_type": "markdown",
   "id": "38d0bfe4-d2ea-45fb-827b-3ba9f5a37618",
   "metadata": {},
   "source": [
    "## Evaluation"
   ]
  },
  {
   "cell_type": "code",
   "execution_count": 20,
   "id": "63f6d5f0-5245-4325-b384-58b4d79999a1",
   "metadata": {},
   "outputs": [
    {
     "name": "stdout",
     "output_type": "stream",
     "text": [
      "0.975\n"
     ]
    }
   ],
   "source": [
    "for x_valid, y_valid in valid_loader:\n",
    "    prediction_valid = NN(x_valid)\n",
    "    p = torch.argmax(prediction_valid, 1)\n",
    "    pred_y = p.cpu().data.numpy().squeeze()\n",
    "    acc_valid = sum(pred_y == y_valid.cpu().numpy()) / y_valid.shape[0]\n",
    "print(acc_valid)"
   ]
  },
  {
   "cell_type": "code",
   "execution_count": 21,
   "id": "2ec00e50-62f8-4ca1-98bc-e9db2eacefd7",
   "metadata": {},
   "outputs": [
    {
     "data": {
      "text/plain": [
       "Sequential(\n",
       "  (0): Linear(in_features=7, out_features=2, bias=True)\n",
       "  (1): Tanh()\n",
       "  (2): Linear(in_features=2, out_features=4, bias=True)\n",
       "  (3): Tanh()\n",
       ")"
      ]
     },
     "execution_count": 21,
     "metadata": {},
     "output_type": "execute_result"
    }
   ],
   "source": [
    "NN.to('cpu')"
   ]
  },
  {
   "cell_type": "markdown",
   "id": "5c65c580",
   "metadata": {},
   "source": [
    "# Normal PNN"
   ]
  },
  {
   "cell_type": "markdown",
   "id": "11fcb7de",
   "metadata": {},
   "source": [
    "## Define"
   ]
  },
  {
   "cell_type": "code",
   "execution_count": 22,
   "id": "098714b2",
   "metadata": {},
   "outputs": [
    {
     "data": {
      "text/plain": [
       "Sequential(\n",
       "  (0): PNNLayer()\n",
       "  (1): PNNLayer()\n",
       ")"
      ]
     },
     "execution_count": 22,
     "metadata": {},
     "output_type": "execute_result"
    }
   ],
   "source": [
    "PNN = torch.nn.Sequential(pnnv.PNNLayer(N_features, N_Hidden, age_generator, xpu=device),\n",
    "                         pnnv.PNNLayer(N_Hidden, N_class, age_generator, xpu=device))\n",
    "\n",
    "PNN.apply(lambda z: pnnv.MakeModel(z, M=1))\n",
    "PNN.apply(lambda z: pnnv.SetTime(z, t=[0]))\n",
    "\n",
    "PNN.to(device)"
   ]
  },
  {
   "cell_type": "markdown",
   "id": "8eb6a0c4-b427-4278-b855-0c6f78ba5b8d",
   "metadata": {},
   "source": [
    "## Training"
   ]
  },
  {
   "cell_type": "code",
   "execution_count": 23,
   "id": "b248e211",
   "metadata": {},
   "outputs": [
    {
     "data": {
      "application/vnd.jupyter.widget-view+json": {
       "model_id": "4d4f045f58184122ae8178eed2340fe9",
       "version_major": 2,
       "version_minor": 0
      },
      "text/plain": [
       "  0%|          | 0/50000 [00:00<?, ?it/s]"
      ]
     },
     "metadata": {},
     "output_type": "display_data"
    },
    {
     "name": "stdout",
     "output_type": "stream",
     "text": [
      "| Epoch:     0 | Accuracy: 0.23750 | Loss: 1.326425910 |\n",
      "| Epoch:   500 | Accuracy: 0.97000 | Loss: 0.208951831 |\n",
      "| Epoch:  1000 | Accuracy: 0.97000 | Loss: 0.219844222 |\n",
      "| Epoch:  1500 | Accuracy: 0.97000 | Loss: 0.205982894 |\n",
      "| Epoch:  2000 | Accuracy: 0.97250 | Loss: 0.210141599 |\n",
      "| Epoch:  2500 | Accuracy: 0.98750 | Loss: 0.205328152 |\n",
      "| Epoch:  3000 | Accuracy: 0.97000 | Loss: 0.209935531 |\n",
      "| Epoch:  3500 | Accuracy: 0.97000 | Loss: 0.208308831 |\n",
      "| Epoch:  4000 | Accuracy: 0.97000 | Loss: 0.208019316 |\n",
      "| Epoch:  4500 | Accuracy: 0.97000 | Loss: 0.208584100 |\n",
      "| Epoch:  5000 | Accuracy: 0.98000 | Loss: 0.217436612 |\n",
      "| Epoch:  5500 | Accuracy: 0.97000 | Loss: 0.213566169 |\n",
      "| Epoch:  6000 | Accuracy: 0.98250 | Loss: 0.204911873 |\n",
      "| Epoch:  6500 | Accuracy: 0.98250 | Loss: 0.206921190 |\n",
      "| Epoch:  7000 | Accuracy: 0.97000 | Loss: 0.210627049 |\n",
      "| Epoch:  7500 | Accuracy: 0.97000 | Loss: 0.216532439 |\n",
      "| Epoch:  8000 | Accuracy: 0.98000 | Loss: 0.208623081 |\n",
      "| Epoch:  8500 | Accuracy: 0.97000 | Loss: 0.214247122 |\n",
      "| Epoch:  9000 | Accuracy: 0.97000 | Loss: 0.207785785 |\n",
      "| Epoch:  9500 | Accuracy: 0.97000 | Loss: 0.208971441 |\n",
      "| Epoch: 10000 | Accuracy: 0.97000 | Loss: 0.214712575 |\n",
      "Early stop.\n",
      "Finished.\n"
     ]
    }
   ],
   "source": [
    "optimizer_PNN = torch.optim.Adam(PNN.parameters(), lr=0.1)\n",
    "train_loader = DataLoader(train_data, batch_size=min(len(train_data),1024))\n",
    "train_loss_PNN, test_loss_PNN, parameter_PNN = tv.train_normal_pnn(PNN, train_loader, test_loader,\n",
    "                                                                   m, T, optimizer_PNN,\n",
    "                                                                   pnnv.LossFunction, Epoch=50000, cache=ds)"
   ]
  },
  {
   "cell_type": "code",
   "execution_count": 24,
   "id": "9c2022fb-151b-40de-8e57-5d56e24460e3",
   "metadata": {},
   "outputs": [
    {
     "data": {
      "text/plain": [
       "(5810, 0.20386695861816406)"
      ]
     },
     "execution_count": 24,
     "metadata": {},
     "output_type": "execute_result"
    },
    {
     "data": {
      "image/png": "[encoded data removed]",
      "text/plain": [
       "<Figure size 432x288 with 1 Axes>"
      ]
     },
     "metadata": {
      "needs_background": "light"
     },
     "output_type": "display_data"
    }
   ],
   "source": [
    "plt.plot(train_loss_PNN, '-', label='train')\n",
    "plt.plot(test_loss_PNN, '--', label='test')\n",
    "plt.legend()\n",
    "best = np.argmin(test_loss_PNN)\n",
    "PNN.load_state_dict(parameter_PNN)\n",
    "best, test_loss_PNN[best]"
   ]
  },
  {
   "cell_type": "code",
   "execution_count": 25,
   "id": "f4c56418-565f-4857-9e75-07ba504b4dec",
   "metadata": {},
   "outputs": [
    {
     "data": {
      "application/vnd.jupyter.widget-view+json": {
       "model_id": "96ced9e06f4e4cc8a06944a5b8235049",
       "version_major": 2,
       "version_minor": 0
      },
      "text/plain": [
       "  0%|          | 0/50000 [00:00<?, ?it/s]"
      ]
     },
     "metadata": {},
     "output_type": "display_data"
    },
    {
     "name": "stdout",
     "output_type": "stream",
     "text": [
      "| Epoch:     0 | Accuracy: 0.97000 | Loss: 0.206924438 |\n",
      "| Epoch:   500 | Accuracy: 0.97250 | Loss: 0.204677001 |\n",
      "| Epoch:  1000 | Accuracy: 0.97250 | Loss: 0.205682024 |\n",
      "| Epoch:  1500 | Accuracy: 0.97500 | Loss: 0.204936057 |\n",
      "| Epoch:  2000 | Accuracy: 0.97250 | Loss: 0.205209658 |\n",
      "| Epoch:  2500 | Accuracy: 0.97250 | Loss: 0.205481187 |\n",
      "| Epoch:  3000 | Accuracy: 0.97250 | Loss: 0.206247821 |\n",
      "| Epoch:  3500 | Accuracy: 0.97250 | Loss: 0.205427438 |\n",
      "| Epoch:  4000 | Accuracy: 0.97250 | Loss: 0.205094293 |\n",
      "| Epoch:  4500 | Accuracy: 0.97250 | Loss: 0.205251530 |\n",
      "| Epoch:  5000 | Accuracy: 0.97250 | Loss: 0.206108436 |\n",
      "| Epoch:  5500 | Accuracy: 0.97500 | Loss: 0.205156088 |\n",
      "| Epoch:  6000 | Accuracy: 0.97500 | Loss: 0.205811113 |\n",
      "| Epoch:  6500 | Accuracy: 0.97250 | Loss: 0.205297008 |\n",
      "| Epoch:  7000 | Accuracy: 0.97250 | Loss: 0.206368417 |\n",
      "| Epoch:  7500 | Accuracy: 0.97250 | Loss: 0.206197634 |\n",
      "| Epoch:  8000 | Accuracy: 0.97250 | Loss: 0.205458328 |\n",
      "| Epoch:  8500 | Accuracy: 0.97250 | Loss: 0.207021981 |\n",
      "| Epoch:  9000 | Accuracy: 0.97250 | Loss: 0.205666721 |\n",
      "| Epoch:  9500 | Accuracy: 0.97250 | Loss: 0.205406666 |\n",
      "| Epoch: 10000 | Accuracy: 0.97250 | Loss: 0.206514299 |\n",
      "Early stop.\n",
      "Finished.\n"
     ]
    }
   ],
   "source": [
    "optimizer_PNN = torch.optim.Adam(PNN.parameters(), lr=0.01)\n",
    "train_loader = DataLoader(train_data, batch_size=len(train_data))\n",
    "train_loss_PNN, test_loss_PNN, parameter_PNN = tv.train_normal_pnn(PNN, train_loader, test_loader,\n",
    "                                                                   m, T, optimizer_PNN,\n",
    "                                                                   pnnv.LossFunction, Epoch=50000, cache=ds)"
   ]
  },
  {
   "cell_type": "code",
   "execution_count": 26,
   "id": "b2298f06-db39-45c5-a1bd-d6210d45ef85",
   "metadata": {},
   "outputs": [
    {
     "data": {
      "text/plain": [
       "(5, 0.2041315734386444)"
      ]
     },
     "execution_count": 26,
     "metadata": {},
     "output_type": "execute_result"
    },
    {
     "data": {
      "image/png": "[encoded data removed]",
      "text/plain": [
       "<Figure size 432x288 with 1 Axes>"
      ]
     },
     "metadata": {
      "needs_background": "light"
     },
     "output_type": "display_data"
    }
   ],
   "source": [
    "plt.plot(train_loss_PNN, '-', label='train')\n",
    "plt.plot(test_loss_PNN, '--', label='test')\n",
    "plt.legend()\n",
    "best = np.argmin(test_loss_PNN)\n",
    "PNN.load_state_dict(parameter_PNN)\n",
    "best, test_loss_PNN[best]"
   ]
  },
  {
   "cell_type": "code",
   "execution_count": 27,
   "id": "44a3adbc-7414-49e5-89da-34d52ee29806",
   "metadata": {},
   "outputs": [
    {
     "data": {
      "application/vnd.jupyter.widget-view+json": {
       "model_id": "86d7f7e349f74f4fb103eb06be8a8075",
       "version_major": 2,
       "version_minor": 0
      },
      "text/plain": [
       "  0%|          | 0/50000 [00:00<?, ?it/s]"
      ]
     },
     "metadata": {},
     "output_type": "display_data"
    },
    {
     "name": "stdout",
     "output_type": "stream",
     "text": [
      "| Epoch:     0 | Accuracy: 0.97250 | Loss: 0.204185441 |\n",
      "| Epoch:   500 | Accuracy: 0.97250 | Loss: 0.204281271 |\n",
      "| Epoch:  1000 | Accuracy: 0.97250 | Loss: 0.204341471 |\n",
      "| Epoch:  1500 | Accuracy: 0.97250 | Loss: 0.204390019 |\n",
      "| Epoch:  2000 | Accuracy: 0.97250 | Loss: 0.204493001 |\n",
      "| Epoch:  2500 | Accuracy: 0.97250 | Loss: 0.204455450 |\n",
      "| Epoch:  3000 | Accuracy: 0.97250 | Loss: 0.204558715 |\n",
      "| Epoch:  3500 | Accuracy: 0.97250 | Loss: 0.204536468 |\n",
      "| Epoch:  4000 | Accuracy: 0.97250 | Loss: 0.204579696 |\n",
      "| Epoch:  4500 | Accuracy: 0.97250 | Loss: 0.204637498 |\n",
      "| Epoch:  5000 | Accuracy: 0.97250 | Loss: 0.204554111 |\n",
      "| Epoch:  5500 | Accuracy: 0.97250 | Loss: 0.204521596 |\n",
      "| Epoch:  6000 | Accuracy: 0.97250 | Loss: 0.204499006 |\n",
      "| Epoch:  6500 | Accuracy: 0.97250 | Loss: 0.204534397 |\n",
      "| Epoch:  7000 | Accuracy: 0.97250 | Loss: 0.204584152 |\n",
      "| Epoch:  7500 | Accuracy: 0.97250 | Loss: 0.204590335 |\n",
      "| Epoch:  8000 | Accuracy: 0.97250 | Loss: 0.204567567 |\n",
      "| Epoch:  8500 | Accuracy: 0.97250 | Loss: 0.204591647 |\n",
      "| Epoch:  9000 | Accuracy: 0.97250 | Loss: 0.204646826 |\n",
      "| Epoch:  9500 | Accuracy: 0.97250 | Loss: 0.204733118 |\n",
      "| Epoch: 10000 | Accuracy: 0.97250 | Loss: 0.204678074 |\n",
      "Early stop.\n",
      "Finished.\n"
     ]
    }
   ],
   "source": [
    "optimizer_PNN = torch.optim.Adam(PNN.parameters(), lr=0.001)\n",
    "train_loader = DataLoader(train_data, batch_size=len(train_data))\n",
    "train_loss_PNN, test_loss_PNN, parameter_PNN = tv.train_normal_pnn(PNN, train_loader, test_loader,\n",
    "                                                                   m, T, optimizer_PNN,\n",
    "                                                                   pnnv.LossFunction, Epoch=50000, cache=ds)"
   ]
  },
  {
   "cell_type": "code",
   "execution_count": 28,
   "id": "d612d550-ac09-4551-bc7b-b0fa7479a26f",
   "metadata": {},
   "outputs": [
    {
     "data": {
      "text/plain": [
       "(1, 0.2040865272283554)"
      ]
     },
     "execution_count": 28,
     "metadata": {},
     "output_type": "execute_result"
    },
    {
     "data": {
      "image/png": "[encoded data removed]",
      "text/plain": [
       "<Figure size 432x288 with 1 Axes>"
      ]
     },
     "metadata": {
      "needs_background": "light"
     },
     "output_type": "display_data"
    }
   ],
   "source": [
    "plt.plot(train_loss_PNN, '-', label='train')\n",
    "plt.plot(test_loss_PNN, '--', label='test')\n",
    "plt.legend()\n",
    "best = np.argmin(test_loss_PNN)\n",
    "PNN.load_state_dict(parameter_PNN)\n",
    "best, test_loss_PNN[best]"
   ]
  },
  {
   "cell_type": "markdown",
   "id": "bbef757b-0f2d-4e54-93dd-8f60121ca948",
   "metadata": {},
   "source": [
    "## Save Model"
   ]
  },
  {
   "cell_type": "code",
   "execution_count": 29,
   "id": "13a6ddc5-4d1c-4371-9b7d-b78844405e87",
   "metadata": {},
   "outputs": [],
   "source": [
    "with open(f'./result/{ds}_PNN_{seed}.p', 'wb') as f:\n",
    "    pickle.dump(PNN, f)"
   ]
  },
  {
   "cell_type": "code",
   "execution_count": 30,
   "id": "607f912d-7361-42ba-a915-41ad83b814a2",
   "metadata": {},
   "outputs": [
    {
     "data": {
      "text/plain": [
       "Sequential(\n",
       "  (0): PNNLayer()\n",
       "  (1): PNNLayer()\n",
       ")"
      ]
     },
     "execution_count": 30,
     "metadata": {},
     "output_type": "execute_result"
    }
   ],
   "source": [
    "PNN.to('cpu')"
   ]
  },
  {
   "cell_type": "markdown",
   "id": "59ebe567-61eb-4cb0-bbe1-71d8aff12aac",
   "metadata": {},
   "source": [
    "# Aging Aware PNN"
   ]
  },
  {
   "cell_type": "code",
   "execution_count": 31,
   "id": "19abcaae",
   "metadata": {},
   "outputs": [
    {
     "data": {
      "text/plain": [
       "Sequential(\n",
       "  (0): PNNLayer()\n",
       "  (1): PNNLayer()\n",
       ")"
      ]
     },
     "execution_count": 31,
     "metadata": {},
     "output_type": "execute_result"
    }
   ],
   "source": [
    "AAPNN = torch.nn.Sequential(pnnv.PNNLayer(N_features, N_Hidden, age_generator, xpu=device),\n",
    "                           pnnv.PNNLayer(N_Hidden, N_class, age_generator, xpu=device))\n",
    "\n",
    "AAPNN.apply(lambda z: pnnv.MakeModel(z, M_train))\n",
    "AAPNN.apply(lambda z: pnnv.SetTime(z, np.random.rand(K_train).tolist()))\n",
    "\n",
    "AAPNN.to(device)"
   ]
  },
  {
   "cell_type": "markdown",
   "id": "8b03e98a-fcdf-42a1-8f2b-582657cc47a0",
   "metadata": {},
   "source": [
    "## Reload AAPNN if crash"
   ]
  },
  {
   "cell_type": "code",
   "execution_count": 32,
   "id": "feaf2602-3633-4814-9b13-42c407dba269",
   "metadata": {},
   "outputs": [],
   "source": [
    "# if os.path.exists(f'./temp/{ds}_AAPNN.p'): \n",
    "#     with open(f'./temp/{ds}_AAPNN.p', 'rb') as f:\n",
    "#         AAPNN = pickle.load(f)"
   ]
  },
  {
   "cell_type": "markdown",
   "id": "e65740a1-a29a-48ca-b332-5cc4b0556ca9",
   "metadata": {},
   "source": [
    "## Training"
   ]
  },
  {
   "cell_type": "code",
   "execution_count": 33,
   "id": "183e27bb-8d0a-4448-be67-78927eaf8e1b",
   "metadata": {},
   "outputs": [
    {
     "data": {
      "application/vnd.jupyter.widget-view+json": {
       "model_id": "64d5f06af1164e599c72e382bc89455d",
       "version_major": 2,
       "version_minor": 0
      },
      "text/plain": [
       "  0%|          | 0/500 [00:00<?, ?it/s]"
      ]
     },
     "metadata": {},
     "output_type": "display_data"
    },
    {
     "name": "stdout",
     "output_type": "stream",
     "text": [
      "| Epoch:     0 | Accuracy: 0.25688 | Loss: 1.033678293 |\n",
      "| Epoch:    25 | Accuracy: 0.49083 | Loss: 0.773498595 |\n",
      "| Epoch:    50 | Accuracy: 0.62813 | Loss: 0.646800458 |\n",
      "| Epoch:    75 | Accuracy: 0.69216 | Loss: 0.567477942 |\n",
      "| Epoch:   100 | Accuracy: 0.72003 | Loss: 0.517080843 |\n",
      "| Epoch:   125 | Accuracy: 0.77639 | Loss: 0.414907426 |\n",
      "| Epoch:   150 | Accuracy: 0.79086 | Loss: 0.388902783 |\n",
      "| Epoch:   175 | Accuracy: 0.79794 | Loss: 0.373234719 |\n",
      "| Epoch:   200 | Accuracy: 0.80345 | Loss: 0.375531197 |\n",
      "| Epoch:   225 | Accuracy: 0.80889 | Loss: 0.356876165 |\n",
      "| Epoch:   250 | Accuracy: 0.79890 | Loss: 0.366350174 |\n",
      "| Epoch:   275 | Accuracy: 0.80860 | Loss: 0.366127014 |\n",
      "| Epoch:   300 | Accuracy: 0.81330 | Loss: 0.370106429 |\n",
      "| Epoch:   325 | Accuracy: 0.81803 | Loss: 0.350006670 |\n",
      "| Epoch:   350 | Accuracy: 0.80565 | Loss: 0.354871780 |\n",
      "| Epoch:   375 | Accuracy: 0.81335 | Loss: 0.355575025 |\n",
      "| Epoch:   400 | Accuracy: 0.81030 | Loss: 0.352274954 |\n",
      "| Epoch:   425 | Accuracy: 0.81574 | Loss: 0.345328897 |\n",
      "| Epoch:   450 | Accuracy: 0.82427 | Loss: 0.344365507 |\n",
      "| Epoch:   475 | Accuracy: 0.81925 | Loss: 0.362460971 |\n",
      "Finished.\n"
     ]
    }
   ],
   "source": [
    "optimizer_AAPNN = torch.optim.Adam(AAPNN.parameters(), lr=0.1)\n",
    "train_loader = DataLoader(train_data, batch_size=min(len(train_data),1024))\n",
    "train_loss_AAPNN, test_loss_AAPNN, parameter_AAPNN = tv.train_aged_pnn(AAPNN, train_loader, test_loader,\n",
    "                                        m, T, M_train, K_train, M_test, K_test,\n",
    "                                        optimizer_AAPNN, pnnv.LossFunction,\n",
    "                                        Epoch=500, cache=ds)"
   ]
  },
  {
   "cell_type": "code",
   "execution_count": 34,
   "id": "ea0cb974",
   "metadata": {},
   "outputs": [
    {
     "data": {
      "text/plain": [
       "(493, 0.3096097707748413)"
      ]
     },
     "execution_count": 34,
     "metadata": {},
     "output_type": "execute_result"
    },
    {
     "data": {
      "image/png": "[encoded data removed]",
      "text/plain": [
       "<Figure size 432x288 with 1 Axes>"
      ]
     },
     "metadata": {
      "needs_background": "light"
     },
     "output_type": "display_data"
    }
   ],
   "source": [
    "plt.plot(train_loss_AAPNN, '-', label='train')\n",
    "plt.plot(test_loss_AAPNN, '--', label='test')\n",
    "plt.legend()\n",
    "best = np.argmin(test_loss_AAPNN)\n",
    "AAPNN.load_state_dict(parameter_AAPNN)\n",
    "best, test_loss_AAPNN[best]"
   ]
  },
  {
   "cell_type": "code",
   "execution_count": 35,
   "id": "eac79592-ecb0-4ba0-93a9-ee82f9050e2c",
   "metadata": {},
   "outputs": [
    {
     "data": {
      "application/vnd.jupyter.widget-view+json": {
       "model_id": "6bd378a5309f405798652828e0531d01",
       "version_major": 2,
       "version_minor": 0
      },
      "text/plain": [
       "  0%|          | 0/1000 [00:00<?, ?it/s]"
      ]
     },
     "metadata": {},
     "output_type": "display_data"
    },
    {
     "name": "stdout",
     "output_type": "stream",
     "text": [
      "| Epoch:     0 | Accuracy: 0.82425 | Loss: 0.331280679 |\n",
      "| Epoch:    50 | Accuracy: 0.82920 | Loss: 0.329079241 |\n",
      "| Epoch:   100 | Accuracy: 0.82913 | Loss: 0.332804382 |\n",
      "| Epoch:   150 | Accuracy: 0.83341 | Loss: 0.311483622 |\n",
      "| Epoch:   200 | Accuracy: 0.83315 | Loss: 0.333305866 |\n",
      "| Epoch:   250 | Accuracy: 0.82115 | Loss: 0.341346622 |\n",
      "| Epoch:   300 | Accuracy: 0.82331 | Loss: 0.324943155 |\n",
      "| Epoch:   350 | Accuracy: 0.81498 | Loss: 0.356624514 |\n",
      "| Epoch:   400 | Accuracy: 0.82506 | Loss: 0.345320165 |\n",
      "| Epoch:   450 | Accuracy: 0.81179 | Loss: 0.350430906 |\n",
      "| Epoch:   500 | Accuracy: 0.83024 | Loss: 0.318004578 |\n",
      "| Epoch:   550 | Accuracy: 0.83593 | Loss: 0.328072846 |\n",
      "| Epoch:   600 | Accuracy: 0.83811 | Loss: 0.309461147 |\n",
      "| Epoch:   650 | Accuracy: 0.81966 | Loss: 0.354725629 |\n",
      "| Epoch:   700 | Accuracy: 0.83157 | Loss: 0.312066406 |\n",
      "| Epoch:   750 | Accuracy: 0.82769 | Loss: 0.329169661 |\n",
      "| Epoch:   800 | Accuracy: 0.81825 | Loss: 0.340667427 |\n",
      "| Epoch:   850 | Accuracy: 0.82799 | Loss: 0.336046815 |\n",
      "| Epoch:   900 | Accuracy: 0.83222 | Loss: 0.324413508 |\n",
      "| Epoch:   950 | Accuracy: 0.81947 | Loss: 0.339689523 |\n",
      "Finished.\n"
     ]
    }
   ],
   "source": [
    "optimizer_AAPNN = torch.optim.Adam(AAPNN.parameters(), lr=0.01)\n",
    "train_loader = DataLoader(train_data, batch_size=len(train_data))\n",
    "train_loss_AAPNN, test_loss_AAPNN, parameter_AAPNN = tv.train_aged_pnn(AAPNN, train_loader, test_loader,\n",
    "                                        m, T, M_train, K_train, M_test, K_test,\n",
    "                                        optimizer_AAPNN, pnnv.LossFunction,\n",
    "                                        Epoch=1000, cache=ds)"
   ]
  },
  {
   "cell_type": "code",
   "execution_count": 36,
   "id": "1239230b-9748-48c4-9823-50c54dab9f5c",
   "metadata": {},
   "outputs": [
    {
     "data": {
      "text/plain": [
       "(187, 0.29484882950782776)"
      ]
     },
     "execution_count": 36,
     "metadata": {},
     "output_type": "execute_result"
    },
    {
     "data": {
      "image/png": "[encoded data removed]",
      "text/plain": [
       "<Figure size 432x288 with 1 Axes>"
      ]
     },
     "metadata": {
      "needs_background": "light"
     },
     "output_type": "display_data"
    }
   ],
   "source": [
    "plt.plot(train_loss_AAPNN, '-', label='train')\n",
    "plt.plot(test_loss_AAPNN, '--', label='test')\n",
    "plt.legend()\n",
    "best = np.argmin(test_loss_AAPNN)\n",
    "AAPNN.load_state_dict(parameter_AAPNN)\n",
    "best, test_loss_AAPNN[best]"
   ]
  },
  {
   "cell_type": "code",
   "execution_count": 37,
   "id": "6ae4605b-0cb9-4394-afef-d515bebd8a3b",
   "metadata": {},
   "outputs": [
    {
     "data": {
      "application/vnd.jupyter.widget-view+json": {
       "model_id": "127194d3598544ed96168005187bbb53",
       "version_major": 2,
       "version_minor": 0
      },
      "text/plain": [
       "  0%|          | 0/1000 [00:00<?, ?it/s]"
      ]
     },
     "metadata": {},
     "output_type": "display_data"
    },
    {
     "name": "stdout",
     "output_type": "stream",
     "text": [
      "| Epoch:     0 | Accuracy: 0.81798 | Loss: 0.350446641 |\n",
      "| Epoch:    50 | Accuracy: 0.83160 | Loss: 0.329629749 |\n",
      "| Epoch:   100 | Accuracy: 0.81958 | Loss: 0.333401680 |\n",
      "| Epoch:   150 | Accuracy: 0.82956 | Loss: 0.325462162 |\n",
      "| Epoch:   200 | Accuracy: 0.83011 | Loss: 0.312251061 |\n",
      "| Epoch:   250 | Accuracy: 0.82198 | Loss: 0.352239341 |\n",
      "| Epoch:   300 | Accuracy: 0.82200 | Loss: 0.341982812 |\n",
      "| Epoch:   350 | Accuracy: 0.83203 | Loss: 0.318106353 |\n",
      "| Epoch:   400 | Accuracy: 0.81324 | Loss: 0.355796814 |\n",
      "| Epoch:   450 | Accuracy: 0.81971 | Loss: 0.344828635 |\n",
      "| Epoch:   500 | Accuracy: 0.81091 | Loss: 0.349785239 |\n",
      "| Epoch:   550 | Accuracy: 0.82156 | Loss: 0.342694402 |\n",
      "| Epoch:   600 | Accuracy: 0.80842 | Loss: 0.370804131 |\n",
      "| Epoch:   650 | Accuracy: 0.84180 | Loss: 0.308247268 |\n",
      "| Epoch:   700 | Accuracy: 0.80442 | Loss: 0.373801798 |\n",
      "| Epoch:   750 | Accuracy: 0.83260 | Loss: 0.314825535 |\n",
      "| Epoch:   800 | Accuracy: 0.81410 | Loss: 0.361901939 |\n",
      "| Epoch:   850 | Accuracy: 0.81726 | Loss: 0.333248287 |\n",
      "| Epoch:   900 | Accuracy: 0.81107 | Loss: 0.363323390 |\n",
      "| Epoch:   950 | Accuracy: 0.82117 | Loss: 0.345019519 |\n",
      "Finished.\n"
     ]
    }
   ],
   "source": [
    "optimizer_AAPNN = torch.optim.Adam(AAPNN.parameters(), lr=0.001)\n",
    "train_loader = DataLoader(train_data, batch_size=len(train_data))\n",
    "train_loss_AAPNN, test_loss_AAPNN, parameter_AAPNN = tv.train_aged_pnn(AAPNN, train_loader, test_loader,\n",
    "                                        m, T, M_train, K_train, M_test, K_test,\n",
    "                                        optimizer_AAPNN, pnnv.LossFunction,\n",
    "                                        Epoch=1000, cache=ds)"
   ]
  },
  {
   "cell_type": "code",
   "execution_count": 38,
   "id": "b8d3302e-4f94-46cc-b31c-4af71c8ab76e",
   "metadata": {},
   "outputs": [
    {
     "data": {
      "text/plain": [
       "(412, 0.29570144414901733)"
      ]
     },
     "execution_count": 38,
     "metadata": {},
     "output_type": "execute_result"
    },
    {
     "data": {
      "image/png": "[encoded data removed]",
      "text/plain": [
       "<Figure size 432x288 with 1 Axes>"
      ]
     },
     "metadata": {
      "needs_background": "light"
     },
     "output_type": "display_data"
    }
   ],
   "source": [
    "plt.plot(train_loss_AAPNN, '-', label='train')\n",
    "plt.plot(test_loss_AAPNN, '--', label='test')\n",
    "plt.legend()\n",
    "best = np.argmin(test_loss_AAPNN)\n",
    "AAPNN.load_state_dict(parameter_AAPNN)\n",
    "best, test_loss_AAPNN[best]"
   ]
  },
  {
   "cell_type": "markdown",
   "id": "19ad1ac6-b8ec-427c-9b71-a3631c478096",
   "metadata": {},
   "source": [
    "## Save Model"
   ]
  },
  {
   "cell_type": "code",
   "execution_count": 39,
   "id": "0d491031",
   "metadata": {},
   "outputs": [],
   "source": [
    "with open(f'./result/{ds}_AAPNN_{seed}.p', 'wb') as f:\n",
    "    pickle.dump(AAPNN, f)"
   ]
  },
  {
   "cell_type": "code",
   "execution_count": null,
   "id": "c322f096-d8ef-4841-8265-b43ce5ee271e",
   "metadata": {},
   "outputs": [],
   "source": []
  }
 ],
 "metadata": {
  "kernelspec": {
   "display_name": "MachineLearning",
   "language": "python",
   "name": "machinelearning"
  },
  "language_info": {
   "codemirror_mode": {
    "name": "ipython",
    "version": 3
   },
   "file_extension": ".py",
   "mimetype": "text/x-python",
   "name": "python",
   "nbconvert_exporter": "python",
   "pygments_lexer": "ipython3",
   "version": "3.8.12"
  },
  "toc": {
   "base_numbering": 1,
   "nav_menu": {},
   "number_sections": true,
   "sideBar": true,
   "skip_h1_title": false,
   "title_cell": "Table of Contents",
   "title_sidebar": "Contents",
   "toc_cell": false,
   "toc_position": {},
   "toc_section_display": true,
   "toc_window_display": true
  }
 },
 "nbformat": 4,
 "nbformat_minor": 5
}
