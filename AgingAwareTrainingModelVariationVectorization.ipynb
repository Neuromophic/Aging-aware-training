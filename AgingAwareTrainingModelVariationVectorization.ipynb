{
 "cells": [
  {
   "cell_type": "markdown",
   "id": "e0f1319a",
   "metadata": {},
   "source": [
    "# Aging Aware with Model Variation\n",
    "Previously, we optimize the following functional:\n",
    "$$ \\min_\\theta \\, \\int_{t=0}^{1} \\; L(\\theta(t)) \\, {\\rm d}t. $$\n",
    "The optimum is for a specific aging model $\\omega$, i.e., we minimized the \n",
    "$$ \\min_\\theta \\, \\int_{t=0}^{1} \\; L(\\theta(t,\\omega)) \\, {\\rm d}t. $$\n",
    "However, we dont know how will the resistance decay, i.e., we should also minimize the loss function w.r.t. aging models with different parameters. That means we need to optimized\n",
    "$$ \\min_\\theta \\, \\int_{\\omega}\\int_{t=0}^{1} \\; L(\\theta(t,\\omega)) \\, {\\rm d}t\\, p(\\omega){\\rm d}\\omega. $$\n",
    "The Mento Carlo Approximation is then\n",
    "$$\n",
    "\\min_{\\theta_{\\rm init}} \\frac{1}{\\Omega}\\frac{1}{K}\\sum_{\\omega\\in\\mathfrak{M}}\\sum_{k\\in \\mathfrak{K} } L \\left(\\theta[k, \\omega]\\right),\n",
    "$$\n",
    "where $\\mathfrak{M}$ is the set of $\\Omega$ elements following the distribution $p(\\omega)$. $p(\\omega)$ is the distributions of parameters of the aging model. We have already obtained these distributions as we modeled the aging decay.\n",
    "\n",
    "That means we should optimize this problem by\n",
    "$$\n",
    "\\begin{align}\n",
    "\\theta_{\\rm init}&:=\\theta_{\\rm init} - \\alpha\\cdot\\nabla_{\\theta_{\\rm init}}\\left(\\frac{1}{\\Omega}\\frac{1}{K}\\sum_{\\omega\\in\\mathfrak{M}}\\sum_{k\\in \\mathfrak{K} } L \\left(\\theta[k, \\omega]\\right)\\right)\\\\\n",
    "&=\\theta_{\\rm init} - \\frac{\\alpha}{\\Omega K}\\cdot\\nabla_{\\theta_{\\rm init}}\\left(\\sum_{\\omega\\in\\mathfrak{M}}\\sum_{k\\in \\mathfrak{K} } L \\left(\\theta[k, \\omega]\\right)\\right)\\\\\n",
    "&=\\theta_{\\rm init} - \\frac{\\alpha}{\\Omega K}\\left(\\sum_{\\omega\\in\\mathfrak{M}}\\sum_{k\\in \\mathfrak{K} }\\nabla_{\\theta_{\\rm init}} L \\left(\\theta[k, \\omega]\\right)\\right)\n",
    "\\end{align}\n",
    "$$"
   ]
  },
  {
   "cell_type": "markdown",
   "id": "eab183f8",
   "metadata": {},
   "source": [
    "# Import library"
   ]
  },
  {
   "cell_type": "code",
   "execution_count": 1,
   "id": "0bc40b33",
   "metadata": {},
   "outputs": [],
   "source": [
    "import importlib\n",
    "from torch.autograd import Variable\n",
    "import torch\n",
    "import pickle\n",
    "import os\n",
    "import sys\n",
    "import matplotlib.pyplot as plt\n",
    "import numpy as np\n",
    "import pNN_aging_aware_vectorization as pnnv\n",
    "import training_vectorization as tv\n",
    "import random\n",
    "import config\n",
    "sys.path.append(os.path.join(os.getcwd(), 'Aging_Model'))"
   ]
  },
  {
   "cell_type": "markdown",
   "id": "af93c27e-7559-466e-9a0f-084e03f0c576",
   "metadata": {},
   "source": [
    "# Random Seed"
   ]
  },
  {
   "cell_type": "code",
   "execution_count": 2,
   "id": "66785455-86c3-4e9a-a35e-4bd3c3f465eb",
   "metadata": {},
   "outputs": [],
   "source": [
    "seed = 0\n",
    "\n",
    "random.seed(seed);\n",
    "np.random.seed(seed);\n",
    "torch.manual_seed(seed);"
   ]
  },
  {
   "cell_type": "markdown",
   "id": "9b31036f-1808-460e-a011-acd675130bb5",
   "metadata": {},
   "source": [
    "# Get Aging Model"
   ]
  },
  {
   "cell_type": "code",
   "execution_count": 3,
   "id": "ba549dc5-0e02-4b8d-aefa-05764dfcfde6",
   "metadata": {},
   "outputs": [],
   "source": [
    "with open(os.path.join(os.getcwd(), 'Aging_Model', 'exp_aging_model.p'), 'rb') as f:\n",
    "    age_generator = pickle.load(f)"
   ]
  },
  {
   "cell_type": "markdown",
   "id": "1026bd3c",
   "metadata": {},
   "source": [
    "# Device"
   ]
  },
  {
   "cell_type": "code",
   "execution_count": 4,
   "id": "b0e91163",
   "metadata": {},
   "outputs": [
    {
     "data": {
      "text/plain": [
       "'cpu'"
      ]
     },
     "execution_count": 4,
     "metadata": {},
     "output_type": "execute_result"
    }
   ],
   "source": [
    "# device = torch.device('cuda' if torch.cuda.is_available() else 'cpu')\n",
    "# device = torch.device('cuda:0')\n",
    "device = 'cpu'\n",
    "device"
   ]
  },
  {
   "cell_type": "markdown",
   "id": "15519567",
   "metadata": {},
   "source": [
    "# Prepare data"
   ]
  },
  {
   "cell_type": "markdown",
   "id": "f224be26-e399-42a8-9c96-e285490e8916",
   "metadata": {},
   "source": [
    "## Dataset"
   ]
  },
  {
   "cell_type": "code",
   "execution_count": 5,
   "id": "92014c65-5b5c-4b61-93ef-30f044282eb3",
   "metadata": {},
   "outputs": [
    {
     "data": {
      "text/plain": [
       "'MammographicMass'"
      ]
     },
     "execution_count": 5,
     "metadata": {},
     "output_type": "execute_result"
    }
   ],
   "source": [
    "if config.current_dataset is not None:\n",
    "    ds = config.datasets[config.current_dataset]\n",
    "else:\n",
    "    ds = config.datasets[0]\n",
    "\n",
    "ds"
   ]
  },
  {
   "cell_type": "markdown",
   "id": "3f9b925b",
   "metadata": {},
   "source": [
    "## Load data"
   ]
  },
  {
   "cell_type": "code",
   "execution_count": 6,
   "id": "fd3f8c31",
   "metadata": {},
   "outputs": [
    {
     "data": {
      "text/plain": [
       "(torch.Size([961, 5]), torch.Size([961]), 961, 5, 2)"
      ]
     },
     "execution_count": 6,
     "metadata": {},
     "output_type": "execute_result"
    }
   ],
   "source": [
    "datapath = os.path.join(os.getcwd(), 'Datasets',\n",
    "                        'dataset_processed', f'Dataset_{ds}.p')\n",
    "with open(datapath, 'rb') as f:\n",
    "    dataset = pickle.load(f)\n",
    "X = dataset['X'].float()\n",
    "y = dataset['y']\n",
    "\n",
    "E, N_features, N_class = X.shape[0], X.shape[1], torch.max(\n",
    "    torch.unique(y)).item()+1\n",
    "X.shape, y.shape, E, N_features, N_class"
   ]
  },
  {
   "cell_type": "markdown",
   "id": "35adbc19",
   "metadata": {},
   "source": [
    "## Pseudo-electrical Signal"
   ]
  },
  {
   "cell_type": "code",
   "execution_count": 7,
   "id": "ea0969cc",
   "metadata": {},
   "outputs": [
    {
     "data": {
      "text/plain": [
       "(tensor(0.), tensor(1.))"
      ]
     },
     "execution_count": 7,
     "metadata": {},
     "output_type": "execute_result"
    }
   ],
   "source": [
    "X = X - torch.min(X, axis=0)[0]\n",
    "X = X / (torch.max(X, axis=0)[0])\n",
    "torch.min(X), torch.max(X)"
   ]
  },
  {
   "cell_type": "code",
   "execution_count": 8,
   "id": "9d04d54b",
   "metadata": {},
   "outputs": [
    {
     "data": {
      "text/plain": [
       "tensor([[0.0909, 0.6979, 0.7500, 1.0000, 0.7500],\n",
       "        [0.0727, 0.4479, 0.2500, 0.2000, 0.0000],\n",
       "        [0.0909, 0.6042, 1.0000, 1.0000, 0.7500],\n",
       "        [0.0727, 0.2917, 0.2500, 0.2000, 0.7500],\n",
       "        [0.0909, 0.7708, 0.2500, 1.0000, 0.0000],\n",
       "        [0.0727, 0.6771, 0.2500, 0.0000, 0.7500],\n",
       "        [0.0727, 0.7292, 0.0000, 0.0000, 0.7500],\n",
       "        [0.0909, 0.4375, 0.2500, 0.0000, 0.7500],\n",
       "        [0.0909, 0.5938, 0.2500, 1.0000, 0.7500],\n",
       "        [0.0909, 0.6250, 0.0000, 1.0000, 0.2500]])"
      ]
     },
     "execution_count": 8,
     "metadata": {},
     "output_type": "execute_result"
    }
   ],
   "source": [
    "X[:10, :9]"
   ]
  },
  {
   "cell_type": "code",
   "execution_count": 9,
   "id": "6d30ecfc",
   "metadata": {},
   "outputs": [
    {
     "data": {
      "text/plain": [
       "(576, 192, 192)"
      ]
     },
     "execution_count": 9,
     "metadata": {},
     "output_type": "execute_result"
    }
   ],
   "source": [
    "from torch.utils.data import TensorDataset\n",
    "from torch.utils.data import DataLoader\n",
    "from torch.utils.data import random_split\n",
    "\n",
    "# generate tensordataset\n",
    "dataset = TensorDataset(X.to(device), y.to(device))\n",
    "\n",
    "# split\n",
    "train_rate = 0.6\n",
    "test_rate = 0.2\n",
    "valid_rate = 0.2\n",
    "E_train = min(8192, int(E*train_rate))\n",
    "E_test = min(2048, int(E*test_rate))\n",
    "E_valid = min(2048, int(E*valid_rate))\n",
    "\n",
    "random.seed(config.data_split_seed);\n",
    "np.random.seed(config.data_split_seed);\n",
    "torch.manual_seed(config.data_split_seed);\n",
    "\n",
    "train_data, rest_data = random_split(dataset, [E_train, E-E_train])\n",
    "test_data, rest_data = random_split(rest_data, [E_test, E-E_train-E_test])\n",
    "valid_data, rest_data = random_split(rest_data, [E_valid, E-E_train-E_test-E_valid])\n",
    "\n",
    "len(train_data), len(test_data), len(valid_data)"
   ]
  },
  {
   "cell_type": "code",
   "execution_count": 10,
   "id": "4f8988b7",
   "metadata": {},
   "outputs": [],
   "source": [
    "# batch\n",
    "train_loader = DataLoader(train_data, batch_size=len(train_data))\n",
    "test_loader = DataLoader(test_data, batch_size=len(test_data))\n",
    "valid_loader = DataLoader(valid_data, batch_size=len(valid_data))"
   ]
  },
  {
   "cell_type": "markdown",
   "id": "dfe7708a-0498-4d15-aeda-e4149a8041f1",
   "metadata": {},
   "source": [
    "# Set random seed"
   ]
  },
  {
   "cell_type": "code",
   "execution_count": 11,
   "id": "a0b2eb64-710d-4118-b77e-25c27c829e71",
   "metadata": {},
   "outputs": [],
   "source": [
    "random.seed(seed);\n",
    "np.random.seed(seed);\n",
    "torch.manual_seed(seed);"
   ]
  },
  {
   "cell_type": "markdown",
   "id": "98cf49ee-2bf2-4d63-8073-71feab7d7cff",
   "metadata": {},
   "source": [
    "# Normal NN"
   ]
  },
  {
   "cell_type": "markdown",
   "id": "f3030cec-d9a3-4baa-8fdf-778491a9e5b7",
   "metadata": {},
   "source": [
    "## Define"
   ]
  },
  {
   "cell_type": "code",
   "execution_count": 12,
   "id": "d8578200-6be0-46b8-81be-2d0726a9d4a0",
   "metadata": {},
   "outputs": [
    {
     "data": {
      "text/plain": [
       "Sequential(\n",
       "  (0): Linear(in_features=5, out_features=3, bias=True)\n",
       "  (1): Tanh()\n",
       "  (2): Linear(in_features=3, out_features=2, bias=True)\n",
       "  (3): Tanh()\n",
       ")"
      ]
     },
     "execution_count": 12,
     "metadata": {},
     "output_type": "execute_result"
    }
   ],
   "source": [
    "NN = torch.nn.Sequential(torch.nn.Linear(N_features, config.N_Hidden), torch.nn.Tanh(),\n",
    "                        torch.nn.Linear(config.N_Hidden, N_class), torch.nn.Tanh())\n",
    "\n",
    "\n",
    "def weights_init(m):\n",
    "    if isinstance(m, torch.nn.Linear):\n",
    "        torch.nn.init.xavier_uniform_(m.weight)\n",
    "        m.bias.data.fill_(0.01)\n",
    "\n",
    "NN.apply(weights_init)\n",
    "\n",
    "celoss = torch.nn.CrossEntropyLoss()\n",
    "NN.to(device)"
   ]
  },
  {
   "cell_type": "markdown",
   "id": "f3ad2024-6626-423b-b707-09c8d33e2dc2",
   "metadata": {},
   "source": [
    "## Training"
   ]
  },
  {
   "cell_type": "code",
   "execution_count": null,
   "id": "22ff31fc-c84e-4a1f-a656-7807a6238aa2",
   "metadata": {},
   "outputs": [
    {
     "data": {
      "application/vnd.jupyter.widget-view+json": {
       "model_id": "db1f6565b8964528bf6f2ce14a4c0cdc",
       "version_major": 2,
       "version_minor": 0
      },
      "text/plain": [
       "  0%|          | 0/50000 [00:00<?, ?it/s]"
      ]
     },
     "metadata": {},
     "output_type": "display_data"
    },
    {
     "name": "stdout",
     "output_type": "stream",
     "text": [
      "| Epoch:     0 | Accuracy: 0.49479 | Loss: 0.692848206\n",
      "| Epoch:   500 | Accuracy: 0.86979 | Loss: 0.372415274\n",
      "| Epoch:  1000 | Accuracy: 0.84896 | Loss: 0.369641781\n",
      "| Epoch:  1500 | Accuracy: 0.84375 | Loss: 0.375204444\n",
      "| Epoch:  2000 | Accuracy: 0.84375 | Loss: 0.379760623\n",
      "| Epoch:  2500 | Accuracy: 0.85417 | Loss: 0.374522299\n",
      "| Epoch:  3000 | Accuracy: 0.85417 | Loss: 0.377492547\n"
     ]
    }
   ],
   "source": [
    "optimizer_NN = torch.optim.Adam(NN.parameters(), lr=config.lr)\n",
    "train_loader = DataLoader(train_data, batch_size=len(train_data))\n",
    "train_loss_NN, test_loss_NN, parameter_NN = tv.train_normal_nn(NN,\n",
    "                                                                     train_loader,\n",
    "                                                                     test_loader,\n",
    "                                                                     optimizer=optimizer_NN,\n",
    "                                                                     lossfunction=celoss,\n",
    "                                                                     Epoch=50000)"
   ]
  },
  {
   "cell_type": "code",
   "execution_count": null,
   "id": "2b482bd5-babe-4185-ac37-c6c15f27c16e",
   "metadata": {},
   "outputs": [],
   "source": [
    "plt.plot(train_loss_NN, '-', label='train')\n",
    "plt.plot(test_loss_NN, '--', label='test')\n",
    "plt.legend()\n",
    "NN.load_state_dict(parameter_NN)\n",
    "best = np.argmin(test_loss_NN)\n",
    "best, test_loss_NN[best]"
   ]
  },
  {
   "cell_type": "markdown",
   "id": "6568b4fd-62c9-4891-8cba-0b289bbf1e67",
   "metadata": {},
   "source": [
    "## Save Model"
   ]
  },
  {
   "cell_type": "code",
   "execution_count": null,
   "id": "3f076686-a233-4434-b21f-486c95c9a78b",
   "metadata": {},
   "outputs": [],
   "source": [
    "with open(f'./result/{ds}_NN_{seed}.p', 'wb') as f:\n",
    "    pickle.dump(NN, f)"
   ]
  },
  {
   "cell_type": "markdown",
   "id": "38d0bfe4-d2ea-45fb-827b-3ba9f5a37618",
   "metadata": {},
   "source": [
    "## Evaluation"
   ]
  },
  {
   "cell_type": "code",
   "execution_count": null,
   "id": "63f6d5f0-5245-4325-b384-58b4d79999a1",
   "metadata": {},
   "outputs": [],
   "source": [
    "for x_valid, y_valid in valid_loader:\n",
    "    prediction_valid = NN(x_valid)\n",
    "    p = torch.argmax(prediction_valid, 1)\n",
    "    pred_y = p.cpu().data.numpy().squeeze()\n",
    "    acc_valid = sum(pred_y == y_valid.cpu().numpy()) / y_valid.shape[0]\n",
    "print(acc_valid)"
   ]
  },
  {
   "cell_type": "code",
   "execution_count": null,
   "id": "2ec00e50-62f8-4ca1-98bc-e9db2eacefd7",
   "metadata": {},
   "outputs": [],
   "source": [
    "NN.to('cpu')"
   ]
  },
  {
   "cell_type": "markdown",
   "id": "5c65c580",
   "metadata": {},
   "source": [
    "# Normal PNN"
   ]
  },
  {
   "cell_type": "markdown",
   "id": "11fcb7de",
   "metadata": {},
   "source": [
    "## Define"
   ]
  },
  {
   "cell_type": "code",
   "execution_count": null,
   "id": "098714b2",
   "metadata": {},
   "outputs": [],
   "source": [
    "PNN = torch.nn.Sequential(pnnv.PNNLayer(N_features, config.N_Hidden, age_generator, xpu=device),\n",
    "                         pnnv.PNNLayer(config.N_Hidden, N_class, age_generator, xpu=device))\n",
    "\n",
    "PNN.apply(lambda z: pnnv.MakeModel(z, M=1))\n",
    "PNN.apply(lambda z: pnnv.SetTime(z, t=[0]))\n",
    "\n",
    "PNN.to(device)"
   ]
  },
  {
   "cell_type": "markdown",
   "id": "8eb6a0c4-b427-4278-b855-0c6f78ba5b8d",
   "metadata": {},
   "source": [
    "## Training"
   ]
  },
  {
   "cell_type": "code",
   "execution_count": null,
   "id": "b248e211",
   "metadata": {},
   "outputs": [],
   "source": [
    "optimizer_PNN = torch.optim.Adam(PNN.parameters(), lr=config.lr)\n",
    "train_loader = DataLoader(train_data, batch_size=len(train_data))\n",
    "train_loss_PNN, test_loss_PNN, parameter_PNN = tv.train_normal_pnn(PNN, train_loader, test_loader,\n",
    "                                                                   config.m, config.T, optimizer_PNN,\n",
    "                                                                   pnnv.LossFunction, Epoch=50000, cache=ds)"
   ]
  },
  {
   "cell_type": "code",
   "execution_count": null,
   "id": "9c2022fb-151b-40de-8e57-5d56e24460e3",
   "metadata": {},
   "outputs": [],
   "source": [
    "plt.plot(train_loss_PNN, '-', label='train')\n",
    "plt.plot(test_loss_PNN, '--', label='test')\n",
    "plt.legend()\n",
    "best = np.argmin(test_loss_PNN)\n",
    "PNN.load_state_dict(parameter_PNN)\n",
    "best, test_loss_PNN[best]"
   ]
  },
  {
   "cell_type": "markdown",
   "id": "bbef757b-0f2d-4e54-93dd-8f60121ca948",
   "metadata": {},
   "source": [
    "## Save Model"
   ]
  },
  {
   "cell_type": "code",
   "execution_count": null,
   "id": "13a6ddc5-4d1c-4371-9b7d-b78844405e87",
   "metadata": {},
   "outputs": [],
   "source": [
    "with open(f'./result/{ds}_PNN_{seed}.p', 'wb') as f:\n",
    "    pickle.dump(PNN, f)"
   ]
  },
  {
   "cell_type": "code",
   "execution_count": null,
   "id": "607f912d-7361-42ba-a915-41ad83b814a2",
   "metadata": {},
   "outputs": [],
   "source": [
    "PNN.to('cpu')"
   ]
  },
  {
   "cell_type": "markdown",
   "id": "59ebe567-61eb-4cb0-bbe1-71d8aff12aac",
   "metadata": {},
   "source": [
    "# Aging Aware PNN"
   ]
  },
  {
   "cell_type": "code",
   "execution_count": null,
   "id": "19abcaae",
   "metadata": {},
   "outputs": [],
   "source": [
    "AAPNN = torch.nn.Sequential(pnnv.PNNLayer(N_features, config.N_Hidden, age_generator, xpu=device),\n",
    "                           pnnv.PNNLayer(config.N_Hidden, N_class, age_generator, xpu=device))\n",
    "\n",
    "AAPNN.apply(lambda z: pnnv.MakeModel(z, config.M_train))\n",
    "AAPNN.apply(lambda z: pnnv.SetTime(z, np.random.rand(config.K_train).tolist()))\n",
    "\n",
    "AAPNN.to(device)"
   ]
  },
  {
   "cell_type": "markdown",
   "id": "8b03e98a-fcdf-42a1-8f2b-582657cc47a0",
   "metadata": {},
   "source": [
    "## Reload AAPNN if crash"
   ]
  },
  {
   "cell_type": "code",
   "execution_count": null,
   "id": "feaf2602-3633-4814-9b13-42c407dba269",
   "metadata": {},
   "outputs": [],
   "source": [
    "# if os.path.exists(f'./temp/{ds}_AAPNN.p'): \n",
    "#     with open(f'./temp/{ds}_AAPNN.p', 'rb') as f:\n",
    "#         AAPNN = pickle.load(f)"
   ]
  },
  {
   "cell_type": "markdown",
   "id": "e65740a1-a29a-48ca-b332-5cc4b0556ca9",
   "metadata": {},
   "source": [
    "## Training"
   ]
  },
  {
   "cell_type": "code",
   "execution_count": null,
   "id": "183e27bb-8d0a-4448-be67-78927eaf8e1b",
   "metadata": {},
   "outputs": [],
   "source": [
    "optimizer_AAPNN = torch.optim.Adam(AAPNN.parameters(), lr=0.05)\n",
    "train_loader = DataLoader(train_data, batch_size=min(len(train_data),1024))\n",
    "train_loss_AAPNN, test_loss_AAPNN, parameter_AAPNN = tv.train_aged_pnn(AAPNN, train_loader, test_loader,\n",
    "                                        config.m, config.T, config.M_train, config.K_train, config.M_test, config.K_test,\n",
    "                                        optimizer_AAPNN, pnnv.LossFunction,\n",
    "                                        Epoch=150, cache=ds)"
   ]
  },
  {
   "cell_type": "code",
   "execution_count": null,
   "id": "ea0cb974",
   "metadata": {},
   "outputs": [],
   "source": [
    "plt.plot(train_loss_AAPNN, '-', label='train')\n",
    "plt.plot(test_loss_AAPNN, '--', label='test')\n",
    "plt.legend()\n",
    "best = np.argmin(test_loss_AAPNN)\n",
    "AAPNN.load_state_dict(parameter_AAPNN)\n",
    "best, test_loss_AAPNN[best]"
   ]
  },
  {
   "cell_type": "code",
   "execution_count": null,
   "id": "eac79592-ecb0-4ba0-93a9-ee82f9050e2c",
   "metadata": {},
   "outputs": [],
   "source": [
    "optimizer_AAPNN = torch.optim.Adam(AAPNN.parameters(), lr=0.01)\n",
    "train_loader = DataLoader(train_data, batch_size=len(train_data))\n",
    "train_loss_AAPNN, test_loss_AAPNN, parameter_AAPNN = tv.train_aged_pnn(AAPNN, train_loader, test_loader,\n",
    "                                        config.m, config.T, config.M_train, config.K_train, config.M_test, config.K_test,\n",
    "                                        optimizer_AAPNN, pnnv.LossFunction,\n",
    "                                        Epoch=250, cache=ds)"
   ]
  },
  {
   "cell_type": "code",
   "execution_count": null,
   "id": "1239230b-9748-48c4-9823-50c54dab9f5c",
   "metadata": {},
   "outputs": [],
   "source": [
    "plt.plot(train_loss_AAPNN, '-', label='train')\n",
    "plt.plot(test_loss_AAPNN, '--', label='test')\n",
    "plt.legend()\n",
    "best = np.argmin(test_loss_AAPNN)\n",
    "AAPNN.load_state_dict(parameter_AAPNN)\n",
    "best, test_loss_AAPNN[best]"
   ]
  },
  {
   "cell_type": "code",
   "execution_count": null,
   "id": "6ae4605b-0cb9-4394-afef-d515bebd8a3b",
   "metadata": {},
   "outputs": [],
   "source": [
    "optimizer_AAPNN = torch.optim.Adam(AAPNN.parameters(), lr=0.001)\n",
    "train_loader = DataLoader(train_data, batch_size=len(train_data))\n",
    "train_loss_AAPNN, test_loss_AAPNN, parameter_AAPNN = tv.train_aged_pnn(AAPNN, train_loader, test_loader,\n",
    "                                        config.m, config.T, config.M_train, config.K_train, config.M_test, config.K_test,\n",
    "                                        optimizer_AAPNN, pnnv.LossFunction,\n",
    "                                        Epoch=250, cache=ds)"
   ]
  },
  {
   "cell_type": "code",
   "execution_count": null,
   "id": "b8d3302e-4f94-46cc-b31c-4af71c8ab76e",
   "metadata": {},
   "outputs": [],
   "source": [
    "plt.plot(train_loss_AAPNN, '-', label='train')\n",
    "plt.plot(test_loss_AAPNN, '--', label='test')\n",
    "plt.legend()\n",
    "best = np.argmin(test_loss_AAPNN)\n",
    "AAPNN.load_state_dict(parameter_AAPNN)\n",
    "best, test_loss_AAPNN[best]"
   ]
  },
  {
   "cell_type": "markdown",
   "id": "19ad1ac6-b8ec-427c-9b71-a3631c478096",
   "metadata": {},
   "source": [
    "## Save Model"
   ]
  },
  {
   "cell_type": "code",
   "execution_count": null,
   "id": "0d491031",
   "metadata": {},
   "outputs": [],
   "source": [
    "with open(f'./result/{ds}_AAPNN_{seed}.p', 'wb') as f:\n",
    "    pickle.dump(AAPNN, f)"
   ]
  },
  {
   "cell_type": "code",
   "execution_count": null,
   "id": "c322f096-d8ef-4841-8265-b43ce5ee271e",
   "metadata": {},
   "outputs": [],
   "source": []
  }
 ],
 "metadata": {
  "kernelspec": {
   "display_name": "MachineLearning",
   "language": "python",
   "name": "machinelearning"
  },
  "language_info": {
   "codemirror_mode": {
    "name": "ipython",
    "version": 3
   },
   "file_extension": ".py",
   "mimetype": "text/x-python",
   "name": "python",
   "nbconvert_exporter": "python",
   "pygments_lexer": "ipython3",
   "version": "3.8.12"
  },
  "toc": {
   "base_numbering": 1,
   "nav_menu": {},
   "number_sections": true,
   "sideBar": true,
   "skip_h1_title": false,
   "title_cell": "Table of Contents",
   "title_sidebar": "Contents",
   "toc_cell": false,
   "toc_position": {},
   "toc_section_display": true,
   "toc_window_display": true
  }
 },
 "nbformat": 4,
 "nbformat_minor": 5
}
