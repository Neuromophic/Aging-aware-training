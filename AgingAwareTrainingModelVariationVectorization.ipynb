{
 "cells": [
  {
   "cell_type": "markdown",
   "id": "e0f1319a",
   "metadata": {},
   "source": [
    "# Aging Aware with Model Variation\n",
    "Previously, we optimize the following functional:\n",
    "$$ \\min_\\theta \\, \\int_{t=0}^{1} \\; L(\\theta(t)) \\, {\\rm d}t. $$\n",
    "The optimum is for a specific aging model $\\omega$, i.e., we minimized the \n",
    "$$ \\min_\\theta \\, \\int_{t=0}^{1} \\; L(\\theta(t,\\omega)) \\, {\\rm d}t. $$\n",
    "However, we dont know how will the resistance decay, i.e., we should also minimize the loss function w.r.t. aging models with different parameters. That means we need to optimized\n",
    "$$ \\min_\\theta \\, \\int_{\\omega}\\int_{t=0}^{1} \\; L(\\theta(t,\\omega)) \\, {\\rm d}t\\, p(\\omega){\\rm d}\\omega. $$\n",
    "The Mento Carlo Approximation is then\n",
    "$$\n",
    "\\min_{\\theta_{\\rm init}} \\frac{1}{\\Omega}\\frac{1}{K}\\sum_{\\omega\\in\\mathfrak{M}}\\sum_{k\\in \\mathfrak{K} } L \\left(\\theta[k, \\omega]\\right),\n",
    "$$\n",
    "where $\\mathfrak{M}$ is the set of $\\Omega$ elements following the distribution $p(\\omega)$. $p(\\omega)$ is the distributions of parameters of the aging model. We have already obtained these distributions as we modeled the aging decay.\n",
    "\n",
    "That means we should optimize this problem by\n",
    "$$\n",
    "\\begin{align}\n",
    "\\theta_{\\rm init}&:=\\theta_{\\rm init} - \\alpha\\cdot\\nabla_{\\theta_{\\rm init}}\\left(\\frac{1}{\\Omega}\\frac{1}{K}\\sum_{\\omega\\in\\mathfrak{M}}\\sum_{k\\in \\mathfrak{K} } L \\left(\\theta[k, \\omega]\\right)\\right)\\\\\n",
    "&=\\theta_{\\rm init} - \\frac{\\alpha}{\\Omega K}\\cdot\\nabla_{\\theta_{\\rm init}}\\left(\\sum_{\\omega\\in\\mathfrak{M}}\\sum_{k\\in \\mathfrak{K} } L \\left(\\theta[k, \\omega]\\right)\\right)\\\\\n",
    "&=\\theta_{\\rm init} - \\frac{\\alpha}{\\Omega K}\\left(\\sum_{\\omega\\in\\mathfrak{M}}\\sum_{k\\in \\mathfrak{K} }\\nabla_{\\theta_{\\rm init}} L \\left(\\theta[k, \\omega]\\right)\\right)\n",
    "\\end{align}\n",
    "$$"
   ]
  },
  {
   "cell_type": "markdown",
   "id": "eab183f8",
   "metadata": {},
   "source": [
    "# Import library"
   ]
  },
  {
   "cell_type": "code",
   "execution_count": 1,
   "id": "0bc40b33",
   "metadata": {},
   "outputs": [],
   "source": [
    "import importlib\n",
    "from torch.autograd import Variable\n",
    "import torch\n",
    "import pickle\n",
    "import os\n",
    "import sys\n",
    "import matplotlib.pyplot as plt\n",
    "import numpy as np\n",
    "import pNN_aging_aware_vectorization as pnnv\n",
    "import training_vectorization as tv\n",
    "import random\n",
    "import config\n",
    "sys.path.append(os.path.join(os.getcwd(), 'Aging_Model'))"
   ]
  },
  {
   "cell_type": "markdown",
   "id": "af93c27e-7559-466e-9a0f-084e03f0c576",
   "metadata": {},
   "source": [
    "# Random Seed"
   ]
  },
  {
   "cell_type": "code",
   "execution_count": 2,
   "id": "66785455-86c3-4e9a-a35e-4bd3c3f465eb",
   "metadata": {},
   "outputs": [],
   "source": [
    "seed = 0\n",
    "\n",
    "random.seed(seed);\n",
    "np.random.seed(seed);\n",
    "torch.manual_seed(seed);"
   ]
  },
  {
   "cell_type": "markdown",
   "id": "9b31036f-1808-460e-a011-acd675130bb5",
   "metadata": {},
   "source": [
    "# Get Aging Model"
   ]
  },
  {
   "cell_type": "code",
   "execution_count": 3,
   "id": "ba549dc5-0e02-4b8d-aefa-05764dfcfde6",
   "metadata": {},
   "outputs": [],
   "source": [
    "with open(os.path.join(os.getcwd(), 'Aging_Model', 'exp_aging_model.p'), 'rb') as f:\n",
    "    age_generator = pickle.load(f)"
   ]
  },
  {
   "cell_type": "markdown",
   "id": "1026bd3c",
   "metadata": {},
   "source": [
    "# Device"
   ]
  },
  {
   "cell_type": "code",
   "execution_count": 5,
   "id": "b0e91163",
   "metadata": {},
   "outputs": [
    {
     "data": {
      "text/plain": [
       "device(type='cpu')"
      ]
     },
     "execution_count": 5,
     "metadata": {},
     "output_type": "execute_result"
    }
   ],
   "source": [
    "# device = torch.device('cuda' if torch.cuda.is_available() else 'cpu')\n",
    "# device = torch.device('cuda:0')\n",
    "device = 'cpu'\n",
    "device"
   ]
  },
  {
   "cell_type": "markdown",
   "id": "15519567",
   "metadata": {},
   "source": [
    "# Prepare data"
   ]
  },
  {
   "cell_type": "markdown",
   "id": "f224be26-e399-42a8-9c96-e285490e8916",
   "metadata": {},
   "source": [
    "## Dataset"
   ]
  },
  {
   "cell_type": "code",
   "execution_count": 5,
   "id": "92014c65-5b5c-4b61-93ef-30f044282eb3",
   "metadata": {},
   "outputs": [
    {
     "data": {
      "text/plain": [
       "'Seeds'"
      ]
     },
     "execution_count": 5,
     "metadata": {},
     "output_type": "execute_result"
    }
   ],
   "source": [
    "if config.current_dataset is not None:\n",
    "    ds = config.datasets[config.current_dataset]\n",
    "else:\n",
    "    ds = config.datasets[0]\n",
    "\n",
    "ds"
   ]
  },
  {
   "cell_type": "markdown",
   "id": "3f9b925b",
   "metadata": {},
   "source": [
    "## Load data"
   ]
  },
  {
   "cell_type": "code",
   "execution_count": 6,
   "id": "fd3f8c31",
   "metadata": {},
   "outputs": [
    {
     "data": {
      "text/plain": [
       "(torch.Size([210, 7]), torch.Size([210]), 210, 7, 3)"
      ]
     },
     "execution_count": 6,
     "metadata": {},
     "output_type": "execute_result"
    }
   ],
   "source": [
    "datapath = os.path.join(os.getcwd(), 'Datasets',\n",
    "                        'dataset_processed', f'Dataset_{ds}.p')\n",
    "with open(datapath, 'rb') as f:\n",
    "    dataset = pickle.load(f)\n",
    "X = dataset['X'].float()\n",
    "y = dataset['y']\n",
    "\n",
    "E, N_features, N_class = X.shape[0], X.shape[1], torch.max(\n",
    "    torch.unique(y)).item()+1\n",
    "X.shape, y.shape, E, N_features, N_class"
   ]
  },
  {
   "cell_type": "markdown",
   "id": "35adbc19",
   "metadata": {},
   "source": [
    "## Pseudo-electrical Signal"
   ]
  },
  {
   "cell_type": "code",
   "execution_count": 7,
   "id": "ea0969cc",
   "metadata": {},
   "outputs": [
    {
     "data": {
      "text/plain": [
       "(tensor(0.), tensor(1.))"
      ]
     },
     "execution_count": 7,
     "metadata": {},
     "output_type": "execute_result"
    }
   ],
   "source": [
    "X = X - torch.min(X, axis=0)[0]\n",
    "X = X / (torch.max(X, axis=0)[0])\n",
    "torch.min(X), torch.max(X)"
   ]
  },
  {
   "cell_type": "code",
   "execution_count": 8,
   "id": "9d04d54b",
   "metadata": {},
   "outputs": [
    {
     "data": {
      "text/plain": [
       "tensor([[0.4410, 0.5021, 0.5708, 0.4865, 0.4861, 0.1893, 0.3452],\n",
       "        [0.4051, 0.4463, 0.6624, 0.3688, 0.5011, 0.0329, 0.2152],\n",
       "        [0.3494, 0.3471, 0.8793, 0.2207, 0.5039, 0.2515, 0.1507],\n",
       "        [0.3069, 0.3161, 0.7931, 0.2393, 0.5339, 0.1942, 0.1408],\n",
       "        [0.5241, 0.5331, 0.8648, 0.4274, 0.6643, 0.0767, 0.3230],\n",
       "        [0.3579, 0.3719, 0.7895, 0.2742, 0.4861, 0.2206, 0.2152],\n",
       "        [0.3872, 0.4298, 0.6515, 0.3739, 0.4483, 0.3668, 0.3447],\n",
       "        [0.3324, 0.3492, 0.7532, 0.2934, 0.4790, 0.2516, 0.2368],\n",
       "        [0.5704, 0.6302, 0.6044, 0.6498, 0.5952, 0.1658, 0.6686],\n",
       "        [0.5524, 0.5868, 0.7250, 0.5546, 0.6237, 0.1565, 0.4993]])"
      ]
     },
     "execution_count": 8,
     "metadata": {},
     "output_type": "execute_result"
    }
   ],
   "source": [
    "X[:10, :9]"
   ]
  },
  {
   "cell_type": "code",
   "execution_count": 9,
   "id": "6d30ecfc",
   "metadata": {},
   "outputs": [
    {
     "data": {
      "text/plain": [
       "(126, 42, 42)"
      ]
     },
     "execution_count": 9,
     "metadata": {},
     "output_type": "execute_result"
    }
   ],
   "source": [
    "from torch.utils.data import TensorDataset\n",
    "from torch.utils.data import DataLoader\n",
    "from torch.utils.data import random_split\n",
    "\n",
    "# generate tensordataset\n",
    "dataset = TensorDataset(X.to(device), y.to(device))\n",
    "\n",
    "# split\n",
    "train_rate = 0.6\n",
    "valid_rate = 0.2\n",
    "test_rate = 0.2\n",
    "E_train = min(8192, int(E*train_rate))\n",
    "E_valid = min(2048, int(E*valid_rate))\n",
    "E_test = min(2048, int(E*test_rate))\n",
    "\n",
    "random.seed(config.data_split_seed);\n",
    "np.random.seed(config.data_split_seed);\n",
    "torch.manual_seed(config.data_split_seed);\n",
    "\n",
    "train_data, rest_data = random_split(dataset, [E_train, E-E_train])\n",
    "valid_data, rest_data = random_split(rest_data, [E_valid, E-E_train-E_valid])\n",
    "test_data, rest_data = random_split(rest_data, [E_test, E-E_train-E_valid-E_test])\n",
    "\n",
    "len(train_data), len(valid_data), len(test_data)"
   ]
  },
  {
   "cell_type": "code",
   "execution_count": 10,
   "id": "4f8988b7",
   "metadata": {},
   "outputs": [],
   "source": [
    "# batch\n",
    "train_loader = DataLoader(train_data, batch_size=len(train_data))\n",
    "valid_loader = DataLoader(valid_data, batch_size=len(valid_data))\n",
    "test_loader = DataLoader(test_data, batch_size=len(test_data))"
   ]
  },
  {
   "cell_type": "markdown",
   "id": "dfe7708a-0498-4d15-aeda-e4149a8041f1",
   "metadata": {},
   "source": [
    "# Set random seed"
   ]
  },
  {
   "cell_type": "code",
   "execution_count": 11,
   "id": "a0b2eb64-710d-4118-b77e-25c27c829e71",
   "metadata": {},
   "outputs": [],
   "source": [
    "random.seed(seed);\n",
    "np.random.seed(seed);\n",
    "torch.manual_seed(seed);"
   ]
  },
  {
   "cell_type": "markdown",
   "id": "98cf49ee-2bf2-4d63-8073-71feab7d7cff",
   "metadata": {},
   "source": [
    "# Normal NN"
   ]
  },
  {
   "cell_type": "markdown",
   "id": "f3030cec-d9a3-4baa-8fdf-778491a9e5b7",
   "metadata": {},
   "source": [
    "## Define"
   ]
  },
  {
   "cell_type": "code",
   "execution_count": 12,
   "id": "d8578200-6be0-46b8-81be-2d0726a9d4a0",
   "metadata": {},
   "outputs": [
    {
     "data": {
      "text/plain": [
       "Sequential(\n",
       "  (0): Linear(in_features=7, out_features=3, bias=True)\n",
       "  (1): Tanh()\n",
       "  (2): Linear(in_features=3, out_features=3, bias=True)\n",
       "  (3): Tanh()\n",
       ")"
      ]
     },
     "execution_count": 12,
     "metadata": {},
     "output_type": "execute_result"
    }
   ],
   "source": [
    "NN = torch.nn.Sequential(torch.nn.Linear(N_features, config.N_Hidden), torch.nn.Tanh(),\n",
    "                        torch.nn.Linear(config.N_Hidden, N_class), torch.nn.Tanh())\n",
    "\n",
    "\n",
    "def weights_init(m):\n",
    "    if isinstance(m, torch.nn.Linear):\n",
    "        torch.nn.init.xavier_uniform_(m.weight)\n",
    "        m.bias.data.fill_(0.01)\n",
    "\n",
    "NN.apply(weights_init)\n",
    "\n",
    "celoss = torch.nn.CrossEntropyLoss()\n",
    "NN.to(device)"
   ]
  },
  {
   "cell_type": "markdown",
   "id": "f3ad2024-6626-423b-b707-09c8d33e2dc2",
   "metadata": {},
   "source": [
    "## Training"
   ]
  },
  {
   "cell_type": "code",
   "execution_count": 13,
   "id": "22ff31fc-c84e-4a1f-a656-7807a6238aa2",
   "metadata": {},
   "outputs": [
    {
     "data": {
      "application/vnd.jupyter.widget-view+json": {
       "model_id": "91c7185f956549a9ab98bed5615b847e",
       "version_major": 2,
       "version_minor": 0
      },
      "text/plain": [
       "  0%|          | 0/50000 [00:00<?, ?it/s]"
      ]
     },
     "metadata": {},
     "output_type": "display_data"
    },
    {
     "name": "stdout",
     "output_type": "stream",
     "text": [
      "| Epoch:     0 | Accuracy: 0.52381 | Loss: 1.090845704\n",
      "| Epoch:   500 | Accuracy: 0.95238 | Loss: 0.300190568\n",
      "| Epoch:  1000 | Accuracy: 0.95238 | Loss: 0.300314635\n",
      "| Epoch:  1500 | Accuracy: 0.95238 | Loss: 0.301921904\n",
      "| Epoch:  2000 | Accuracy: 0.95238 | Loss: 0.300308853\n",
      "| Epoch:  2500 | Accuracy: 0.95238 | Loss: 0.299695522\n",
      "| Epoch:  3000 | Accuracy: 0.95238 | Loss: 0.299556613\n",
      "| Epoch:  3500 | Accuracy: 0.95238 | Loss: 0.299528927\n",
      "| Epoch:  4000 | Accuracy: 0.95238 | Loss: 0.299523473\n",
      "| Epoch:  4500 | Accuracy: 0.95238 | Loss: 0.299522310\n",
      "| Epoch:  5000 | Accuracy: 0.95238 | Loss: 0.299522072\n",
      "| Epoch:  5500 | Accuracy: 0.95238 | Loss: 0.299522042\n",
      "| Epoch:  6000 | Accuracy: 0.95238 | Loss: 0.299522102\n",
      "| Epoch:  6500 | Accuracy: 0.95238 | Loss: 0.299522161\n",
      "| Epoch:  7000 | Accuracy: 0.95238 | Loss: 0.299522251\n",
      "| Epoch:  7500 | Accuracy: 0.95238 | Loss: 0.299522340\n",
      "| Epoch:  8000 | Accuracy: 0.95238 | Loss: 0.299522430\n",
      "| Epoch:  8500 | Accuracy: 0.95238 | Loss: 0.299522489\n",
      "| Epoch:  9000 | Accuracy: 0.95238 | Loss: 0.299522549\n",
      "| Epoch:  9500 | Accuracy: 0.95238 | Loss: 0.299522609\n",
      "| Epoch: 10000 | Accuracy: 0.95238 | Loss: 0.299522638\n",
      "Early stop.\n",
      "Finished.\n"
     ]
    }
   ],
   "source": [
    "optimizer_NN = torch.optim.Adam(NN.parameters(), lr=config.lr)\n",
    "train_loader = DataLoader(train_data, batch_size=len(train_data))\n",
    "train_loss_NN, valid_loss_NN, parameter_NN = tv.train_normal_nn(NN,\n",
    "                                                                     train_loader,\n",
    "                                                                     valid_loader,\n",
    "                                                                     optimizer=optimizer_NN,\n",
    "                                                                     lossfunction=celoss,\n",
    "                                                                     Epoch=50000)"
   ]
  },
  {
   "cell_type": "code",
   "execution_count": 14,
   "id": "2b482bd5-babe-4185-ac37-c6c15f27c16e",
   "metadata": {},
   "outputs": [
    {
     "data": {
      "text/plain": [
       "(5308, 0.2995220124721527)"
      ]
     },
     "execution_count": 14,
     "metadata": {},
     "output_type": "execute_result"
    },
    {
     "data": {
      "image/png": "[encoded data removed]",
      "text/plain": [
       "<Figure size 432x288 with 1 Axes>"
      ]
     },
     "metadata": {
      "needs_background": "light"
     },
     "output_type": "display_data"
    }
   ],
   "source": [
    "plt.plot(train_loss_NN, '-', label='train')\n",
    "plt.plot(valid_loss_NN, '--', label='valid')\n",
    "plt.legend()\n",
    "NN.load_state_dict(parameter_NN)\n",
    "best = np.argmin(valid_loss_NN)\n",
    "best, valid_loss_NN[best]"
   ]
  },
  {
   "cell_type": "markdown",
   "id": "6568b4fd-62c9-4891-8cba-0b289bbf1e67",
   "metadata": {},
   "source": [
    "## Save Model"
   ]
  },
  {
   "cell_type": "code",
   "execution_count": null,
   "id": "3f076686-a233-4434-b21f-486c95c9a78b",
   "metadata": {},
   "outputs": [],
   "source": [
    "# with open(f'./result/{ds}_NN_{seed}.p', 'wb') as f:\n",
    "#     pickle.dump(NN, f)"
   ]
  },
  {
   "cell_type": "markdown",
   "id": "38d0bfe4-d2ea-45fb-827b-3ba9f5a37618",
   "metadata": {},
   "source": [
    "## Evaluation"
   ]
  },
  {
   "cell_type": "code",
   "execution_count": 15,
   "id": "63f6d5f0-5245-4325-b384-58b4d79999a1",
   "metadata": {},
   "outputs": [
    {
     "name": "stdout",
     "output_type": "stream",
     "text": [
      "0.9523809523809523\n"
     ]
    }
   ],
   "source": [
    "for x_test, y_test in test_loader:\n",
    "    prediction_test = NN(x_test)\n",
    "    p = torch.argmax(prediction_test, 1)\n",
    "    pred_y = p.cpu().data.numpy().squeeze()\n",
    "    acc_test = sum(pred_y == y_test.cpu().numpy()) / y_test.shape[0]\n",
    "print(acc_test)"
   ]
  },
  {
   "cell_type": "code",
   "execution_count": 16,
   "id": "2ec00e50-62f8-4ca1-98bc-e9db2eacefd7",
   "metadata": {},
   "outputs": [
    {
     "data": {
      "text/plain": [
       "Sequential(\n",
       "  (0): Linear(in_features=7, out_features=3, bias=True)\n",
       "  (1): Tanh()\n",
       "  (2): Linear(in_features=3, out_features=3, bias=True)\n",
       "  (3): Tanh()\n",
       ")"
      ]
     },
     "execution_count": 16,
     "metadata": {},
     "output_type": "execute_result"
    }
   ],
   "source": [
    "NN.to('cpu')"
   ]
  },
  {
   "cell_type": "markdown",
   "id": "5c65c580",
   "metadata": {},
   "source": [
    "# Normal PNN"
   ]
  },
  {
   "cell_type": "markdown",
   "id": "11fcb7de",
   "metadata": {},
   "source": [
    "## Define"
   ]
  },
  {
   "cell_type": "code",
   "execution_count": 17,
   "id": "098714b2",
   "metadata": {},
   "outputs": [
    {
     "data": {
      "text/plain": [
       "Sequential(\n",
       "  (0): PNNLayer()\n",
       "  (1): PNNLayer()\n",
       ")"
      ]
     },
     "execution_count": 17,
     "metadata": {},
     "output_type": "execute_result"
    }
   ],
   "source": [
    "PNN = torch.nn.Sequential(pnnv.PNNLayer(N_features, config.N_Hidden, age_generator, xpu=device),\n",
    "                         pnnv.PNNLayer(config.N_Hidden, N_class, age_generator, xpu=device))\n",
    "\n",
    "PNN.apply(lambda z: pnnv.MakeModel(z, M=1))\n",
    "PNN.apply(lambda z: pnnv.SetTime(z, t=[0]))\n",
    "\n",
    "PNN.to(device)"
   ]
  },
  {
   "cell_type": "markdown",
   "id": "8eb6a0c4-b427-4278-b855-0c6f78ba5b8d",
   "metadata": {},
   "source": [
    "## Training"
   ]
  },
  {
   "cell_type": "code",
   "execution_count": 18,
   "id": "b248e211",
   "metadata": {},
   "outputs": [
    {
     "data": {
      "application/vnd.jupyter.widget-view+json": {
       "model_id": "deee676acf7c4931bf556d64a99985a8",
       "version_major": 2,
       "version_minor": 0
      },
      "text/plain": [
       "  0%|          | 0/50000 [00:00<?, ?it/s]"
      ]
     },
     "metadata": {},
     "output_type": "display_data"
    },
    {
     "name": "stdout",
     "output_type": "stream",
     "text": [
      "| Epoch:     0 | Accuracy: 0.33333 | Loss: 0.706688046 |\n",
      "| Epoch:   500 | Accuracy: 0.95238 | Loss: 0.104160205 |\n",
      "| Epoch:  1000 | Accuracy: 0.95238 | Loss: 0.106129341 |\n",
      "| Epoch:  1500 | Accuracy: 0.95238 | Loss: 0.108649947 |\n",
      "| Epoch:  2000 | Accuracy: 0.92857 | Loss: 0.147680089 |\n",
      "| Epoch:  2500 | Accuracy: 0.90476 | Loss: 0.164802313 |\n",
      "| Epoch:  3000 | Accuracy: 0.92857 | Loss: 0.170787290 |\n",
      "| Epoch:  3500 | Accuracy: 0.90476 | Loss: 0.190782979 |\n",
      "| Epoch:  4000 | Accuracy: 0.92857 | Loss: 0.205810100 |\n",
      "| Epoch:  4500 | Accuracy: 0.92857 | Loss: 0.226912573 |\n",
      "| Epoch:  5000 | Accuracy: 0.92857 | Loss: 0.238862336 |\n",
      "| Epoch:  5500 | Accuracy: 0.92857 | Loss: 0.243007660 |\n",
      "| Epoch:  6000 | Accuracy: 0.90476 | Loss: 0.263656884 |\n",
      "| Epoch:  6500 | Accuracy: 0.92857 | Loss: 0.258279055 |\n",
      "| Epoch:  7000 | Accuracy: 0.88095 | Loss: 0.284092993 |\n",
      "| Epoch:  7500 | Accuracy: 0.88095 | Loss: 0.286107510 |\n",
      "| Epoch:  8000 | Accuracy: 0.88095 | Loss: 0.286107510 |\n",
      "| Epoch:  8500 | Accuracy: 0.88095 | Loss: 0.286107510 |\n",
      "| Epoch:  9000 | Accuracy: 0.88095 | Loss: 0.286107510 |\n",
      "| Epoch:  9500 | Accuracy: 0.88095 | Loss: 0.286107510 |\n",
      "| Epoch: 10000 | Accuracy: 0.88095 | Loss: 0.286107510 |\n",
      "| Epoch: 10500 | Accuracy: 0.88095 | Loss: 0.286107510 |\n",
      "| Epoch: 11000 | Accuracy: 0.88095 | Loss: 0.286107510 |\n",
      "| Epoch: 11500 | Accuracy: 0.88095 | Loss: 0.286107510 |\n",
      "| Epoch: 12000 | Accuracy: 0.88095 | Loss: 0.286107510 |\n",
      "| Epoch: 12500 | Accuracy: 0.88095 | Loss: 0.286107510 |\n",
      "| Epoch: 13000 | Accuracy: 0.88095 | Loss: 0.286107510 |\n",
      "| Epoch: 13500 | Accuracy: 0.88095 | Loss: 0.286107510 |\n",
      "| Epoch: 14000 | Accuracy: 0.88095 | Loss: 0.286107510 |\n",
      "| Epoch: 14500 | Accuracy: 0.88095 | Loss: 0.286107510 |\n",
      "| Epoch: 15000 | Accuracy: 0.88095 | Loss: 0.286107510 |\n",
      "| Epoch: 15500 | Accuracy: 0.88095 | Loss: 0.286107510 |\n",
      "| Epoch: 16000 | Accuracy: 0.88095 | Loss: 0.286107510 |\n",
      "| Epoch: 16500 | Accuracy: 0.88095 | Loss: 0.286107510 |\n",
      "| Epoch: 17000 | Accuracy: 0.88095 | Loss: 0.286107510 |\n",
      "| Epoch: 17500 | Accuracy: 0.88095 | Loss: 0.286107510 |\n",
      "| Epoch: 18000 | Accuracy: 0.88095 | Loss: 0.286107510 |\n",
      "| Epoch: 18500 | Accuracy: 0.88095 | Loss: 0.286107510 |\n",
      "| Epoch: 19000 | Accuracy: 0.88095 | Loss: 0.286107510 |\n",
      "| Epoch: 19500 | Accuracy: 0.88095 | Loss: 0.286107510 |\n",
      "| Epoch: 20000 | Accuracy: 0.88095 | Loss: 0.286107510 |\n",
      "Early stop.\n",
      "Finished.\n"
     ]
    }
   ],
   "source": [
    "optimizer_PNN = torch.optim.Adam(PNN.parameters(), lr=config.lr)\n",
    "train_loader = DataLoader(train_data, batch_size=len(train_data))\n",
    "train_loss_PNN, valid_loss_PNN, parameter_PNN = tv.train_normal_pnn(PNN, train_loader, valid_loader,\n",
    "                                                                   config.m, config.T, optimizer_PNN,\n",
    "                                                                   pnnv.LossFunction, Epoch=50000, cache=ds)"
   ]
  },
  {
   "cell_type": "code",
   "execution_count": 19,
   "id": "9c2022fb-151b-40de-8e57-5d56e24460e3",
   "metadata": {},
   "outputs": [
    {
     "data": {
      "text/plain": [
       "(1116, 0.10105165839195251)"
      ]
     },
     "execution_count": 19,
     "metadata": {},
     "output_type": "execute_result"
    },
    {
     "data": {
      "image/png": "[encoded data removed]",
      "text/plain": [
       "<Figure size 432x288 with 1 Axes>"
      ]
     },
     "metadata": {
      "needs_background": "light"
     },
     "output_type": "display_data"
    }
   ],
   "source": [
    "plt.plot(train_loss_PNN, '-', label='train')\n",
    "plt.plot(valid_loss_PNN, '--', label='valid')\n",
    "plt.legend()\n",
    "best = np.argmin(valid_loss_PNN)\n",
    "PNN.load_state_dict(parameter_PNN)\n",
    "best, valid_loss_PNN[best]"
   ]
  },
  {
   "cell_type": "markdown",
   "id": "bbef757b-0f2d-4e54-93dd-8f60121ca948",
   "metadata": {},
   "source": [
    "## Save Model"
   ]
  },
  {
   "cell_type": "code",
   "execution_count": null,
   "id": "13a6ddc5-4d1c-4371-9b7d-b78844405e87",
   "metadata": {},
   "outputs": [],
   "source": [
    "# with open(f'./result/{ds}_PNN_{seed}.p', 'wb') as f:\n",
    "#     pickle.dump(PNN, f)"
   ]
  },
  {
   "cell_type": "code",
   "execution_count": 20,
   "id": "607f912d-7361-42ba-a915-41ad83b814a2",
   "metadata": {},
   "outputs": [],
   "source": [
    "# PNN.to('cpu')"
   ]
  },
  {
   "cell_type": "markdown",
   "id": "59ebe567-61eb-4cb0-bbe1-71d8aff12aac",
   "metadata": {},
   "source": [
    "# Aging Aware PNN"
   ]
  },
  {
   "cell_type": "code",
   "execution_count": 21,
   "id": "19abcaae",
   "metadata": {},
   "outputs": [
    {
     "data": {
      "text/plain": [
       "Sequential(\n",
       "  (0): PNNLayer()\n",
       "  (1): PNNLayer()\n",
       ")"
      ]
     },
     "execution_count": 21,
     "metadata": {},
     "output_type": "execute_result"
    }
   ],
   "source": [
    "AAPNN = torch.nn.Sequential(pnnv.PNNLayer(N_features, config.N_Hidden, age_generator, xpu=device),\n",
    "                           pnnv.PNNLayer(config.N_Hidden, N_class, age_generator, xpu=device))\n",
    "\n",
    "AAPNN.apply(lambda z: pnnv.MakeModel(z, config.M_train))\n",
    "AAPNN.apply(lambda z: pnnv.SetTime(z, np.random.rand(config.K_train).tolist()))\n",
    "\n",
    "AAPNN.to(device)"
   ]
  },
  {
   "cell_type": "markdown",
   "id": "8b03e98a-fcdf-42a1-8f2b-582657cc47a0",
   "metadata": {},
   "source": [
    "## Reload AAPNN if crash"
   ]
  },
  {
   "cell_type": "code",
   "execution_count": null,
   "id": "feaf2602-3633-4814-9b13-42c407dba269",
   "metadata": {},
   "outputs": [],
   "source": [
    "# if os.path.exists(f'./temp/{ds}_AAPNN.p'): \n",
    "#     with open(f'./temp/{ds}_AAPNN.p', 'rb') as f:\n",
    "#         AAPNN = pickle.load(f)"
   ]
  },
  {
   "cell_type": "markdown",
   "id": "e65740a1-a29a-48ca-b332-5cc4b0556ca9",
   "metadata": {},
   "source": [
    "## Training"
   ]
  },
  {
   "cell_type": "code",
   "execution_count": 22,
   "id": "183e27bb-8d0a-4448-be67-78927eaf8e1b",
   "metadata": {},
   "outputs": [
    {
     "data": {
      "application/vnd.jupyter.widget-view+json": {
       "model_id": "d80eed79ff73404da371f49bc3c2ed76",
       "version_major": 2,
       "version_minor": 0
      },
      "text/plain": [
       "  0%|          | 0/150 [00:00<?, ?it/s]"
      ]
     },
     "metadata": {},
     "output_type": "display_data"
    },
    {
     "name": "stdout",
     "output_type": "stream",
     "text": [
      "| Epoch:     0 | Accuracy: 0.33548 | Loss: 1.045712948 |\n",
      "| Epoch:     7 | Accuracy: 0.34381 | Loss: 0.893981695 |\n",
      "| Epoch:    14 | Accuracy: 0.45821 | Loss: 0.773044348 |\n",
      "| Epoch:    21 | Accuracy: 0.63262 | Loss: 0.608233154 |\n",
      "| Epoch:    28 | Accuracy: 0.78333 | Loss: 0.441942245 |\n",
      "| Epoch:    35 | Accuracy: 0.81881 | Loss: 0.342072874 |\n",
      "| Epoch:    42 | Accuracy: 0.84405 | Loss: 0.315822005 |\n",
      "| Epoch:    49 | Accuracy: 0.87095 | Loss: 0.281906635 |\n",
      "| Epoch:    56 | Accuracy: 0.87143 | Loss: 0.253064901 |\n",
      "| Epoch:    63 | Accuracy: 0.87345 | Loss: 0.246077210 |\n",
      "| Epoch:    70 | Accuracy: 0.88143 | Loss: 0.239250958 |\n",
      "| Epoch:    77 | Accuracy: 0.88202 | Loss: 0.224113986 |\n",
      "| Epoch:    84 | Accuracy: 0.87536 | Loss: 0.249375120 |\n",
      "| Epoch:    91 | Accuracy: 0.88167 | Loss: 0.211448878 |\n",
      "| Epoch:    98 | Accuracy: 0.89012 | Loss: 0.200546354 |\n",
      "| Epoch:   105 | Accuracy: 0.88762 | Loss: 0.207052857 |\n",
      "| Epoch:   112 | Accuracy: 0.88512 | Loss: 0.212148830 |\n",
      "| Epoch:   119 | Accuracy: 0.89083 | Loss: 0.192790732 |\n",
      "| Epoch:   126 | Accuracy: 0.89107 | Loss: 0.204195559 |\n",
      "| Epoch:   133 | Accuracy: 0.89381 | Loss: 0.198491663 |\n",
      "| Epoch:   140 | Accuracy: 0.89798 | Loss: 0.192142546 |\n",
      "| Epoch:   147 | Accuracy: 0.89238 | Loss: 0.198456392 |\n",
      "Finished.\n"
     ]
    }
   ],
   "source": [
    "optimizer_AAPNN = torch.optim.Adam(AAPNN.parameters(), lr=0.05)\n",
    "train_loader = DataLoader(train_data, batch_size=min(len(train_data),1024))\n",
    "train_loss_AAPNN, valid_loss_AAPNN, parameter_AAPNN = tv.train_aged_pnn(AAPNN, train_loader, valid_loader,\n",
    "                                        config.m, config.T, config.M_train, config.K_train, config.M_valid, config.K_valid,\n",
    "                                        optimizer_AAPNN, pnnv.LossFunction,\n",
    "                                        Epoch=150, cache=ds)"
   ]
  },
  {
   "cell_type": "code",
   "execution_count": 23,
   "id": "ea0cb974",
   "metadata": {},
   "outputs": [
    {
     "data": {
      "text/plain": [
       "(146, 0.18775060772895813)"
      ]
     },
     "execution_count": 23,
     "metadata": {},
     "output_type": "execute_result"
    },
    {
     "data": {
      "image/png": "[encoded data removed]",
      "text/plain": [
       "<Figure size 432x288 with 1 Axes>"
      ]
     },
     "metadata": {
      "needs_background": "light"
     },
     "output_type": "display_data"
    }
   ],
   "source": [
    "plt.plot(train_loss_AAPNN, '-', label='train')\n",
    "plt.plot(valid_loss_AAPNN, '--', label='valid')\n",
    "plt.legend()\n",
    "best = np.argmin(valid_loss_AAPNN)\n",
    "AAPNN.load_state_dict(parameter_AAPNN)\n",
    "best, valid_loss_AAPNN[best]"
   ]
  },
  {
   "cell_type": "code",
   "execution_count": 24,
   "id": "eac79592-ecb0-4ba0-93a9-ee82f9050e2c",
   "metadata": {},
   "outputs": [
    {
     "data": {
      "application/vnd.jupyter.widget-view+json": {
       "model_id": "6424d9b5f0a145539a18ad912f3edcf4",
       "version_major": 2,
       "version_minor": 0
      },
      "text/plain": [
       "  0%|          | 0/250 [00:00<?, ?it/s]"
      ]
     },
     "metadata": {},
     "output_type": "display_data"
    },
    {
     "name": "stdout",
     "output_type": "stream",
     "text": [
      "| Epoch:     0 | Accuracy: 0.89417 | Loss: 0.189998835 |\n",
      "| Epoch:    12 | Accuracy: 0.88988 | Loss: 0.193175375 |\n",
      "| Epoch:    24 | Accuracy: 0.88726 | Loss: 0.198152691 |\n",
      "| Epoch:    36 | Accuracy: 0.89821 | Loss: 0.198358163 |\n",
      "| Epoch:    48 | Accuracy: 0.89726 | Loss: 0.192150533 |\n",
      "| Epoch:    60 | Accuracy: 0.89202 | Loss: 0.195211604 |\n",
      "| Epoch:    72 | Accuracy: 0.89560 | Loss: 0.188228056 |\n",
      "| Epoch:    84 | Accuracy: 0.89381 | Loss: 0.190253764 |\n",
      "| Epoch:    96 | Accuracy: 0.89107 | Loss: 0.200149551 |\n",
      "| Epoch:   108 | Accuracy: 0.89179 | Loss: 0.194806293 |\n",
      "| Epoch:   120 | Accuracy: 0.90095 | Loss: 0.192373350 |\n",
      "| Epoch:   132 | Accuracy: 0.89631 | Loss: 0.184037030 |\n",
      "| Epoch:   144 | Accuracy: 0.90179 | Loss: 0.189789534 |\n",
      "| Epoch:   156 | Accuracy: 0.89952 | Loss: 0.188704595 |\n",
      "| Epoch:   168 | Accuracy: 0.90488 | Loss: 0.188501000 |\n",
      "| Epoch:   180 | Accuracy: 0.90417 | Loss: 0.189758897 |\n",
      "| Epoch:   192 | Accuracy: 0.90940 | Loss: 0.180076703 |\n",
      "| Epoch:   204 | Accuracy: 0.90750 | Loss: 0.179750919 |\n",
      "| Epoch:   216 | Accuracy: 0.90845 | Loss: 0.174511731 |\n",
      "| Epoch:   228 | Accuracy: 0.90345 | Loss: 0.174558803 |\n",
      "| Epoch:   240 | Accuracy: 0.91060 | Loss: 0.169248909 |\n",
      "Finished.\n"
     ]
    }
   ],
   "source": [
    "optimizer_AAPNN = torch.optim.Adam(AAPNN.parameters(), lr=0.01)\n",
    "train_loader = DataLoader(train_data, batch_size=len(train_data))\n",
    "train_loss_AAPNN, valid_loss_AAPNN, parameter_AAPNN = tv.train_aged_pnn(AAPNN, train_loader, valid_loader,\n",
    "                                        config.m, config.T, config.M_train, config.K_train, config.M_valid, config.K_valid,\n",
    "                                        optimizer_AAPNN, pnnv.LossFunction,\n",
    "                                        Epoch=250, cache=ds)"
   ]
  },
  {
   "cell_type": "code",
   "execution_count": 25,
   "id": "1239230b-9748-48c4-9823-50c54dab9f5c",
   "metadata": {},
   "outputs": [
    {
     "data": {
      "text/plain": [
       "(244, 0.1626749038696289)"
      ]
     },
     "execution_count": 25,
     "metadata": {},
     "output_type": "execute_result"
    },
    {
     "data": {
      "image/png": "[encoded data removed]",
      "text/plain": [
       "<Figure size 432x288 with 1 Axes>"
      ]
     },
     "metadata": {
      "needs_background": "light"
     },
     "output_type": "display_data"
    }
   ],
   "source": [
    "plt.plot(train_loss_AAPNN, '-', label='train')\n",
    "plt.plot(valid_loss_AAPNN, '--', label='valid')\n",
    "plt.legend()\n",
    "best = np.argmin(valid_loss_AAPNN)\n",
    "AAPNN.load_state_dict(parameter_AAPNN)\n",
    "best, valid_loss_AAPNN[best]"
   ]
  },
  {
   "cell_type": "code",
   "execution_count": 26,
   "id": "6ae4605b-0cb9-4394-afef-d515bebd8a3b",
   "metadata": {},
   "outputs": [
    {
     "data": {
      "application/vnd.jupyter.widget-view+json": {
       "model_id": "d54977e30bc54bb5bee3eab2b21afead",
       "version_major": 2,
       "version_minor": 0
      },
      "text/plain": [
       "  0%|          | 0/250 [00:00<?, ?it/s]"
      ]
     },
     "metadata": {},
     "output_type": "display_data"
    },
    {
     "name": "stdout",
     "output_type": "stream",
     "text": [
      "| Epoch:     0 | Accuracy: 0.90774 | Loss: 0.174325272 |\n",
      "| Epoch:    12 | Accuracy: 0.90321 | Loss: 0.180164665 |\n",
      "| Epoch:    24 | Accuracy: 0.90702 | Loss: 0.175814942 |\n",
      "| Epoch:    36 | Accuracy: 0.90929 | Loss: 0.171961129 |\n",
      "| Epoch:    48 | Accuracy: 0.91143 | Loss: 0.171482712 |\n",
      "| Epoch:    60 | Accuracy: 0.90167 | Loss: 0.181669027 |\n",
      "| Epoch:    72 | Accuracy: 0.91667 | Loss: 0.178486481 |\n",
      "| Epoch:    84 | Accuracy: 0.90917 | Loss: 0.174295232 |\n",
      "| Epoch:    96 | Accuracy: 0.90833 | Loss: 0.177829951 |\n",
      "| Epoch:   108 | Accuracy: 0.90560 | Loss: 0.173390538 |\n",
      "| Epoch:   120 | Accuracy: 0.90952 | Loss: 0.172618702 |\n",
      "| Epoch:   132 | Accuracy: 0.90798 | Loss: 0.174801201 |\n",
      "| Epoch:   144 | Accuracy: 0.91155 | Loss: 0.171955079 |\n",
      "| Epoch:   156 | Accuracy: 0.91012 | Loss: 0.167443871 |\n",
      "| Epoch:   168 | Accuracy: 0.90929 | Loss: 0.167400166 |\n",
      "| Epoch:   180 | Accuracy: 0.91012 | Loss: 0.169822186 |\n",
      "| Epoch:   192 | Accuracy: 0.90893 | Loss: 0.171359032 |\n",
      "| Epoch:   204 | Accuracy: 0.90786 | Loss: 0.182467595 |\n",
      "| Epoch:   216 | Accuracy: 0.91298 | Loss: 0.168660715 |\n",
      "| Epoch:   228 | Accuracy: 0.90548 | Loss: 0.177608907 |\n",
      "| Epoch:   240 | Accuracy: 0.90857 | Loss: 0.184634820 |\n",
      "Finished.\n"
     ]
    }
   ],
   "source": [
    "optimizer_AAPNN = torch.optim.Adam(AAPNN.parameters(), lr=0.001)\n",
    "train_loader = DataLoader(train_data, batch_size=len(train_data))\n",
    "train_loss_AAPNN, valid_loss_AAPNN, parameter_AAPNN = tv.train_aged_pnn(AAPNN, train_loader, valid_loader,\n",
    "                                        config.m, config.T, config.M_train, config.K_train, config.M_valid, config.K_valid,\n",
    "                                        optimizer_AAPNN, pnnv.LossFunction,\n",
    "                                        Epoch=250, cache=ds)"
   ]
  },
  {
   "cell_type": "code",
   "execution_count": 27,
   "id": "b8d3302e-4f94-46cc-b31c-4af71c8ab76e",
   "metadata": {},
   "outputs": [
    {
     "data": {
      "text/plain": [
       "(151, 0.15574921667575836)"
      ]
     },
     "execution_count": 27,
     "metadata": {},
     "output_type": "execute_result"
    },
    {
     "data": {
      "image/png": "[encoded data removed]",
      "text/plain": [
       "<Figure size 432x288 with 1 Axes>"
      ]
     },
     "metadata": {
      "needs_background": "light"
     },
     "output_type": "display_data"
    }
   ],
   "source": [
    "plt.plot(train_loss_AAPNN, '-', label='train')\n",
    "plt.plot(valid_loss_AAPNN, '--', label='valid')\n",
    "plt.legend()\n",
    "best = np.argmin(valid_loss_AAPNN)\n",
    "AAPNN.load_state_dict(parameter_AAPNN)\n",
    "best, valid_loss_AAPNN[best]"
   ]
  },
  {
   "cell_type": "markdown",
   "id": "19ad1ac6-b8ec-427c-9b71-a3631c478096",
   "metadata": {},
   "source": [
    "## Save Model"
   ]
  },
  {
   "cell_type": "code",
   "execution_count": null,
   "id": "0d491031",
   "metadata": {},
   "outputs": [],
   "source": [
    "# with open(f'./result/{ds}_AAPNN_{seed}.p', 'wb') as f:\n",
    "#     pickle.dump(AAPNN, f)"
   ]
  },
  {
   "cell_type": "code",
   "execution_count": null,
   "id": "c322f096-d8ef-4841-8265-b43ce5ee271e",
   "metadata": {},
   "outputs": [],
   "source": []
  }
 ],
 "metadata": {
  "kernelspec": {
   "display_name": "MachineLearning",
   "language": "python",
   "name": "machinelearning"
  },
  "language_info": {
   "codemirror_mode": {
    "name": "ipython",
    "version": 3
   },
   "file_extension": ".py",
   "mimetype": "text/x-python",
   "name": "python",
   "nbconvert_exporter": "python",
   "pygments_lexer": "ipython3",
   "version": "3.8.12"
  },
  "toc": {
   "base_numbering": 1,
   "nav_menu": {},
   "number_sections": true,
   "sideBar": true,
   "skip_h1_title": false,
   "title_cell": "Table of Contents",
   "title_sidebar": "Contents",
   "toc_cell": false,
   "toc_position": {},
   "toc_section_display": true,
   "toc_window_display": true
  }
 },
 "nbformat": 4,
 "nbformat_minor": 5
}
