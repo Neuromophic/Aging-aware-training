{
 "cells": [
  {
   "cell_type": "markdown",
   "id": "e0f1319a",
   "metadata": {},
   "source": [
    "# Aging Aware with Model Variation\n",
    "Previously, we optimize the following functional:\n",
    "$$ \\min_\\theta \\, \\int_{t=0}^{1} \\; L(\\theta(t)) \\, {\\rm d}t. $$\n",
    "The optimum is for a specific aging model $\\omega$, i.e., we minimized the \n",
    "$$ \\min_\\theta \\, \\int_{t=0}^{1} \\; L(\\theta(t,\\omega)) \\, {\\rm d}t. $$\n",
    "However, we dont know how will the resistance decay, i.e., we should also minimize the loss function w.r.t. aging models with different parameters. That means we need to optimized\n",
    "$$ \\min_\\theta \\, \\int_{\\omega}\\int_{t=0}^{1} \\; L(\\theta(t,\\omega)) \\, {\\rm d}t\\, p(\\omega){\\rm d}\\omega. $$\n",
    "The Mento Carlo Approximation is then\n",
    "$$\n",
    "\\min_{\\theta_{\\rm init}} \\frac{1}{\\Omega}\\frac{1}{K}\\sum_{\\omega\\in\\mathfrak{M}}\\sum_{k\\in \\mathfrak{K} } L \\left(\\theta[k, \\omega]\\right),\n",
    "$$\n",
    "where $\\mathfrak{M}$ is the set of $\\Omega$ elements following the distribution $p(\\omega)$. $p(\\omega)$ is the distributions of parameters of the aging model. We have already obtained these distributions as we modeled the aging decay.\n",
    "\n",
    "That means we should optimize this problem by\n",
    "$$\n",
    "\\begin{align}\n",
    "\\theta_{\\rm init}&:=\\theta_{\\rm init} - \\alpha\\cdot\\nabla_{\\theta_{\\rm init}}\\left(\\frac{1}{\\Omega}\\frac{1}{K}\\sum_{\\omega\\in\\mathfrak{M}}\\sum_{k\\in \\mathfrak{K} } L \\left(\\theta[k, \\omega]\\right)\\right)\\\\\n",
    "&=\\theta_{\\rm init} - \\frac{\\alpha}{\\Omega K}\\cdot\\nabla_{\\theta_{\\rm init}}\\left(\\sum_{\\omega\\in\\mathfrak{M}}\\sum_{k\\in \\mathfrak{K} } L \\left(\\theta[k, \\omega]\\right)\\right)\\\\\n",
    "&=\\theta_{\\rm init} - \\frac{\\alpha}{\\Omega K}\\left(\\sum_{\\omega\\in\\mathfrak{M}}\\sum_{k\\in \\mathfrak{K} }\\nabla_{\\theta_{\\rm init}} L \\left(\\theta[k, \\omega]\\right)\\right)\n",
    "\\end{align}\n",
    "$$"
   ]
  },
  {
   "cell_type": "markdown",
   "id": "eab183f8",
   "metadata": {},
   "source": [
    "# Get aging model"
   ]
  },
  {
   "cell_type": "code",
   "execution_count": 1,
   "id": "0bc40b33",
   "metadata": {},
   "outputs": [],
   "source": [
    "import importlib\n",
    "from torch.autograd import Variable\n",
    "import torch\n",
    "import pickle\n",
    "import os\n",
    "import sys\n",
    "import matplotlib.pyplot as plt\n",
    "import numpy as np\n",
    "import pNN_aging_aware_vectorization as pnnv\n",
    "import training_vectorization as tv\n",
    "sys.path.append(os.path.join(os.getcwd(), 'Aging_Model'))\n",
    "\n",
    "with open(os.path.join(os.getcwd(), 'Aging_Model', 'exp_aging_model.p'), 'rb') as f:\n",
    "    age_generator = pickle.load(f)"
   ]
  },
  {
   "cell_type": "markdown",
   "id": "1026bd3c",
   "metadata": {},
   "source": [
    "# Device"
   ]
  },
  {
   "cell_type": "code",
   "execution_count": 2,
   "id": "b0e91163",
   "metadata": {},
   "outputs": [
    {
     "data": {
      "text/plain": [
       "device(type='cuda')"
      ]
     },
     "execution_count": 2,
     "metadata": {},
     "output_type": "execute_result"
    }
   ],
   "source": [
    "device = torch.device('cuda' if torch.cuda.is_available() else 'cpu')\n",
    "device"
   ]
  },
  {
   "cell_type": "markdown",
   "id": "15519567",
   "metadata": {},
   "source": [
    "# Prepare data"
   ]
  },
  {
   "cell_type": "markdown",
   "id": "f224be26-e399-42a8-9c96-e285490e8916",
   "metadata": {},
   "source": [
    "## Dataset"
   ]
  },
  {
   "cell_type": "code",
   "execution_count": 3,
   "id": "92014c65-5b5c-4b61-93ef-30f044282eb3",
   "metadata": {},
   "outputs": [],
   "source": [
    "ds = 'Pendigits'"
   ]
  },
  {
   "cell_type": "markdown",
   "id": "3f9b925b",
   "metadata": {},
   "source": [
    "## Load data"
   ]
  },
  {
   "cell_type": "code",
   "execution_count": 4,
   "id": "fd3f8c31",
   "metadata": {},
   "outputs": [
    {
     "data": {
      "text/plain": [
       "(torch.Size([10992, 16]), torch.Size([10992]), 10992, 16, 10)"
      ]
     },
     "execution_count": 4,
     "metadata": {},
     "output_type": "execute_result"
    }
   ],
   "source": [
    "datapath = os.path.join(os.getcwd(), 'Datasets', 'Haibin',\n",
    "                        'data_processed', f'Dataset_{ds}.p')\n",
    "with open(datapath, 'rb') as f:\n",
    "    dataset = pickle.load(f)\n",
    "X = dataset['X'].float()\n",
    "y = dataset['y']\n",
    "\n",
    "E, N_features, N_class = X.shape[0], X.shape[1], torch.max(\n",
    "    torch.unique(y)).item()+1\n",
    "X.shape, y.shape, E, N_features, N_class"
   ]
  },
  {
   "cell_type": "markdown",
   "id": "35adbc19",
   "metadata": {},
   "source": [
    "## data preprocessing"
   ]
  },
  {
   "cell_type": "code",
   "execution_count": 5,
   "id": "ea0969cc",
   "metadata": {},
   "outputs": [
    {
     "data": {
      "text/plain": [
       "(tensor(0.), tensor(1.))"
      ]
     },
     "execution_count": 5,
     "metadata": {},
     "output_type": "execute_result"
    }
   ],
   "source": [
    "# normalization\n",
    "X = X / (torch.max(X, axis=0)[0] - torch.min(X, axis=0)[0])\n",
    "X = X - torch.min(X, axis=0)[0]\n",
    "torch.min(X), torch.max(X)"
   ]
  },
  {
   "cell_type": "code",
   "execution_count": 6,
   "id": "9d04d54b",
   "metadata": {},
   "outputs": [
    {
     "data": {
      "text/plain": [
       "tensor([[0.4700, 1.0000, 0.2700, 0.8100, 0.5700, 0.3700, 0.2600, 0.0000, 0.0000],\n",
       "        [0.0000, 0.8900, 0.2700, 1.0000, 0.4200, 0.7500, 0.2900, 0.4500, 0.1500],\n",
       "        [0.0000, 0.5700, 0.3100, 0.6800, 0.7200, 0.9000, 1.0000, 1.0000, 0.7600],\n",
       "        [0.0000, 1.0000, 0.0700, 0.9200, 0.0500, 0.6800, 0.1900, 0.4500, 0.8600],\n",
       "        [0.0000, 0.6700, 0.4900, 0.8300, 1.0000, 1.0000, 0.8100, 0.8000, 0.6000],\n",
       "        [1.0000, 1.0000, 0.8800, 0.9900, 0.4900, 0.7400, 0.1700, 0.4700, 0.0000],\n",
       "        [0.0000, 1.0000, 0.0300, 0.7200, 0.2600, 0.3500, 0.8500, 0.3500, 1.0000],\n",
       "        [0.0000, 0.3900, 0.0200, 0.6200, 0.1100, 0.0500, 0.6300, 0.0000, 1.0000],\n",
       "        [0.1300, 0.8900, 0.1200, 0.5000, 0.7200, 0.3800, 0.5600, 0.0000, 0.0400],\n",
       "        [0.5700, 1.0000, 0.2200, 0.7200, 0.0000, 0.3100, 0.2500, 0.0000, 0.7500]])"
      ]
     },
     "execution_count": 6,
     "metadata": {},
     "output_type": "execute_result"
    }
   ],
   "source": [
    "X[:10, :9]"
   ]
  },
  {
   "cell_type": "code",
   "execution_count": 7,
   "id": "6d30ecfc",
   "metadata": {},
   "outputs": [
    {
     "data": {
      "text/plain": [
       "(6595, 2048, 2048)"
      ]
     },
     "execution_count": 7,
     "metadata": {},
     "output_type": "execute_result"
    }
   ],
   "source": [
    "from torch.utils.data import TensorDataset\n",
    "from torch.utils.data import DataLoader\n",
    "from torch.utils.data import random_split\n",
    "\n",
    "# generate tensordataset\n",
    "dataset = TensorDataset(X.to(device), y.to(device))\n",
    "\n",
    "# split\n",
    "train_rate = 0.6\n",
    "test_rate = 0.2\n",
    "valid_rate = 0.2\n",
    "E_train = min(8192, int(E*train_rate))\n",
    "E_test = min(2048, int(E*test_rate))\n",
    "E_valid = min(2048, int(E*valid_rate))\n",
    "\n",
    "train_data, rest_data = random_split(\n",
    "    dataset, [E_train, E-E_train], generator=torch.Generator().manual_seed(19950102))\n",
    "test_data, rest_data = random_split(rest_data, [\n",
    "                                     E_test, E-E_train-E_test], generator=torch.Generator().manual_seed(19950102))\n",
    "valid_data, rest_data = random_split(rest_data, [\n",
    "                                     E_valid, E-E_train-E_test-E_valid], generator=torch.Generator().manual_seed(19950102))\n",
    "\n",
    "len(train_data), len(test_data), len(valid_data)"
   ]
  },
  {
   "cell_type": "code",
   "execution_count": 8,
   "id": "4f8988b7",
   "metadata": {},
   "outputs": [],
   "source": [
    "# batch\n",
    "train_loader = DataLoader(train_data, batch_size=len(train_data))\n",
    "test_loader = DataLoader(test_data, batch_size=len(test_data))\n",
    "valid_loader = DataLoader(valid_data, batch_size=len(valid_data))"
   ]
  },
  {
   "cell_type": "markdown",
   "id": "bb0f57e2",
   "metadata": {},
   "source": [
    "# Hyperparameter"
   ]
  },
  {
   "cell_type": "code",
   "execution_count": 9,
   "id": "608550a4",
   "metadata": {},
   "outputs": [],
   "source": [
    "N_Hidden = 10\n",
    "m = 0.3\n",
    "T = 0.1\n",
    "M = 50\n",
    "K = 10\n",
    "M_train = 200\n",
    "K_train = 20\n",
    "M_test = 20\n",
    "K_test = 10\n",
    "M_valid = 500\n",
    "K_valid = 50"
   ]
  },
  {
   "cell_type": "markdown",
   "id": "98cf49ee-2bf2-4d63-8073-71feab7d7cff",
   "metadata": {},
   "source": [
    "# Normal NN"
   ]
  },
  {
   "cell_type": "markdown",
   "id": "f3030cec-d9a3-4baa-8fdf-778491a9e5b7",
   "metadata": {},
   "source": [
    "## Define"
   ]
  },
  {
   "cell_type": "code",
   "execution_count": 10,
   "id": "d8578200-6be0-46b8-81be-2d0726a9d4a0",
   "metadata": {},
   "outputs": [
    {
     "data": {
      "text/plain": [
       "Sequential(\n",
       "  (0): Linear(in_features=16, out_features=10, bias=True)\n",
       "  (1): Tanh()\n",
       "  (2): Linear(in_features=10, out_features=10, bias=True)\n",
       "  (3): Tanh()\n",
       ")"
      ]
     },
     "execution_count": 10,
     "metadata": {},
     "output_type": "execute_result"
    }
   ],
   "source": [
    "NN = torch.nn.Sequential(torch.nn.Linear(N_features, N_Hidden), torch.nn.Tanh(),\n",
    "                        torch.nn.Linear(N_Hidden, N_class), torch.nn.Tanh())\n",
    "\n",
    "\n",
    "def weights_init(m):\n",
    "    if isinstance(m, torch.nn.Linear):\n",
    "        torch.nn.init.xavier_uniform_(m.weight)\n",
    "        m.bias.data.fill_(0.01)\n",
    "\n",
    "NN.apply(weights_init)\n",
    "\n",
    "celoss = torch.nn.CrossEntropyLoss()\n",
    "NN.to(device)"
   ]
  },
  {
   "cell_type": "markdown",
   "id": "f3ad2024-6626-423b-b707-09c8d33e2dc2",
   "metadata": {},
   "source": [
    "## Training"
   ]
  },
  {
   "cell_type": "code",
   "execution_count": 11,
   "id": "22ff31fc-c84e-4a1f-a656-7807a6238aa2",
   "metadata": {},
   "outputs": [
    {
     "data": {
      "application/vnd.jupyter.widget-view+json": {
       "model_id": "2389a884112c46cd9dbb89f77f847d5f",
       "version_major": 2,
       "version_minor": 0
      },
      "text/plain": [
       "  0%|          | 0/15000 [00:00<?, ?it/s]"
      ]
     },
     "metadata": {},
     "output_type": "display_data"
    },
    {
     "name": "stdout",
     "output_type": "stream",
     "text": [
      "| Epoch:     0 | Accuracy: 0.10547 | Loss: 2.438435793 |\n",
      "| Epoch:   200 | Accuracy: 0.86621 | Loss: 1.135542512 |\n",
      "| Epoch:   400 | Accuracy: 0.91211 | Loss: 0.986372650 |\n",
      "| Epoch:   600 | Accuracy: 0.93750 | Loss: 0.928848207 |\n",
      "| Epoch:   800 | Accuracy: 0.95020 | Loss: 0.901226938 |\n",
      "| Epoch:  1000 | Accuracy: 0.95947 | Loss: 0.887156606 |\n",
      "| Epoch:  1200 | Accuracy: 0.96045 | Loss: 0.880410492 |\n",
      "| Epoch:  1400 | Accuracy: 0.96045 | Loss: 0.876848817 |\n",
      "| Epoch:  1600 | Accuracy: 0.96094 | Loss: 0.874322772 |\n",
      "| Epoch:  1800 | Accuracy: 0.96045 | Loss: 0.872536659 |\n",
      "| Epoch:  2000 | Accuracy: 0.96240 | Loss: 0.871174991 |\n",
      "| Epoch:  2200 | Accuracy: 0.96436 | Loss: 0.869707525 |\n",
      "| Epoch:  2400 | Accuracy: 0.96729 | Loss: 0.866807878 |\n",
      "| Epoch:  2600 | Accuracy: 0.96973 | Loss: 0.865246594 |\n",
      "| Epoch:  2800 | Accuracy: 0.96973 | Loss: 0.864253402 |\n",
      "| Epoch:  3000 | Accuracy: 0.96973 | Loss: 0.863499105 |\n",
      "| Epoch:  3200 | Accuracy: 0.96973 | Loss: 0.862620950 |\n",
      "| Epoch:  3400 | Accuracy: 0.96973 | Loss: 0.861430824 |\n",
      "| Epoch:  3600 | Accuracy: 0.96826 | Loss: 0.860278845 |\n",
      "| Epoch:  3800 | Accuracy: 0.96924 | Loss: 0.858578384 |\n",
      "| Epoch:  4000 | Accuracy: 0.96924 | Loss: 0.857695162 |\n",
      "| Epoch:  4200 | Accuracy: 0.96973 | Loss: 0.857170165 |\n",
      "| Epoch:  4400 | Accuracy: 0.96875 | Loss: 0.856941104 |\n",
      "| Epoch:  4600 | Accuracy: 0.96924 | Loss: 0.856753767 |\n",
      "| Epoch:  4800 | Accuracy: 0.96973 | Loss: 0.856557369 |\n",
      "| Epoch:  5000 | Accuracy: 0.97021 | Loss: 0.856552720 |\n",
      "| Epoch:  5200 | Accuracy: 0.96973 | Loss: 0.856495857 |\n",
      "| Epoch:  5400 | Accuracy: 0.97021 | Loss: 0.856317461 |\n",
      "| Epoch:  5600 | Accuracy: 0.97021 | Loss: 0.856046855 |\n",
      "| Epoch:  5800 | Accuracy: 0.96973 | Loss: 0.856046975 |\n",
      "| Epoch:  6000 | Accuracy: 0.97070 | Loss: 0.856065691 |\n",
      "| Epoch:  6200 | Accuracy: 0.97168 | Loss: 0.856253326 |\n",
      "| Epoch:  6400 | Accuracy: 0.97168 | Loss: 0.855973840 |\n",
      "| Epoch:  6600 | Accuracy: 0.97119 | Loss: 0.855771899 |\n",
      "| Epoch:  6800 | Accuracy: 0.97168 | Loss: 0.855668366 |\n",
      "| Epoch:  7000 | Accuracy: 0.97168 | Loss: 0.855592549 |\n",
      "| Epoch:  7200 | Accuracy: 0.97119 | Loss: 0.855510592 |\n",
      "| Epoch:  7400 | Accuracy: 0.97119 | Loss: 0.855414808 |\n",
      "| Epoch:  7600 | Accuracy: 0.97119 | Loss: 0.855318725 |\n",
      "| Epoch:  7800 | Accuracy: 0.97119 | Loss: 0.855224550 |\n",
      "| Epoch:  8000 | Accuracy: 0.97119 | Loss: 0.855146170 |\n",
      "| Epoch:  8200 | Accuracy: 0.97168 | Loss: 0.855073392 |\n",
      "| Epoch:  8400 | Accuracy: 0.97119 | Loss: 0.854992151 |\n",
      "| Epoch:  8600 | Accuracy: 0.97168 | Loss: 0.854877055 |\n",
      "| Epoch:  8800 | Accuracy: 0.97217 | Loss: 0.854745328 |\n",
      "| Epoch:  9000 | Accuracy: 0.97168 | Loss: 0.854619145 |\n",
      "| Epoch:  9200 | Accuracy: 0.97168 | Loss: 0.854505360 |\n",
      "| Epoch:  9400 | Accuracy: 0.97168 | Loss: 0.854404509 |\n",
      "| Epoch:  9600 | Accuracy: 0.97168 | Loss: 0.854315519 |\n",
      "| Epoch:  9800 | Accuracy: 0.97168 | Loss: 0.854236424 |\n",
      "| Epoch: 10000 | Accuracy: 0.97168 | Loss: 0.854165196 |\n",
      "| Epoch: 10200 | Accuracy: 0.97168 | Loss: 0.854099691 |\n",
      "| Epoch: 10400 | Accuracy: 0.97168 | Loss: 0.854038358 |\n",
      "| Epoch: 10600 | Accuracy: 0.97217 | Loss: 0.853979886 |\n",
      "| Epoch: 10800 | Accuracy: 0.97217 | Loss: 0.853923976 |\n",
      "| Epoch: 11000 | Accuracy: 0.97217 | Loss: 0.853871167 |\n",
      "| Epoch: 11200 | Accuracy: 0.97217 | Loss: 0.853822708 |\n",
      "| Epoch: 11400 | Accuracy: 0.97217 | Loss: 0.853780150 |\n",
      "| Epoch: 11600 | Accuracy: 0.97217 | Loss: 0.853744686 |\n",
      "| Epoch: 11800 | Accuracy: 0.97217 | Loss: 0.853716016 |\n",
      "| Epoch: 12000 | Accuracy: 0.97217 | Loss: 0.853692889 |\n",
      "| Epoch: 12200 | Accuracy: 0.97217 | Loss: 0.853675365 |\n",
      "| Epoch: 12400 | Accuracy: 0.97217 | Loss: 0.853662372 |\n",
      "| Epoch: 12600 | Accuracy: 0.97217 | Loss: 0.853653729 |\n",
      "| Epoch: 12800 | Accuracy: 0.97217 | Loss: 0.853650153 |\n",
      "| Epoch: 13000 | Accuracy: 0.97217 | Loss: 0.853650808 |\n",
      "| Epoch: 13200 | Accuracy: 0.97217 | Loss: 0.853655279 |\n",
      "| Epoch: 13400 | Accuracy: 0.97217 | Loss: 0.853650272 |\n",
      "| Epoch: 13600 | Accuracy: 0.97217 | Loss: 0.853628039 |\n",
      "| Epoch: 13800 | Accuracy: 0.97119 | Loss: 0.853675425 |\n",
      "| Epoch: 14000 | Accuracy: 0.97119 | Loss: 0.853746295 |\n",
      "| Epoch: 14200 | Accuracy: 0.97119 | Loss: 0.853787959 |\n",
      "| Epoch: 14400 | Accuracy: 0.97119 | Loss: 0.853844881 |\n",
      "| Epoch: 14600 | Accuracy: 0.97119 | Loss: 0.853916287 |\n",
      "| Epoch: 14800 | Accuracy: 0.97119 | Loss: 0.853951097 |\n",
      "Finished.\n"
     ]
    }
   ],
   "source": [
    "optimizer_NN = torch.optim.Adam(NN.parameters(), lr=0.001)\n",
    "train_loader = DataLoader(train_data, batch_size=min(len(train_data),1024))\n",
    "train_loss_NN, test_loss_NN, parameter_NN = tv.train_normal_nn(NN,\n",
    "                                                                     train_loader,\n",
    "                                                                     test_loader,\n",
    "                                                                     optimizer=optimizer_NN,\n",
    "                                                                     lossfunction=celoss,\n",
    "                                                                     Epoch=15000)"
   ]
  },
  {
   "cell_type": "code",
   "execution_count": 12,
   "id": "2b482bd5-babe-4185-ac37-c6c15f27c16e",
   "metadata": {},
   "outputs": [
    {
     "data": {
      "text/plain": [
       "(13550, tensor(0.8536))"
      ]
     },
     "execution_count": 12,
     "metadata": {},
     "output_type": "execute_result"
    },
    {
     "data": {
      "image/png": "[encoded data removed]",
      "text/plain": [
       "<Figure size 432x288 with 1 Axes>"
      ]
     },
     "metadata": {
      "needs_background": "light"
     },
     "output_type": "display_data"
    }
   ],
   "source": [
    "plt.plot(train_loss_NN, '-', label='train')\n",
    "plt.plot(test_loss_NN, '--', label='test')\n",
    "plt.legend()\n",
    "NN.load_state_dict(parameter_NN)\n",
    "best = np.argmin(test_loss_NN)\n",
    "best, test_loss_NN[best]"
   ]
  },
  {
   "cell_type": "code",
   "execution_count": 13,
   "id": "56955489-a421-4d80-b4ba-de6871871670",
   "metadata": {},
   "outputs": [
    {
     "data": {
      "application/vnd.jupyter.widget-view+json": {
       "model_id": "5f7b416917964dee8ef17ac06068354c",
       "version_major": 2,
       "version_minor": 0
      },
      "text/plain": [
       "  0%|          | 0/5000 [00:00<?, ?it/s]"
      ]
     },
     "metadata": {},
     "output_type": "display_data"
    },
    {
     "name": "stdout",
     "output_type": "stream",
     "text": [
      "| Epoch:     0 | Accuracy: 0.97168 | Loss: 0.853738129 |\n",
      "| Epoch:   200 | Accuracy: 0.97070 | Loss: 0.853904545 |\n",
      "| Epoch:   400 | Accuracy: 0.97070 | Loss: 0.854244053 |\n",
      "| Epoch:   600 | Accuracy: 0.97021 | Loss: 0.854533911 |\n",
      "| Epoch:   800 | Accuracy: 0.97021 | Loss: 0.854765832 |\n",
      "| Epoch:  1000 | Accuracy: 0.97070 | Loss: 0.854861796 |\n",
      "| Epoch:  1200 | Accuracy: 0.97119 | Loss: 0.854615629 |\n",
      "| Epoch:  1400 | Accuracy: 0.97217 | Loss: 0.854576588 |\n",
      "| Epoch:  1600 | Accuracy: 0.97266 | Loss: 0.855084300 |\n",
      "| Epoch:  1800 | Accuracy: 0.97266 | Loss: 0.854940116 |\n",
      "| Epoch:  2000 | Accuracy: 0.97314 | Loss: 0.854386747 |\n",
      "| Epoch:  2200 | Accuracy: 0.97412 | Loss: 0.854566455 |\n",
      "| Epoch:  2400 | Accuracy: 0.97412 | Loss: 0.854575336 |\n",
      "| Epoch:  2600 | Accuracy: 0.97363 | Loss: 0.854495347 |\n",
      "| Epoch:  2800 | Accuracy: 0.97363 | Loss: 0.853845179 |\n",
      "| Epoch:  3000 | Accuracy: 0.97412 | Loss: 0.853542805 |\n",
      "| Epoch:  3200 | Accuracy: 0.97363 | Loss: 0.853305459 |\n",
      "| Epoch:  3400 | Accuracy: 0.97314 | Loss: 0.853045344 |\n",
      "| Epoch:  3600 | Accuracy: 0.97314 | Loss: 0.852752090 |\n",
      "| Epoch:  3800 | Accuracy: 0.97266 | Loss: 0.852544606 |\n",
      "| Epoch:  4000 | Accuracy: 0.97412 | Loss: 0.852510333 |\n",
      "| Epoch:  4200 | Accuracy: 0.97314 | Loss: 0.852473557 |\n",
      "| Epoch:  4400 | Accuracy: 0.97314 | Loss: 0.852455080 |\n",
      "| Epoch:  4600 | Accuracy: 0.97314 | Loss: 0.852437973 |\n",
      "| Epoch:  4800 | Accuracy: 0.97314 | Loss: 0.852515936 |\n",
      "Finished.\n"
     ]
    }
   ],
   "source": [
    "optimizer_NN = torch.optim.Adam(NN.parameters(), lr=0.001)\n",
    "train_loader = DataLoader(train_data, batch_size=len(train_data))\n",
    "train_loss_NN, test_loss_NN, parameter_NN = tv.train_normal_nn(NN,\n",
    "                                                                     train_loader,\n",
    "                                                                     test_loader,\n",
    "                                                                     optimizer=optimizer_NN,\n",
    "                                                                     lossfunction=celoss,\n",
    "                                                                     Epoch=5000)"
   ]
  },
  {
   "cell_type": "code",
   "execution_count": 14,
   "id": "202233c8-206f-4cb4-8c47-d5277bce5b39",
   "metadata": {},
   "outputs": [
    {
     "data": {
      "text/plain": [
       "(4401, tensor(0.8524))"
      ]
     },
     "execution_count": 14,
     "metadata": {},
     "output_type": "execute_result"
    },
    {
     "data": {
      "image/png": "[encoded data removed]",
      "text/plain": [
       "<Figure size 432x288 with 1 Axes>"
      ]
     },
     "metadata": {
      "needs_background": "light"
     },
     "output_type": "display_data"
    }
   ],
   "source": [
    "plt.plot(train_loss_NN, '-', label='train')\n",
    "plt.plot(test_loss_NN, '--', label='test')\n",
    "plt.legend()\n",
    "NN.load_state_dict(parameter_NN)\n",
    "best = np.argmin(test_loss_NN)\n",
    "best, test_loss_NN[best]"
   ]
  },
  {
   "cell_type": "markdown",
   "id": "6568b4fd-62c9-4891-8cba-0b289bbf1e67",
   "metadata": {},
   "source": [
    "## Save Model"
   ]
  },
  {
   "cell_type": "code",
   "execution_count": 15,
   "id": "3f076686-a233-4434-b21f-486c95c9a78b",
   "metadata": {},
   "outputs": [],
   "source": [
    "with open(f'./result/{ds}_NN.p', 'wb') as f:\n",
    "    pickle.dump(NN, f)"
   ]
  },
  {
   "cell_type": "markdown",
   "id": "38d0bfe4-d2ea-45fb-827b-3ba9f5a37618",
   "metadata": {},
   "source": [
    "## Evaluation"
   ]
  },
  {
   "cell_type": "code",
   "execution_count": 16,
   "id": "63f6d5f0-5245-4325-b384-58b4d79999a1",
   "metadata": {},
   "outputs": [
    {
     "name": "stdout",
     "output_type": "stream",
     "text": [
      "0.9794921875\n"
     ]
    }
   ],
   "source": [
    "for x_valid, y_valid in valid_loader:\n",
    "    prediction_valid = NN(x_valid)\n",
    "    p = torch.argmax(prediction_valid, 1)\n",
    "    pred_y = p.cpu().data.numpy().squeeze()\n",
    "    acc_valid = sum(pred_y == y_valid.cpu().numpy()) / y_valid.shape[0]\n",
    "print(acc_valid)"
   ]
  },
  {
   "cell_type": "markdown",
   "id": "5c65c580",
   "metadata": {},
   "source": [
    "# Normal PNN"
   ]
  },
  {
   "cell_type": "markdown",
   "id": "11fcb7de",
   "metadata": {},
   "source": [
    "## Define"
   ]
  },
  {
   "cell_type": "code",
   "execution_count": 25,
   "id": "098714b2",
   "metadata": {},
   "outputs": [
    {
     "data": {
      "text/plain": [
       "Sequential(\n",
       "  (0): PNNLayer()\n",
       "  (1): PNNLayer()\n",
       ")"
      ]
     },
     "execution_count": 25,
     "metadata": {},
     "output_type": "execute_result"
    }
   ],
   "source": [
    "PNN = torch.nn.Sequential(pnnv.PNNLayer(N_features, N_Hidden, age_generator, xpu=device),\n",
    "                         pnnv.PNNLayer(N_Hidden, N_class, age_generator, xpu=device))\n",
    "\n",
    "PNN.apply(lambda z: pnnv.MakeModel(z, M=1))\n",
    "PNN.apply(lambda z: pnnv.SetTime(z, t=[0]))\n",
    "\n",
    "PNN.to(device)"
   ]
  },
  {
   "cell_type": "markdown",
   "id": "8eb6a0c4-b427-4278-b855-0c6f78ba5b8d",
   "metadata": {},
   "source": [
    "## Training"
   ]
  },
  {
   "cell_type": "code",
   "execution_count": null,
   "id": "b248e211",
   "metadata": {},
   "outputs": [
    {
     "data": {
      "application/vnd.jupyter.widget-view+json": {
       "model_id": "3bcb0e82763c438596977270e5f87fab",
       "version_major": 2,
       "version_minor": 0
      },
      "text/plain": [
       "  0%|          | 0/50000 [00:00<?, ?it/s]"
      ]
     },
     "metadata": {},
     "output_type": "display_data"
    },
    {
     "name": "stdout",
     "output_type": "stream",
     "text": [
      "| Epoch:     0 | Accuracy: 0.09521 | Loss: 1.372618198 |\n",
      "| Epoch:   200 | Accuracy: 0.90576 | Loss: 0.182976678 |\n",
      "| Epoch:   400 | Accuracy: 0.92578 | Loss: 0.152072877 |\n",
      "| Epoch:   600 | Accuracy: 0.93604 | Loss: 0.143025905 |\n",
      "| Epoch:   800 | Accuracy: 0.93652 | Loss: 0.138509542 |\n",
      "| Epoch:  1000 | Accuracy: 0.93750 | Loss: 0.134686619 |\n",
      "| Epoch:  1200 | Accuracy: 0.94092 | Loss: 0.130581021 |\n",
      "| Epoch:  1400 | Accuracy: 0.94141 | Loss: 0.127349764 |\n",
      "| Epoch:  1600 | Accuracy: 0.94141 | Loss: 0.126616806 |\n",
      "| Epoch:  1800 | Accuracy: 0.94238 | Loss: 0.126666263 |\n",
      "| Epoch:  2000 | Accuracy: 0.94141 | Loss: 0.126404434 |\n",
      "| Epoch:  2200 | Accuracy: 0.94141 | Loss: 0.126712605 |\n",
      "| Epoch:  2400 | Accuracy: 0.94092 | Loss: 0.126431853 |\n",
      "| Epoch:  2600 | Accuracy: 0.94043 | Loss: 0.126740858 |\n",
      "| Epoch:  2800 | Accuracy: 0.94141 | Loss: 0.126512825 |\n",
      "| Epoch:  3000 | Accuracy: 0.94092 | Loss: 0.126819372 |\n",
      "| Epoch:  3200 | Accuracy: 0.94043 | Loss: 0.126532689 |\n",
      "| Epoch:  3400 | Accuracy: 0.94043 | Loss: 0.126581341 |\n",
      "| Epoch:  3600 | Accuracy: 0.94092 | Loss: 0.126584351 |\n",
      "| Epoch:  3800 | Accuracy: 0.94141 | Loss: 0.126632690 |\n",
      "| Epoch:  4000 | Accuracy: 0.94092 | Loss: 0.126321673 |\n",
      "| Epoch:  4200 | Accuracy: 0.94189 | Loss: 0.126404300 |\n",
      "| Epoch:  4400 | Accuracy: 0.94189 | Loss: 0.125565335 |\n",
      "| Epoch:  4600 | Accuracy: 0.94092 | Loss: 0.125943378 |\n",
      "| Epoch:  4800 | Accuracy: 0.93994 | Loss: 0.126197323 |\n",
      "| Epoch:  5000 | Accuracy: 0.94141 | Loss: 0.125307158 |\n",
      "| Epoch:  5200 | Accuracy: 0.94092 | Loss: 0.125101179 |\n",
      "| Epoch:  5400 | Accuracy: 0.94189 | Loss: 0.125422001 |\n",
      "| Epoch:  5600 | Accuracy: 0.94336 | Loss: 0.125100613 |\n",
      "| Epoch:  5800 | Accuracy: 0.94238 | Loss: 0.125126466 |\n",
      "| Epoch:  6000 | Accuracy: 0.94238 | Loss: 0.125108093 |\n",
      "| Epoch:  6200 | Accuracy: 0.94287 | Loss: 0.125018746 |\n",
      "| Epoch:  6400 | Accuracy: 0.94336 | Loss: 0.125090092 |\n",
      "| Epoch:  6600 | Accuracy: 0.94189 | Loss: 0.125126734 |\n",
      "| Epoch:  6800 | Accuracy: 0.94189 | Loss: 0.125145882 |\n",
      "| Epoch:  7000 | Accuracy: 0.94385 | Loss: 0.124617107 |\n",
      "| Epoch:  7200 | Accuracy: 0.94287 | Loss: 0.125231341 |\n",
      "| Epoch:  7400 | Accuracy: 0.94385 | Loss: 0.124736540 |\n",
      "| Epoch:  7600 | Accuracy: 0.94336 | Loss: 0.124779209 |\n",
      "| Epoch:  7800 | Accuracy: 0.94385 | Loss: 0.124672122 |\n",
      "| Epoch:  8000 | Accuracy: 0.94434 | Loss: 0.124595121 |\n",
      "| Epoch:  8200 | Accuracy: 0.94385 | Loss: 0.124810800 |\n",
      "| Epoch:  8400 | Accuracy: 0.94531 | Loss: 0.124693260 |\n",
      "| Epoch:  8600 | Accuracy: 0.94434 | Loss: 0.124723867 |\n",
      "| Epoch:  8800 | Accuracy: 0.94434 | Loss: 0.124822155 |\n",
      "| Epoch:  9000 | Accuracy: 0.94287 | Loss: 0.124804139 |\n",
      "| Epoch:  9200 | Accuracy: 0.94336 | Loss: 0.124598756 |\n",
      "| Epoch:  9400 | Accuracy: 0.94287 | Loss: 0.124430023 |\n",
      "| Epoch:  9600 | Accuracy: 0.94385 | Loss: 0.124572717 |\n",
      "| Epoch:  9800 | Accuracy: 0.94336 | Loss: 0.124630049 |\n",
      "| Epoch: 10000 | Accuracy: 0.94385 | Loss: 0.124480903 |\n",
      "| Epoch: 10200 | Accuracy: 0.94189 | Loss: 0.124706291 |\n",
      "| Epoch: 10400 | Accuracy: 0.94336 | Loss: 0.124650516 |\n",
      "| Epoch: 10600 | Accuracy: 0.94287 | Loss: 0.124585368 |\n",
      "| Epoch: 10800 | Accuracy: 0.94336 | Loss: 0.124569133 |\n",
      "| Epoch: 11000 | Accuracy: 0.94385 | Loss: 0.124747068 |\n",
      "| Epoch: 11200 | Accuracy: 0.94385 | Loss: 0.124801263 |\n",
      "| Epoch: 11400 | Accuracy: 0.94385 | Loss: 0.125015557 |\n",
      "| Epoch: 11600 | Accuracy: 0.94336 | Loss: 0.124695413 |\n",
      "| Epoch: 11800 | Accuracy: 0.94287 | Loss: 0.124871477 |\n",
      "| Epoch: 12000 | Accuracy: 0.94336 | Loss: 0.124952659 |\n",
      "| Epoch: 12200 | Accuracy: 0.94434 | Loss: 0.125124216 |\n",
      "| Epoch: 12400 | Accuracy: 0.94336 | Loss: 0.125142351 |\n",
      "| Epoch: 12600 | Accuracy: 0.94434 | Loss: 0.125001550 |\n",
      "| Epoch: 12800 | Accuracy: 0.94434 | Loss: 0.124948308 |\n",
      "| Epoch: 13000 | Accuracy: 0.94434 | Loss: 0.125016749 |\n",
      "| Epoch: 13200 | Accuracy: 0.94385 | Loss: 0.125035465 |\n",
      "| Epoch: 13400 | Accuracy: 0.94336 | Loss: 0.125454128 |\n",
      "| Epoch: 13600 | Accuracy: 0.94434 | Loss: 0.125190318 |\n",
      "| Epoch: 13800 | Accuracy: 0.94385 | Loss: 0.125130266 |\n",
      "| Epoch: 14000 | Accuracy: 0.94385 | Loss: 0.125356674 |\n",
      "| Epoch: 14200 | Accuracy: 0.94482 | Loss: 0.125274390 |\n",
      "| Epoch: 14400 | Accuracy: 0.94482 | Loss: 0.125206947 |\n",
      "| Epoch: 14600 | Accuracy: 0.94434 | Loss: 0.125024930 |\n",
      "| Epoch: 14800 | Accuracy: 0.94385 | Loss: 0.125654995 |\n",
      "| Epoch: 15000 | Accuracy: 0.94482 | Loss: 0.125349343 |\n",
      "| Epoch: 15200 | Accuracy: 0.94385 | Loss: 0.125617936 |\n",
      "| Epoch: 15400 | Accuracy: 0.94482 | Loss: 0.125330806 |\n",
      "| Epoch: 15600 | Accuracy: 0.94287 | Loss: 0.125549972 |\n",
      "| Epoch: 15800 | Accuracy: 0.94336 | Loss: 0.125514895 |\n",
      "| Epoch: 16000 | Accuracy: 0.94385 | Loss: 0.125473827 |\n",
      "| Epoch: 16200 | Accuracy: 0.94336 | Loss: 0.125791609 |\n",
      "| Epoch: 16400 | Accuracy: 0.94434 | Loss: 0.125603616 |\n",
      "| Epoch: 16600 | Accuracy: 0.94238 | Loss: 0.125875533 |\n",
      "| Epoch: 16800 | Accuracy: 0.94482 | Loss: 0.125957996 |\n",
      "| Epoch: 17000 | Accuracy: 0.94385 | Loss: 0.125869513 |\n",
      "| Epoch: 17200 | Accuracy: 0.94385 | Loss: 0.126025468 |\n",
      "| Epoch: 17400 | Accuracy: 0.94385 | Loss: 0.126036614 |\n",
      "| Epoch: 17600 | Accuracy: 0.94385 | Loss: 0.126200110 |\n",
      "| Epoch: 17800 | Accuracy: 0.94287 | Loss: 0.126487404 |\n",
      "| Epoch: 18000 | Accuracy: 0.94434 | Loss: 0.126099274 |\n",
      "| Epoch: 18200 | Accuracy: 0.94336 | Loss: 0.126542419 |\n",
      "| Epoch: 18400 | Accuracy: 0.94385 | Loss: 0.126756728 |\n",
      "| Epoch: 18600 | Accuracy: 0.94336 | Loss: 0.126435950 |\n",
      "| Epoch: 18800 | Accuracy: 0.94385 | Loss: 0.126532972 |\n",
      "| Epoch: 19000 | Accuracy: 0.94336 | Loss: 0.126575947 |\n",
      "| Epoch: 19200 | Accuracy: 0.94385 | Loss: 0.126812428 |\n",
      "| Epoch: 19400 | Accuracy: 0.94385 | Loss: 0.126423314 |\n",
      "| Epoch: 19600 | Accuracy: 0.94336 | Loss: 0.126672238 |\n",
      "| Epoch: 19800 | Accuracy: 0.94385 | Loss: 0.126658246 |\n",
      "| Epoch: 20000 | Accuracy: 0.94336 | Loss: 0.126814738 |\n",
      "| Epoch: 20200 | Accuracy: 0.94287 | Loss: 0.126728550 |\n",
      "| Epoch: 20400 | Accuracy: 0.94385 | Loss: 0.127045691 |\n",
      "| Epoch: 20600 | Accuracy: 0.94287 | Loss: 0.126875848 |\n",
      "| Epoch: 20800 | Accuracy: 0.94287 | Loss: 0.126923293 |\n",
      "| Epoch: 21000 | Accuracy: 0.94189 | Loss: 0.127219245 |\n",
      "| Epoch: 21200 | Accuracy: 0.94336 | Loss: 0.127145141 |\n",
      "| Epoch: 21400 | Accuracy: 0.94336 | Loss: 0.127063841 |\n",
      "| Epoch: 21600 | Accuracy: 0.94287 | Loss: 0.127313316 |\n",
      "| Epoch: 21800 | Accuracy: 0.94287 | Loss: 0.127241388 |\n",
      "| Epoch: 22000 | Accuracy: 0.94238 | Loss: 0.127043143 |\n",
      "| Epoch: 22200 | Accuracy: 0.94336 | Loss: 0.127072513 |\n",
      "| Epoch: 22400 | Accuracy: 0.94238 | Loss: 0.127251327 |\n",
      "| Epoch: 22600 | Accuracy: 0.94238 | Loss: 0.127130479 |\n",
      "| Epoch: 22800 | Accuracy: 0.94189 | Loss: 0.127067581 |\n",
      "| Epoch: 23000 | Accuracy: 0.94238 | Loss: 0.127100289 |\n",
      "| Epoch: 23200 | Accuracy: 0.94385 | Loss: 0.127246827 |\n",
      "| Epoch: 23400 | Accuracy: 0.94238 | Loss: 0.127038836 |\n",
      "| Epoch: 23600 | Accuracy: 0.94189 | Loss: 0.126902834 |\n",
      "| Epoch: 23800 | Accuracy: 0.94189 | Loss: 0.127264649 |\n",
      "| Epoch: 24000 | Accuracy: 0.94141 | Loss: 0.127161607 |\n",
      "| Epoch: 24200 | Accuracy: 0.94238 | Loss: 0.127441198 |\n",
      "| Epoch: 24400 | Accuracy: 0.94189 | Loss: 0.127440572 |\n",
      "| Epoch: 24600 | Accuracy: 0.94238 | Loss: 0.127515540 |\n",
      "| Epoch: 24800 | Accuracy: 0.94141 | Loss: 0.127478302 |\n",
      "| Epoch: 25000 | Accuracy: 0.94238 | Loss: 0.127365887 |\n",
      "| Epoch: 25200 | Accuracy: 0.94238 | Loss: 0.127576798 |\n",
      "| Epoch: 25400 | Accuracy: 0.94189 | Loss: 0.127558365 |\n",
      "| Epoch: 25600 | Accuracy: 0.94287 | Loss: 0.127447873 |\n",
      "| Epoch: 25800 | Accuracy: 0.94092 | Loss: 0.127420753 |\n",
      "| Epoch: 26000 | Accuracy: 0.94189 | Loss: 0.127790928 |\n",
      "| Epoch: 26200 | Accuracy: 0.94189 | Loss: 0.127438992 |\n",
      "| Epoch: 26400 | Accuracy: 0.94287 | Loss: 0.127528086 |\n",
      "| Epoch: 26600 | Accuracy: 0.94092 | Loss: 0.127468556 |\n",
      "| Epoch: 26800 | Accuracy: 0.94336 | Loss: 0.127492785 |\n",
      "| Epoch: 27000 | Accuracy: 0.94238 | Loss: 0.127574548 |\n",
      "| Epoch: 27200 | Accuracy: 0.94238 | Loss: 0.127518013 |\n",
      "| Epoch: 27400 | Accuracy: 0.94092 | Loss: 0.127592847 |\n",
      "| Epoch: 27600 | Accuracy: 0.94141 | Loss: 0.127497852 |\n",
      "| Epoch: 27800 | Accuracy: 0.94287 | Loss: 0.127824187 |\n",
      "| Epoch: 28000 | Accuracy: 0.94189 | Loss: 0.127705202 |\n",
      "| Epoch: 28200 | Accuracy: 0.94189 | Loss: 0.127486393 |\n",
      "| Epoch: 28400 | Accuracy: 0.94385 | Loss: 0.127586991 |\n",
      "| Epoch: 28600 | Accuracy: 0.94287 | Loss: 0.127446145 |\n",
      "| Epoch: 28800 | Accuracy: 0.94238 | Loss: 0.127478376 |\n",
      "| Epoch: 29000 | Accuracy: 0.94385 | Loss: 0.127503484 |\n",
      "| Epoch: 29200 | Accuracy: 0.94385 | Loss: 0.127619073 |\n",
      "| Epoch: 29400 | Accuracy: 0.94238 | Loss: 0.127677098 |\n",
      "| Epoch: 29600 | Accuracy: 0.94238 | Loss: 0.127729043 |\n",
      "| Epoch: 29800 | Accuracy: 0.94287 | Loss: 0.127426207 |\n",
      "| Epoch: 30000 | Accuracy: 0.94336 | Loss: 0.127652496 |\n",
      "| Epoch: 30200 | Accuracy: 0.94336 | Loss: 0.127630264 |\n",
      "| Epoch: 30400 | Accuracy: 0.94336 | Loss: 0.127740189 |\n",
      "| Epoch: 30600 | Accuracy: 0.94287 | Loss: 0.127675533 |\n",
      "| Epoch: 30800 | Accuracy: 0.94189 | Loss: 0.127561033 |\n",
      "| Epoch: 31000 | Accuracy: 0.94336 | Loss: 0.127553731 |\n",
      "| Epoch: 31200 | Accuracy: 0.94287 | Loss: 0.127620906 |\n",
      "| Epoch: 31400 | Accuracy: 0.94336 | Loss: 0.127566621 |\n",
      "| Epoch: 31600 | Accuracy: 0.94336 | Loss: 0.127644420 |\n",
      "| Epoch: 31800 | Accuracy: 0.94385 | Loss: 0.127481699 |\n",
      "| Epoch: 32000 | Accuracy: 0.94336 | Loss: 0.127521366 |\n",
      "| Epoch: 32200 | Accuracy: 0.94336 | Loss: 0.127806947 |\n",
      "| Epoch: 32400 | Accuracy: 0.94189 | Loss: 0.127355218 |\n",
      "| Epoch: 32600 | Accuracy: 0.94336 | Loss: 0.127794445 |\n",
      "| Epoch: 32800 | Accuracy: 0.94141 | Loss: 0.127490222 |\n",
      "| Epoch: 33000 | Accuracy: 0.94287 | Loss: 0.127596408 |\n",
      "| Epoch: 33200 | Accuracy: 0.94287 | Loss: 0.127486020 |\n",
      "| Epoch: 33400 | Accuracy: 0.94189 | Loss: 0.127554953 |\n",
      "| Epoch: 33600 | Accuracy: 0.94238 | Loss: 0.127393514 |\n",
      "| Epoch: 33800 | Accuracy: 0.94287 | Loss: 0.127459317 |\n",
      "| Epoch: 34000 | Accuracy: 0.94287 | Loss: 0.127399653 |\n",
      "| Epoch: 34200 | Accuracy: 0.94238 | Loss: 0.127489343 |\n",
      "| Epoch: 34400 | Accuracy: 0.94189 | Loss: 0.127427146 |\n",
      "| Epoch: 34600 | Accuracy: 0.94141 | Loss: 0.127388701 |\n",
      "| Epoch: 34800 | Accuracy: 0.94189 | Loss: 0.127355754 |\n",
      "| Epoch: 35000 | Accuracy: 0.94141 | Loss: 0.127236471 |\n",
      "| Epoch: 35200 | Accuracy: 0.94238 | Loss: 0.127388120 |\n",
      "| Epoch: 35400 | Accuracy: 0.94189 | Loss: 0.127436489 |\n",
      "| Epoch: 35600 | Accuracy: 0.94189 | Loss: 0.127606779 |\n",
      "| Epoch: 35800 | Accuracy: 0.94092 | Loss: 0.127321213 |\n",
      "| Epoch: 36000 | Accuracy: 0.94141 | Loss: 0.127441704 |\n",
      "| Epoch: 36200 | Accuracy: 0.94189 | Loss: 0.127271175 |\n",
      "| Epoch: 36400 | Accuracy: 0.94141 | Loss: 0.127574652 |\n",
      "| Epoch: 36600 | Accuracy: 0.94141 | Loss: 0.127341062 |\n",
      "| Epoch: 36800 | Accuracy: 0.94092 | Loss: 0.127365083 |\n",
      "| Epoch: 37000 | Accuracy: 0.94189 | Loss: 0.127445906 |\n",
      "| Epoch: 37200 | Accuracy: 0.94141 | Loss: 0.127455771 |\n",
      "| Epoch: 37400 | Accuracy: 0.94238 | Loss: 0.127452105 |\n",
      "| Epoch: 37600 | Accuracy: 0.94287 | Loss: 0.127242833 |\n",
      "| Epoch: 37800 | Accuracy: 0.94092 | Loss: 0.127387226 |\n",
      "| Epoch: 38000 | Accuracy: 0.94092 | Loss: 0.127392650 |\n",
      "| Epoch: 38200 | Accuracy: 0.94092 | Loss: 0.127323285 |\n",
      "| Epoch: 38400 | Accuracy: 0.94092 | Loss: 0.127414793 |\n",
      "| Epoch: 38600 | Accuracy: 0.94092 | Loss: 0.127419353 |\n",
      "| Epoch: 38800 | Accuracy: 0.94092 | Loss: 0.127502084 |\n",
      "| Epoch: 39000 | Accuracy: 0.94043 | Loss: 0.127402171 |\n",
      "| Epoch: 39200 | Accuracy: 0.94092 | Loss: 0.127459764 |\n",
      "| Epoch: 39400 | Accuracy: 0.94092 | Loss: 0.127308667 |\n",
      "| Epoch: 39600 | Accuracy: 0.94092 | Loss: 0.127396941 |\n",
      "| Epoch: 39800 | Accuracy: 0.94092 | Loss: 0.127400815 |\n",
      "| Epoch: 40000 | Accuracy: 0.94092 | Loss: 0.127485618 |\n",
      "| Epoch: 40200 | Accuracy: 0.94092 | Loss: 0.127315179 |\n",
      "| Epoch: 40400 | Accuracy: 0.94092 | Loss: 0.127302140 |\n",
      "| Epoch: 40600 | Accuracy: 0.93945 | Loss: 0.127288446 |\n",
      "| Epoch: 40800 | Accuracy: 0.94043 | Loss: 0.127034888 |\n",
      "| Epoch: 41000 | Accuracy: 0.94092 | Loss: 0.127167538 |\n",
      "| Epoch: 41200 | Accuracy: 0.93994 | Loss: 0.127320498 |\n"
     ]
    }
   ],
   "source": [
    "optimizer_PNN = torch.optim.Adam(PNN.parameters(), lr=0.01)\n",
    "train_loader = DataLoader(train_data, batch_size=min(len(train_data),1024))\n",
    "train_loss_PNN, test_loss_PNN, parameter_PNN = tv.train_normal_pnn(PNN, train_loader, test_loader,\n",
    "                                                                   m, T, optimizer_PNN,\n",
    "                                                                   pnnv.LossFunction, Epoch=50000, cache=ds)"
   ]
  },
  {
   "cell_type": "code",
   "execution_count": null,
   "id": "9c2022fb-151b-40de-8e57-5d56e24460e3",
   "metadata": {},
   "outputs": [],
   "source": [
    "plt.plot(train_loss_PNN, '-', label='train')\n",
    "plt.plot(test_loss_PNN, '--', label='test')\n",
    "plt.legend()\n",
    "best = np.argmin(test_loss_PNN)\n",
    "PNN.load_state_dict(parameter_PNN)\n",
    "best, test_loss_PNN[best]"
   ]
  },
  {
   "cell_type": "code",
   "execution_count": 15,
   "id": "44a3adbc-7414-49e5-89da-34d52ee29806",
   "metadata": {},
   "outputs": [
    {
     "data": {
      "application/vnd.jupyter.widget-view+json": {
       "model_id": "cd9f1e276ceb4663aa86b700637e9004",
       "version_major": 2,
       "version_minor": 0
      },
      "text/plain": [
       "  0%|          | 0/50000 [00:00<?, ?it/s]"
      ]
     },
     "metadata": {},
     "output_type": "display_data"
    },
    {
     "name": "stdout",
     "output_type": "stream",
     "text": [
      "| Epoch:     0 | Accuracy: 0.94434 | Loss: 0.122873396 |\n",
      "| Epoch:   200 | Accuracy: 0.94434 | Loss: 0.122609466 |\n",
      "| Epoch:   400 | Accuracy: 0.94434 | Loss: 0.122625157 |\n",
      "| Epoch:   600 | Accuracy: 0.94434 | Loss: 0.122624978 |\n",
      "| Epoch:   800 | Accuracy: 0.94434 | Loss: 0.122623511 |\n",
      "| Epoch:  1000 | Accuracy: 0.94434 | Loss: 0.122648954 |\n",
      "| Epoch:  1200 | Accuracy: 0.94434 | Loss: 0.122633427 |\n",
      "| Epoch:  1400 | Accuracy: 0.94434 | Loss: 0.122643873 |\n",
      "| Epoch:  1600 | Accuracy: 0.94434 | Loss: 0.122631289 |\n",
      "| Epoch:  1800 | Accuracy: 0.94434 | Loss: 0.122638404 |\n",
      "| Epoch:  2000 | Accuracy: 0.94434 | Loss: 0.122640669 |\n",
      "| Epoch:  2200 | Accuracy: 0.94434 | Loss: 0.122652918 |\n",
      "| Epoch:  2400 | Accuracy: 0.94434 | Loss: 0.122635655 |\n",
      "| Epoch:  2600 | Accuracy: 0.94385 | Loss: 0.122636639 |\n",
      "| Epoch:  2800 | Accuracy: 0.94385 | Loss: 0.122630686 |\n",
      "| Epoch:  3000 | Accuracy: 0.94385 | Loss: 0.122641176 |\n",
      "| Epoch:  3200 | Accuracy: 0.94385 | Loss: 0.122609861 |\n",
      "| Epoch:  3400 | Accuracy: 0.94385 | Loss: 0.122629046 |\n",
      "| Epoch:  3600 | Accuracy: 0.94385 | Loss: 0.122625813 |\n",
      "| Epoch:  3800 | Accuracy: 0.94385 | Loss: 0.122617729 |\n",
      "| Epoch:  4000 | Accuracy: 0.94385 | Loss: 0.122638941 |\n",
      "| Epoch:  4200 | Accuracy: 0.94385 | Loss: 0.122659035 |\n",
      "| Epoch:  4400 | Accuracy: 0.94385 | Loss: 0.122639731 |\n",
      "| Epoch:  4600 | Accuracy: 0.94385 | Loss: 0.122647509 |\n",
      "| Epoch:  4800 | Accuracy: 0.94385 | Loss: 0.122645006 |\n",
      "| Epoch:  5000 | Accuracy: 0.94385 | Loss: 0.122649938 |\n",
      "| Epoch:  5200 | Accuracy: 0.94385 | Loss: 0.122652501 |\n",
      "| Epoch:  5400 | Accuracy: 0.94385 | Loss: 0.122652665 |\n",
      "| Epoch:  5600 | Accuracy: 0.94385 | Loss: 0.122638248 |\n",
      "| Epoch:  5800 | Accuracy: 0.94385 | Loss: 0.122641474 |\n",
      "| Epoch:  6000 | Accuracy: 0.94385 | Loss: 0.122644663 |\n",
      "| Epoch:  6200 | Accuracy: 0.94385 | Loss: 0.122657396 |\n",
      "| Epoch:  6400 | Accuracy: 0.94385 | Loss: 0.122657776 |\n",
      "| Epoch:  6600 | Accuracy: 0.94385 | Loss: 0.122651882 |\n",
      "| Epoch:  6800 | Accuracy: 0.94434 | Loss: 0.122664832 |\n",
      "| Epoch:  7000 | Accuracy: 0.94385 | Loss: 0.122685850 |\n",
      "| Epoch:  7200 | Accuracy: 0.94385 | Loss: 0.122687533 |\n",
      "| Epoch:  7400 | Accuracy: 0.94385 | Loss: 0.122688986 |\n",
      "| Epoch:  7600 | Accuracy: 0.94385 | Loss: 0.122687533 |\n",
      "| Epoch:  7800 | Accuracy: 0.94385 | Loss: 0.122711390 |\n",
      "| Epoch:  8000 | Accuracy: 0.94385 | Loss: 0.122683443 |\n",
      "| Epoch:  8200 | Accuracy: 0.94385 | Loss: 0.122704774 |\n",
      "| Epoch:  8400 | Accuracy: 0.94434 | Loss: 0.122692868 |\n",
      "| Epoch:  8600 | Accuracy: 0.94434 | Loss: 0.122682892 |\n",
      "| Epoch:  8800 | Accuracy: 0.94434 | Loss: 0.122711107 |\n",
      "| Epoch:  9000 | Accuracy: 0.94434 | Loss: 0.122712135 |\n",
      "| Epoch:  9200 | Accuracy: 0.94434 | Loss: 0.122724533 |\n",
      "| Epoch:  9400 | Accuracy: 0.94385 | Loss: 0.122742459 |\n",
      "| Epoch:  9600 | Accuracy: 0.94385 | Loss: 0.122748762 |\n",
      "| Epoch:  9800 | Accuracy: 0.94434 | Loss: 0.122765929 |\n",
      "| Epoch: 10000 | Accuracy: 0.94385 | Loss: 0.122783452 |\n",
      "| Epoch: 10200 | Accuracy: 0.94385 | Loss: 0.122804090 |\n",
      "| Epoch: 10400 | Accuracy: 0.94336 | Loss: 0.122807741 |\n",
      "| Epoch: 10600 | Accuracy: 0.94336 | Loss: 0.122816235 |\n",
      "| Epoch: 10800 | Accuracy: 0.94336 | Loss: 0.122824371 |\n",
      "| Epoch: 11000 | Accuracy: 0.94336 | Loss: 0.122841708 |\n",
      "| Epoch: 11200 | Accuracy: 0.94336 | Loss: 0.122843802 |\n",
      "| Epoch: 11400 | Accuracy: 0.94336 | Loss: 0.122861117 |\n",
      "| Epoch: 11600 | Accuracy: 0.94336 | Loss: 0.122842945 |\n",
      "| Epoch: 11800 | Accuracy: 0.94336 | Loss: 0.122869924 |\n",
      "| Epoch: 12000 | Accuracy: 0.94336 | Loss: 0.122872405 |\n",
      "| Epoch: 12200 | Accuracy: 0.94336 | Loss: 0.122883312 |\n",
      "| Epoch: 12400 | Accuracy: 0.94336 | Loss: 0.122886501 |\n",
      "| Epoch: 12600 | Accuracy: 0.94336 | Loss: 0.122919649 |\n",
      "| Epoch: 12800 | Accuracy: 0.94336 | Loss: 0.122912958 |\n",
      "| Epoch: 13000 | Accuracy: 0.94336 | Loss: 0.122932866 |\n",
      "| Epoch: 13200 | Accuracy: 0.94336 | Loss: 0.122950375 |\n",
      "| Epoch: 13400 | Accuracy: 0.94336 | Loss: 0.122960739 |\n",
      "| Epoch: 13600 | Accuracy: 0.94336 | Loss: 0.122974887 |\n",
      "| Epoch: 13800 | Accuracy: 0.94336 | Loss: 0.122990370 |\n",
      "| Epoch: 14000 | Accuracy: 0.94336 | Loss: 0.122983366 |\n",
      "| Epoch: 14200 | Accuracy: 0.94336 | Loss: 0.123000026 |\n",
      "| Epoch: 14400 | Accuracy: 0.94336 | Loss: 0.123023488 |\n",
      "| Epoch: 14600 | Accuracy: 0.94336 | Loss: 0.123015955 |\n",
      "| Epoch: 14800 | Accuracy: 0.94336 | Loss: 0.123037368 |\n",
      "| Epoch: 15000 | Accuracy: 0.94336 | Loss: 0.123042785 |\n",
      "| Epoch: 15200 | Accuracy: 0.94336 | Loss: 0.123055629 |\n",
      "| Epoch: 15400 | Accuracy: 0.94336 | Loss: 0.123050973 |\n",
      "| Epoch: 15600 | Accuracy: 0.94336 | Loss: 0.123069942 |\n",
      "| Epoch: 15800 | Accuracy: 0.94336 | Loss: 0.123080939 |\n",
      "| Epoch: 16000 | Accuracy: 0.94336 | Loss: 0.123061262 |\n",
      "| Epoch: 16200 | Accuracy: 0.94336 | Loss: 0.123090908 |\n",
      "| Epoch: 16400 | Accuracy: 0.94336 | Loss: 0.123086624 |\n",
      "| Epoch: 16600 | Accuracy: 0.94336 | Loss: 0.123076737 |\n",
      "| Epoch: 16800 | Accuracy: 0.94336 | Loss: 0.123080269 |\n",
      "| Epoch: 17000 | Accuracy: 0.94336 | Loss: 0.123075269 |\n",
      "| Epoch: 17200 | Accuracy: 0.94336 | Loss: 0.123082027 |\n",
      "| Epoch: 17400 | Accuracy: 0.94336 | Loss: 0.123082712 |\n",
      "| Epoch: 17600 | Accuracy: 0.94336 | Loss: 0.123087563 |\n",
      "| Epoch: 17800 | Accuracy: 0.94336 | Loss: 0.123083316 |\n",
      "| Epoch: 18000 | Accuracy: 0.94336 | Loss: 0.123071462 |\n",
      "| Epoch: 18200 | Accuracy: 0.94287 | Loss: 0.123069420 |\n",
      "| Epoch: 18400 | Accuracy: 0.94336 | Loss: 0.123071030 |\n",
      "| Epoch: 18600 | Accuracy: 0.94287 | Loss: 0.123078227 |\n",
      "| Epoch: 18800 | Accuracy: 0.94287 | Loss: 0.123080060 |\n",
      "| Epoch: 19000 | Accuracy: 0.94287 | Loss: 0.123065569 |\n",
      "| Epoch: 19200 | Accuracy: 0.94287 | Loss: 0.123077765 |\n",
      "| Epoch: 19400 | Accuracy: 0.94287 | Loss: 0.123073027 |\n",
      "| Epoch: 19600 | Accuracy: 0.94287 | Loss: 0.123078592 |\n",
      "| Epoch: 19800 | Accuracy: 0.94287 | Loss: 0.123068213 |\n",
      "| Epoch: 20000 | Accuracy: 0.94287 | Loss: 0.123083606 |\n",
      "| Epoch: 20200 | Accuracy: 0.94287 | Loss: 0.123069838 |\n",
      "| Epoch: 20400 | Accuracy: 0.94287 | Loss: 0.123072028 |\n",
      "| Epoch: 20600 | Accuracy: 0.94287 | Loss: 0.123054251 |\n",
      "| Epoch: 20800 | Accuracy: 0.94287 | Loss: 0.123049304 |\n",
      "| Epoch: 21000 | Accuracy: 0.94287 | Loss: 0.123054907 |\n",
      "| Epoch: 21200 | Accuracy: 0.94287 | Loss: 0.123054624 |\n",
      "| Epoch: 21400 | Accuracy: 0.94287 | Loss: 0.123049095 |\n",
      "| Epoch: 21600 | Accuracy: 0.94287 | Loss: 0.123045534 |\n",
      "| Epoch: 21800 | Accuracy: 0.94287 | Loss: 0.123055704 |\n",
      "| Epoch: 22000 | Accuracy: 0.94287 | Loss: 0.123028517 |\n",
      "| Epoch: 22200 | Accuracy: 0.94287 | Loss: 0.123021036 |\n",
      "| Epoch: 22400 | Accuracy: 0.94287 | Loss: 0.123028100 |\n",
      "| Epoch: 22600 | Accuracy: 0.94287 | Loss: 0.123030394 |\n",
      "| Epoch: 22800 | Accuracy: 0.94238 | Loss: 0.123012632 |\n",
      "| Epoch: 23000 | Accuracy: 0.94238 | Loss: 0.122992799 |\n",
      "| Epoch: 23200 | Accuracy: 0.94238 | Loss: 0.123003095 |\n",
      "| Epoch: 23400 | Accuracy: 0.94238 | Loss: 0.123008788 |\n",
      "| Epoch: 23600 | Accuracy: 0.94238 | Loss: 0.123004526 |\n",
      "| Epoch: 23800 | Accuracy: 0.94238 | Loss: 0.123007216 |\n",
      "| Epoch: 24000 | Accuracy: 0.94238 | Loss: 0.123013422 |\n",
      "| Epoch: 24200 | Accuracy: 0.94238 | Loss: 0.123000085 |\n",
      "| Epoch: 24400 | Accuracy: 0.94238 | Loss: 0.123009980 |\n",
      "| Epoch: 24600 | Accuracy: 0.94238 | Loss: 0.123020045 |\n",
      "| Epoch: 24800 | Accuracy: 0.94238 | Loss: 0.123014867 |\n",
      "| Epoch: 25000 | Accuracy: 0.94238 | Loss: 0.123032078 |\n",
      "| Epoch: 25200 | Accuracy: 0.94238 | Loss: 0.123036712 |\n",
      "| Epoch: 25400 | Accuracy: 0.94238 | Loss: 0.123037919 |\n",
      "| Epoch: 25600 | Accuracy: 0.94238 | Loss: 0.123039439 |\n",
      "| Epoch: 25800 | Accuracy: 0.94287 | Loss: 0.123026840 |\n",
      "| Epoch: 26000 | Accuracy: 0.94189 | Loss: 0.123039991 |\n",
      "| Epoch: 26200 | Accuracy: 0.94189 | Loss: 0.123043217 |\n",
      "| Epoch: 26400 | Accuracy: 0.94238 | Loss: 0.123043552 |\n",
      "| Epoch: 26600 | Accuracy: 0.94189 | Loss: 0.123050213 |\n",
      "| Epoch: 26800 | Accuracy: 0.94238 | Loss: 0.123049580 |\n",
      "| Epoch: 27000 | Accuracy: 0.94238 | Loss: 0.123047993 |\n",
      "| Epoch: 27200 | Accuracy: 0.94238 | Loss: 0.123076469 |\n",
      "| Epoch: 27400 | Accuracy: 0.94238 | Loss: 0.123069927 |\n",
      "| Epoch: 27600 | Accuracy: 0.94238 | Loss: 0.123085991 |\n",
      "| Epoch: 27800 | Accuracy: 0.94238 | Loss: 0.123084567 |\n",
      "| Epoch: 28000 | Accuracy: 0.94238 | Loss: 0.123101756 |\n",
      "| Epoch: 28200 | Accuracy: 0.94238 | Loss: 0.123103842 |\n",
      "| Epoch: 28400 | Accuracy: 0.94238 | Loss: 0.123128429 |\n",
      "| Epoch: 28600 | Accuracy: 0.94238 | Loss: 0.123154864 |\n",
      "| Epoch: 28800 | Accuracy: 0.94238 | Loss: 0.123159416 |\n",
      "| Epoch: 29000 | Accuracy: 0.94238 | Loss: 0.123171590 |\n",
      "| Epoch: 29200 | Accuracy: 0.94238 | Loss: 0.123190075 |\n",
      "| Epoch: 29400 | Accuracy: 0.94238 | Loss: 0.123188913 |\n",
      "| Epoch: 29600 | Accuracy: 0.94238 | Loss: 0.123184532 |\n",
      "| Epoch: 29800 | Accuracy: 0.94238 | Loss: 0.123202503 |\n",
      "| Epoch: 30000 | Accuracy: 0.94238 | Loss: 0.123214379 |\n",
      "| Epoch: 30200 | Accuracy: 0.94189 | Loss: 0.123214521 |\n",
      "| Epoch: 30400 | Accuracy: 0.94238 | Loss: 0.123224020 |\n",
      "| Epoch: 30600 | Accuracy: 0.94238 | Loss: 0.123217568 |\n",
      "| Epoch: 30800 | Accuracy: 0.94238 | Loss: 0.123237714 |\n",
      "| Epoch: 31000 | Accuracy: 0.94238 | Loss: 0.123248428 |\n",
      "| Epoch: 31200 | Accuracy: 0.94189 | Loss: 0.123264402 |\n",
      "| Epoch: 31400 | Accuracy: 0.94238 | Loss: 0.123251438 |\n",
      "| Epoch: 31600 | Accuracy: 0.94189 | Loss: 0.123257443 |\n",
      "| Epoch: 31800 | Accuracy: 0.94238 | Loss: 0.123271666 |\n",
      "| Epoch: 32000 | Accuracy: 0.94189 | Loss: 0.123304330 |\n",
      "| Epoch: 32200 | Accuracy: 0.94189 | Loss: 0.123289093 |\n",
      "| Epoch: 32400 | Accuracy: 0.94189 | Loss: 0.123298898 |\n",
      "| Epoch: 32600 | Accuracy: 0.94189 | Loss: 0.123302281 |\n",
      "| Epoch: 32800 | Accuracy: 0.94238 | Loss: 0.123323128 |\n",
      "| Epoch: 33000 | Accuracy: 0.94189 | Loss: 0.123323485 |\n",
      "| Epoch: 33200 | Accuracy: 0.94189 | Loss: 0.123337626 |\n",
      "| Epoch: 33400 | Accuracy: 0.94189 | Loss: 0.123337194 |\n",
      "| Epoch: 33600 | Accuracy: 0.94189 | Loss: 0.123347163 |\n",
      "| Epoch: 33800 | Accuracy: 0.94238 | Loss: 0.123340905 |\n",
      "| Epoch: 34000 | Accuracy: 0.94238 | Loss: 0.123338357 |\n",
      "| Epoch: 34200 | Accuracy: 0.94287 | Loss: 0.123358205 |\n",
      "| Epoch: 34400 | Accuracy: 0.94238 | Loss: 0.123358749 |\n",
      "| Epoch: 34600 | Accuracy: 0.94287 | Loss: 0.123369478 |\n",
      "| Epoch: 34800 | Accuracy: 0.94287 | Loss: 0.123351946 |\n",
      "| Epoch: 35000 | Accuracy: 0.94287 | Loss: 0.123366244 |\n",
      "| Epoch: 35200 | Accuracy: 0.94287 | Loss: 0.123378538 |\n",
      "| Epoch: 35400 | Accuracy: 0.94287 | Loss: 0.123385914 |\n",
      "| Epoch: 35600 | Accuracy: 0.94287 | Loss: 0.123399623 |\n",
      "| Epoch: 35800 | Accuracy: 0.94287 | Loss: 0.123393431 |\n",
      "| Epoch: 36000 | Accuracy: 0.94287 | Loss: 0.123412721 |\n",
      "| Epoch: 36200 | Accuracy: 0.94287 | Loss: 0.123411976 |\n",
      "| Epoch: 36400 | Accuracy: 0.94287 | Loss: 0.123416610 |\n",
      "| Epoch: 36600 | Accuracy: 0.94287 | Loss: 0.123398453 |\n",
      "| Epoch: 36800 | Accuracy: 0.94336 | Loss: 0.123404838 |\n",
      "| Epoch: 37000 | Accuracy: 0.94336 | Loss: 0.123405971 |\n",
      "| Epoch: 37200 | Accuracy: 0.94336 | Loss: 0.123414904 |\n",
      "| Epoch: 37400 | Accuracy: 0.94336 | Loss: 0.123418726 |\n",
      "| Epoch: 37600 | Accuracy: 0.94336 | Loss: 0.123445913 |\n",
      "| Epoch: 37800 | Accuracy: 0.94336 | Loss: 0.123442076 |\n",
      "| Epoch: 38000 | Accuracy: 0.94336 | Loss: 0.123423569 |\n",
      "| Epoch: 38200 | Accuracy: 0.94336 | Loss: 0.123449124 |\n",
      "| Epoch: 38400 | Accuracy: 0.94336 | Loss: 0.123463415 |\n",
      "| Epoch: 38600 | Accuracy: 0.94336 | Loss: 0.123470455 |\n",
      "| Epoch: 38800 | Accuracy: 0.94336 | Loss: 0.123472914 |\n",
      "| Epoch: 39000 | Accuracy: 0.94336 | Loss: 0.123502262 |\n",
      "| Epoch: 39200 | Accuracy: 0.94336 | Loss: 0.123504624 |\n",
      "| Epoch: 39400 | Accuracy: 0.94336 | Loss: 0.123520546 |\n",
      "| Epoch: 39600 | Accuracy: 0.94336 | Loss: 0.123530179 |\n",
      "| Epoch: 39800 | Accuracy: 0.94336 | Loss: 0.123562038 |\n",
      "| Epoch: 40000 | Accuracy: 0.94336 | Loss: 0.123559415 |\n",
      "| Epoch: 40200 | Accuracy: 0.94336 | Loss: 0.123570204 |\n",
      "| Epoch: 40400 | Accuracy: 0.94336 | Loss: 0.123582348 |\n",
      "| Epoch: 40600 | Accuracy: 0.94336 | Loss: 0.123599365 |\n",
      "| Epoch: 40800 | Accuracy: 0.94336 | Loss: 0.123621404 |\n",
      "| Epoch: 41000 | Accuracy: 0.94336 | Loss: 0.123647846 |\n",
      "| Epoch: 41200 | Accuracy: 0.94336 | Loss: 0.123670116 |\n",
      "| Epoch: 41400 | Accuracy: 0.94336 | Loss: 0.123683706 |\n",
      "| Epoch: 41600 | Accuracy: 0.94336 | Loss: 0.123713002 |\n",
      "| Epoch: 41800 | Accuracy: 0.94336 | Loss: 0.123749100 |\n",
      "| Epoch: 42000 | Accuracy: 0.94336 | Loss: 0.123764113 |\n",
      "| Epoch: 42200 | Accuracy: 0.94336 | Loss: 0.123791397 |\n",
      "| Epoch: 42400 | Accuracy: 0.94336 | Loss: 0.123801589 |\n",
      "| Epoch: 42600 | Accuracy: 0.94336 | Loss: 0.123799868 |\n",
      "| Epoch: 42800 | Accuracy: 0.94336 | Loss: 0.123833850 |\n",
      "| Epoch: 43000 | Accuracy: 0.94336 | Loss: 0.123847529 |\n",
      "| Epoch: 43200 | Accuracy: 0.94287 | Loss: 0.123893514 |\n",
      "| Epoch: 43400 | Accuracy: 0.94336 | Loss: 0.123906314 |\n",
      "| Epoch: 43600 | Accuracy: 0.94287 | Loss: 0.123911470 |\n",
      "| Epoch: 43800 | Accuracy: 0.94336 | Loss: 0.123915315 |\n",
      "| Epoch: 44000 | Accuracy: 0.94336 | Loss: 0.123950444 |\n",
      "| Epoch: 44200 | Accuracy: 0.94287 | Loss: 0.123971112 |\n",
      "| Epoch: 44400 | Accuracy: 0.94287 | Loss: 0.123996988 |\n",
      "| Epoch: 44600 | Accuracy: 0.94287 | Loss: 0.124009773 |\n",
      "| Epoch: 44800 | Accuracy: 0.94287 | Loss: 0.124019682 |\n",
      "| Epoch: 45000 | Accuracy: 0.94287 | Loss: 0.124041840 |\n",
      "| Epoch: 45200 | Accuracy: 0.94238 | Loss: 0.124079734 |\n",
      "| Epoch: 45400 | Accuracy: 0.94238 | Loss: 0.124082543 |\n",
      "| Epoch: 45600 | Accuracy: 0.94238 | Loss: 0.124107033 |\n",
      "| Epoch: 45800 | Accuracy: 0.94238 | Loss: 0.124123409 |\n",
      "| Epoch: 46000 | Accuracy: 0.94287 | Loss: 0.124165542 |\n",
      "| Epoch: 46200 | Accuracy: 0.94287 | Loss: 0.124218494 |\n",
      "| Epoch: 46400 | Accuracy: 0.94287 | Loss: 0.124210432 |\n",
      "| Epoch: 46600 | Accuracy: 0.94238 | Loss: 0.124215521 |\n",
      "| Epoch: 46800 | Accuracy: 0.94238 | Loss: 0.124221317 |\n",
      "| Epoch: 47000 | Accuracy: 0.94238 | Loss: 0.124221116 |\n",
      "| Epoch: 47200 | Accuracy: 0.94238 | Loss: 0.124235131 |\n",
      "| Epoch: 47400 | Accuracy: 0.94238 | Loss: 0.124220371 |\n",
      "| Epoch: 47600 | Accuracy: 0.94238 | Loss: 0.124221556 |\n",
      "| Epoch: 47800 | Accuracy: 0.94238 | Loss: 0.124215871 |\n",
      "| Epoch: 48000 | Accuracy: 0.94238 | Loss: 0.124204382 |\n",
      "| Epoch: 48200 | Accuracy: 0.94238 | Loss: 0.124217086 |\n",
      "| Epoch: 48400 | Accuracy: 0.94238 | Loss: 0.124211267 |\n",
      "| Epoch: 48600 | Accuracy: 0.94238 | Loss: 0.124218136 |\n",
      "| Epoch: 48800 | Accuracy: 0.94287 | Loss: 0.124201283 |\n",
      "| Epoch: 49000 | Accuracy: 0.94287 | Loss: 0.124216080 |\n",
      "| Epoch: 49200 | Accuracy: 0.94287 | Loss: 0.124201514 |\n",
      "| Epoch: 49400 | Accuracy: 0.94287 | Loss: 0.124190219 |\n",
      "| Epoch: 49600 | Accuracy: 0.94287 | Loss: 0.124186866 |\n",
      "| Epoch: 49800 | Accuracy: 0.94287 | Loss: 0.124174289 |\n",
      "Finished.\n"
     ]
    }
   ],
   "source": [
    "optimizer_PNN = torch.optim.Adam(PNN.parameters(), lr=0.001)\n",
    "train_loader = DataLoader(train_data, batch_size=len(train_data))\n",
    "train_loss_PNN, test_loss_PNN, parameter_PNN = tv.train_normal_pnn(PNN, train_loader, test_loader,\n",
    "                                                                   m, T, optimizer_PNN,\n",
    "                                                                   pnnv.LossFunction, Epoch=50000, cache=ds)"
   ]
  },
  {
   "cell_type": "code",
   "execution_count": 16,
   "id": "d612d550-ac09-4551-bc7b-b0fa7479a26f",
   "metadata": {},
   "outputs": [
    {
     "data": {
      "text/plain": [
       "(5, tensor(0.1225))"
      ]
     },
     "execution_count": 16,
     "metadata": {},
     "output_type": "execute_result"
    },
    {
     "data": {
      "image/png": "[encoded data removed]",
      "text/plain": [
       "<Figure size 432x288 with 1 Axes>"
      ]
     },
     "metadata": {
      "needs_background": "light"
     },
     "output_type": "display_data"
    }
   ],
   "source": [
    "plt.plot(train_loss_PNN, '-', label='train')\n",
    "plt.plot(test_loss_PNN, '--', label='test')\n",
    "plt.legend()\n",
    "best = np.argmin(test_loss_PNN)\n",
    "PNN.load_state_dict(parameter_PNN)\n",
    "best, test_loss_PNN[best]"
   ]
  },
  {
   "cell_type": "markdown",
   "id": "bbef757b-0f2d-4e54-93dd-8f60121ca948",
   "metadata": {},
   "source": [
    "## Save Model"
   ]
  },
  {
   "cell_type": "code",
   "execution_count": 17,
   "id": "13a6ddc5-4d1c-4371-9b7d-b78844405e87",
   "metadata": {},
   "outputs": [],
   "source": [
    "with open(f'./result/{ds}_PNN.p', 'wb') as f:\n",
    "    pickle.dump(PNN, f)"
   ]
  },
  {
   "cell_type": "markdown",
   "id": "59ebe567-61eb-4cb0-bbe1-71d8aff12aac",
   "metadata": {},
   "source": [
    "# Aging Aware PNN"
   ]
  },
  {
   "cell_type": "code",
   "execution_count": 25,
   "id": "19abcaae",
   "metadata": {},
   "outputs": [
    {
     "data": {
      "text/plain": [
       "Sequential(\n",
       "  (0): PNNLayer()\n",
       "  (1): PNNLayer()\n",
       ")"
      ]
     },
     "execution_count": 25,
     "metadata": {},
     "output_type": "execute_result"
    }
   ],
   "source": [
    "AAPNN = torch.nn.Sequential(pnnv.PNNLayer(N_features, N_Hidden, age_generator, xpu=device),\n",
    "                           pnnv.PNNLayer(N_Hidden, N_class, age_generator, xpu=device))\n",
    "\n",
    "AAPNN.apply(lambda z: pnnv.MakeModel(z, M))\n",
    "AAPNN.apply(lambda z: pnnv.SetTime(z, np.random.rand(K).tolist()))\n",
    "\n",
    "AAPNN.to(device)"
   ]
  },
  {
   "cell_type": "markdown",
   "id": "8b03e98a-fcdf-42a1-8f2b-582657cc47a0",
   "metadata": {},
   "source": [
    "## Reload AAPNN if crash"
   ]
  },
  {
   "cell_type": "code",
   "execution_count": 10,
   "id": "feaf2602-3633-4814-9b13-42c407dba269",
   "metadata": {},
   "outputs": [],
   "source": [
    "if os.path.exists(f'./temp/{ds}_AAPNN.p'): \n",
    "    with open(f'./temp/{ds}_AAPNN.p', 'rb') as f:\n",
    "        AAPNN = pickle.load(f)"
   ]
  },
  {
   "cell_type": "code",
   "execution_count": 11,
   "id": "097dbdb6-5abc-4a27-a131-e79b1c386d5a",
   "metadata": {},
   "outputs": [
    {
     "data": {
      "text/plain": [
       "torch.Size([10, 18])"
      ]
     },
     "execution_count": 11,
     "metadata": {},
     "output_type": "execute_result"
    }
   ],
   "source": [
    "AAPNN[0].theta_.shape"
   ]
  },
  {
   "cell_type": "markdown",
   "id": "e65740a1-a29a-48ca-b332-5cc4b0556ca9",
   "metadata": {},
   "source": [
    "## Training"
   ]
  },
  {
   "cell_type": "code",
   "execution_count": 12,
   "id": "183e27bb-8d0a-4448-be67-78927eaf8e1b",
   "metadata": {},
   "outputs": [
    {
     "data": {
      "application/vnd.jupyter.widget-view+json": {
       "model_id": "d5a491c72a39460a966eb24596e5bf75",
       "version_major": 2,
       "version_minor": 0
      },
      "text/plain": [
       "  0%|          | 0/100 [00:00<?, ?it/s]"
      ]
     },
     "metadata": {},
     "output_type": "display_data"
    },
    {
     "name": "stdout",
     "output_type": "stream",
     "text": [
      "| Epoch:     0 | Accuracy: 0.89410 | Loss: 0.203343496 |\n",
      "| Epoch:    10 | Accuracy: 0.90017 | Loss: 0.187011003 |\n",
      "| Epoch:    20 | Accuracy: 0.90083 | Loss: 0.187166318 |\n",
      "| Epoch:    30 | Accuracy: 0.89818 | Loss: 0.191482201 |\n",
      "| Epoch:    40 | Accuracy: 0.90240 | Loss: 0.183439970 |\n",
      "| Epoch:    50 | Accuracy: 0.90193 | Loss: 0.185491294 |\n",
      "| Epoch:    60 | Accuracy: 0.89949 | Loss: 0.189711973 |\n",
      "| Epoch:    70 | Accuracy: 0.90347 | Loss: 0.184048608 |\n",
      "| Epoch:    80 | Accuracy: 0.90374 | Loss: 0.179987401 |\n",
      "| Epoch:    90 | Accuracy: 0.90382 | Loss: 0.183154374 |\n",
      "Finished.\n"
     ]
    }
   ],
   "source": [
    "optimizer_AAPNN = torch.optim.Adam(AAPNN.parameters(), lr=0.1)\n",
    "train_loader = DataLoader(train_data, batch_size=min(len(train_data),1024))\n",
    "train_loss_AAPNN, test_loss_AAPNN, parameter_AAPNN = tv.train_aged_pnn(AAPNN, train_loader, test_loader,\n",
    "                                        m, T, M, K, M_test, K_test,\n",
    "                                        optimizer_AAPNN, pnnv.LossFunction,\n",
    "                                        Epoch=100, cache=ds)"
   ]
  },
  {
   "cell_type": "code",
   "execution_count": 13,
   "id": "ea0cb974",
   "metadata": {},
   "outputs": [
    {
     "data": {
      "text/plain": [
       "(44, tensor(0.1740))"
      ]
     },
     "execution_count": 13,
     "metadata": {},
     "output_type": "execute_result"
    },
    {
     "data": {
      "image/png": "[encoded data removed]",
      "text/plain": [
       "<Figure size 432x288 with 1 Axes>"
      ]
     },
     "metadata": {
      "needs_background": "light"
     },
     "output_type": "display_data"
    }
   ],
   "source": [
    "plt.plot(train_loss_AAPNN, '-', label='train')\n",
    "plt.plot(test_loss_AAPNN, '--', label='test')\n",
    "plt.legend()\n",
    "best = np.argmin(test_loss_AAPNN)\n",
    "AAPNN.load_state_dict(parameter_AAPNN)\n",
    "best, test_loss_AAPNN[best]"
   ]
  },
  {
   "cell_type": "code",
   "execution_count": null,
   "id": "6ae4605b-0cb9-4394-afef-d515bebd8a3b",
   "metadata": {},
   "outputs": [
    {
     "data": {
      "application/vnd.jupyter.widget-view+json": {
       "model_id": "5c4f09625be54a6aa0d572730481d3db",
       "version_major": 2,
       "version_minor": 0
      },
      "text/plain": [
       "  0%|          | 0/1000 [00:00<?, ?it/s]"
      ]
     },
     "metadata": {},
     "output_type": "display_data"
    },
    {
     "name": "stdout",
     "output_type": "stream",
     "text": [
      "| Epoch:     0 | Accuracy: 0.90161 | Loss: 0.183445901 |\n",
      "| Epoch:    10 | Accuracy: 0.90577 | Loss: 0.178204432 |\n",
      "| Epoch:    20 | Accuracy: 0.90430 | Loss: 0.178814441 |\n",
      "| Epoch:    30 | Accuracy: 0.90256 | Loss: 0.183768108 |\n",
      "| Epoch:    40 | Accuracy: 0.90473 | Loss: 0.178824112 |\n",
      "| Epoch:    50 | Accuracy: 0.90402 | Loss: 0.179844007 |\n",
      "| Epoch:    60 | Accuracy: 0.90234 | Loss: 0.183094442 |\n",
      "| Epoch:    70 | Accuracy: 0.90095 | Loss: 0.190013885 |\n",
      "| Epoch:    80 | Accuracy: 0.90418 | Loss: 0.182010472 |\n",
      "| Epoch:    90 | Accuracy: 0.90279 | Loss: 0.183908939 |\n",
      "| Epoch:   100 | Accuracy: 0.90579 | Loss: 0.176936567 |\n",
      "| Epoch:   110 | Accuracy: 0.90560 | Loss: 0.177571177 |\n",
      "| Epoch:   120 | Accuracy: 0.90556 | Loss: 0.177552253 |\n",
      "| Epoch:   130 | Accuracy: 0.90635 | Loss: 0.175791070 |\n",
      "| Epoch:   140 | Accuracy: 0.90576 | Loss: 0.177912205 |\n",
      "| Epoch:   150 | Accuracy: 0.90360 | Loss: 0.183062285 |\n",
      "| Epoch:   160 | Accuracy: 0.90074 | Loss: 0.190666005 |\n",
      "| Epoch:   170 | Accuracy: 0.90365 | Loss: 0.183203563 |\n",
      "| Epoch:   180 | Accuracy: 0.90415 | Loss: 0.178324908 |\n",
      "| Epoch:   190 | Accuracy: 0.90303 | Loss: 0.182577804 |\n",
      "| Epoch:   200 | Accuracy: 0.90466 | Loss: 0.184509411 |\n",
      "| Epoch:   210 | Accuracy: 0.90266 | Loss: 0.182340369 |\n",
      "| Epoch:   220 | Accuracy: 0.90082 | Loss: 0.185634077 |\n",
      "| Epoch:   230 | Accuracy: 0.90455 | Loss: 0.181016028 |\n",
      "| Epoch:   240 | Accuracy: 0.90399 | Loss: 0.181829527 |\n",
      "| Epoch:   250 | Accuracy: 0.90448 | Loss: 0.181387141 |\n",
      "| Epoch:   260 | Accuracy: 0.90198 | Loss: 0.188020185 |\n",
      "| Epoch:   270 | Accuracy: 0.90261 | Loss: 0.186625093 |\n",
      "| Epoch:   280 | Accuracy: 0.90512 | Loss: 0.182102069 |\n",
      "| Epoch:   290 | Accuracy: 0.90437 | Loss: 0.181626886 |\n",
      "| Epoch:   300 | Accuracy: 0.90418 | Loss: 0.183787763 |\n",
      "| Epoch:   310 | Accuracy: 0.90071 | Loss: 0.186356604 |\n",
      "| Epoch:   320 | Accuracy: 0.90260 | Loss: 0.184401378 |\n",
      "| Epoch:   330 | Accuracy: 0.90747 | Loss: 0.173452452 |\n",
      "| Epoch:   340 | Accuracy: 0.90459 | Loss: 0.180446550 |\n",
      "| Epoch:   350 | Accuracy: 0.90415 | Loss: 0.181686506 |\n",
      "| Epoch:   360 | Accuracy: 0.90667 | Loss: 0.176093549 |\n",
      "| Epoch:   370 | Accuracy: 0.90329 | Loss: 0.183959842 |\n"
     ]
    }
   ],
   "source": [
    "optimizer_AAPNN = torch.optim.Adam(AAPNN.parameters(), lr=0.01)\n",
    "train_loader = DataLoader(train_data, batch_size=len(train_data))\n",
    "train_loss_AAPNN, test_loss_AAPNN, parameter_AAPNN = tv.train_aged_pnn(AAPNN, train_loader, test_loader,\n",
    "                                        m, T, M, K, M_test, K_test,\n",
    "                                        optimizer_AAPNN, pnnv.LossFunction,\n",
    "                                        Epoch=1000, cache=ds)"
   ]
  },
  {
   "cell_type": "code",
   "execution_count": null,
   "id": "b8d3302e-4f94-46cc-b31c-4af71c8ab76e",
   "metadata": {},
   "outputs": [],
   "source": [
    "plt.plot(train_loss_AAPNN, '-', label='train')\n",
    "plt.plot(test_loss_AAPNN, '--', label='test')\n",
    "plt.legend()\n",
    "best = np.argmin(test_loss_AAPNN)\n",
    "AAPNN.load_state_dict(parameter_AAPNN)\n",
    "best, test_loss_AAPNN[best]"
   ]
  },
  {
   "cell_type": "markdown",
   "id": "19ad1ac6-b8ec-427c-9b71-a3631c478096",
   "metadata": {},
   "source": [
    "## Save Model"
   ]
  },
  {
   "cell_type": "code",
   "execution_count": null,
   "id": "0d491031",
   "metadata": {},
   "outputs": [],
   "source": [
    "with open(f'./result/{ds}_AAPNN.p', 'wb') as f:\n",
    "    pickle.dump(AAPNN, f)"
   ]
  },
  {
   "cell_type": "code",
   "execution_count": null,
   "id": "c322f096-d8ef-4841-8265-b43ce5ee271e",
   "metadata": {},
   "outputs": [],
   "source": []
  }
 ],
 "metadata": {
  "kernelspec": {
   "display_name": "MachineLearning",
   "language": "python",
   "name": "machinelearning"
  },
  "language_info": {
   "codemirror_mode": {
    "name": "ipython",
    "version": 3
   },
   "file_extension": ".py",
   "mimetype": "text/x-python",
   "name": "python",
   "nbconvert_exporter": "python",
   "pygments_lexer": "ipython3",
   "version": "3.8.12"
  },
  "toc": {
   "base_numbering": 1,
   "nav_menu": {},
   "number_sections": true,
   "sideBar": true,
   "skip_h1_title": false,
   "title_cell": "Table of Contents",
   "title_sidebar": "Contents",
   "toc_cell": false,
   "toc_position": {},
   "toc_section_display": true,
   "toc_window_display": true
  }
 },
 "nbformat": 4,
 "nbformat_minor": 5
}
