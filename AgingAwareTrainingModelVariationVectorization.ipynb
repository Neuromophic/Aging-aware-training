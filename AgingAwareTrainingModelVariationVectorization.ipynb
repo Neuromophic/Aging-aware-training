{
 "cells": [
  {
   "cell_type": "markdown",
   "id": "e0f1319a",
   "metadata": {},
   "source": [
    "# Aging Aware with Model Variation\n",
    "Previously, we optimize the following functional:\n",
    "$$ \\min_\\theta \\, \\int_{t=0}^{1} \\; L(\\theta(t)) \\, {\\rm d}t. $$\n",
    "The optimum is for a specific aging model $\\omega$, i.e., we minimized the \n",
    "$$ \\min_\\theta \\, \\int_{t=0}^{1} \\; L(\\theta(t,\\omega)) \\, {\\rm d}t. $$\n",
    "However, we dont know how will the resistance decay, i.e., we should also minimize the loss function w.r.t. aging models with different parameters. That means we need to optimized\n",
    "$$ \\min_\\theta \\, \\int_{\\omega}\\int_{t=0}^{1} \\; L(\\theta(t,\\omega)) \\, {\\rm d}t\\, p(\\omega){\\rm d}\\omega. $$\n",
    "The Mento Carlo Approximation is then\n",
    "$$\n",
    "\\min_{\\theta_{\\rm init}} \\frac{1}{\\Omega}\\frac{1}{K}\\sum_{\\omega\\in\\mathfrak{M}}\\sum_{k\\in \\mathfrak{K} } L \\left(\\theta[k, \\omega]\\right),\n",
    "$$\n",
    "where $\\mathfrak{M}$ is the set of $\\Omega$ elements following the distribution $p(\\omega)$. $p(\\omega)$ is the distributions of parameters of the aging model. We have already obtained these distributions as we modeled the aging decay.\n",
    "\n",
    "That means we should optimize this problem by\n",
    "$$\n",
    "\\begin{align}\n",
    "\\theta_{\\rm init}&:=\\theta_{\\rm init} - \\alpha\\cdot\\nabla_{\\theta_{\\rm init}}\\left(\\frac{1}{\\Omega}\\frac{1}{K}\\sum_{\\omega\\in\\mathfrak{M}}\\sum_{k\\in \\mathfrak{K} } L \\left(\\theta[k, \\omega]\\right)\\right)\\\\\n",
    "&=\\theta_{\\rm init} - \\frac{\\alpha}{\\Omega K}\\cdot\\nabla_{\\theta_{\\rm init}}\\left(\\sum_{\\omega\\in\\mathfrak{M}}\\sum_{k\\in \\mathfrak{K} } L \\left(\\theta[k, \\omega]\\right)\\right)\\\\\n",
    "&=\\theta_{\\rm init} - \\frac{\\alpha}{\\Omega K}\\left(\\sum_{\\omega\\in\\mathfrak{M}}\\sum_{k\\in \\mathfrak{K} }\\nabla_{\\theta_{\\rm init}} L \\left(\\theta[k, \\omega]\\right)\\right)\n",
    "\\end{align}\n",
    "$$"
   ]
  },
  {
   "cell_type": "markdown",
   "id": "eab183f8",
   "metadata": {},
   "source": [
    "# Import library"
   ]
  },
  {
   "cell_type": "code",
   "execution_count": 1,
   "id": "0bc40b33",
   "metadata": {},
   "outputs": [],
   "source": [
    "import importlib\n",
    "from torch.autograd import Variable\n",
    "import torch\n",
    "import pickle\n",
    "import os\n",
    "import sys\n",
    "import matplotlib.pyplot as plt\n",
    "import numpy as np\n",
    "import pNN_aging_aware_vectorization as pnnv\n",
    "import training_vectorization as tv\n",
    "import random\n",
    "sys.path.append(os.path.join(os.getcwd(), 'Aging_Model'))"
   ]
  },
  {
   "cell_type": "markdown",
   "id": "af93c27e-7559-466e-9a0f-084e03f0c576",
   "metadata": {},
   "source": [
    "# Random Seed"
   ]
  },
  {
   "cell_type": "code",
   "execution_count": 2,
   "id": "66785455-86c3-4e9a-a35e-4bd3c3f465eb",
   "metadata": {},
   "outputs": [],
   "source": [
    "seed = 1\n",
    "\n",
    "random.seed(seed);\n",
    "np.random.seed(seed);\n",
    "torch.manual_seed(seed);"
   ]
  },
  {
   "cell_type": "markdown",
   "id": "9b31036f-1808-460e-a011-acd675130bb5",
   "metadata": {},
   "source": [
    "# Get Aging Model"
   ]
  },
  {
   "cell_type": "code",
   "execution_count": 3,
   "id": "ba549dc5-0e02-4b8d-aefa-05764dfcfde6",
   "metadata": {},
   "outputs": [],
   "source": [
    "with open(os.path.join(os.getcwd(), 'Aging_Model', 'exp_aging_model.p'), 'rb') as f:\n",
    "    age_generator = pickle.load(f)"
   ]
  },
  {
   "cell_type": "markdown",
   "id": "1026bd3c",
   "metadata": {},
   "source": [
    "# Device"
   ]
  },
  {
   "cell_type": "code",
   "execution_count": 4,
   "id": "b0e91163",
   "metadata": {},
   "outputs": [
    {
     "data": {
      "text/plain": [
       "device(type='cuda')"
      ]
     },
     "execution_count": 4,
     "metadata": {},
     "output_type": "execute_result"
    }
   ],
   "source": [
    "device = torch.device('cuda' if torch.cuda.is_available() else 'cpu')\n",
    "device"
   ]
  },
  {
   "cell_type": "markdown",
   "id": "15519567",
   "metadata": {},
   "source": [
    "# Prepare data"
   ]
  },
  {
   "cell_type": "markdown",
   "id": "f224be26-e399-42a8-9c96-e285490e8916",
   "metadata": {},
   "source": [
    "## Dataset"
   ]
  },
  {
   "cell_type": "code",
   "execution_count": 5,
   "id": "92014c65-5b5c-4b61-93ef-30f044282eb3",
   "metadata": {},
   "outputs": [],
   "source": [
    "ds = 'BankNote'"
   ]
  },
  {
   "cell_type": "markdown",
   "id": "3f9b925b",
   "metadata": {},
   "source": [
    "## Load data"
   ]
  },
  {
   "cell_type": "code",
   "execution_count": 6,
   "id": "fd3f8c31",
   "metadata": {},
   "outputs": [
    {
     "data": {
      "text/plain": [
       "(torch.Size([1372, 4]), torch.Size([1372]), 1372, 4, 2)"
      ]
     },
     "execution_count": 6,
     "metadata": {},
     "output_type": "execute_result"
    }
   ],
   "source": [
    "datapath = os.path.join(os.getcwd(), 'Datasets', 'Haibin',\n",
    "                        'data_processed', f'Dataset_{ds}.p')\n",
    "with open(datapath, 'rb') as f:\n",
    "    dataset = pickle.load(f)\n",
    "X = dataset['X'].float()\n",
    "y = dataset['y']\n",
    "\n",
    "E, N_features, N_class = X.shape[0], X.shape[1], torch.max(\n",
    "    torch.unique(y)).item()+1\n",
    "X.shape, y.shape, E, N_features, N_class"
   ]
  },
  {
   "cell_type": "markdown",
   "id": "35adbc19",
   "metadata": {},
   "source": [
    "## Pseudo electrical signal"
   ]
  },
  {
   "cell_type": "code",
   "execution_count": 7,
   "id": "ea0969cc",
   "metadata": {},
   "outputs": [
    {
     "data": {
      "text/plain": [
       "(tensor(0.), tensor(1.))"
      ]
     },
     "execution_count": 7,
     "metadata": {},
     "output_type": "execute_result"
    }
   ],
   "source": [
    "X = X / (torch.max(X, axis=0)[0] - torch.min(X, axis=0)[0])\n",
    "X = X - torch.min(X, axis=0)[0]\n",
    "torch.min(X), torch.max(X)"
   ]
  },
  {
   "cell_type": "code",
   "execution_count": 8,
   "id": "9d04d54b",
   "metadata": {},
   "outputs": [
    {
     "data": {
      "text/plain": [
       "tensor([[0.7690, 0.8396, 0.1068, 0.7366],\n",
       "        [0.8357, 0.8210, 0.1218, 0.6443],\n",
       "        [0.7866, 0.4166, 0.3106, 0.7870],\n",
       "        [0.7571, 0.8717, 0.0549, 0.4504],\n",
       "        [0.5316, 0.3487, 0.4247, 0.6874],\n",
       "        [0.8229, 0.8773, 0.0571, 0.4897],\n",
       "        [0.7668, 0.6281, 0.2591, 0.8286],\n",
       "        [0.6587, 0.2605, 0.5923, 0.7225],\n",
       "        [0.7388, 0.7309, 0.1953, 0.7216],\n",
       "        [0.6186, 0.8588, 0.1299, 0.7104]])"
      ]
     },
     "execution_count": 8,
     "metadata": {},
     "output_type": "execute_result"
    }
   ],
   "source": [
    "X[:10, :9]"
   ]
  },
  {
   "cell_type": "code",
   "execution_count": 9,
   "id": "6d30ecfc",
   "metadata": {},
   "outputs": [
    {
     "data": {
      "text/plain": [
       "(823, 274, 274)"
      ]
     },
     "execution_count": 9,
     "metadata": {},
     "output_type": "execute_result"
    }
   ],
   "source": [
    "from torch.utils.data import TensorDataset\n",
    "from torch.utils.data import DataLoader\n",
    "from torch.utils.data import random_split\n",
    "\n",
    "# generate tensordataset\n",
    "dataset = TensorDataset(X.to(device), y.to(device))\n",
    "\n",
    "# split\n",
    "train_rate = 0.6\n",
    "test_rate = 0.2\n",
    "valid_rate = 0.2\n",
    "E_train = min(4096, int(E*train_rate))\n",
    "E_test = min(1024, int(E*test_rate))\n",
    "E_valid = min(1024, int(E*valid_rate))\n",
    "\n",
    "train_data, rest_data = random_split(dataset, [E_train, E-E_train])\n",
    "test_data, rest_data = random_split(rest_data, [E_test, E-E_train-E_test])\n",
    "valid_data, rest_data = random_split(rest_data, [E_valid, E-E_train-E_test-E_valid])\n",
    "\n",
    "len(train_data), len(test_data), len(valid_data)"
   ]
  },
  {
   "cell_type": "code",
   "execution_count": 10,
   "id": "4f8988b7",
   "metadata": {},
   "outputs": [],
   "source": [
    "# batch\n",
    "train_loader = DataLoader(train_data, batch_size=len(train_data))\n",
    "test_loader = DataLoader(test_data, batch_size=len(test_data))\n",
    "valid_loader = DataLoader(valid_data, batch_size=len(valid_data))"
   ]
  },
  {
   "cell_type": "markdown",
   "id": "bb0f57e2",
   "metadata": {},
   "source": [
    "# Hyperparameter"
   ]
  },
  {
   "cell_type": "code",
   "execution_count": 11,
   "id": "608550a4",
   "metadata": {},
   "outputs": [],
   "source": [
    "N_Hidden = 1\n",
    "m = 0.3\n",
    "T = 0.1\n",
    "M_train = 200\n",
    "K_train = 20\n",
    "M_test = 20\n",
    "K_test = 10\n",
    "M_valid = 500\n",
    "K_valid = 50"
   ]
  },
  {
   "cell_type": "markdown",
   "id": "98cf49ee-2bf2-4d63-8073-71feab7d7cff",
   "metadata": {},
   "source": [
    "# Normal NN"
   ]
  },
  {
   "cell_type": "markdown",
   "id": "f3030cec-d9a3-4baa-8fdf-778491a9e5b7",
   "metadata": {},
   "source": [
    "## Define"
   ]
  },
  {
   "cell_type": "code",
   "execution_count": 14,
   "id": "d8578200-6be0-46b8-81be-2d0726a9d4a0",
   "metadata": {},
   "outputs": [
    {
     "data": {
      "text/plain": [
       "Sequential(\n",
       "  (0): Linear(in_features=4, out_features=1, bias=True)\n",
       "  (1): Tanh()\n",
       "  (2): Linear(in_features=1, out_features=2, bias=True)\n",
       "  (3): Tanh()\n",
       ")"
      ]
     },
     "execution_count": 14,
     "metadata": {},
     "output_type": "execute_result"
    }
   ],
   "source": [
    "NN = torch.nn.Sequential(torch.nn.Linear(N_features, N_Hidden), torch.nn.Tanh(),\n",
    "                        torch.nn.Linear(N_Hidden, N_class), torch.nn.Tanh())\n",
    "\n",
    "\n",
    "def weights_init(m):\n",
    "    if isinstance(m, torch.nn.Linear):\n",
    "        torch.nn.init.xavier_uniform_(m.weight)\n",
    "        m.bias.data.fill_(0.01)\n",
    "\n",
    "NN.apply(weights_init)\n",
    "\n",
    "celoss = torch.nn.CrossEntropyLoss()\n",
    "NN.to(device)"
   ]
  },
  {
   "cell_type": "markdown",
   "id": "f3ad2024-6626-423b-b707-09c8d33e2dc2",
   "metadata": {},
   "source": [
    "## Training"
   ]
  },
  {
   "cell_type": "code",
   "execution_count": 15,
   "id": "22ff31fc-c84e-4a1f-a656-7807a6238aa2",
   "metadata": {},
   "outputs": [
    {
     "data": {
      "application/vnd.jupyter.widget-view+json": {
       "model_id": "acee3968c3174efba454689743aa366f",
       "version_major": 2,
       "version_minor": 0
      },
      "text/plain": [
       "  0%|          | 0/50000 [00:00<?, ?it/s]"
      ]
     },
     "metadata": {},
     "output_type": "display_data"
    },
    {
     "name": "stdout",
     "output_type": "stream",
     "text": [
      "| Epoch:     0 | Accuracy: 0.52920 | Loss: 0.695308745\n",
      "| Epoch:   500 | Accuracy: 0.98540 | Loss: 0.147360295\n",
      "| Epoch:  1000 | Accuracy: 0.98540 | Loss: 0.148067147\n"
     ]
    },
    {
     "ename": "KeyboardInterrupt",
     "evalue": "",
     "output_type": "error",
     "traceback": [
      "\u001b[0;31m---------------------------------------------------------------------------\u001b[0m",
      "\u001b[0;31mKeyboardInterrupt\u001b[0m                         Traceback (most recent call last)",
      "\u001b[0;32m/scratch/slurm_tmpdir/job_20297507/ipykernel_1378430/3394010282.py\u001b[0m in \u001b[0;36m<module>\u001b[0;34m\u001b[0m\n\u001b[1;32m      1\u001b[0m \u001b[0moptimizer_NN\u001b[0m \u001b[0;34m=\u001b[0m \u001b[0mtorch\u001b[0m\u001b[0;34m.\u001b[0m\u001b[0moptim\u001b[0m\u001b[0;34m.\u001b[0m\u001b[0mAdam\u001b[0m\u001b[0;34m(\u001b[0m\u001b[0mNN\u001b[0m\u001b[0;34m.\u001b[0m\u001b[0mparameters\u001b[0m\u001b[0;34m(\u001b[0m\u001b[0;34m)\u001b[0m\u001b[0;34m,\u001b[0m \u001b[0mlr\u001b[0m\u001b[0;34m=\u001b[0m\u001b[0;36m0.1\u001b[0m\u001b[0;34m)\u001b[0m\u001b[0;34m\u001b[0m\u001b[0;34m\u001b[0m\u001b[0m\n\u001b[1;32m      2\u001b[0m \u001b[0mtrain_loader\u001b[0m \u001b[0;34m=\u001b[0m \u001b[0mDataLoader\u001b[0m\u001b[0;34m(\u001b[0m\u001b[0mtrain_data\u001b[0m\u001b[0;34m,\u001b[0m \u001b[0mbatch_size\u001b[0m\u001b[0;34m=\u001b[0m\u001b[0mmin\u001b[0m\u001b[0;34m(\u001b[0m\u001b[0mlen\u001b[0m\u001b[0;34m(\u001b[0m\u001b[0mtrain_data\u001b[0m\u001b[0;34m)\u001b[0m\u001b[0;34m,\u001b[0m\u001b[0;36m1024\u001b[0m\u001b[0;34m)\u001b[0m\u001b[0;34m)\u001b[0m\u001b[0;34m\u001b[0m\u001b[0;34m\u001b[0m\u001b[0m\n\u001b[0;32m----> 3\u001b[0;31m train_loss_NN, test_loss_NN, parameter_NN = tv.train_normal_nn(NN,\n\u001b[0m\u001b[1;32m      4\u001b[0m                                                                      \u001b[0mtrain_loader\u001b[0m\u001b[0;34m,\u001b[0m\u001b[0;34m\u001b[0m\u001b[0;34m\u001b[0m\u001b[0m\n\u001b[1;32m      5\u001b[0m                                                                      \u001b[0mtest_loader\u001b[0m\u001b[0;34m,\u001b[0m\u001b[0;34m\u001b[0m\u001b[0;34m\u001b[0m\u001b[0m\n",
      "\u001b[0;32m/pfs/data5/home/kit/tm/px3192/Aging-aware-training/training_vectorization.py\u001b[0m in \u001b[0;36mtrain_normal_nn\u001b[0;34m(nn, train_loader, test_loader, optimizer, lossfunction, Epoch)\u001b[0m\n\u001b[1;32m     17\u001b[0m \u001b[0;34m\u001b[0m\u001b[0m\n\u001b[1;32m     18\u001b[0m     \u001b[0;32mfor\u001b[0m \u001b[0mepoch\u001b[0m \u001b[0;32min\u001b[0m \u001b[0mtqdm\u001b[0m\u001b[0;34m(\u001b[0m\u001b[0mrange\u001b[0m\u001b[0;34m(\u001b[0m\u001b[0mEpoch\u001b[0m\u001b[0;34m)\u001b[0m\u001b[0;34m)\u001b[0m\u001b[0;34m:\u001b[0m\u001b[0;34m\u001b[0m\u001b[0;34m\u001b[0m\u001b[0m\n\u001b[0;32m---> 19\u001b[0;31m         \u001b[0;32mfor\u001b[0m \u001b[0mx_train\u001b[0m\u001b[0;34m,\u001b[0m \u001b[0my_train\u001b[0m \u001b[0;32min\u001b[0m \u001b[0mtrain_loader\u001b[0m\u001b[0;34m:\u001b[0m\u001b[0;34m\u001b[0m\u001b[0;34m\u001b[0m\u001b[0m\n\u001b[0m\u001b[1;32m     20\u001b[0m             \u001b[0moptimizer\u001b[0m\u001b[0;34m.\u001b[0m\u001b[0mzero_grad\u001b[0m\u001b[0;34m(\u001b[0m\u001b[0;34m)\u001b[0m\u001b[0;34m\u001b[0m\u001b[0;34m\u001b[0m\u001b[0m\n\u001b[1;32m     21\u001b[0m             \u001b[0mprediction\u001b[0m \u001b[0;34m=\u001b[0m \u001b[0mnn\u001b[0m\u001b[0;34m(\u001b[0m\u001b[0mx_train\u001b[0m\u001b[0;34m)\u001b[0m\u001b[0;34m\u001b[0m\u001b[0;34m\u001b[0m\u001b[0m\n",
      "\u001b[0;32m~/.local/lib/python3.8/site-packages/torch/utils/data/dataloader.py\u001b[0m in \u001b[0;36m__next__\u001b[0;34m(self)\u001b[0m\n\u001b[1;32m    519\u001b[0m             \u001b[0;32mif\u001b[0m \u001b[0mself\u001b[0m\u001b[0;34m.\u001b[0m\u001b[0m_sampler_iter\u001b[0m \u001b[0;32mis\u001b[0m \u001b[0;32mNone\u001b[0m\u001b[0;34m:\u001b[0m\u001b[0;34m\u001b[0m\u001b[0;34m\u001b[0m\u001b[0m\n\u001b[1;32m    520\u001b[0m                 \u001b[0mself\u001b[0m\u001b[0;34m.\u001b[0m\u001b[0m_reset\u001b[0m\u001b[0;34m(\u001b[0m\u001b[0;34m)\u001b[0m\u001b[0;34m\u001b[0m\u001b[0;34m\u001b[0m\u001b[0m\n\u001b[0;32m--> 521\u001b[0;31m             \u001b[0mdata\u001b[0m \u001b[0;34m=\u001b[0m \u001b[0mself\u001b[0m\u001b[0;34m.\u001b[0m\u001b[0m_next_data\u001b[0m\u001b[0;34m(\u001b[0m\u001b[0;34m)\u001b[0m\u001b[0;34m\u001b[0m\u001b[0;34m\u001b[0m\u001b[0m\n\u001b[0m\u001b[1;32m    522\u001b[0m             \u001b[0mself\u001b[0m\u001b[0;34m.\u001b[0m\u001b[0m_num_yielded\u001b[0m \u001b[0;34m+=\u001b[0m \u001b[0;36m1\u001b[0m\u001b[0;34m\u001b[0m\u001b[0;34m\u001b[0m\u001b[0m\n\u001b[1;32m    523\u001b[0m             \u001b[0;32mif\u001b[0m \u001b[0mself\u001b[0m\u001b[0;34m.\u001b[0m\u001b[0m_dataset_kind\u001b[0m \u001b[0;34m==\u001b[0m \u001b[0m_DatasetKind\u001b[0m\u001b[0;34m.\u001b[0m\u001b[0mIterable\u001b[0m \u001b[0;32mand\u001b[0m\u001b[0;31m \u001b[0m\u001b[0;31m\\\u001b[0m\u001b[0;34m\u001b[0m\u001b[0;34m\u001b[0m\u001b[0m\n",
      "\u001b[0;32m~/.local/lib/python3.8/site-packages/torch/utils/data/dataloader.py\u001b[0m in \u001b[0;36m_next_data\u001b[0;34m(self)\u001b[0m\n\u001b[1;32m    559\u001b[0m     \u001b[0;32mdef\u001b[0m \u001b[0m_next_data\u001b[0m\u001b[0;34m(\u001b[0m\u001b[0mself\u001b[0m\u001b[0;34m)\u001b[0m\u001b[0;34m:\u001b[0m\u001b[0;34m\u001b[0m\u001b[0;34m\u001b[0m\u001b[0m\n\u001b[1;32m    560\u001b[0m         \u001b[0mindex\u001b[0m \u001b[0;34m=\u001b[0m \u001b[0mself\u001b[0m\u001b[0;34m.\u001b[0m\u001b[0m_next_index\u001b[0m\u001b[0;34m(\u001b[0m\u001b[0;34m)\u001b[0m  \u001b[0;31m# may raise StopIteration\u001b[0m\u001b[0;34m\u001b[0m\u001b[0;34m\u001b[0m\u001b[0m\n\u001b[0;32m--> 561\u001b[0;31m         \u001b[0mdata\u001b[0m \u001b[0;34m=\u001b[0m \u001b[0mself\u001b[0m\u001b[0;34m.\u001b[0m\u001b[0m_dataset_fetcher\u001b[0m\u001b[0;34m.\u001b[0m\u001b[0mfetch\u001b[0m\u001b[0;34m(\u001b[0m\u001b[0mindex\u001b[0m\u001b[0;34m)\u001b[0m  \u001b[0;31m# may raise StopIteration\u001b[0m\u001b[0;34m\u001b[0m\u001b[0;34m\u001b[0m\u001b[0m\n\u001b[0m\u001b[1;32m    562\u001b[0m         \u001b[0;32mif\u001b[0m \u001b[0mself\u001b[0m\u001b[0;34m.\u001b[0m\u001b[0m_pin_memory\u001b[0m\u001b[0;34m:\u001b[0m\u001b[0;34m\u001b[0m\u001b[0;34m\u001b[0m\u001b[0m\n\u001b[1;32m    563\u001b[0m             \u001b[0mdata\u001b[0m \u001b[0;34m=\u001b[0m \u001b[0m_utils\u001b[0m\u001b[0;34m.\u001b[0m\u001b[0mpin_memory\u001b[0m\u001b[0;34m.\u001b[0m\u001b[0mpin_memory\u001b[0m\u001b[0;34m(\u001b[0m\u001b[0mdata\u001b[0m\u001b[0;34m)\u001b[0m\u001b[0;34m\u001b[0m\u001b[0;34m\u001b[0m\u001b[0m\n",
      "\u001b[0;32m~/.local/lib/python3.8/site-packages/torch/utils/data/_utils/fetch.py\u001b[0m in \u001b[0;36mfetch\u001b[0;34m(self, possibly_batched_index)\u001b[0m\n\u001b[1;32m     47\u001b[0m     \u001b[0;32mdef\u001b[0m \u001b[0mfetch\u001b[0m\u001b[0;34m(\u001b[0m\u001b[0mself\u001b[0m\u001b[0;34m,\u001b[0m \u001b[0mpossibly_batched_index\u001b[0m\u001b[0;34m)\u001b[0m\u001b[0;34m:\u001b[0m\u001b[0;34m\u001b[0m\u001b[0;34m\u001b[0m\u001b[0m\n\u001b[1;32m     48\u001b[0m         \u001b[0;32mif\u001b[0m \u001b[0mself\u001b[0m\u001b[0;34m.\u001b[0m\u001b[0mauto_collation\u001b[0m\u001b[0;34m:\u001b[0m\u001b[0;34m\u001b[0m\u001b[0;34m\u001b[0m\u001b[0m\n\u001b[0;32m---> 49\u001b[0;31m             \u001b[0mdata\u001b[0m \u001b[0;34m=\u001b[0m \u001b[0;34m[\u001b[0m\u001b[0mself\u001b[0m\u001b[0;34m.\u001b[0m\u001b[0mdataset\u001b[0m\u001b[0;34m[\u001b[0m\u001b[0midx\u001b[0m\u001b[0;34m]\u001b[0m \u001b[0;32mfor\u001b[0m \u001b[0midx\u001b[0m \u001b[0;32min\u001b[0m \u001b[0mpossibly_batched_index\u001b[0m\u001b[0;34m]\u001b[0m\u001b[0;34m\u001b[0m\u001b[0;34m\u001b[0m\u001b[0m\n\u001b[0m\u001b[1;32m     50\u001b[0m         \u001b[0;32melse\u001b[0m\u001b[0;34m:\u001b[0m\u001b[0;34m\u001b[0m\u001b[0;34m\u001b[0m\u001b[0m\n\u001b[1;32m     51\u001b[0m             \u001b[0mdata\u001b[0m \u001b[0;34m=\u001b[0m \u001b[0mself\u001b[0m\u001b[0;34m.\u001b[0m\u001b[0mdataset\u001b[0m\u001b[0;34m[\u001b[0m\u001b[0mpossibly_batched_index\u001b[0m\u001b[0;34m]\u001b[0m\u001b[0;34m\u001b[0m\u001b[0;34m\u001b[0m\u001b[0m\n",
      "\u001b[0;32m~/.local/lib/python3.8/site-packages/torch/utils/data/_utils/fetch.py\u001b[0m in \u001b[0;36m<listcomp>\u001b[0;34m(.0)\u001b[0m\n\u001b[1;32m     47\u001b[0m     \u001b[0;32mdef\u001b[0m \u001b[0mfetch\u001b[0m\u001b[0;34m(\u001b[0m\u001b[0mself\u001b[0m\u001b[0;34m,\u001b[0m \u001b[0mpossibly_batched_index\u001b[0m\u001b[0;34m)\u001b[0m\u001b[0;34m:\u001b[0m\u001b[0;34m\u001b[0m\u001b[0;34m\u001b[0m\u001b[0m\n\u001b[1;32m     48\u001b[0m         \u001b[0;32mif\u001b[0m \u001b[0mself\u001b[0m\u001b[0;34m.\u001b[0m\u001b[0mauto_collation\u001b[0m\u001b[0;34m:\u001b[0m\u001b[0;34m\u001b[0m\u001b[0;34m\u001b[0m\u001b[0m\n\u001b[0;32m---> 49\u001b[0;31m             \u001b[0mdata\u001b[0m \u001b[0;34m=\u001b[0m \u001b[0;34m[\u001b[0m\u001b[0mself\u001b[0m\u001b[0;34m.\u001b[0m\u001b[0mdataset\u001b[0m\u001b[0;34m[\u001b[0m\u001b[0midx\u001b[0m\u001b[0;34m]\u001b[0m \u001b[0;32mfor\u001b[0m \u001b[0midx\u001b[0m \u001b[0;32min\u001b[0m \u001b[0mpossibly_batched_index\u001b[0m\u001b[0;34m]\u001b[0m\u001b[0;34m\u001b[0m\u001b[0;34m\u001b[0m\u001b[0m\n\u001b[0m\u001b[1;32m     50\u001b[0m         \u001b[0;32melse\u001b[0m\u001b[0;34m:\u001b[0m\u001b[0;34m\u001b[0m\u001b[0;34m\u001b[0m\u001b[0m\n\u001b[1;32m     51\u001b[0m             \u001b[0mdata\u001b[0m \u001b[0;34m=\u001b[0m \u001b[0mself\u001b[0m\u001b[0;34m.\u001b[0m\u001b[0mdataset\u001b[0m\u001b[0;34m[\u001b[0m\u001b[0mpossibly_batched_index\u001b[0m\u001b[0;34m]\u001b[0m\u001b[0;34m\u001b[0m\u001b[0;34m\u001b[0m\u001b[0m\n",
      "\u001b[0;32m~/.local/lib/python3.8/site-packages/torch/utils/data/dataset.py\u001b[0m in \u001b[0;36m__getitem__\u001b[0;34m(self, idx)\u001b[0m\n\u001b[1;32m    361\u001b[0m         \u001b[0;32mif\u001b[0m \u001b[0misinstance\u001b[0m\u001b[0;34m(\u001b[0m\u001b[0midx\u001b[0m\u001b[0;34m,\u001b[0m \u001b[0mlist\u001b[0m\u001b[0;34m)\u001b[0m\u001b[0;34m:\u001b[0m\u001b[0;34m\u001b[0m\u001b[0;34m\u001b[0m\u001b[0m\n\u001b[1;32m    362\u001b[0m             \u001b[0;32mreturn\u001b[0m \u001b[0mself\u001b[0m\u001b[0;34m.\u001b[0m\u001b[0mdataset\u001b[0m\u001b[0;34m[\u001b[0m\u001b[0;34m[\u001b[0m\u001b[0mself\u001b[0m\u001b[0;34m.\u001b[0m\u001b[0mindices\u001b[0m\u001b[0;34m[\u001b[0m\u001b[0mi\u001b[0m\u001b[0;34m]\u001b[0m \u001b[0;32mfor\u001b[0m \u001b[0mi\u001b[0m \u001b[0;32min\u001b[0m \u001b[0midx\u001b[0m\u001b[0;34m]\u001b[0m\u001b[0;34m]\u001b[0m\u001b[0;34m\u001b[0m\u001b[0;34m\u001b[0m\u001b[0m\n\u001b[0;32m--> 363\u001b[0;31m         \u001b[0;32mreturn\u001b[0m \u001b[0mself\u001b[0m\u001b[0;34m.\u001b[0m\u001b[0mdataset\u001b[0m\u001b[0;34m[\u001b[0m\u001b[0mself\u001b[0m\u001b[0;34m.\u001b[0m\u001b[0mindices\u001b[0m\u001b[0;34m[\u001b[0m\u001b[0midx\u001b[0m\u001b[0;34m]\u001b[0m\u001b[0;34m]\u001b[0m\u001b[0;34m\u001b[0m\u001b[0;34m\u001b[0m\u001b[0m\n\u001b[0m\u001b[1;32m    364\u001b[0m \u001b[0;34m\u001b[0m\u001b[0m\n\u001b[1;32m    365\u001b[0m     \u001b[0;32mdef\u001b[0m \u001b[0m__len__\u001b[0m\u001b[0;34m(\u001b[0m\u001b[0mself\u001b[0m\u001b[0;34m)\u001b[0m\u001b[0;34m:\u001b[0m\u001b[0;34m\u001b[0m\u001b[0;34m\u001b[0m\u001b[0m\n",
      "\u001b[0;31mKeyboardInterrupt\u001b[0m: "
     ]
    }
   ],
   "source": [
    "optimizer_NN = torch.optim.Adam(NN.parameters(), lr=0.1)\n",
    "train_loader = DataLoader(train_data, batch_size=min(len(train_data),1024))\n",
    "train_loss_NN, test_loss_NN, parameter_NN = tv.train_normal_nn(NN,\n",
    "                                                                     train_loader,\n",
    "                                                                     test_loader,\n",
    "                                                                     optimizer=optimizer_NN,\n",
    "                                                                     lossfunction=celoss,\n",
    "                                                                     Epoch=50000)"
   ]
  },
  {
   "cell_type": "code",
   "execution_count": 16,
   "id": "2b482bd5-babe-4185-ac37-c6c15f27c16e",
   "metadata": {},
   "outputs": [
    {
     "data": {
      "text/plain": [
       "(669, 0.14728772640228271)"
      ]
     },
     "execution_count": 16,
     "metadata": {},
     "output_type": "execute_result"
    },
    {
     "data": {
      "image/png": "[encoded data removed]",
      "text/plain": [
       "<Figure size 432x288 with 1 Axes>"
      ]
     },
     "metadata": {
      "needs_background": "light"
     },
     "output_type": "display_data"
    }
   ],
   "source": [
    "plt.plot(train_loss_NN, '-', label='train')\n",
    "plt.plot(test_loss_NN, '--', label='test')\n",
    "plt.legend()\n",
    "NN.load_state_dict(parameter_NN)\n",
    "best = np.argmin(test_loss_NN)\n",
    "best, test_loss_NN[best]"
   ]
  },
  {
   "cell_type": "code",
   "execution_count": null,
   "id": "c7f1d27f-e30d-430d-ae9e-673e3fcacbea",
   "metadata": {},
   "outputs": [
    {
     "data": {
      "application/vnd.jupyter.widget-view+json": {
       "model_id": "e05bd9781bad4c7192c4f1b0eb8dc8d2",
       "version_major": 2,
       "version_minor": 0
      },
      "text/plain": [
       "  0%|          | 0/50000 [00:00<?, ?it/s]"
      ]
     },
     "metadata": {},
     "output_type": "display_data"
    },
    {
     "name": "stdout",
     "output_type": "stream",
     "text": [
      "| Epoch:     0 | Accuracy: 0.98540 | Loss: 0.147954017\n",
      "| Epoch:   500 | Accuracy: 0.98905 | Loss: 0.141373619\n",
      "| Epoch:  1000 | Accuracy: 0.99635 | Loss: 0.139199749\n",
      "| Epoch:  1500 | Accuracy: 0.99635 | Loss: 0.137990847\n",
      "| Epoch:  2000 | Accuracy: 0.99635 | Loss: 0.137134016\n",
      "| Epoch:  2500 | Accuracy: 0.99635 | Loss: 0.136380509\n",
      "| Epoch:  3000 | Accuracy: 0.99635 | Loss: 0.135824397\n",
      "| Epoch:  3500 | Accuracy: 0.99635 | Loss: 0.135545239\n",
      "| Epoch:  4000 | Accuracy: 0.99635 | Loss: 0.135278448\n",
      "| Epoch:  4500 | Accuracy: 0.99635 | Loss: 0.135086372\n",
      "| Epoch:  5000 | Accuracy: 0.99635 | Loss: 0.134965792\n",
      "| Epoch:  5500 | Accuracy: 0.99635 | Loss: 0.134757265\n",
      "| Epoch:  6000 | Accuracy: 0.99635 | Loss: 0.134686440\n",
      "| Epoch:  6500 | Accuracy: 0.99635 | Loss: 0.134606093\n",
      "| Epoch:  7000 | Accuracy: 0.99635 | Loss: 0.134539023\n",
      "| Epoch:  7500 | Accuracy: 0.99635 | Loss: 0.134485587\n"
     ]
    }
   ],
   "source": [
    "optimizer_NN = torch.optim.Adam(NN.parameters(), lr=0.01)\n",
    "train_loader = DataLoader(train_data, batch_size=len(train_data))\n",
    "train_loss_NN, test_loss_NN, parameter_NN = tv.train_normal_nn(NN,\n",
    "                                                                     train_loader,\n",
    "                                                                     test_loader,\n",
    "                                                                     optimizer=optimizer_NN,\n",
    "                                                                     lossfunction=celoss,\n",
    "                                                                     Epoch=50000)"
   ]
  },
  {
   "cell_type": "code",
   "execution_count": null,
   "id": "126f5a62-ec48-466b-bb09-a9ab513d2054",
   "metadata": {},
   "outputs": [],
   "source": [
    "plt.plot(train_loss_NN, '-', label='train')\n",
    "plt.plot(test_loss_NN, '--', label='test')\n",
    "plt.legend()\n",
    "NN.load_state_dict(parameter_NN)\n",
    "best = np.argmin(test_loss_NN)\n",
    "best, test_loss_NN[best]"
   ]
  },
  {
   "cell_type": "code",
   "execution_count": null,
   "id": "56955489-a421-4d80-b4ba-de6871871670",
   "metadata": {},
   "outputs": [],
   "source": [
    "optimizer_NN = torch.optim.Adam(NN.parameters(), lr=0.001)\n",
    "train_loader = DataLoader(train_data, batch_size=len(train_data))\n",
    "train_loss_NN, test_loss_NN, parameter_NN = tv.train_normal_nn(NN,\n",
    "                                                                     train_loader,\n",
    "                                                                     test_loader,\n",
    "                                                                     optimizer=optimizer_NN,\n",
    "                                                                     lossfunction=celoss,\n",
    "                                                                     Epoch=50000)"
   ]
  },
  {
   "cell_type": "code",
   "execution_count": null,
   "id": "202233c8-206f-4cb4-8c47-d5277bce5b39",
   "metadata": {},
   "outputs": [],
   "source": [
    "plt.plot(train_loss_NN, '-', label='train')\n",
    "plt.plot(test_loss_NN, '--', label='test')\n",
    "plt.legend()\n",
    "NN.load_state_dict(parameter_NN)\n",
    "best = np.argmin(test_loss_NN)\n",
    "best, test_loss_NN[best]"
   ]
  },
  {
   "cell_type": "markdown",
   "id": "6568b4fd-62c9-4891-8cba-0b289bbf1e67",
   "metadata": {},
   "source": [
    "## Save Model"
   ]
  },
  {
   "cell_type": "code",
   "execution_count": null,
   "id": "3f076686-a233-4434-b21f-486c95c9a78b",
   "metadata": {},
   "outputs": [],
   "source": [
    "with open(f'./result/{ds}_NN_{seed}.p', 'wb') as f:\n",
    "    pickle.dump(NN, f)"
   ]
  },
  {
   "cell_type": "markdown",
   "id": "38d0bfe4-d2ea-45fb-827b-3ba9f5a37618",
   "metadata": {},
   "source": [
    "## Evaluation"
   ]
  },
  {
   "cell_type": "code",
   "execution_count": null,
   "id": "63f6d5f0-5245-4325-b384-58b4d79999a1",
   "metadata": {},
   "outputs": [],
   "source": [
    "for x_valid, y_valid in valid_loader:\n",
    "    prediction_valid = NN(x_valid)\n",
    "    p = torch.argmax(prediction_valid, 1)\n",
    "    pred_y = p.cpu().data.numpy().squeeze()\n",
    "    acc_valid = sum(pred_y == y_valid.cpu().numpy()) / y_valid.shape[0]\n",
    "print(acc_valid)"
   ]
  },
  {
   "cell_type": "markdown",
   "id": "5c65c580",
   "metadata": {},
   "source": [
    "# Normal PNN"
   ]
  },
  {
   "cell_type": "markdown",
   "id": "11fcb7de",
   "metadata": {},
   "source": [
    "## Define"
   ]
  },
  {
   "cell_type": "code",
   "execution_count": null,
   "id": "098714b2",
   "metadata": {},
   "outputs": [],
   "source": [
    "PNN = torch.nn.Sequential(pnnv.PNNLayer(N_features, N_Hidden, age_generator, xpu=device),\n",
    "                         pnnv.PNNLayer(N_Hidden, N_class, age_generator, xpu=device))\n",
    "\n",
    "PNN.apply(lambda z: pnnv.MakeModel(z, M=1))\n",
    "PNN.apply(lambda z: pnnv.SetTime(z, t=[0]))\n",
    "\n",
    "PNN.to(device)"
   ]
  },
  {
   "cell_type": "markdown",
   "id": "8eb6a0c4-b427-4278-b855-0c6f78ba5b8d",
   "metadata": {},
   "source": [
    "## Training"
   ]
  },
  {
   "cell_type": "code",
   "execution_count": null,
   "id": "b248e211",
   "metadata": {},
   "outputs": [],
   "source": [
    "optimizer_PNN = torch.optim.Adam(PNN.parameters(), lr=0.1)\n",
    "train_loader = DataLoader(train_data, batch_size=min(len(train_data),1024))\n",
    "train_loss_PNN, test_loss_PNN, parameter_PNN = tv.train_normal_pnn(PNN, train_loader, test_loader,\n",
    "                                                                   m, T, optimizer_PNN,\n",
    "                                                                   pnnv.LossFunction, Epoch=15000, cache=ds)"
   ]
  },
  {
   "cell_type": "code",
   "execution_count": null,
   "id": "9c2022fb-151b-40de-8e57-5d56e24460e3",
   "metadata": {},
   "outputs": [],
   "source": [
    "plt.plot(train_loss_PNN, '-', label='train')\n",
    "plt.plot(test_loss_PNN, '--', label='test')\n",
    "plt.legend()\n",
    "best = np.argmin(test_loss_PNN)\n",
    "PNN.load_state_dict(parameter_PNN)\n",
    "best, test_loss_PNN[best]"
   ]
  },
  {
   "cell_type": "code",
   "execution_count": null,
   "id": "f4c56418-565f-4857-9e75-07ba504b4dec",
   "metadata": {},
   "outputs": [],
   "source": [
    "optimizer_PNN = torch.optim.Adam(PNN.parameters(), lr=0.01)\n",
    "train_loader = DataLoader(train_data, batch_size=len(train_data))\n",
    "train_loss_PNN, test_loss_PNN, parameter_PNN = tv.train_normal_pnn(PNN, train_loader, test_loader,\n",
    "                                                                   m, T, optimizer_PNN,\n",
    "                                                                   pnnv.LossFunction, Epoch=5000, cache=ds)"
   ]
  },
  {
   "cell_type": "code",
   "execution_count": null,
   "id": "b2298f06-db39-45c5-a1bd-d6210d45ef85",
   "metadata": {},
   "outputs": [],
   "source": [
    "plt.plot(train_loss_PNN, '-', label='train')\n",
    "plt.plot(test_loss_PNN, '--', label='test')\n",
    "plt.legend()\n",
    "best = np.argmin(test_loss_PNN)\n",
    "PNN.load_state_dict(parameter_PNN)\n",
    "best, test_loss_PNN[best]"
   ]
  },
  {
   "cell_type": "code",
   "execution_count": null,
   "id": "44a3adbc-7414-49e5-89da-34d52ee29806",
   "metadata": {},
   "outputs": [],
   "source": [
    "optimizer_PNN = torch.optim.Adam(PNN.parameters(), lr=0.001)\n",
    "train_loader = DataLoader(train_data, batch_size=len(train_data))\n",
    "train_loss_PNN, test_loss_PNN, parameter_PNN = tv.train_normal_pnn(PNN, train_loader, test_loader,\n",
    "                                                                   m, T, optimizer_PNN,\n",
    "                                                                   pnnv.LossFunction, Epoch=5000, cache=ds)"
   ]
  },
  {
   "cell_type": "code",
   "execution_count": null,
   "id": "d612d550-ac09-4551-bc7b-b0fa7479a26f",
   "metadata": {},
   "outputs": [],
   "source": [
    "plt.plot(train_loss_PNN, '-', label='train')\n",
    "plt.plot(test_loss_PNN, '--', label='test')\n",
    "plt.legend()\n",
    "best = np.argmin(test_loss_PNN)\n",
    "PNN.load_state_dict(parameter_PNN)\n",
    "best, test_loss_PNN[best]"
   ]
  },
  {
   "cell_type": "markdown",
   "id": "bbef757b-0f2d-4e54-93dd-8f60121ca948",
   "metadata": {},
   "source": [
    "## Save Model"
   ]
  },
  {
   "cell_type": "code",
   "execution_count": null,
   "id": "13a6ddc5-4d1c-4371-9b7d-b78844405e87",
   "metadata": {},
   "outputs": [],
   "source": [
    "with open(f'./result/{ds}_PNN_{seed}.p', 'wb') as f:\n",
    "    pickle.dump(PNN, f)"
   ]
  },
  {
   "cell_type": "markdown",
   "id": "59ebe567-61eb-4cb0-bbe1-71d8aff12aac",
   "metadata": {},
   "source": [
    "# Aging Aware PNN"
   ]
  },
  {
   "cell_type": "code",
   "execution_count": null,
   "id": "19abcaae",
   "metadata": {},
   "outputs": [],
   "source": [
    "AAPNN = torch.nn.Sequential(pnnv.PNNLayer(N_features, N_Hidden, age_generator, xpu=device),\n",
    "                           pnnv.PNNLayer(N_Hidden, N_class, age_generator, xpu=device))\n",
    "\n",
    "AAPNN.apply(lambda z: pnnv.MakeModel(z, M))\n",
    "AAPNN.apply(lambda z: pnnv.SetTime(z, np.random.rand(K).tolist()))\n",
    "\n",
    "AAPNN.to(device)"
   ]
  },
  {
   "cell_type": "markdown",
   "id": "8b03e98a-fcdf-42a1-8f2b-582657cc47a0",
   "metadata": {},
   "source": [
    "## Reload AAPNN if crash"
   ]
  },
  {
   "cell_type": "code",
   "execution_count": null,
   "id": "feaf2602-3633-4814-9b13-42c407dba269",
   "metadata": {},
   "outputs": [],
   "source": [
    "if os.path.exists(f'./temp/{ds}_AAPNN.p'): \n",
    "    with open(f'./temp/{ds}_AAPNN.p', 'rb') as f:\n",
    "        AAPNN = pickle.load(f)"
   ]
  },
  {
   "cell_type": "markdown",
   "id": "e65740a1-a29a-48ca-b332-5cc4b0556ca9",
   "metadata": {},
   "source": [
    "## Training"
   ]
  },
  {
   "cell_type": "code",
   "execution_count": null,
   "id": "183e27bb-8d0a-4448-be67-78927eaf8e1b",
   "metadata": {},
   "outputs": [],
   "source": [
    "optimizer_AAPNN = torch.optim.Adam(AAPNN.parameters(), lr=0.5)\n",
    "train_loader = DataLoader(train_data, batch_size=min(len(train_data),1024))\n",
    "train_loss_AAPNN, test_loss_AAPNN, parameter_AAPNN = tv.train_aged_pnn(AAPNN, train_loader, test_loader,\n",
    "                                        m, T, M_train, K_train, M_test, K_test,\n",
    "                                        optimizer_AAPNN, pnnv.LossFunction,\n",
    "                                        Epoch=200, cache=ds)"
   ]
  },
  {
   "cell_type": "code",
   "execution_count": null,
   "id": "ea0cb974",
   "metadata": {},
   "outputs": [],
   "source": [
    "plt.plot(train_loss_AAPNN, '-', label='train')\n",
    "plt.plot(test_loss_AAPNN, '--', label='test')\n",
    "plt.legend()\n",
    "best = np.argmin(test_loss_AAPNN)\n",
    "AAPNN.load_state_dict(parameter_AAPNN)\n",
    "best, test_loss_AAPNN[best]"
   ]
  },
  {
   "cell_type": "code",
   "execution_count": null,
   "id": "eac79592-ecb0-4ba0-93a9-ee82f9050e2c",
   "metadata": {},
   "outputs": [],
   "source": [
    "optimizer_AAPNN = torch.optim.Adam(AAPNN.parameters(), lr=0.01)\n",
    "train_loader = DataLoader(train_data, batch_size=len(train_data))\n",
    "train_loss_AAPNN, test_loss_AAPNN, parameter_AAPNN = tv.train_aged_pnn(AAPNN, train_loader, test_loader,\n",
    "                                        m, T, M_train, K_train, M_test, K_test,\n",
    "                                        optimizer_AAPNN, pnnv.LossFunction,\n",
    "                                        Epoch=1000, cache=ds)"
   ]
  },
  {
   "cell_type": "code",
   "execution_count": null,
   "id": "1239230b-9748-48c4-9823-50c54dab9f5c",
   "metadata": {},
   "outputs": [],
   "source": [
    "plt.plot(train_loss_AAPNN, '-', label='train')\n",
    "plt.plot(test_loss_AAPNN, '--', label='test')\n",
    "plt.legend()\n",
    "best = np.argmin(test_loss_AAPNN)\n",
    "AAPNN.load_state_dict(parameter_AAPNN)\n",
    "best, test_loss_AAPNN[best]"
   ]
  },
  {
   "cell_type": "code",
   "execution_count": null,
   "id": "6ae4605b-0cb9-4394-afef-d515bebd8a3b",
   "metadata": {},
   "outputs": [],
   "source": [
    "optimizer_AAPNN = torch.optim.Adam(AAPNN.parameters(), lr=0.001)\n",
    "train_loader = DataLoader(train_data, batch_size=len(train_data))\n",
    "train_loss_AAPNN, test_loss_AAPNN, parameter_AAPNN = tv.train_aged_pnn(AAPNN, train_loader, test_loader,\n",
    "                                        m, T, M_train, K_train, M_test, K_test,\n",
    "                                        optimizer_AAPNN, pnnv.LossFunction,\n",
    "                                        Epoch=1000, cache=ds)"
   ]
  },
  {
   "cell_type": "code",
   "execution_count": null,
   "id": "b8d3302e-4f94-46cc-b31c-4af71c8ab76e",
   "metadata": {},
   "outputs": [],
   "source": [
    "plt.plot(train_loss_AAPNN, '-', label='train')\n",
    "plt.plot(test_loss_AAPNN, '--', label='test')\n",
    "plt.legend()\n",
    "best = np.argmin(test_loss_AAPNN)\n",
    "AAPNN.load_state_dict(parameter_AAPNN)\n",
    "best, test_loss_AAPNN[best]"
   ]
  },
  {
   "cell_type": "markdown",
   "id": "19ad1ac6-b8ec-427c-9b71-a3631c478096",
   "metadata": {},
   "source": [
    "## Save Model"
   ]
  },
  {
   "cell_type": "code",
   "execution_count": null,
   "id": "0d491031",
   "metadata": {},
   "outputs": [],
   "source": [
    "with open(f'./result/{ds}_AAPNN_{seed}.p', 'wb') as f:\n",
    "    pickle.dump(AAPNN, f)"
   ]
  },
  {
   "cell_type": "code",
   "execution_count": null,
   "id": "c322f096-d8ef-4841-8265-b43ce5ee271e",
   "metadata": {},
   "outputs": [],
   "source": []
  }
 ],
 "metadata": {
  "kernelspec": {
   "display_name": "MachineLearning",
   "language": "python",
   "name": "machinelearning"
  },
  "language_info": {
   "codemirror_mode": {
    "name": "ipython",
    "version": 3
   },
   "file_extension": ".py",
   "mimetype": "text/x-python",
   "name": "python",
   "nbconvert_exporter": "python",
   "pygments_lexer": "ipython3",
   "version": "3.8.12"
  },
  "toc": {
   "base_numbering": 1,
   "nav_menu": {},
   "number_sections": true,
   "sideBar": true,
   "skip_h1_title": false,
   "title_cell": "Table of Contents",
   "title_sidebar": "Contents",
   "toc_cell": false,
   "toc_position": {},
   "toc_section_display": true,
   "toc_window_display": true
  }
 },
 "nbformat": 4,
 "nbformat_minor": 5
}
