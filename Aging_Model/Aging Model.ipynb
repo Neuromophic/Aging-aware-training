{
 "cells": [
  {
   "cell_type": "code",
   "execution_count": 1,
   "metadata": {},
   "outputs": [],
   "source": [
    "import pandas as pd\n",
    "import matplotlib.pyplot as plt\n",
    "import numpy as np\n",
    "import torch\n",
    "import FigureConfig as FC"
   ]
  },
  {
   "cell_type": "markdown",
   "metadata": {},
   "source": [
    "# Prepare aging data to work with\n",
    "- We divide the data by the starting value, so the values are R/R_0 relative degredation to initial value\n",
    "- Then we invert to get to conductances \n",
    "- Now we normalize the livetime to $(t_0, t_1) = [0,1]$ from 0 , 37  as t0 and t1"
   ]
  },
  {
   "cell_type": "code",
   "execution_count": 2,
   "metadata": {
    "scrolled": true
   },
   "outputs": [
    {
     "data": {
      "text/html": [
       "<div>\n",
       "<style scoped>\n",
       "    .dataframe tbody tr th:only-of-type {\n",
       "        vertical-align: middle;\n",
       "    }\n",
       "\n",
       "    .dataframe tbody tr th {\n",
       "        vertical-align: top;\n",
       "    }\n",
       "\n",
       "    .dataframe thead th {\n",
       "        text-align: right;\n",
       "    }\n",
       "</style>\n",
       "<table border=\"1\" class=\"dataframe\">\n",
       "  <thead>\n",
       "    <tr style=\"text-align: right;\">\n",
       "      <th></th>\n",
       "      <th>Res_0</th>\n",
       "      <th>Res_1</th>\n",
       "      <th>Res_2</th>\n",
       "      <th>Res_3</th>\n",
       "      <th>Res_4</th>\n",
       "      <th>Res_5</th>\n",
       "    </tr>\n",
       "    <tr>\n",
       "      <th>days</th>\n",
       "      <th></th>\n",
       "      <th></th>\n",
       "      <th></th>\n",
       "      <th></th>\n",
       "      <th></th>\n",
       "      <th></th>\n",
       "    </tr>\n",
       "  </thead>\n",
       "  <tbody>\n",
       "    <tr>\n",
       "      <th>0.0</th>\n",
       "      <td>15681.818182</td>\n",
       "      <td>10000.000000</td>\n",
       "      <td>11785.714286</td>\n",
       "      <td>14166.666667</td>\n",
       "      <td>17500.000000</td>\n",
       "      <td>14166.666667</td>\n",
       "    </tr>\n",
       "    <tr>\n",
       "      <th>1.0</th>\n",
       "      <td>16730.769231</td>\n",
       "      <td>11785.714286</td>\n",
       "      <td>11785.714286</td>\n",
       "      <td>15681.818182</td>\n",
       "      <td>18776.595745</td>\n",
       "      <td>15681.818182</td>\n",
       "    </tr>\n",
       "    <tr>\n",
       "      <th>2.0</th>\n",
       "      <td>17500.000000</td>\n",
       "      <td>12425.373134</td>\n",
       "      <td>12884.615385</td>\n",
       "      <td>17500.000000</td>\n",
       "      <td>19722.222222</td>\n",
       "      <td>16730.769231</td>\n",
       "    </tr>\n",
       "    <tr>\n",
       "      <th>3.0</th>\n",
       "      <td>19722.222222</td>\n",
       "      <td>13629.032258</td>\n",
       "      <td>14166.666667</td>\n",
       "      <td>19722.222222</td>\n",
       "      <td>22500.000000</td>\n",
       "      <td>17500.000000</td>\n",
       "    </tr>\n",
       "    <tr>\n",
       "      <th>6.0</th>\n",
       "      <td>21309.523810</td>\n",
       "      <td>14166.666667</td>\n",
       "      <td>15681.818182</td>\n",
       "      <td>22500.000000</td>\n",
       "      <td>23815.789474</td>\n",
       "      <td>18776.595745</td>\n",
       "    </tr>\n",
       "    <tr>\n",
       "      <th>9.0</th>\n",
       "      <td>22500.000000</td>\n",
       "      <td>15681.818182</td>\n",
       "      <td>15681.818182</td>\n",
       "      <td>22500.000000</td>\n",
       "      <td>26071.428571</td>\n",
       "      <td>19722.222222</td>\n",
       "    </tr>\n",
       "    <tr>\n",
       "      <th>16.0</th>\n",
       "      <td>26071.428571</td>\n",
       "      <td>16547.619048</td>\n",
       "      <td>17500.000000</td>\n",
       "      <td>22500.000000</td>\n",
       "      <td>28269.230769</td>\n",
       "      <td>21029.411765</td>\n",
       "    </tr>\n",
       "    <tr>\n",
       "      <th>23.0</th>\n",
       "      <td>28750.000000</td>\n",
       "      <td>17500.000000</td>\n",
       "      <td>18333.333333</td>\n",
       "      <td>26071.428571</td>\n",
       "      <td>28750.000000</td>\n",
       "      <td>21309.523810</td>\n",
       "    </tr>\n",
       "    <tr>\n",
       "      <th>37.0</th>\n",
       "      <td>30833.333333</td>\n",
       "      <td>22500.000000</td>\n",
       "      <td>22500.000000</td>\n",
       "      <td>33214.285714</td>\n",
       "      <td>30833.333333</td>\n",
       "      <td>22500.000000</td>\n",
       "    </tr>\n",
       "  </tbody>\n",
       "</table>\n",
       "</div>"
      ],
      "text/plain": [
       "             Res_0         Res_1         Res_2         Res_3         Res_4  \\\n",
       "days                                                                         \n",
       "0.0   15681.818182  10000.000000  11785.714286  14166.666667  17500.000000   \n",
       "1.0   16730.769231  11785.714286  11785.714286  15681.818182  18776.595745   \n",
       "2.0   17500.000000  12425.373134  12884.615385  17500.000000  19722.222222   \n",
       "3.0   19722.222222  13629.032258  14166.666667  19722.222222  22500.000000   \n",
       "6.0   21309.523810  14166.666667  15681.818182  22500.000000  23815.789474   \n",
       "9.0   22500.000000  15681.818182  15681.818182  22500.000000  26071.428571   \n",
       "16.0  26071.428571  16547.619048  17500.000000  22500.000000  28269.230769   \n",
       "23.0  28750.000000  17500.000000  18333.333333  26071.428571  28750.000000   \n",
       "37.0  30833.333333  22500.000000  22500.000000  33214.285714  30833.333333   \n",
       "\n",
       "             Res_5  \n",
       "days                \n",
       "0.0   14166.666667  \n",
       "1.0   15681.818182  \n",
       "2.0   16730.769231  \n",
       "3.0   17500.000000  \n",
       "6.0   18776.595745  \n",
       "9.0   19722.222222  \n",
       "16.0  21029.411765  \n",
       "23.0  21309.523810  \n",
       "37.0  22500.000000  "
      ]
     },
     "execution_count": 2,
     "metadata": {},
     "output_type": "execute_result"
    }
   ],
   "source": [
    "data = pd.read_csv('group2.csv', index_col=0)\n",
    "data.index = pd.to_datetime(data.index)\n",
    "data['days'] = data.index\n",
    "data.days = data.days.diff().dt.days\n",
    "data.days = data.days.fillna(0).cumsum()\n",
    "#data.index = pd.to_datetime(data.index)\n",
    "data.index = data.days\n",
    "data = data.drop('days', axis=1)\n",
    "data"
   ]
  },
  {
   "cell_type": "code",
   "execution_count": 3,
   "metadata": {},
   "outputs": [
    {
     "data": {
      "image/png": "[encoded data removed]",
      "text/plain": [
       "<Figure size 432x288 with 1 Axes>"
      ]
     },
     "metadata": {
      "needs_background": "light"
     },
     "output_type": "display_data"
    }
   ],
   "source": [
    "for i, c in enumerate(data.columns):\n",
    "    x, y = data.index, data[c]\n",
    "    plt.plot(data.index, data[c], '.', c=FC.liste[i], ms=15)\n",
    "    # plt.plot(data.index, data[c], '--', c=FC.liste[i], linewidth=1, alpha=0.3)\n",
    "plt.ylabel('Resistance ($\\Omega$)', fontsize=15);\n",
    "plt.xlabel('Time (day)', fontsize=15);\n",
    "plt.xticks(fontsize=13)\n",
    "plt.yticks(fontsize=13)\n",
    "plt.savefig(f'./figures/resistance.pdf', format='pdf', bbox_inches='tight')"
   ]
  },
  {
   "cell_type": "code",
   "execution_count": 4,
   "metadata": {},
   "outputs": [
    {
     "data": {
      "image/png": "[encoded data removed]",
      "text/plain": [
       "<Figure size 432x288 with 1 Axes>"
      ]
     },
     "metadata": {
      "needs_background": "light"
     },
     "output_type": "display_data"
    }
   ],
   "source": [
    "for i, c in enumerate(data.columns):\n",
    "    x, y = data.index, data[c]\n",
    "    plt.plot(data.index, 1/data[c], '.', c=FC.liste[i], ms=15)\n",
    "    # plt.plot(data.index, 1/data[c], '--', c=FC.liste[i], linewidth=1, alpha=0.3)\n",
    "plt.ylabel('Conductence ($1/\\Omega$)', fontsize=15);\n",
    "plt.xlabel('Time (day)', fontsize=15);\n",
    "plt.xticks(fontsize=13)\n",
    "plt.yticks(fontsize=13)\n",
    "plt.ticklabel_format(axis=\"y\", style=\"sci\", scilimits=(0,0))\n",
    "plt.savefig(f'./figures/conductance.pdf', format='pdf', bbox_inches='tight')"
   ]
  },
  {
   "cell_type": "code",
   "execution_count": 5,
   "metadata": {},
   "outputs": [
    {
     "data": {
      "text/plain": [
       "array([6.37681159e-05, 1.00000000e-04, 8.48484848e-05, 7.05882353e-05,\n",
       "       5.71428571e-05, 7.05882353e-05])"
      ]
     },
     "execution_count": 5,
     "metadata": {},
     "output_type": "execute_result"
    }
   ],
   "source": [
    "g_initial = 1/data.min()\n",
    "g_initial = g_initial.to_numpy()\n",
    "g_initial"
   ]
  },
  {
   "cell_type": "code",
   "execution_count": 6,
   "metadata": {},
   "outputs": [
    {
     "data": {
      "text/html": [
       "<div>\n",
       "<style scoped>\n",
       "    .dataframe tbody tr th:only-of-type {\n",
       "        vertical-align: middle;\n",
       "    }\n",
       "\n",
       "    .dataframe tbody tr th {\n",
       "        vertical-align: top;\n",
       "    }\n",
       "\n",
       "    .dataframe thead th {\n",
       "        text-align: right;\n",
       "    }\n",
       "</style>\n",
       "<table border=\"1\" class=\"dataframe\">\n",
       "  <thead>\n",
       "    <tr style=\"text-align: right;\">\n",
       "      <th></th>\n",
       "      <th>Cond_0</th>\n",
       "      <th>Cond_1</th>\n",
       "      <th>Cond_2</th>\n",
       "      <th>Cond_3</th>\n",
       "      <th>Cond_4</th>\n",
       "      <th>Cond_5</th>\n",
       "    </tr>\n",
       "    <tr>\n",
       "      <th>days</th>\n",
       "      <th></th>\n",
       "      <th></th>\n",
       "      <th></th>\n",
       "      <th></th>\n",
       "      <th></th>\n",
       "      <th></th>\n",
       "    </tr>\n",
       "  </thead>\n",
       "  <tbody>\n",
       "    <tr>\n",
       "      <th>0.000000</th>\n",
       "      <td>1.000000</td>\n",
       "      <td>1.000000</td>\n",
       "      <td>1.000000</td>\n",
       "      <td>1.000000</td>\n",
       "      <td>1.000000</td>\n",
       "      <td>1.000000</td>\n",
       "    </tr>\n",
       "    <tr>\n",
       "      <th>0.027027</th>\n",
       "      <td>0.937304</td>\n",
       "      <td>0.848485</td>\n",
       "      <td>1.000000</td>\n",
       "      <td>0.903382</td>\n",
       "      <td>0.932011</td>\n",
       "      <td>0.903382</td>\n",
       "    </tr>\n",
       "    <tr>\n",
       "      <th>0.054054</th>\n",
       "      <td>0.896104</td>\n",
       "      <td>0.804805</td>\n",
       "      <td>0.914712</td>\n",
       "      <td>0.809524</td>\n",
       "      <td>0.887324</td>\n",
       "      <td>0.846743</td>\n",
       "    </tr>\n",
       "    <tr>\n",
       "      <th>0.081081</th>\n",
       "      <td>0.795134</td>\n",
       "      <td>0.733728</td>\n",
       "      <td>0.831933</td>\n",
       "      <td>0.718310</td>\n",
       "      <td>0.777778</td>\n",
       "      <td>0.809524</td>\n",
       "    </tr>\n",
       "    <tr>\n",
       "      <th>0.162162</th>\n",
       "      <td>0.735907</td>\n",
       "      <td>0.705882</td>\n",
       "      <td>0.751553</td>\n",
       "      <td>0.629630</td>\n",
       "      <td>0.734807</td>\n",
       "      <td>0.754485</td>\n",
       "    </tr>\n",
       "    <tr>\n",
       "      <th>0.243243</th>\n",
       "      <td>0.696970</td>\n",
       "      <td>0.637681</td>\n",
       "      <td>0.751553</td>\n",
       "      <td>0.629630</td>\n",
       "      <td>0.671233</td>\n",
       "      <td>0.718310</td>\n",
       "    </tr>\n",
       "    <tr>\n",
       "      <th>0.432432</th>\n",
       "      <td>0.601494</td>\n",
       "      <td>0.604317</td>\n",
       "      <td>0.673469</td>\n",
       "      <td>0.629630</td>\n",
       "      <td>0.619048</td>\n",
       "      <td>0.673660</td>\n",
       "    </tr>\n",
       "    <tr>\n",
       "      <th>0.621622</th>\n",
       "      <td>0.545455</td>\n",
       "      <td>0.571429</td>\n",
       "      <td>0.642857</td>\n",
       "      <td>0.543379</td>\n",
       "      <td>0.608696</td>\n",
       "      <td>0.664804</td>\n",
       "    </tr>\n",
       "    <tr>\n",
       "      <th>1.000000</th>\n",
       "      <td>0.508600</td>\n",
       "      <td>0.444444</td>\n",
       "      <td>0.523810</td>\n",
       "      <td>0.426523</td>\n",
       "      <td>0.567568</td>\n",
       "      <td>0.629630</td>\n",
       "    </tr>\n",
       "  </tbody>\n",
       "</table>\n",
       "</div>"
      ],
      "text/plain": [
       "            Cond_0    Cond_1    Cond_2    Cond_3    Cond_4    Cond_5\n",
       "days                                                                \n",
       "0.000000  1.000000  1.000000  1.000000  1.000000  1.000000  1.000000\n",
       "0.027027  0.937304  0.848485  1.000000  0.903382  0.932011  0.903382\n",
       "0.054054  0.896104  0.804805  0.914712  0.809524  0.887324  0.846743\n",
       "0.081081  0.795134  0.733728  0.831933  0.718310  0.777778  0.809524\n",
       "0.162162  0.735907  0.705882  0.751553  0.629630  0.734807  0.754485\n",
       "0.243243  0.696970  0.637681  0.751553  0.629630  0.671233  0.718310\n",
       "0.432432  0.601494  0.604317  0.673469  0.629630  0.619048  0.673660\n",
       "0.621622  0.545455  0.571429  0.642857  0.543379  0.608696  0.664804\n",
       "1.000000  0.508600  0.444444  0.523810  0.426523  0.567568  0.629630"
      ]
     },
     "execution_count": 6,
     "metadata": {},
     "output_type": "execute_result"
    }
   ],
   "source": [
    "data = data/data.min()  # ratio to initial value\n",
    "data = 1/data\n",
    "data.index = data.index/data.index.max()\n",
    "data.columns = ['Cond_{}'.format(i) for i in range(data.shape[1])]\n",
    "data"
   ]
  },
  {
   "cell_type": "code",
   "execution_count": 7,
   "metadata": {},
   "outputs": [
    {
     "data": {
      "image/png": "[encoded data removed]",
      "text/plain": [
       "<Figure size 432x288 with 1 Axes>"
      ]
     },
     "metadata": {
      "needs_background": "light"
     },
     "output_type": "display_data"
    }
   ],
   "source": [
    "for i, c in enumerate(data.columns):\n",
    "    plt.plot(data.index, data[c], '.', c=FC.liste[i], ms=15)\n",
    "    # plt.plot(data.index, data[c], '--', c=FC.liste[i], linewidth=1, alpha=0.3)\n",
    "plt.ylabel(f'Relative conductances/\\nAging factors$', fontsize=15);\n",
    "plt.xlabel('Normalized time $t$', fontsize=15);\n",
    "plt.xticks(fontsize=13)\n",
    "plt.yticks(fontsize=13)\n",
    "plt.savefig(f'./figures/normolized_conductance.pdf', format='pdf', bbox_inches='tight')"
   ]
  },
  {
   "cell_type": "markdown",
   "metadata": {},
   "source": [
    "## Aging Model: $\\theta(t)=\\theta_{\\rm init}\\cdot\\mathop{A}(t)$"
   ]
  },
  {
   "cell_type": "markdown",
   "metadata": {},
   "source": [
    "# Fit Model"
   ]
  },
  {
   "cell_type": "code",
   "execution_count": null,
   "metadata": {},
   "outputs": [],
   "source": [
    "from scipy.optimize import curve_fit\n",
    "from scipy.special import comb\n",
    "\n",
    "\n",
    "def get_piecewise_linear(x, *params):\n",
    "    ''' \n",
    "    approximate the aging by two-segment linear function\n",
    "    '''\n",
    "\n",
    "    m0, m1, b1 = params\n",
    "    b0 = 1\n",
    "\n",
    "    def mod(z): return max(z*m0 + b0, z*m1 + b1)\n",
    "\n",
    "    return np.array([mod(xi) for xi in x])\n",
    "\n",
    "\n",
    "def get_exponential_function(x, *params):\n",
    "    '''\n",
    "    approximate the aging by exponential function\n",
    "    '''\n",
    "    a, b = params\n",
    "    return a * np.exp(b * x) + 1 - a"
   ]
  },
  {
   "cell_type": "code",
   "execution_count": null,
   "metadata": {},
   "outputs": [],
   "source": [
    "p0 = np.array([-5, -.1, .5])\n",
    "vals = np.linspace(0, 1)\n",
    "plt.plot(vals, get_piecewise_linear(vals, *p0), c=FC.Black)\n",
    "plt.ylabel('Aging curve $A(t)$', fontsize=15)\n",
    "plt.xlabel('Normalized time $t$', fontsize=15)\n",
    "# plt.title('Double linear model')\n",
    "plt.savefig(f'./figures/linearmodel.pdf', format='pdf', bbox_inches='tight')"
   ]
  },
  {
   "cell_type": "code",
   "execution_count": null,
   "metadata": {},
   "outputs": [],
   "source": [
    "params = [1, -10]\n",
    "vals = np.linspace(0, 1)\n",
    "plt.plot(vals, get_exponential_function(vals, *params), c=FC.Black)\n",
    "plt.ylabel('Aging curve $A(t)$', fontsize=15)\n",
    "plt.xlabel('Normalized time $t$', fontsize=15)\n",
    "# plt.title('Exponential aging model')\n",
    "plt.savefig(f'./figures/exponentialmodel.pdf', format='pdf', bbox_inches='tight')"
   ]
  },
  {
   "cell_type": "markdown",
   "metadata": {},
   "source": [
    "## Approximation"
   ]
  },
  {
   "cell_type": "code",
   "execution_count": null,
   "metadata": {},
   "outputs": [],
   "source": [
    "fig, ax = plt.subplots(ncols=len(data.columns), figsize=(20, 4))\n",
    "\n",
    "# bounds and starting value for fitting\n",
    "# np.array([-2, -1, -3])  # <--------------------- the more numbers you put there the more params you have !\n",
    "p0 = np.array([-10, -.1, .5])\n",
    "bnds = [[-np.inf, -np.inf, -np.inf], [0, 0, 1]]\n",
    "#bnds = list(zip(*[(-np.inf, 0)]*len(p0)))\n",
    "\n",
    "param_sets_linear = []\n",
    "for i, c in enumerate(data.columns):\n",
    "\n",
    "    x, y = data.index, data[c]\n",
    "    ax[i].plot(data.index, data[c], '.', c=FC.Blue, ms=15)\n",
    "\n",
    "    re = curve_fit(get_piecewise_linear, xdata=x, ydata=y,\n",
    "                   p0=p0, maxfev=2000, bounds=bnds)[0]\n",
    "    ax[i].plot(vals, get_piecewise_linear(vals, *re), c=FC.Pink, lw=3)\n",
    "    ax[i].set_title(f'Res. {i}', fontsize=15)\n",
    "    ax[i].set_xlabel('$t$', fontsize=15)\n",
    "    p0 = re\n",
    "    param_sets_linear.append(re)\n",
    "ax[0].set_ylabel('Aging curve $A(t)$', fontsize=15)\n",
    "plt.savefig(f'./figures/linearapproximation.pdf', format='pdf', bbox_inches='tight')"
   ]
  },
  {
   "cell_type": "code",
   "execution_count": null,
   "metadata": {},
   "outputs": [],
   "source": [
    "As = []\n",
    "Bs = []\n",
    "fig, ax = plt.subplots(ncols=len(data.columns), figsize=(20, 4))\n",
    "\n",
    "# bounds and starting value for fitting\n",
    "p0 = [1, -10]\n",
    "bnds = [[-np.inf, -np.inf], [np.inf, 0]]\n",
    "\n",
    "param_sets_exp = []\n",
    "for i, c in enumerate(data.columns):\n",
    "\n",
    "    x, y = data.index, data[c]\n",
    "    ax[i].plot(data.index, data[c], '.', c=FC.Blue, ms=15)\n",
    "\n",
    "    re = curve_fit(get_exponential_function, xdata=x, ydata=y,\n",
    "                   p0=p0, maxfev=2000, bounds=bnds)[0]\n",
    "    As.append(re[0])\n",
    "    Bs.append(re[1])\n",
    "    ax[i].plot(vals, get_exponential_function(vals, *re), c=FC.Pink, lw=3)\n",
    "    ax[i].set_title(f'Res. {i}', fontsize=15)\n",
    "    ax[i].set_xlabel('$t$', fontsize=15)\n",
    "    p0 = re\n",
    "    param_sets_exp.append(re)\n",
    "ax[0].set_ylabel('Aging curve $A(t)$', fontsize=20)\n",
    "plt.savefig(f'./figures/exponentialapproximation.pdf', format='pdf', bbox_inches='tight')"
   ]
  },
  {
   "cell_type": "code",
   "execution_count": null,
   "metadata": {},
   "outputs": [],
   "source": [
    "As = np.array(As)\n",
    "Bs = np.array(Bs)\n",
    "Matrix = np.vstack((g_initial, As, Bs))\n",
    "R1 = np.corrcoef(Matrix)\n",
    "R1 * R1"
   ]
  },
  {
   "cell_type": "markdown",
   "metadata": {},
   "source": [
    "# Model the parameter distribution\n",
    "- Model the param sets with some distribution model, very simple independent sampling for now"
   ]
  },
  {
   "cell_type": "code",
   "execution_count": null,
   "metadata": {},
   "outputs": [],
   "source": [
    "param_data_linear_approx = pd.DataFrame(\n",
    "    param_sets_linear, columns=['m0', 'm1', 'b1'])\n",
    "params_scales = param_data_linear_approx.std()\n",
    "params_scales[param_data_linear_approx.max(0) < 0.001] = 0.\n",
    "param_data_linear_approx"
   ]
  },
  {
   "cell_type": "code",
   "execution_count": null,
   "metadata": {},
   "outputs": [],
   "source": [
    "param_data_exp_approx = pd.DataFrame(param_sets_exp, columns=['a', 'b'])\n",
    "params_scales = param_data_exp_approx.std()\n",
    "params_scales[param_data_exp_approx.max(0) < 0.001] = 0.\n",
    "param_data_exp_approx"
   ]
  },
  {
   "cell_type": "code",
   "execution_count": null,
   "metadata": {},
   "outputs": [],
   "source": [
    "from scipy.stats import norm, chi2, lognorm\n",
    "\n",
    "# maybe tranform them into a certain range and then invert them ?\n",
    "\n",
    "# some positive distribution to model the parameters\n",
    "# chi2 # lognorm #   <--------------------------------------------- can try different ones here\n",
    "base_dist = lognorm\n",
    "dists_linear = {c: base_dist(*base_dist.fit(param_data_linear_approx[c].abs(\n",
    ")/param_data_linear_approx[c].std())) for c in param_data_linear_approx.columns}\n",
    "\n",
    "fig, ax = plt.subplots(1, param_data_linear_approx.shape[1], figsize=(20, 5))\n",
    "for i, c in enumerate(param_data_linear_approx.columns):\n",
    "    ax[i].hist(dists_linear[c].rvs(100))\n",
    "    ax[i].set_title(c)"
   ]
  },
  {
   "cell_type": "code",
   "execution_count": null,
   "metadata": {},
   "outputs": [],
   "source": [
    "base_dist = lognorm\n",
    "dists_exp = {c: base_dist(*base_dist.fit(param_data_exp_approx[c].abs(\n",
    ")/param_data_exp_approx[c].std())) for c in param_data_exp_approx.columns}\n",
    "\n",
    "fig, ax = plt.subplots(1, param_data_exp_approx.shape[1], figsize=(20, 5))\n",
    "for i, c in enumerate(param_data_exp_approx.columns):\n",
    "    ax[i].hist(dists_exp[c].rvs(100))\n",
    "    ax[i].set_title(c)\n",
    "plt.savefig(f'./figures/factorsampling.pdf', format='pdf', bbox_inches='tight')"
   ]
  },
  {
   "cell_type": "markdown",
   "metadata": {},
   "source": [
    "# Draw samples "
   ]
  },
  {
   "cell_type": "code",
   "execution_count": null,
   "metadata": {},
   "outputs": [],
   "source": [
    "plt.xlabel('Normalized time $t$', fontsize=15)\n",
    "plt.ylabel('Aging curves $A{\\omega}(t)$', fontsize=15)\n",
    "plt.xticks(fontsize=13)\n",
    "plt.yticks(fontsize=13)\n",
    "\n",
    "def get_param_sample():\n",
    "    ''' samples from the param distributions '''\n",
    "    return np.array([dists_linear[c].rvs(1)*param_data_linear_approx[c].std() for c in param_data_linear_approx.columns]).ravel()\n",
    "\n",
    "\n",
    "def transform_sample(x):\n",
    "    ''' negates first entries '''\n",
    "    return np.r_[-x[:-1], x[-1]]\n",
    "\n",
    "\n",
    "np.random.seed(2)\n",
    "for i in range(100):\n",
    "    plt.plot(vals, get_piecewise_linear(\n",
    "        vals, *transform_sample(get_param_sample())), alpha=.2, )\n",
    "\n",
    "for i, c in enumerate(data.columns):\n",
    "    x, y = data.index, data[c]\n",
    "    plt.scatter(data.index, data[c])"
   ]
  },
  {
   "cell_type": "code",
   "execution_count": null,
   "metadata": {},
   "outputs": [],
   "source": [
    "plt.xlabel('Normalized time $t$', fontsize=15)\n",
    "plt.ylabel('Aging curves $A{\\omega}(t)$', fontsize=15)\n",
    "plt.xticks(fontsize=13)\n",
    "plt.yticks(fontsize=13)\n",
    "\n",
    "def get_param_sample():\n",
    "    ''' samples from the param distributions '''\n",
    "    return np.array([dists_exp[c].rvs(1)*param_data_exp_approx[c].std() for c in param_data_exp_approx.columns]).ravel()\n",
    "\n",
    "\n",
    "def transform_sample(x):\n",
    "    ''' negates first entries '''\n",
    "    return np.r_[x[0], -x[1]]\n",
    "\n",
    "\n",
    "np.random.seed(2)\n",
    "for i in range(100):\n",
    "    plt.plot(vals, get_exponential_function(\n",
    "        vals, *transform_sample(get_param_sample())), alpha=.2, )\n",
    "\n",
    "for i, c in enumerate(data.columns):\n",
    "    x, y = data.index, data[c]\n",
    "    plt.scatter(data.index, data[c])\n",
    "plt.savefig(f'./figures/randomagingmodels.pdf', format='pdf', bbox_inches='tight')"
   ]
  },
  {
   "cell_type": "markdown",
   "metadata": {},
   "source": [
    "# Aging model generator"
   ]
  },
  {
   "cell_type": "code",
   "execution_count": null,
   "metadata": {},
   "outputs": [],
   "source": [
    "import aging_model_generator as amg\n",
    "import importlib\n",
    "importlib.reload(amg)\n",
    "\n",
    "linear_aging_model_generator = amg.Linear_aging_model_sampler(\n",
    "    dists_linear, param_data_linear_approx)\n",
    "exp_aging_model_generator = amg.Exp_aging_model_sampler(\n",
    "    dists_exp, param_data_exp_approx)"
   ]
  },
  {
   "cell_type": "code",
   "execution_count": null,
   "metadata": {},
   "outputs": [],
   "source": [
    "test_linear = linear_aging_model_generator\n",
    "test_exp = exp_aging_model_generator"
   ]
  },
  {
   "cell_type": "code",
   "execution_count": null,
   "metadata": {},
   "outputs": [],
   "source": [
    "tut_linear = test_linear.get_models(10)\n",
    "vals = np.linspace(0, 1)\n",
    "for i in range(10):\n",
    "    plt.plot(vals, tut_linear[i](vals))"
   ]
  },
  {
   "cell_type": "code",
   "execution_count": null,
   "metadata": {},
   "outputs": [],
   "source": [
    "tut_exp = test_exp.get_models(10)\n",
    "for i in range(10):\n",
    "    plt.plot(vals, tut_exp[i](vals))"
   ]
  },
  {
   "cell_type": "code",
   "execution_count": null,
   "metadata": {},
   "outputs": [],
   "source": [
    "import pickle\n",
    "with open('linear_aging_model.p', 'wb') as f:\n",
    "    pickle.dump(linear_aging_model_generator, f)"
   ]
  },
  {
   "cell_type": "code",
   "execution_count": null,
   "metadata": {},
   "outputs": [],
   "source": [
    "with open('exp_aging_model.p', 'wb') as f:\n",
    "    pickle.dump(exp_aging_model_generator, f)"
   ]
  },
  {
   "cell_type": "code",
   "execution_count": null,
   "metadata": {},
   "outputs": [],
   "source": [
    "with open('linear_aging_model.p', 'rb') as f:\n",
    "    try_linear = pickle.load(f)\n",
    "linear_temp = try_linear.get_models(10)\n",
    "for i in range(10):\n",
    "    plt.plot(vals, linear_temp[i](vals))"
   ]
  },
  {
   "cell_type": "code",
   "execution_count": null,
   "metadata": {},
   "outputs": [],
   "source": [
    "with open('exp_aging_model.p', 'rb') as f:\n",
    "    try_exp = pickle.load(f)\n",
    "exp_temp = try_exp.get_models(10)\n",
    "for i in range(10):\n",
    "    plt.plot(vals, exp_temp[i](vals))"
   ]
  },
  {
   "cell_type": "code",
   "execution_count": null,
   "metadata": {},
   "outputs": [],
   "source": []
  }
 ],
 "metadata": {
  "kernelspec": {
   "display_name": "MachineLearning",
   "language": "python",
   "name": "machinelearning"
  },
  "language_info": {
   "codemirror_mode": {
    "name": "ipython",
    "version": 3
   },
   "file_extension": ".py",
   "mimetype": "text/x-python",
   "name": "python",
   "nbconvert_exporter": "python",
   "pygments_lexer": "ipython3",
   "version": "3.8.12"
  },
  "toc": {
   "base_numbering": 1,
   "nav_menu": {},
   "number_sections": true,
   "sideBar": true,
   "skip_h1_title": false,
   "title_cell": "Table of Contents",
   "title_sidebar": "Contents",
   "toc_cell": false,
   "toc_position": {},
   "toc_section_display": true,
   "toc_window_display": false
  }
 },
 "nbformat": 4,
 "nbformat_minor": 4
}
