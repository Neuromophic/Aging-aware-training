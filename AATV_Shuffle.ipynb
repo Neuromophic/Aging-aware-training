{
 "cells": [
  {
   "cell_type": "markdown",
   "id": "e0f1319a",
   "metadata": {},
   "source": [
    "# Aging Aware with Model Variation\n",
    "Previously, we optimize the following functional:\n",
    "$$ \\min_\\theta \\, \\int_{t=0}^{1} \\; L(\\theta(t)) \\, {\\rm d}t. $$\n",
    "The optimum is for a specific aging model $\\omega$, i.e., we minimized the \n",
    "$$ \\min_\\theta \\, \\int_{t=0}^{1} \\; L(\\theta(t,\\omega)) \\, {\\rm d}t. $$\n",
    "However, we dont know how will the resistance decay, i.e., we should also minimize the loss function w.r.t. aging models with different parameters. That means we need to optimized\n",
    "$$ \\min_\\theta \\, \\int_{\\omega}\\int_{t=0}^{1} \\; L(\\theta(t,\\omega)) \\, {\\rm d}t\\, p(\\omega){\\rm d}\\omega. $$\n",
    "The Mento Carlo Approximation is then\n",
    "$$\n",
    "\\min_{\\theta_{\\rm init}} \\frac{1}{\\Omega}\\frac{1}{K}\\sum_{\\omega\\in\\mathfrak{M}}\\sum_{k\\in \\mathfrak{K} } L \\left(\\theta[k, \\omega]\\right),\n",
    "$$\n",
    "where $\\mathfrak{M}$ is the set of $\\Omega$ elements following the distribution $p(\\omega)$. $p(\\omega)$ is the distributions of parameters of the aging model. We have already obtained these distributions as we modeled the aging decay.\n",
    "\n",
    "That means we should optimize this problem by\n",
    "$$\n",
    "\\begin{align}\n",
    "\\theta_{\\rm init}&:=\\theta_{\\rm init} - \\alpha\\cdot\\nabla_{\\theta_{\\rm init}}\\left(\\frac{1}{\\Omega}\\frac{1}{K}\\sum_{\\omega\\in\\mathfrak{M}}\\sum_{k\\in \\mathfrak{K} } L \\left(\\theta[k, \\omega]\\right)\\right)\\\\\n",
    "&=\\theta_{\\rm init} - \\frac{\\alpha}{\\Omega K}\\cdot\\nabla_{\\theta_{\\rm init}}\\left(\\sum_{\\omega\\in\\mathfrak{M}}\\sum_{k\\in \\mathfrak{K} } L \\left(\\theta[k, \\omega]\\right)\\right)\\\\\n",
    "&=\\theta_{\\rm init} - \\frac{\\alpha}{\\Omega K}\\left(\\sum_{\\omega\\in\\mathfrak{M}}\\sum_{k\\in \\mathfrak{K} }\\nabla_{\\theta_{\\rm init}} L \\left(\\theta[k, \\omega]\\right)\\right)\n",
    "\\end{align}\n",
    "$$"
   ]
  },
  {
   "cell_type": "markdown",
   "id": "eab183f8",
   "metadata": {},
   "source": [
    "# Import library"
   ]
  },
  {
   "cell_type": "code",
   "execution_count": 1,
   "id": "0bc40b33",
   "metadata": {},
   "outputs": [],
   "source": [
    "import importlib\n",
    "from torch.autograd import Variable\n",
    "import torch\n",
    "import pickle\n",
    "import os\n",
    "import sys\n",
    "import matplotlib.pyplot as plt\n",
    "import numpy as np\n",
    "import pNN_aging_aware_vectorization as pnnv\n",
    "import training_vectorization as tv\n",
    "import random\n",
    "sys.path.append(os.path.join(os.getcwd(), 'Aging_Model'))"
   ]
  },
  {
   "cell_type": "markdown",
   "id": "af93c27e-7559-466e-9a0f-084e03f0c576",
   "metadata": {},
   "source": [
    "# Random Seed"
   ]
  },
  {
   "cell_type": "code",
   "execution_count": 2,
   "id": "66785455-86c3-4e9a-a35e-4bd3c3f465eb",
   "metadata": {},
   "outputs": [],
   "source": [
    "seed = 1\n",
    "\n",
    "random.seed(seed);\n",
    "np.random.seed(seed);\n",
    "torch.manual_seed(seed);"
   ]
  },
  {
   "cell_type": "markdown",
   "id": "9b31036f-1808-460e-a011-acd675130bb5",
   "metadata": {},
   "source": [
    "# Get Aging Model"
   ]
  },
  {
   "cell_type": "code",
   "execution_count": 3,
   "id": "ba549dc5-0e02-4b8d-aefa-05764dfcfde6",
   "metadata": {},
   "outputs": [],
   "source": [
    "with open(os.path.join(os.getcwd(), 'Aging_Model', 'exp_aging_model.p'), 'rb') as f:\n",
    "    age_generator = pickle.load(f)"
   ]
  },
  {
   "cell_type": "markdown",
   "id": "1026bd3c",
   "metadata": {},
   "source": [
    "# Device"
   ]
  },
  {
   "cell_type": "code",
   "execution_count": 4,
   "id": "b0e91163",
   "metadata": {},
   "outputs": [
    {
     "data": {
      "text/plain": [
       "device(type='cuda', index=1)"
      ]
     },
     "execution_count": 4,
     "metadata": {},
     "output_type": "execute_result"
    }
   ],
   "source": [
    "device = torch.device('cuda' if torch.cuda.is_available() else 'cpu')\n",
    "# device = torch.device('cuda:0')\n",
    "device"
   ]
  },
  {
   "cell_type": "markdown",
   "id": "15519567",
   "metadata": {},
   "source": [
    "# Prepare data"
   ]
  },
  {
   "cell_type": "markdown",
   "id": "f224be26-e399-42a8-9c96-e285490e8916",
   "metadata": {},
   "source": [
    "## Dataset"
   ]
  },
  {
   "cell_type": "code",
   "execution_count": 5,
   "id": "92014c65-5b5c-4b61-93ef-30f044282eb3",
   "metadata": {},
   "outputs": [],
   "source": [
    "ds = 'Shuffle'"
   ]
  },
  {
   "cell_type": "markdown",
   "id": "3f9b925b",
   "metadata": {},
   "source": [
    "## Load data"
   ]
  },
  {
   "cell_type": "code",
   "execution_count": 6,
   "id": "fd3f8c31",
   "metadata": {},
   "outputs": [
    {
     "data": {
      "text/plain": [
       "(torch.Size([58000, 9]), torch.Size([58000]), 58000, 9, 7)"
      ]
     },
     "execution_count": 6,
     "metadata": {},
     "output_type": "execute_result"
    }
   ],
   "source": [
    "datapath = os.path.join(os.getcwd(), 'Datasets', 'Haibin',\n",
    "                        'data_processed', f'Dataset_{ds}.p')\n",
    "with open(datapath, 'rb') as f:\n",
    "    dataset = pickle.load(f)\n",
    "X = dataset['X'].float()\n",
    "y = dataset['y']\n",
    "\n",
    "E, N_features, N_class = X.shape[0], X.shape[1], torch.max(\n",
    "    torch.unique(y)).item()+1\n",
    "X.shape, y.shape, E, N_features, N_class"
   ]
  },
  {
   "cell_type": "markdown",
   "id": "35adbc19",
   "metadata": {},
   "source": [
    "## Pseudo-electrical Signal"
   ]
  },
  {
   "cell_type": "code",
   "execution_count": 7,
   "id": "ea0969cc",
   "metadata": {},
   "outputs": [
    {
     "data": {
      "text/plain": [
       "(tensor(0.), tensor(1.))"
      ]
     },
     "execution_count": 7,
     "metadata": {},
     "output_type": "execute_result"
    }
   ],
   "source": [
    "X = X / (torch.max(X, axis=0)[0] - torch.min(X, axis=0)[0])\n",
    "X = X - torch.min(X, axis=0)[0]\n",
    "torch.min(X), torch.max(X)"
   ]
  },
  {
   "cell_type": "code",
   "execution_count": 8,
   "id": "9d04d54b",
   "metadata": {},
   "outputs": [
    {
     "data": {
      "text/plain": [
       "tensor([[0.2323, 0.4893, 0.4375, 0.5070, 0.3462, 0.6381, 0.4902, 0.6437, 0.6077],\n",
       "        [0.2828, 0.4872, 0.5547, 0.5070, 0.3013, 0.6387, 0.5490, 0.7143, 0.6624],\n",
       "        [0.2626, 0.4872, 0.4766, 0.5070, 0.3846, 0.6380, 0.5033, 0.6148, 0.5756],\n",
       "        [0.1010, 0.4872, 0.4297, 0.5070, 0.3462, 0.6385, 0.5752, 0.6437, 0.5852],\n",
       "        [0.1010, 0.4872, 0.4531, 0.5070, 0.3558, 0.6375, 0.5948, 0.6404, 0.5756],\n",
       "        [0.5859, 0.4872, 0.5234, 0.5065, 0.3109, 0.6381, 0.3333, 0.6998, 0.7010],\n",
       "        [0.2929, 0.4872, 0.4688, 0.5070, 0.2949, 0.6384, 0.4771, 0.7047, 0.6720],\n",
       "        [0.2828, 0.4871, 0.5781, 0.5066, 0.3878, 0.6380, 0.5752, 0.6324, 0.5756],\n",
       "        [0.2626, 0.4880, 0.4375, 0.5070, 0.3462, 0.6381, 0.4641, 0.6437, 0.6109],\n",
       "        [0.1010, 0.4872, 0.6250, 0.5061, 0.3462, 0.6381, 0.7320, 0.6838, 0.5852]])"
      ]
     },
     "execution_count": 8,
     "metadata": {},
     "output_type": "execute_result"
    }
   ],
   "source": [
    "X[:10, :9]"
   ]
  },
  {
   "cell_type": "code",
   "execution_count": 9,
   "id": "6d30ecfc",
   "metadata": {},
   "outputs": [
    {
     "data": {
      "text/plain": [
       "(4096, 1024, 1024)"
      ]
     },
     "execution_count": 9,
     "metadata": {},
     "output_type": "execute_result"
    }
   ],
   "source": [
    "from torch.utils.data import TensorDataset\n",
    "from torch.utils.data import DataLoader\n",
    "from torch.utils.data import random_split\n",
    "\n",
    "# generate tensordataset\n",
    "dataset = TensorDataset(X.to(device), y.to(device))\n",
    "\n",
    "# split\n",
    "train_rate = 0.6\n",
    "test_rate = 0.2\n",
    "valid_rate = 0.2\n",
    "E_train = min(4096, int(E*train_rate))\n",
    "E_test = min(1024, int(E*test_rate))\n",
    "E_valid = min(1024, int(E*valid_rate))\n",
    "\n",
    "train_data, rest_data = random_split(dataset, [E_train, E-E_train])\n",
    "test_data, rest_data = random_split(rest_data, [E_test, E-E_train-E_test])\n",
    "valid_data, rest_data = random_split(rest_data, [E_valid, E-E_train-E_test-E_valid])\n",
    "\n",
    "len(train_data), len(test_data), len(valid_data)"
   ]
  },
  {
   "cell_type": "code",
   "execution_count": 10,
   "id": "4f8988b7",
   "metadata": {},
   "outputs": [],
   "source": [
    "# batch\n",
    "train_loader = DataLoader(train_data, batch_size=len(train_data))\n",
    "test_loader = DataLoader(test_data, batch_size=len(test_data))\n",
    "valid_loader = DataLoader(valid_data, batch_size=len(valid_data))"
   ]
  },
  {
   "cell_type": "markdown",
   "id": "bb0f57e2",
   "metadata": {},
   "source": [
    "# Hyperparameter"
   ]
  },
  {
   "cell_type": "code",
   "execution_count": 11,
   "id": "608550a4",
   "metadata": {},
   "outputs": [],
   "source": [
    "N_Hidden = 3\n",
    "m = 0.3\n",
    "T = 0.1\n",
    "M_train = 100\n",
    "K_train = 20\n",
    "M_test = 20\n",
    "K_test = 10"
   ]
  },
  {
   "cell_type": "markdown",
   "id": "98cf49ee-2bf2-4d63-8073-71feab7d7cff",
   "metadata": {},
   "source": [
    "# Normal NN"
   ]
  },
  {
   "cell_type": "markdown",
   "id": "f3030cec-d9a3-4baa-8fdf-778491a9e5b7",
   "metadata": {},
   "source": [
    "## Define"
   ]
  },
  {
   "cell_type": "code",
   "execution_count": 12,
   "id": "d8578200-6be0-46b8-81be-2d0726a9d4a0",
   "metadata": {},
   "outputs": [
    {
     "data": {
      "text/plain": [
       "Sequential(\n",
       "  (0): Linear(in_features=9, out_features=3, bias=True)\n",
       "  (1): Tanh()\n",
       "  (2): Linear(in_features=3, out_features=7, bias=True)\n",
       "  (3): Tanh()\n",
       ")"
      ]
     },
     "execution_count": 12,
     "metadata": {},
     "output_type": "execute_result"
    }
   ],
   "source": [
    "NN = torch.nn.Sequential(torch.nn.Linear(N_features, N_Hidden), torch.nn.Tanh(),\n",
    "                        torch.nn.Linear(N_Hidden, N_class), torch.nn.Tanh())\n",
    "\n",
    "\n",
    "def weights_init(m):\n",
    "    if isinstance(m, torch.nn.Linear):\n",
    "        torch.nn.init.xavier_uniform_(m.weight)\n",
    "        m.bias.data.fill_(0.01)\n",
    "\n",
    "NN.apply(weights_init)\n",
    "\n",
    "celoss = torch.nn.CrossEntropyLoss()\n",
    "NN.to(device)"
   ]
  },
  {
   "cell_type": "markdown",
   "id": "f3ad2024-6626-423b-b707-09c8d33e2dc2",
   "metadata": {},
   "source": [
    "## Training"
   ]
  },
  {
   "cell_type": "code",
   "execution_count": 13,
   "id": "22ff31fc-c84e-4a1f-a656-7807a6238aa2",
   "metadata": {},
   "outputs": [
    {
     "data": {
      "application/vnd.jupyter.widget-view+json": {
       "model_id": "ea599eefddb847c7b70f6aa4fff19c74",
       "version_major": 2,
       "version_minor": 0
      },
      "text/plain": [
       "  0%|          | 0/25000 [00:00<?, ?it/s]"
      ]
     },
     "metadata": {},
     "output_type": "display_data"
    },
    {
     "name": "stdout",
     "output_type": "stream",
     "text": [
      "| Epoch:     0 | Accuracy: 0.80371 | Loss: 1.625954032\n",
      "| Epoch:   500 | Accuracy: 0.91699 | Loss: 0.672137976\n",
      "| Epoch:  1000 | Accuracy: 0.91602 | Loss: 0.662190080\n",
      "| Epoch:  1500 | Accuracy: 0.91699 | Loss: 0.658846378\n",
      "| Epoch:  2000 | Accuracy: 0.91699 | Loss: 0.657235920\n",
      "| Epoch:  2500 | Accuracy: 0.91699 | Loss: 0.656301081\n",
      "| Epoch:  3000 | Accuracy: 0.91699 | Loss: 0.655686915\n",
      "| Epoch:  3500 | Accuracy: 0.91699 | Loss: 0.655458093\n",
      "| Epoch:  4000 | Accuracy: 0.91992 | Loss: 0.651467919\n",
      "| Epoch:  4500 | Accuracy: 0.93164 | Loss: 0.635364652\n",
      "| Epoch:  5000 | Accuracy: 0.93457 | Loss: 0.633547604\n",
      "| Epoch:  5500 | Accuracy: 0.93457 | Loss: 0.632523417\n",
      "| Epoch:  6000 | Accuracy: 0.93457 | Loss: 0.631898046\n",
      "| Epoch:  6500 | Accuracy: 0.93457 | Loss: 0.631520033\n",
      "| Epoch:  7000 | Accuracy: 0.93457 | Loss: 0.631048620\n",
      "| Epoch:  7500 | Accuracy: 0.93457 | Loss: 0.630657494\n",
      "| Epoch:  8000 | Accuracy: 0.93457 | Loss: 0.630334020\n",
      "| Epoch:  8500 | Accuracy: 0.93457 | Loss: 0.630065024\n",
      "| Epoch:  9000 | Accuracy: 0.93457 | Loss: 0.629843712\n",
      "| Epoch:  9500 | Accuracy: 0.93457 | Loss: 0.629667163\n",
      "| Epoch: 10000 | Accuracy: 0.93457 | Loss: 0.629533112\n",
      "| Epoch: 10500 | Accuracy: 0.93457 | Loss: 0.629440725\n",
      "| Epoch: 11000 | Accuracy: 0.93457 | Loss: 0.629386187\n",
      "| Epoch: 11500 | Accuracy: 0.93457 | Loss: 0.629353464\n",
      "| Epoch: 12000 | Accuracy: 0.93457 | Loss: 0.629345000\n",
      "| Epoch: 12500 | Accuracy: 0.93457 | Loss: 0.629374921\n",
      "| Epoch: 13000 | Accuracy: 0.93457 | Loss: 0.629307926\n",
      "| Epoch: 13500 | Accuracy: 0.93457 | Loss: 0.629322767\n",
      "| Epoch: 14000 | Accuracy: 0.93457 | Loss: 0.629355550\n",
      "| Epoch: 14500 | Accuracy: 0.93457 | Loss: 0.629304349\n",
      "| Epoch: 15000 | Accuracy: 0.93457 | Loss: 0.629308522\n",
      "| Epoch: 15500 | Accuracy: 0.93457 | Loss: 0.629320979\n",
      "Early stop.\n",
      "Finished.\n"
     ]
    }
   ],
   "source": [
    "optimizer_NN = torch.optim.Adam(NN.parameters(), lr=0.01)\n",
    "train_loader = DataLoader(train_data, batch_size=min(len(train_data),1024))\n",
    "train_loss_NN, test_loss_NN, parameter_NN = tv.train_normal_nn(NN,\n",
    "                                                                     train_loader,\n",
    "                                                                     test_loader,\n",
    "                                                                     optimizer=optimizer_NN,\n",
    "                                                                     lossfunction=celoss,\n",
    "                                                                     Epoch=25000)"
   ]
  },
  {
   "cell_type": "code",
   "execution_count": 14,
   "id": "2b482bd5-babe-4185-ac37-c6c15f27c16e",
   "metadata": {},
   "outputs": [
    {
     "data": {
      "text/plain": [
       "(15765, 0.6283419728279114)"
      ]
     },
     "execution_count": 14,
     "metadata": {},
     "output_type": "execute_result"
    },
    {
     "data": {
      "image/png": "[encoded data removed]",
      "text/plain": [
       "<Figure size 432x288 with 1 Axes>"
      ]
     },
     "metadata": {
      "needs_background": "light"
     },
     "output_type": "display_data"
    }
   ],
   "source": [
    "plt.plot(train_loss_NN, '-', label='train')\n",
    "plt.plot(test_loss_NN, '--', label='test')\n",
    "plt.legend()\n",
    "NN.load_state_dict(parameter_NN)\n",
    "best = np.argmin(test_loss_NN)\n",
    "best, test_loss_NN[best]"
   ]
  },
  {
   "cell_type": "code",
   "execution_count": 15,
   "id": "c7f1d27f-e30d-430d-ae9e-673e3fcacbea",
   "metadata": {},
   "outputs": [
    {
     "data": {
      "application/vnd.jupyter.widget-view+json": {
       "model_id": "526a3d34759f4694bb8c6fd1a8ce8926",
       "version_major": 2,
       "version_minor": 0
      },
      "text/plain": [
       "  0%|          | 0/25000 [00:00<?, ?it/s]"
      ]
     },
     "metadata": {},
     "output_type": "display_data"
    },
    {
     "name": "stdout",
     "output_type": "stream",
     "text": [
      "| Epoch:     0 | Accuracy: 0.92090 | Loss: 0.653248847\n",
      "| Epoch:   500 | Accuracy: 0.93457 | Loss: 0.629341006\n",
      "| Epoch:  1000 | Accuracy: 0.93457 | Loss: 0.629361749\n",
      "| Epoch:  1500 | Accuracy: 0.93457 | Loss: 0.629376948\n",
      "| Epoch:  2000 | Accuracy: 0.93457 | Loss: 0.629394650\n",
      "| Epoch:  2500 | Accuracy: 0.93457 | Loss: 0.629415452\n",
      "| Epoch:  3000 | Accuracy: 0.93457 | Loss: 0.629438698\n",
      "| Epoch:  3500 | Accuracy: 0.93457 | Loss: 0.628976345\n",
      "| Epoch:  4000 | Accuracy: 0.93457 | Loss: 0.629489779\n",
      "| Epoch:  4500 | Accuracy: 0.93457 | Loss: 0.629484773\n",
      "| Epoch:  5000 | Accuracy: 0.93457 | Loss: 0.629482985\n",
      "Early stop.\n",
      "Finished.\n"
     ]
    }
   ],
   "source": [
    "optimizer_NN = torch.optim.Adam(NN.parameters(), lr=0.01)\n",
    "train_loader = DataLoader(train_data, batch_size=len(train_data))\n",
    "train_loss_NN, test_loss_NN, parameter_NN = tv.train_normal_nn(NN,\n",
    "                                                                     train_loader,\n",
    "                                                                     test_loader,\n",
    "                                                                     optimizer=optimizer_NN,\n",
    "                                                                     lossfunction=celoss,\n",
    "                                                                     Epoch=25000)"
   ]
  },
  {
   "cell_type": "code",
   "execution_count": 16,
   "id": "126f5a62-ec48-466b-bb09-a9ab513d2054",
   "metadata": {},
   "outputs": [
    {
     "data": {
      "text/plain": [
       "(3455, 0.628265380859375)"
      ]
     },
     "execution_count": 16,
     "metadata": {},
     "output_type": "execute_result"
    },
    {
     "data": {
      "image/png": "[encoded data removed]",
      "text/plain": [
       "<Figure size 432x288 with 1 Axes>"
      ]
     },
     "metadata": {
      "needs_background": "light"
     },
     "output_type": "display_data"
    }
   ],
   "source": [
    "plt.plot(train_loss_NN, '-', label='train')\n",
    "plt.plot(test_loss_NN, '--', label='test')\n",
    "plt.legend()\n",
    "NN.load_state_dict(parameter_NN)\n",
    "best = np.argmin(test_loss_NN)\n",
    "best, test_loss_NN[best]"
   ]
  },
  {
   "cell_type": "code",
   "execution_count": 17,
   "id": "56955489-a421-4d80-b4ba-de6871871670",
   "metadata": {},
   "outputs": [
    {
     "data": {
      "application/vnd.jupyter.widget-view+json": {
       "model_id": "a99253b10d4b40e9b34f4160a44028d6",
       "version_major": 2,
       "version_minor": 0
      },
      "text/plain": [
       "  0%|          | 0/25000 [00:00<?, ?it/s]"
      ]
     },
     "metadata": {},
     "output_type": "display_data"
    },
    {
     "name": "stdout",
     "output_type": "stream",
     "text": [
      "| Epoch:     0 | Accuracy: 0.93164 | Loss: 0.631837964\n",
      "| Epoch:   500 | Accuracy: 0.93457 | Loss: 0.629479349\n",
      "| Epoch:  1000 | Accuracy: 0.93457 | Loss: 0.629471898\n",
      "| Epoch:  1500 | Accuracy: 0.93457 | Loss: 0.629475355\n",
      "| Epoch:  2000 | Accuracy: 0.93457 | Loss: 0.629479706\n",
      "| Epoch:  2500 | Accuracy: 0.93457 | Loss: 0.629485846\n",
      "| Epoch:  3000 | Accuracy: 0.93457 | Loss: 0.629493594\n",
      "| Epoch:  3500 | Accuracy: 0.93457 | Loss: 0.629503012\n",
      "| Epoch:  4000 | Accuracy: 0.93457 | Loss: 0.629514217\n",
      "| Epoch:  4500 | Accuracy: 0.93457 | Loss: 0.629390597\n",
      "| Epoch:  5000 | Accuracy: 0.93457 | Loss: 0.629499197\n",
      "Early stop.\n",
      "Finished.\n"
     ]
    }
   ],
   "source": [
    "optimizer_NN = torch.optim.Adam(NN.parameters(), lr=0.005)\n",
    "train_loader = DataLoader(train_data, batch_size=len(train_data))\n",
    "train_loss_NN, test_loss_NN, parameter_NN = tv.train_normal_nn(NN,\n",
    "                                                                     train_loader,\n",
    "                                                                     test_loader,\n",
    "                                                                     optimizer=optimizer_NN,\n",
    "                                                                     lossfunction=celoss,\n",
    "                                                                     Epoch=25000)"
   ]
  },
  {
   "cell_type": "code",
   "execution_count": 18,
   "id": "202233c8-206f-4cb4-8c47-d5277bce5b39",
   "metadata": {},
   "outputs": [
    {
     "data": {
      "text/plain": [
       "(1, 0.628269374370575)"
      ]
     },
     "execution_count": 18,
     "metadata": {},
     "output_type": "execute_result"
    },
    {
     "data": {
      "image/png": "[encoded data removed]",
      "text/plain": [
       "<Figure size 432x288 with 1 Axes>"
      ]
     },
     "metadata": {
      "needs_background": "light"
     },
     "output_type": "display_data"
    }
   ],
   "source": [
    "plt.plot(train_loss_NN, '-', label='train')\n",
    "plt.plot(test_loss_NN, '--', label='test')\n",
    "plt.legend()\n",
    "NN.load_state_dict(parameter_NN)\n",
    "best = np.argmin(test_loss_NN)\n",
    "best, test_loss_NN[best]"
   ]
  },
  {
   "cell_type": "markdown",
   "id": "6568b4fd-62c9-4891-8cba-0b289bbf1e67",
   "metadata": {},
   "source": [
    "## Save Model"
   ]
  },
  {
   "cell_type": "code",
   "execution_count": 19,
   "id": "3f076686-a233-4434-b21f-486c95c9a78b",
   "metadata": {},
   "outputs": [],
   "source": [
    "with open(f'./result/{ds}_NN_{seed}.p', 'wb') as f:\n",
    "    pickle.dump(NN, f)"
   ]
  },
  {
   "cell_type": "markdown",
   "id": "38d0bfe4-d2ea-45fb-827b-3ba9f5a37618",
   "metadata": {},
   "source": [
    "## Evaluation"
   ]
  },
  {
   "cell_type": "code",
   "execution_count": 20,
   "id": "63f6d5f0-5245-4325-b384-58b4d79999a1",
   "metadata": {},
   "outputs": [
    {
     "name": "stdout",
     "output_type": "stream",
     "text": [
      "0.9365234375\n"
     ]
    }
   ],
   "source": [
    "for x_valid, y_valid in valid_loader:\n",
    "    prediction_valid = NN(x_valid)\n",
    "    p = torch.argmax(prediction_valid, 1)\n",
    "    pred_y = p.cpu().data.numpy().squeeze()\n",
    "    acc_valid = sum(pred_y == y_valid.cpu().numpy()) / y_valid.shape[0]\n",
    "print(acc_valid)"
   ]
  },
  {
   "cell_type": "code",
   "execution_count": 21,
   "id": "2ec00e50-62f8-4ca1-98bc-e9db2eacefd7",
   "metadata": {},
   "outputs": [
    {
     "data": {
      "text/plain": [
       "Sequential(\n",
       "  (0): Linear(in_features=9, out_features=3, bias=True)\n",
       "  (1): Tanh()\n",
       "  (2): Linear(in_features=3, out_features=7, bias=True)\n",
       "  (3): Tanh()\n",
       ")"
      ]
     },
     "execution_count": 21,
     "metadata": {},
     "output_type": "execute_result"
    }
   ],
   "source": [
    "NN.to('cpu')"
   ]
  },
  {
   "cell_type": "markdown",
   "id": "5c65c580",
   "metadata": {},
   "source": [
    "# Normal PNN"
   ]
  },
  {
   "cell_type": "markdown",
   "id": "11fcb7de",
   "metadata": {},
   "source": [
    "## Define"
   ]
  },
  {
   "cell_type": "code",
   "execution_count": 22,
   "id": "098714b2",
   "metadata": {},
   "outputs": [
    {
     "data": {
      "text/plain": [
       "Sequential(\n",
       "  (0): PNNLayer()\n",
       "  (1): PNNLayer()\n",
       ")"
      ]
     },
     "execution_count": 22,
     "metadata": {},
     "output_type": "execute_result"
    }
   ],
   "source": [
    "PNN = torch.nn.Sequential(pnnv.PNNLayer(N_features, N_Hidden, age_generator, xpu=device),\n",
    "                         pnnv.PNNLayer(N_Hidden, N_class, age_generator, xpu=device))\n",
    "\n",
    "PNN.apply(lambda z: pnnv.MakeModel(z, M=1))\n",
    "PNN.apply(lambda z: pnnv.SetTime(z, t=[0]))\n",
    "\n",
    "PNN.to(device)"
   ]
  },
  {
   "cell_type": "markdown",
   "id": "8eb6a0c4-b427-4278-b855-0c6f78ba5b8d",
   "metadata": {},
   "source": [
    "## Training"
   ]
  },
  {
   "cell_type": "code",
   "execution_count": 23,
   "id": "b248e211",
   "metadata": {},
   "outputs": [
    {
     "data": {
      "application/vnd.jupyter.widget-view+json": {
       "model_id": "7ba4a37cbfb24bca800e90026a9a6772",
       "version_major": 2,
       "version_minor": 0
      },
      "text/plain": [
       "  0%|          | 0/25000 [00:00<?, ?it/s]"
      ]
     },
     "metadata": {},
     "output_type": "display_data"
    },
    {
     "name": "stdout",
     "output_type": "stream",
     "text": [
      "| Epoch:     0 | Accuracy: 0.00000 | Loss: 0.864596009 |\n",
      "| Epoch:   500 | Accuracy: 0.97168 | Loss: 0.047006421 |\n",
      "| Epoch:  1000 | Accuracy: 0.98145 | Loss: 0.032318532 |\n",
      "| Epoch:  1500 | Accuracy: 0.98340 | Loss: 0.027903851 |\n",
      "| Epoch:  2000 | Accuracy: 0.98340 | Loss: 0.026293054 |\n",
      "| Epoch:  2500 | Accuracy: 0.98340 | Loss: 0.026383754 |\n",
      "| Epoch:  3000 | Accuracy: 0.99219 | Loss: 0.025149310 |\n",
      "| Epoch:  3500 | Accuracy: 0.99219 | Loss: 0.024196202 |\n",
      "| Epoch:  4000 | Accuracy: 0.98340 | Loss: 0.026989564 |\n",
      "| Epoch:  4500 | Accuracy: 0.99219 | Loss: 0.022781981 |\n",
      "| Epoch:  5000 | Accuracy: 0.99219 | Loss: 0.021981405 |\n",
      "| Epoch:  5500 | Accuracy: 0.99512 | Loss: 0.021243721 |\n",
      "Early stop.\n",
      "Finished.\n"
     ]
    }
   ],
   "source": [
    "optimizer_PNN = torch.optim.Adam(PNN.parameters(), lr=0.05)\n",
    "train_loader = DataLoader(train_data, batch_size=min(len(train_data),1024))\n",
    "train_loss_PNN, test_loss_PNN, parameter_PNN = tv.train_normal_pnn(PNN, train_loader, test_loader,\n",
    "                                                                   m, T, optimizer_PNN,\n",
    "                                                                   pnnv.LossFunction, Epoch=25000, cache=ds)"
   ]
  },
  {
   "cell_type": "code",
   "execution_count": 24,
   "id": "9c2022fb-151b-40de-8e57-5d56e24460e3",
   "metadata": {},
   "outputs": [
    {
     "data": {
      "text/plain": [
       "(5773, 0.019937513396143913)"
      ]
     },
     "execution_count": 24,
     "metadata": {},
     "output_type": "execute_result"
    },
    {
     "data": {
      "image/png": "[encoded data removed]",
      "text/plain": [
       "<Figure size 432x288 with 1 Axes>"
      ]
     },
     "metadata": {
      "needs_background": "light"
     },
     "output_type": "display_data"
    }
   ],
   "source": [
    "plt.plot(train_loss_PNN, '-', label='train')\n",
    "plt.plot(test_loss_PNN, '--', label='test')\n",
    "plt.legend()\n",
    "best = np.argmin(test_loss_PNN)\n",
    "PNN.load_state_dict(parameter_PNN)\n",
    "best, test_loss_PNN[best]"
   ]
  },
  {
   "cell_type": "code",
   "execution_count": 25,
   "id": "f4c56418-565f-4857-9e75-07ba504b4dec",
   "metadata": {},
   "outputs": [
    {
     "data": {
      "application/vnd.jupyter.widget-view+json": {
       "model_id": "d2168c80f801417da0bd36faeb96f2d9",
       "version_major": 2,
       "version_minor": 0
      },
      "text/plain": [
       "  0%|          | 0/25000 [00:00<?, ?it/s]"
      ]
     },
     "metadata": {},
     "output_type": "display_data"
    },
    {
     "name": "stdout",
     "output_type": "stream",
     "text": [
      "| Epoch:     0 | Accuracy: 0.97168 | Loss: 0.062950194 |\n",
      "| Epoch:   500 | Accuracy: 0.99219 | Loss: 0.020844538 |\n",
      "| Epoch:  1000 | Accuracy: 0.99219 | Loss: 0.021994229 |\n",
      "| Epoch:  1500 | Accuracy: 0.99219 | Loss: 0.020480750 |\n",
      "| Epoch:  2000 | Accuracy: 0.99512 | Loss: 0.021843653 |\n",
      "| Epoch:  2500 | Accuracy: 0.99219 | Loss: 0.021737698 |\n",
      "| Epoch:  3000 | Accuracy: 0.99219 | Loss: 0.020533042 |\n",
      "| Epoch:  3500 | Accuracy: 0.99219 | Loss: 0.021319099 |\n",
      "| Epoch:  4000 | Accuracy: 0.99219 | Loss: 0.023167055 |\n",
      "| Epoch:  4500 | Accuracy: 0.99219 | Loss: 0.020534469 |\n",
      "| Epoch:  5000 | Accuracy: 0.99316 | Loss: 0.020169981 |\n",
      "Early stop.\n",
      "Finished.\n"
     ]
    }
   ],
   "source": [
    "optimizer_PNN = torch.optim.Adam(PNN.parameters(), lr=0.05)\n",
    "train_loader = DataLoader(train_data, batch_size=len(train_data))\n",
    "train_loss_PNN, test_loss_PNN, parameter_PNN = tv.train_normal_pnn(PNN, train_loader, test_loader,\n",
    "                                                                   m, T, optimizer_PNN,\n",
    "                                                                   pnnv.LossFunction, Epoch=25000, cache=ds)"
   ]
  },
  {
   "cell_type": "code",
   "execution_count": 26,
   "id": "b2298f06-db39-45c5-a1bd-d6210d45ef85",
   "metadata": {},
   "outputs": [
    {
     "data": {
      "text/plain": [
       "(4703, 0.019641900435090065)"
      ]
     },
     "execution_count": 26,
     "metadata": {},
     "output_type": "execute_result"
    },
    {
     "data": {
      "image/png": "[encoded data removed]",
      "text/plain": [
       "<Figure size 432x288 with 1 Axes>"
      ]
     },
     "metadata": {
      "needs_background": "light"
     },
     "output_type": "display_data"
    }
   ],
   "source": [
    "plt.plot(train_loss_PNN, '-', label='train')\n",
    "plt.plot(test_loss_PNN, '--', label='test')\n",
    "plt.legend()\n",
    "best = np.argmin(test_loss_PNN)\n",
    "PNN.load_state_dict(parameter_PNN)\n",
    "best, test_loss_PNN[best]"
   ]
  },
  {
   "cell_type": "code",
   "execution_count": 27,
   "id": "44a3adbc-7414-49e5-89da-34d52ee29806",
   "metadata": {},
   "outputs": [
    {
     "data": {
      "application/vnd.jupyter.widget-view+json": {
       "model_id": "706b9b9d34b646d094ffd41a2213584d",
       "version_major": 2,
       "version_minor": 0
      },
      "text/plain": [
       "  0%|          | 0/25000 [00:00<?, ?it/s]"
      ]
     },
     "metadata": {},
     "output_type": "display_data"
    },
    {
     "name": "stdout",
     "output_type": "stream",
     "text": [
      "| Epoch:     0 | Accuracy: 0.99219 | Loss: 0.022555098 |\n",
      "| Epoch:   500 | Accuracy: 0.99121 | Loss: 0.019641472 |\n",
      "| Epoch:  1000 | Accuracy: 0.99121 | Loss: 0.019658469 |\n",
      "| Epoch:  1500 | Accuracy: 0.99121 | Loss: 0.019566366 |\n",
      "| Epoch:  2000 | Accuracy: 0.99219 | Loss: 0.019591521 |\n",
      "| Epoch:  2500 | Accuracy: 0.99121 | Loss: 0.019691017 |\n",
      "| Epoch:  3000 | Accuracy: 0.99121 | Loss: 0.019645425 |\n",
      "| Epoch:  3500 | Accuracy: 0.99121 | Loss: 0.019596215 |\n",
      "| Epoch:  4000 | Accuracy: 0.99121 | Loss: 0.019668171 |\n",
      "| Epoch:  4500 | Accuracy: 0.99121 | Loss: 0.019701680 |\n",
      "| Epoch:  5000 | Accuracy: 0.99121 | Loss: 0.019521341 |\n",
      "| Epoch:  5500 | Accuracy: 0.99121 | Loss: 0.019594871 |\n",
      "Early stop.\n",
      "Finished.\n"
     ]
    }
   ],
   "source": [
    "optimizer_PNN = torch.optim.Adam(PNN.parameters(), lr=0.005)\n",
    "train_loader = DataLoader(train_data, batch_size=len(train_data))\n",
    "train_loss_PNN, test_loss_PNN, parameter_PNN = tv.train_normal_pnn(PNN, train_loader, test_loader,\n",
    "                                                                   m, T, optimizer_PNN,\n",
    "                                                                   pnnv.LossFunction, Epoch=25000, cache=ds)"
   ]
  },
  {
   "cell_type": "code",
   "execution_count": 28,
   "id": "d612d550-ac09-4551-bc7b-b0fa7479a26f",
   "metadata": {},
   "outputs": [
    {
     "data": {
      "text/plain": [
       "(5656, 0.019505299627780914)"
      ]
     },
     "execution_count": 28,
     "metadata": {},
     "output_type": "execute_result"
    },
    {
     "data": {
      "image/png": "[encoded data removed]",
      "text/plain": [
       "<Figure size 432x288 with 1 Axes>"
      ]
     },
     "metadata": {
      "needs_background": "light"
     },
     "output_type": "display_data"
    }
   ],
   "source": [
    "plt.plot(train_loss_PNN, '-', label='train')\n",
    "plt.plot(test_loss_PNN, '--', label='test')\n",
    "plt.legend()\n",
    "best = np.argmin(test_loss_PNN)\n",
    "PNN.load_state_dict(parameter_PNN)\n",
    "best, test_loss_PNN[best]"
   ]
  },
  {
   "cell_type": "markdown",
   "id": "bbef757b-0f2d-4e54-93dd-8f60121ca948",
   "metadata": {},
   "source": [
    "## Save Model"
   ]
  },
  {
   "cell_type": "code",
   "execution_count": 29,
   "id": "13a6ddc5-4d1c-4371-9b7d-b78844405e87",
   "metadata": {},
   "outputs": [],
   "source": [
    "with open(f'./result/{ds}_PNN_{seed}.p', 'wb') as f:\n",
    "    pickle.dump(PNN, f)"
   ]
  },
  {
   "cell_type": "code",
   "execution_count": 30,
   "id": "607f912d-7361-42ba-a915-41ad83b814a2",
   "metadata": {},
   "outputs": [
    {
     "data": {
      "text/plain": [
       "Sequential(\n",
       "  (0): PNNLayer()\n",
       "  (1): PNNLayer()\n",
       ")"
      ]
     },
     "execution_count": 30,
     "metadata": {},
     "output_type": "execute_result"
    }
   ],
   "source": [
    "PNN.to('cpu')"
   ]
  },
  {
   "cell_type": "markdown",
   "id": "59ebe567-61eb-4cb0-bbe1-71d8aff12aac",
   "metadata": {},
   "source": [
    "# Aging Aware PNN"
   ]
  },
  {
   "cell_type": "code",
   "execution_count": 31,
   "id": "19abcaae",
   "metadata": {},
   "outputs": [
    {
     "data": {
      "text/plain": [
       "Sequential(\n",
       "  (0): PNNLayer()\n",
       "  (1): PNNLayer()\n",
       ")"
      ]
     },
     "execution_count": 31,
     "metadata": {},
     "output_type": "execute_result"
    }
   ],
   "source": [
    "AAPNN = torch.nn.Sequential(pnnv.PNNLayer(N_features, N_Hidden, age_generator, xpu=device),\n",
    "                           pnnv.PNNLayer(N_Hidden, N_class, age_generator, xpu=device))\n",
    "\n",
    "AAPNN.apply(lambda z: pnnv.MakeModel(z, M_train))\n",
    "AAPNN.apply(lambda z: pnnv.SetTime(z, np.random.rand(K_train).tolist()))\n",
    "\n",
    "AAPNN.to(device)"
   ]
  },
  {
   "cell_type": "markdown",
   "id": "8b03e98a-fcdf-42a1-8f2b-582657cc47a0",
   "metadata": {},
   "source": [
    "## Reload AAPNN if crash"
   ]
  },
  {
   "cell_type": "code",
   "execution_count": 32,
   "id": "feaf2602-3633-4814-9b13-42c407dba269",
   "metadata": {},
   "outputs": [],
   "source": [
    "# if os.path.exists(f'./temp/{ds}_AAPNN.p'): \n",
    "#     with open(f'./temp/{ds}_AAPNN.p', 'rb') as f:\n",
    "#         AAPNN = pickle.load(f)"
   ]
  },
  {
   "cell_type": "markdown",
   "id": "e65740a1-a29a-48ca-b332-5cc4b0556ca9",
   "metadata": {},
   "source": [
    "## Training"
   ]
  },
  {
   "cell_type": "code",
   "execution_count": 33,
   "id": "183e27bb-8d0a-4448-be67-78927eaf8e1b",
   "metadata": {},
   "outputs": [
    {
     "data": {
      "application/vnd.jupyter.widget-view+json": {
       "model_id": "7f5e7c2d396d4463877d026a8fd3202b",
       "version_major": 2,
       "version_minor": 0
      },
      "text/plain": [
       "  0%|          | 0/250 [00:00<?, ?it/s]"
      ]
     },
     "metadata": {},
     "output_type": "display_data"
    },
    {
     "name": "stdout",
     "output_type": "stream",
     "text": [
      "| Epoch:     0 | Accuracy: 0.14921 | Loss: 1.179166794 |\n",
      "| Epoch:    12 | Accuracy: 0.80166 | Loss: 0.348861992 |\n",
      "| Epoch:    24 | Accuracy: 0.86731 | Loss: 0.251348019 |\n",
      "| Epoch:    36 | Accuracy: 0.89974 | Loss: 0.202005684 |\n",
      "| Epoch:    48 | Accuracy: 0.90542 | Loss: 0.194561005 |\n",
      "| Epoch:    60 | Accuracy: 0.92485 | Loss: 0.159567699 |\n",
      "| Epoch:    72 | Accuracy: 0.91554 | Loss: 0.167936414 |\n",
      "| Epoch:    84 | Accuracy: 0.92512 | Loss: 0.170581579 |\n",
      "| Epoch:    96 | Accuracy: 0.91402 | Loss: 0.173177376 |\n",
      "| Epoch:   108 | Accuracy: 0.92551 | Loss: 0.163363829 |\n",
      "| Epoch:   120 | Accuracy: 0.91468 | Loss: 0.170925304 |\n",
      "| Epoch:   132 | Accuracy: 0.93008 | Loss: 0.147830307 |\n",
      "| Epoch:   144 | Accuracy: 0.92523 | Loss: 0.158026278 |\n",
      "| Epoch:   156 | Accuracy: 0.90721 | Loss: 0.181015596 |\n",
      "| Epoch:   168 | Accuracy: 0.92723 | Loss: 0.148341507 |\n",
      "| Epoch:   180 | Accuracy: 0.93333 | Loss: 0.135636121 |\n",
      "| Epoch:   192 | Accuracy: 0.91686 | Loss: 0.178361088 |\n",
      "| Epoch:   204 | Accuracy: 0.93096 | Loss: 0.144301996 |\n",
      "| Epoch:   216 | Accuracy: 0.92239 | Loss: 0.146401346 |\n",
      "| Epoch:   228 | Accuracy: 0.90807 | Loss: 0.190425053 |\n",
      "| Epoch:   240 | Accuracy: 0.91547 | Loss: 0.163142785 |\n",
      "Finished.\n"
     ]
    }
   ],
   "source": [
    "optimizer_AAPNN = torch.optim.Adam(AAPNN.parameters(), lr=0.1)\n",
    "train_loader = DataLoader(train_data, batch_size=min(len(train_data),1024))\n",
    "train_loss_AAPNN, test_loss_AAPNN, parameter_AAPNN = tv.train_aged_pnn(AAPNN, train_loader, test_loader,\n",
    "                                        m, T, M_train, K_train, M_test, K_test,\n",
    "                                        optimizer_AAPNN, pnnv.LossFunction,\n",
    "                                        Epoch=250, cache=ds)"
   ]
  },
  {
   "cell_type": "code",
   "execution_count": 34,
   "id": "ea0cb974",
   "metadata": {},
   "outputs": [
    {
     "data": {
      "text/plain": [
       "(207, 0.12910623848438263)"
      ]
     },
     "execution_count": 34,
     "metadata": {},
     "output_type": "execute_result"
    },
    {
     "data": {
      "image/png": "[encoded data removed]",
      "text/plain": [
       "<Figure size 432x288 with 1 Axes>"
      ]
     },
     "metadata": {
      "needs_background": "light"
     },
     "output_type": "display_data"
    }
   ],
   "source": [
    "plt.plot(train_loss_AAPNN, '-', label='train')\n",
    "plt.plot(test_loss_AAPNN, '--', label='test')\n",
    "plt.legend()\n",
    "best = np.argmin(test_loss_AAPNN)\n",
    "AAPNN.load_state_dict(parameter_AAPNN)\n",
    "best, test_loss_AAPNN[best]"
   ]
  },
  {
   "cell_type": "code",
   "execution_count": 35,
   "id": "eac79592-ecb0-4ba0-93a9-ee82f9050e2c",
   "metadata": {},
   "outputs": [
    {
     "data": {
      "application/vnd.jupyter.widget-view+json": {
       "model_id": "4ee5e1bee9014e6485eb6540d078e3a3",
       "version_major": 2,
       "version_minor": 0
      },
      "text/plain": [
       "  0%|          | 0/500 [00:00<?, ?it/s]"
      ]
     },
     "metadata": {},
     "output_type": "display_data"
    },
    {
     "name": "stdout",
     "output_type": "stream",
     "text": [
      "| Epoch:     0 | Accuracy: 0.92643 | Loss: 0.154448375 |\n",
      "| Epoch:    25 | Accuracy: 0.92668 | Loss: 0.151461929 |\n",
      "| Epoch:    50 | Accuracy: 0.92113 | Loss: 0.162617579 |\n",
      "| Epoch:    75 | Accuracy: 0.92168 | Loss: 0.157446727 |\n",
      "| Epoch:   100 | Accuracy: 0.93537 | Loss: 0.128867134 |\n",
      "| Epoch:   125 | Accuracy: 0.92423 | Loss: 0.149903297 |\n",
      "| Epoch:   150 | Accuracy: 0.92973 | Loss: 0.161704406 |\n",
      "| Epoch:   175 | Accuracy: 0.92419 | Loss: 0.146991998 |\n",
      "| Epoch:   200 | Accuracy: 0.92667 | Loss: 0.148409441 |\n",
      "| Epoch:   225 | Accuracy: 0.92742 | Loss: 0.145066842 |\n",
      "| Epoch:   250 | Accuracy: 0.92310 | Loss: 0.155103609 |\n",
      "| Epoch:   275 | Accuracy: 0.93338 | Loss: 0.138517693 |\n",
      "| Epoch:   300 | Accuracy: 0.93267 | Loss: 0.135175392 |\n",
      "| Epoch:   325 | Accuracy: 0.93375 | Loss: 0.136937484 |\n",
      "| Epoch:   350 | Accuracy: 0.92194 | Loss: 0.156996727 |\n",
      "| Epoch:   375 | Accuracy: 0.93483 | Loss: 0.137507662 |\n",
      "| Epoch:   400 | Accuracy: 0.91990 | Loss: 0.170077965 |\n",
      "| Epoch:   425 | Accuracy: 0.90896 | Loss: 0.183801368 |\n",
      "| Epoch:   450 | Accuracy: 0.91545 | Loss: 0.164397731 |\n",
      "| Epoch:   475 | Accuracy: 0.93174 | Loss: 0.144561723 |\n",
      "Finished.\n"
     ]
    }
   ],
   "source": [
    "optimizer_AAPNN = torch.optim.Adam(AAPNN.parameters(), lr=0.01)\n",
    "train_loader = DataLoader(train_data, batch_size=len(train_data))\n",
    "train_loss_AAPNN, test_loss_AAPNN, parameter_AAPNN = tv.train_aged_pnn(AAPNN, train_loader, test_loader,\n",
    "                                        m, T, M_train, K_train, M_test, K_test,\n",
    "                                        optimizer_AAPNN, pnnv.LossFunction,\n",
    "                                        Epoch=500, cache=ds)"
   ]
  },
  {
   "cell_type": "code",
   "execution_count": 36,
   "id": "1239230b-9748-48c4-9823-50c54dab9f5c",
   "metadata": {},
   "outputs": [
    {
     "data": {
      "text/plain": [
       "(459, 0.12403130531311035)"
      ]
     },
     "execution_count": 36,
     "metadata": {},
     "output_type": "execute_result"
    },
    {
     "data": {
      "image/png": "[encoded data removed]",
      "text/plain": [
       "<Figure size 432x288 with 1 Axes>"
      ]
     },
     "metadata": {
      "needs_background": "light"
     },
     "output_type": "display_data"
    }
   ],
   "source": [
    "plt.plot(train_loss_AAPNN, '-', label='train')\n",
    "plt.plot(test_loss_AAPNN, '--', label='test')\n",
    "plt.legend()\n",
    "best = np.argmin(test_loss_AAPNN)\n",
    "AAPNN.load_state_dict(parameter_AAPNN)\n",
    "best, test_loss_AAPNN[best]"
   ]
  },
  {
   "cell_type": "code",
   "execution_count": 37,
   "id": "6ae4605b-0cb9-4394-afef-d515bebd8a3b",
   "metadata": {},
   "outputs": [
    {
     "data": {
      "application/vnd.jupyter.widget-view+json": {
       "model_id": "8094913500f0472495beb3b0079cb3a2",
       "version_major": 2,
       "version_minor": 0
      },
      "text/plain": [
       "  0%|          | 0/500 [00:00<?, ?it/s]"
      ]
     },
     "metadata": {},
     "output_type": "display_data"
    },
    {
     "name": "stdout",
     "output_type": "stream",
     "text": [
      "| Epoch:     0 | Accuracy: 0.93176 | Loss: 0.143369347 |\n",
      "| Epoch:    25 | Accuracy: 0.93755 | Loss: 0.129334271 |\n",
      "| Epoch:    50 | Accuracy: 0.92671 | Loss: 0.147730187 |\n",
      "| Epoch:    75 | Accuracy: 0.92409 | Loss: 0.154937416 |\n",
      "| Epoch:   100 | Accuracy: 0.92166 | Loss: 0.151899412 |\n",
      "| Epoch:   125 | Accuracy: 0.93383 | Loss: 0.134224743 |\n",
      "| Epoch:   150 | Accuracy: 0.92916 | Loss: 0.143061578 |\n",
      "| Epoch:   175 | Accuracy: 0.93118 | Loss: 0.138056338 |\n",
      "| Epoch:   200 | Accuracy: 0.92206 | Loss: 0.156915963 |\n",
      "| Epoch:   225 | Accuracy: 0.93339 | Loss: 0.135260791 |\n",
      "| Epoch:   250 | Accuracy: 0.92953 | Loss: 0.153003559 |\n",
      "| Epoch:   275 | Accuracy: 0.93298 | Loss: 0.140156865 |\n",
      "| Epoch:   300 | Accuracy: 0.92695 | Loss: 0.168748930 |\n",
      "| Epoch:   325 | Accuracy: 0.92917 | Loss: 0.143475562 |\n",
      "| Epoch:   350 | Accuracy: 0.93617 | Loss: 0.129461825 |\n",
      "| Epoch:   375 | Accuracy: 0.92846 | Loss: 0.149287179 |\n",
      "| Epoch:   400 | Accuracy: 0.92276 | Loss: 0.158894688 |\n",
      "| Epoch:   425 | Accuracy: 0.92671 | Loss: 0.148802206 |\n",
      "| Epoch:   450 | Accuracy: 0.93476 | Loss: 0.130707726 |\n",
      "| Epoch:   475 | Accuracy: 0.93172 | Loss: 0.138422996 |\n",
      "Finished.\n"
     ]
    }
   ],
   "source": [
    "optimizer_AAPNN = torch.optim.Adam(AAPNN.parameters(), lr=0.001)\n",
    "train_loader = DataLoader(train_data, batch_size=len(train_data))\n",
    "train_loss_AAPNN, test_loss_AAPNN, parameter_AAPNN = tv.train_aged_pnn(AAPNN, train_loader, test_loader,\n",
    "                                        m, T, M_train, K_train, M_test, K_test,\n",
    "                                        optimizer_AAPNN, pnnv.LossFunction,\n",
    "                                        Epoch=500, cache=ds)"
   ]
  },
  {
   "cell_type": "code",
   "execution_count": 38,
   "id": "b8d3302e-4f94-46cc-b31c-4af71c8ab76e",
   "metadata": {},
   "outputs": [
    {
     "data": {
      "text/plain": [
       "(362, 0.11854175478219986)"
      ]
     },
     "execution_count": 38,
     "metadata": {},
     "output_type": "execute_result"
    },
    {
     "data": {
      "image/png": "[encoded data removed]",
      "text/plain": [
       "<Figure size 432x288 with 1 Axes>"
      ]
     },
     "metadata": {
      "needs_background": "light"
     },
     "output_type": "display_data"
    }
   ],
   "source": [
    "plt.plot(train_loss_AAPNN, '-', label='train')\n",
    "plt.plot(test_loss_AAPNN, '--', label='test')\n",
    "plt.legend()\n",
    "best = np.argmin(test_loss_AAPNN)\n",
    "AAPNN.load_state_dict(parameter_AAPNN)\n",
    "best, test_loss_AAPNN[best]"
   ]
  },
  {
   "cell_type": "markdown",
   "id": "19ad1ac6-b8ec-427c-9b71-a3631c478096",
   "metadata": {},
   "source": [
    "## Save Model"
   ]
  },
  {
   "cell_type": "code",
   "execution_count": 39,
   "id": "0d491031",
   "metadata": {},
   "outputs": [],
   "source": [
    "with open(f'./result/{ds}_AAPNN_{seed}.p', 'wb') as f:\n",
    "    pickle.dump(AAPNN, f)"
   ]
  },
  {
   "cell_type": "code",
   "execution_count": null,
   "id": "c322f096-d8ef-4841-8265-b43ce5ee271e",
   "metadata": {},
   "outputs": [],
   "source": []
  }
 ],
 "metadata": {
  "kernelspec": {
   "display_name": "MachineLearning",
   "language": "python",
   "name": "machinelearning"
  },
  "language_info": {
   "codemirror_mode": {
    "name": "ipython",
    "version": 3
   },
   "file_extension": ".py",
   "mimetype": "text/x-python",
   "name": "python",
   "nbconvert_exporter": "python",
   "pygments_lexer": "ipython3",
   "version": "3.8.12"
  },
  "toc": {
   "base_numbering": 1,
   "nav_menu": {},
   "number_sections": true,
   "sideBar": true,
   "skip_h1_title": false,
   "title_cell": "Table of Contents",
   "title_sidebar": "Contents",
   "toc_cell": false,
   "toc_position": {},
   "toc_section_display": true,
   "toc_window_display": true
  }
 },
 "nbformat": 4,
 "nbformat_minor": 5
}
