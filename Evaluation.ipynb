{
 "cells": [
  {
   "cell_type": "code",
   "execution_count": 18,
   "id": "a210b792",
   "metadata": {},
   "outputs": [],
   "source": [
    "import importlib\n",
    "from torch.autograd import Variable\n",
    "import torch\n",
    "import pickle\n",
    "import pNN_aging_aware as pnn\n",
    "import os\n",
    "import sys\n",
    "import matplotlib.pyplot as plt\n",
    "import numpy as np\n",
    "import training\n",
    "import PNN_Setting as ps\n",
    "import evaluation\n",
    "sys.path.append(os.path.join(os.getcwd(), 'Aging_Model'))\n",
    "\n",
    "with open(os.path.join(os.getcwd(), 'Aging_Model', 'exp_aging_model.p'), 'rb') as f:\n",
    "    age_generator = pickle.load(f)"
   ]
  },
  {
   "cell_type": "code",
   "execution_count": 2,
   "id": "feb26412",
   "metadata": {},
   "outputs": [
    {
     "data": {
      "text/plain": [
       "(torch.Size([10992, 16]), torch.Size([10992]), 10992, 16, 10)"
      ]
     },
     "execution_count": 2,
     "metadata": {},
     "output_type": "execute_result"
    }
   ],
   "source": [
    "datapath = os.path.join(os.getcwd(), 'Datasets', 'PMLC',\n",
    "                        'data_processed', 'Dataset_Pendigits.p')\n",
    "with open(datapath, 'rb') as f:\n",
    "    dataset = pickle.load(f)\n",
    "X = dataset['X'].float()\n",
    "y = dataset['y']\n",
    "M, N_features, N_class = X.shape[0], X.shape[1], torch.max(\n",
    "    torch.unique(y)).item()+1\n",
    "X.shape, y.shape, M, N_features, N_class"
   ]
  },
  {
   "cell_type": "code",
   "execution_count": 3,
   "id": "a4f21fa6",
   "metadata": {},
   "outputs": [
    {
     "data": {
      "text/plain": [
       "(tensor(0.), tensor(1.))"
      ]
     },
     "execution_count": 3,
     "metadata": {},
     "output_type": "execute_result"
    }
   ],
   "source": [
    "# normalization\n",
    "X = X / (torch.max(X, axis=0)[0] - torch.min(X, axis=0)[0])\n",
    "X = X - torch.min(X, axis=0)[0]\n",
    "torch.min(X), torch.max(X)"
   ]
  },
  {
   "cell_type": "code",
   "execution_count": 4,
   "id": "b4225bf7",
   "metadata": {},
   "outputs": [
    {
     "data": {
      "text/plain": [
       "(6595, 2198, 2199)"
      ]
     },
     "execution_count": 4,
     "metadata": {},
     "output_type": "execute_result"
    }
   ],
   "source": [
    "from torch.utils.data import TensorDataset\n",
    "from torch.utils.data import DataLoader\n",
    "from torch.utils.data import random_split\n",
    "\n",
    "# generate tensordataset\n",
    "dataset = TensorDataset(X, y)\n",
    "\n",
    "# split\n",
    "train_rate = 0.6\n",
    "test_rate = 0.2\n",
    "M_train = int(M*train_rate)\n",
    "M_test = int(M*test_rate)\n",
    "train_data, rest_data = random_split(dataset, [M_train, M-M_train], generator=torch.Generator().manual_seed(19950102))\n",
    "test_data, valid_data = random_split(rest_data, [M_test, M-M_train-M_test], generator=torch.Generator().manual_seed(19950102))\n",
    "len(train_data), len(test_data), len(valid_data)"
   ]
  },
  {
   "cell_type": "code",
   "execution_count": 5,
   "id": "0b76647c",
   "metadata": {},
   "outputs": [],
   "source": [
    "# batch\n",
    "train_loader = DataLoader(train_data, batch_size=len(train_data))\n",
    "test_loader = DataLoader(test_data, batch_size=len(test_data))\n",
    "valid_loader = DataLoader(valid_data, batch_size=len(valid_data))"
   ]
  },
  {
   "cell_type": "code",
   "execution_count": 12,
   "id": "f4b69f2a",
   "metadata": {},
   "outputs": [],
   "source": [
    "N_Hidden = 16\n",
    "m = 0.3\n",
    "T = 0.1\n",
    "K = 5  # number of time sampling\n",
    "M = 40  # number of model sampling\n",
    "K_test = 5\n",
    "M_test = 10"
   ]
  },
  {
   "cell_type": "markdown",
   "id": "17e0da17",
   "metadata": {},
   "source": [
    "# Evaluation"
   ]
  },
  {
   "cell_type": "code",
   "execution_count": 14,
   "id": "5e8fbd93",
   "metadata": {},
   "outputs": [],
   "source": [
    "with open('./pendigitresult/NN_16.p', 'rb') as f:\n",
    "    NN = pickle.load(f)"
   ]
  },
  {
   "cell_type": "code",
   "execution_count": 15,
   "id": "1912ce2f",
   "metadata": {},
   "outputs": [],
   "source": [
    "with open('./pendigitresult/PNN_16.p', 'rb') as f:\n",
    "    PNN = pickle.load(f)"
   ]
  },
  {
   "cell_type": "code",
   "execution_count": 16,
   "id": "86b370f8",
   "metadata": {},
   "outputs": [],
   "source": [
    "with open('./pendigitresult/AAPNN_16.p', 'rb') as f:\n",
    "    AAPNN = pickle.load(f)"
   ]
  },
  {
   "cell_type": "code",
   "execution_count": 19,
   "id": "dbae93e8",
   "metadata": {},
   "outputs": [
    {
     "data": {
      "application/vnd.jupyter.widget-view+json": {
       "model_id": "bbea8f4c945044498b6525467f50e804",
       "version_major": 2,
       "version_minor": 0
      },
      "text/plain": [
       "  0%|          | 0/500 [00:00<?, ?it/s]"
      ]
     },
     "metadata": {},
     "output_type": "display_data"
    },
    {
     "name": "stdout",
     "output_type": "stream",
     "text": [
      "evaluating on the 0-th model.\n",
      "evaluating on the 10-th model.\n",
      "evaluating on the 20-th model.\n",
      "evaluating on the 30-th model.\n",
      "evaluating on the 40-th model.\n",
      "evaluating on the 50-th model.\n",
      "evaluating on the 60-th model.\n",
      "evaluating on the 70-th model.\n",
      "evaluating on the 80-th model.\n",
      "evaluating on the 90-th model.\n",
      "evaluating on the 100-th model.\n",
      "evaluating on the 110-th model.\n",
      "evaluating on the 120-th model.\n",
      "evaluating on the 130-th model.\n",
      "evaluating on the 140-th model.\n",
      "evaluating on the 150-th model.\n",
      "evaluating on the 160-th model.\n",
      "evaluating on the 170-th model.\n",
      "evaluating on the 180-th model.\n",
      "evaluating on the 190-th model.\n",
      "evaluating on the 200-th model.\n",
      "evaluating on the 210-th model.\n",
      "evaluating on the 220-th model.\n",
      "evaluating on the 230-th model.\n",
      "evaluating on the 240-th model.\n",
      "evaluating on the 250-th model.\n",
      "evaluating on the 260-th model.\n",
      "evaluating on the 270-th model.\n",
      "evaluating on the 280-th model.\n",
      "evaluating on the 290-th model.\n",
      "evaluating on the 300-th model.\n",
      "evaluating on the 310-th model.\n",
      "evaluating on the 320-th model.\n",
      "evaluating on the 330-th model.\n",
      "evaluating on the 340-th model.\n",
      "evaluating on the 350-th model.\n",
      "evaluating on the 360-th model.\n",
      "evaluating on the 370-th model.\n",
      "evaluating on the 380-th model.\n",
      "evaluating on the 390-th model.\n",
      "evaluating on the 400-th model.\n",
      "evaluating on the 410-th model.\n",
      "evaluating on the 420-th model.\n",
      "evaluating on the 430-th model.\n",
      "evaluating on the 440-th model.\n",
      "evaluating on the 450-th model.\n",
      "evaluating on the 460-th model.\n",
      "evaluating on the 470-th model.\n",
      "evaluating on the 480-th model.\n",
      "evaluating on the 490-th model.\n"
     ]
    }
   ],
   "source": [
    "mean_acc_PNN, std_acc_PNN, mean_maa_PNN, std_maa_PNN = evaluation.FullEvaluation(PNN, valid_loader)"
   ]
  },
  {
   "cell_type": "code",
   "execution_count": 20,
   "id": "968a6723",
   "metadata": {},
   "outputs": [
    {
     "data": {
      "application/vnd.jupyter.widget-view+json": {
       "model_id": "eb9de8a330f84c86a6e7f048f1666954",
       "version_major": 2,
       "version_minor": 0
      },
      "text/plain": [
       "  0%|          | 0/500 [00:00<?, ?it/s]"
      ]
     },
     "metadata": {},
     "output_type": "display_data"
    },
    {
     "name": "stdout",
     "output_type": "stream",
     "text": [
      "evaluating on the 0-th model.\n",
      "evaluating on the 10-th model.\n",
      "evaluating on the 20-th model.\n",
      "evaluating on the 30-th model.\n",
      "evaluating on the 40-th model.\n",
      "evaluating on the 50-th model.\n",
      "evaluating on the 60-th model.\n",
      "evaluating on the 70-th model.\n",
      "evaluating on the 80-th model.\n",
      "evaluating on the 90-th model.\n",
      "evaluating on the 100-th model.\n",
      "evaluating on the 110-th model.\n",
      "evaluating on the 120-th model.\n",
      "evaluating on the 130-th model.\n",
      "evaluating on the 140-th model.\n",
      "evaluating on the 150-th model.\n",
      "evaluating on the 160-th model.\n",
      "evaluating on the 170-th model.\n",
      "evaluating on the 180-th model.\n",
      "evaluating on the 190-th model.\n",
      "evaluating on the 200-th model.\n",
      "evaluating on the 210-th model.\n",
      "evaluating on the 220-th model.\n",
      "evaluating on the 230-th model.\n",
      "evaluating on the 240-th model.\n",
      "evaluating on the 250-th model.\n",
      "evaluating on the 260-th model.\n",
      "evaluating on the 270-th model.\n",
      "evaluating on the 280-th model.\n",
      "evaluating on the 290-th model.\n",
      "evaluating on the 300-th model.\n",
      "evaluating on the 310-th model.\n",
      "evaluating on the 320-th model.\n",
      "evaluating on the 330-th model.\n",
      "evaluating on the 340-th model.\n",
      "evaluating on the 350-th model.\n",
      "evaluating on the 360-th model.\n",
      "evaluating on the 370-th model.\n",
      "evaluating on the 380-th model.\n",
      "evaluating on the 390-th model.\n",
      "evaluating on the 400-th model.\n",
      "evaluating on the 410-th model.\n",
      "evaluating on the 420-th model.\n",
      "evaluating on the 430-th model.\n",
      "evaluating on the 440-th model.\n",
      "evaluating on the 450-th model.\n",
      "evaluating on the 460-th model.\n",
      "evaluating on the 470-th model.\n",
      "evaluating on the 480-th model.\n",
      "evaluating on the 490-th model.\n"
     ]
    }
   ],
   "source": [
    "mean_acc_AAPNN, std_acc_AAPNN, mean_maa_AAPNN, std_maa_AAPNN = evaluation.FullEvaluation(AAPNN, valid_loader)"
   ]
  },
  {
   "cell_type": "code",
   "execution_count": 24,
   "id": "6220685e",
   "metadata": {},
   "outputs": [
    {
     "data": {
      "image/png": "[encoded data removed]",
      "text/plain": [
       "<Figure size 432x288 with 1 Axes>"
      ]
     },
     "metadata": {
      "needs_background": "light"
     },
     "output_type": "display_data"
    }
   ],
   "source": [
    "K_valid = mean_acc_PNN.shape[0]\n",
    "plt.fill_between(np.linspace(0,1,K_valid), mean_acc_PNN-std_acc_PNN, mean_acc_PNN+std_acc_PNN, alpha=0.3, color='blue');\n",
    "plt.fill_between(np.linspace(0,1,K_valid), mean_acc_AAPNN-std_acc_AAPNN, mean_acc_AAPNN+std_acc_AAPNN, alpha=0.3, color='red');\n",
    "\n",
    "plt.plot(np.linspace(0,1,K_valid), mean_acc_PNN, label='PNN', color='blue');\n",
    "plt.plot(np.linspace(0,1,K_valid), mean_acc_AAPNN, label='AAPNN', color='red');\n",
    "\n",
    "plt.xlabel('normalized time');\n",
    "plt.ylabel('basic accuracy');\n",
    "plt.xlim([0, 1]);\n",
    "plt.ylim([0, 1]);\n",
    "plt.legend();"
   ]
  },
  {
   "cell_type": "code",
   "execution_count": 25,
   "id": "4ac03d33",
   "metadata": {},
   "outputs": [
    {
     "data": {
      "image/png": "[encoded data removed]",
      "text/plain": [
       "<Figure size 432x288 with 1 Axes>"
      ]
     },
     "metadata": {
      "needs_background": "light"
     },
     "output_type": "display_data"
    }
   ],
   "source": [
    "plt.fill_between(np.linspace(0,1,K_valid), mean_maa_PNN-std_maa_PNN, mean_maa_PNN+std_maa_PNN, alpha=0.3, color='blue');\n",
    "plt.fill_between(np.linspace(0,1,K_valid), mean_maa_AAPNN-std_maa_AAPNN, mean_maa_AAPNN+std_maa_AAPNN, alpha=0.3, color='red');\n",
    "\n",
    "plt.plot(np.linspace(0,1,K_valid), mean_maa_PNN, label='PNN', color='blue');\n",
    "plt.plot(np.linspace(0,1,K_valid), mean_maa_AAPNN, label='AAPNN', color='red');\n",
    "\n",
    "plt.xlabel('normalized time');\n",
    "plt.ylabel('measureing aware accuracy');\n",
    "plt.xlim([0, 1]);\n",
    "plt.ylim([0, 1]);\n",
    "plt.legend();"
   ]
  },
  {
   "cell_type": "code",
   "execution_count": null,
   "id": "b6b6c5de",
   "metadata": {},
   "outputs": [],
   "source": []
  }
 ],
 "metadata": {
  "kernelspec": {
   "display_name": "Python 3",
   "language": "python",
   "name": "python3"
  },
  "language_info": {
   "codemirror_mode": {
    "name": "ipython",
    "version": 3
   },
   "file_extension": ".py",
   "mimetype": "text/x-python",
   "name": "python",
   "nbconvert_exporter": "python",
   "pygments_lexer": "ipython3",
   "version": "3.8.9"
  },
  "toc": {
   "base_numbering": 1,
   "nav_menu": {},
   "number_sections": true,
   "sideBar": true,
   "skip_h1_title": false,
   "title_cell": "Table of Contents",
   "title_sidebar": "Contents",
   "toc_cell": false,
   "toc_position": {},
   "toc_section_display": true,
   "toc_window_display": false
  }
 },
 "nbformat": 4,
 "nbformat_minor": 5
}
