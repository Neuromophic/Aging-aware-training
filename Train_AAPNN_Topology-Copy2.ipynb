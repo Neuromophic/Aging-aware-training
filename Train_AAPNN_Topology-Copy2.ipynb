{
 "cells": [
  {
   "cell_type": "markdown",
   "id": "e0f1319a",
   "metadata": {},
   "source": [
    "# Aging Aware with Model Variation\n",
    "Previously, we optimize the following functional:\n",
    "$$ \\min_\\theta \\, \\int_{t=0}^{1} \\; L(\\theta(t)) \\, {\\rm d}t. $$\n",
    "The optimum is for a specific aging model $\\omega$, i.e., we minimized the \n",
    "$$ \\min_\\theta \\, \\int_{t=0}^{1} \\; L(\\theta(t,\\omega)) \\, {\\rm d}t. $$\n",
    "However, we dont know how will the resistance decay, i.e., we should also minimize the loss function w.r.t. aging models with different parameters. That means we need to optimized\n",
    "$$ \\min_\\theta \\, \\int_{\\omega}\\int_{t=0}^{1} \\; L(\\theta(t,\\omega)) \\, {\\rm d}t\\, p(\\omega){\\rm d}\\omega. $$\n",
    "The Mento Carlo Approximation is then\n",
    "$$\n",
    "\\min_{\\theta_{\\rm init}} \\frac{1}{\\Omega}\\frac{1}{K}\\sum_{\\omega\\in\\mathfrak{M}}\\sum_{k\\in \\mathfrak{K} } L \\left(\\theta[k, \\omega]\\right),\n",
    "$$\n",
    "where $\\mathfrak{M}$ is the set of $\\Omega$ elements following the distribution $p(\\omega)$. $p(\\omega)$ is the distributions of parameters of the aging model. We have already obtained these distributions as we modeled the aging decay.\n",
    "\n",
    "That means we should optimize this problem by\n",
    "$$\n",
    "\\begin{align}\n",
    "\\theta_{\\rm init}&:=\\theta_{\\rm init} - \\alpha\\cdot\\nabla_{\\theta_{\\rm init}}\\left(\\frac{1}{\\Omega}\\frac{1}{K}\\sum_{\\omega\\in\\mathfrak{M}}\\sum_{k\\in \\mathfrak{K} } L \\left(\\theta[k, \\omega]\\right)\\right)\\\\\n",
    "&=\\theta_{\\rm init} - \\frac{\\alpha}{\\Omega K}\\cdot\\nabla_{\\theta_{\\rm init}}\\left(\\sum_{\\omega\\in\\mathfrak{M}}\\sum_{k\\in \\mathfrak{K} } L \\left(\\theta[k, \\omega]\\right)\\right)\\\\\n",
    "&=\\theta_{\\rm init} - \\frac{\\alpha}{\\Omega K}\\left(\\sum_{\\omega\\in\\mathfrak{M}}\\sum_{k\\in \\mathfrak{K} }\\nabla_{\\theta_{\\rm init}} L \\left(\\theta[k, \\omega]\\right)\\right)\n",
    "\\end{align}\n",
    "$$"
   ]
  },
  {
   "cell_type": "markdown",
   "id": "eab183f8",
   "metadata": {},
   "source": [
    "# Import library"
   ]
  },
  {
   "cell_type": "code",
   "execution_count": 1,
   "id": "0bc40b33",
   "metadata": {},
   "outputs": [],
   "source": [
    "import importlib\n",
    "from torch.autograd import Variable\n",
    "import torch\n",
    "import pickle\n",
    "import os\n",
    "import sys\n",
    "import matplotlib.pyplot as plt\n",
    "import numpy as np\n",
    "import pNN_aging_aware_vectorization as pnnv\n",
    "import training_vectorization as tv\n",
    "import random\n",
    "import config\n",
    "import evaluation_vectorization as ev\n",
    "sys.path.append(os.path.join(os.getcwd(), 'Aging_Model'))"
   ]
  },
  {
   "cell_type": "markdown",
   "id": "af93c27e-7559-466e-9a0f-084e03f0c576",
   "metadata": {},
   "source": [
    "# Random Seed"
   ]
  },
  {
   "cell_type": "code",
   "execution_count": 2,
   "id": "66785455-86c3-4e9a-a35e-4bd3c3f465eb",
   "metadata": {},
   "outputs": [],
   "source": [
    "seed = 2"
   ]
  },
  {
   "cell_type": "markdown",
   "id": "9b31036f-1808-460e-a011-acd675130bb5",
   "metadata": {},
   "source": [
    "# Get Aging Model"
   ]
  },
  {
   "cell_type": "code",
   "execution_count": 3,
   "id": "ba549dc5-0e02-4b8d-aefa-05764dfcfde6",
   "metadata": {},
   "outputs": [],
   "source": [
    "with open(os.path.join(os.getcwd(), 'Aging_Model', 'exp_aging_model.p'), 'rb') as f:\n",
    "    age_generator = pickle.load(f)"
   ]
  },
  {
   "cell_type": "markdown",
   "id": "1026bd3c",
   "metadata": {},
   "source": [
    "# Device"
   ]
  },
  {
   "cell_type": "code",
   "execution_count": 4,
   "id": "b0e91163",
   "metadata": {},
   "outputs": [
    {
     "data": {
      "text/plain": [
       "'cpu'"
      ]
     },
     "execution_count": 4,
     "metadata": {},
     "output_type": "execute_result"
    }
   ],
   "source": [
    "# device = torch.device('cuda' if torch.cuda.is_available() else 'cpu')\n",
    "# device = torch.device('cuda:0')\n",
    "device = 'cpu'\n",
    "device"
   ]
  },
  {
   "cell_type": "markdown",
   "id": "15519567",
   "metadata": {},
   "source": [
    "# Prepare data"
   ]
  },
  {
   "cell_type": "markdown",
   "id": "f224be26-e399-42a8-9c96-e285490e8916",
   "metadata": {},
   "source": [
    "## Dataset"
   ]
  },
  {
   "cell_type": "code",
   "execution_count": 5,
   "id": "92014c65-5b5c-4b61-93ef-30f044282eb3",
   "metadata": {},
   "outputs": [
    {
     "data": {
      "text/plain": [
       "'Seeds'"
      ]
     },
     "execution_count": 5,
     "metadata": {},
     "output_type": "execute_result"
    }
   ],
   "source": [
    "if config.current_dataset is not None:\n",
    "    ds = config.datasets[config.current_dataset]\n",
    "else:\n",
    "    ds = config.datasets[0]\n",
    "\n",
    "ds"
   ]
  },
  {
   "cell_type": "markdown",
   "id": "3f9b925b",
   "metadata": {},
   "source": [
    "## Load data"
   ]
  },
  {
   "cell_type": "code",
   "execution_count": 6,
   "id": "fd3f8c31",
   "metadata": {},
   "outputs": [
    {
     "data": {
      "text/plain": [
       "(torch.Size([210, 7]), torch.Size([210]), 210, 7, 3)"
      ]
     },
     "execution_count": 6,
     "metadata": {},
     "output_type": "execute_result"
    }
   ],
   "source": [
    "datapath = os.path.join(os.getcwd(), 'Datasets',\n",
    "                        'dataset_processed', f'Dataset_{ds}.p')\n",
    "with open(datapath, 'rb') as f:\n",
    "    dataset = pickle.load(f)\n",
    "X = dataset['X'].float()\n",
    "y = dataset['y']\n",
    "\n",
    "E, N_features, N_class = X.shape[0], X.shape[1], torch.max(\n",
    "    torch.unique(y)).item()+1\n",
    "X.shape, y.shape, E, N_features, N_class"
   ]
  },
  {
   "cell_type": "markdown",
   "id": "35adbc19",
   "metadata": {},
   "source": [
    "## Pseudo-electrical Signal"
   ]
  },
  {
   "cell_type": "code",
   "execution_count": 7,
   "id": "ea0969cc",
   "metadata": {},
   "outputs": [
    {
     "data": {
      "text/plain": [
       "(tensor(0.), tensor(1.))"
      ]
     },
     "execution_count": 7,
     "metadata": {},
     "output_type": "execute_result"
    }
   ],
   "source": [
    "X = X - torch.min(X, axis=0)[0]\n",
    "X = X / (torch.max(X, axis=0)[0])\n",
    "torch.min(X), torch.max(X)"
   ]
  },
  {
   "cell_type": "code",
   "execution_count": 8,
   "id": "9d04d54b",
   "metadata": {},
   "outputs": [
    {
     "data": {
      "text/plain": [
       "tensor([[0.4410, 0.5021, 0.5708, 0.4865, 0.4861, 0.1893, 0.3452],\n",
       "        [0.4051, 0.4463, 0.6624, 0.3688, 0.5011, 0.0329, 0.2152],\n",
       "        [0.3494, 0.3471, 0.8793, 0.2207, 0.5039, 0.2515, 0.1507],\n",
       "        [0.3069, 0.3161, 0.7931, 0.2393, 0.5339, 0.1942, 0.1408],\n",
       "        [0.5241, 0.5331, 0.8648, 0.4274, 0.6643, 0.0767, 0.3230],\n",
       "        [0.3579, 0.3719, 0.7895, 0.2742, 0.4861, 0.2206, 0.2152],\n",
       "        [0.3872, 0.4298, 0.6515, 0.3739, 0.4483, 0.3668, 0.3447],\n",
       "        [0.3324, 0.3492, 0.7532, 0.2934, 0.4790, 0.2516, 0.2368],\n",
       "        [0.5704, 0.6302, 0.6044, 0.6498, 0.5952, 0.1658, 0.6686],\n",
       "        [0.5524, 0.5868, 0.7250, 0.5546, 0.6237, 0.1565, 0.4993]])"
      ]
     },
     "execution_count": 8,
     "metadata": {},
     "output_type": "execute_result"
    }
   ],
   "source": [
    "X[:10, :9]"
   ]
  },
  {
   "cell_type": "code",
   "execution_count": 9,
   "id": "6d30ecfc",
   "metadata": {},
   "outputs": [
    {
     "data": {
      "text/plain": [
       "(126, 42, 42)"
      ]
     },
     "execution_count": 9,
     "metadata": {},
     "output_type": "execute_result"
    }
   ],
   "source": [
    "from torch.utils.data import TensorDataset\n",
    "from torch.utils.data import DataLoader\n",
    "from torch.utils.data import random_split\n",
    "\n",
    "# generate tensordataset\n",
    "dataset = TensorDataset(X.to(device), y.to(device))\n",
    "\n",
    "# split\n",
    "train_rate = 0.6\n",
    "valid_rate = 0.2\n",
    "test_rate = 0.2\n",
    "E_train = min(8192, int(E*train_rate))\n",
    "E_valid = min(2048, int(E*valid_rate))\n",
    "E_test = min(2048, int(E*test_rate))\n",
    "\n",
    "\n",
    "random.seed(config.data_split_seed);\n",
    "np.random.seed(config.data_split_seed);\n",
    "torch.manual_seed(config.data_split_seed);\n",
    "\n",
    "train_data, rest_data = random_split(dataset, [E_train, E-E_train])\n",
    "valid_data, rest_data = random_split(rest_data, [E_valid, E-E_train-E_valid])\n",
    "test_data, rest_data = random_split(rest_data, [E_test, E-E_train-E_valid-E_test])\n",
    "\n",
    "len(train_data), len(valid_data), len(test_data)"
   ]
  },
  {
   "cell_type": "code",
   "execution_count": 10,
   "id": "4f8988b7",
   "metadata": {},
   "outputs": [],
   "source": [
    "# batch\n",
    "train_loader = DataLoader(train_data, batch_size=len(train_data))\n",
    "valid_loader = DataLoader(valid_data, batch_size=len(valid_data))\n",
    "test_loader = DataLoader(test_data, batch_size=len(test_data))"
   ]
  },
  {
   "cell_type": "markdown",
   "id": "59ebe567-61eb-4cb0-bbe1-71d8aff12aac",
   "metadata": {},
   "source": [
    "# Aging Aware PNN"
   ]
  },
  {
   "cell_type": "code",
   "execution_count": 11,
   "id": "5d559fbc-09fd-4dbf-9618-18d0cc177fa3",
   "metadata": {},
   "outputs": [],
   "source": [
    "random.seed(seed);\n",
    "np.random.seed(seed);\n",
    "torch.manual_seed(seed);"
   ]
  },
  {
   "cell_type": "code",
   "execution_count": 12,
   "id": "19abcaae",
   "metadata": {},
   "outputs": [
    {
     "data": {
      "text/plain": [
       "Sequential(\n",
       "  (0): PNNLayer()\n",
       "  (1): PNNLayer()\n",
       ")"
      ]
     },
     "execution_count": 12,
     "metadata": {},
     "output_type": "execute_result"
    }
   ],
   "source": [
    "AAPNN = torch.nn.Sequential(pnnv.PNNLayer(N_features, config.Topology, age_generator, xpu=device),\n",
    "                           pnnv.PNNLayer(config.Topology, N_class, age_generator, xpu=device))\n",
    "\n",
    "AAPNN.apply(lambda z: pnnv.MakeModel(z, config.M_train))\n",
    "AAPNN.apply(lambda z: pnnv.SetTime(z, np.random.rand(config.K_train).tolist()))\n",
    "\n",
    "AAPNN.to(device)"
   ]
  },
  {
   "cell_type": "markdown",
   "id": "8b03e98a-fcdf-42a1-8f2b-582657cc47a0",
   "metadata": {},
   "source": [
    "## Reload AAPNN if crash"
   ]
  },
  {
   "cell_type": "code",
   "execution_count": 13,
   "id": "feaf2602-3633-4814-9b13-42c407dba269",
   "metadata": {},
   "outputs": [],
   "source": [
    "# if os.path.exists(f'./temp/{ds}_AAPNN.p'): \n",
    "#     with open(f'./temp/{ds}_AAPNN.p', 'rb') as f:\n",
    "#         AAPNN = pickle.load(f)"
   ]
  },
  {
   "cell_type": "markdown",
   "id": "e65740a1-a29a-48ca-b332-5cc4b0556ca9",
   "metadata": {},
   "source": [
    "## Training"
   ]
  },
  {
   "cell_type": "code",
   "execution_count": 14,
   "id": "6ae4605b-0cb9-4394-afef-d515bebd8a3b",
   "metadata": {},
   "outputs": [
    {
     "data": {
      "application/vnd.jupyter.widget-view+json": {
       "model_id": "e46047710e864412a4c5b443954e9de9",
       "version_major": 2,
       "version_minor": 0
      },
      "text/plain": [
       "  0%|          | 0/1000 [00:00<?, ?it/s]"
      ]
     },
     "metadata": {},
     "output_type": "display_data"
    },
    {
     "name": "stdout",
     "output_type": "stream",
     "text": [
      "| Epoch:     0 | Accuracy: 0.30131 | Loss: 1.171486974 |\n",
      "| Epoch:    50 | Accuracy: 0.88667 | Loss: 0.214382425 |\n",
      "| Epoch:   100 | Accuracy: 0.91714 | Loss: 0.169947088 |\n",
      "| Epoch:   150 | Accuracy: 0.92107 | Loss: 0.161225826 |\n",
      "| Epoch:   200 | Accuracy: 0.91857 | Loss: 0.163570985 |\n",
      "| Epoch:   250 | Accuracy: 0.92036 | Loss: 0.157452300 |\n",
      "| Epoch:   300 | Accuracy: 0.92786 | Loss: 0.147756606 |\n",
      "| Epoch:   350 | Accuracy: 0.90750 | Loss: 0.179217085 |\n",
      "| Epoch:   400 | Accuracy: 0.90762 | Loss: 0.185168952 |\n",
      "| Epoch:   450 | Accuracy: 0.91095 | Loss: 0.167395025 |\n",
      "| Epoch:   500 | Accuracy: 0.89988 | Loss: 0.186286390 |\n",
      "| Epoch:   550 | Accuracy: 0.89595 | Loss: 0.192987487 |\n",
      "| Epoch:   600 | Accuracy: 0.89750 | Loss: 0.201860815 |\n",
      "| Epoch:   650 | Accuracy: 0.89488 | Loss: 0.193613976 |\n",
      "| Epoch:   700 | Accuracy: 0.90690 | Loss: 0.180240378 |\n",
      "| Epoch:   750 | Accuracy: 0.89643 | Loss: 0.191161662 |\n",
      "| Epoch:   800 | Accuracy: 0.90321 | Loss: 0.189423978 |\n",
      "| Epoch:   850 | Accuracy: 0.88845 | Loss: 0.196056306 |\n",
      "| Epoch:   900 | Accuracy: 0.88595 | Loss: 0.196028203 |\n",
      "| Epoch:   950 | Accuracy: 0.90167 | Loss: 0.172600493 |\n",
      "Finished.\n"
     ]
    }
   ],
   "source": [
    "optimizer_AAPNN = torch.optim.Adam(AAPNN.parameters(), lr=config.lr)\n",
    "train_loss_AAPNN, valid_loss_AAPNN, parameter_AAPNN = tv.train_aged_pnn(AAPNN, train_loader, valid_loader,\n",
    "                                        config.m, config.T, config.M_train, config.K_train, config.M_valid, config.K_valid,\n",
    "                                        optimizer_AAPNN, pnnv.LossFunction,\n",
    "                                        Epoch=1000, cache=ds)"
   ]
  },
  {
   "cell_type": "code",
   "execution_count": 15,
   "id": "b8d3302e-4f94-46cc-b31c-4af71c8ab76e",
   "metadata": {},
   "outputs": [
    {
     "data": {
      "text/plain": [
       "(299, 0.14643557369709015)"
      ]
     },
     "execution_count": 15,
     "metadata": {},
     "output_type": "execute_result"
    },
    {
     "data": {
      "image/png": "[encoded data removed]",
      "text/plain": [
       "<Figure size 432x288 with 1 Axes>"
      ]
     },
     "metadata": {
      "needs_background": "light"
     },
     "output_type": "display_data"
    }
   ],
   "source": [
    "plt.plot(train_loss_AAPNN, '-', label='train')\n",
    "plt.plot(valid_loss_AAPNN, '--', label='valid')\n",
    "plt.legend()\n",
    "best = np.argmin(valid_loss_AAPNN)\n",
    "AAPNN.load_state_dict(parameter_AAPNN)\n",
    "best, valid_loss_AAPNN[best]"
   ]
  },
  {
   "cell_type": "markdown",
   "id": "19ad1ac6-b8ec-427c-9b71-a3631c478096",
   "metadata": {},
   "source": [
    "## Save Model"
   ]
  },
  {
   "cell_type": "code",
   "execution_count": 16,
   "id": "0d491031",
   "metadata": {},
   "outputs": [],
   "source": [
    "with open(f'./result/topology/6{config.Topology}3/{ds}_AAPNN_{seed}.p', 'wb') as f:\n",
    "    pickle.dump(AAPNN, f)"
   ]
  },
  {
   "cell_type": "code",
   "execution_count": null,
   "id": "b289dd6c-aa67-44d0-b9d9-6f306e73d96f",
   "metadata": {},
   "outputs": [],
   "source": []
  }
 ],
 "metadata": {
  "kernelspec": {
   "display_name": "MachineLearning",
   "language": "python",
   "name": "machinelearning"
  },
  "language_info": {
   "codemirror_mode": {
    "name": "ipython",
    "version": 3
   },
   "file_extension": ".py",
   "mimetype": "text/x-python",
   "name": "python",
   "nbconvert_exporter": "python",
   "pygments_lexer": "ipython3",
   "version": "3.8.12"
  },
  "toc": {
   "base_numbering": 1,
   "nav_menu": {},
   "number_sections": true,
   "sideBar": true,
   "skip_h1_title": false,
   "title_cell": "Table of Contents",
   "title_sidebar": "Contents",
   "toc_cell": false,
   "toc_position": {},
   "toc_section_display": true,
   "toc_window_display": true
  }
 },
 "nbformat": 4,
 "nbformat_minor": 5
}
