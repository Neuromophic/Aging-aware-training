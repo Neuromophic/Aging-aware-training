{
 "cells": [
  {
   "cell_type": "markdown",
   "id": "e0f1319a",
   "metadata": {},
   "source": [
    "# Random Guess for Classification\n",
    "In this part, we just take the most frequent class in train+valid set as our guess."
   ]
  },
  {
   "cell_type": "markdown",
   "id": "eab183f8",
   "metadata": {},
   "source": [
    "# Import library"
   ]
  },
  {
   "cell_type": "code",
   "execution_count": 1,
   "id": "0bc40b33",
   "metadata": {},
   "outputs": [],
   "source": [
    "import importlib\n",
    "import pickle\n",
    "import os\n",
    "import torch\n",
    "import sys\n",
    "import matplotlib.pyplot as plt\n",
    "import numpy as np\n",
    "import random\n",
    "import config\n",
    "sys.path.append(os.path.join(os.getcwd(), 'Aging_Model'))"
   ]
  },
  {
   "cell_type": "markdown",
   "id": "15519567",
   "metadata": {},
   "source": [
    "# Prepare data"
   ]
  },
  {
   "cell_type": "markdown",
   "id": "f224be26-e399-42a8-9c96-e285490e8916",
   "metadata": {},
   "source": [
    "## Dataset"
   ]
  },
  {
   "cell_type": "code",
   "execution_count": 2,
   "id": "92014c65-5b5c-4b61-93ef-30f044282eb3",
   "metadata": {},
   "outputs": [
    {
     "data": {
      "text/plain": [
       "'VertebralColumn_c3'"
      ]
     },
     "execution_count": 2,
     "metadata": {},
     "output_type": "execute_result"
    }
   ],
   "source": [
    "if config.current_dataset is not None:\n",
    "    ds = config.datasets[config.current_dataset]\n",
    "else:\n",
    "    ds = config.datasets[0]\n",
    "\n",
    "ds"
   ]
  },
  {
   "cell_type": "markdown",
   "id": "3f9b925b",
   "metadata": {},
   "source": [
    "## Load data"
   ]
  },
  {
   "cell_type": "code",
   "execution_count": 3,
   "id": "fd3f8c31",
   "metadata": {},
   "outputs": [
    {
     "data": {
      "text/plain": [
       "(torch.Size([310, 6]), torch.Size([310]), 310, 6, 3)"
      ]
     },
     "execution_count": 3,
     "metadata": {},
     "output_type": "execute_result"
    }
   ],
   "source": [
    "datapath = os.path.join(os.getcwd(), 'Datasets',\n",
    "                        'dataset_processed', f'Dataset_{ds}.p')\n",
    "with open(datapath, 'rb') as f:\n",
    "    dataset = pickle.load(f)\n",
    "X = dataset['X'].float()\n",
    "y = dataset['y']\n",
    "\n",
    "E, N_features, N_class = X.shape[0], X.shape[1], torch.max(\n",
    "    torch.unique(y)).item()+1\n",
    "X.shape, y.shape, E, N_features, N_class"
   ]
  },
  {
   "cell_type": "markdown",
   "id": "35adbc19",
   "metadata": {},
   "source": [
    "## Pseudo-electrical Signal"
   ]
  },
  {
   "cell_type": "code",
   "execution_count": 4,
   "id": "ea0969cc",
   "metadata": {},
   "outputs": [
    {
     "data": {
      "text/plain": [
       "(tensor(0.), tensor(1.))"
      ]
     },
     "execution_count": 4,
     "metadata": {},
     "output_type": "execute_result"
    }
   ],
   "source": [
    "X = X - torch.min(X, axis=0)[0]\n",
    "X = X / (torch.max(X, axis=0)[0])\n",
    "torch.min(X), torch.max(X)"
   ]
  },
  {
   "cell_type": "code",
   "execution_count": 5,
   "id": "9d04d54b",
   "metadata": {},
   "outputs": [
    {
     "data": {
      "text/plain": [
       "tensor([[0.3557, 0.5198, 0.2292, 0.2509, 0.3075, 0.0252],\n",
       "        [0.1245, 0.2967, 0.0986, 0.1446, 0.4767, 0.0364],\n",
       "        [0.4117, 0.5139, 0.3230, 0.3076, 0.3862, 0.0175],\n",
       "        [0.4162, 0.5573, 0.2713, 0.2894, 0.3419, 0.0518],\n",
       "        [0.2272, 0.2894, 0.1282, 0.2470, 0.4096, 0.0442],\n",
       "        [0.1360, 0.3657, 0.0995, 0.1199, 0.6479, 0.0309],\n",
       "        [0.2631, 0.4003, 0.2074, 0.2239, 0.5430, 0.0397],\n",
       "        [0.1854, 0.3092, 0.1346, 0.1966, 0.5075, 0.0009],\n",
       "        [0.1701, 0.3587, 0.2568, 0.1563, 0.5906, 0.0567],\n",
       "        [0.1017, 0.2065, 0.2501, 0.1694, 0.1523, 0.0273]])"
      ]
     },
     "execution_count": 5,
     "metadata": {},
     "output_type": "execute_result"
    }
   ],
   "source": [
    "X[:10, :9]"
   ]
  },
  {
   "cell_type": "code",
   "execution_count": 6,
   "id": "6d30ecfc",
   "metadata": {},
   "outputs": [
    {
     "data": {
      "text/plain": [
       "(186, 62, 62)"
      ]
     },
     "execution_count": 6,
     "metadata": {},
     "output_type": "execute_result"
    }
   ],
   "source": [
    "from torch.utils.data import TensorDataset\n",
    "from torch.utils.data import DataLoader\n",
    "from torch.utils.data import random_split\n",
    "\n",
    "# generate tensordataset\n",
    "dataset = TensorDataset(y)\n",
    "\n",
    "# split\n",
    "train_rate = 0.6\n",
    "test_rate = 0.2\n",
    "valid_rate = 0.2\n",
    "E_train = min(8192, int(E*train_rate))\n",
    "E_test = min(2048, int(E*test_rate))\n",
    "E_valid = min(2048, int(E*valid_rate))\n",
    "\n",
    "random.seed(config.data_split_seed);\n",
    "np.random.seed(config.data_split_seed);\n",
    "torch.manual_seed(config.data_split_seed);\n",
    "\n",
    "train_data, rest_data = random_split(dataset, [E_train, E-E_train])\n",
    "test_data, rest_data = random_split(rest_data, [E_test, E-E_train-E_test])\n",
    "valid_data, rest_data = random_split(rest_data, [E_valid, E-E_train-E_test-E_valid])\n",
    "\n",
    "len(train_data), len(test_data), len(valid_data)"
   ]
  },
  {
   "cell_type": "code",
   "execution_count": 7,
   "id": "0d491031",
   "metadata": {},
   "outputs": [
    {
     "data": {
      "text/plain": [
       "array([2, 2, 2, 2, 1, 0, 2, 0, 1, 1, 2, 0, 1, 2, 2, 2, 2, 0, 2, 1, 2, 0,\n",
       "       1, 1, 2, 1, 1, 0, 2, 0, 0, 1, 2, 2, 2, 2, 2, 0, 1, 2, 2, 2, 0, 2,\n",
       "       2, 2, 2, 2, 2, 2, 2, 2, 2, 2, 2, 1, 0, 1, 2, 0, 1, 2, 2, 0, 0, 0,\n",
       "       2, 2, 2, 1, 1, 2, 2, 2, 2, 2, 1, 1, 2, 1, 2, 1, 2, 2, 1, 2, 1, 2,\n",
       "       2, 0, 0, 2, 1, 0, 2, 1, 2, 2, 0, 2, 0, 0, 1, 2, 1, 0, 0, 2, 2, 1,\n",
       "       2, 1, 2, 2, 1, 2, 2, 0, 1, 1, 1, 2, 2, 1, 0, 2, 1, 1, 2, 1, 2, 1,\n",
       "       2, 1, 2, 0, 1, 2, 0, 0, 2, 1, 1, 2, 1, 2, 2, 2, 2, 1, 2, 2, 1, 0,\n",
       "       1, 2, 2, 2, 0, 0, 1, 1, 2, 2, 1, 2, 2, 1, 0, 0, 0, 1, 1, 1, 0, 1,\n",
       "       0, 2, 1, 0, 2, 2, 2, 1, 1, 2, 0, 1, 2, 2, 2, 0, 2, 2, 2, 1, 2, 2,\n",
       "       2, 2, 2, 2, 1, 1, 2, 2, 2, 2, 2, 1, 1, 1, 1, 2, 2, 1, 0, 1, 2, 2,\n",
       "       2, 1, 2, 2, 2, 2, 1, 2, 2, 1, 1, 1, 1, 0, 0, 2, 2, 2, 0, 1, 0, 0,\n",
       "       1, 1, 1, 1, 0, 2])"
      ]
     },
     "execution_count": 7,
     "metadata": {},
     "output_type": "execute_result"
    }
   ],
   "source": [
    "train_data = train_data + test_data\n",
    "train_data = np.array([data[0].item() for data in train_data])\n",
    "train_data"
   ]
  },
  {
   "cell_type": "code",
   "execution_count": 8,
   "id": "c322f096-d8ef-4841-8265-b43ce5ee271e",
   "metadata": {},
   "outputs": [
    {
     "data": {
      "text/plain": [
       "array([ 46,  77, 125])"
      ]
     },
     "execution_count": 8,
     "metadata": {},
     "output_type": "execute_result"
    }
   ],
   "source": [
    "frequence = np.histogram(train_data, bins=N_class)[0]\n",
    "frequence"
   ]
  },
  {
   "cell_type": "code",
   "execution_count": 9,
   "id": "0efa8619-ceb4-4a03-8f29-0bb84147c200",
   "metadata": {},
   "outputs": [
    {
     "data": {
      "text/plain": [
       "array([0., 1., 2.])"
      ]
     },
     "execution_count": 9,
     "metadata": {},
     "output_type": "execute_result"
    }
   ],
   "source": [
    "label = np.histogram(train_data, bins=N_class-1)[1]\n",
    "label"
   ]
  },
  {
   "cell_type": "code",
   "execution_count": 10,
   "id": "d1fd605e-b3d4-4e70-8fb9-3276d092f94d",
   "metadata": {},
   "outputs": [
    {
     "data": {
      "text/plain": [
       "2"
      ]
     },
     "execution_count": 10,
     "metadata": {},
     "output_type": "execute_result"
    }
   ],
   "source": [
    "guess = int(label[np.argmax(frequence)])\n",
    "guess"
   ]
  },
  {
   "cell_type": "code",
   "execution_count": 11,
   "id": "6ab8e54d-c530-49fe-85f4-9c454743f53d",
   "metadata": {},
   "outputs": [
    {
     "data": {
      "text/plain": [
       "array([2., 2., 2., 2., 2., 2., 2., 2., 2., 2., 2., 2., 2., 2., 2., 2., 2.,\n",
       "       2., 2., 2., 2., 2., 2., 2., 2., 2., 2., 2., 2., 2., 2., 2., 2., 2.,\n",
       "       2., 2., 2., 2., 2., 2., 2., 2., 2., 2., 2., 2., 2., 2., 2., 2., 2.,\n",
       "       2., 2., 2., 2., 2., 2., 2., 2., 2., 2., 2.])"
      ]
     },
     "execution_count": 11,
     "metadata": {},
     "output_type": "execute_result"
    }
   ],
   "source": [
    "Guess = np.ones(len(valid_data)) * guess\n",
    "Guess"
   ]
  },
  {
   "cell_type": "code",
   "execution_count": 12,
   "id": "56361a65-577f-4737-b467-245cea6fcdc0",
   "metadata": {},
   "outputs": [
    {
     "data": {
      "text/plain": [
       "array([2, 0, 1, 2, 0, 0, 1, 2, 1, 2, 1, 2, 0, 1, 1, 0, 1, 1, 2, 0, 2, 0,\n",
       "       1, 2, 2, 1, 2, 0, 0, 1, 2, 0, 2, 2, 1, 1, 2, 2, 2, 2, 2, 1, 1, 1,\n",
       "       0, 0, 2, 2, 2, 0, 1, 1, 1, 1, 0, 1, 2, 2, 1, 2, 1, 2])"
      ]
     },
     "execution_count": 12,
     "metadata": {},
     "output_type": "execute_result"
    }
   ],
   "source": [
    "Label = np.array([data[0].item() for data in valid_data])\n",
    "Label"
   ]
  },
  {
   "cell_type": "code",
   "execution_count": 13,
   "id": "deb22809-9b14-4207-b76b-bb23b6d07aeb",
   "metadata": {},
   "outputs": [
    {
     "data": {
      "text/plain": [
       "0.4032258064516129"
      ]
     },
     "execution_count": 13,
     "metadata": {},
     "output_type": "execute_result"
    }
   ],
   "source": [
    "ACC = np.sum(Label==Guess) / Label.shape[0]\n",
    "ACC"
   ]
  },
  {
   "cell_type": "code",
   "execution_count": 14,
   "id": "5c2292c1-ceac-438d-a766-de6babe2919b",
   "metadata": {},
   "outputs": [],
   "source": [
    "path = os.path.join(os.getcwd(), 'result', 'figures', 'RandomGuess')"
   ]
  },
  {
   "cell_type": "code",
   "execution_count": 15,
   "id": "7f2c058a-018e-4936-882b-7f6d2d1cfbae",
   "metadata": {},
   "outputs": [],
   "source": [
    "np.savetxt(f'{path}/{ds}_{int(ACC*1000)}.txt', [ACC])"
   ]
  },
  {
   "cell_type": "code",
   "execution_count": null,
   "id": "b270baa3-dc1e-49c2-83c2-ad9fecf3d57f",
   "metadata": {},
   "outputs": [],
   "source": []
  }
 ],
 "metadata": {
  "kernelspec": {
   "display_name": "MachineLearning",
   "language": "python",
   "name": "machinelearning"
  },
  "language_info": {
   "codemirror_mode": {
    "name": "ipython",
    "version": 3
   },
   "file_extension": ".py",
   "mimetype": "text/x-python",
   "name": "python",
   "nbconvert_exporter": "python",
   "pygments_lexer": "ipython3",
   "version": "3.8.12"
  },
  "toc": {
   "base_numbering": 1,
   "nav_menu": {},
   "number_sections": true,
   "sideBar": true,
   "skip_h1_title": false,
   "title_cell": "Table of Contents",
   "title_sidebar": "Contents",
   "toc_cell": false,
   "toc_position": {},
   "toc_section_display": true,
   "toc_window_display": true
  }
 },
 "nbformat": 4,
 "nbformat_minor": 5
}
