{
 "cells": [
  {
   "cell_type": "code",
   "execution_count": 1,
   "id": "db15e4b3",
   "metadata": {},
   "outputs": [],
   "source": [
    "from torch.autograd import Variable\n",
    "import torch\n",
    "import pickle\n",
    "import os\n",
    "import sys\n",
    "import matplotlib.pyplot as plt\n",
    "import numpy as np\n",
    "import evaluation_vectorization as ev\n",
    "import random\n",
    "sys.path.append(os.path.join(os.getcwd(), 'Aging_Model'))"
   ]
  },
  {
   "cell_type": "markdown",
   "id": "e3478ee7-de92-4ae9-96bd-6440d1a88374",
   "metadata": {},
   "source": [
    "# Random Seed"
   ]
  },
  {
   "cell_type": "code",
   "execution_count": 2,
   "id": "3c0929ba-c870-454b-9204-ce7727b5c705",
   "metadata": {},
   "outputs": [],
   "source": [
    "seed = 4\n",
    "\n",
    "random.seed(seed);\n",
    "np.random.seed(seed);\n",
    "torch.manual_seed(seed);"
   ]
  },
  {
   "cell_type": "markdown",
   "id": "6ee1997d-b1eb-473b-9ade-ebcc8cc39364",
   "metadata": {},
   "source": [
    "# Device"
   ]
  },
  {
   "cell_type": "code",
   "execution_count": 3,
   "id": "736bb529-3d35-484b-b44c-6810ec362bd2",
   "metadata": {},
   "outputs": [
    {
     "data": {
      "text/plain": [
       "device(type='cuda', index=3)"
      ]
     },
     "execution_count": 3,
     "metadata": {},
     "output_type": "execute_result"
    }
   ],
   "source": [
    "device = torch.device('cuda' if torch.cuda.is_available() else 'cpu')\n",
    "device = torch.device('cuda:3')\n",
    "device"
   ]
  },
  {
   "cell_type": "markdown",
   "id": "ee6997e0-dc56-4a5d-8d5e-fae1243e9f77",
   "metadata": {},
   "source": [
    "# Dataset"
   ]
  },
  {
   "cell_type": "code",
   "execution_count": 4,
   "id": "63ddb1ed-59cf-4fe1-ae3f-48be2a3e908d",
   "metadata": {},
   "outputs": [],
   "source": [
    "ds = 'Yeast'"
   ]
  },
  {
   "cell_type": "code",
   "execution_count": 5,
   "id": "ee64d8d7",
   "metadata": {},
   "outputs": [
    {
     "data": {
      "text/plain": [
       "(torch.Size([1484, 8]), torch.Size([1484]), 1484, 8, 10)"
      ]
     },
     "execution_count": 5,
     "metadata": {},
     "output_type": "execute_result"
    }
   ],
   "source": [
    "datapath = os.path.join(os.getcwd(), 'Datasets', 'Haibin',\n",
    "                        'data_processed', f'Dataset_{ds}.p')\n",
    "with open(datapath, 'rb') as f:\n",
    "    dataset = pickle.load(f)\n",
    "X = dataset['X'].float()\n",
    "y = dataset['y']\n",
    "E, N_features, N_class = X.shape[0], X.shape[1], torch.max(\n",
    "    torch.unique(y)).item()+1\n",
    "X.shape, y.shape, E, N_features, N_class"
   ]
  },
  {
   "cell_type": "markdown",
   "id": "bddc925e-6683-4136-b459-29eda4e3544c",
   "metadata": {},
   "source": [
    "## Pseudo-electrical Signal"
   ]
  },
  {
   "cell_type": "code",
   "execution_count": 6,
   "id": "dd09c7a5",
   "metadata": {},
   "outputs": [
    {
     "data": {
      "text/plain": [
       "(tensor(0.), tensor(1.))"
      ]
     },
     "execution_count": 6,
     "metadata": {},
     "output_type": "execute_result"
    }
   ],
   "source": [
    "# normalization\n",
    "X = X / (torch.max(X, axis=0)[0] - torch.min(X, axis=0)[0])\n",
    "X = X - torch.min(X, axis=0)[0]\n",
    "torch.min(X), torch.max(X)"
   ]
  },
  {
   "cell_type": "code",
   "execution_count": 7,
   "id": "bad80729",
   "metadata": {},
   "outputs": [
    {
     "data": {
      "text/plain": [
       "(890, 296, 296)"
      ]
     },
     "execution_count": 7,
     "metadata": {},
     "output_type": "execute_result"
    }
   ],
   "source": [
    "from torch.utils.data import TensorDataset\n",
    "from torch.utils.data import DataLoader\n",
    "from torch.utils.data import random_split\n",
    "\n",
    "# generate tensordataset\n",
    "dataset = TensorDataset(X.to(device), y.to(device))\n",
    "\n",
    "# split\n",
    "train_rate = 0.6\n",
    "test_rate = 0.2\n",
    "valid_rate = 0.2\n",
    "E_train = min(4096, int(E*train_rate))\n",
    "E_test = min(1024, int(E*test_rate))\n",
    "E_valid = min(1024, int(E*valid_rate))\n",
    "\n",
    "train_data, rest_data = random_split(dataset, [E_train, E-E_train])\n",
    "test_data, rest_data = random_split(rest_data, [E_test, E-E_train-E_test])\n",
    "valid_data, rest_data = random_split(rest_data, [E_valid, E-E_train-E_test-E_valid])\n",
    "\n",
    "len(train_data), len(test_data), len(valid_data)"
   ]
  },
  {
   "cell_type": "code",
   "execution_count": 8,
   "id": "dbe0bdeb",
   "metadata": {},
   "outputs": [],
   "source": [
    "# batch\n",
    "train_loader = DataLoader(train_data, batch_size=len(train_data))\n",
    "test_loader = DataLoader(test_data, batch_size=len(test_data))\n",
    "valid_loader = DataLoader(valid_data, batch_size=len(valid_data))"
   ]
  },
  {
   "cell_type": "code",
   "execution_count": 9,
   "id": "f4117777",
   "metadata": {},
   "outputs": [],
   "source": [
    "M_valid = 500\n",
    "K_valid = 50"
   ]
  },
  {
   "cell_type": "markdown",
   "id": "e0d84ed3",
   "metadata": {},
   "source": [
    "# Evaluation"
   ]
  },
  {
   "cell_type": "markdown",
   "id": "ba9299f5-ed31-46e2-991f-e69004f47608",
   "metadata": {},
   "source": [
    "## Load Models"
   ]
  },
  {
   "cell_type": "code",
   "execution_count": 10,
   "id": "ca1718fb-84ee-49e8-97f0-813b548951cd",
   "metadata": {},
   "outputs": [
    {
     "data": {
      "text/plain": [
       "Sequential(\n",
       "  (0): Linear(in_features=8, out_features=5, bias=True)\n",
       "  (1): Tanh()\n",
       "  (2): Linear(in_features=5, out_features=10, bias=True)\n",
       "  (3): Tanh()\n",
       ")"
      ]
     },
     "execution_count": 10,
     "metadata": {},
     "output_type": "execute_result"
    }
   ],
   "source": [
    "with open(f'./result/{ds}_NN_{seed}.p', 'rb') as f:\n",
    "    NN = pickle.load(f)\n",
    "NN.to(device)"
   ]
  },
  {
   "cell_type": "code",
   "execution_count": 11,
   "id": "391d962c-56b7-4e21-9b95-06a234564425",
   "metadata": {},
   "outputs": [
    {
     "data": {
      "text/plain": [
       "Sequential(\n",
       "  (0): PNNLayer()\n",
       "  (1): PNNLayer()\n",
       ")"
      ]
     },
     "execution_count": 11,
     "metadata": {},
     "output_type": "execute_result"
    }
   ],
   "source": [
    "with open(f'./result/{ds}_PNN_{seed}.p', 'rb') as f:\n",
    "    PNN = pickle.load(f)\n",
    "PNN.to(device)"
   ]
  },
  {
   "cell_type": "code",
   "execution_count": 12,
   "id": "c10b43e8-d28d-4460-b4b5-24958954899d",
   "metadata": {},
   "outputs": [
    {
     "data": {
      "text/plain": [
       "Sequential(\n",
       "  (0): PNNLayer()\n",
       "  (1): PNNLayer()\n",
       ")"
      ]
     },
     "execution_count": 12,
     "metadata": {},
     "output_type": "execute_result"
    }
   ],
   "source": [
    "with open(f'./result/{ds}_AAPNN_{seed}.p', 'rb') as f:\n",
    "    AAPNN = pickle.load(f)\n",
    "AAPNN.to(device)"
   ]
  },
  {
   "cell_type": "markdown",
   "id": "877dab20-fa7d-4d34-ae02-ea1d4bd55f6c",
   "metadata": {},
   "source": [
    "# Get Structure"
   ]
  },
  {
   "cell_type": "code",
   "execution_count": 13,
   "id": "9ac5d418-6cee-4579-9542-2079e165eee1",
   "metadata": {},
   "outputs": [
    {
     "data": {
      "text/plain": [
       "('_8_5_10', '_8_5_10', '_8_5_10')"
      ]
     },
     "execution_count": 13,
     "metadata": {},
     "output_type": "execute_result"
    }
   ],
   "source": [
    "structure_NN = ev.GetStructure(NN)\n",
    "structure_PNN = ev.GetStructure(PNN)\n",
    "structure_AAPNN = ev.GetStructure(AAPNN)\n",
    "structure_NN, structure_PNN, structure_AAPNN"
   ]
  },
  {
   "cell_type": "code",
   "execution_count": 14,
   "id": "43b70f65-f28b-4162-9c42-1080fceeccbe",
   "metadata": {},
   "outputs": [
    {
     "data": {
      "text/plain": [
       "'_8_5_10'"
      ]
     },
     "execution_count": 14,
     "metadata": {},
     "output_type": "execute_result"
    }
   ],
   "source": [
    "if (structure_NN == structure_PNN) and (structure_NN == structure_AAPNN):\n",
    "    structure = structure_NN\n",
    "structure"
   ]
  },
  {
   "cell_type": "markdown",
   "id": "60c1b650-21b3-4e21-9ad2-164e0ce05f45",
   "metadata": {},
   "source": [
    "## Evaluation"
   ]
  },
  {
   "cell_type": "code",
   "execution_count": 15,
   "id": "4b64c4f4-8984-4bf6-b096-ebbbf23b0913",
   "metadata": {},
   "outputs": [
    {
     "data": {
      "text/plain": [
       "0.527027027027027"
      ]
     },
     "execution_count": 15,
     "metadata": {},
     "output_type": "execute_result"
    }
   ],
   "source": [
    "for x_valid, y_valid in valid_loader:\n",
    "    prediction_valid = NN(x_valid)\n",
    "    p = torch.argmax(prediction_valid, 1)\n",
    "    pred_y = p.cpu().data.numpy().squeeze()\n",
    "    acc_valid = sum(pred_y == y_valid.cpu().numpy()) / y_valid.shape[0]\n",
    "\n",
    "np.savetxt(f'./result/{ds}_NN{structure}_{seed}.txt', acc_valid.reshape(1,1))\n",
    "acc_valid"
   ]
  },
  {
   "cell_type": "code",
   "execution_count": 16,
   "id": "743bbd23-28db-4ead-9eb4-20864eeabf2a",
   "metadata": {},
   "outputs": [
    {
     "data": {
      "application/vnd.jupyter.widget-view+json": {
       "model_id": "1828f22b43ef40e5bd298335ad491c55",
       "version_major": 2,
       "version_minor": 0
      },
      "text/plain": [
       "  0%|          | 0/5 [00:00<?, ?it/s]"
      ]
     },
     "metadata": {},
     "output_type": "display_data"
    }
   ],
   "source": [
    "mean_acc_PNN, std_acc_PNN, mean_maa_PNN, std_maa_PNN = ev.Evaluation(PNN, valid_loader, M_valid, 100, K_valid, device)"
   ]
  },
  {
   "cell_type": "code",
   "execution_count": 17,
   "id": "c6c00130-4513-460f-8f65-e35272962726",
   "metadata": {},
   "outputs": [
    {
     "data": {
      "application/vnd.jupyter.widget-view+json": {
       "model_id": "1dc7436fb7de44189590f26929290ed5",
       "version_major": 2,
       "version_minor": 0
      },
      "text/plain": [
       "  0%|          | 0/5 [00:00<?, ?it/s]"
      ]
     },
     "metadata": {},
     "output_type": "display_data"
    }
   ],
   "source": [
    "mean_acc_AAPNN, std_acc_AAPNN, mean_maa_AAPNN, std_maa_AAPNN = ev.Evaluation(AAPNN, valid_loader, M_valid, 100, K_valid, device)"
   ]
  },
  {
   "cell_type": "markdown",
   "id": "ff05d15b-e601-43f5-8a40-468a8170db07",
   "metadata": {},
   "source": [
    "# Visualization"
   ]
  },
  {
   "cell_type": "code",
   "execution_count": 18,
   "id": "8152ff21-5c06-4afd-81df-aa68a64f2182",
   "metadata": {},
   "outputs": [
    {
     "data": {
      "image/png": "[encoded data removed]",
      "text/plain": [
       "<Figure size 432x288 with 1 Axes>"
      ]
     },
     "metadata": {
      "needs_background": "light"
     },
     "output_type": "display_data"
    }
   ],
   "source": [
    "plt.fill_between(np.linspace(0,1,50), mean_acc_PNN-std_acc_PNN, mean_acc_PNN+std_acc_PNN, alpha=0.3, color='blue');\n",
    "plt.fill_between(np.linspace(0,1,50), mean_acc_AAPNN-std_acc_AAPNN, mean_acc_AAPNN+std_acc_AAPNN, alpha=0.3, color='red');\n",
    "\n",
    "plt.plot(np.linspace(0,1,50), mean_acc_PNN, label='PNN', color='blue');\n",
    "plt.plot(np.linspace(0,1,50), mean_acc_AAPNN, label='AAPNN', color='red');\n",
    "\n",
    "plt.title(f'{ds} {seed}')\n",
    "plt.xlabel('Normalized time');\n",
    "plt.ylabel('Basic accuracy');\n",
    "plt.xlim([0, 1]);\n",
    "plt.ylim([max([0, 0.9*min([min(mean_acc_PNN-std_acc_PNN), min(mean_acc_AAPNN-std_acc_AAPNN)])]),\n",
    "          min([1, 1.05*max([max(mean_acc_PNN+std_acc_PNN), max(mean_acc_AAPNN+std_acc_AAPNN)])])]);\n",
    "plt.legend();\n",
    "plt.savefig(f'./result/{ds}_ACC{structure}_{seed}.pdf', format='pdf')"
   ]
  },
  {
   "cell_type": "code",
   "execution_count": 19,
   "id": "a0765bcd-6edc-4796-87ee-a1eade6644c5",
   "metadata": {},
   "outputs": [
    {
     "data": {
      "image/png": "[encoded data removed]",
      "text/plain": [
       "<Figure size 432x288 with 1 Axes>"
      ]
     },
     "metadata": {
      "needs_background": "light"
     },
     "output_type": "display_data"
    }
   ],
   "source": [
    "plt.fill_between(np.linspace(0,1,50), mean_maa_PNN-std_maa_PNN, mean_maa_PNN+std_maa_PNN, alpha=0.3, color='blue');\n",
    "plt.fill_between(np.linspace(0,1,50), mean_maa_AAPNN-std_maa_AAPNN, mean_maa_AAPNN+std_maa_AAPNN, alpha=0.3, color='red');\n",
    "\n",
    "plt.plot(np.linspace(0,1,50), mean_maa_PNN, label='PNN', color='blue');\n",
    "plt.plot(np.linspace(0,1,50), mean_maa_AAPNN, label='AAPNN', color='red');\n",
    "\n",
    "plt.title(f'{ds} {seed}')\n",
    "plt.xlabel('Normalized time');\n",
    "plt.ylabel('Measureing aware accuracy');\n",
    "plt.xlim([0, 1]);\n",
    "plt.ylim([max([0, 0.9*min([min(mean_maa_PNN-std_maa_PNN), min(mean_maa_AAPNN-std_maa_AAPNN)])]),\n",
    "          min([1, 1.05*max([max(mean_maa_PNN+std_maa_PNN), max(mean_maa_AAPNN+std_maa_AAPNN)])])]);\n",
    "plt.legend();\n",
    "plt.savefig(f'./result/{ds}_MAA{structure}_{seed}.pdf', format='pdf')"
   ]
  },
  {
   "cell_type": "code",
   "execution_count": null,
   "id": "35d473b7-ca65-44ff-aca1-8c48739c9e47",
   "metadata": {},
   "outputs": [],
   "source": []
  }
 ],
 "metadata": {
  "kernelspec": {
   "display_name": "MachineLearning",
   "language": "python",
   "name": "machinelearning"
  },
  "language_info": {
   "codemirror_mode": {
    "name": "ipython",
    "version": 3
   },
   "file_extension": ".py",
   "mimetype": "text/x-python",
   "name": "python",
   "nbconvert_exporter": "python",
   "pygments_lexer": "ipython3",
   "version": "3.8.12"
  },
  "toc": {
   "base_numbering": 1,
   "nav_menu": {},
   "number_sections": true,
   "sideBar": true,
   "skip_h1_title": false,
   "title_cell": "Table of Contents",
   "title_sidebar": "Contents",
   "toc_cell": false,
   "toc_position": {},
   "toc_section_display": true,
   "toc_window_display": false
  }
 },
 "nbformat": 4,
 "nbformat_minor": 5
}
